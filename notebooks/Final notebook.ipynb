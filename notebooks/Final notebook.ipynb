{
 "cells": [
  {
   "cell_type": "code",
   "execution_count": 2,
   "metadata": {},
   "outputs": [
    {
     "ename": "TraitError",
     "evalue": "The 'model' trait of an AppWindow instance must be an IModel or None, but a value of [<bmcs_beam.bending.deflection_profile.DeflectionProfile object at 0x000002874BFB7FA8>, <bmcs_beam.beam_config.beam_design.BeamDesign object at 0x000002874BFB7EE8>, <bmcs_cross_section.mkappa.mkappa.MKappa object at 0x00000287465E3AC8>, <bmcs_cross_section.cs_design.cs_layout.CrossSectionLayout object at 0x000002874BEFC888>, <bmcs_cross_section.cs_design.cs_shape.Rectangle object at 0x000002874BEFC768>, <bmcs_cross_section.cs_design.cs_layout.Matrix object at 0x000002874BEFCAC8>, <bmcs_cross_section.cs_design.cs_layout.CrossSectionLayout object at 0x000002874BEFC888>] <class 'list'> was specified.",
     "output_type": "error",
     "traceback": [
      "\u001b[1;31m---------------------------------------------------------------------------\u001b[0m",
      "\u001b[1;31mTraitError\u001b[0m                                Traceback (most recent call last)",
      "\u001b[1;32m<ipython-input-2-78a63e1bf110>\u001b[0m in \u001b[0;36m<module>\u001b[1;34m\u001b[0m\n\u001b[0;32m     46\u001b[0m                       \u001b[0mdp\u001b[0m\u001b[1;33m.\u001b[0m\u001b[0mmc\u001b[0m\u001b[1;33m.\u001b[0m\u001b[0mcross_section_layout\u001b[0m\u001b[1;33m.\u001b[0m\u001b[0mmatrix\u001b[0m\u001b[1;33m,\u001b[0m\u001b[1;33m\u001b[0m\u001b[1;33m\u001b[0m\u001b[0m\n\u001b[0;32m     47\u001b[0m                       dp.mc.cross_section_layout],\n\u001b[1;32m---> 48\u001b[1;33m                       tight_layout=True).interact()\n\u001b[0m\u001b[0;32m     49\u001b[0m \u001b[1;33m\u001b[0m\u001b[0m\n\u001b[0;32m     50\u001b[0m \u001b[1;31m# M = dp.beam_design.get_M_x()\u001b[0m\u001b[1;33m\u001b[0m\u001b[1;33m\u001b[0m\u001b[1;33m\u001b[0m\u001b[0m\n",
      "\u001b[1;32md:\\imb\\pycharm_workspace\\bmcs_utils\\bmcs_utils\\app_window.py\u001b[0m in \u001b[0;36m__init__\u001b[1;34m(self, model, **kw)\u001b[0m\n\u001b[0;32m     87\u001b[0m     \u001b[1;32mdef\u001b[0m \u001b[0m__init__\u001b[0m\u001b[1;33m(\u001b[0m\u001b[0mself\u001b[0m\u001b[1;33m,\u001b[0m \u001b[0mmodel\u001b[0m\u001b[1;33m,\u001b[0m \u001b[1;33m**\u001b[0m\u001b[0mkw\u001b[0m\u001b[1;33m)\u001b[0m\u001b[1;33m:\u001b[0m\u001b[1;33m\u001b[0m\u001b[1;33m\u001b[0m\u001b[0m\n\u001b[0;32m     88\u001b[0m         \u001b[0msuper\u001b[0m\u001b[1;33m(\u001b[0m\u001b[0mAppWindow\u001b[0m\u001b[1;33m,\u001b[0m \u001b[0mself\u001b[0m\u001b[1;33m)\u001b[0m\u001b[1;33m.\u001b[0m\u001b[0m__init__\u001b[0m\u001b[1;33m(\u001b[0m\u001b[1;33m**\u001b[0m\u001b[0mkw\u001b[0m\u001b[1;33m)\u001b[0m\u001b[1;33m\u001b[0m\u001b[1;33m\u001b[0m\u001b[0m\n\u001b[1;32m---> 89\u001b[1;33m         \u001b[0mself\u001b[0m\u001b[1;33m.\u001b[0m\u001b[0mmodel\u001b[0m \u001b[1;33m=\u001b[0m \u001b[0mmodel\u001b[0m\u001b[1;33m\u001b[0m\u001b[1;33m\u001b[0m\u001b[0m\n\u001b[0m\u001b[0;32m     90\u001b[0m         \u001b[0mself\u001b[0m\u001b[1;33m.\u001b[0m\u001b[0moutput\u001b[0m \u001b[1;33m=\u001b[0m \u001b[0mipw\u001b[0m\u001b[1;33m.\u001b[0m\u001b[0mOutput\u001b[0m\u001b[1;33m(\u001b[0m\u001b[1;33m)\u001b[0m\u001b[1;33m\u001b[0m\u001b[1;33m\u001b[0m\u001b[0m\n\u001b[0;32m     91\u001b[0m \u001b[1;33m\u001b[0m\u001b[0m\n",
      "\u001b[1;32m~\\miniconda3\\envs\\py37\\lib\\site-packages\\traits\\base_trait_handler.py\u001b[0m in \u001b[0;36merror\u001b[1;34m(self, object, name, value)\u001b[0m\n\u001b[0;32m     73\u001b[0m         \"\"\"\n\u001b[0;32m     74\u001b[0m         raise TraitError(\n\u001b[1;32m---> 75\u001b[1;33m             \u001b[0mobject\u001b[0m\u001b[1;33m,\u001b[0m \u001b[0mname\u001b[0m\u001b[1;33m,\u001b[0m \u001b[0mself\u001b[0m\u001b[1;33m.\u001b[0m\u001b[0mfull_info\u001b[0m\u001b[1;33m(\u001b[0m\u001b[0mobject\u001b[0m\u001b[1;33m,\u001b[0m \u001b[0mname\u001b[0m\u001b[1;33m,\u001b[0m \u001b[0mvalue\u001b[0m\u001b[1;33m)\u001b[0m\u001b[1;33m,\u001b[0m \u001b[0mvalue\u001b[0m\u001b[1;33m\u001b[0m\u001b[1;33m\u001b[0m\u001b[0m\n\u001b[0m\u001b[0;32m     76\u001b[0m         )\n\u001b[0;32m     77\u001b[0m \u001b[1;33m\u001b[0m\u001b[0m\n",
      "\u001b[1;31mTraitError\u001b[0m: The 'model' trait of an AppWindow instance must be an IModel or None, but a value of [<bmcs_beam.bending.deflection_profile.DeflectionProfile object at 0x000002874BFB7FA8>, <bmcs_beam.beam_config.beam_design.BeamDesign object at 0x000002874BFB7EE8>, <bmcs_cross_section.mkappa.mkappa.MKappa object at 0x00000287465E3AC8>, <bmcs_cross_section.cs_design.cs_layout.CrossSectionLayout object at 0x000002874BEFC888>, <bmcs_cross_section.cs_design.cs_shape.Rectangle object at 0x000002874BEFC768>, <bmcs_cross_section.cs_design.cs_layout.Matrix object at 0x000002874BEFCAC8>, <bmcs_cross_section.cs_design.cs_layout.CrossSectionLayout object at 0x000002874BEFC888>] <class 'list'> was specified."
     ]
    }
   ],
   "source": [
    "from bmcs_cross_section.mkappa.mkappa import MKappa, ReinforcementType\n",
    "from bmcs_cross_section.cs_design.cs_layout import Reinforcement\n",
    "from bmcs_beam.beam_config.boundary_conditions import BoundaryConfig\n",
    "from bmcs_beam.beam_config.boundary_conditions import BoundaryConditions\n",
    "from bmcs_beam.bending.deflection_profile import DeflectionProfile\n",
    "from bmcs_beam.beam_config.beam_design import BeamDesign\n",
    "import numpy as np\n",
    "import sympy as sp\n",
    "import matplotlib.pyplot as plt\n",
    "import bmcs_utils.api as bu\n",
    "mc_params = dict(\n",
    "            reinforcement_type= ReinforcementType.STEEL,\n",
    "            n_m=100,\n",
    "            n_kappa = 100,\n",
    "            kappa_slider = 0.000001,\n",
    "            low_kappa = 0,\n",
    "            high_kappa =  0.00002,\n",
    "            eps_tu = 0.002508,\n",
    "            E_cc = 34000,\n",
    "            E_ct = 34000,\n",
    "            eps_cr = 0.000132,\n",
    "            eps_cy = 0.0015312,\n",
    "            mu = 0.63,\n",
    "            eps_cu = 0.003498)\n",
    "mc = MKappa(**mc_params)\n",
    "b = 285\n",
    "h = 29\n",
    "mc.cross_section_shape.B = b\n",
    "mc.cross_section_shape.H = h\n",
    "mc.cross_section_layout.reinforcement = [Reinforcement(eps_sy=560/203000,\\\n",
    "E=203000, z=26.82, A=231.04)]\n",
    "dp = DeflectionProfile(mc=mc)\n",
    "dp.beam_design.beam_conf_name = BoundaryConfig.FOUR_PB\n",
    "# beam.apply_load(F, 0, 0)\n",
    "# bc = BoundaryConditions()\n",
    "# bc.get_configured_beam()\n",
    "dp.beam_design.beam_conf_name.first_load_distance = 0\n",
    "dp.beam_design.L = 3000\n",
    "# dp.beam_design.beam.apply_load(879898787, 0, 0)\n",
    "%matplotlib widget\n",
    "bu.InteractiveWindow([dp,\n",
    "                      dp.beam_design,\n",
    "                      dp.mc,\n",
    "                      dp.mc.cs_design.cross_section_layout,\n",
    "                      dp.mc.cs_design.cross_section_shape,\n",
    "                      dp.mc.cross_section_layout.matrix,\n",
    "                      dp.mc.cross_section_layout],\n",
    "                      tight_layout=True).interact()\n",
    "\n",
    "# M = dp.beam_design.get_M_x()\n",
    "# plt.plot(mc.get_kappa_M(M+1))\n",
    "# plt.show()\n",
    "# mc.get_kappa_M(M) + 1\n",
    "\n",
    "# dp.beam_design.beam.solve_for_reaction_loads(R1, R2)\n",
    "# print(dp.beam_design.beam.reaction_loads)\n",
    "# # print(dp.beam_design.beam.plot_bending_moment())\n",
    "# dp.beam_design.beam.load\n",
    "# # dp.beam_design.beam.apply_load(879898787, 0, 0)\n",
    "# dp.beam_design.beam\n"
   ]
  },
  {
   "cell_type": "code",
   "execution_count": null,
   "metadata": {},
   "outputs": [],
   "source": []
  }
 ],
 "metadata": {
  "kernelspec": {
   "display_name": "Python 3",
   "language": "python",
   "name": "python3"
  },
  "language_info": {
   "codemirror_mode": {
    "name": "ipython",
    "version": 3
   },
   "file_extension": ".py",
   "mimetype": "text/x-python",
   "name": "python",
   "nbconvert_exporter": "python",
   "pygments_lexer": "ipython3",
   "version": "3.7.9"
  }
 },
 "nbformat": 4,
 "nbformat_minor": 1
}
