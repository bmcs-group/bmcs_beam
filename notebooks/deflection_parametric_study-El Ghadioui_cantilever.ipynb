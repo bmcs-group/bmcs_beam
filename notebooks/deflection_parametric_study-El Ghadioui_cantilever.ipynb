{
 "cells": [
  {
   "cell_type": "markdown",
   "metadata": {},
   "source": [
    "# Deflection Profile Parametric Study for El Ghadioui2020\n",
    "El Ghadioui2020_Structural behaviour of CFRP reinforced concrete members under bending and shear loads"
   ]
  },
  {
   "cell_type": "code",
   "execution_count": 1,
   "metadata": {},
   "outputs": [],
   "source": [
    "# %matplotlib widget\n",
    "%matplotlib qt"
   ]
  },
  {
   "cell_type": "code",
   "execution_count": 2,
   "metadata": {},
   "outputs": [],
   "source": [
    "from bmcs_cross_section.api import MKappa, ReinforcementType, Reinforcement, TShape, EC2, ConcreteMaterialLaw\n",
    "from bmcs_beam.api import BoundaryConditions, BoundaryConfig, DeflectionProfile, BeamDesign, LoadDeflectionParamsStudy\n",
    "from os.path import join\n",
    "import numpy as np\n",
    "import pandas as pd\n",
    "import sympy as sp\n",
    "import matplotlib.pyplot as plt\n",
    "import bmcs_utils.api as bu"
   ]
  },
  {
   "cell_type": "code",
   "execution_count": 3,
   "metadata": {},
   "outputs": [],
   "source": [
    "# Beam B-M-C-K1 - CFRP Bars\n",
    "\n",
    "excel_file = join('./verification_data/el_ghadioui2020', 'fig_3.xlsx')\n",
    "data = pd.read_excel(excel_file, engine='openpyxl')\n",
    "ver_data = [data['B-M-C-K1_deflection'], data['B-M-C-K1_load']]"
   ]
  },
  {
   "cell_type": "code",
   "execution_count": 4,
   "metadata": {},
   "outputs": [],
   "source": [
    "# Beam B-M-C-K1 - CFRP Bars\n",
    "\n",
    "# C 50/60\n",
    "\n",
    "E = 33525\n",
    "\n",
    "mc = MKappa(reinforcement_type= ReinforcementType.CARBON,\n",
    "            \n",
    "            low_kappa = -0.00011,\n",
    "            high_kappa = 0.00001,\n",
    "            E_cc = E,\n",
    "            E_ct = E,\n",
    "            eps_cr = 0.00006,\n",
    "            eps_tu = 0.00008,\n",
    "            eps_cy = 0.00175, # EC2 eps_c3\n",
    "            eps_cu = 0.0035,  # EC2 eps_cu3\n",
    "            mu = 0.0)\n",
    "\n",
    "mc.cross_section_shape.B = 400\n",
    "mc.cross_section_shape.H = 200\n",
    "mc.cross_section_layout.reinforcement = [Reinforcement(eps_sy=3600/230000, E=230000, z=200-35, A=4 * 70.14)]\n",
    "\n",
    "dp = DeflectionProfile(mc=mc)\n",
    "\n",
    "dp.beam_design.beam_conf_name = BoundaryConfig.CANTILEVER_DIST_LOAD\n",
    "dp.beam_design.L = 1000\n",
    "\n",
    "# bu.InteractiveWindow([dp, \n",
    "#                       dp.beam_design, \n",
    "#                       dp.mc, \n",
    "#                       dp.mc.cs_design.cross_section_shape, \n",
    "#                       dp.mc.cs_design.cross_section_layout], tight_layout=True).interact()"
   ]
  },
  {
   "cell_type": "code",
   "execution_count": 5,
   "metadata": {},
   "outputs": [],
   "source": [
    "def run_parametric_study(mcs):\n",
    "    dp = DeflectionProfile(mc=mc)\n",
    "    dp.beam_design.beam_conf_name = BoundaryConfig.CANTILEVER_DIST_LOAD\n",
    "    dp.beam_design.L = 1000\n",
    "    params_config = [\n",
    "        ['mc',   dp, mcs],\n",
    "    ]\n",
    "\n",
    "    LoadDeflectionParamsStudy(dp).run(params_config)"
   ]
  },
  {
   "cell_type": "code",
   "execution_count": 74,
   "metadata": {},
   "outputs": [
    {
     "data": {
      "application/vnd.jupyter.widget-view+json": {
       "model_id": "",
       "version_major": 2,
       "version_minor": 0
      },
      "text/plain": [
       "VBox(children=(Output(), Tab(children=(VBox(children=(GridBox(children=(IntText(value=31, description='\\\\(n_{\\…"
      ]
     },
     "metadata": {},
     "output_type": "display_data"
    },
    {
     "name": "stdout",
     "output_type": "stream",
     "text": [
      "No solution The iteration is not making good progress, as measured by the \n",
      "  improvement from the last ten iterations.\n",
      "No solution The iteration is not making good progress, as measured by the \n",
      "  improvement from the last ten iterations.\n",
      "M inverse has not succeeded, the M-Kappa solution may have failed due to a wrong kappa range or not suitable material law!\n",
      "No solution The iteration is not making good progress, as measured by the \n",
      "  improvement from the last five Jacobian evaluations.\n",
      "M inverse has not succeeded, the M-Kappa solution may have failed due to a wrong kappa range or not suitable material law!\n"
     ]
    }
   ],
   "source": [
    "# Test f_ck\n",
    "\"\"\" [\n",
    "    {'f_ck': 30, 'low_kappa':0 , 'high_kappa':0.00012 },\n",
    "    {'f_ck': 50, 'low_kappa':0 , 'high_kappa':0.00012 },\n",
    "    {'f_ck': 70, 'low_kappa':-0.00001 , 'high_kappa':0.00011},\n",
    "    {'f_ck': 90, 'low_kappa':-0.00002 , 'high_kappa':0.00011},\n",
    "    ] \"\"\"\n",
    "\n",
    "f_ck = 90\n",
    "\n",
    "E = EC2.get_E_cm(f_ck)\n",
    "\n",
    "fctk_0_05 = EC2.get_f_ctk_0_05(f_ck)\n",
    "f_ctd = fctk_0_05\n",
    "# f_ctd = 0.85 * fctk_0_05 / 1.5\n",
    "f_ctd_fl = max((1.6 - 200 /1000) * f_ctd, f_ctd)\n",
    "\n",
    "\n",
    "mc1 = MKappa(reinforcement_type= ReinforcementType.CARBON,\n",
    "            low_kappa = -0.00011,\n",
    "            high_kappa = 0.00001,\n",
    "            E_cc = E,\n",
    "            E_ct = E,\n",
    "            eps_cr = f_ctd_fl/E,            # 0.00006,\n",
    "            eps_tu = 2* f_ctd_fl/E,         # 0.00008,\n",
    "            eps_cy = EC2.get_eps_c3(f_ck),\n",
    "            eps_cu = EC2.get_eps_cu3(f_ck),\n",
    "            mu = 0.0)\n",
    "\n",
    "mc1.cross_section_shape.B = 400\n",
    "mc1.cross_section_shape.H = 200\n",
    "mc.cross_section_layout.reinforcement = [Reinforcement(eps_sy=3600/230000, E=230000, z=200-35, A=4 * 70.14)]\n",
    "# mc1.interact()\n",
    "\n",
    "\n",
    "dp = DeflectionProfile(mc=mc)\n",
    "\n",
    "dp.beam_design.beam_conf_name = BoundaryConfig.CANTILEVER_DIST_LOAD\n",
    "dp.beam_design.L = 1000\n",
    "\n",
    "bu.InteractiveWindow([dp, \n",
    "                      dp.beam_design, \n",
    "                      dp.mc, \n",
    "                      dp.mc.cs_design.cross_section_shape, \n",
    "                      dp.mc.cs_design.cross_section_layout], tight_layout=True).interact()\n",
    "\n",
    "# _, ax = plt.subplots()\n",
    "# f, w = dp.get_Fw()\n",
    "# ax.plot(w, f*2/1000)\n",
    "# ax.plot(ver_data[0], ver_data[1])"
   ]
  },
  {
   "cell_type": "code",
   "execution_count": 5,
   "metadata": {
    "scrolled": false
   },
   "outputs": [],
   "source": [
    "# saving mcs with different f_ck\n",
    "\n",
    "f_ck_setups = [\n",
    "    {'f_ck': 30, 'low_kappa':0 , 'high_kappa':0.00012 },\n",
    "    {'f_ck': 50, 'low_kappa':0 , 'high_kappa':0.00012 },\n",
    "    {'f_ck': 70, 'low_kappa':-0.00001 , 'high_kappa':0.00011},\n",
    "    {'f_ck': 90, 'low_kappa':-0.00002 , 'high_kappa':0.00011},\n",
    "    ]\n",
    "mcs = []\n",
    "for f_ck_setup in f_ck_setups:\n",
    "    f_ck = f_ck_setup['f_ck']\n",
    "    \n",
    "    E = EC2.get_E_cm(f_ck)\n",
    "    \n",
    "    fctk_0_05 = EC2.get_f_ctk_0_05(f_ck)\n",
    "    f_ctd = fctk_0_05\n",
    "    # f_ctd = 0.85 * fctk_0_05 / 1.5\n",
    "    f_ctd_fl = max((1.6 - 200 /1000) * f_ctd, f_ctd)\n",
    "\n",
    "    mc1 = MKappa(reinforcement_type= ReinforcementType.CARBON,\n",
    "                low_kappa = f_ck_setup['low_kappa'],\n",
    "                high_kappa = f_ck_setup['high_kappa'],\n",
    "                E_cc = E,\n",
    "                E_ct = E,\n",
    "                eps_cr = f_ctd_fl/E,            # 0.00006,\n",
    "                eps_tu = 2* f_ctd_fl/E,         # 0.00008,\n",
    "                eps_cy = EC2.get_eps_c3(f_ck),\n",
    "                eps_cu = EC2.get_eps_cu3(f_ck), # EC2 eps_cu3\n",
    "                mu = 0.0)\n",
    "    mc1.cross_section_shape.B = 400\n",
    "    mc1.cross_section_shape.H = 200\n",
    "    mc1.cross_section_layout.reinforcement = [Reinforcement(eps_sy=0.014, E=135121, z=35, A=2 * 70.14)]\n",
    "    mcs.append(mc1)\n",
    "    "
   ]
  },
  {
   "cell_type": "code",
   "execution_count": 26,
   "metadata": {
    "scrolled": false
   },
   "outputs": [
    {
     "data": {
      "application/vnd.jupyter.widget-view+json": {
       "model_id": "bbc4725a19ec466ab9845ad422208399",
       "version_major": 2,
       "version_minor": 0
      },
      "text/plain": [
       "VBox(children=(Output(), Tab(children=(VBox(children=(GridBox(children=(IntText(value=31, description='\\\\(n_{\\…"
      ]
     },
     "metadata": {},
     "output_type": "display_data"
    }
   ],
   "source": [
    "# Test E\n",
    "\n",
    "\"\"\" [\n",
    "    {'E_c': 30000, 'low_kappa':-0.00011 , 'high_kappa':0.00001 },\n",
    "    {'E_c': 35000, 'low_kappa':-0.00011 , 'high_kappa':0.00001 },\n",
    "    {'E_c': 40000, 'low_kappa':-0.00011 , 'high_kappa':0.00001 },\n",
    "    {'E_c': 45000, 'low_kappa':-0.00011 , 'high_kappa':0.00001 },\n",
    "    ] \"\"\"\n",
    "\n",
    "\n",
    "E = 30000\n",
    "\n",
    "mc1 = MKappa(reinforcement_type= ReinforcementType.CARBON,           \n",
    "            low_kappa = -0.00011,\n",
    "            high_kappa = 0.00001,\n",
    "            E_cc = E,\n",
    "            E_ct = E,\n",
    "            eps_cr = 0.00006,\n",
    "            eps_tu = 0.00008,\n",
    "            eps_cy = 0.00175,\n",
    "            eps_cu = 0.0035,\n",
    "            mu = 0.0)\n",
    "\n",
    "mc1.cross_section_shape.B = 400\n",
    "mc1.cross_section_shape.H = 200\n",
    "mc.cross_section_layout.reinforcement = [Reinforcement(eps_sy=3600/230000, E=230000, z=200-35, A=4 * 70.14)]\n",
    "# mc1.interact()\n",
    "\n",
    "\n",
    "dp = DeflectionProfile(mc=mc)\n",
    "\n",
    "dp.beam_design.beam_conf_name = BoundaryConfig.CANTILEVER_DIST_LOAD\n",
    "dp.beam_design.L = 1000\n",
    "\n",
    "bu.InteractiveWindow([dp, \n",
    "                      dp.beam_design, \n",
    "                      dp.mc, \n",
    "                      dp.mc.cs_design.cross_section_shape, \n",
    "                      dp.mc.cs_design.cross_section_layout], tight_layout=True).interact()\n",
    "\n",
    "# _, ax = plt.subplots()\n",
    "# f, w = dp.get_Fw()\n",
    "# ax.plot(w, f*2/1000)\n",
    "# ax.plot(ver_data[0], ver_data[1])"
   ]
  },
  {
   "cell_type": "code",
   "execution_count": 6,
   "metadata": {},
   "outputs": [],
   "source": [
    "# saving mcs with different E\n",
    "\n",
    "setups = [\n",
    "    {'E_c': 30000, 'low_kappa':-0.00011 , 'high_kappa':0.00001 },\n",
    "    {'E_c': 35000, 'low_kappa':-0.00011 , 'high_kappa':0.00001 },\n",
    "    {'E_c': 40000, 'low_kappa':-0.00011 , 'high_kappa':0.00001 },\n",
    "    {'E_c': 45000, 'low_kappa':-0.00011 , 'high_kappa':0.00001 },\n",
    "    ]\n",
    "mcs = []\n",
    "for setup in setups:\n",
    "    \n",
    "    E = setup['E_c']\n",
    "    \n",
    "    mc1 = MKappa(reinforcement_type= ReinforcementType.CARBON,\n",
    "                low_kappa = setup['low_kappa'],\n",
    "                high_kappa = setup['high_kappa'],\n",
    "                E_cc = E,\n",
    "                E_ct = E,\n",
    "                eps_cr = 0.00006,\n",
    "                eps_tu = 0.00008,\n",
    "                eps_cy = 0.00175,\n",
    "                eps_cu = 0.0035,\n",
    "                mu = 0.0)\n",
    "    mc1.cross_section_shape.B = 400\n",
    "    mc1.cross_section_shape.H = 200\n",
    "    mc1.cross_section_layout.reinforcement = [Reinforcement(eps_sy=3600/230000, E=230000, z=200-35, A=4 * 70.14)]\n",
    "    mcs.append(mc1)\n",
    "    "
   ]
  },
  {
   "cell_type": "code",
   "execution_count": 7,
   "metadata": {},
   "outputs": [
    {
     "name": "stdout",
     "output_type": "stream",
     "text": [
      "Parametric study is running...\n",
      "mc: <bmcs_cross_section.mkappa.mkappa.MKappa object at 0x000002191B122180>, <bmcs_cross_section.mkappa.mkappa.MKappa object at 0x000002191CDC0770>, <bmcs_cross_section.mkappa.mkappa.MKappa object at 0x000002191CD984A0>, <bmcs_cross_section.mkappa.mkappa.MKappa object at 0x000002191D129680>, \n",
      "Parametric study finished.\n"
     ]
    }
   ],
   "source": [
    "# running parametric study for different E\n",
    "run_parametric_study(mcs)"
   ]
  },
  {
   "cell_type": "code",
   "execution_count": 31,
   "metadata": {
    "scrolled": true
   },
   "outputs": [
    {
     "data": {
      "application/vnd.jupyter.widget-view+json": {
       "model_id": "209bc103bf08434d81852db4781a6e04",
       "version_major": 2,
       "version_minor": 0
      },
      "text/plain": [
       "VBox(children=(Output(), Tab(children=(VBox(children=(GridBox(children=(IntText(value=31, description='\\\\(n_{\\…"
      ]
     },
     "metadata": {},
     "output_type": "display_data"
    }
   ],
   "source": [
    "# Test E_s\n",
    "\n",
    "E = 33525\n",
    "\n",
    "mc1 = MKappa(reinforcement_type= ReinforcementType.CARBON,           \n",
    "            low_kappa = -0.00011,\n",
    "            high_kappa = 0.00001,\n",
    "            E_cc = E,\n",
    "            E_ct = E,\n",
    "            eps_cr = 0.00006,\n",
    "            eps_tu = 0.00008,\n",
    "            eps_cy = 0.00175,\n",
    "            eps_cu = 0.0035,\n",
    "            mu = 0.0)\n",
    "\n",
    "mc1.cross_section_shape.B = 400\n",
    "mc1.cross_section_shape.H = 200\n",
    "mc1.cross_section_layout.reinforcement = [Reinforcement(eps_sy=3600/230000, E=230000, z=200-35, A=4 * 70.14)]\n",
    "# mc1.interact()\n",
    "\n",
    "\n",
    "dp = DeflectionProfile(mc=mc1)\n",
    "\n",
    "dp.beam_design.beam_conf_name = BoundaryConfig.CANTILEVER_DIST_LOAD\n",
    "dp.beam_design.L = 1000\n",
    "\n",
    "bu.InteractiveWindow([dp, \n",
    "                      dp.beam_design, \n",
    "                      dp.mc, \n",
    "                      dp.mc.cs_design.cross_section_shape, \n",
    "                      dp.mc.cs_design.cross_section_layout], tight_layout=True).interact()\n",
    "\n",
    "# _, ax = plt.subplots()\n",
    "# f, w = dp.get_Fw()\n",
    "# ax.plot(w, f*2/1000)\n",
    "# ax.plot(ver_data[0], ver_data[1])"
   ]
  },
  {
   "cell_type": "code",
   "execution_count": 8,
   "metadata": {},
   "outputs": [],
   "source": [
    "# saving mcs with different E_s\n",
    "\n",
    "setups = [\n",
    "    {'E_s': 130000, 'low_kappa':-0.00011 , 'high_kappa':0.00001 },\n",
    "    {'E_s': 170000, 'low_kappa':-0.00011 , 'high_kappa':0.00001 },\n",
    "    {'E_s': 210000, 'low_kappa':-0.00011 , 'high_kappa':0.00001 },\n",
    "    {'E_s': 250000, 'low_kappa':-0.00011 , 'high_kappa':0.00001 },\n",
    "    ]\n",
    "mcs = []\n",
    "for setup in setups:\n",
    "    \n",
    "    E = 33525\n",
    "    \n",
    "    mc1 = MKappa(reinforcement_type= ReinforcementType.CARBON,\n",
    "                low_kappa = setup['low_kappa'],\n",
    "                high_kappa = setup['high_kappa'],\n",
    "                E_cc = E,\n",
    "                E_ct = E,\n",
    "                eps_cr = 0.00006,\n",
    "                eps_tu = 0.00008,\n",
    "                eps_cy = 0.00175,\n",
    "                eps_cu = 0.0035,\n",
    "                mu = 0.0)\n",
    "    mc1.cross_section_shape.B = 400\n",
    "    mc1.cross_section_shape.H = 200\n",
    "    mc1.cross_section_layout.reinforcement = [Reinforcement(eps_sy=3600/230000, E=setup['E_s'], z=200-35, A=4 * 70.14)]\n",
    "    mcs.append(mc1)\n",
    "    "
   ]
  },
  {
   "cell_type": "code",
   "execution_count": 9,
   "metadata": {},
   "outputs": [
    {
     "name": "stdout",
     "output_type": "stream",
     "text": [
      "Parametric study is running...\n",
      "mc: <bmcs_cross_section.mkappa.mkappa.MKappa object at 0x000002191CF65DB0>, <bmcs_cross_section.mkappa.mkappa.MKappa object at 0x000002191D98C900>, <bmcs_cross_section.mkappa.mkappa.MKappa object at 0x000002191D4644A0>, <bmcs_cross_section.mkappa.mkappa.MKappa object at 0x000002191DA95270>, \n",
      "Parametric study finished.\n"
     ]
    }
   ],
   "source": [
    "# running parametric study for different E_s\n",
    "run_parametric_study(mcs)"
   ]
  },
  {
   "cell_type": "code",
   "execution_count": 38,
   "metadata": {
    "scrolled": false
   },
   "outputs": [
    {
     "data": {
      "application/vnd.jupyter.widget-view+json": {
       "model_id": "a25206f95f874d7aa000e4034834f24d",
       "version_major": 2,
       "version_minor": 0
      },
      "text/plain": [
       "VBox(children=(Output(), Tab(children=(VBox(children=(GridBox(children=(IntText(value=31, description='\\\\(n_{\\…"
      ]
     },
     "metadata": {},
     "output_type": "display_data"
    }
   ],
   "source": [
    "# Test carbon strength\n",
    "\n",
    "\"\"\" [\n",
    "    {'eps_sy': 1800/230000, 'low_kappa':-0.00005 , 'high_kappa':0.00001 },\n",
    "    {'eps_sy': 2200/230000, 'low_kappa':-0.00007 , 'high_kappa':0.00001 },\n",
    "    {'eps_sy': 2600/230000, 'low_kappa':-0.00008 , 'high_kappa':0.00001 },\n",
    "    {'eps_sy': 3000/230000, 'low_kappa':-0.00010 , 'high_kappa':0.00001 },\n",
    "    ] \"\"\"\n",
    "\n",
    "E = 33525\n",
    "\n",
    "mc1 = MKappa(reinforcement_type= ReinforcementType.CARBON,           \n",
    "            low_kappa = -0.00010,\n",
    "            high_kappa = 0.00001,\n",
    "            E_cc = E,\n",
    "            E_ct = E,\n",
    "            eps_cr = 0.00006,\n",
    "            eps_tu = 0.00008,\n",
    "            eps_cy = 0.00175,\n",
    "            eps_cu = 0.0035,\n",
    "            mu = 0.0)\n",
    "\n",
    "mc1.cross_section_shape.B = 400\n",
    "mc1.cross_section_shape.H = 200\n",
    "mc1.cross_section_layout.reinforcement = [Reinforcement(eps_sy=3000/230000, E=230000, z=200-35, A=4 * 70.14)]\n",
    "# mc1.interact()\n",
    "\n",
    "\n",
    "dp = DeflectionProfile(mc=mc1)\n",
    "\n",
    "dp.beam_design.beam_conf_name = BoundaryConfig.CANTILEVER_DIST_LOAD\n",
    "dp.beam_design.L = 1000\n",
    "\n",
    "bu.InteractiveWindow([dp, \n",
    "                      dp.beam_design, \n",
    "                      dp.mc, \n",
    "                      dp.mc.cs_design.cross_section_shape, \n",
    "                      dp.mc.cs_design.cross_section_layout], tight_layout=True).interact()"
   ]
  },
  {
   "cell_type": "code",
   "execution_count": 10,
   "metadata": {},
   "outputs": [],
   "source": [
    "# saving mcs with different carbon strength\n",
    "\n",
    "setups = [\n",
    "    {'eps_sy': 1800/230000, 'low_kappa':-0.00005 , 'high_kappa':0.00001 },\n",
    "    {'eps_sy': 2200/230000, 'low_kappa':-0.00007 , 'high_kappa':0.00001 },\n",
    "    {'eps_sy': 2600/230000, 'low_kappa':-0.00008 , 'high_kappa':0.00001 },\n",
    "    {'eps_sy': 3000/230000, 'low_kappa':-0.00010 , 'high_kappa':0.00001 },\n",
    "    ]\n",
    "mcs = []\n",
    "for setup in setups:\n",
    "    \n",
    "    E = 33525\n",
    "    \n",
    "    mc1 = MKappa(reinforcement_type= ReinforcementType.CARBON,\n",
    "                low_kappa = setup['low_kappa'],\n",
    "                high_kappa = setup['high_kappa'],\n",
    "                E_cc = E,\n",
    "                E_ct = E,\n",
    "                eps_cr = 0.00006,\n",
    "                eps_tu = 0.00008,\n",
    "                eps_cy = 0.00175,\n",
    "                eps_cu = 0.0035,\n",
    "                mu = 0.0)\n",
    "    mc1.cross_section_shape.B = 400\n",
    "    mc1.cross_section_shape.H = 200\n",
    "    mc1.cross_section_layout.reinforcement = [Reinforcement(eps_sy=setup['eps_sy'], E=230000, z=200-35, A=4 * 70.14)]\n",
    "    mcs.append(mc1)\n",
    "    "
   ]
  },
  {
   "cell_type": "code",
   "execution_count": 11,
   "metadata": {},
   "outputs": [
    {
     "name": "stdout",
     "output_type": "stream",
     "text": [
      "Parametric study is running...\n",
      "mc: <bmcs_cross_section.mkappa.mkappa.MKappa object at 0x000002191CF65DB0>, <bmcs_cross_section.mkappa.mkappa.MKappa object at 0x000002191FC863B0>, <bmcs_cross_section.mkappa.mkappa.MKappa object at 0x000002191FE26680>, <bmcs_cross_section.mkappa.mkappa.MKappa object at 0x000002191D603F90>, \n",
      "Parametric study finished.\n"
     ]
    }
   ],
   "source": [
    "# running parametric study for different carbon strength\n",
    "run_parametric_study(mcs)"
   ]
  },
  {
   "cell_type": "code",
   "execution_count": 56,
   "metadata": {
    "scrolled": false
   },
   "outputs": [
    {
     "data": {
      "application/vnd.jupyter.widget-view+json": {
       "model_id": "2ddd09ccf3e242cd9f80bb13af703fd4",
       "version_major": 2,
       "version_minor": 0
      },
      "text/plain": [
       "VBox(children=(Output(), Tab(children=(VBox(children=(GridBox(children=(IntText(value=31, description='\\\\(n_{\\…"
      ]
     },
     "metadata": {},
     "output_type": "display_data"
    }
   ],
   "source": [
    "# Test concrete compressive strength\n",
    "\n",
    "\"\"\" [\n",
    "    {'concrete_material_law': ConcreteMaterialLaw.EC2, 'f_cd': 30, 'low_kappa':-0.00008 , 'high_kappa':0.00001 },\n",
    "    {'concrete_material_law': ConcreteMaterialLaw.EC2, 'f_cd': 50, 'low_kappa':-0.00009 , 'high_kappa':0.00001 },\n",
    "    {'concrete_material_law': ConcreteMaterialLaw.EC2, 'f_cd': 70, 'low_kappa':-0.0001 , 'high_kappa':0.00001 },\n",
    "    {'concrete_material_law': ConcreteMaterialLaw.EC2, 'f_cd': 90, 'low_kappa':-0.00012 , 'high_kappa':0.00001 },\n",
    "    ] \"\"\"\n",
    "\n",
    "E = 33525\n",
    "\n",
    "mc1 = MKappa(reinforcement_type= ReinforcementType.CARBON,   \n",
    "             \n",
    "            concrete_material_law = ConcreteMaterialLaw.EC2,\n",
    "            f_cd = 70, \n",
    "             \n",
    "            low_kappa = -0.00012,\n",
    "            high_kappa = 0.00001,\n",
    "            E_cc = E,\n",
    "            E_ct = E,\n",
    "            eps_cr = 0.00006,\n",
    "            eps_tu = 0.00008,\n",
    "            eps_cy = 0.00175,\n",
    "            eps_cu = 0.0035,\n",
    "            mu = 0.0)\n",
    "\n",
    "mc1.cross_section_shape.B = 400\n",
    "mc1.cross_section_shape.H = 200\n",
    "mc1.cross_section_layout.reinforcement = [Reinforcement(eps_sy=3600/230000, E=230000, z=200-35, A=4 * 70.14)]\n",
    "\n",
    "dp = DeflectionProfile(mc=mc1)\n",
    "\n",
    "dp.beam_design.beam_conf_name = BoundaryConfig.CANTILEVER_DIST_LOAD\n",
    "dp.beam_design.L = 1000\n",
    "\n",
    "bu.InteractiveWindow([dp, \n",
    "                      dp.beam_design, \n",
    "                      dp.mc, \n",
    "                      dp.mc.cs_design.cross_section_shape, \n",
    "                      dp.mc.cs_design.cross_section_layout], tight_layout=True).interact()"
   ]
  },
  {
   "cell_type": "code",
   "execution_count": 12,
   "metadata": {},
   "outputs": [],
   "source": [
    "# saving mcs with different concrete compressive strength\n",
    "\n",
    "setups = [\n",
    "    {'concrete_material_law': ConcreteMaterialLaw.EC2, 'f_cd': 30, 'low_kappa':-0.00008 , 'high_kappa':0.00001 },\n",
    "    {'concrete_material_law': ConcreteMaterialLaw.EC2, 'f_cd': 50, 'low_kappa':-0.00009 , 'high_kappa':0.00001 },\n",
    "    {'concrete_material_law': ConcreteMaterialLaw.EC2, 'f_cd': 70, 'low_kappa':-0.0001 , 'high_kappa':0.00001 },\n",
    "    {'concrete_material_law': ConcreteMaterialLaw.EC2, 'f_cd': 90, 'low_kappa':-0.00012 , 'high_kappa':0.00001 },\n",
    "    ]\n",
    "mcs = []\n",
    "for setup in setups:\n",
    "    \n",
    "    E = 33525\n",
    "    \n",
    "    mc1 = MKappa(reinforcement_type= ReinforcementType.CARBON,\n",
    "                low_kappa = setup['low_kappa'],\n",
    "                high_kappa = setup['high_kappa'],\n",
    "\n",
    "                 concrete_material_law = setup['concrete_material_law'],\n",
    "                 f_cd = setup['f_cd'],\n",
    "                 \n",
    "                E_cc = E,\n",
    "                E_ct = E,\n",
    "                eps_cr = 0.00006,\n",
    "                eps_tu = 0.00008,\n",
    "                eps_cy = 0.00175,\n",
    "                eps_cu = 0.0035,\n",
    "                mu = 0.0)\n",
    "    mc1.cross_section_shape.B = 400\n",
    "    mc1.cross_section_shape.H = 200\n",
    "    mc1.cross_section_layout.reinforcement = [Reinforcement(eps_sy=3600/230000, E=230000, z=200-35, A=4 * 70.14)]\n",
    "    mcs.append(mc1)\n",
    "    "
   ]
  },
  {
   "cell_type": "code",
   "execution_count": 13,
   "metadata": {},
   "outputs": [
    {
     "name": "stdout",
     "output_type": "stream",
     "text": [
      "Parametric study is running...\n",
      "mc: <bmcs_cross_section.mkappa.mkappa.MKappa object at 0x000002191CF65DB0>, <bmcs_cross_section.mkappa.mkappa.MKappa object at 0x0000021920514630>, <bmcs_cross_section.mkappa.mkappa.MKappa object at 0x000002191FD1D7C0>, <bmcs_cross_section.mkappa.mkappa.MKappa object at 0x0000021920498630>, \n",
      "Parametric study finished.\n"
     ]
    }
   ],
   "source": [
    "# running parametric study for different concrete compressive strength\n",
    "run_parametric_study(mcs)"
   ]
  },
  {
   "cell_type": "code",
   "execution_count": 62,
   "metadata": {
    "scrolled": false
   },
   "outputs": [
    {
     "data": {
      "application/vnd.jupyter.widget-view+json": {
       "model_id": "8c2d93c250d04c9398dcdccf50c65a5e",
       "version_major": 2,
       "version_minor": 0
      },
      "text/plain": [
       "VBox(children=(Output(), Tab(children=(VBox(children=(GridBox(children=(IntText(value=31, description='\\\\(n_{\\…"
      ]
     },
     "metadata": {},
     "output_type": "display_data"
    }
   ],
   "source": [
    "# Test concrete tensile strength\n",
    "\n",
    "\"\"\" [\n",
    "    {'f_ck': 30, 'low_kappa':-0.00009 , 'high_kappa':0.00001 },\n",
    "    {'f_ck': 50, 'low_kappa':-0.00009 , 'high_kappa':0.00001 },\n",
    "    {'f_ck': 70, 'low_kappa':-0.00009 , 'high_kappa':0.00001 },\n",
    "    {'f_ck': 90, 'low_kappa':-0.00009 , 'high_kappa':0.00001 },\n",
    "    ] \"\"\"\n",
    "\n",
    "E = 33525\n",
    "\n",
    "f_ck = 30\n",
    "\n",
    "fctk_0_05 = EC2.get_f_ctk_0_05(f_ck)\n",
    "f_ctd = fctk_0_05\n",
    "# f_ctd = 0.85 * fctk_0_05 / 1.5\n",
    "f_ctd_fl = max((1.6 - 200 /1000) * f_ctd, f_ctd)\n",
    "\n",
    "mc1 = MKappa(reinforcement_type= ReinforcementType.CARBON,  \n",
    "             \n",
    "             n_kappa = 500,\n",
    "                         \n",
    "            low_kappa = -0.00009,\n",
    "            high_kappa = 0.00001,\n",
    "            E_cc = E,\n",
    "            E_ct = E,\n",
    "            eps_cr = f_ctd_fl/E,            # 0.00006,\n",
    "            eps_tu = 2* f_ctd_fl/E,         # 0.00008,\n",
    "            eps_cy = 0.00175,\n",
    "            eps_cu = 0.0035,\n",
    "            mu = 0.0)\n",
    "\n",
    "mc1.cross_section_shape.B = 400\n",
    "mc1.cross_section_shape.H = 200\n",
    "mc1.cross_section_layout.reinforcement = [Reinforcement(eps_sy=3600/230000, E=230000, z=200-35, A=4 * 70.14)]\n",
    "\n",
    "dp = DeflectionProfile(mc=mc1)\n",
    "\n",
    "dp.beam_design.beam_conf_name = BoundaryConfig.CANTILEVER_DIST_LOAD\n",
    "dp.beam_design.L = 1000\n",
    "\n",
    "bu.InteractiveWindow([dp, \n",
    "                      dp.beam_design, \n",
    "                      dp.mc, \n",
    "                      dp.mc.cs_design.cross_section_shape, \n",
    "                      dp.mc.cs_design.cross_section_layout], tight_layout=True).interact()"
   ]
  },
  {
   "cell_type": "code",
   "execution_count": 14,
   "metadata": {},
   "outputs": [],
   "source": [
    "# saving mcs with different concrete tensile strength\n",
    "\n",
    "setups = [\n",
    "    {'f_ck': 30, 'low_kappa':-0.00009 , 'high_kappa':0.00001 },\n",
    "    {'f_ck': 50, 'low_kappa':-0.00009 , 'high_kappa':0.00001 },\n",
    "    {'f_ck': 70, 'low_kappa':-0.00009 , 'high_kappa':0.00001 },\n",
    "    {'f_ck': 90, 'low_kappa':-0.00009 , 'high_kappa':0.00001 },\n",
    "    ]\n",
    "mcs = []\n",
    "for setup in setups:\n",
    "    \n",
    "    E = 33525\n",
    "    \n",
    "    f_ck = setup['f_ck']\n",
    "\n",
    "    fctk_0_05 = EC2.get_f_ctk_0_05(f_ck)\n",
    "    f_ctd = fctk_0_05\n",
    "    # f_ctd = 0.85 * fctk_0_05 / 1.5\n",
    "    f_ctd_fl = max((1.6 - 200 /1000) * f_ctd, f_ctd)\n",
    "    \n",
    "    mc1 = MKappa(reinforcement_type= ReinforcementType.CARBON,\n",
    "                low_kappa = setup['low_kappa'],\n",
    "                high_kappa = setup['high_kappa'],         \n",
    "                 n_kappa = 400,\n",
    "                E_cc = E,\n",
    "                E_ct = E,\n",
    "                eps_cr = f_ctd_fl/E,            # 0.00006,\n",
    "                eps_tu = 2* f_ctd_fl/E,         # 0.00008,\n",
    "                eps_cy = 0.00175,\n",
    "                eps_cu = 0.0035,\n",
    "                mu = 0.0)\n",
    "    mc1.cross_section_shape.B = 400\n",
    "    mc1.cross_section_shape.H = 200\n",
    "    mc1.cross_section_layout.reinforcement = [Reinforcement(eps_sy=3600/230000, E=230000, z=200-35, A=4 * 70.14)]\n",
    "    mcs.append(mc1)\n",
    "    "
   ]
  },
  {
   "cell_type": "code",
   "execution_count": 15,
   "metadata": {},
   "outputs": [
    {
     "name": "stdout",
     "output_type": "stream",
     "text": [
      "Parametric study is running...\n",
      "mc: <bmcs_cross_section.mkappa.mkappa.MKappa object at 0x000002191D794BD0>, <bmcs_cross_section.mkappa.mkappa.MKappa object at 0x0000021920802040>, <bmcs_cross_section.mkappa.mkappa.MKappa object at 0x0000021920930720>, <bmcs_cross_section.mkappa.mkappa.MKappa object at 0x00000219203F0090>, \n",
      "Parametric study finished.\n"
     ]
    }
   ],
   "source": [
    "# running parametric study for different concrete tensile strength\n",
    "# run_parametric_study(mcs)\n",
    "\n",
    "dp = DeflectionProfile(mc=mc, n_load_steps=200)\n",
    "dp.beam_design.beam_conf_name = BoundaryConfig.CANTILEVER_DIST_LOAD\n",
    "dp.beam_design.L = 1000\n",
    "params_config = [\n",
    "    ['mc',   dp, mcs],\n",
    "]\n",
    "\n",
    "LoadDeflectionParamsStudy(dp).run(params_config)"
   ]
  },
  {
   "cell_type": "code",
   "execution_count": 6,
   "metadata": {},
   "outputs": [
    {
     "name": "stdout",
     "output_type": "stream",
     "text": [
      "Parametric study is running...\n",
      "mc: <bmcs_cross_section.mkappa.mkappa.MKappa object at 0x0000024AA11DCF90>, <bmcs_cross_section.mkappa.mkappa.MKappa object at 0x0000024AA1251860>, <bmcs_cross_section.mkappa.mkappa.MKappa object at 0x0000024AA12FD630>, <bmcs_cross_section.mkappa.mkappa.MKappa object at 0x0000024AA12FD9F0>, \n",
      "Parametric study finished.\n"
     ]
    }
   ],
   "source": [
    "dp = DeflectionProfile(mc=mc)\n",
    "\n",
    "dp.beam_design.beam_conf_name = BoundaryConfig.CANTILEVER_DIST_LOAD\n",
    "dp.beam_design.L = 1000\n",
    "\n",
    "params_config = [\n",
    "    ['mc',      dp, mcs],\n",
    "#         ['L',      dp.beam_design, [5000]],\n",
    "#         ['B',      mc.cross_section_shape, [300, 500]],\n",
    "#         ['H',      mc.cross_section_shape, [21505, 300]],\n",
    "#         ['E_ct',   mc, [33525, 34000]],\n",
    "#         ['E_cc',   mc, [33525, 34000]],\n",
    "#         ['eps_cr', mc, [0.00003, 0.00005, 0.00006]],\n",
    "#         ['eps_cy', mc, [0.0015, 0.00175, 0.002, 0.0025]],\n",
    "#         ['eps_cu', mc, [0.002, 0.0025, 0.0035, 0.004]],\n",
    "#         ['eps_tu', mc, [0.00004, 0.00005, 0.00006]],\n",
    "#         ['mu',     mc, [0, 1]],\n",
    "#         ['z',      mc.cross_section_layout.reinforcement[0], [1, 29]],\n",
    "#         ['A',      mc.cross_section_layout.reinforcement[0], [70.14, 2* 70.14]],\n",
    "#         ['E',      mc.cross_section_layout.reinforcement[0], [130000, 135121, 140000]],\n",
    "#         ['eps_sy', mc.cross_section_layout.reinforcement[0], [0.010, 0.014, 0.018]],\n",
    "#         ['n_x',    dp.beam_design, [10, 1000]],\n",
    "]\n",
    "\n",
    "LoadDeflectionParamsStudy(dp).run(params_config, ver_data)"
   ]
  }
 ],
 "metadata": {
  "kernelspec": {
   "display_name": "Python 3",
   "language": "python",
   "name": "python3"
  },
  "language_info": {
   "codemirror_mode": {
    "name": "ipython",
    "version": 3
   },
   "file_extension": ".py",
   "mimetype": "text/x-python",
   "name": "python",
   "nbconvert_exporter": "python",
   "pygments_lexer": "ipython3",
   "version": "3.9.1"
  }
 },
 "nbformat": 4,
 "nbformat_minor": 1
}
