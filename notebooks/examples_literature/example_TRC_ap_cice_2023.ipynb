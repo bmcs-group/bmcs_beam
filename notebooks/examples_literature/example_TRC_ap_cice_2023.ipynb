{
 "cells": [
  {
   "cell_type": "markdown",
   "id": "0b4d5101-4c28-4064-9042-144c41900023",
   "metadata": {},
   "source": [
    "# Example - beam 400 x 50 mm - carbon layer"
   ]
  },
  {
   "cell_type": "code",
   "execution_count": null,
   "id": "f0971bac-6793-4309-8beb-485cb34827db",
   "metadata": {},
   "outputs": [],
   "source": [
    "from bmcs_beam.api import BoundaryConditions, BoundaryConfig, DeflectionProfile, BeamDesign, LoadDeflectionParamsStudy"
   ]
  },
  {
   "cell_type": "code",
   "execution_count": null,
   "id": "1573ba8a-429f-4d5c-914c-c9ea59fceca1",
   "metadata": {},
   "outputs": [],
   "source": [
    "%matplotlib widget\n",
    "from bmcs_cross_section.api import ReinfLayer, BarLayer, MKappa, TShape"
   ]
  },
  {
   "cell_type": "code",
   "execution_count": null,
   "id": "440928b2-dbfd-494c-aa1b-30f24c629b68",
   "metadata": {},
   "outputs": [],
   "source": [
    "mc = MKappa(high_kappa=0.0007)\n",
    "mc.cs_design.cross_section_shape_.trait_set(H=500, B=300)\n",
    "mc.cs_design.concrete.compression = 'EC2 with plateau'"
   ]
  },
  {
   "cell_type": "code",
   "execution_count": null,
   "id": "ff6babe1-6937-42f5-b9b6-3d48f31920f4",
   "metadata": {},
   "outputs": [],
   "source": [
    "mc.cross_section_shape_.B = 400\n",
    "mc.cross_section_shape_.H = 50"
   ]
  },
  {
   "cell_type": "markdown",
   "id": "e79c87a9-4337-4cbb-b69b-ebf6947ece9f",
   "metadata": {},
   "source": [
    "## Concrete behavior"
   ]
  },
  {
   "cell_type": "code",
   "execution_count": null,
   "id": "3579b622-2e28-409e-9f4b-1f2d197b59e6",
   "metadata": {},
   "outputs": [],
   "source": [
    "f_ct = 3.1\n",
    "E_c = 40000\n",
    "eps_cr = f_ct / E_c"
   ]
  },
  {
   "cell_type": "code",
   "execution_count": null,
   "id": "f7c282dc-9515-4501-bb28-8f96ed7aea06",
   "metadata": {},
   "outputs": [],
   "source": [
    "mc.cs_design.concrete.compression_.trait_set(\n",
    "    f_c = 66.8, eps_cy=-0.002, eps_cu=-0.0035, E_cc=E_c\n",
    ")\n",
    "mc.cs_design.concrete.tension_.trait_set(mu=0, E_ct=E_c, eps_cr=eps_cr)\n",
    "mc.cs_design.concrete.interact()"
   ]
  },
  {
   "cell_type": "code",
   "execution_count": null,
   "id": "fc5d68c8-dbf0-449d-bb95-0222032faa2c",
   "metadata": {},
   "outputs": [],
   "source": [
    "A_roving = 1.81 # mm\n",
    "s_roving = 21 # mm - spacing\n",
    "n_roving = int(mc.cross_section_shape_.B / s_roving)\n",
    "A_layer = n_roving * A_roving\n",
    "A_layer # mm^2"
   ]
  },
  {
   "cell_type": "code",
   "execution_count": null,
   "id": "03735919-542b-4992-b104-b1ff1800d6fd",
   "metadata": {},
   "outputs": [],
   "source": [
    "l1 = ReinfLayer(name='carbon_1', z=15, A=A_layer, matmod='carbon')\n",
    "l1.matmod_.trait_set(E=200000, f_t=3000)\n",
    "mc.cross_section_layout.add_layer(l1)"
   ]
  },
  {
   "cell_type": "code",
   "execution_count": null,
   "id": "471d1729-e1cc-404c-89bf-67ecf42fada8",
   "metadata": {},
   "outputs": [],
   "source": [
    "mc.interact()"
   ]
  },
  {
   "cell_type": "code",
   "execution_count": null,
   "id": "e69e6933-88f8-46ce-aaae-da7cabe8cf16",
   "metadata": {},
   "outputs": [],
   "source": [
    "dp = DeflectionProfile(mc=mc)"
   ]
  },
  {
   "cell_type": "code",
   "execution_count": null,
   "id": "d4c5a21b-90c5-4ee9-a1a0-6f12960ef4ba",
   "metadata": {},
   "outputs": [],
   "source": [
    "dp.beam_design.beam_conf_name = BoundaryConfig.THREE_PB\n",
    "dp.beam_design.L = 1600\n",
    "dp.interact()"
   ]
  },
  {
   "cell_type": "code",
   "execution_count": null,
   "id": "fa1c665c-41d3-46b6-9fe3-5a5ffe480bde",
   "metadata": {},
   "outputs": [],
   "source": []
  }
 ],
 "metadata": {
  "kernelspec": {
   "display_name": "bmcs_env2",
   "language": "python",
   "name": "bmcs_env2"
  },
  "language_info": {
   "codemirror_mode": {
    "name": "ipython",
    "version": 3
   },
   "file_extension": ".py",
   "mimetype": "text/x-python",
   "name": "python",
   "nbconvert_exporter": "python",
   "pygments_lexer": "ipython3"
  }
 },
 "nbformat": 4,
 "nbformat_minor": 5
}
