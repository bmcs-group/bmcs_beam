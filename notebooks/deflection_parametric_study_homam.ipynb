{
 "cells": [
  {
   "cell_type": "markdown",
   "metadata": {},
   "source": [
    "# Deflection Profile Parametric Study\n",
    "This notebook presents a parametric study based on the Deflection-Profile implementation provided in the file \"deflection_profile.py\" of the bmcs_beam package."
   ]
  },
  {
   "cell_type": "code",
   "execution_count": 1,
   "metadata": {},
   "outputs": [],
   "source": [
    "%matplotlib inline"
   ]
  },
  {
   "cell_type": "code",
   "execution_count": 2,
   "metadata": {},
   "outputs": [],
   "source": [
    "from bmcs_cross_section.mkappa import MKappa\n",
    "from bmcs_beam.beam_config.boundary_conditions import BoundaryConditions\n",
    "from bmcs_beam.bending.deflection_profile import DeflectionProfile\n",
    "from bmcs_beam.beam_config.beam_design import BeamDesign\n",
    "from bmcs_cross_section.cs_design.cs_shape import TShape\n",
    "from os.path import join\n",
    "import numpy as np\n",
    "import pandas as pd\n",
    "import sympy as sp\n",
    "import matplotlib.pyplot as plt\n",
    "import bmcs_utils.api as bu"
   ]
  },
  {
   "cell_type": "code",
   "execution_count": 12,
   "metadata": {},
   "outputs": [],
   "source": [
    "def map_and_assign_params_for_rectangular_section(\n",
    "        mc, # MKappa instance for which the params should be applied\n",
    "        b, h, E, E_s, f_sy, eps_cr, rho, beta_tu, v_f, omega, psi, mu, alpha, lambda_cu):\n",
    "    \"\"\"This function map the params of the rectangular section from the type of the paper\n",
    "    to the type of the model and assigns the values\"\"\"\n",
    "    mc.cross_section_shape.B=b\n",
    "    mc.cross_section_shape.H=h\n",
    "    mc.E_cc=E\n",
    "    mc.E_ct=E \n",
    "    mc.mu=mu\n",
    "    mc.eps_cr=eps_cr\n",
    "    mc.eps_cy=omega * eps_cr\n",
    "    mc.eps_cu=lambda_cu * eps_cr\n",
    "    mc.eps_tu=beta_tu * eps_cr\n",
    "    mc.eps_sy_j=[f_sy / E_s] # or eps_sy_j=psi * eps_cr,\n",
    "    mc.E_j=[E_s]\n",
    "    mc.z_j=[h * (1 - alpha)]\n",
    "    mc.A_j=[rho * b * h]"
   ]
  },
  {
   "cell_type": "markdown",
   "metadata": {},
   "source": [
    "#### 1. Verification with Heid et al. (2020), [link](https://www.heringinternational.com/fileadmin/media/archive1/downloads/architekturbeton/Bauingenieur_06_2020_S.210-219.pdf), Carbon reinforcement"
   ]
  },
  {
   "cell_type": "code",
   "execution_count": 4,
   "metadata": {},
   "outputs": [
    {
     "data": {
      "image/png": "[encoded data removed]",
      "text/plain": [
       "<Figure size 432x288 with 1 Axes>"
      ]
     },
     "metadata": {
      "needs_background": "light"
     },
     "output_type": "display_data"
    }
   ],
   "source": [
    "#HB-SU-0\n",
    "%matplotlib inline\n",
    "excel_file = join('./verification_data/hei20','hei20.xlsx')\n",
    "data = pd.read_excel(excel_file, 'HB-SU-0')\n",
    "\n",
    "for i in range(0,data.shape[1],2):\n",
    "    plt.plot(data.iloc[:, i+1],data.iloc[:, i], label = data.columns.tolist()[i][0:-2])\n",
    "w_4= data['HB-SU-0-4_w']  ; f_4= data['HB-SU-0-4_F'] ; validated_data = [w_4, f_4/4]; #plt.plot(w_4,f_4, label = 'HB-SU-0-4')\n",
    "plt.legend(); plt.xlabel(r'$w$ [mm]'); plt.ylabel(r'$F$ [KN]');"
   ]
  },
  {
   "cell_type": "code",
   "execution_count": 5,
   "metadata": {},
   "outputs": [],
   "source": [
    "def get_parametric_study(parameter_ranges, validated_data):\n",
    "    \n",
    "    np.set_printoptions(precision=3)\n",
    "    if np.ceil(len(parameter_ranges)/3).astype('int') == 1:\n",
    "        nrows = np.ceil(len(parameter_ranges)/3).astype('int') + 1\n",
    "    else:\n",
    "        nrows = np.ceil(len(parameter_ranges)/3).astype('int')\n",
    "    ncols= 3\n",
    "\n",
    "    fig, axes = plt.subplots(nrows=nrows, ncols=ncols, figsize=(7 * ncols, 5 * nrows))\n",
    "    col = 0\n",
    "    row = 0\n",
    "\n",
    "    for i, ax in enumerate(axes.flatten()):\n",
    "        w_val = validated_data[0]\n",
    "        f_val = validated_data[1]\n",
    "        ax.plot(w_val, f_val, c= 'black', label= 'Experiment', linestyle='--')\n",
    "        \n",
    "    for param_name, param_range in parameter_ranges.items():\n",
    "\n",
    "        mc = MKappa(n_m=100, n_kappa = 100)\n",
    "        dp = DeflectionProfile(mc=mc)\n",
    "        dp.mc.low_kappa = 0\n",
    "        dp.mc.high_kappa = 0.0008\n",
    "        # Select the loading conditions, CONFIG_NAMES[0]: 3pb; CONFIG_NAMES[1]: 4pb\n",
    "        dp.beam_design.beam_conf_name = BoundaryConditions.CONFIG_NAMES[1]\n",
    "        dp.beam_design.L = 3 * 320\n",
    "        map_and_assign_params_for_rectangular_section(dp.mc,\n",
    "                    beta_tu = 2,  #  eps_tu/eps_cr\n",
    "                    b = 45,\n",
    "                    h = 30,\n",
    "                    rho = 7.24/30/150/2,\n",
    "                    v_f = 1.0,\n",
    "                    E = 39500,\n",
    "                    E_s = 240000, \n",
    "                    f_sy = 2712 , \n",
    "                    eps_cr = 0.000163, \n",
    "                    omega = .68, #eps_cy/eps_cr\n",
    "                    psi = 0.0113/0.00016, #eps_sy_j/eps_cr\n",
    "                    mu = .2, #σp/σcr\n",
    "                    alpha = 0.75, #z_j/h\n",
    "                    lambda_cu = 0.11/0.00016) #eps_cu/eps_cr\n",
    "        dp.mc.A_j = np.array([3.62, 3.62])  # A_j[0] for tension steel / A_j[1] for compression steel\n",
    "        dp.mc.z_j = np.array([8, 22])\n",
    "        dp.mc.E_j = np.array([240000, 240000])\n",
    "        dp.mc.eps_sy_j = np.array([0.0113, 0.0113])\n",
    "        \n",
    "        if param_name == 'L':\n",
    "            for value in np.linspace(*param_range):\n",
    "                setattr(dp.beam_design, param_name, value)\n",
    "                dp.plot_fw_par(axes[row, col], param_name, value)\n",
    "        elif param_name == 'B':\n",
    "            for value in np.linspace(*param_range):\n",
    "                setattr(dp.mc.cross_section_shape, param_name, value)\n",
    "                dp.plot_fw_par(axes[row, col], param_name, value)\n",
    "        else:\n",
    "            for value in np.linspace(*param_range):\n",
    "                setattr(dp.mc, param_name, value)\n",
    "                dp.plot_fw_par(axes[row, col], param_name, value)\n",
    "                print(dp.mc.E_cc)\n",
    "        if col < ncols - 1  :\n",
    "            col +=1\n",
    "        else:\n",
    "            row += 1\n",
    "            col = 0"
   ]
  },
  {
   "cell_type": "code",
   "execution_count": 6,
   "metadata": {},
   "outputs": [],
   "source": [
    "def get_parametric_study(parameter_ranges, validated_data):\n",
    "    # not Ann\n",
    "    np.set_printoptions(precision=3)\n",
    "    if np.ceil(len(parameter_ranges)/3).astype('int') == 1:\n",
    "        nrows = np.ceil(len(parameter_ranges)/3).astype('int') + 1\n",
    "    else:\n",
    "        nrows = np.ceil(len(parameter_ranges)/3).astype('int')\n",
    "    ncols= 3\n",
    "\n",
    "    fig, axes = plt.subplots(nrows=nrows, ncols=ncols, figsize=(7 * ncols, 5 * nrows))\n",
    "    col = 0\n",
    "    row = 0\n",
    "\n",
    "    for i, ax in enumerate(axes.flatten()):\n",
    "        w_val = validated_data[0]\n",
    "        f_val = validated_data[1]\n",
    "#         ax.plot(w_val, f_val, c= 'black', label= 'Experiment', linestyle='--')\n",
    "        \n",
    "    for param_name, param_range in parameter_ranges.items():\n",
    "\n",
    "        mc = MKappa(n_m=100, n_kappa = 100)\n",
    "        dp = DeflectionProfile(mc=mc)\n",
    "        dp.mc.low_kappa = 0\n",
    "        dp.mc.high_kappa = 0.00008\n",
    "\n",
    "        # Select the loading conditions, CONFIG_NAMES[0]: 3pb; CONFIG_NAMES[1]: 4pb\n",
    "        dp.beam_design.beam_conf_name = BoundaryConditions.CONFIG_NAMES[1]\n",
    "\n",
    "        dp.beam_design.L = 3 * 650\n",
    "\n",
    "        map_and_assign_params_for_rectangular_section(dp.mc,\n",
    "                    beta_tu = 2,  #  eps_tu/eps_cr\n",
    "                    b = 150,\n",
    "                    h = 100,\n",
    "                    rho = (0.0079 * 2 * 150 * 12) / (150 * 88),\n",
    "                    v_f = 0.0,\n",
    "                    E = 30000,\n",
    "                    E_s = 225000, \n",
    "                    f_sy = 3350 , \n",
    "                    eps_cr = 0.00016, # how to calculate it?! \n",
    "                    omega = .68, #eps_cy/eps_cr\n",
    "                    psi = 0.0148/0.00016, #eps_sy_j/eps_cr\n",
    "                    mu = 0.2, #σp/σcr\n",
    "                    alpha = .94, #z_j/h\n",
    "                    lambda_cu = 21.93) #eps_cu/eps_cr\n",
    "\n",
    "        if param_name == 'L':\n",
    "            for value in np.linspace(*param_range):\n",
    "                setattr(dp.beam_design, param_name, value)\n",
    "                dp.plot_fw_par(axes[row, col], param_name, value)\n",
    "        elif param_name == 'B':\n",
    "            for value in np.linspace(*param_range):\n",
    "                setattr(dp.mc.cross_section_shape, param_name, value)\n",
    "                dp.plot_fw_par(axes[row, col], param_name, value)\n",
    "        else:\n",
    "            for value in np.linspace(*param_range):\n",
    "                setattr(dp.mc, param_name, value)\n",
    "                dp.plot_fw_par(axes[row, col], param_name, value)\n",
    "                print(dp.mc.E_cc)\n",
    "                dp.mc.plot_mk_and_stress_profile(axes[row, col +1], axes[row , col +2])\n",
    "        if col < ncols - 1  :\n",
    "            col +=1\n",
    "        else:\n",
    "            row += 1\n",
    "            col = 0"
   ]
  },
  {
   "cell_type": "code",
   "execution_count": 7,
   "metadata": {},
   "outputs": [],
   "source": [
    "# This dictionary provides the range and number of parameters\n",
    "n = 1\n",
    "parameter_ranges = {\n",
    "#         'L' : (660,1260,n),\n",
    "#         'B' : (150,15,n),\n",
    "#         'H': (25,35,n),\n",
    "#         'E_ct': (10000,70000,n),\n",
    "        'E_cc': (0,40000,n),\n",
    "#         'eps_cr': (0.00005,0.0002,n),\n",
    "#         'eps_cy': (-0.003,-0.004,n),\n",
    "#         'eps_cu': (0.001,0.01,n,int),\n",
    "#         'eps_tu': (0.001,0.006,3),\n",
    "#         'mu': (0,1,n),\n",
    "#         'z_j': ((0, 30),(15, 15),n),\n",
    "#         'A_j': ((2.62,2.62),(4.2,4.2),n),\n",
    "#         'E_j': ((240000,240000),(280000,280000), n),\n",
    "#         'eps_sy_j' : ((0.0113,0.0113), (0.009,0.009), n),\n",
    "#         'n_m' : (2, 1000, 10)\n",
    "    }\n",
    "\n",
    "# ps = get_parametric_study(parameter_ranges, validated_data)\n",
    "# ps"
   ]
  },
  {
   "cell_type": "code",
   "execution_count": 13,
   "metadata": {
    "scrolled": true
   },
   "outputs": [
    {
     "name": "stdout",
     "output_type": "stream",
     "text": [
      "30000.0\n",
      "30000.0\n",
      "0.0\n",
      "0.0\n"
     ]
    },
    {
     "data": {
      "application/vnd.jupyter.widget-view+json": {
       "model_id": "58f163b46bc14e4abb323fc19553e860",
       "version_major": 2,
       "version_minor": 0
      },
      "text/plain": [
       "VBox(children=(Output(), Tab(children=(VBox(children=(GridBox(children=(IntText(value=31, description='\\\\(n_{\\…"
      ]
     },
     "metadata": {},
     "output_type": "display_data"
    }
   ],
   "source": [
    "import bmcs_utils.api as bu\n",
    "%matplotlib widget\n",
    "\n",
    "mc = MKappa(n_m=100, n_kappa = 100)\n",
    "dp = DeflectionProfile(mc=mc)\n",
    "dp.mc.low_kappa = 0\n",
    "dp.mc.high_kappa = 0.00008\n",
    "\n",
    "# Select the loading conditions, CONFIG_NAMES[0]: 3pb; CONFIG_NAMES[1]: 4pb\n",
    "dp.beam_design.beam_conf_name = BoundaryConditions.CONFIG_NAMES[1]\n",
    "\n",
    "dp.beam_design.L = 3 * 650\n",
    "\n",
    "map_and_assign_params_for_rectangular_section(dp.mc,\n",
    "    beta_tu = 2,  #  eps_tu/eps_cr\n",
    "    b = 150,\n",
    "    h = 100,\n",
    "    rho = (0.0079 * 2 * 150 * 12) / (150 * 88),\n",
    "    v_f = 0.0,\n",
    "    E = 30000,\n",
    "    E_s = 225000, \n",
    "    f_sy = 3350 , \n",
    "    eps_cr = 0.00016, # how to calculate it?! \n",
    "    omega = .68, #eps_cy/eps_cr\n",
    "    psi = 0.0148/0.00016, #eps_sy_j/eps_cr\n",
    "    mu = 0.2, #σp/σcr\n",
    "    alpha = .94, #z_j/h\n",
    "    lambda_cu = 21.93) #eps_cu/eps_cr\n",
    "\n",
    "print(dp.mc.cross_section_layout.matrix.E_cc)\n",
    "print(dp.mc.E_cc)\n",
    "dp.mc.E_cc= 0\n",
    "print(dp.mc.cross_section_layout.matrix.E_cc)\n",
    "print(dp.mc.E_cc)\n",
    "\n",
    "bu.InteractiveWindow([dp, \n",
    "                      dp.beam_design, \n",
    "                      dp.mc, \n",
    "                      dp.mc.cs_design.cross_section_shape, \n",
    "                      dp.mc.cs_design.cross_section_layout], tight_layout=True).interact()"
   ]
  },
  {
   "cell_type": "code",
   "execution_count": null,
   "metadata": {},
   "outputs": [],
   "source": []
  }
 ],
 "metadata": {
  "kernelspec": {
   "display_name": "Python 3",
   "language": "python",
   "name": "python3"
  },
  "language_info": {
   "codemirror_mode": {
    "name": "ipython",
    "version": 3
   },
   "file_extension": ".py",
   "mimetype": "text/x-python",
   "name": "python",
   "nbconvert_exporter": "python",
   "pygments_lexer": "ipython3",
   "version": "3.7.9"
  }
 },
 "nbformat": 4,
 "nbformat_minor": 1
}
