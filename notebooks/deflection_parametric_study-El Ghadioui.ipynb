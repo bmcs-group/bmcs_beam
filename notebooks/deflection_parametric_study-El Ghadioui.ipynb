{
 "cells": [
  {
   "cell_type": "markdown",
   "metadata": {},
   "source": [
    "# Deflection Profile Parametric Study for El Ghadioui2020\n",
    "El Ghadioui2020_Structural behaviour of CFRP reinforced concrete members under bending and shear loads"
   ]
  },
  {
   "cell_type": "code",
   "execution_count": 2,
   "metadata": {},
   "outputs": [],
   "source": [
    "%matplotlib widget\n",
    "# %matplotlib qt"
   ]
  },
  {
   "cell_type": "code",
   "execution_count": 3,
   "metadata": {},
   "outputs": [],
   "source": [
    "from bmcs_cross_section.api import MKappa, TShape, EC2, BarLayer, ReinfLayer\n",
    "from bmcs_beam.api import BoundaryConditions, BoundaryConfig, DeflectionProfile, BeamDesign, LoadDeflectionParamsStudy\n",
    "from os.path import join\n",
    "import numpy as np\n",
    "import pandas as pd\n",
    "import sympy as sp\n",
    "import matplotlib.pyplot as plt\n",
    "import bmcs_utils.api as bu"
   ]
  },
  {
   "cell_type": "code",
   "execution_count": 4,
   "metadata": {},
   "outputs": [],
   "source": [
    "# Beam B-M-C-K1 - CFRP Bars\n",
    "\n",
    "excel_file = join('./verification_data/el_ghadioui2020', 'fig_3.xlsx')\n",
    "data = pd.read_excel(excel_file, engine='openpyxl')\n",
    "ver_data = [data['B-M-C-K1_deflection'], data['B-M-C-K1_load']]"
   ]
  },
  {
   "cell_type": "code",
   "execution_count": 4,
   "metadata": {},
   "outputs": [],
   "source": [
    "# Beam B-M-C-K1 - CFRP Bars\n",
    "\n",
    "# C 50/60\n",
    "\n",
    "E = 33525\n",
    "\n",
    "mc = MKappa(reinforcement_type= ReinforcementType.CARBON,\n",
    "            \n",
    "#             concrete_material_law = ConcreteMaterialLaw.EC2,\n",
    "#             f_cm = 50, # 71.6,\n",
    "#             f_cd = f_ck*0.85/1.5,\n",
    "            \n",
    "            low_kappa = 0,\n",
    "            high_kappa = 0.000082,\n",
    "            E_cc = E,\n",
    "            E_ct = E,\n",
    "            eps_cr = 0.00006,\n",
    "            eps_tu = 0.00008,\n",
    "            eps_cy = 0.00175, # EC2 eps_c3\n",
    "            eps_cu = 0.0035,  # EC2 eps_cu3\n",
    "            mu = 0.0)\n",
    "\n",
    "mc.cross_section_shape.B = 400\n",
    "mc.cross_section_shape.H = 200\n",
    "mc.cross_section_layout.reinforcement = [Reinforcement(eps_sy=0.014, E=135121, z=35, A=2 * 70.14)]\n",
    "\n",
    "dp = DeflectionProfile(mc=mc)\n",
    "\n",
    "dp.beam_design.beam_conf_name = BoundaryConfig.FOUR_PB\n",
    "dp.beam_design.beam_conf_name.first_load_distance = 1925\n",
    "dp.beam_design.L = 4700\n",
    "# dp.beam_design.L = 5000 # This gives perfect results\n",
    "dp.F_scale = 2/1000\n",
    "\n",
    "# bu.InteractiveWindow([dp, \n",
    "#                       dp.beam_design, \n",
    "#                       dp.mc, \n",
    "#                       dp.mc.cs_design.cross_section_shape, \n",
    "#                       dp.mc.cs_design.cross_section_layout], tight_layout=True).interact()"
   ]
  },
  {
   "cell_type": "code",
   "execution_count": 74,
   "metadata": {},
   "outputs": [
    {
     "data": {
      "application/vnd.jupyter.widget-view+json": {
       "model_id": "",
       "version_major": 2,
       "version_minor": 0
      },
      "text/plain": [
       "VBox(children=(Output(), Tab(children=(VBox(children=(GridBox(children=(IntText(value=31, description='\\\\(n_{\\…"
      ]
     },
     "metadata": {},
     "output_type": "display_data"
    },
    {
     "name": "stdout",
     "output_type": "stream",
     "text": [
      "No solution The iteration is not making good progress, as measured by the \n",
      "  improvement from the last ten iterations.\n",
      "No solution The iteration is not making good progress, as measured by the \n",
      "  improvement from the last ten iterations.\n",
      "M inverse has not succeeded, the M-Kappa solution may have failed due to a wrong kappa range or not suitable material law!\n",
      "No solution The iteration is not making good progress, as measured by the \n",
      "  improvement from the last five Jacobian evaluations.\n",
      "M inverse has not succeeded, the M-Kappa solution may have failed due to a wrong kappa range or not suitable material law!\n"
     ]
    }
   ],
   "source": [
    "# Test f_ck\n",
    "\"\"\" [\n",
    "    {'f_ck': 30, 'low_kappa':0 , 'high_kappa':0.00012 },\n",
    "    {'f_ck': 50, 'low_kappa':0 , 'high_kappa':0.00012 },\n",
    "    {'f_ck': 70, 'low_kappa':-0.00001 , 'high_kappa':0.00011},\n",
    "    {'f_ck': 90, 'low_kappa':-0.00002 , 'high_kappa':0.00011},\n",
    "    ] \"\"\"\n",
    "\n",
    "f_ck = 90\n",
    "\n",
    "E = EC2.get_E_cm(f_ck)\n",
    "\n",
    "fctk_0_05 = EC2.get_f_ctk_0_05(f_ck)\n",
    "f_ctd = fctk_0_05\n",
    "# f_ctd = 0.85 * fctk_0_05 / 1.5\n",
    "f_ctd_fl = max((1.6 - 200 /1000) * f_ctd, f_ctd)\n",
    "\n",
    "\n",
    "mc1 = MKappa(reinforcement_type= ReinforcementType.CARBON,\n",
    "            low_kappa = 0,\n",
    "            high_kappa = 0.000075,\n",
    "            E_cc = E,\n",
    "            E_ct = E,\n",
    "            eps_cr = f_ctd_fl/E,            # 0.00006,\n",
    "            eps_tu = 2* f_ctd_fl/E,         # 0.00008,\n",
    "            eps_cy = EC2.get_eps_c3(f_ck),\n",
    "            eps_cu = EC2.get_eps_cu3(f_ck),\n",
    "            mu = 0.0)\n",
    "\n",
    "mc1.cross_section_shape.B = 400\n",
    "mc1.cross_section_shape.H = 200\n",
    "mc1.cross_section_layout.reinforcement = [Reinforcement(eps_sy=0.014, E=135121, z=35, A=2 * 70.14)]\n",
    "# mc1.interact()\n",
    "\n",
    "\n",
    "dp = DeflectionProfile(mc=mc1)\n",
    "\n",
    "dp.beam_design.beam_conf_name = BoundaryConfig.FOUR_PB\n",
    "dp.beam_design.beam_conf_name.first_load_distance = 1925\n",
    "dp.beam_design.L = 4700\n",
    "# dp.beam_design.L = 5000 # This gives perfect results\n",
    "dp.F_scale = 2/1000\n",
    "\n",
    "bu.InteractiveWindow([dp, \n",
    "                      dp.beam_design, \n",
    "                      dp.mc, \n",
    "                      dp.mc.cs_design.cross_section_shape, \n",
    "                      dp.mc.cs_design.cross_section_layout], tight_layout=True).interact()\n",
    "\n",
    "# _, ax = plt.subplots()\n",
    "# f, w = dp.get_Fw()\n",
    "# ax.plot(w, f*2/1000)\n",
    "# ax.plot(ver_data[0], ver_data[1])"
   ]
  },
  {
   "cell_type": "code",
   "execution_count": 13,
   "metadata": {
    "scrolled": true
   },
   "outputs": [
    {
     "name": "stdout",
     "output_type": "stream",
     "text": [
      "M - k recalculated\n"
     ]
    },
    {
     "data": {
      "application/vnd.jupyter.widget-view+json": {
       "model_id": "60775489c6d24ea58a4974ba5b35b4c8",
       "version_major": 2,
       "version_minor": 0
      },
      "text/plain": [
       "VBox(children=(HBox(children=(VBox(children=(Tree(layout=Layout(align_items='stretch', border='solid 1px black…"
      ]
     },
     "metadata": {},
     "output_type": "display_data"
    }
   ],
   "source": [
    "# Test E\n",
    "\n",
    "\"\"\" [\n",
    "    {'E_c': 30000, 'low_kappa':0 , 'high_kappa':0.00012 },\n",
    "    {'E_c': 35000, 'low_kappa':0 , 'high_kappa':0.00012 },\n",
    "    {'E_c': 40000, 'low_kappa':0 , 'high_kappa':0.00012 },\n",
    "    {'E_c': 45000, 'low_kappa':-0.00001 , 'high_kappa':0.00011 },\n",
    "    ] \"\"\"\n",
    "\n",
    "E = 30000\n",
    "   \n",
    "mc = MKappa(low_kappa = 0,\n",
    "            high_kappa = 0.00012) \n",
    "    \n",
    "mc.cs_design.matrix_.trait_set(\n",
    "        E_cc=E,\n",
    "        E_ct=E,\n",
    "        eps_cr = 0.00006,\n",
    "        eps_tu = 0.00008,\n",
    "        eps_cy = 0.00175,\n",
    "        eps_cu = 0.0035,\n",
    "        mu = 0.0,\n",
    "    )  \n",
    "\n",
    "mc.cross_section_shape_.B = 400\n",
    "mc.cross_section_shape_.H = 200\n",
    "\n",
    "bl1 = ReinfLayer(name='layer1', z=35, A=2 * 70.14, matmod='carbon')\n",
    "bl1.matmod_.trait_set(E=135121, f_t=1891)\n",
    "mc.cross_section_layout.add_layer(bl1)\n",
    "\n",
    "dp = DeflectionProfile(mc=mc)\n",
    "dp.beam_design.beam_conf_name = BoundaryConfig.FOUR_PB\n",
    "dp.beam_design.beam_conf_name.first_load_distance = 1925\n",
    "dp.beam_design.L = 4700\n",
    "dp.F_scale = 2/1000\n",
    "\n",
    "dp.interact()\n",
    "\n",
    "# _, ax = plt.subplots()\n",
    "# f, w = dp.get_Fw()\n",
    "# ax.plot(w, f*2/1000)\n",
    "# ax.plot(ver_data[0], ver_data[1])"
   ]
  },
  {
   "cell_type": "code",
   "execution_count": 17,
   "metadata": {},
   "outputs": [],
   "source": [
    "# saving mcs with different E\n",
    "\n",
    "setups = [\n",
    "    {'E_c': 30000, 'low_kappa':0 , 'high_kappa':0.00012 },\n",
    "    {'E_c': 35000, 'low_kappa':0 , 'high_kappa':0.00012 },\n",
    "    {'E_c': 40000, 'low_kappa':0 , 'high_kappa':0.00012 },\n",
    "    {'E_c': 45000, 'low_kappa':-0.00001 , 'high_kappa':0.00011 },\n",
    "    ]\n",
    "mcs = []\n",
    "for setup in setups:\n",
    "    \n",
    "    E = setup['E_c']\n",
    "    \n",
    "    mc1 = MKappa(reinforcement_type= ReinforcementType.CARBON,\n",
    "                low_kappa = setup['low_kappa'],\n",
    "                high_kappa = setup['high_kappa'],\n",
    "                E_cc = E,\n",
    "                E_ct = E,\n",
    "                eps_cr = 0.00006,\n",
    "                eps_tu = 0.00008,\n",
    "                eps_cy = 0.00175,\n",
    "                eps_cu = 0.0035,\n",
    "                mu = 0.0)\n",
    "    mc1.cross_section_shape.B = 400\n",
    "    mc1.cross_section_shape.H = 200\n",
    "    mc1.cross_section_layout.reinforcement = [Reinforcement(eps_sy=0.014, E=135121, z=35, A=2 * 70.14)]\n",
    "    mcs.append(mc1)\n",
    "    "
   ]
  },
  {
   "cell_type": "code",
   "execution_count": 18,
   "metadata": {},
   "outputs": [
    {
     "name": "stdout",
     "output_type": "stream",
     "text": [
      "Parametric study is running...\n",
      "mc: <bmcs_cross_section.mkappa.mkappa.MKappa object at 0x00000205C3891900>, <bmcs_cross_section.mkappa.mkappa.MKappa object at 0x00000205C3BB29F0>, <bmcs_cross_section.mkappa.mkappa.MKappa object at 0x00000205C38195E0>, <bmcs_cross_section.mkappa.mkappa.MKappa object at 0x00000205C3B99590>, \n",
      "Parametric study finished.\n"
     ]
    }
   ],
   "source": [
    "# running parametric study for different E\n",
    "dp = DeflectionProfile(mc=mc)\n",
    "\n",
    "dp.beam_design.beam_conf_name = BoundaryConfig.FOUR_PB\n",
    "dp.beam_design.beam_conf_name.first_load_distance = 1925\n",
    "dp.beam_design.L = 4700\n",
    "dp.F_scale = 2/1000\n",
    "\n",
    "params_config = [\n",
    "    ['mc',   dp, mcs],\n",
    "]\n",
    "\n",
    "LoadDeflectionParamsStudy(dp).run(params_config, ver_data)"
   ]
  },
  {
   "cell_type": "code",
   "execution_count": 21,
   "metadata": {
    "scrolled": true
   },
   "outputs": [
    {
     "data": {
      "application/vnd.jupyter.widget-view+json": {
       "model_id": "be7ef2af5b2f41f8b0cf77c29d2f2594",
       "version_major": 2,
       "version_minor": 0
      },
      "text/plain": [
       "VBox(children=(Output(), Tab(children=(VBox(children=(GridBox(children=(IntText(value=31, description='\\\\(n_{\\…"
      ]
     },
     "metadata": {},
     "output_type": "display_data"
    }
   ],
   "source": [
    "# Test E_s\n",
    "\n",
    "\"\"\" [\n",
    "    {'E_s': 130000, 'low_kappa':0 , 'high_kappa':0.00012 },\n",
    "    {'E_s': 170000, 'low_kappa':0 , 'high_kappa':0.00014 },\n",
    "    {'E_s': 210000, 'low_kappa':0 , 'high_kappa':0.00012 },\n",
    "    {'E_s': 250000, 'low_kappa':0 , 'high_kappa':0.00012 },\n",
    "    ] \"\"\"\n",
    "\n",
    "\n",
    "E = 33525\n",
    "\n",
    "mc1 = MKappa(reinforcement_type= ReinforcementType.CARBON,           \n",
    "            low_kappa = 0,\n",
    "            high_kappa = 0.00012,\n",
    "            E_cc = E,\n",
    "            E_ct = E,\n",
    "            eps_cr = 0.00006,\n",
    "            eps_tu = 0.00008,\n",
    "            eps_cy = 0.00175,\n",
    "            eps_cu = 0.0035,\n",
    "            mu = 0.0)\n",
    "\n",
    "mc1.cross_section_shape.B = 400\n",
    "mc1.cross_section_shape.H = 200\n",
    "mc1.cross_section_layout.reinforcement = [Reinforcement(eps_sy=0.014, E=250000, z=35, A=2 * 70.14)]\n",
    "# mc1.interact()\n",
    "\n",
    "\n",
    "dp = DeflectionProfile(mc=mc1)\n",
    "\n",
    "dp.beam_design.beam_conf_name = BoundaryConfig.FOUR_PB\n",
    "dp.beam_design.beam_conf_name.first_load_distance = 1925\n",
    "dp.beam_design.L = 4700\n",
    "# dp.beam_design.L = 5000 # This gives perfect results\n",
    "dp.F_scale = 2/1000\n",
    "\n",
    "bu.InteractiveWindow([dp, \n",
    "                      dp.beam_design, \n",
    "                      dp.mc, \n",
    "                      dp.mc.cs_design.cross_section_shape, \n",
    "                      dp.mc.cs_design.cross_section_layout], tight_layout=True).interact()\n",
    "\n",
    "# _, ax = plt.subplots()\n",
    "# f, w = dp.get_Fw()\n",
    "# ax.plot(w, f*2/1000)\n",
    "# ax.plot(ver_data[0], ver_data[1])"
   ]
  },
  {
   "cell_type": "code",
   "execution_count": 22,
   "metadata": {},
   "outputs": [],
   "source": [
    "# saving mcs with different E_s\n",
    "\n",
    "setups = [\n",
    "    {'E_s': 130000, 'low_kappa':0 , 'high_kappa':0.00012 },\n",
    "    {'E_s': 170000, 'low_kappa':0 , 'high_kappa':0.00014 },\n",
    "    {'E_s': 210000, 'low_kappa':0 , 'high_kappa':0.00012 },\n",
    "    {'E_s': 250000, 'low_kappa':0 , 'high_kappa':0.00012 },\n",
    "    ]\n",
    "mcs = []\n",
    "for setup in setups:\n",
    "    \n",
    "    E = 33525\n",
    "    \n",
    "    mc1 = MKappa(reinforcement_type= ReinforcementType.CARBON,\n",
    "                low_kappa = setup['low_kappa'],\n",
    "                high_kappa = setup['high_kappa'],\n",
    "                E_cc = E,\n",
    "                E_ct = E,\n",
    "                eps_cr = 0.00006,\n",
    "                eps_tu = 0.00008,\n",
    "                eps_cy = 0.00175,\n",
    "                eps_cu = 0.0035,\n",
    "                mu = 0.0)\n",
    "    mc1.cross_section_shape.B = 400\n",
    "    mc1.cross_section_shape.H = 200\n",
    "    mc1.cross_section_layout.reinforcement = [Reinforcement(eps_sy=0.014, E=setup['E_s'], z=35, A=2 * 70.14)]\n",
    "    mcs.append(mc1)\n",
    "    "
   ]
  },
  {
   "cell_type": "code",
   "execution_count": 23,
   "metadata": {},
   "outputs": [
    {
     "name": "stdout",
     "output_type": "stream",
     "text": [
      "Parametric study is running...\n",
      "mc: <bmcs_cross_section.mkappa.mkappa.MKappa object at 0x00000205C5C07220>, <bmcs_cross_section.mkappa.mkappa.MKappa object at 0x00000205C00DC0E0>, <bmcs_cross_section.mkappa.mkappa.MKappa object at 0x00000205C8302D60>, <bmcs_cross_section.mkappa.mkappa.MKappa object at 0x00000205C5E9E720>, \n",
      "Parametric study finished.\n"
     ]
    }
   ],
   "source": [
    "# running parametric study for different E_s\n",
    "dp = DeflectionProfile(mc=mc)\n",
    "\n",
    "dp.beam_design.beam_conf_name = BoundaryConfig.FOUR_PB\n",
    "dp.beam_design.beam_conf_name.first_load_distance = 1925\n",
    "dp.beam_design.L = 4700\n",
    "dp.F_scale = 2/1000\n",
    "\n",
    "params_config = [\n",
    "    ['mc',   dp, mcs],\n",
    "]\n",
    "\n",
    "LoadDeflectionParamsStudy(dp).run(params_config, ver_data)"
   ]
  },
  {
   "cell_type": "code",
   "execution_count": 19,
   "metadata": {
    "scrolled": false
   },
   "outputs": [
    {
     "data": {
      "application/vnd.jupyter.widget-view+json": {
       "model_id": "",
       "version_major": 2,
       "version_minor": 0
      },
      "text/plain": [
       "VBox(children=(Output(), Tab(children=(VBox(children=(GridBox(children=(IntText(value=31, description='\\\\(n_{\\…"
      ]
     },
     "metadata": {},
     "output_type": "display_data"
    },
    {
     "name": "stdout",
     "output_type": "stream",
     "text": [
      "No solution The iteration is not making good progress, as measured by the \n",
      "  improvement from the last ten iterations.\n"
     ]
    }
   ],
   "source": [
    "# Test carbon strength\n",
    "\n",
    "\"\"\" [\n",
    "    {'eps_sy': 1800/135121, 'low_kappa':0 , 'high_kappa':0.00012 },\n",
    "    {'eps_sy': 2200/135121, 'low_kappa':0 , 'high_kappa':0.00012 },\n",
    "    {'eps_sy': 2600/135121, 'low_kappa':0 , 'high_kappa':0.00014 },\n",
    "    {'eps_sy': 3000/135121, 'low_kappa':0 , 'high_kappa':0.00015 },\n",
    "    ] \"\"\"\n",
    "\n",
    "E = 33525\n",
    "\n",
    "mc1 = MKappa(reinforcement_type= ReinforcementType.CARBON,           \n",
    "            low_kappa = 0,\n",
    "            high_kappa = 0.00012,\n",
    "            E_cc = E,\n",
    "            E_ct = E,\n",
    "            eps_cr = 0.00006,\n",
    "            eps_tu = 0.00008,\n",
    "            eps_cy = 0.00175,\n",
    "            eps_cu = 0.0035,\n",
    "            mu = 0.0)\n",
    "\n",
    "mc1.cross_section_shape.B = 400\n",
    "mc1.cross_section_shape.H = 200\n",
    "mc1.cross_section_layout.reinforcement = [Reinforcement(eps_sy=3000/135121, E=135121, z=35, A=2 * 70.14)]\n",
    "# mc1.interact()\n",
    "\n",
    "\n",
    "dp = DeflectionProfile(mc=mc1)\n",
    "\n",
    "dp.beam_design.beam_conf_name = BoundaryConfig.FOUR_PB\n",
    "dp.beam_design.beam_conf_name.first_load_distance = 1925\n",
    "dp.beam_design.L = 4700\n",
    "# dp.beam_design.L = 5000 # This gives perfect results\n",
    "dp.F_scale = 2/1000\n",
    "\n",
    "bu.InteractiveWindow([dp, \n",
    "                      dp.beam_design, \n",
    "                      dp.mc, \n",
    "                      dp.mc.cs_design.cross_section_shape, \n",
    "                      dp.mc.cs_design.cross_section_layout], tight_layout=True).interact()\n",
    "\n",
    "# _, ax = plt.subplots()\n",
    "# f, w = dp.get_Fw()\n",
    "# ax.plot(w, f*2/1000)\n",
    "# ax.plot(ver_data[0], ver_data[1])"
   ]
  },
  {
   "cell_type": "code",
   "execution_count": 24,
   "metadata": {},
   "outputs": [],
   "source": [
    "# saving mcs with different carbon strength\n",
    "\n",
    "setups = [\n",
    "    {'eps_sy': 1800/135121, 'low_kappa':0 , 'high_kappa':0.00012 },\n",
    "    {'eps_sy': 2200/135121, 'low_kappa':0 , 'high_kappa':0.00012 },\n",
    "    {'eps_sy': 2600/135121, 'low_kappa':0 , 'high_kappa':0.00014 },\n",
    "    {'eps_sy': 3000/135121, 'low_kappa':0 , 'high_kappa':0.00015 },\n",
    "    ]\n",
    "mcs = []\n",
    "for setup in setups:\n",
    "    \n",
    "    E = 33525\n",
    "    \n",
    "    mc1 = MKappa(reinforcement_type= ReinforcementType.CARBON,\n",
    "                low_kappa = setup['low_kappa'],\n",
    "                high_kappa = setup['high_kappa'],\n",
    "                E_cc = E,\n",
    "                E_ct = E,\n",
    "                eps_cr = 0.00006,\n",
    "                eps_tu = 0.00008,\n",
    "                eps_cy = 0.00175,\n",
    "                eps_cu = 0.0035,\n",
    "                mu = 0.0)\n",
    "    mc1.cross_section_shape.B = 400\n",
    "    mc1.cross_section_shape.H = 200\n",
    "    mc1.cross_section_layout.reinforcement = [Reinforcement(eps_sy=setup['eps_sy'], E=135121, z=35, A=2 * 70.14)]\n",
    "    mcs.append(mc1)\n",
    "    "
   ]
  },
  {
   "cell_type": "code",
   "execution_count": 25,
   "metadata": {},
   "outputs": [
    {
     "name": "stdout",
     "output_type": "stream",
     "text": [
      "Parametric study is running...\n",
      "mc: <bmcs_cross_section.mkappa.mkappa.MKappa object at 0x00000205C81B1130>, <bmcs_cross_section.mkappa.mkappa.MKappa object at 0x00000205C38A3400>, <bmcs_cross_section.mkappa.mkappa.MKappa object at 0x00000205C82649A0>, <bmcs_cross_section.mkappa.mkappa.MKappa object at 0x00000205C81413B0>, \n",
      "Parametric study finished.\n"
     ]
    }
   ],
   "source": [
    "# running parametric study for different carbon strength\n",
    "dp = DeflectionProfile(mc=mc)\n",
    "\n",
    "dp.beam_design.beam_conf_name = BoundaryConfig.FOUR_PB\n",
    "dp.beam_design.beam_conf_name.first_load_distance = 1925\n",
    "dp.beam_design.L = 4700\n",
    "dp.F_scale = 2/1000\n",
    "\n",
    "params_config = [\n",
    "    ['mc',   dp, mcs],\n",
    "]\n",
    "\n",
    "LoadDeflectionParamsStudy(dp).run(params_config, ver_data)"
   ]
  },
  {
   "cell_type": "code",
   "execution_count": 9,
   "metadata": {
    "scrolled": false
   },
   "outputs": [
    {
     "name": "stdout",
     "output_type": "stream",
     "text": [
      "M - k recalculated\n"
     ]
    },
    {
     "data": {
      "application/vnd.jupyter.widget-view+json": {
       "model_id": "94a52833b2c74915bc655b3f6d2c9602",
       "version_major": 2,
       "version_minor": 0
      },
      "text/plain": [
       "VBox(children=(HBox(children=(VBox(children=(Tree(layout=Layout(align_items='stretch', border='solid 1px black…"
      ]
     },
     "metadata": {},
     "output_type": "display_data"
    }
   ],
   "source": [
    "# Test concrete compressive strength\n",
    "\n",
    "\"\"\" [\n",
    "    {'concrete_material_law': ConcreteMaterialLaw.EC2, 'f_cd': 30, 'low_kappa':0 , 'high_kappa':0.00012 },\n",
    "    {'concrete_material_law': ConcreteMaterialLaw.EC2, 'f_cd': 50, 'low_kappa':0 , 'high_kappa':0.0001 },\n",
    "    {'concrete_material_law': ConcreteMaterialLaw.EC2, 'f_cd': 70, 'low_kappa':-0.00001 , 'high_kappa':0.00013 },\n",
    "    {'concrete_material_law': ConcreteMaterialLaw.EC2, 'f_cd': 90, 'low_kappa':-0.000002 , 'high_kappa':0.00012 },\n",
    "    ] \"\"\"\n",
    "\n",
    "E = 33525\n",
    "   \n",
    "mc = MKappa(low_kappa = -0.000002,\n",
    "            high_kappa = 0.00012, n_kappa = 500,) \n",
    "    \n",
    "mc.cs_design.matrix='EC2 with plateau'\n",
    "mc.cs_design.matrix_.trait_set(\n",
    "        E_cc=E,\n",
    "        E_ct=E,\n",
    "        eps_cr = 0.00006,\n",
    "        eps_tu = 0.00008,\n",
    "        eps_cy = 0.00175,\n",
    "        eps_cu = 0.0035,\n",
    "        mu = 0.0,\n",
    "        f_cd = 90,\n",
    "    )  \n",
    "\n",
    "mc.cross_section_shape_.B = 400\n",
    "mc.cross_section_shape_.H = 200\n",
    "\n",
    "bl1 = ReinfLayer(name='layer1', z=35, A=2 * 70.14, matmod='carbon')\n",
    "bl1.matmod_.trait_set(E=135121, f_t=1891)\n",
    "mc.cross_section_layout.add_layer(bl1)\n",
    "\n",
    "dp = DeflectionProfile(mc=mc)\n",
    "dp.beam_design.beam_conf_name = BoundaryConfig.FOUR_PB\n",
    "dp.beam_design.beam_conf_name.first_load_distance = 1925\n",
    "dp.beam_design.L = 4700\n",
    "dp.F_scale = 2/1000\n",
    "\n",
    "dp.interact()"
   ]
  },
  {
   "cell_type": "code",
   "execution_count": 15,
   "metadata": {},
   "outputs": [],
   "source": [
    "# saving mcs with different concrete compressive strength\n",
    "\n",
    "setups = [\n",
    "    {'concrete_material_law': ConcreteMaterialLaw.EC2, 'f_cd': 30, 'low_kappa':0 , 'high_kappa':0.00012 },\n",
    "    {'concrete_material_law': ConcreteMaterialLaw.EC2, 'f_cd': 50, 'low_kappa':0 , 'high_kappa':0.0001 },\n",
    "    {'concrete_material_law': ConcreteMaterialLaw.EC2, 'f_cd': 70, 'low_kappa':-0.00001 , 'high_kappa':0.00013 },\n",
    "    {'concrete_material_law': ConcreteMaterialLaw.EC2, 'f_cd': 90, 'low_kappa':-0.000002 , 'high_kappa':0.00012 },\n",
    "    ]\n",
    "mcs = []\n",
    "for setup in setups:\n",
    "    \n",
    "    E = 33525\n",
    "    \n",
    "    mc1 = MKappa(reinforcement_type= ReinforcementType.CARBON,\n",
    "                low_kappa = setup['low_kappa'],\n",
    "                high_kappa = setup['high_kappa'],\n",
    "                 \n",
    "                 n_kappa = 400,\n",
    "                 \n",
    "                 concrete_material_law = setup['concrete_material_law'],\n",
    "                 f_cd = setup['f_cd'],\n",
    "                 \n",
    "                E_cc = E,\n",
    "                E_ct = E,\n",
    "                eps_cr = 0.00006,\n",
    "                eps_tu = 0.00008,\n",
    "                eps_cy = 0.00175,\n",
    "                eps_cu = 0.0035,\n",
    "                mu = 0.0)\n",
    "    mc1.cross_section_shape.B = 400\n",
    "    mc1.cross_section_shape.H = 200\n",
    "    mc1.cross_section_layout.reinforcement = [Reinforcement(eps_sy=0.014, E=135121, z=35, A=2 * 70.14)]\n",
    "    mcs.append(mc1)\n",
    "    "
   ]
  },
  {
   "cell_type": "code",
   "execution_count": 16,
   "metadata": {},
   "outputs": [
    {
     "name": "stdout",
     "output_type": "stream",
     "text": [
      "Parametric study is running...\n",
      "mc: <bmcs_cross_section.mkappa.mkappa.MKappa object at 0x000001C4CA5B75E0>, <bmcs_cross_section.mkappa.mkappa.MKappa object at 0x000001C4CA5407C0>, <bmcs_cross_section.mkappa.mkappa.MKappa object at 0x000001C4CA641360>, <bmcs_cross_section.mkappa.mkappa.MKappa object at 0x000001C4CA5F5B80>, \n",
      "Parametric study finished.\n"
     ]
    }
   ],
   "source": [
    "# running parametric study for different concrete compressive strength\n",
    "dp = DeflectionProfile(mc=mc, n_load_steps=251)\n",
    "\n",
    "dp.beam_design.beam_conf_name = BoundaryConfig.FOUR_PB\n",
    "dp.beam_design.beam_conf_name.first_load_distance = 1925\n",
    "dp.beam_design.L = 4700\n",
    "dp.F_scale = 2/1000\n",
    "\n",
    "params_config = [\n",
    "    ['mc',   dp, mcs],\n",
    "]\n",
    "\n",
    "LoadDeflectionParamsStudy(dp).run(params_config, ver_data)"
   ]
  },
  {
   "cell_type": "code",
   "execution_count": 42,
   "metadata": {
    "scrolled": false
   },
   "outputs": [
    {
     "name": "stdout",
     "output_type": "stream",
     "text": [
      "0.00014746443096998806\n"
     ]
    },
    {
     "data": {
      "application/vnd.jupyter.widget-view+json": {
       "model_id": "2c94e70a5c9f4c0c85a9f7a14fd58c7b",
       "version_major": 2,
       "version_minor": 0
      },
      "text/plain": [
       "VBox(children=(Output(), Tab(children=(VBox(children=(GridBox(children=(FloatText(value=0.0, description='\\\\(\\…"
      ]
     },
     "metadata": {},
     "output_type": "display_data"
    }
   ],
   "source": [
    "# Test concrete tensile strength\n",
    "\n",
    "\"\"\" [\n",
    "    {'f_ck': 0, 'low_kappa':0 , 'high_kappa':0.00012 },\n",
    "    {'f_ck': 30, 'low_kappa':0 , 'high_kappa':0.00012 },\n",
    "    {'f_ck': 50, 'low_kappa':0 , 'high_kappa':0.00012 },\n",
    "    {'f_ck': 70, 'low_kappa':0 , 'high_kappa':0.00012 },\n",
    "    {'f_ck': 90, 'low_kappa':0 , 'high_kappa':0.00012 },\n",
    "    ] \"\"\"\n",
    "\n",
    "E = 33525\n",
    "\n",
    "f_ck = 90\n",
    "\n",
    "fctk_0_05 = EC2.get_f_ctk_0_05(f_ck)\n",
    "f_ctd = fctk_0_05\n",
    "# f_ctd = 0.85 * fctk_0_05 / 1.5\n",
    "f_ctd_fl = max((1.6 - 200 /1000) * f_ctd, f_ctd)\n",
    "print(f_ctd_fl/E)\n",
    "mc1 = MKappa(reinforcement_type= ReinforcementType.CARBON,   \n",
    "             \n",
    "            n_kappa = 1000,\n",
    "             \n",
    "            low_kappa = 0,\n",
    "            high_kappa = 0.00012,\n",
    "            E_cc = E,\n",
    "            E_ct = E,\n",
    "            eps_cr = f_ctd_fl/E,            # 0.00006,\n",
    "            eps_tu = 2* f_ctd_fl/E,         # 0.00008,\n",
    "            eps_cy = 0.00175,\n",
    "            eps_cu = 0.0035,\n",
    "            mu = 0.0)\n",
    "\n",
    "mc1.cross_section_shape.B = 400\n",
    "mc1.cross_section_shape.H = 200\n",
    "mc1.cross_section_layout.reinforcement = [Reinforcement(eps_sy=0.014, E=135121, z=35, A=2 * 70.14)]\n",
    "# mc1.interact()\n",
    "\n",
    "\n",
    "dp = DeflectionProfile(mc=mc1)\n",
    "\n",
    "dp.beam_design.beam_conf_name = BoundaryConfig.FOUR_PB\n",
    "dp.beam_design.beam_conf_name.first_load_distance = 1925\n",
    "dp.beam_design.L = 4700\n",
    "# dp.beam_design.L = 5000 # This gives perfect results\n",
    "dp.F_scale = 2/1000\n",
    "\n",
    "# mc1.interact()\n",
    "\n",
    "bu.InteractiveWindow([dp, \n",
    "                      dp.beam_design, \n",
    "                      dp.mc, \n",
    "                      dp.mc.cs_design.cross_section_shape, \n",
    "                      dp.mc.cs_design.cross_section_layout], tight_layout=True).interact()\n",
    "\n",
    "# _, ax = plt.subplots()\n",
    "# f, w = dp.get_Fw()\n",
    "# ax.plot(w, f*2/1000)\n",
    "# ax.plot(ver_data[0], ver_data[1])"
   ]
  },
  {
   "cell_type": "code",
   "execution_count": 14,
   "metadata": {},
   "outputs": [
    {
     "data": {
      "text/plain": [
       "4.94374504826885"
      ]
     },
     "execution_count": 14,
     "metadata": {},
     "output_type": "execute_result"
    }
   ],
   "source": [
    "f_ck = 90\n",
    "\n",
    "fctk_0_05 = EC2.get_f_ctk_0_05(f_ck)\n",
    "f_ctd = fctk_0_05\n",
    "# f_ctd = 0.85 * fctk_0_05 / 1.5\n",
    "f_ctd_fl = max((1.6 - 200 /1000) * f_ctd, f_ctd)\n",
    "f_ctd_fl"
   ]
  },
  {
   "cell_type": "code",
   "execution_count": 5,
   "metadata": {},
   "outputs": [],
   "source": [
    "# saving mcs with different concrete tensile strength\n",
    "\n",
    "setups = [\n",
    "    {'f_ck': 0, 'low_kappa':0 , 'high_kappa':0.00012 },\n",
    "    {'f_ck': 30, 'low_kappa':0 , 'high_kappa':0.00012 },\n",
    "    {'f_ck': 50, 'low_kappa':0 , 'high_kappa':0.00012 },\n",
    "    {'f_ck': 70, 'low_kappa':0 , 'high_kappa':0.00012 },\n",
    "    {'f_ck': 90, 'low_kappa':0 , 'high_kappa':0.00012 },\n",
    "    ]\n",
    "\n",
    "mcs = []\n",
    "for setup in setups:\n",
    "    \n",
    "    E = 33525\n",
    "    \n",
    "    f_ck = setup['f_ck']\n",
    "\n",
    "    fctk_0_05 = EC2.get_f_ctk_0_05(f_ck)\n",
    "    f_ctd = fctk_0_05\n",
    "    # f_ctd = 0.85 * fctk_0_05 / 1.5\n",
    "    f_ctd_fl = max((1.6 - 200 /1000) * f_ctd, f_ctd)\n",
    "    \n",
    "    mc1 = MKappa(reinforcement_type= ReinforcementType.CARBON,\n",
    "                 \n",
    "                n_kappa = 1000,\n",
    "                 \n",
    "                low_kappa = setup['low_kappa'],\n",
    "                high_kappa = setup['high_kappa'],                \n",
    "                E_cc = E,\n",
    "                E_ct = E,\n",
    "                eps_cr = f_ctd_fl/E,            # 0.00006,\n",
    "                eps_tu = 2* f_ctd_fl/E,         # 0.00008,\n",
    "                eps_cy = 0.00175,\n",
    "                eps_cu = 0.0035,\n",
    "                mu = 0.0)\n",
    "    mc1.cross_section_shape.B = 400\n",
    "    mc1.cross_section_shape.H = 200\n",
    "    mc1.cross_section_layout.reinforcement = [Reinforcement(eps_sy=0.014, E=135121, z=35, A=2 * 70.14)]\n",
    "    mcs.append(mc1)\n",
    "    "
   ]
  },
  {
   "cell_type": "code",
   "execution_count": 6,
   "metadata": {},
   "outputs": [
    {
     "name": "stdout",
     "output_type": "stream",
     "text": [
      "Parametric study is running...\n",
      "mc: <bmcs_cross_section.mkappa.mkappa.MKappa object at 0x0000020CF04BD7C0>, <bmcs_cross_section.mkappa.mkappa.MKappa object at 0x0000020CF044D130>, <bmcs_cross_section.mkappa.mkappa.MKappa object at 0x0000020CED8204A0>, <bmcs_cross_section.mkappa.mkappa.MKappa object at 0x0000020CEFCE04F0>, <bmcs_cross_section.mkappa.mkappa.MKappa object at 0x0000020CEFE70400>, \n",
      "Parametric study finished.\n"
     ]
    }
   ],
   "source": [
    "# running parametric study for different concrete tensile strength\n",
    "dp = DeflectionProfile(mc=mc, n_load_steps=31)\n",
    "\n",
    "dp.beam_design.beam_conf_name = BoundaryConfig.FOUR_PB\n",
    "dp.beam_design.beam_conf_name.first_load_distance = 1925\n",
    "dp.beam_design.L = 4700\n",
    "dp.F_scale = 2/1000\n",
    "\n",
    "params_config = [\n",
    "    ['mc',   dp, mcs],\n",
    "]\n",
    "\n",
    "LoadDeflectionParamsStudy(dp).run(params_config, ver_data)"
   ]
  },
  {
   "cell_type": "code",
   "execution_count": 5,
   "metadata": {
    "scrolled": false
   },
   "outputs": [],
   "source": [
    "# saving mcs with different f_ck\n",
    "\n",
    "f_ck_setups = [\n",
    "    {'f_ck': 30, 'low_kappa':0 , 'high_kappa':0.00012 },\n",
    "    {'f_ck': 50, 'low_kappa':0 , 'high_kappa':0.00012 },\n",
    "    {'f_ck': 70, 'low_kappa':-0.00001 , 'high_kappa':0.00011},\n",
    "    {'f_ck': 90, 'low_kappa':-0.00002 , 'high_kappa':0.00011},\n",
    "    ]\n",
    "mcs = []\n",
    "for f_ck_setup in f_ck_setups:\n",
    "    f_ck = f_ck_setup['f_ck']\n",
    "    \n",
    "    E = EC2.get_E_cm(f_ck)\n",
    "    \n",
    "    fctk_0_05 = EC2.get_f_ctk_0_05(f_ck)\n",
    "    f_ctd = fctk_0_05\n",
    "    # f_ctd = 0.85 * fctk_0_05 / 1.5\n",
    "    f_ctd_fl = max((1.6 - 200 /1000) * f_ctd, f_ctd)\n",
    "\n",
    "    mc1 = MKappa(reinforcement_type= ReinforcementType.CARBON,\n",
    "                low_kappa = f_ck_setup['low_kappa'],\n",
    "                high_kappa = f_ck_setup['high_kappa'],\n",
    "                E_cc = E,\n",
    "                E_ct = E,\n",
    "                eps_cr = f_ctd_fl/E,            # 0.00006,\n",
    "                eps_tu = 2* f_ctd_fl/E,         # 0.00008,\n",
    "                eps_cy = EC2.get_eps_c3(f_ck),\n",
    "                eps_cu = EC2.get_eps_cu3(f_ck), # EC2 eps_cu3\n",
    "                mu = 0.0)\n",
    "    mc1.cross_section_shape.B = 400\n",
    "    mc1.cross_section_shape.H = 200\n",
    "    mc1.cross_section_layout.reinforcement = [Reinforcement(eps_sy=0.014, E=135121, z=35, A=2 * 70.14)]\n",
    "    mcs.append(mc1)\n",
    "    "
   ]
  },
  {
   "cell_type": "code",
   "execution_count": 6,
   "metadata": {},
   "outputs": [
    {
     "name": "stdout",
     "output_type": "stream",
     "text": [
      "Parametric study is running...\n",
      "mc: <bmcs_cross_section.mkappa.mkappa.MKappa object at 0x0000024AA11DCF90>, <bmcs_cross_section.mkappa.mkappa.MKappa object at 0x0000024AA1251860>, <bmcs_cross_section.mkappa.mkappa.MKappa object at 0x0000024AA12FD630>, <bmcs_cross_section.mkappa.mkappa.MKappa object at 0x0000024AA12FD9F0>, \n",
      "Parametric study finished.\n"
     ]
    }
   ],
   "source": [
    "dp = DeflectionProfile(mc=mc)\n",
    "\n",
    "dp.beam_design.beam_conf_name = BoundaryConfig.FOUR_PB\n",
    "dp.beam_design.beam_conf_name.first_load_distance = 1925\n",
    "dp.beam_design.L = 4700\n",
    "dp.F_scale = 2/1000\n",
    "\n",
    "params_config = [\n",
    "    ['mc',      dp, mcs],\n",
    "#         ['L',      dp.beam_design, [5000]],\n",
    "#         ['B',      mc.cross_section_shape, [300, 500]],\n",
    "#         ['H',      mc.cross_section_shape, [21505, 300]],\n",
    "#         ['E_ct',   mc, [33525, 34000]],\n",
    "#         ['E_cc',   mc, [33525, 34000]],\n",
    "#         ['eps_cr', mc, [0.00003, 0.00005, 0.00006]],\n",
    "#         ['eps_cy', mc, [0.0015, 0.00175, 0.002, 0.0025]],\n",
    "#         ['eps_cu', mc, [0.002, 0.0025, 0.0035, 0.004]],\n",
    "#         ['eps_tu', mc, [0.00004, 0.00005, 0.00006]],\n",
    "#         ['mu',     mc, [0, 1]],\n",
    "#         ['z',      mc.cross_section_layout.reinforcement[0], [1, 29]],\n",
    "#         ['A',      mc.cross_section_layout.reinforcement[0], [70.14, 2* 70.14]],\n",
    "#         ['E',      mc.cross_section_layout.reinforcement[0], [130000, 135121, 140000]],\n",
    "#         ['eps_sy', mc.cross_section_layout.reinforcement[0], [0.010, 0.014, 0.018]],\n",
    "#         ['n_x',    dp.beam_design, [10, 1000]],\n",
    "]\n",
    "\n",
    "LoadDeflectionParamsStudy(dp).run(params_config, ver_data)"
   ]
  }
 ],
 "metadata": {
  "kernelspec": {
   "display_name": "Python 3",
   "language": "python",
   "name": "python3"
  },
  "language_info": {
   "codemirror_mode": {
    "name": "ipython",
    "version": 3
   },
   "file_extension": ".py",
   "mimetype": "text/x-python",
   "name": "python",
   "nbconvert_exporter": "python",
   "pygments_lexer": "ipython3",
   "version": "3.9.1"
  }
 },
 "nbformat": 4,
 "nbformat_minor": 1
}
