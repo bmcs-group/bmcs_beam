{
 "cells": [
  {
   "cell_type": "code",
   "execution_count": 1,
   "metadata": {},
   "outputs": [
    {
     "ename": "ImportError",
     "evalue": "cannot import name 'ReinforcementType' from 'bmcs_cross_section.mkappa.mkappa' (d:\\imb\\pycharm_workspace\\bmcs_cross_section\\bmcs_cross_section\\mkappa\\mkappa.py)",
     "output_type": "error",
     "traceback": [
      "\u001b[1;31m---------------------------------------------------------------------------\u001b[0m",
      "\u001b[1;31mImportError\u001b[0m                               Traceback (most recent call last)",
      "\u001b[1;32m<ipython-input-1-78a63e1bf110>\u001b[0m in \u001b[0;36m<module>\u001b[1;34m\u001b[0m\n\u001b[1;32m----> 1\u001b[1;33m \u001b[1;32mfrom\u001b[0m \u001b[0mbmcs_cross_section\u001b[0m\u001b[1;33m.\u001b[0m\u001b[0mmkappa\u001b[0m\u001b[1;33m.\u001b[0m\u001b[0mmkappa\u001b[0m \u001b[1;32mimport\u001b[0m \u001b[0mMKappa\u001b[0m\u001b[1;33m,\u001b[0m \u001b[0mReinforcementType\u001b[0m\u001b[1;33m\u001b[0m\u001b[1;33m\u001b[0m\u001b[0m\n\u001b[0m\u001b[0;32m      2\u001b[0m \u001b[1;32mfrom\u001b[0m \u001b[0mbmcs_cross_section\u001b[0m\u001b[1;33m.\u001b[0m\u001b[0mcs_design\u001b[0m\u001b[1;33m.\u001b[0m\u001b[0mcs_layout\u001b[0m \u001b[1;32mimport\u001b[0m \u001b[0mReinforcement\u001b[0m\u001b[1;33m\u001b[0m\u001b[1;33m\u001b[0m\u001b[0m\n\u001b[0;32m      3\u001b[0m \u001b[1;32mfrom\u001b[0m \u001b[0mbmcs_beam\u001b[0m\u001b[1;33m.\u001b[0m\u001b[0mbeam_config\u001b[0m\u001b[1;33m.\u001b[0m\u001b[0mboundary_conditions\u001b[0m \u001b[1;32mimport\u001b[0m \u001b[0mBoundaryConfig\u001b[0m\u001b[1;33m\u001b[0m\u001b[1;33m\u001b[0m\u001b[0m\n\u001b[0;32m      4\u001b[0m \u001b[1;32mfrom\u001b[0m \u001b[0mbmcs_beam\u001b[0m\u001b[1;33m.\u001b[0m\u001b[0mbeam_config\u001b[0m\u001b[1;33m.\u001b[0m\u001b[0mboundary_conditions\u001b[0m \u001b[1;32mimport\u001b[0m \u001b[0mBoundaryConditions\u001b[0m\u001b[1;33m\u001b[0m\u001b[1;33m\u001b[0m\u001b[0m\n\u001b[0;32m      5\u001b[0m \u001b[1;32mfrom\u001b[0m \u001b[0mbmcs_beam\u001b[0m\u001b[1;33m.\u001b[0m\u001b[0mbending\u001b[0m\u001b[1;33m.\u001b[0m\u001b[0mdeflection_profile\u001b[0m \u001b[1;32mimport\u001b[0m \u001b[0mDeflectionProfile\u001b[0m\u001b[1;33m\u001b[0m\u001b[1;33m\u001b[0m\u001b[0m\n",
      "\u001b[1;31mImportError\u001b[0m: cannot import name 'ReinforcementType' from 'bmcs_cross_section.mkappa.mkappa' (d:\\imb\\pycharm_workspace\\bmcs_cross_section\\bmcs_cross_section\\mkappa\\mkappa.py)"
     ]
    }
   ],
   "source": [
    "from bmcs_cross_section.mkappa.mkappa import MKappa\n",
    "from bmcs_cross_section.cs_design import TShape, BarLayer, CrossSectionDesign\n",
    "from bmcs_cross_section.matmod import PWLConcreteMatMod, EC2ConcreteMatMod\n",
    "\n",
    "from bmcs_beam.beam_config.boundary_conditions import BoundaryConfig\n",
    "from bmcs_beam.beam_config.boundary_conditions import BoundaryConditions\n",
    "from bmcs_beam.bending.deflection_profile import DeflectionProfile\n",
    "from bmcs_beam.beam_config.beam_design import BeamDesign\n",
    "import numpy as np\n",
    "import sympy as sp\n",
    "import matplotlib.pyplot as plt\n",
    "import bmcs_utils.api as bu\n",
    "\n",
    "\n",
    "mc_params = dict(\n",
    "            reinforcement_type= ReinforcementType.STEEL,\n",
    "            n_m=100,\n",
    "            n_kappa = 100,\n",
    "            kappa_slider = 0.000001,\n",
    "            low_kappa = 0,\n",
    "            high_kappa =  0.00002,\n",
    "            eps_tu = 0.002508,\n",
    "            E_cc = 34000,\n",
    "            E_ct = 34000,\n",
    "            eps_cr = 0.000132,\n",
    "            eps_cy = 0.0015312,\n",
    "            mu = 0.63,\n",
    "            eps_cu = 0.003498)\n",
    "mc = MKappa(**mc_params)\n",
    "b = 285\n",
    "h = 29\n",
    "mc.cross_section_shape.B = b\n",
    "mc.cross_section_shape.H = h\n",
    "\n",
    "dp = DeflectionProfile(mc=mc)\n",
    "dp.beam_design.beam_conf_name = BoundaryConfig.FOUR_PB\n",
    "# beam.apply_load(F, 0, 0)\n",
    "# bc = BoundaryConditions()\n",
    "# bc.get_configured_beam()\n",
    "dp.beam_design.beam_conf_name.first_load_distance = 0\n",
    "dp.beam_design.L = 3000\n",
    "# dp.beam_design.beam.apply_load(879898787, 0, 0)\n",
    "%matplotlib widget\n",
    "bu.InteractiveWindow([dp,\n",
    "                      dp.beam_design,\n",
    "                      dp.mc,\n",
    "                      dp.mc.cs_design.cross_section_layout,\n",
    "                      dp.mc.cs_design.cross_section_shape,\n",
    "                      dp.mc.cross_section_layout.matrix,\n",
    "                      dp.mc.cross_section_layout],\n",
    "                      tight_layout=True).interact()\n",
    "\n",
    "# M = dp.beam_design.get_M_x()\n",
    "# plt.plot(mc.get_kappa_M(M+1))\n",
    "# plt.show()\n",
    "# mc.get_kappa_M(M) + 1\n",
    "\n",
    "# dp.beam_design.beam.solve_for_reaction_loads(R1, R2)\n",
    "# print(dp.beam_design.beam.reaction_loads)\n",
    "# # print(dp.beam_design.beam.plot_bending_moment())\n",
    "# dp.beam_design.beam.load\n",
    "# # dp.beam_design.beam.apply_load(879898787, 0, 0)\n",
    "# dp.beam_design.beam\n"
   ]
  },
  {
   "cell_type": "code",
   "execution_count": null,
   "metadata": {},
   "outputs": [],
   "source": [
    "mc.matrix = 'piecewise linear'\n",
    "css = mc.cross_section_shape = 'T-shape'\n",
    "csl = mc.cross_section_layout\n",
    "bl1 = BarLayer(name='steel 1', z=10, ds=10, count=2 )\n",
    "bl2 = BarLayer(name='steel 2', z=30, ds=10, count=2 )\n",
    "csl.add_layer(bl1)\n",
    "csl.add_layer(bl2)\n"
   ]
  },
  {
   "cell_type": "code",
   "execution_count": null,
   "metadata": {},
   "outputs": [],
   "source": [
    "mc.cross_section_layout.reinforcement = [Reinforcement(eps_sy=560/203000,\\\n",
    "E=203000, z=26.82, A=231.04)]"
   ]
  }
 ],
 "metadata": {
  "kernelspec": {
   "display_name": "Python 3",
   "language": "python",
   "name": "python3"
  },
  "language_info": {
   "codemirror_mode": {
    "name": "ipython",
    "version": 3
   },
   "file_extension": ".py",
   "mimetype": "text/x-python",
   "name": "python",
   "nbconvert_exporter": "python",
   "pygments_lexer": "ipython3",
   "version": "3.7.9"
  }
 },
 "nbformat": 4,
 "nbformat_minor": 1
}
