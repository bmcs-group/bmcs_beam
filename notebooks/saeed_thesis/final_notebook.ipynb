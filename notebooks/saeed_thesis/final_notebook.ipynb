{
 "cells": [
  {
   "cell_type": "code",
   "execution_count": 1,
   "metadata": {},
   "outputs": [],
   "source": [
    "%matplotlib widget"
   ]
  },
  {
   "cell_type": "code",
   "execution_count": 2,
   "metadata": {},
   "outputs": [],
   "source": [
    "from bmcs_cross_section.mkappa.mkappa import MKappa\n",
    "from bmcs_cross_section.api import TShape, ReinfLayer\n",
    "from bmcs_cross_section.matmod import PWLConcreteMatMod, EC2ConcreteMatMod\n",
    "\n",
    "from bmcs_beam.beam_config.boundary_conditions import BoundaryConfig\n",
    "from bmcs_beam.beam_config.boundary_conditions import BoundaryConditions\n",
    "from bmcs_beam.bending.deflection_profile import DeflectionProfile\n",
    "from bmcs_beam.beam_config.beam_design import BeamDesign\n",
    "import numpy as np\n",
    "import sympy as sp\n",
    "import matplotlib.pyplot as plt\n",
    "import bmcs_utils.api as bu"
   ]
  },
  {
   "cell_type": "code",
   "execution_count": 3,
   "metadata": {},
   "outputs": [],
   "source": [
    "mc = MKappa(name='moment-curvature',n_m=100, n_kappa = 100, low_kappa=0.0, high_kappa=0.00002)\n",
    "mc.matrix = 'piecewise linear'\n",
    "mc.matrix_.trait_set(\n",
    "    E_cc=34000, \n",
    "    E_ct=34000,\n",
    "    eps_cr = 0.000132,\n",
    "    eps_cy = 0.0015312,\n",
    "    mu = 0.63,\n",
    "    eps_cu = 0.003498\n",
    ")\n",
    "mc.cross_section_shape = 'rectangle'\n",
    "mc.cross_section_shape_.trait_set(B = 285, H = 100)\n",
    "csl = mc.cross_section_layout\n",
    "bl1 = ReinfLayer(name='steel 1', z=26.32, A=231.04, count=1 )\n",
    "csl.add_layer(bl1)"
   ]
  },
  {
   "cell_type": "code",
   "execution_count": 4,
   "metadata": {},
   "outputs": [
    {
     "data": {
      "text/plain": [
       "<bmcs_cross_section.matmod.reinforcement.SteelReinfMatMod at 0x7f3840304590>"
      ]
     },
     "execution_count": 4,
     "metadata": {},
     "output_type": "execute_result"
    }
   ],
   "source": [
    "bl1.matmod_.trait_set(E=203000, f_sy=560)"
   ]
  },
  {
   "cell_type": "code",
   "execution_count": 5,
   "metadata": {
    "scrolled": false
   },
   "outputs": [
    {
     "name": "stdout",
     "output_type": "stream",
     "text": [
      "M - k recalculated\n"
     ]
    },
    {
     "data": {
      "application/vnd.jupyter.widget-view+json": {
       "model_id": "858329684b354682b1c11665196e1c50",
       "version_major": 2,
       "version_minor": 0
      },
      "text/plain": [
       "VBox(children=(HBox(children=(VBox(children=(Tree(layout=Layout(align_items='stretch', border='solid 1px black…"
      ]
     },
     "metadata": {},
     "output_type": "display_data"
    }
   ],
   "source": [
    "mc.app()"
   ]
  },
  {
   "cell_type": "code",
   "execution_count": null,
   "metadata": {},
   "outputs": [],
   "source": [
    "dp = DeflectionProfile(mc=mc)"
   ]
  },
  {
   "cell_type": "code",
   "execution_count": 8,
   "metadata": {},
   "outputs": [
    {
     "data": {
      "text/plain": [
       "<BoundaryConfig.THREE_PB: 0>"
      ]
     },
     "execution_count": 8,
     "metadata": {},
     "output_type": "execute_result"
    }
   ],
   "source": [
    "dp.beam_design.beam_conf_name"
   ]
  },
  {
   "cell_type": "code",
   "execution_count": 9,
   "metadata": {},
   "outputs": [
    {
     "data": {
      "text/plain": [
       "3122.133456003684"
      ]
     },
     "execution_count": 9,
     "metadata": {},
     "output_type": "execute_result"
    }
   ],
   "source": [
    "M_I, kappa_I = dp.mc.inv_M_kappa\n",
    "4 * M_I[-1] / dp.beam_design.L"
   ]
  },
  {
   "cell_type": "code",
   "execution_count": 7,
   "metadata": {},
   "outputs": [
    {
     "data": {
      "text/plain": [
       "3122.133456003684"
      ]
     },
     "execution_count": 7,
     "metadata": {},
     "output_type": "execute_result"
    }
   ],
   "source": [
    "dp.F_max"
   ]
  },
  {
   "cell_type": "code",
   "execution_count": 6,
   "metadata": {},
   "outputs": [
    {
     "data": {
      "application/vnd.jupyter.widget-view+json": {
       "model_id": "fa2d6cdc3e3b4f1da97eea1bf5c1a9d3",
       "version_major": 2,
       "version_minor": 0
      },
      "text/plain": [
       "VBox(children=(HBox(children=(VBox(children=(Tree(layout=Layout(align_items='stretch', border='solid 1px black…"
      ]
     },
     "metadata": {},
     "output_type": "display_data"
    }
   ],
   "source": [
    "dp.app()"
   ]
  },
  {
   "cell_type": "code",
   "execution_count": 31,
   "metadata": {},
   "outputs": [
    {
     "ename": "NameError",
     "evalue": "name 'ReinforcementType' is not defined",
     "output_type": "error",
     "traceback": [
      "\u001b[0;31m---------------------------------------------------------------------------\u001b[0m",
      "\u001b[0;31mNameError\u001b[0m                                 Traceback (most recent call last)",
      "\u001b[0;32m<ipython-input-31-d581c0cd505a>\u001b[0m in \u001b[0;36m<module>\u001b[0;34m\u001b[0m\n\u001b[1;32m      1\u001b[0m mc_params = dict(\n\u001b[0;32m----> 2\u001b[0;31m             \u001b[0mreinforcement_type\u001b[0m\u001b[0;34m=\u001b[0m \u001b[0mReinforcementType\u001b[0m\u001b[0;34m.\u001b[0m\u001b[0mSTEEL\u001b[0m\u001b[0;34m,\u001b[0m\u001b[0;34m\u001b[0m\u001b[0;34m\u001b[0m\u001b[0m\n\u001b[0m\u001b[1;32m      3\u001b[0m             \u001b[0mn_m\u001b[0m\u001b[0;34m=\u001b[0m\u001b[0;36m100\u001b[0m\u001b[0;34m,\u001b[0m\u001b[0;34m\u001b[0m\u001b[0;34m\u001b[0m\u001b[0m\n\u001b[1;32m      4\u001b[0m             \u001b[0mn_kappa\u001b[0m \u001b[0;34m=\u001b[0m \u001b[0;36m100\u001b[0m\u001b[0;34m,\u001b[0m\u001b[0;34m\u001b[0m\u001b[0;34m\u001b[0m\u001b[0m\n\u001b[1;32m      5\u001b[0m             \u001b[0mkappa_slider\u001b[0m \u001b[0;34m=\u001b[0m \u001b[0;36m0.000001\u001b[0m\u001b[0;34m,\u001b[0m\u001b[0;34m\u001b[0m\u001b[0;34m\u001b[0m\u001b[0m\n",
      "\u001b[0;31mNameError\u001b[0m: name 'ReinforcementType' is not defined"
     ]
    }
   ],
   "source": [
    "mc_params = dict(\n",
    "            reinforcement_type= ReinforcementType.STEEL,\n",
    "            n_m=100,\n",
    "            n_kappa = 100,\n",
    "            kappa_slider = 0.000001,\n",
    "            low_kappa = 0,\n",
    "            high_kappa =  0.00002,\n",
    "            eps_tu = 0.002508,\n",
    "            E_cc = 34000,\n",
    "            E_ct = 34000,\n",
    "            eps_cr = 0.000132,\n",
    "            eps_cy = 0.0015312,\n",
    "            mu = 0.63,\n",
    "            eps_cu = 0.003498)\n",
    "mc = MKappa(**mc_params)\n",
    "b = 285\n",
    "h = 29\n",
    "mc.cross_section_shape.B = b\n",
    "mc.cross_section_shape.H = h\n",
    "\n",
    "dp = DeflectionProfile(mc=mc)\n",
    "dp.beam_design.beam_conf_name = BoundaryConfig.FOUR_PB\n",
    "# beam.apply_load(F, 0, 0)\n",
    "# bc = BoundaryConditions()\n",
    "# bc.get_configured_beam()\n",
    "dp.beam_design.beam_conf_name.first_load_distance = 0\n",
    "dp.beam_design.L = 3000\n",
    "# dp.beam_design.beam.apply_load(879898787, 0, 0)\n",
    "%matplotlib widget\n",
    "bu.InteractiveWindow([dp,\n",
    "                      dp.beam_design,\n",
    "                      dp.mc,\n",
    "                      dp.mc.cs_design.cross_section_layout,\n",
    "                      dp.mc.cs_design.cross_section_shape,\n",
    "                      dp.mc.cross_section_layout.matrix,\n",
    "                      dp.mc.cross_section_layout],\n",
    "                      tight_layout=True).interact()\n",
    "\n",
    "# M = dp.beam_design.get_M_x()\n",
    "# plt.plot(mc.get_kappa_M(M+1))\n",
    "# plt.show()\n",
    "# mc.get_kappa_M(M) + 1\n",
    "\n",
    "# dp.beam_design.beam.solve_for_reaction_loads(R1, R2)\n",
    "# print(dp.beam_design.beam.reaction_loads)\n",
    "# # print(dp.beam_design.beam.plot_bending_moment())\n",
    "# dp.beam_design.beam.load\n",
    "# # dp.beam_design.beam.apply_load(879898787, 0, 0)\n",
    "# dp.beam_design.beam\n"
   ]
  },
  {
   "cell_type": "code",
   "execution_count": null,
   "metadata": {},
   "outputs": [],
   "source": [
    "mc.matrix = 'piecewise linear'\n",
    "css = mc.cross_section_shape = 'T-shape'\n",
    "csl = mc.cross_section_layout\n",
    "bl1 = BarLayer(name='steel 1', z=10, ds=10, count=2 )\n",
    "bl2 = BarLayer(name='steel 2', z=30, ds=10, count=2 )\n",
    "csl.add_layer(bl1)\n",
    "csl.add_layer(bl2)\n"
   ]
  },
  {
   "cell_type": "code",
   "execution_count": null,
   "metadata": {},
   "outputs": [],
   "source": [
    "mc.cross_section_layout.reinforcement = [Reinforcement(eps_sy=560/203000,\\\n",
    "E=203000, z=26.82, A=231.04)]"
   ]
  }
 ],
 "metadata": {
  "kernelspec": {
   "display_name": "Python 3",
   "language": "python",
   "name": "python3"
  },
  "language_info": {
   "codemirror_mode": {
    "name": "ipython",
    "version": 3
   },
   "file_extension": ".py",
   "mimetype": "text/x-python",
   "name": "python",
   "nbconvert_exporter": "python",
   "pygments_lexer": "ipython3",
   "version": "3.8.8"
  },
  "toc": {
   "base_numbering": 1,
   "nav_menu": {},
   "number_sections": true,
   "sideBar": true,
   "skip_h1_title": false,
   "title_cell": "Table of Contents",
   "title_sidebar": "Contents",
   "toc_cell": false,
   "toc_position": {},
   "toc_section_display": true,
   "toc_window_display": false
  }
 },
 "nbformat": 4,
 "nbformat_minor": 1
}
