{
 "cells": [
  {
   "cell_type": "code",
   "execution_count": 13,
   "metadata": {},
   "outputs": [],
   "source": [
    "from sympy import *\n",
    "x, y, z = symbols('x y z')\n",
    "init_printing(use_unicode=True, wrap_line=False)"
   ]
  },
  {
   "cell_type": "code",
   "execution_count": 14,
   "metadata": {},
   "outputs": [],
   "source": [
    "from sympy.physics.continuum_mechanics.beam import Beam\n",
    "E, I = symbols('E, I')\n",
    "b = Beam(9, E, I)"
   ]
  },
  {
   "cell_type": "code",
   "execution_count": 15,
   "metadata": {},
   "outputs": [],
   "source": [
    "b.apply_load(-12, 9, -1)\n",
    "b.apply_load(50, 5, -2)\n",
    "b.apply_load(-8, 0, 0, end=5)"
   ]
  },
  {
   "cell_type": "code",
   "execution_count": 16,
   "metadata": {},
   "outputs": [],
   "source": [
    "b.bc_deflection.append((0, 0))\n",
    "b.bc_slope.append((0, 0))"
   ]
  },
  {
   "cell_type": "code",
   "execution_count": 17,
   "metadata": {},
   "outputs": [
    {
     "data": {
      "image/png": "[encoded data removed]",
      "text/latex": [
       "$\\displaystyle M {\\left\\langle x \\right\\rangle}^{-2} + R {\\left\\langle x \\right\\rangle}^{-1} - 8 {\\left\\langle x \\right\\rangle}^{0} + 50 {\\left\\langle x - 5 \\right\\rangle}^{-2} + 8 {\\left\\langle x - 5 \\right\\rangle}^{0} - 12 {\\left\\langle x - 9 \\right\\rangle}^{-1}$"
      ],
      "text/plain": [
       "     -2        -1        0             -2            0             -1\n",
       "M⋅<x>   + R⋅<x>   - 8⋅<x>  + 50⋅<x - 5>   + 8⋅<x - 5>  - 12⋅<x - 9>  "
      ]
     },
     "execution_count": 17,
     "metadata": {},
     "output_type": "execute_result"
    }
   ],
   "source": [
    "R, M = symbols('R, M')\n",
    "b.apply_load(R, 0, -1)\n",
    "b.apply_load(M, 0, -2)\n",
    "b.load"
   ]
  },
  {
   "cell_type": "code",
   "execution_count": 18,
   "metadata": {},
   "outputs": [
    {
     "data": {
      "image/png": "[encoded data removed]",
      "text/latex": [
       "$\\displaystyle \\left\\{ M : -258, \\  R : 52\\right\\}$"
      ],
      "text/plain": [
       "{M: -258, R: 52}"
      ]
     },
     "execution_count": 18,
     "metadata": {},
     "output_type": "execute_result"
    }
   ],
   "source": [
    "b.solve_for_reaction_loads(R, M)\n",
    "b.reaction_loads"
   ]
  },
  {
   "cell_type": "code",
   "execution_count": 19,
   "metadata": {},
   "outputs": [
    {
     "data": {
      "image/png": "[encoded data removed]",
      "text/latex": [
       "$\\displaystyle - 258 {\\left\\langle x \\right\\rangle}^{-2} + 52 {\\left\\langle x \\right\\rangle}^{-1} - 8 {\\left\\langle x \\right\\rangle}^{0} + 50 {\\left\\langle x - 5 \\right\\rangle}^{-2} + 8 {\\left\\langle x - 5 \\right\\rangle}^{0} - 12 {\\left\\langle x - 9 \\right\\rangle}^{-1}$"
      ],
      "text/plain": [
       "         -2         -1        0             -2            0             -1\n",
       "- 258⋅<x>   + 52⋅<x>   - 8⋅<x>  + 50⋅<x - 5>   + 8⋅<x - 5>  - 12⋅<x - 9>  "
      ]
     },
     "execution_count": 19,
     "metadata": {},
     "output_type": "execute_result"
    }
   ],
   "source": [
    "b.load"
   ]
  },
  {
   "cell_type": "code",
   "execution_count": 20,
   "metadata": {},
   "outputs": [
    {
     "data": {
      "image/png": "[encoded data removed]",
      "text/latex": [
       "$\\displaystyle - 258 {\\left\\langle x \\right\\rangle}^{-1} + 52 {\\left\\langle x \\right\\rangle}^{0} - 8 {\\left\\langle x \\right\\rangle}^{1} + 50 {\\left\\langle x - 5 \\right\\rangle}^{-1} + 8 {\\left\\langle x - 5 \\right\\rangle}^{1} - 12 {\\left\\langle x - 9 \\right\\rangle}^{0}$"
      ],
      "text/plain": [
       "         -1         0        1             -1            1             0\n",
       "- 258⋅<x>   + 52⋅<x>  - 8⋅<x>  + 50⋅<x - 5>   + 8⋅<x - 5>  - 12⋅<x - 9> "
      ]
     },
     "execution_count": 20,
     "metadata": {},
     "output_type": "execute_result"
    }
   ],
   "source": [
    "b.shear_force()"
   ]
  },
  {
   "cell_type": "code",
   "execution_count": 21,
   "metadata": {},
   "outputs": [
    {
     "data": {
      "image/png": "[encoded data removed]",
      "text/latex": [
       "$\\displaystyle - 258 {\\left\\langle x \\right\\rangle}^{0} + 52 {\\left\\langle x \\right\\rangle}^{1} - 4 {\\left\\langle x \\right\\rangle}^{2} + 50 {\\left\\langle x - 5 \\right\\rangle}^{0} + 4 {\\left\\langle x - 5 \\right\\rangle}^{2} - 12 {\\left\\langle x - 9 \\right\\rangle}^{1}$"
      ],
      "text/plain": [
       "         0         1        2             0            2             1\n",
       "- 258⋅<x>  + 52⋅<x>  - 4⋅<x>  + 50⋅<x - 5>  + 4⋅<x - 5>  - 12⋅<x - 9> "
      ]
     },
     "execution_count": 21,
     "metadata": {},
     "output_type": "execute_result"
    }
   ],
   "source": [
    "b.bending_moment()"
   ]
  },
  {
   "cell_type": "code",
   "execution_count": 22,
   "metadata": {},
   "outputs": [
    {
     "data": {
      "image/png": "[encoded data removed]",
      "text/latex": [
       "$\\displaystyle \\frac{- 258 {\\left\\langle x \\right\\rangle}^{1} + 26 {\\left\\langle x \\right\\rangle}^{2} - \\frac{4 {\\left\\langle x \\right\\rangle}^{3}}{3} + 50 {\\left\\langle x - 5 \\right\\rangle}^{1} + \\frac{4 {\\left\\langle x - 5 \\right\\rangle}^{3}}{3} - 6 {\\left\\langle x - 9 \\right\\rangle}^{2}}{E I}$"
      ],
      "text/plain": [
       "                            3                          3             \n",
       "         1         2   4⋅<x>              1   4⋅<x - 5>             2\n",
       "- 258⋅<x>  + 26⋅<x>  - ────── + 50⋅<x - 5>  + ────────── - 6⋅<x - 9> \n",
       "                         3                        3                  \n",
       "─────────────────────────────────────────────────────────────────────\n",
       "                                 E⋅I                                 "
      ]
     },
     "execution_count": 22,
     "metadata": {},
     "output_type": "execute_result"
    }
   ],
   "source": [
    "b.slope()"
   ]
  },
  {
   "cell_type": "code",
   "execution_count": 23,
   "metadata": {},
   "outputs": [
    {
     "data": {
      "image/png": "[encoded data removed]",
      "text/latex": [
       "$\\displaystyle \\frac{- 129 {\\left\\langle x \\right\\rangle}^{2} + \\frac{26 {\\left\\langle x \\right\\rangle}^{3}}{3} - \\frac{{\\left\\langle x \\right\\rangle}^{4}}{3} + 25 {\\left\\langle x - 5 \\right\\rangle}^{2} + \\frac{{\\left\\langle x - 5 \\right\\rangle}^{4}}{3} - 2 {\\left\\langle x - 9 \\right\\rangle}^{3}}{E I}$"
      ],
      "text/plain": [
       "                   3      4                        4             \n",
       "         2   26⋅<x>    <x>              2   <x - 5>             3\n",
       "- 129⋅<x>  + ─────── - ──── + 25⋅<x - 5>  + ──────── - 2⋅<x - 9> \n",
       "                3       3                      3                 \n",
       "─────────────────────────────────────────────────────────────────\n",
       "                               E⋅I                               "
      ]
     },
     "execution_count": 23,
     "metadata": {},
     "output_type": "execute_result"
    }
   ],
   "source": [
    "b.deflection()"
   ]
  },
  {
   "cell_type": "code",
   "execution_count": 36,
   "metadata": {},
   "outputs": [],
   "source": [
    "%matplotlib qt"
   ]
  },
  {
   "cell_type": "code",
   "execution_count": 37,
   "metadata": {},
   "outputs": [
    {
     "data": {
      "text/plain": [
       "<sympy.plotting.plot.Plot at 0x20d55790d88>"
      ]
     },
     "execution_count": 37,
     "metadata": {},
     "output_type": "execute_result"
    }
   ],
   "source": [
    "b.plot_shear_force()"
   ]
  },
  {
   "cell_type": "code",
   "execution_count": 38,
   "metadata": {},
   "outputs": [
    {
     "data": {
      "text/plain": [
       "<sympy.plotting.plot.Plot at 0x20d5aca4648>"
      ]
     },
     "execution_count": 38,
     "metadata": {},
     "output_type": "execute_result"
    }
   ],
   "source": [
    "b.plot_bending_moment()"
   ]
  },
  {
   "cell_type": "code",
   "execution_count": 39,
   "metadata": {},
   "outputs": [
    {
     "data": {
      "text/plain": [
       "<sympy.plotting.plot.Plot at 0x20d5acc6bc8>"
      ]
     },
     "execution_count": 39,
     "metadata": {},
     "output_type": "execute_result"
    }
   ],
   "source": [
    "b.plot_slope(subs={E: 20E9, I: 3.25E-6})"
   ]
  },
  {
   "cell_type": "code",
   "execution_count": 40,
   "metadata": {},
   "outputs": [
    {
     "data": {
      "text/plain": [
       "<sympy.plotting.plot.Plot at 0x20d5b398708>"
      ]
     },
     "execution_count": 40,
     "metadata": {},
     "output_type": "execute_result"
    }
   ],
   "source": [
    "b.plot_deflection(subs={E: 20E9, I: 3.25E-6})"
   ]
  },
  {
   "cell_type": "code",
   "execution_count": null,
   "metadata": {},
   "outputs": [],
   "source": [
    "b.plot_loading_results(subs={E: 20E9, I: 3.25E-6})"
   ]
  }
 ],
 "metadata": {
  "kernelspec": {
   "display_name": "Python 3",
   "language": "python",
   "name": "python3"
  },
  "language_info": {
   "codemirror_mode": {
    "name": "ipython",
    "version": 3
   },
   "file_extension": ".py",
   "mimetype": "text/x-python",
   "name": "python",
   "nbconvert_exporter": "python",
   "pygments_lexer": "ipython3",
   "version": "3.7.9"
  }
 },
 "nbformat": 4,
 "nbformat_minor": 4
}
