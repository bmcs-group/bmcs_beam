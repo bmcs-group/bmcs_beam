{
 "cells": [
  {
   "cell_type": "markdown",
   "source": [
    "# Deflection-Profile Verification\n",
    "This file verifies the Deflection-Profile implementation provided in the file \"deflection_profile.py\" of the bmcs_beam package."
   ],
   "metadata": {
    "collapsed": false
   }
  },
  {
   "cell_type": "code",
   "execution_count": null,
   "outputs": [],
   "source": [
    "%matplotlib inline"
   ],
   "metadata": {
    "collapsed": false,
    "pycharm": {
     "name": "#%%\n"
    }
   }
  },
  {
   "cell_type": "code",
   "execution_count": null,
   "outputs": [],
   "source": [
    "from bmcs_cross_section.mkappa import MKappa\n",
    "from bmcs_beam.beam_config.boundary_conditions import BoundaryConditions\n",
    "from bmcs_beam.bending.deflection_profile_verification import DeflectionProfile\n",
    "from bmcs_beam.beam_config.beam_design import BeamDesign\n",
    "from bmcs_cross_section.cs_design.cs_shape import TShape\n",
    "from os.path import join\n",
    "import numpy as np\n",
    "import pandas as pd\n",
    "import sympy as sp\n",
    "import matplotlib.pyplot as plt\n",
    "import bmcs_utils.api as bu"
   ],
   "metadata": {
    "collapsed": false,
    "pycharm": {
     "name": "#%%\n"
    }
   }
  },
  {
   "cell_type": "code",
   "execution_count": null,
   "outputs": [],
   "source": [
    "def plot(mc):\n",
    "    fig, ax = plt.subplots(1, 1)\n",
    "    dp = DeflectionProfile(mc=mc)\n",
    "    F, w = dp.get_Fw()\n",
    "    ax.plot(w, F / 1000, c= 'blue', label= 'bmcs_deflection'); ax.legend()\n",
    "    ax.set_xlabel(r'$w$ [mm]')\n",
    "    ax.set_ylabel(r'$F$ [kN]')\n",
    "    plt.show()\n",
    "    \n",
    "def plot_fw_ver(mc, ver_data, data, L, mode, f_coef):\n",
    "    \n",
    "    # mode: 'multi' to plot multiple experiments and 'one' to plot one experiment\n",
    "    # f_coef: a coeficient for the 'F' values of the experiment based on the experiment configuration;\n",
    "    \n",
    "    fig, (ax1,ax2) = plt.subplots(1,2, figsize = (10,5))\n",
    "    dp.mc.plot_mk(ax1)\n",
    "    dp.plot_fw(ax2)\n",
    "    if mode == 'multi':\n",
    "        for i in range(0,data.shape[1],2):\n",
    "            ax2.plot(data.iloc[:, i+1],data.iloc[:, i] * f_coef, label = data.columns.tolist()[i][0:-2] , alpha=0.25)\n",
    "        ax2.plot([L/250 , L/250], [0, max(data.iloc[:, 2]) * f_coef],  c='black', ls= '--' ); plt.annotate('L/500', xy=(L/500, max(data.iloc[:, 2]) * f_coef))\n",
    "        ax2.plot([L/500 , L/500], [0, max(data.iloc[:, 2]) * f_coef],  c='black', ls= ':' ); plt.annotate('L/250', xy=(L/250, max(data.iloc[:, 2]) * f_coef))\n",
    "    \n",
    "    else:\n",
    "        w = ver_data[0]\n",
    "        f = ver_data[1]\n",
    "        ax2.plot(w, f * f_coef, c= 'red', label= 'Experiment')\n",
    "        ax2.plot([L/250 , L/250], [0, max(f) * f_coef],  c='black', ls= '--' ); plt.annotate('L/500', xy=(L/500, max(f) * f_coef))\n",
    "        ax2.plot([L/500 , L/500], [0, max(f) * f_coef],  c='black', ls= ':' ); plt.annotate('L/250', xy=(L/250, max(f) * f_coef))\n",
    "    ax2.legend()\n",
    "    plt.show()"
   ],
   "metadata": {
    "collapsed": false,
    "pycharm": {
     "name": "#%%\n"
    }
   }
  },
  {
   "cell_type": "markdown",
   "source": [
    "## 1. Checking the model with its default parameters"
   ],
   "metadata": {
    "collapsed": false
   }
  },
  {
   "cell_type": "code",
   "execution_count": null,
   "outputs": [],
   "source": [
    "mc = MKappa(low_kappa=-0.000014, high_kappa=0.00001)\n",
    "plot(mc)"
   ],
   "metadata": {
    "collapsed": false,
    "pycharm": {
     "name": "#%%\n"
    }
   }
  },
  {
   "cell_type": "markdown",
   "source": [
    "## 2. Verification with experimental results\n",
    "\n",
    "Verification with experimental results from multiple papers using the summarized parameters in Table 3 in [Yao_Mobasher2019](https://doi.org/10.1002/suco.201900404)"
   ],
   "metadata": {
    "collapsed": false
   }
  },
  {
   "cell_type": "markdown",
   "source": [
    "Notation in [Yao_Mobasher2019](https://doi.org/10.1002/suco.201900404) | Notation in this file\n",
    "----------- | -----------\n",
    "$E$      | E_ct\n",
    "$E_c$   | E_cc\n",
    "$E_s$ | E_j\n",
    "$\\varepsilon_{cr}$ | eps_cr\n",
    "$\\varepsilon_{cu}$ | eps_cu\n",
    "$\\varepsilon_{tu}$ | eps_tu\n",
    "$\\varepsilon_{cy}$ | eps_cy\n",
    "$\\mu$ | mu\n",
    "$\\gamma$  | E_cc/E_ct\n",
    "$\\omega$  | eps_cy/eps_cr\n",
    "$\\lambda_{cu}$  | eps_cu/eps_cr\n",
    "$\\beta_{tu}$  | eps_tu/eps_cr\n",
    "$\\psi$  | eps_sy_j/eps_cr\n",
    "$n$  | E_j/E_ct\n",
    "$\\alpha$  | z_j/h\n",
    "$r$  | A_s_c/A_s_t\n",
    "$\\rho_g$ | A_j[0]/A_c, where A_j[0] must be tension steel area"
   ],
   "metadata": {
    "collapsed": false
   }
  },
  {
   "cell_type": "markdown",
   "source": [
    "### Verification with Rectangluar cross sections\n",
    "In the following verifications, the parameters will be taken from the parameters summary in Table 3 in [Yao_Mobasher2019](https://doi.org/10.1002/suco.201900404)\n",
    "And the following functions is provided to map the params in the format used in [Yao_Mobasher2019](https://doi.org/10.1002/suco.201900404) to the format of the Deflection model"
   ],
   "metadata": {
    "collapsed": false
   }
  },
  {
   "cell_type": "markdown",
   "source": [
    "![mobasher_rectangular_experiments.png](attachment:mobasher_rectangular_experiments.png)"
   ],
   "metadata": {
    "collapsed": false
   }
  },
  {
   "cell_type": "code",
   "execution_count": null,
   "outputs": [],
   "source": [
    "def map_and_assign_params_for_rectangular_section(\n",
    "        mc, # MKappa instance for which the params should be applied\n",
    "        b, h, E, E_s, f_sy, eps_cr, rho, beta_tu, v_f, omega, psi, mu, alpha, lambda_cu):\n",
    "    \"\"\"This function map the params of the rectangular section from the type of the paper\n",
    "    to the type of the model and assigns the values\"\"\"\n",
    "    mc.cross_section_shape.B=b\n",
    "    mc.cross_section_shape.H=h\n",
    "    mc.E_cc=E\n",
    "    mc.E_ct=E # SUPPOSED equal to E_cc!!\n",
    "    mc.mu=mu\n",
    "    mc.eps_cr=eps_cr\n",
    "    mc.eps_cy=omega * eps_cr\n",
    "    mc.eps_cu=lambda_cu * eps_cr\n",
    "    mc.eps_tu=beta_tu * eps_cr\n",
    "    mc.eps_sy_j=[f_sy / E_s] # or eps_sy_j=psi * eps_cr,\n",
    "    mc.E_j=[E_s]\n",
    "    mc.z_j=[h * (1 - alpha)]\n",
    "    mc.A_j=[rho * b * h]"
   ],
   "metadata": {
    "collapsed": false,
    "pycharm": {
     "name": "#%%\n"
    }
   }
  },
  {
   "cell_type": "markdown",
   "source": [
    "#### 1. Verification with Heid et al. (2020), [link](https://www.heringinternational.com/fileadmin/media/archive1/downloads/architekturbeton/Bauingenieur_06_2020_S.210-219.pdf), Carbon reinforcement\n",
    "![hei20.jpg](attachment:hei20.jpg)"
   ],
   "metadata": {
    "collapsed": false
   }
  },
  {
   "cell_type": "markdown",
   "source": [
    "HB-SU-0:\n",
    "![HB-SU-0-2.jpg](attachment:HB-SU-0-2.jpg)"
   ],
   "metadata": {
    "collapsed": false
   }
  },
  {
   "cell_type": "code",
   "execution_count": null,
   "outputs": [],
   "source": [
    "#HB-SU-0\n",
    "%matplotlib inline\n",
    "excel_file = join('./verification_data/hei20','hei20.xlsx')\n",
    "data = pd.read_excel(excel_file, 'HB-SU-0')\n",
    "\n",
    "for i in range(0,data.shape[1],2):\n",
    "    plt.plot(data.iloc[:, i+1],data.iloc[:, i], label = data.columns.tolist()[i][0:-2])\n",
    "w_1= data['HB-SU-0-1_w']  ; f_1= data['HB-SU-0-1_F'] ; ver_data1 = [w_1, f_1/4]; #plt.plot(w_1,f_1, label = 'HB-SU-0-1')\n",
    "w_2= data['HB-SU-0-2_w']  ; f_2= data['HB-SU-0-2_F'] ; ver_data2 = [w_2, f_2/4]; #plt.plot(w_2,f_2, label = 'HB-SU-0-2')\n",
    "w_3= data['HB-SU-0-3_w']  ; f_3= data['HB-SU-0-3_F'] ; ver_data3 = [w_3, f_3/4]; #plt.plot(w_3,f_3, label = 'HB-SU-0-3')\n",
    "w_4= data['HB-SU-0-4_w']  ; f_4= data['HB-SU-0-4_F'] ; ver_data4 = [w_4, f_4/4]; #plt.plot(w_4,f_4, label = 'HB-SU-0-4')\n",
    "w_5= data['HB-SU-0-5_w']  ; f_5= data['HB-SU-0-5_F'] ; ver_data5 = [w_5, f_5/4]; #plt.plot(w_5,f_5, label = 'HB-SU-0-5')\n",
    "w_6= data['HB-SU-0-6_w']  ; f_6= data['HB-SU-0-6_F'] ; ver_data6 = [w_6, f_6/4]; #plt.plot(w_6,f_6, label = 'HB-SU-0-6')\n",
    "plt.legend(); plt.xlabel(r'$w$ [mm]'); plt.ylabel(r'$F$ [KN]');\n"
   ],
   "metadata": {
    "collapsed": false,
    "pycharm": {
     "name": "#%%\n"
    }
   }
  },
  {
   "cell_type": "code",
   "execution_count": null,
   "outputs": [],
   "source": [
    "# HB-SU-0\n",
    "\n",
    "%matplotlib widget\n",
    "mc = MKappa(n_m=100, n_kappa = 100)\n",
    "dp = DeflectionProfile(mc=mc)\n",
    "dp.mc.low_kappa = 0\n",
    "dp.mc.high_kappa = 0.0008\n",
    "#\n",
    "# # Select the loading conditions, CONFIG_NAMES[0]: 3pb; CONFIG_NAMES[1]: 4pb\n",
    "# dp.beam_design.beam_conf_name = BoundaryConditions.CONFIG_NAMES[1]\n",
    "#\n",
    "# dp.beam_design.L = 3 * 320\n",
    "# map_and_assign_params_for_rectangular_section(dp.mc,\n",
    "#             beta_tu = 2,  #  eps_tu/eps_cr\n",
    "#             b = 45,\n",
    "#             h = 30,\n",
    "#             rho = 7.24/30/150/2,\n",
    "#             v_f = 1.0,\n",
    "#             E = 39500,\n",
    "#             E_s = 240000,\n",
    "#             f_sy = 2712 ,\n",
    "#             eps_cr = 0.000163,\n",
    "#             omega = .68, #eps_cy/eps_cr\n",
    "#             psi = 0.0113/0.00016, #eps_sy_j/eps_cr\n",
    "#             mu = .2, #σp/σcr\n",
    "#             alpha = 0.75, #z_j/h\n",
    "#             lambda_cu = 0.11/0.00016) #eps_cu/eps_cr\n",
    "#\n",
    "# dp.mc.A_j = np.array([3.62, 3.62])  # A_j[0] for tension steel / A_j[1] for compression steel\n",
    "# dp.mc.z_j = np.array([8, 22])\n",
    "# dp.mc.E_j = np.array([240000, 240000])\n",
    "# dp.mc.eps_sy_j = np.array([0.0113, 0.0113])\n",
    "#\n",
    "# plot_fw_ver(dp.mc, ver_data1 ,data, dp.beam_design.L, mode = 'multi', f_coef = .25)\n",
    "\n",
    "import bmcs_utils.api as bu\n",
    "bu.InteractiveWindow([dp, \n",
    "                      dp.beam_design, \n",
    "                      dp.mc, \n",
    "                      dp.mc.cs_design.cross_section_shape, \n",
    "                      dp.mc.cs_design.cross_section_layout], tight_layout=True).interact()"
   ],
   "metadata": {
    "collapsed": false,
    "pycharm": {
     "name": "#%%\n"
    }
   }
  }
 ],
 "metadata": {
  "kernelspec": {
   "display_name": "Python 3",
   "language": "python",
   "name": "python3"
  },
  "language_info": {
   "codemirror_mode": {
    "name": "ipython",
    "version": 3
   },
   "file_extension": ".py",
   "mimetype": "text/x-python",
   "name": "python",
   "nbconvert_exporter": "python",
   "pygments_lexer": "ipython3",
   "version": "3.7.9"
  }
 },
 "nbformat": 4,
 "nbformat_minor": 1
}