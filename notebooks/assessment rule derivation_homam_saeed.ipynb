{
 "cells": [
  {
   "cell_type": "markdown",
   "metadata": {},
   "source": [
    "# Assessment Rule Derivation\n",
    "This notebook presents the procedure of assessment rule derivation for the maximum deflection of carbon concrete elements consistent with EC2"
   ]
  },
  {
   "cell_type": "markdown",
   "metadata": {},
   "source": [
    "Based on section 7.4.2 of the EC2 (Nachweis der Begrenzung der Verformungen ohne direkte Berechnung; Cases where calculations may be omitted)"
   ]
  },
  {
   "cell_type": "markdown",
   "metadata": {},
   "source": [
    "##### eq (7.16.a and 7.16.b): "
   ]
  },
  {
   "cell_type": "markdown",
   "metadata": {},
   "source": [
    "$$\\dfrac{l}{d} = K.\\left[11+1.5\\sqrt{f_{ck}}\\dfrac{\\rho_0}{\\rho} + 3.2\\sqrt{f_{ck}}.\\sqrt{\\left(\\dfrac{\\rho_0}{\\rho} - 1\\right)^3}\\right] \\mathrm{if} \\rho \\leq \\rho_0$$"
   ]
  },
  {
   "cell_type": "markdown",
   "metadata": {},
   "source": [
    "$$ \\dfrac{l}{d} = K.\\left[11+1.5\\sqrt{f_{ck}}\\dfrac{\\rho_0}{\\rho- \\rho^\\prime} + \\dfrac{1}{12}\\sqrt[2]{f_{ck}}.\\sqrt{(\\dfrac{\\rho^\\prime}{\\rho_0})}\\right] \\mathrm{if} \\rho > \\rho_0 $$"
   ]
  },
  {
   "cell_type": "markdown",
   "metadata": {},
   "source": [
    "| Symbol | Unit | Description\n",
    "| :-: | :-: | :- |\n",
    "| $\\dfrac{l}{d}$ | - | the limit value of the bending slenderness (ratio of span to effective height) |\n",
    "| K | - | the coefficient for consideration of the different static systems according to Table 7.4N |\n",
    "| $\\rho_0$ | - | the reference reinforcement ratio, $\\rho_0 = 10^{-3}.\\sqrt{f_{ck}}$ |\n",
    "| $\\rho$ | - | the required ratio of tensile reinforcement in the center of the span to resist the design moment (at the restraint section for cantilever beams) |\n",
    "| $\\rho^\\prime$ | - | the required ratio of compression reinforcement in the center of the span to resist the design moment (at the restraint section for cantilever beams) |\n",
    "| $f_{ck}$ | Mpa | the Characteristic cylinder compressive strength of the concrete after 28 days |"
   ]
  },
  {
   "cell_type": "code",
   "execution_count": 1,
   "metadata": {
    "pycharm": {
     "is_executing": true
    }
   },
   "outputs": [],
   "source": [
    "%matplotlib widget\n",
    "import matplotlib.pyplot as plt\n",
    "from ipywidgets import interact, interactive, fixed, interact_manual\n",
    "import ipywidgets as widgets\n",
    "from sympy import symbols\n",
    "from sympy.plotting import plot\n",
    "import sympy as sp\n",
    "import numpy as np\n",
    "import bmcs_utils.api as bu"
   ]
  },
  {
   "cell_type": "code",
   "execution_count": 2,
   "metadata": {},
   "outputs": [],
   "source": [
    "K, rho_0, rho, rho_p, f_ck = symbols(r'K, \\rho_0, \\rho,\\rho^\\prime, f_{ck}', real=True, nonnegative=True)"
   ]
  },
  {
   "cell_type": "code",
   "execution_count": 3,
   "metadata": {
    "pycharm": {
     "name": "#%%\n"
    },
    "scrolled": true
   },
   "outputs": [
    {
     "data": {
      "text/latex": [
       "$\\displaystyle \\begin{cases} K \\left(3.2 f_{ck}^{0.5} \\left(-1 + \\frac{\\rho_0}{\\rho}\\right)^{1.5} + 11 + \\frac{1.5 \\rho_0 f_{ck}^{0.5}}{\\rho}\\right) & \\text{for}\\: \\rho \\leq \\rho_0 \\\\K \\left(\\frac{0.0833333333333333 \\left(\\rho^\\prime\\right)^{0.5} f_{ck}^{0.5}}{\\rho_0^{0.5}} + \\frac{1.5 \\rho_0 f_{ck}^{0.5}}{\\rho - \\rho^\\prime} + 11\\right) & \\text{otherwise} \\end{cases}$"
      ],
      "text/plain": [
       "Piecewise((K*(3.2*f_{ck}**0.5*(-1 + \\rho_0/\\rho)**1.5 + 11 + 1.5*\\rho_0*f_{ck}**0.5/\\rho), \\rho <= \\rho_0), (K*(0.0833333333333333*\\rho^\\prime**0.5*\\rho_0**(-0.5)*f_{ck}**0.5 + 1.5*\\rho_0*f_{ck}**0.5/(\\rho - \\rho^\\prime) + 11), True))"
      ]
     },
     "execution_count": 3,
     "metadata": {},
     "output_type": "execute_result"
    }
   ],
   "source": [
    "ldr = sp.Piecewise(\n",
    "     (K*(11 + 1.5*((f_ck)**0.5)*(rho_0/rho) + 3.2*((f_ck)**0.5)*((rho_0/rho - 1)**(3/2))) , rho <= rho_0 ),\n",
    "     (K*(11 + 1.5*((f_ck)**0.5)*(rho_0/(rho - rho_p)) +  (1/12)*(f_ck**0.5)*((rho_p/rho_0)**0.5)) , rho > rho_0)\n",
    ")\n",
    "ldr"
   ]
  },
  {
   "cell_type": "code",
   "execution_count": 4,
   "metadata": {},
   "outputs": [],
   "source": [
    "ldr = ldr.subs(rho_0, 0.001 * sp.sqrt(f_ck))\n",
    "get_slenderness = sp.lambdify((rho, rho_p, K , f_ck), ldr, 'numpy')"
   ]
  },
  {
   "cell_type": "code",
   "execution_count": 5,
   "metadata": {
    "pycharm": {
     "name": "#%%\n"
    },
    "scrolled": false
   },
   "outputs": [
    {
     "name": "stderr",
     "output_type": "stream",
     "text": [
      "<string>:2: RuntimeWarning: invalid value encountered in double_scalars\n"
     ]
    },
    {
     "data": {
      "application/vnd.jupyter.widget-view+json": {
       "model_id": "7d777a02f59a49ce8e844f0cd741d84b",
       "version_major": 2,
       "version_minor": 0
      },
      "text/plain": [
       "Canvas(toolbar=Toolbar(toolitems=[('Home', 'Reset original view', 'home', 'home'), ('Back', 'Back to previous …"
      ]
     },
     "metadata": {},
     "output_type": "display_data"
    },
    {
     "name": "stderr",
     "output_type": "stream",
     "text": [
      "<string>:2: RuntimeWarning: invalid value encountered in double_scalars\n",
      "<string>:2: RuntimeWarning: invalid value encountered in double_scalars\n",
      "<string>:2: RuntimeWarning: invalid value encountered in double_scalars\n",
      "<string>:2: RuntimeWarning: invalid value encountered in double_scalars\n",
      "<string>:2: RuntimeWarning: invalid value encountered in double_scalars\n"
     ]
    }
   ],
   "source": [
    "import matplotlib.pyplot as plt\n",
    "%matplotlib widget\n",
    "\n",
    "rho_range = np.arange(0.0025, 0.025, 0.0001)\n",
    "f_ck_range = (20, 30, 35, 40, 50, 70)\n",
    "\n",
    "slenderness = []\n",
    "for f_ck in f_ck_range:\n",
    "    for rho in rho_range:\n",
    "        slenderness.append(get_slenderness(rho, 0,  1, f_ck))\n",
    "    plt.plot(rho_range*100, slenderness)\n",
    "    slenderness = []\n",
    "\n",
    "plt.ylim(10, 35)\n",
    "plt.xlim(0.25, 2.5)\n",
    "plt.ylabel('l/d')\n",
    "plt.xlabel(r'$\\rho$ %')\n",
    "plt.title('7.16a & 7.16b curve')\n",
    "plt.show()"
   ]
  },
  {
   "attachments": {
    "7_16%20equation.jpg": {
     "image/jpeg": "[encoded data removed]"
    }
   },
   "cell_type": "markdown",
   "metadata": {
    "pycharm": {
     "name": "#%% md\n"
    }
   },
   "source": [
    "![7_16%20equation.jpg](attachment:7_16%20equation.jpg)"
   ]
  },
  {
   "cell_type": "markdown",
   "metadata": {},
   "source": [
    "### Load-Deflection profle analysis"
   ]
  },
  {
   "attachments": {
    "SLS%20criterion%20proposal.svg": {
     "image/svg+xml": [
      "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"
     ]
    }
   },
   "cell_type": "markdown",
   "metadata": {},
   "source": [
    "![SLS%20criterion%20proposal.svg](attachment:SLS%20criterion%20proposal.svg)"
   ]
  },
  {
   "cell_type": "markdown",
   "metadata": {},
   "source": [
    "| Symbol | Unit | Description\n",
    "| :-: | :-: | :- |\n",
    "| $F_{s}$ | - | the SLS strength |\n",
    "| $F_{u}$ | - | the strength between SLS limit and ULS |\n",
    "| $w_{s}$ | - | the SLS deflection |\n",
    "| $w_{u}$ | - | the deflection between SLS limit and ULS |  "
   ]
  },
  {
   "cell_type": "code",
   "execution_count": 6,
   "metadata": {
    "pycharm": {
     "name": "#%%\n"
    }
   },
   "outputs": [],
   "source": [
    "from bmcs_cross_section.mkappa.mkappa import MKappa, ReinforcementType\n",
    "from bmcs_cross_section.cs_design.cs_layout import Reinforcement\n",
    "from bmcs_beam.beam_config.boundary_conditions import BoundaryConditions, BoundaryConfig\n",
    "from bmcs_beam.bending.deflection_profile import DeflectionProfile\n",
    "from bmcs_beam.beam_config.beam_design import BeamDesign\n",
    "from bmcs_cross_section.cs_design.cs_shape import TShape\n",
    "from os.path import join\n",
    "import numpy as np\n",
    "import pandas as pd\n",
    "import sympy as sp\n",
    "import matplotlib.pyplot as plt\n",
    "import bmcs_utils.api as bu\n",
    "from mpl_toolkits import mplot3d\n",
    "\n",
    "def map_params(mc, B, H, eps_tu, E_cc, E_ct, eps_cr, eps_cy, mu, eps_cu):\n",
    "    mc.cross_section_shape.B=B\n",
    "    mc.cross_section_shape.H=H\n",
    "    mc.E_cc=E_cc\n",
    "    mc.E_ct=E_ct\n",
    "    mc.mu=mu\n",
    "    mc.eps_cr=eps_cr\n",
    "    mc.eps_cy=eps_cy\n",
    "    mc.eps_cu=eps_cu\n",
    "    mc.eps_tu=eps_tu\n",
    "    \n",
    "def map_and_assign_params_for_rectangular_section(\n",
    "        mc, # MKappa instance for which the params should be applied\n",
    "        b, h, E, E_s, f_sy, eps_cr, rho, beta_tu, v_f, omega, psi, mu, alpha, lambda_cu):\n",
    "    \"\"\"This function map the params of the rectangular section from the type of the paper\n",
    "    to the type of the model and assigns the values\"\"\"\n",
    "    mc.cross_section_shape.B=b\n",
    "    mc.cross_section_shape.H=h\n",
    "    mc.E_cc=E\n",
    "    mc.E_ct=E \n",
    "    mc.mu=mu\n",
    "    mc.eps_cr=eps_cr\n",
    "    mc.eps_cy=omega * eps_cr\n",
    "    mc.eps_cu=lambda_cu * eps_cr\n",
    "    mc.eps_tu=beta_tu * eps_cr\n",
    "    mc.cross_section_layout.reinforcement = [Reinforcement(\n",
    "                                                eps_sy=f_sy / E_s, # or eps_sy_j=psi * eps_cr,\n",
    "                                                E=E_s,\n",
    "                                                z=h * (1 - alpha),\n",
    "                                                A=rho * b * alpha * h)]"
   ]
  },
  {
   "cell_type": "code",
   "execution_count": 7,
   "metadata": {
    "pycharm": {
     "is_executing": true
    },
    "scrolled": false
   },
   "outputs": [
    {
     "ename": "TraitError",
     "evalue": "Each element of the 'models' trait of an InteractiveWindow instance must be an IInteractiveModel or None, but a value of [<bmcs_cross_section.cs_design.cs_layout.Reinforcement object at 0x000001605B3C8168>] <class 'traits.trait_list_object.TraitListObject'> was specified.",
     "output_type": "error",
     "traceback": [
      "\u001b[1;31m---------------------------------------------------------------------------\u001b[0m",
      "\u001b[1;31mTraitError\u001b[0m                                Traceback (most recent call last)",
      "\u001b[1;32m<ipython-input-7-5e03ed36af3d>\u001b[0m in \u001b[0;36m<module>\u001b[1;34m\u001b[0m\n\u001b[0;32m     33\u001b[0m                       \u001b[0mdp\u001b[0m\u001b[1;33m.\u001b[0m\u001b[0mmc\u001b[0m\u001b[1;33m.\u001b[0m\u001b[0mcs_design\u001b[0m\u001b[1;33m.\u001b[0m\u001b[0mcross_section_shape\u001b[0m\u001b[1;33m,\u001b[0m\u001b[1;33m\u001b[0m\u001b[1;33m\u001b[0m\u001b[0m\n\u001b[0;32m     34\u001b[0m                       \u001b[0mdp\u001b[0m\u001b[1;33m.\u001b[0m\u001b[0mmc\u001b[0m\u001b[1;33m.\u001b[0m\u001b[0mcs_design\u001b[0m\u001b[1;33m.\u001b[0m\u001b[0mcross_section_layout\u001b[0m\u001b[1;33m,\u001b[0m\u001b[1;33m\u001b[0m\u001b[1;33m\u001b[0m\u001b[0m\n\u001b[1;32m---> 35\u001b[1;33m                       mc.cross_section_layout.reinforcement], tight_layout=True).interact()\n\u001b[0m",
      "\u001b[1;32md:\\imb\\pycharm_workspace\\bmcs_utils\\bmcs_utils\\interactive_window.py\u001b[0m in \u001b[0;36m__init__\u001b[1;34m(self, models, **kw)\u001b[0m\n\u001b[0;32m     41\u001b[0m         \u001b[1;32mif\u001b[0m \u001b[1;32mnot\u001b[0m \u001b[1;33m(\u001b[0m\u001b[0mtype\u001b[0m\u001b[1;33m(\u001b[0m\u001b[0mmodels\u001b[0m\u001b[1;33m)\u001b[0m \u001b[1;32min\u001b[0m \u001b[1;33m[\u001b[0m\u001b[0mlist\u001b[0m\u001b[1;33m,\u001b[0m \u001b[0mtuple\u001b[0m\u001b[1;33m]\u001b[0m\u001b[1;33m)\u001b[0m\u001b[1;33m:\u001b[0m\u001b[1;33m\u001b[0m\u001b[1;33m\u001b[0m\u001b[0m\n\u001b[0;32m     42\u001b[0m             \u001b[0mmodels\u001b[0m \u001b[1;33m=\u001b[0m \u001b[1;33m[\u001b[0m\u001b[0mmodels\u001b[0m\u001b[1;33m]\u001b[0m\u001b[1;33m\u001b[0m\u001b[1;33m\u001b[0m\u001b[0m\n\u001b[1;32m---> 43\u001b[1;33m         \u001b[0mself\u001b[0m\u001b[1;33m.\u001b[0m\u001b[0mmodels\u001b[0m \u001b[1;33m=\u001b[0m \u001b[0mmodels\u001b[0m\u001b[1;33m\u001b[0m\u001b[1;33m\u001b[0m\u001b[0m\n\u001b[0m\u001b[0;32m     44\u001b[0m         self.ipw_model_tabs = [\n\u001b[0;32m     45\u001b[0m             \u001b[0mModelTab\u001b[0m\u001b[1;33m(\u001b[0m\u001b[0mmodel\u001b[0m\u001b[1;33m=\u001b[0m\u001b[0mmodel\u001b[0m\u001b[1;33m,\u001b[0m \u001b[0minteractor\u001b[0m\u001b[1;33m=\u001b[0m\u001b[0mself\u001b[0m\u001b[1;33m,\u001b[0m \u001b[0mindex\u001b[0m\u001b[1;33m=\u001b[0m\u001b[0mi\u001b[0m\u001b[1;33m)\u001b[0m\u001b[1;33m\u001b[0m\u001b[1;33m\u001b[0m\u001b[0m\n",
      "\u001b[1;32m~\\miniconda3\\envs\\py37\\lib\\site-packages\\traits\\trait_types.py\u001b[0m in \u001b[0;36mvalidate\u001b[1;34m(self, object, name, value)\u001b[0m\n\u001b[0;32m   2471\u001b[0m                 \u001b[1;32mreturn\u001b[0m \u001b[0mvalue\u001b[0m\u001b[1;33m\u001b[0m\u001b[1;33m\u001b[0m\u001b[0m\n\u001b[0;32m   2472\u001b[0m \u001b[1;33m\u001b[0m\u001b[0m\n\u001b[1;32m-> 2473\u001b[1;33m             \u001b[1;32mreturn\u001b[0m \u001b[0mTraitListObject\u001b[0m\u001b[1;33m(\u001b[0m\u001b[0mself\u001b[0m\u001b[1;33m,\u001b[0m \u001b[0mobject\u001b[0m\u001b[1;33m,\u001b[0m \u001b[0mname\u001b[0m\u001b[1;33m,\u001b[0m \u001b[0mvalue\u001b[0m\u001b[1;33m)\u001b[0m\u001b[1;33m\u001b[0m\u001b[1;33m\u001b[0m\u001b[0m\n\u001b[0m\u001b[0;32m   2474\u001b[0m \u001b[1;33m\u001b[0m\u001b[0m\n\u001b[0;32m   2475\u001b[0m         \u001b[0mself\u001b[0m\u001b[1;33m.\u001b[0m\u001b[0merror\u001b[0m\u001b[1;33m(\u001b[0m\u001b[0mobject\u001b[0m\u001b[1;33m,\u001b[0m \u001b[0mname\u001b[0m\u001b[1;33m,\u001b[0m \u001b[0mvalue\u001b[0m\u001b[1;33m)\u001b[0m\u001b[1;33m\u001b[0m\u001b[1;33m\u001b[0m\u001b[0m\n",
      "\u001b[1;32m~\\miniconda3\\envs\\py37\\lib\\site-packages\\traits\\trait_list_object.py\u001b[0m in \u001b[0;36m__init__\u001b[1;34m(self, trait, object, name, value)\u001b[0m\n\u001b[0;32m    580\u001b[0m             \u001b[0mvalue\u001b[0m\u001b[1;33m,\u001b[0m\u001b[1;33m\u001b[0m\u001b[1;33m\u001b[0m\u001b[0m\n\u001b[0;32m    581\u001b[0m             \u001b[0mitem_validator\u001b[0m\u001b[1;33m=\u001b[0m\u001b[0mself\u001b[0m\u001b[1;33m.\u001b[0m\u001b[0m_item_validator\u001b[0m\u001b[1;33m,\u001b[0m\u001b[1;33m\u001b[0m\u001b[1;33m\u001b[0m\u001b[0m\n\u001b[1;32m--> 582\u001b[1;33m             \u001b[0mnotifiers\u001b[0m\u001b[1;33m=\u001b[0m\u001b[1;33m[\u001b[0m\u001b[0mself\u001b[0m\u001b[1;33m.\u001b[0m\u001b[0mnotifier\u001b[0m\u001b[1;33m]\u001b[0m\u001b[1;33m,\u001b[0m\u001b[1;33m\u001b[0m\u001b[1;33m\u001b[0m\u001b[0m\n\u001b[0m\u001b[0;32m    583\u001b[0m         )\n\u001b[0;32m    584\u001b[0m \u001b[1;33m\u001b[0m\u001b[0m\n",
      "\u001b[1;32m~\\miniconda3\\envs\\py37\\lib\\site-packages\\traits\\trait_list_object.py\u001b[0m in \u001b[0;36m__init__\u001b[1;34m(self, iterable, item_validator, notifiers)\u001b[0m\n\u001b[0;32m    208\u001b[0m         \u001b[1;32mif\u001b[0m \u001b[0mitem_validator\u001b[0m \u001b[1;32mis\u001b[0m \u001b[1;32mnot\u001b[0m \u001b[1;32mNone\u001b[0m\u001b[1;33m:\u001b[0m\u001b[1;33m\u001b[0m\u001b[1;33m\u001b[0m\u001b[0m\n\u001b[0;32m    209\u001b[0m             \u001b[0mself\u001b[0m\u001b[1;33m.\u001b[0m\u001b[0mitem_validator\u001b[0m \u001b[1;33m=\u001b[0m \u001b[0mitem_validator\u001b[0m\u001b[1;33m\u001b[0m\u001b[1;33m\u001b[0m\u001b[0m\n\u001b[1;32m--> 210\u001b[1;33m         \u001b[0msuper\u001b[0m\u001b[1;33m(\u001b[0m\u001b[1;33m)\u001b[0m\u001b[1;33m.\u001b[0m\u001b[0m__init__\u001b[0m\u001b[1;33m(\u001b[0m\u001b[0mself\u001b[0m\u001b[1;33m.\u001b[0m\u001b[0mitem_validator\u001b[0m\u001b[1;33m(\u001b[0m\u001b[0mitem\u001b[0m\u001b[1;33m)\u001b[0m \u001b[1;32mfor\u001b[0m \u001b[0mitem\u001b[0m \u001b[1;32min\u001b[0m \u001b[0miterable\u001b[0m\u001b[1;33m)\u001b[0m\u001b[1;33m\u001b[0m\u001b[1;33m\u001b[0m\u001b[0m\n\u001b[0m\u001b[0;32m    211\u001b[0m         \u001b[1;32mif\u001b[0m \u001b[0mnotifiers\u001b[0m \u001b[1;32mis\u001b[0m \u001b[1;32mnot\u001b[0m \u001b[1;32mNone\u001b[0m\u001b[1;33m:\u001b[0m\u001b[1;33m\u001b[0m\u001b[1;33m\u001b[0m\u001b[0m\n\u001b[0;32m    212\u001b[0m             \u001b[0mself\u001b[0m\u001b[1;33m.\u001b[0m\u001b[0mnotifiers\u001b[0m \u001b[1;33m=\u001b[0m \u001b[0mlist\u001b[0m\u001b[1;33m(\u001b[0m\u001b[0mnotifiers\u001b[0m\u001b[1;33m)\u001b[0m\u001b[1;33m\u001b[0m\u001b[1;33m\u001b[0m\u001b[0m\n",
      "\u001b[1;32m~\\miniconda3\\envs\\py37\\lib\\site-packages\\traits\\trait_list_object.py\u001b[0m in \u001b[0;36m<genexpr>\u001b[1;34m(.0)\u001b[0m\n\u001b[0;32m    208\u001b[0m         \u001b[1;32mif\u001b[0m \u001b[0mitem_validator\u001b[0m \u001b[1;32mis\u001b[0m \u001b[1;32mnot\u001b[0m \u001b[1;32mNone\u001b[0m\u001b[1;33m:\u001b[0m\u001b[1;33m\u001b[0m\u001b[1;33m\u001b[0m\u001b[0m\n\u001b[0;32m    209\u001b[0m             \u001b[0mself\u001b[0m\u001b[1;33m.\u001b[0m\u001b[0mitem_validator\u001b[0m \u001b[1;33m=\u001b[0m \u001b[0mitem_validator\u001b[0m\u001b[1;33m\u001b[0m\u001b[1;33m\u001b[0m\u001b[0m\n\u001b[1;32m--> 210\u001b[1;33m         \u001b[0msuper\u001b[0m\u001b[1;33m(\u001b[0m\u001b[1;33m)\u001b[0m\u001b[1;33m.\u001b[0m\u001b[0m__init__\u001b[0m\u001b[1;33m(\u001b[0m\u001b[0mself\u001b[0m\u001b[1;33m.\u001b[0m\u001b[0mitem_validator\u001b[0m\u001b[1;33m(\u001b[0m\u001b[0mitem\u001b[0m\u001b[1;33m)\u001b[0m \u001b[1;32mfor\u001b[0m \u001b[0mitem\u001b[0m \u001b[1;32min\u001b[0m \u001b[0miterable\u001b[0m\u001b[1;33m)\u001b[0m\u001b[1;33m\u001b[0m\u001b[1;33m\u001b[0m\u001b[0m\n\u001b[0m\u001b[0;32m    211\u001b[0m         \u001b[1;32mif\u001b[0m \u001b[0mnotifiers\u001b[0m \u001b[1;32mis\u001b[0m \u001b[1;32mnot\u001b[0m \u001b[1;32mNone\u001b[0m\u001b[1;33m:\u001b[0m\u001b[1;33m\u001b[0m\u001b[1;33m\u001b[0m\u001b[0m\n\u001b[0;32m    212\u001b[0m             \u001b[0mself\u001b[0m\u001b[1;33m.\u001b[0m\u001b[0mnotifiers\u001b[0m \u001b[1;33m=\u001b[0m \u001b[0mlist\u001b[0m\u001b[1;33m(\u001b[0m\u001b[0mnotifiers\u001b[0m\u001b[1;33m)\u001b[0m\u001b[1;33m\u001b[0m\u001b[1;33m\u001b[0m\u001b[0m\n",
      "\u001b[1;32m~\\miniconda3\\envs\\py37\\lib\\site-packages\\traits\\trait_list_object.py\u001b[0m in \u001b[0;36m_item_validator\u001b[1;34m(self, value)\u001b[0m\n\u001b[0;32m    860\u001b[0m \u001b[1;33m\u001b[0m\u001b[0m\n\u001b[0;32m    861\u001b[0m         \u001b[1;32mtry\u001b[0m\u001b[1;33m:\u001b[0m\u001b[1;33m\u001b[0m\u001b[1;33m\u001b[0m\u001b[0m\n\u001b[1;32m--> 862\u001b[1;33m             \u001b[1;32mreturn\u001b[0m \u001b[0mtrait_validator\u001b[0m\u001b[1;33m(\u001b[0m\u001b[0mobject\u001b[0m\u001b[1;33m,\u001b[0m \u001b[0mself\u001b[0m\u001b[1;33m.\u001b[0m\u001b[0mname\u001b[0m\u001b[1;33m,\u001b[0m \u001b[0mvalue\u001b[0m\u001b[1;33m)\u001b[0m\u001b[1;33m\u001b[0m\u001b[1;33m\u001b[0m\u001b[0m\n\u001b[0m\u001b[0;32m    863\u001b[0m         \u001b[1;32mexcept\u001b[0m \u001b[0mTraitError\u001b[0m \u001b[1;32mas\u001b[0m \u001b[0mexcp\u001b[0m\u001b[1;33m:\u001b[0m\u001b[1;33m\u001b[0m\u001b[1;33m\u001b[0m\u001b[0m\n\u001b[0;32m    864\u001b[0m             \u001b[0mexcp\u001b[0m\u001b[1;33m.\u001b[0m\u001b[0mset_prefix\u001b[0m\u001b[1;33m(\u001b[0m\u001b[1;34m\"Each element of the\"\u001b[0m\u001b[1;33m)\u001b[0m\u001b[1;33m\u001b[0m\u001b[1;33m\u001b[0m\u001b[0m\n",
      "\u001b[1;32m~\\miniconda3\\envs\\py37\\lib\\site-packages\\traits\\trait_handlers.py\u001b[0m in \u001b[0;36mvalidate\u001b[1;34m(self, object, name, value)\u001b[0m\n\u001b[0;32m    338\u001b[0m             \u001b[1;32mreturn\u001b[0m \u001b[0mvalue\u001b[0m\u001b[1;33m\u001b[0m\u001b[1;33m\u001b[0m\u001b[0m\n\u001b[0;32m    339\u001b[0m \u001b[1;33m\u001b[0m\u001b[0m\n\u001b[1;32m--> 340\u001b[1;33m         \u001b[0mself\u001b[0m\u001b[1;33m.\u001b[0m\u001b[0merror\u001b[0m\u001b[1;33m(\u001b[0m\u001b[0mobject\u001b[0m\u001b[1;33m,\u001b[0m \u001b[0mname\u001b[0m\u001b[1;33m,\u001b[0m \u001b[0mvalue\u001b[0m\u001b[1;33m)\u001b[0m\u001b[1;33m\u001b[0m\u001b[1;33m\u001b[0m\u001b[0m\n\u001b[0m\u001b[0;32m    341\u001b[0m \u001b[1;33m\u001b[0m\u001b[0m\n\u001b[0;32m    342\u001b[0m     \u001b[1;32mdef\u001b[0m \u001b[0minfo\u001b[0m\u001b[1;33m(\u001b[0m\u001b[0mself\u001b[0m\u001b[1;33m)\u001b[0m\u001b[1;33m:\u001b[0m\u001b[1;33m\u001b[0m\u001b[1;33m\u001b[0m\u001b[0m\n",
      "\u001b[1;32m~\\miniconda3\\envs\\py37\\lib\\site-packages\\traits\\base_trait_handler.py\u001b[0m in \u001b[0;36merror\u001b[1;34m(self, object, name, value)\u001b[0m\n\u001b[0;32m     73\u001b[0m         \"\"\"\n\u001b[0;32m     74\u001b[0m         raise TraitError(\n\u001b[1;32m---> 75\u001b[1;33m             \u001b[0mobject\u001b[0m\u001b[1;33m,\u001b[0m \u001b[0mname\u001b[0m\u001b[1;33m,\u001b[0m \u001b[0mself\u001b[0m\u001b[1;33m.\u001b[0m\u001b[0mfull_info\u001b[0m\u001b[1;33m(\u001b[0m\u001b[0mobject\u001b[0m\u001b[1;33m,\u001b[0m \u001b[0mname\u001b[0m\u001b[1;33m,\u001b[0m \u001b[0mvalue\u001b[0m\u001b[1;33m)\u001b[0m\u001b[1;33m,\u001b[0m \u001b[0mvalue\u001b[0m\u001b[1;33m\u001b[0m\u001b[1;33m\u001b[0m\u001b[0m\n\u001b[0m\u001b[0;32m     76\u001b[0m         )\n\u001b[0;32m     77\u001b[0m \u001b[1;33m\u001b[0m\u001b[0m\n",
      "\u001b[1;31mTraitError\u001b[0m: Each element of the 'models' trait of an InteractiveWindow instance must be an IInteractiveModel or None, but a value of [<bmcs_cross_section.cs_design.cs_layout.Reinforcement object at 0x000001605B3C8168>] <class 'traits.trait_list_object.TraitListObject'> was specified."
     ]
    }
   ],
   "source": [
    "mc_params = dict(\n",
    "            reinforcement_type= ReinforcementType.STEEL,\n",
    "            n_m=100,\n",
    "            n_kappa = 100,\n",
    "            kappa_slider = 0.000001,\n",
    "            low_kappa = 0,\n",
    "            high_kappa =  0.00002, # 12e-6,\n",
    "            eps_tu = 0.002508,\n",
    "            E_cc = 34000,\n",
    "            E_ct = 34000,\n",
    "            eps_cr = 0.000132,\n",
    "            eps_cy = 0.0015312,\n",
    "            mu = 0.63,            # I changed this to zero\n",
    "            eps_cu = 0.003498)\n",
    "\n",
    "mc = MKappa(**mc_params)\n",
    "\n",
    "b = 285\n",
    "h = 299\n",
    "mc.cross_section_shape.B = b\n",
    "mc.cross_section_shape.H = h\n",
    "\n",
    "mc.cross_section_layout.reinforcement = [Reinforcement(eps_sy=560/203000, E=203000, z=26.82, A=231.04)]\n",
    "\n",
    "dp = DeflectionProfile(mc=mc)\n",
    "dp.beam_design.beam_conf_name = BoundaryConfig.FOUR_PB\n",
    "dp.beam_design.beam_conf_name.first_load_distance = 0\n",
    "dp.beam_design.L = 3000\n",
    "\n",
    "bu.InteractiveWindow([dp, \n",
    "                      dp.beam_design, \n",
    "                      dp.mc, \n",
    "                      dp.mc.cs_design.cross_section_shape,\n",
    "                      dp.mc.cs_design.cross_section_layout,\n",
    "                      mc.cross_section_layout.reinforcement], tight_layout=True).interact()"
   ]
  },
  {
   "cell_type": "code",
   "execution_count": 8,
   "metadata": {},
   "outputs": [
    {
     "name": "stderr",
     "output_type": "stream",
     "text": [
      "d:\\imb\\pycharm_workspace\\bmcs_utils\\bmcs_utils\\interactive_window.py:108: UserWarning: constrained_layout not applied.  At least one axes collapsed to zero width or height.\n",
      "  self.fig.canvas.draw()\n"
     ]
    },
    {
     "data": {
      "application/vnd.jupyter.widget-view+json": {
       "model_id": "e062d258f54f42e49e80a10a491aa421",
       "version_major": 2,
       "version_minor": 0
      },
      "text/plain": [
       "VBox(children=(Output(), Tab(children=(VBox(children=(GridBox(children=(IntText(value=31, description='\\\\(n_{\\…"
      ]
     },
     "metadata": {},
     "output_type": "display_data"
    }
   ],
   "source": [
    "\n",
    "from bmcs_cross_section.mkappa.mkappa import MKappa, ReinforcementType\n",
    "from bmcs_cross_section.cs_design.cs_layout import Reinforcement\n",
    "from bmcs_beam.beam_config.boundary_conditions import BoundaryConfig\n",
    "from bmcs_beam.beam_config.boundary_conditions import BoundaryConditions\n",
    "from bmcs_beam.bending.deflection_profile import DeflectionProfile\n",
    "from bmcs_beam.beam_config.beam_design import BeamDesign\n",
    "import numpy as np\n",
    "import sympy as sp\n",
    "import matplotlib.pyplot as plt\n",
    "import bmcs_utils.api as bu\n",
    "mc_params = dict(\n",
    "            reinforcement_type= ReinforcementType.STEEL,\n",
    "            n_m=100,\n",
    "            n_kappa = 100,\n",
    "            kappa_slider = 0.000001,\n",
    "            low_kappa = 0,\n",
    "            high_kappa =  0.00002, \n",
    "            eps_tu = 0.002508,\n",
    "            E_cc = 34000,\n",
    "            E_ct = 34000,\n",
    "            eps_cr = 0.000132,\n",
    "            eps_cy = 0.0015312,\n",
    "            mu = 0.63,            \n",
    "            eps_cu = 0.003498)\n",
    "mc = MKappa(**mc_params)\n",
    "b = 285\n",
    "h = 29\n",
    "mc.cross_section_shape.B = b\n",
    "mc.cross_section_shape.H = h\n",
    "mc.cross_section_layout.reinforcement = [Reinforcement(eps_sy=560/203000,\\\n",
    "E=203000, z=26.82, A=231.04)]\n",
    "dp = DeflectionProfile(mc=mc)\n",
    "dp.beam_design.beam_conf_name = BoundaryConfig.FOUR_PB\n",
    "dp.beam_design.beam_conf_name.first_load_distance = 0\n",
    "dp.beam_design.L = 3000\n",
    "%matplotlib widget\n",
    "bu.InteractiveWindow([dp, \n",
    "                      dp.beam_design, \n",
    "                      dp.mc, \n",
    "                      dp.mc.cs_design.cross_section_layout,\n",
    "                      dp.mc.cs_design.cross_section_shape,\n",
    "                      dp.mc.cross_section_layout.matrix,\n",
    "                      dp.mc.cross_section_layout],\n",
    "                      tight_layout=True).interact()"
   ]
  },
  {
   "cell_type": "code",
   "execution_count": 9,
   "metadata": {
    "pycharm": {
     "is_executing": true
    },
    "scrolled": false
   },
   "outputs": [
    {
     "data": {
      "application/vnd.jupyter.widget-view+json": {
       "model_id": "2aa1293c2ed04aaeae8f0bd4ed850e15",
       "version_major": 2,
       "version_minor": 0
      },
      "text/plain": [
       "Canvas(toolbar=Toolbar(toolitems=[('Home', 'Reset original view', 'home', 'home'), ('Back', 'Back to previous …"
      ]
     },
     "metadata": {},
     "output_type": "display_data"
    },
    {
     "name": "stdout",
     "output_type": "stream",
     "text": [
      "parameter combination 0.0025 10.0\n",
      "parameter combination 0.0025 15.0\n",
      "parameter combination 0.0025 20.0\n",
      "parameter combination 0.0025 25.0\n"
     ]
    },
    {
     "ename": "KeyboardInterrupt",
     "evalue": "",
     "output_type": "error",
     "traceback": [
      "\u001b[1;31m---------------------------------------------------------------------------\u001b[0m",
      "\u001b[1;31mKeyboardInterrupt\u001b[0m                         Traceback (most recent call last)",
      "\u001b[1;32m<ipython-input-9-dff7ba843bfb>\u001b[0m in \u001b[0;36m<module>\u001b[1;34m\u001b[0m\n\u001b[0;32m     30\u001b[0m \u001b[1;33m\u001b[0m\u001b[0m\n\u001b[0;32m     31\u001b[0m         \u001b[1;31m# running the deflection analysis\u001b[0m\u001b[1;33m\u001b[0m\u001b[1;33m\u001b[0m\u001b[1;33m\u001b[0m\u001b[0m\n\u001b[1;32m---> 32\u001b[1;33m         \u001b[0mF_data\u001b[0m\u001b[1;33m,\u001b[0m \u001b[0mw_data\u001b[0m \u001b[1;33m=\u001b[0m \u001b[0mdp\u001b[0m\u001b[1;33m.\u001b[0m\u001b[0mget_Fw\u001b[0m\u001b[1;33m(\u001b[0m\u001b[1;33m)\u001b[0m\u001b[1;33m\u001b[0m\u001b[1;33m\u001b[0m\u001b[0m\n\u001b[0m\u001b[0;32m     33\u001b[0m \u001b[1;33m\u001b[0m\u001b[0m\n\u001b[0;32m     34\u001b[0m         \u001b[1;31m# plotting, post-processing & saving the data\u001b[0m\u001b[1;33m\u001b[0m\u001b[1;33m\u001b[0m\u001b[1;33m\u001b[0m\u001b[0m\n",
      "\u001b[1;32md:\\imb\\pycharm_workspace\\bmcs_beam\\bmcs_beam\\bending\\deflection_profile.py\u001b[0m in \u001b[0;36mget_Fw\u001b[1;34m(self)\u001b[0m\n\u001b[0;32m    181\u001b[0m                 \u001b[0mself\u001b[0m\u001b[1;33m.\u001b[0m\u001b[0mbeam_design\u001b[0m\u001b[1;33m.\u001b[0m\u001b[0mF\u001b[0m \u001b[1;33m=\u001b[0m \u001b[1;33m-\u001b[0m\u001b[0mF\u001b[0m\u001b[1;33m\u001b[0m\u001b[1;33m\u001b[0m\u001b[0m\n\u001b[0;32m    182\u001b[0m                 \u001b[1;31m# Append the maximum deflection value that corresponds to the new load (F)\u001b[0m\u001b[1;33m\u001b[0m\u001b[1;33m\u001b[0m\u001b[1;33m\u001b[0m\u001b[0m\n\u001b[1;32m--> 183\u001b[1;33m                 \u001b[0mw_list\u001b[0m\u001b[1;33m.\u001b[0m\u001b[0mappend\u001b[0m\u001b[1;33m(\u001b[0m\u001b[0mnp\u001b[0m\u001b[1;33m.\u001b[0m\u001b[0mfabs\u001b[0m\u001b[1;33m(\u001b[0m\u001b[0mnp\u001b[0m\u001b[1;33m.\u001b[0m\u001b[0mmin\u001b[0m\u001b[1;33m(\u001b[0m\u001b[0mself\u001b[0m\u001b[1;33m.\u001b[0m\u001b[0mget_w_x\u001b[0m\u001b[1;33m(\u001b[0m\u001b[1;33m)\u001b[0m\u001b[1;33m)\u001b[0m\u001b[1;33m)\u001b[0m\u001b[1;33m)\u001b[0m\u001b[1;33m\u001b[0m\u001b[1;33m\u001b[0m\u001b[0m\n\u001b[0m\u001b[0;32m    184\u001b[0m         \u001b[1;32mif\u001b[0m \u001b[0mself\u001b[0m\u001b[1;33m.\u001b[0m\u001b[0mF_max_old\u001b[0m \u001b[1;33m==\u001b[0m \u001b[0mF_max\u001b[0m\u001b[1;33m:\u001b[0m\u001b[1;33m\u001b[0m\u001b[1;33m\u001b[0m\u001b[0m\n\u001b[0;32m    185\u001b[0m             \u001b[0mself\u001b[0m\u001b[1;33m.\u001b[0m\u001b[0mbeam_design\u001b[0m\u001b[1;33m.\u001b[0m\u001b[0mF\u001b[0m \u001b[1;33m=\u001b[0m \u001b[0moriginal_F\u001b[0m\u001b[1;33m\u001b[0m\u001b[1;33m\u001b[0m\u001b[0m\n",
      "\u001b[1;32md:\\imb\\pycharm_workspace\\bmcs_beam\\bmcs_beam\\bending\\deflection_profile.py\u001b[0m in \u001b[0;36mget_w_x\u001b[1;34m(self)\u001b[0m\n\u001b[0;32m    106\u001b[0m         \u001b[0mProfile\u001b[0m \u001b[0mof\u001b[0m \u001b[0mdeflection\u001b[0m \u001b[0malong\u001b[0m \u001b[0mthe\u001b[0m \u001b[0mbeam\u001b[0m\u001b[1;33m\u001b[0m\u001b[1;33m\u001b[0m\u001b[0m\n\u001b[0;32m    107\u001b[0m         '''\n\u001b[1;32m--> 108\u001b[1;33m         \u001b[0mphi_x\u001b[0m \u001b[1;33m=\u001b[0m \u001b[0mself\u001b[0m\u001b[1;33m.\u001b[0m\u001b[0mget_phi_x\u001b[0m\u001b[1;33m(\u001b[0m\u001b[1;33m)\u001b[0m\u001b[1;33m\u001b[0m\u001b[1;33m\u001b[0m\u001b[0m\n\u001b[0m\u001b[0;32m    109\u001b[0m         \u001b[0mw_x\u001b[0m \u001b[1;33m=\u001b[0m \u001b[0mcumtrapz\u001b[0m\u001b[1;33m(\u001b[0m\u001b[0mphi_x\u001b[0m\u001b[1;33m,\u001b[0m \u001b[0mself\u001b[0m\u001b[1;33m.\u001b[0m\u001b[0mbeam_design\u001b[0m\u001b[1;33m.\u001b[0m\u001b[0mx\u001b[0m\u001b[1;33m,\u001b[0m \u001b[0minitial\u001b[0m\u001b[1;33m=\u001b[0m\u001b[1;36m0\u001b[0m\u001b[1;33m)\u001b[0m\u001b[1;33m\u001b[0m\u001b[1;33m\u001b[0m\u001b[0m\n\u001b[0;32m    110\u001b[0m         \u001b[1;31m# resolve the integration constant by requiring zero deflection\u001b[0m\u001b[1;33m\u001b[0m\u001b[1;33m\u001b[0m\u001b[1;33m\u001b[0m\u001b[0m\n",
      "\u001b[1;32md:\\imb\\pycharm_workspace\\bmcs_beam\\bmcs_beam\\bending\\deflection_profile.py\u001b[0m in \u001b[0;36mget_phi_x\u001b[1;34m(self)\u001b[0m\n\u001b[0;32m     90\u001b[0m         '''\n\u001b[0;32m     91\u001b[0m         \u001b[1;31m# TODO rename phi to theta\u001b[0m\u001b[1;33m\u001b[0m\u001b[1;33m\u001b[0m\u001b[1;33m\u001b[0m\u001b[0m\n\u001b[1;32m---> 92\u001b[1;33m         \u001b[0mkappa_x\u001b[0m \u001b[1;33m=\u001b[0m \u001b[0mself\u001b[0m\u001b[1;33m.\u001b[0m\u001b[0mget_kappa_x\u001b[0m\u001b[1;33m(\u001b[0m\u001b[1;33m)\u001b[0m \u001b[1;31m#+ 1e-5 #+ self.get_kappa_shrinkage()\u001b[0m\u001b[1;33m\u001b[0m\u001b[1;33m\u001b[0m\u001b[0m\n\u001b[0m\u001b[0;32m     93\u001b[0m         \u001b[1;31m# Kappa = 1/R = d_phi/d_x\u001b[0m\u001b[1;33m\u001b[0m\u001b[1;33m\u001b[0m\u001b[1;33m\u001b[0m\u001b[0m\n\u001b[0;32m     94\u001b[0m         \u001b[0mphi_x\u001b[0m \u001b[1;33m=\u001b[0m \u001b[0mcumtrapz\u001b[0m\u001b[1;33m(\u001b[0m\u001b[0mkappa_x\u001b[0m\u001b[1;33m,\u001b[0m \u001b[0mself\u001b[0m\u001b[1;33m.\u001b[0m\u001b[0mbeam_design\u001b[0m\u001b[1;33m.\u001b[0m\u001b[0mx\u001b[0m\u001b[1;33m,\u001b[0m \u001b[0minitial\u001b[0m\u001b[1;33m=\u001b[0m\u001b[1;36m0\u001b[0m\u001b[1;33m)\u001b[0m\u001b[1;33m\u001b[0m\u001b[1;33m\u001b[0m\u001b[0m\n",
      "\u001b[1;32md:\\imb\\pycharm_workspace\\bmcs_beam\\bmcs_beam\\bending\\deflection_profile.py\u001b[0m in \u001b[0;36mget_kappa_x\u001b[1;34m(self)\u001b[0m\n\u001b[0;32m     33\u001b[0m         \u001b[0mProfile\u001b[0m \u001b[0mof\u001b[0m \u001b[0mcurvature\u001b[0m \u001b[0malong\u001b[0m \u001b[0mthe\u001b[0m \u001b[0mbeam\u001b[0m\u001b[1;33m\u001b[0m\u001b[1;33m\u001b[0m\u001b[0m\n\u001b[0;32m     34\u001b[0m         '''\n\u001b[1;32m---> 35\u001b[1;33m         \u001b[0mM\u001b[0m \u001b[1;33m=\u001b[0m \u001b[0mself\u001b[0m\u001b[1;33m.\u001b[0m\u001b[0mbeam_design\u001b[0m\u001b[1;33m.\u001b[0m\u001b[0mget_M_x\u001b[0m\u001b[1;33m(\u001b[0m\u001b[1;33m)\u001b[0m\u001b[1;33m\u001b[0m\u001b[1;33m\u001b[0m\u001b[0m\n\u001b[0m\u001b[0;32m     36\u001b[0m         \u001b[1;32mreturn\u001b[0m \u001b[0mself\u001b[0m\u001b[1;33m.\u001b[0m\u001b[0mmc\u001b[0m\u001b[1;33m.\u001b[0m\u001b[0mget_kappa_M\u001b[0m\u001b[1;33m(\u001b[0m\u001b[0mM\u001b[0m\u001b[1;33m)\u001b[0m\u001b[1;33m\u001b[0m\u001b[1;33m\u001b[0m\u001b[0m\n\u001b[0;32m     37\u001b[0m \u001b[1;33m\u001b[0m\u001b[0m\n",
      "\u001b[1;32md:\\imb\\pycharm_workspace\\bmcs_beam\\bmcs_beam\\beam_config\\beam_design.py\u001b[0m in \u001b[0;36mget_M_x\u001b[1;34m(self, solve_beam_first)\u001b[0m\n\u001b[0;32m     84\u001b[0m             \u001b[0mself\u001b[0m\u001b[1;33m.\u001b[0m\u001b[0msolve_beam_for_reactions\u001b[0m\u001b[1;33m(\u001b[0m\u001b[1;33m)\u001b[0m\u001b[1;33m\u001b[0m\u001b[1;33m\u001b[0m\u001b[0m\n\u001b[0;32m     85\u001b[0m         \u001b[0mx\u001b[0m \u001b[1;33m=\u001b[0m \u001b[0msp\u001b[0m\u001b[1;33m.\u001b[0m\u001b[0msymbols\u001b[0m\u001b[1;33m(\u001b[0m\u001b[1;34m'x'\u001b[0m\u001b[1;33m)\u001b[0m\u001b[1;33m\u001b[0m\u001b[1;33m\u001b[0m\u001b[0m\n\u001b[1;32m---> 86\u001b[1;33m         \u001b[0mM_\u001b[0m \u001b[1;33m=\u001b[0m \u001b[0mself\u001b[0m\u001b[1;33m.\u001b[0m\u001b[0mbeam\u001b[0m\u001b[1;33m.\u001b[0m\u001b[0mbending_moment\u001b[0m\u001b[1;33m(\u001b[0m\u001b[1;33m)\u001b[0m\u001b[1;33m.\u001b[0m\u001b[0mrewrite\u001b[0m\u001b[1;33m(\u001b[0m\u001b[0msp\u001b[0m\u001b[1;33m.\u001b[0m\u001b[0mPiecewise\u001b[0m\u001b[1;33m)\u001b[0m\u001b[1;33m\u001b[0m\u001b[1;33m\u001b[0m\u001b[0m\n\u001b[0m\u001b[0;32m     87\u001b[0m         \u001b[0mget_M\u001b[0m \u001b[1;33m=\u001b[0m \u001b[0msp\u001b[0m\u001b[1;33m.\u001b[0m\u001b[0mlambdify\u001b[0m\u001b[1;33m(\u001b[0m\u001b[0mx\u001b[0m\u001b[1;33m,\u001b[0m \u001b[0mM_\u001b[0m\u001b[1;33m,\u001b[0m \u001b[1;34m'numpy'\u001b[0m\u001b[1;33m)\u001b[0m\u001b[1;33m\u001b[0m\u001b[1;33m\u001b[0m\u001b[0m\n\u001b[0;32m     88\u001b[0m         \u001b[1;32mreturn\u001b[0m \u001b[0mget_M\u001b[0m\u001b[1;33m(\u001b[0m\u001b[0mself\u001b[0m\u001b[1;33m.\u001b[0m\u001b[0mx\u001b[0m\u001b[1;33m)\u001b[0m\u001b[1;33m\u001b[0m\u001b[1;33m\u001b[0m\u001b[0m\n",
      "\u001b[1;32m~\\miniconda3\\envs\\py37\\lib\\site-packages\\sympy\\physics\\continuum_mechanics\\beam.py\u001b[0m in \u001b[0;36mbending_moment\u001b[1;34m(self)\u001b[0m\n\u001b[0;32m    923\u001b[0m         \"\"\"\n\u001b[0;32m    924\u001b[0m         \u001b[0mx\u001b[0m \u001b[1;33m=\u001b[0m \u001b[0mself\u001b[0m\u001b[1;33m.\u001b[0m\u001b[0mvariable\u001b[0m\u001b[1;33m\u001b[0m\u001b[1;33m\u001b[0m\u001b[0m\n\u001b[1;32m--> 925\u001b[1;33m         \u001b[1;32mreturn\u001b[0m \u001b[0mintegrate\u001b[0m\u001b[1;33m(\u001b[0m\u001b[0mself\u001b[0m\u001b[1;33m.\u001b[0m\u001b[0mshear_force\u001b[0m\u001b[1;33m(\u001b[0m\u001b[1;33m)\u001b[0m\u001b[1;33m,\u001b[0m \u001b[0mx\u001b[0m\u001b[1;33m)\u001b[0m\u001b[1;33m\u001b[0m\u001b[1;33m\u001b[0m\u001b[0m\n\u001b[0m\u001b[0;32m    926\u001b[0m \u001b[1;33m\u001b[0m\u001b[0m\n\u001b[0;32m    927\u001b[0m     \u001b[1;32mdef\u001b[0m \u001b[0mmax_bmoment\u001b[0m\u001b[1;33m(\u001b[0m\u001b[0mself\u001b[0m\u001b[1;33m)\u001b[0m\u001b[1;33m:\u001b[0m\u001b[1;33m\u001b[0m\u001b[1;33m\u001b[0m\u001b[0m\n",
      "\u001b[1;32m~\\miniconda3\\envs\\py37\\lib\\site-packages\\sympy\\physics\\continuum_mechanics\\beam.py\u001b[0m in \u001b[0;36mshear_force\u001b[1;34m(self)\u001b[0m\n\u001b[0;32m    837\u001b[0m         \"\"\"\n\u001b[0;32m    838\u001b[0m         \u001b[0mx\u001b[0m \u001b[1;33m=\u001b[0m \u001b[0mself\u001b[0m\u001b[1;33m.\u001b[0m\u001b[0mvariable\u001b[0m\u001b[1;33m\u001b[0m\u001b[1;33m\u001b[0m\u001b[0m\n\u001b[1;32m--> 839\u001b[1;33m         \u001b[1;32mreturn\u001b[0m \u001b[0mintegrate\u001b[0m\u001b[1;33m(\u001b[0m\u001b[0mself\u001b[0m\u001b[1;33m.\u001b[0m\u001b[0mload\u001b[0m\u001b[1;33m,\u001b[0m \u001b[0mx\u001b[0m\u001b[1;33m)\u001b[0m\u001b[1;33m\u001b[0m\u001b[1;33m\u001b[0m\u001b[0m\n\u001b[0m\u001b[0;32m    840\u001b[0m \u001b[1;33m\u001b[0m\u001b[0m\n\u001b[0;32m    841\u001b[0m     \u001b[1;32mdef\u001b[0m \u001b[0mmax_shear_force\u001b[0m\u001b[1;33m(\u001b[0m\u001b[0mself\u001b[0m\u001b[1;33m)\u001b[0m\u001b[1;33m:\u001b[0m\u001b[1;33m\u001b[0m\u001b[1;33m\u001b[0m\u001b[0m\n",
      "\u001b[1;32m~\\miniconda3\\envs\\py37\\lib\\site-packages\\sympy\\integrals\\integrals.py\u001b[0m in \u001b[0;36mintegrate\u001b[1;34m(*args, **kwargs)\u001b[0m\n\u001b[0;32m   1543\u001b[0m \u001b[1;33m\u001b[0m\u001b[0m\n\u001b[0;32m   1544\u001b[0m     \u001b[1;32mif\u001b[0m \u001b[0misinstance\u001b[0m\u001b[1;33m(\u001b[0m\u001b[0mintegral\u001b[0m\u001b[1;33m,\u001b[0m \u001b[0mIntegral\u001b[0m\u001b[1;33m)\u001b[0m\u001b[1;33m:\u001b[0m\u001b[1;33m\u001b[0m\u001b[1;33m\u001b[0m\u001b[0m\n\u001b[1;32m-> 1545\u001b[1;33m         \u001b[1;32mreturn\u001b[0m \u001b[0mintegral\u001b[0m\u001b[1;33m.\u001b[0m\u001b[0mdoit\u001b[0m\u001b[1;33m(\u001b[0m\u001b[1;33m**\u001b[0m\u001b[0mdoit_flags\u001b[0m\u001b[1;33m)\u001b[0m\u001b[1;33m\u001b[0m\u001b[1;33m\u001b[0m\u001b[0m\n\u001b[0m\u001b[0;32m   1546\u001b[0m     \u001b[1;32melse\u001b[0m\u001b[1;33m:\u001b[0m\u001b[1;33m\u001b[0m\u001b[1;33m\u001b[0m\u001b[0m\n\u001b[0;32m   1547\u001b[0m         new_args = [a.doit(**doit_flags) if isinstance(a, Integral) else a\n",
      "\u001b[1;32m~\\miniconda3\\envs\\py37\\lib\\site-packages\\sympy\\integrals\\integrals.py\u001b[0m in \u001b[0;36mdoit\u001b[1;34m(self, **hints)\u001b[0m\n\u001b[0;32m    592\u001b[0m                 \u001b[1;32melse\u001b[0m\u001b[1;33m:\u001b[0m\u001b[1;33m\u001b[0m\u001b[1;33m\u001b[0m\u001b[0m\n\u001b[0;32m    593\u001b[0m                     antideriv = self._eval_integral(\n\u001b[1;32m--> 594\u001b[1;33m                         function, xab[0], **eval_kwargs)\n\u001b[0m\u001b[0;32m    595\u001b[0m                     \u001b[1;32mif\u001b[0m \u001b[0mantideriv\u001b[0m \u001b[1;32mis\u001b[0m \u001b[1;32mNone\u001b[0m \u001b[1;32mand\u001b[0m \u001b[0mmeijerg\u001b[0m \u001b[1;32mis\u001b[0m \u001b[1;32mTrue\u001b[0m\u001b[1;33m:\u001b[0m\u001b[1;33m\u001b[0m\u001b[1;33m\u001b[0m\u001b[0m\n\u001b[0;32m    596\u001b[0m                         \u001b[0mret\u001b[0m \u001b[1;33m=\u001b[0m \u001b[0mtry_meijerg\u001b[0m\u001b[1;33m(\u001b[0m\u001b[0mfunction\u001b[0m\u001b[1;33m,\u001b[0m \u001b[0mxab\u001b[0m\u001b[1;33m)\u001b[0m\u001b[1;33m\u001b[0m\u001b[1;33m\u001b[0m\u001b[0m\n",
      "\u001b[1;32m~\\miniconda3\\envs\\py37\\lib\\site-packages\\sympy\\integrals\\integrals.py\u001b[0m in \u001b[0;36m_eval_integral\u001b[1;34m(self, f, x, meijerg, risch, manual, heurisch, conds)\u001b[0m\n\u001b[0;32m    921\u001b[0m \u001b[1;33m\u001b[0m\u001b[0m\n\u001b[0;32m    922\u001b[0m         \u001b[1;31m# try to convert to poly(x) and then integrate if successful (fast)\u001b[0m\u001b[1;33m\u001b[0m\u001b[1;33m\u001b[0m\u001b[1;33m\u001b[0m\u001b[0m\n\u001b[1;32m--> 923\u001b[1;33m         \u001b[0mpoly\u001b[0m \u001b[1;33m=\u001b[0m \u001b[0mf\u001b[0m\u001b[1;33m.\u001b[0m\u001b[0mas_poly\u001b[0m\u001b[1;33m(\u001b[0m\u001b[0mx\u001b[0m\u001b[1;33m)\u001b[0m\u001b[1;33m\u001b[0m\u001b[1;33m\u001b[0m\u001b[0m\n\u001b[0m\u001b[0;32m    924\u001b[0m         \u001b[1;32mif\u001b[0m \u001b[0mpoly\u001b[0m \u001b[1;32mis\u001b[0m \u001b[1;32mnot\u001b[0m \u001b[1;32mNone\u001b[0m \u001b[1;32mand\u001b[0m \u001b[1;32mnot\u001b[0m \u001b[1;33m(\u001b[0m\u001b[0mmanual\u001b[0m \u001b[1;32mor\u001b[0m \u001b[0mmeijerg\u001b[0m \u001b[1;32mor\u001b[0m \u001b[0mrisch\u001b[0m\u001b[1;33m)\u001b[0m\u001b[1;33m:\u001b[0m\u001b[1;33m\u001b[0m\u001b[1;33m\u001b[0m\u001b[0m\n\u001b[0;32m    925\u001b[0m             \u001b[1;32mreturn\u001b[0m \u001b[0mpoly\u001b[0m\u001b[1;33m.\u001b[0m\u001b[0mintegrate\u001b[0m\u001b[1;33m(\u001b[0m\u001b[1;33m)\u001b[0m\u001b[1;33m.\u001b[0m\u001b[0mas_expr\u001b[0m\u001b[1;33m(\u001b[0m\u001b[1;33m)\u001b[0m\u001b[1;33m\u001b[0m\u001b[1;33m\u001b[0m\u001b[0m\n",
      "\u001b[1;32m~\\miniconda3\\envs\\py37\\lib\\site-packages\\sympy\\core\\expr.py\u001b[0m in \u001b[0;36mas_poly\u001b[1;34m(self, *gens, **args)\u001b[0m\n\u001b[0;32m   1103\u001b[0m \u001b[1;33m\u001b[0m\u001b[0m\n\u001b[0;32m   1104\u001b[0m         \u001b[1;32mtry\u001b[0m\u001b[1;33m:\u001b[0m\u001b[1;33m\u001b[0m\u001b[1;33m\u001b[0m\u001b[0m\n\u001b[1;32m-> 1105\u001b[1;33m             \u001b[0mpoly\u001b[0m \u001b[1;33m=\u001b[0m \u001b[0mPoly\u001b[0m\u001b[1;33m(\u001b[0m\u001b[0mself\u001b[0m\u001b[1;33m,\u001b[0m \u001b[1;33m*\u001b[0m\u001b[0mgens\u001b[0m\u001b[1;33m,\u001b[0m \u001b[1;33m**\u001b[0m\u001b[0margs\u001b[0m\u001b[1;33m)\u001b[0m\u001b[1;33m\u001b[0m\u001b[1;33m\u001b[0m\u001b[0m\n\u001b[0m\u001b[0;32m   1106\u001b[0m \u001b[1;33m\u001b[0m\u001b[0m\n\u001b[0;32m   1107\u001b[0m             \u001b[1;32mif\u001b[0m \u001b[1;32mnot\u001b[0m \u001b[0mpoly\u001b[0m\u001b[1;33m.\u001b[0m\u001b[0mis_Poly\u001b[0m\u001b[1;33m:\u001b[0m\u001b[1;33m\u001b[0m\u001b[1;33m\u001b[0m\u001b[0m\n",
      "\u001b[1;32m~\\miniconda3\\envs\\py37\\lib\\site-packages\\sympy\\polys\\polytools.py\u001b[0m in \u001b[0;36m__new__\u001b[1;34m(cls, rep, *gens, **args)\u001b[0m\n\u001b[0;32m    157\u001b[0m                 \u001b[1;32mreturn\u001b[0m \u001b[0mcls\u001b[0m\u001b[1;33m.\u001b[0m\u001b[0m_from_poly\u001b[0m\u001b[1;33m(\u001b[0m\u001b[0mrep\u001b[0m\u001b[1;33m,\u001b[0m \u001b[0mopt\u001b[0m\u001b[1;33m)\u001b[0m\u001b[1;33m\u001b[0m\u001b[1;33m\u001b[0m\u001b[0m\n\u001b[0;32m    158\u001b[0m             \u001b[1;32melse\u001b[0m\u001b[1;33m:\u001b[0m\u001b[1;33m\u001b[0m\u001b[1;33m\u001b[0m\u001b[0m\n\u001b[1;32m--> 159\u001b[1;33m                 \u001b[1;32mreturn\u001b[0m \u001b[0mcls\u001b[0m\u001b[1;33m.\u001b[0m\u001b[0m_from_expr\u001b[0m\u001b[1;33m(\u001b[0m\u001b[0mrep\u001b[0m\u001b[1;33m,\u001b[0m \u001b[0mopt\u001b[0m\u001b[1;33m)\u001b[0m\u001b[1;33m\u001b[0m\u001b[1;33m\u001b[0m\u001b[0m\n\u001b[0m\u001b[0;32m    160\u001b[0m \u001b[1;33m\u001b[0m\u001b[0m\n\u001b[0;32m    161\u001b[0m     \u001b[1;31m# Poly does not pass its args to Basic.__new__ to be stored in _args so we\u001b[0m\u001b[1;33m\u001b[0m\u001b[1;33m\u001b[0m\u001b[1;33m\u001b[0m\u001b[0m\n",
      "\u001b[1;32m~\\miniconda3\\envs\\py37\\lib\\site-packages\\sympy\\polys\\polytools.py\u001b[0m in \u001b[0;36m_from_expr\u001b[1;34m(cls, rep, opt)\u001b[0m\n\u001b[0;32m    286\u001b[0m     \u001b[1;32mdef\u001b[0m \u001b[0m_from_expr\u001b[0m\u001b[1;33m(\u001b[0m\u001b[0mcls\u001b[0m\u001b[1;33m,\u001b[0m \u001b[0mrep\u001b[0m\u001b[1;33m,\u001b[0m \u001b[0mopt\u001b[0m\u001b[1;33m)\u001b[0m\u001b[1;33m:\u001b[0m\u001b[1;33m\u001b[0m\u001b[1;33m\u001b[0m\u001b[0m\n\u001b[0;32m    287\u001b[0m         \u001b[1;34m\"\"\"Construct a polynomial from an expression. \"\"\"\u001b[0m\u001b[1;33m\u001b[0m\u001b[1;33m\u001b[0m\u001b[0m\n\u001b[1;32m--> 288\u001b[1;33m         \u001b[0mrep\u001b[0m\u001b[1;33m,\u001b[0m \u001b[0mopt\u001b[0m \u001b[1;33m=\u001b[0m \u001b[0m_dict_from_expr\u001b[0m\u001b[1;33m(\u001b[0m\u001b[0mrep\u001b[0m\u001b[1;33m,\u001b[0m \u001b[0mopt\u001b[0m\u001b[1;33m)\u001b[0m\u001b[1;33m\u001b[0m\u001b[1;33m\u001b[0m\u001b[0m\n\u001b[0m\u001b[0;32m    289\u001b[0m         \u001b[1;32mreturn\u001b[0m \u001b[0mcls\u001b[0m\u001b[1;33m.\u001b[0m\u001b[0m_from_dict\u001b[0m\u001b[1;33m(\u001b[0m\u001b[0mrep\u001b[0m\u001b[1;33m,\u001b[0m \u001b[0mopt\u001b[0m\u001b[1;33m)\u001b[0m\u001b[1;33m\u001b[0m\u001b[1;33m\u001b[0m\u001b[0m\n\u001b[0;32m    290\u001b[0m \u001b[1;33m\u001b[0m\u001b[0m\n",
      "\u001b[1;32m~\\miniconda3\\envs\\py37\\lib\\site-packages\\sympy\\polys\\polyutils.py\u001b[0m in \u001b[0;36m_dict_from_expr\u001b[1;34m(expr, opt)\u001b[0m\n\u001b[0;32m    355\u001b[0m         \u001b[1;32mif\u001b[0m \u001b[1;32mnot\u001b[0m \u001b[0misinstance\u001b[0m\u001b[1;33m(\u001b[0m\u001b[0mexpr\u001b[0m\u001b[1;33m,\u001b[0m \u001b[1;33m(\u001b[0m\u001b[0mExpr\u001b[0m\u001b[1;33m,\u001b[0m \u001b[0mEq\u001b[0m\u001b[1;33m)\u001b[0m\u001b[1;33m)\u001b[0m\u001b[1;33m:\u001b[0m\u001b[1;33m\u001b[0m\u001b[1;33m\u001b[0m\u001b[0m\n\u001b[0;32m    356\u001b[0m             \u001b[1;32mraise\u001b[0m \u001b[0mPolynomialError\u001b[0m\u001b[1;33m(\u001b[0m\u001b[1;34m'expression must be of type Expr'\u001b[0m\u001b[1;33m)\u001b[0m\u001b[1;33m\u001b[0m\u001b[1;33m\u001b[0m\u001b[0m\n\u001b[1;32m--> 357\u001b[1;33m         \u001b[0mexpr\u001b[0m \u001b[1;33m=\u001b[0m \u001b[0mexpr\u001b[0m\u001b[1;33m.\u001b[0m\u001b[0mexpand\u001b[0m\u001b[1;33m(\u001b[0m\u001b[1;33m)\u001b[0m\u001b[1;33m\u001b[0m\u001b[1;33m\u001b[0m\u001b[0m\n\u001b[0m\u001b[0;32m    358\u001b[0m         \u001b[1;31m# TODO: Integrate this into expand() itself\u001b[0m\u001b[1;33m\u001b[0m\u001b[1;33m\u001b[0m\u001b[1;33m\u001b[0m\u001b[0m\n\u001b[0;32m    359\u001b[0m         while any(_is_expandable_pow(i) or i.is_Mul and\n",
      "\u001b[1;32m~\\miniconda3\\envs\\py37\\lib\\site-packages\\sympy\\core\\expr.py\u001b[0m in \u001b[0;36mexpand\u001b[1;34m(self, deep, modulus, power_base, power_exp, mul, log, multinomial, basic, **hints)\u001b[0m\n\u001b[0;32m   3477\u001b[0m             \u001b[1;32mreturn\u001b[0m \u001b[0mhint\u001b[0m\u001b[1;33m\u001b[0m\u001b[1;33m\u001b[0m\u001b[0m\n\u001b[0;32m   3478\u001b[0m \u001b[1;33m\u001b[0m\u001b[0m\n\u001b[1;32m-> 3479\u001b[1;33m         \u001b[1;32mfor\u001b[0m \u001b[0mhint\u001b[0m \u001b[1;32min\u001b[0m \u001b[0msorted\u001b[0m\u001b[1;33m(\u001b[0m\u001b[0mhints\u001b[0m\u001b[1;33m.\u001b[0m\u001b[0mkeys\u001b[0m\u001b[1;33m(\u001b[0m\u001b[1;33m)\u001b[0m\u001b[1;33m,\u001b[0m \u001b[0mkey\u001b[0m\u001b[1;33m=\u001b[0m\u001b[0m_expand_hint_key\u001b[0m\u001b[1;33m)\u001b[0m\u001b[1;33m:\u001b[0m\u001b[1;33m\u001b[0m\u001b[1;33m\u001b[0m\u001b[0m\n\u001b[0m\u001b[0;32m   3480\u001b[0m             \u001b[0muse_hint\u001b[0m \u001b[1;33m=\u001b[0m \u001b[0mhints\u001b[0m\u001b[1;33m[\u001b[0m\u001b[0mhint\u001b[0m\u001b[1;33m]\u001b[0m\u001b[1;33m\u001b[0m\u001b[1;33m\u001b[0m\u001b[0m\n\u001b[0;32m   3481\u001b[0m             \u001b[1;32mif\u001b[0m \u001b[0muse_hint\u001b[0m\u001b[1;33m:\u001b[0m\u001b[1;33m\u001b[0m\u001b[1;33m\u001b[0m\u001b[0m\n",
      "\u001b[1;31mKeyboardInterrupt\u001b[0m: "
     ]
    }
   ],
   "source": [
    "rho_range_steel = np.linspace(0.0025, 0.025, 6)\n",
    "slenderness_range_steel = np.linspace(10, 35, 6)\n",
    "\n",
    "d = mc.cross_section_shape.H -  mc.cross_section_layout.reinforcement[0].z\n",
    "b = mc.cross_section_shape.B\n",
    "area_g = b * d\n",
    "\n",
    "rho_grid_steel, sl_grid_steel = np.meshgrid(rho_range_steel, slenderness_range_steel) \n",
    "F_u_grid_steel = np.zeros_like(rho_grid_steel)\n",
    "F_s_grid_steel = np.zeros_like(rho_grid_steel)\n",
    "\n",
    "_ , ax = plt.subplots()\n",
    "ax.set_xlabel(r'$w$ [mm]')\n",
    "ax.set_ylabel(r'$F$ [KN]')\n",
    "        \n",
    "for sl_idx in range(0,len(slenderness_range_steel)):\n",
    "    for rho_idx in range(0,len(rho_range_steel)):      \n",
    "        rho = rho_grid_steel[rho_idx, sl_idx]\n",
    "        sl = sl_grid_steel[rho_idx, sl_idx]\n",
    "\n",
    "        print('parameter combination', rho, sl)\n",
    "\n",
    "        # assigning the grid area (area_g) to the reinforcement area variable\n",
    "        A_j_g = rho * area_g\n",
    "        dp.mc.cross_section_layout.reinforcement[0].A = A_j_g\n",
    "\n",
    "        # assigning the grid length (L_g) to the beam length variable\n",
    "        L_g = sl * d\n",
    "        dp.beam_design.L = L_g\n",
    "\n",
    "        # running the deflection analysis \n",
    "        F_data, w_data = dp.get_Fw()\n",
    "        \n",
    "        # plotting, post-processing & saving the data\n",
    "        ax.plot(w_data, F_data/1000, label = \"rho={}%-sl={} \".format(rho * 100, sl))\n",
    "        \n",
    "        w_s = dp.beam_design.L / 250\n",
    "        w_max = max(w_data)\n",
    "        w_u = max(w_data) - w_s\n",
    "        F_s = np.interp(w_s, w_data, F_data)\n",
    "        F_u = max(F_data)\n",
    "\n",
    "        F_u_grid_steel[rho_idx,sl_idx] = F_u\n",
    "        F_s_grid_steel[rho_idx,sl_idx] = F_s"
   ]
  },
  {
   "cell_type": "code",
   "execution_count": null,
   "metadata": {},
   "outputs": [],
   "source": [
    "# np.save('F_u_grid_steel_with_material_factors.npy', F_u_grid)\n",
    "# np.save('F_s_grid_steel_with_material_factors.npy', F_s_grid)\n",
    "np.save('F_u_grid_steel.npy', F_u_grid_steel)\n",
    "np.save('F_s_grid_steel.npy', F_s_grid_steel)"
   ]
  },
  {
   "cell_type": "code",
   "execution_count": 12,
   "metadata": {},
   "outputs": [],
   "source": [
    "# This cell is for loading results later if needed\n",
    "rho_range_steel = np.linspace(0.0025, 0.025, 6)\n",
    "slenderness_range_steel = np.linspace(10, 35, 6)\n",
    "rho_grid_steel, sl_grid_steel = np.meshgrid(rho_range_steel, slenderness_range_steel) \n",
    "F_u_grid_steel = np.load('F_u_grid_steel.npy')\n",
    "F_s_grid_steel = np.load('F_s_grid_steel.npy')"
   ]
  },
  {
   "cell_type": "code",
   "execution_count": 13,
   "metadata": {},
   "outputs": [
    {
     "data": {
      "application/vnd.jupyter.widget-view+json": {
       "model_id": "afcd9dc09c554bceb925a8766758baca",
       "version_major": 2,
       "version_minor": 0
      },
      "text/plain": [
       "Canvas(toolbar=Toolbar(toolitems=[('Home', 'Reset original view', 'home', 'home'), ('Back', 'Back to previous …"
      ]
     },
     "metadata": {},
     "output_type": "display_data"
    },
    {
     "ename": "TypeError",
     "evalue": "Shapes of x (6, 6) and z (10, 10) do not match",
     "output_type": "error",
     "traceback": [
      "\u001b[1;31m---------------------------------------------------------------------------\u001b[0m",
      "\u001b[1;31mTypeError\u001b[0m                                 Traceback (most recent call last)",
      "\u001b[1;32m<ipython-input-13-12926d98de84>\u001b[0m in \u001b[0;36m<module>\u001b[1;34m\u001b[0m\n\u001b[0;32m      3\u001b[0m \u001b[0mz\u001b[0m \u001b[1;33m=\u001b[0m \u001b[1;33m(\u001b[0m\u001b[0mF_s_grid_steel\u001b[0m \u001b[1;33m+\u001b[0m \u001b[0mF_u_grid_steel\u001b[0m\u001b[1;33m)\u001b[0m \u001b[1;33m/\u001b[0m \u001b[0mF_s_grid_steel\u001b[0m \u001b[1;33m-\u001b[0m \u001b[1;36m1.65\u001b[0m\u001b[1;33m\u001b[0m\u001b[1;33m\u001b[0m\u001b[0m\n\u001b[0;32m      4\u001b[0m \u001b[1;33m\u001b[0m\u001b[0m\n\u001b[1;32m----> 5\u001b[1;33m \u001b[0mCS\u001b[0m \u001b[1;33m=\u001b[0m \u001b[0max\u001b[0m\u001b[1;33m.\u001b[0m\u001b[0mcontour\u001b[0m\u001b[1;33m(\u001b[0m\u001b[0mrho_grid_steel\u001b[0m\u001b[1;33m,\u001b[0m \u001b[0msl_grid_steel\u001b[0m\u001b[1;33m,\u001b[0m \u001b[0mz\u001b[0m \u001b[1;33m,\u001b[0m \u001b[0mlevels\u001b[0m\u001b[1;33m=\u001b[0m\u001b[1;33m[\u001b[0m\u001b[1;36m0.\u001b[0m\u001b[1;33m]\u001b[0m\u001b[1;33m)\u001b[0m\u001b[1;33m\u001b[0m\u001b[1;33m\u001b[0m\u001b[0m\n\u001b[0m\u001b[0;32m      6\u001b[0m \u001b[0max\u001b[0m\u001b[1;33m.\u001b[0m\u001b[0mclabel\u001b[0m\u001b[1;33m(\u001b[0m\u001b[0mCS\u001b[0m\u001b[1;33m,\u001b[0m \u001b[0minline\u001b[0m\u001b[1;33m=\u001b[0m\u001b[1;36m1\u001b[0m\u001b[1;33m,\u001b[0m \u001b[0mfontsize\u001b[0m\u001b[1;33m=\u001b[0m\u001b[1;36m10\u001b[0m\u001b[1;33m)\u001b[0m\u001b[1;33m\u001b[0m\u001b[1;33m\u001b[0m\u001b[0m\n\u001b[0;32m      7\u001b[0m \u001b[0max\u001b[0m\u001b[1;33m.\u001b[0m\u001b[0mset_ylabel\u001b[0m\u001b[1;33m(\u001b[0m\u001b[1;34m'L/d'\u001b[0m\u001b[1;33m)\u001b[0m\u001b[1;33m\u001b[0m\u001b[1;33m\u001b[0m\u001b[0m\n",
      "\u001b[1;32m~\\miniconda3\\envs\\py37\\lib\\site-packages\\matplotlib\\__init__.py\u001b[0m in \u001b[0;36minner\u001b[1;34m(ax, data, *args, **kwargs)\u001b[0m\n\u001b[0;32m   1436\u001b[0m     \u001b[1;32mdef\u001b[0m \u001b[0minner\u001b[0m\u001b[1;33m(\u001b[0m\u001b[0max\u001b[0m\u001b[1;33m,\u001b[0m \u001b[1;33m*\u001b[0m\u001b[0margs\u001b[0m\u001b[1;33m,\u001b[0m \u001b[0mdata\u001b[0m\u001b[1;33m=\u001b[0m\u001b[1;32mNone\u001b[0m\u001b[1;33m,\u001b[0m \u001b[1;33m**\u001b[0m\u001b[0mkwargs\u001b[0m\u001b[1;33m)\u001b[0m\u001b[1;33m:\u001b[0m\u001b[1;33m\u001b[0m\u001b[1;33m\u001b[0m\u001b[0m\n\u001b[0;32m   1437\u001b[0m         \u001b[1;32mif\u001b[0m \u001b[0mdata\u001b[0m \u001b[1;32mis\u001b[0m \u001b[1;32mNone\u001b[0m\u001b[1;33m:\u001b[0m\u001b[1;33m\u001b[0m\u001b[1;33m\u001b[0m\u001b[0m\n\u001b[1;32m-> 1438\u001b[1;33m             \u001b[1;32mreturn\u001b[0m \u001b[0mfunc\u001b[0m\u001b[1;33m(\u001b[0m\u001b[0max\u001b[0m\u001b[1;33m,\u001b[0m \u001b[1;33m*\u001b[0m\u001b[0mmap\u001b[0m\u001b[1;33m(\u001b[0m\u001b[0msanitize_sequence\u001b[0m\u001b[1;33m,\u001b[0m \u001b[0margs\u001b[0m\u001b[1;33m)\u001b[0m\u001b[1;33m,\u001b[0m \u001b[1;33m**\u001b[0m\u001b[0mkwargs\u001b[0m\u001b[1;33m)\u001b[0m\u001b[1;33m\u001b[0m\u001b[1;33m\u001b[0m\u001b[0m\n\u001b[0m\u001b[0;32m   1439\u001b[0m \u001b[1;33m\u001b[0m\u001b[0m\n\u001b[0;32m   1440\u001b[0m         \u001b[0mbound\u001b[0m \u001b[1;33m=\u001b[0m \u001b[0mnew_sig\u001b[0m\u001b[1;33m.\u001b[0m\u001b[0mbind\u001b[0m\u001b[1;33m(\u001b[0m\u001b[0max\u001b[0m\u001b[1;33m,\u001b[0m \u001b[1;33m*\u001b[0m\u001b[0margs\u001b[0m\u001b[1;33m,\u001b[0m \u001b[1;33m**\u001b[0m\u001b[0mkwargs\u001b[0m\u001b[1;33m)\u001b[0m\u001b[1;33m\u001b[0m\u001b[1;33m\u001b[0m\u001b[0m\n",
      "\u001b[1;32m~\\miniconda3\\envs\\py37\\lib\\site-packages\\matplotlib\\axes\\_axes.py\u001b[0m in \u001b[0;36mcontour\u001b[1;34m(self, *args, **kwargs)\u001b[0m\n\u001b[0;32m   6330\u001b[0m     \u001b[1;32mdef\u001b[0m \u001b[0mcontour\u001b[0m\u001b[1;33m(\u001b[0m\u001b[0mself\u001b[0m\u001b[1;33m,\u001b[0m \u001b[1;33m*\u001b[0m\u001b[0margs\u001b[0m\u001b[1;33m,\u001b[0m \u001b[1;33m**\u001b[0m\u001b[0mkwargs\u001b[0m\u001b[1;33m)\u001b[0m\u001b[1;33m:\u001b[0m\u001b[1;33m\u001b[0m\u001b[1;33m\u001b[0m\u001b[0m\n\u001b[0;32m   6331\u001b[0m         \u001b[0mkwargs\u001b[0m\u001b[1;33m[\u001b[0m\u001b[1;34m'filled'\u001b[0m\u001b[1;33m]\u001b[0m \u001b[1;33m=\u001b[0m \u001b[1;32mFalse\u001b[0m\u001b[1;33m\u001b[0m\u001b[1;33m\u001b[0m\u001b[0m\n\u001b[1;32m-> 6332\u001b[1;33m         \u001b[0mcontours\u001b[0m \u001b[1;33m=\u001b[0m \u001b[0mmcontour\u001b[0m\u001b[1;33m.\u001b[0m\u001b[0mQuadContourSet\u001b[0m\u001b[1;33m(\u001b[0m\u001b[0mself\u001b[0m\u001b[1;33m,\u001b[0m \u001b[1;33m*\u001b[0m\u001b[0margs\u001b[0m\u001b[1;33m,\u001b[0m \u001b[1;33m**\u001b[0m\u001b[0mkwargs\u001b[0m\u001b[1;33m)\u001b[0m\u001b[1;33m\u001b[0m\u001b[1;33m\u001b[0m\u001b[0m\n\u001b[0m\u001b[0;32m   6333\u001b[0m         \u001b[0mself\u001b[0m\u001b[1;33m.\u001b[0m\u001b[0m_request_autoscale_view\u001b[0m\u001b[1;33m(\u001b[0m\u001b[1;33m)\u001b[0m\u001b[1;33m\u001b[0m\u001b[1;33m\u001b[0m\u001b[0m\n\u001b[0;32m   6334\u001b[0m         \u001b[1;32mreturn\u001b[0m \u001b[0mcontours\u001b[0m\u001b[1;33m\u001b[0m\u001b[1;33m\u001b[0m\u001b[0m\n",
      "\u001b[1;32m~\\miniconda3\\envs\\py37\\lib\\site-packages\\matplotlib\\contour.py\u001b[0m in \u001b[0;36m__init__\u001b[1;34m(self, ax, levels, filled, linewidths, linestyles, hatches, alpha, origin, extent, cmap, colors, norm, vmin, vmax, extend, antialiased, nchunk, locator, transform, *args, **kwargs)\u001b[0m\n\u001b[0;32m    814\u001b[0m         \u001b[0mself\u001b[0m\u001b[1;33m.\u001b[0m\u001b[0m_transform\u001b[0m \u001b[1;33m=\u001b[0m \u001b[0mtransform\u001b[0m\u001b[1;33m\u001b[0m\u001b[1;33m\u001b[0m\u001b[0m\n\u001b[0;32m    815\u001b[0m \u001b[1;33m\u001b[0m\u001b[0m\n\u001b[1;32m--> 816\u001b[1;33m         \u001b[0mkwargs\u001b[0m \u001b[1;33m=\u001b[0m \u001b[0mself\u001b[0m\u001b[1;33m.\u001b[0m\u001b[0m_process_args\u001b[0m\u001b[1;33m(\u001b[0m\u001b[1;33m*\u001b[0m\u001b[0margs\u001b[0m\u001b[1;33m,\u001b[0m \u001b[1;33m**\u001b[0m\u001b[0mkwargs\u001b[0m\u001b[1;33m)\u001b[0m\u001b[1;33m\u001b[0m\u001b[1;33m\u001b[0m\u001b[0m\n\u001b[0m\u001b[0;32m    817\u001b[0m         \u001b[0mself\u001b[0m\u001b[1;33m.\u001b[0m\u001b[0m_process_levels\u001b[0m\u001b[1;33m(\u001b[0m\u001b[1;33m)\u001b[0m\u001b[1;33m\u001b[0m\u001b[1;33m\u001b[0m\u001b[0m\n\u001b[0;32m    818\u001b[0m \u001b[1;33m\u001b[0m\u001b[0m\n",
      "\u001b[1;32m~\\miniconda3\\envs\\py37\\lib\\site-packages\\matplotlib\\contour.py\u001b[0m in \u001b[0;36m_process_args\u001b[1;34m(self, corner_mask, *args, **kwargs)\u001b[0m\n\u001b[0;32m   1428\u001b[0m             \u001b[0mself\u001b[0m\u001b[1;33m.\u001b[0m\u001b[0m_corner_mask\u001b[0m \u001b[1;33m=\u001b[0m \u001b[0mcorner_mask\u001b[0m\u001b[1;33m\u001b[0m\u001b[1;33m\u001b[0m\u001b[0m\n\u001b[0;32m   1429\u001b[0m \u001b[1;33m\u001b[0m\u001b[0m\n\u001b[1;32m-> 1430\u001b[1;33m             \u001b[0mx\u001b[0m\u001b[1;33m,\u001b[0m \u001b[0my\u001b[0m\u001b[1;33m,\u001b[0m \u001b[0mz\u001b[0m \u001b[1;33m=\u001b[0m \u001b[0mself\u001b[0m\u001b[1;33m.\u001b[0m\u001b[0m_contour_args\u001b[0m\u001b[1;33m(\u001b[0m\u001b[0margs\u001b[0m\u001b[1;33m,\u001b[0m \u001b[0mkwargs\u001b[0m\u001b[1;33m)\u001b[0m\u001b[1;33m\u001b[0m\u001b[1;33m\u001b[0m\u001b[0m\n\u001b[0m\u001b[0;32m   1431\u001b[0m \u001b[1;33m\u001b[0m\u001b[0m\n\u001b[0;32m   1432\u001b[0m             \u001b[0m_mask\u001b[0m \u001b[1;33m=\u001b[0m \u001b[0mma\u001b[0m\u001b[1;33m.\u001b[0m\u001b[0mgetmask\u001b[0m\u001b[1;33m(\u001b[0m\u001b[0mz\u001b[0m\u001b[1;33m)\u001b[0m\u001b[1;33m\u001b[0m\u001b[1;33m\u001b[0m\u001b[0m\n",
      "\u001b[1;32m~\\miniconda3\\envs\\py37\\lib\\site-packages\\matplotlib\\contour.py\u001b[0m in \u001b[0;36m_contour_args\u001b[1;34m(self, args, kwargs)\u001b[0m\n\u001b[0;32m   1486\u001b[0m             \u001b[0margs\u001b[0m \u001b[1;33m=\u001b[0m \u001b[0margs\u001b[0m\u001b[1;33m[\u001b[0m\u001b[1;36m1\u001b[0m\u001b[1;33m:\u001b[0m\u001b[1;33m]\u001b[0m\u001b[1;33m\u001b[0m\u001b[1;33m\u001b[0m\u001b[0m\n\u001b[0;32m   1487\u001b[0m         \u001b[1;32melif\u001b[0m \u001b[0mNargs\u001b[0m \u001b[1;33m<=\u001b[0m \u001b[1;36m4\u001b[0m\u001b[1;33m:\u001b[0m\u001b[1;33m\u001b[0m\u001b[1;33m\u001b[0m\u001b[0m\n\u001b[1;32m-> 1488\u001b[1;33m             \u001b[0mx\u001b[0m\u001b[1;33m,\u001b[0m \u001b[0my\u001b[0m\u001b[1;33m,\u001b[0m \u001b[0mz\u001b[0m \u001b[1;33m=\u001b[0m \u001b[0mself\u001b[0m\u001b[1;33m.\u001b[0m\u001b[0m_check_xyz\u001b[0m\u001b[1;33m(\u001b[0m\u001b[0margs\u001b[0m\u001b[1;33m[\u001b[0m\u001b[1;33m:\u001b[0m\u001b[1;36m3\u001b[0m\u001b[1;33m]\u001b[0m\u001b[1;33m,\u001b[0m \u001b[0mkwargs\u001b[0m\u001b[1;33m)\u001b[0m\u001b[1;33m\u001b[0m\u001b[1;33m\u001b[0m\u001b[0m\n\u001b[0m\u001b[0;32m   1489\u001b[0m             \u001b[0margs\u001b[0m \u001b[1;33m=\u001b[0m \u001b[0margs\u001b[0m\u001b[1;33m[\u001b[0m\u001b[1;36m3\u001b[0m\u001b[1;33m:\u001b[0m\u001b[1;33m]\u001b[0m\u001b[1;33m\u001b[0m\u001b[1;33m\u001b[0m\u001b[0m\n\u001b[0;32m   1490\u001b[0m         \u001b[1;32melse\u001b[0m\u001b[1;33m:\u001b[0m\u001b[1;33m\u001b[0m\u001b[1;33m\u001b[0m\u001b[0m\n",
      "\u001b[1;32m~\\miniconda3\\envs\\py37\\lib\\site-packages\\matplotlib\\contour.py\u001b[0m in \u001b[0;36m_check_xyz\u001b[1;34m(self, args, kwargs)\u001b[0m\n\u001b[0;32m   1539\u001b[0m             \u001b[1;32mif\u001b[0m \u001b[0mx\u001b[0m\u001b[1;33m.\u001b[0m\u001b[0mshape\u001b[0m \u001b[1;33m!=\u001b[0m \u001b[0mz\u001b[0m\u001b[1;33m.\u001b[0m\u001b[0mshape\u001b[0m\u001b[1;33m:\u001b[0m\u001b[1;33m\u001b[0m\u001b[1;33m\u001b[0m\u001b[0m\n\u001b[0;32m   1540\u001b[0m                 raise TypeError(\n\u001b[1;32m-> 1541\u001b[1;33m                     f\"Shapes of x {x.shape} and z {z.shape} do not match\")\n\u001b[0m\u001b[0;32m   1542\u001b[0m             \u001b[1;32mif\u001b[0m \u001b[0my\u001b[0m\u001b[1;33m.\u001b[0m\u001b[0mshape\u001b[0m \u001b[1;33m!=\u001b[0m \u001b[0mz\u001b[0m\u001b[1;33m.\u001b[0m\u001b[0mshape\u001b[0m\u001b[1;33m:\u001b[0m\u001b[1;33m\u001b[0m\u001b[1;33m\u001b[0m\u001b[0m\n\u001b[0;32m   1543\u001b[0m                 raise TypeError(\n",
      "\u001b[1;31mTypeError\u001b[0m: Shapes of x (6, 6) and z (10, 10) do not match"
     ]
    }
   ],
   "source": [
    "_, ax = plt.subplots(1,1)\n",
    "# z = F_u_grid/F_s_grid -1\n",
    "z = (F_s_grid_steel + F_u_grid_steel) / F_s_grid_steel - 1.65\n",
    "\n",
    "CS = ax.contour(rho_grid_steel, sl_grid_steel, z , levels=[0.])\n",
    "ax.clabel(CS, inline=1, fontsize=10)\n",
    "ax.set_ylabel('L/d')\n",
    "ax.set_xlabel(r'$\\rho$ %')\n",
    "ax.set_ylim(10, 35)\n",
    "ax.set_xlim(0.0025, 0.025)\n",
    "\n",
    "# Draw C50 curve\n",
    "rho_range = np.arange(0.0025, 0.025, 0.0001)\n",
    "f_ck = 50\n",
    "slenderness = []\n",
    "for rho in rho_range:\n",
    "    slenderness.append(get_slenderness(rho, 0,  1, f_ck))\n",
    "ax.plot(rho_range, slenderness)"
   ]
  },
  {
   "cell_type": "markdown",
   "metadata": {},
   "source": [
    "## Testing for Carbon\n",
    "#### 1. Verification with Heid et al. (2020), [link](https://www.heringinternational.com/fileadmin/media/archive1/downloads/architekturbeton/Bauingenieur_06_2020_S.210-219.pdf), Carbon reinforcement\n"
   ]
  },
  {
   "cell_type": "code",
   "execution_count": 160,
   "metadata": {},
   "outputs": [
    {
     "name": "stderr",
     "output_type": "stream",
     "text": [
      "d:\\imb\\pycharm_workspace\\bmcs_utils\\bmcs_utils\\interactive_window.py:108: UserWarning: constrained_layout not applied.  At least one axes collapsed to zero width or height.\n",
      "  self.fig.canvas.draw()\n"
     ]
    },
    {
     "data": {
      "application/vnd.jupyter.widget-view+json": {
       "model_id": "3dc562e99fba46849d717685f3b41a47",
       "version_major": 2,
       "version_minor": 0
      },
      "text/plain": [
       "VBox(children=(Output(), Tab(children=(VBox(children=(GridBox(children=(IntText(value=31, description='\\\\(n_{\\…"
      ]
     },
     "metadata": {},
     "output_type": "display_data"
    }
   ],
   "source": [
    "# Testing for Carbon\n",
    "# HB-SU-0\n",
    "E = 39500\n",
    "\n",
    "# from bending test from σ_c,Riss\n",
    "eps_cr = ((6.365 + 6.306 + 5.635 + 5.627 + 5.452 + 5.627)/6)/E\n",
    "\n",
    "mc = MKappa(reinforcement_type= ReinforcementType.CARBON,\n",
    "            low_kappa = 0,\n",
    "            high_kappa = 0.0007,\n",
    "            E_cc = E,\n",
    "            E_ct = E,\n",
    "            eps_cr = eps_cr, # 0.000163\n",
    "            eps_tu = 9.02/E, # beta_tu = 20\n",
    "            eps_cy = 72/E, # omega = 10.0\n",
    "            eps_cu = (72/E)*2, # lambda_cu = 20\n",
    "            mu = 0.0)\n",
    "\n",
    "mc.cross_section_shape.B = 45\n",
    "mc.cross_section_shape.H = 30\n",
    "mc.cross_section_layout.reinforcement = [Reinforcement(eps_sy=2712/240000, E=240000, z=8, A=3.62),\n",
    "                                         Reinforcement(eps_sy=2712/240000, E=240000, z=22, A=3.62),]\n",
    "\n",
    "dp = DeflectionProfile(mc=mc)\n",
    "\n",
    "dp.beam_design.beam_conf_name = BoundaryConfig.FOUR_PB\n",
    "dp.beam_design.beam_conf_name.first_load_distance = 320\n",
    "dp.beam_design.L = 840\n",
    "\n",
    "%matplotlib widget\n",
    "bu.InteractiveWindow([dp, \n",
    "                      dp.beam_design, \n",
    "                      dp.mc, \n",
    "                      dp.mc.cs_design.cross_section_shape, \n",
    "                      dp.mc.cs_design.cross_section_layout], tight_layout=True).interact()"
   ]
  },
  {
   "cell_type": "code",
   "execution_count": 11,
   "metadata": {
    "pycharm": {
     "name": "#%%\n"
    }
   },
   "outputs": [
    {
     "name": "stdout",
     "output_type": "stream",
     "text": [
      "[     0.           5516.18968396  11032.37936791  16548.56905187\n",
      "  22064.75873582  27580.94841978  33097.13810374  38613.32778769\n",
      "  44129.51747165  49645.7071556   55161.89683956  60678.08652352\n",
      "  66194.27620747  71710.46589143  77226.65557538  82742.84525934\n",
      "  88259.0349433   93775.22462725  99291.41431121 104807.60399517\n",
      " 110323.79367912 115839.98336308 121356.17304703 126872.36273099\n",
      " 132388.55241495 137904.7420989  143420.93178286 148937.12146681\n",
      " 154453.31115077 159969.50083473 165485.69051868 171001.88020264\n",
      " 176518.06988659 182034.25957055 187550.44925451 193066.63893846\n",
      " 198582.82862242 204099.01830637 208039.15379491 208039.15379491\n",
      " 208039.15379491 208039.15379491 208039.15379491 208039.15379491\n",
      " 208039.15379491 208039.15379491 208039.15379491 208039.15379491\n",
      " 208039.15379491 208039.15379491]\n"
     ]
    }
   ],
   "source": [
    "M_x = dp.beam_design.get_M_x()\n",
    "len(M_x)\n",
    "print(M_x[:int(len(M_x)/2)])"
   ]
  },
  {
   "cell_type": "code",
   "execution_count": 164,
   "metadata": {
    "pycharm": {
     "name": "#%%\n"
    }
   },
   "outputs": [
    {
     "data": {
      "application/vnd.jupyter.widget-view+json": {
       "model_id": "79bdb85ce6a946cfaa88107db222c0f6",
       "version_major": 2,
       "version_minor": 0
      },
      "text/plain": [
       "Canvas(toolbar=Toolbar(toolitems=[('Home', 'Reset original view', 'home', 'home'), ('Back', 'Back to previous …"
      ]
     },
     "metadata": {},
     "output_type": "display_data"
    },
    {
     "name": "stdout",
     "output_type": "stream",
     "text": [
      "len 100\n",
      "index 38\n",
      "322.4242424242424 517.5757575757575 320.0\n"
     ]
    }
   ],
   "source": [
    "%matplotlib widget\n",
    "L_mid_SLS_inx = 200\n",
    "L_inx = (dp.beam_design.L - L_mid_SLS_inx)/2\n",
    "x_inx = round(L_inx*len(dp.beam_design.x)/dp.beam_design.L)\n",
    "W_x = dp.get_w_x()\n",
    "y = dp.beam_design.x\n",
    "point = round(len(W_x)/3)\n",
    "# print(W_x[:int(len(W_x)/2)])\n",
    "plt.plot(y,W_x, 'r.', y[x_inx], W_x[x_inx], 'b*',y[-x_inx-1], W_x[-x_inx-1], 'b*')\n",
    "min(W_x)\n",
    "print('len',len(W_x))\n",
    "print('index',x_inx)\n",
    "dp.beam_design.L/100 * len(W_x)\n",
    "print(y[x_inx],y[-x_inx-1],L_inx)"
   ]
  },
  {
   "cell_type": "code",
   "execution_count": 228,
   "metadata": {
    "pycharm": {
     "name": "#%%\n"
    },
    "scrolled": false
   },
   "outputs": [
    {
     "data": {
      "application/vnd.jupyter.widget-view+json": {
       "model_id": "555e339d7a554a5d8bca3a9c3a3d2b0d",
       "version_major": 2,
       "version_minor": 0
      },
      "text/plain": [
       "Canvas(toolbar=Toolbar(toolitems=[('Home', 'Reset original view', 'home', 'home'), ('Back', 'Back to previous …"
      ]
     },
     "metadata": {},
     "output_type": "display_data"
    },
    {
     "name": "stdout",
     "output_type": "stream",
     "text": [
      "not passed\n"
     ]
    }
   ],
   "source": [
    "%matplotlib widget\n",
    "# running the deflection analysis \n",
    "L_mid_SLS_inx = 200\n",
    "L_inx = (dp.beam_design.L - L_mid_SLS_inx)/2\n",
    "x_inx = round(L_inx*len(dp.beam_design.x)/dp.beam_design.L)\n",
    "mc.cross_section_shape.B = 30\n",
    "dp.beam_design.L = 840\n",
    "\n",
    "_, (ax1,ax2) = plt.subplots(2,1,figsize=(10,10)) \n",
    "ax1.plot(y,W_x, 'r.', y[x_inx], W_x[x_inx], 'b*',y[-x_inx-1], W_x[-x_inx-1], 'b*')\n",
    "\n",
    "F_data_inx, w_data_inx = dp.get_Fw_inx(x_inx)\n",
    "F_data, w_data = dp.get_Fw()\n",
    "# print(F_data.size, w_data.shape)\n",
    "# plotting, post-processing & saving the data\n",
    "m = np.diff(w_data)/np.diff(F_data/1000)\n",
    "a = np.diff(np.round(m))\n",
    "ans = np.argmax(m)\n",
    "w_data[ans+1]\n",
    "\n",
    "m_inx = np.diff(w_data_inx)/np.diff(F_data_inx/1000)\n",
    "a_inx = np.diff(np.round(m_inx))\n",
    "ans_inx = np.argmax(m_inx)\n",
    "w_data[ans_inx+1]\n",
    "\n",
    "w_s = dp.beam_design.L / 250\n",
    "w_max = max(w_data)\n",
    "w_u = max(w_data) - w_s\n",
    "F_s = np.interp(w_s, w_data, F_data)\n",
    "F_u = max(F_data)\n",
    "\n",
    "eta = F_u / F_s\n",
    "xi = w_u/w_s\n",
    "\n",
    "ax2.plot(w_data, F_data/1000, 'r-', w_data_inx, F_data_inx/1000, 'b-.',\\\n",
    "          w_data[ans+1], F_data[ans+1]/1000, 'b.', w_data[ans], F_data[ans]/1000, 'b.',\\\n",
    "          w_data_inx[ans_inx+1], F_data_inx[ans_inx+1]/1000, 'r.', w_data_inx[ans_inx], F_data_inx[ans_inx]/1000, 'r.')\n",
    "\n",
    "ax2.plot([dp.beam_design.L/250,dp.beam_design.L/250], [0,max(F_data/1000)], c= 'gray', ls = '--')\n",
    "ax2.annotate(\"eta={}  xi={} \".format(round(eta, 2), round(xi, 2)), (dp.beam_design.L / 250 * 1.4, F_data[ans+1]/1000*0.675),\\\n",
    "            bbox={'facecolor': 'grey', 'alpha': 0.5, 'pad': 10}, fontsize=15)\n",
    "ax2.annotate('L/250', (dp.beam_design.L / 250*1.01 , F_data[ans+1]/2/1000),\\\n",
    "             fontsize=12, rotation = 'vertical')\n",
    "ax2.set_xlabel(r'$w$ [mm]')\n",
    "ax2.set_ylabel(r'$F$ [KN]')\n",
    "# ax2.set_xlim(0,dp.beam_design.L / 250*1.25)\n",
    "# ax2.set_ylim(0,F_data[ans+1]/1000*1.25)\n",
    "ax2.legend(['Deflection at the middle of the beam','Deflection at L={}'.format(L_inx)], loc=0)\n",
    "\n",
    "if w_data[ans+1]>dp.beam_design.L/250:\n",
    "    print('not passed')\n",
    "else:\n",
    "    print('passed')\n",
    "    \n",
    "alpha = (w_data[ans+1]) / (dp.beam_design.L / 250)     #an index for the difference of existing limit and the L/250\n",
    "beta = ((dp.beam_design.L / 250 - w_data[ans+1]) / w_data[ans+1]) + 1     #a coefficientto provide b for the next iteration\n",
    "# print('alpha, beta', alpha, beta)\n",
    "\n",
    "alpha_inx = (w_data_inx[ans_inx+1]) / (dp.beam_design.L / 250)     #an index for the difference of existing limit and the L/250\n",
    "beta_inx = ((dp.beam_design.L / 250 - w_data_inx[ans_inx+1]) / w_data_inx[ans_inx+1]) + 1     #a coefficientto provide b for the next iteration\n",
    "# print('alpha_inx, beta_inx', alpha_inx, beta_inx)"
   ]
  },
  {
   "cell_type": "code",
   "execution_count": 22,
   "metadata": {},
   "outputs": [
    {
     "name": "stdout",
     "output_type": "stream",
     "text": [
      "31 (31,)\n"
     ]
    },
    {
     "data": {
      "image/png": "[encoded data removed]",
      "text/plain": [
       "<Figure size 432x288 with 1 Axes>"
      ]
     },
     "metadata": {
      "needs_background": "light"
     },
     "output_type": "display_data"
    }
   ],
   "source": [
    "# running the deflection analysis \n",
    "F_data_inx, w_data_inx = dp.get_Fw_inx(49)\n",
    "F_data_inx, w_data_inx = dp.get_Fw()\n",
    "\n",
    "print(F_data.size, w_data.shape)\n",
    "# plotting, post-processing & saving the data\n",
    "plt.plot(w_data_inx, F_data_inx/1000, 'b-', )\n",
    "plt.xlabel(r'$w$ [mm]')\n",
    "plt.ylabel(r'$F$ [KN]')\n",
    "plt.show()\n",
    "\n",
    "# f, w = dp.get_Fw_inx(self, 10)"
   ]
  },
  {
   "cell_type": "code",
   "execution_count": null,
   "metadata": {
    "pycharm": {
     "name": "#%%\n"
    }
   },
   "outputs": [],
   "source": [
    "import numpy as np\n",
    "import matplotlib.pyplot as plt\n",
    "x = np.array([1, 2, 3, 4, 5, 6, 7, 8, 9, 10, 11, 12, 13, 14, 15, 16, 17,18],dtype=np.float)\n",
    "y = np.array([1, 2, 3, 4, 5, 6, 8, 10, 12, 14,14,14,14,14,14,14,20,26],dtype=np.float)\n",
    "plt.scatter(x,y)\n",
    "print(len(x), len(y))"
   ]
  },
  {
   "cell_type": "code",
   "execution_count": null,
   "metadata": {
    "pycharm": {
     "name": "#%%\n"
    }
   },
   "outputs": [],
   "source": [
    "m = np.diff(y)/np.diff(x)\n",
    "print (m)"
   ]
  },
  {
   "cell_type": "code",
   "execution_count": null,
   "metadata": {
    "pycharm": {
     "name": "#%%\n"
    }
   },
   "outputs": [],
   "source": [
    "a = np.diff(m)\n",
    "a"
   ]
  },
  {
   "cell_type": "code",
   "execution_count": null,
   "metadata": {
    "pycharm": {
     "name": "#%%\n"
    }
   },
   "outputs": [],
   "source": [
    "i = np.nonzero(a)\n",
    "i"
   ]
  },
  {
   "cell_type": "code",
   "execution_count": null,
   "metadata": {
    "pycharm": {
     "name": "#%%\n"
    }
   },
   "outputs": [],
   "source": [
    "i_ = i + np.ones_like(i)\n",
    "i_"
   ]
  },
  {
   "cell_type": "code",
   "execution_count": null,
   "metadata": {
    "pycharm": {
     "name": "#%%\n"
    }
   },
   "outputs": [],
   "source": [
    "print(y[i],x[i])"
   ]
  },
  {
   "cell_type": "code",
   "execution_count": null,
   "metadata": {
    "pycharm": {
     "name": "#%%\n"
    }
   },
   "outputs": [],
   "source": [
    "plt.plot(x,y,'r--',x[i_],y[i_],'bs')\n"
   ]
  },
  {
   "cell_type": "code",
   "execution_count": null,
   "metadata": {
    "pycharm": {
     "name": "#%%\n"
    }
   },
   "outputs": [],
   "source": [
    "dp.beam_design.get_M_x(100)"
   ]
  },
  {
   "cell_type": "code",
   "execution_count": null,
   "outputs": [],
   "source": [
    "%matplotlib widget\n",
    "m = np.diff(w_data)/np.diff(F_data/1000)\n",
    "a = np.diff(np.round(m))\n",
    "ans = np.argmax(m)\n",
    "w_data[ans+1]\n",
    "\n",
    "plt.plot(w_data, F_data/1000, 'r-', w_data[ans+1], F_data[ans+1]/1000, 'b.', w_data[ans], F_data[ans]/1000, 'b.')\n",
    "plt.xlabel(r'$w$ [mm]')\n",
    "plt.ylabel(r'$F$ [KN]')\n",
    "plt.show()\n",
    "print( w_data[ans+1])\n",
    "print (dp.beam_design.L/250)"
   ],
   "metadata": {
    "collapsed": false,
    "pycharm": {
     "name": "#%%\n"
    }
   }
  },
  {
   "cell_type": "code",
   "execution_count": null,
   "outputs": [],
   "source": [
    "%matplotlib widget\n",
    "f_ck = 72\n",
    "\n",
    "# Testing for Carbon\n",
    "# HB-SU-0\n",
    "E = 39500\n",
    "\n",
    "# from bending test from σ_c,Riss\n",
    "eps_cr = ((6.365 + 6.306 + 5.635 + 5.627 + 5.452 + 5.627)/6)/E\n",
    "\n",
    "mc = MKappa(reinforcement_type= ReinforcementType.CARBON,\n",
    "            low_kappa = 0,\n",
    "            high_kappa = 0.0007,\n",
    "            E_cc = E,\n",
    "            E_ct = E,\n",
    "            eps_cr = eps_cr, # 0.000163\n",
    "            eps_tu = 9.02/E, # beta_tu = 20\n",
    "            eps_cy = 72/E, # omega = 10.0\n",
    "            eps_cu = (72/E)*2, # lambda_cu = 20\n",
    "            mu = 0.0)\n",
    "\n",
    "mc.cross_section_shape.B = 45\n",
    "mc.cross_section_shape.H = 30\n",
    "mc.cross_section_layout.reinforcement = [Reinforcement(eps_sy=2712/240000, E=240000, z=8, A=3.62),\n",
    "                                         Reinforcement(eps_sy=2712/240000, E=240000, z=22, A=3.62),]\n",
    "\n",
    "dp = DeflectionProfile(mc=mc)\n",
    "\n",
    "dp.beam_design.beam_conf_name = BoundaryConfig.FOUR_PB\n",
    "dp.beam_design.beam_conf_name.first_load_distance = 320\n",
    "dp.beam_design.L = 840\n",
    "\n",
    "\n",
    "rho_range_carbon = np.linspace(0.0025, 0.025, 1)\n",
    "slenderness_range_carbon = np.linspace(20, 35, 1)\n",
    "b = mc.cross_section_shape.B\n",
    "b_range_carbon = np.linspace(b, b*2, 3)\n",
    "\n",
    "d = mc.cross_section_shape.H -  mc.cross_section_layout.reinforcement[0].z\n",
    "b = mc.cross_section_shape.B\n",
    "area_g = b * d\n",
    "\n",
    "rho_grid_carbon, sl_grid_carbon = np.meshgrid(rho_range_carbon, slenderness_range_carbon) \n",
    "\n",
    "F_u_grid_carbon = np.zeros_like(rho_grid_carbon)\n",
    "F_s_grid_carbon = np.zeros_like(rho_grid_carbon)\n",
    "\n",
    "\n",
    "for sl_idx in range(0,len(slenderness_range_carbon)):\n",
    "    for rho_idx in range(0,len(rho_range_carbon)):\n",
    "        for b in b_range_carbon:\n",
    "\n",
    "            ''' concrete specifications'''\n",
    "\n",
    "            #E_cm from Table 3.1 of EC2 1992.1.1.2004\n",
    "            E = 22*((f_ck+8)/10)**0.3\n",
    "\n",
    "            #e_c3 from Table 3.1 of EC2 1992.1.1.2004\n",
    "            eps_cy = sp.Piecewise(\n",
    "                                (1.75, f_ck < 50),\n",
    "                                ((1.75+0.55*((f_ck-50)/40)), f_ck >= 50)\n",
    "            )\n",
    "\n",
    "            #e_cu3 from Table 3.1 of EC2 1992.1.1.2004\n",
    "            eps_cu = sp.Piecewise(\n",
    "                                (3.5, f_ck < 50),\n",
    "                                ((2.6+35*((90-f_ck)/100)**4), f_ck >= 50)\n",
    "            )\n",
    "\n",
    "            #eps_cr = ?\n",
    "            eps_cr = 0.000163\n",
    "\n",
    "            #f_ctm from Table 3.1 of EC2 1992.1.1.2004\n",
    "            f_ctm = sp.Piecewise(\n",
    "                                (0.3*f_ck**(2/3), f_ck < 50),\n",
    "                                ((2.12*np.log((1+(f_ck+8)/10))), f_ck >= 50)\n",
    "            )\n",
    "\n",
    "            mc = MKappa(reinforcement_type= ReinforcementType.CARBON,\n",
    "                        low_kappa = 0,\n",
    "                        high_kappa = 0.0007,\n",
    "                        E_cc = E,\n",
    "                        E_ct = E,\n",
    "                        eps_cr = eps_cr,\n",
    "                        eps_tu = f_ctm/E, \n",
    "                        eps_cy = eps_cy,\n",
    "                        eps_cu = eps_cu,\n",
    "                        mu = 0.0)\n",
    "                               \n",
    "                \n",
    "            rho = rho_grid_carbon[rho_idx, sl_idx]\n",
    "            sl = sl_grid_carbon[rho_idx, sl_idx]\n",
    "            \n",
    "            # assigning the grid area (area_g) to the reinforcement area variable\n",
    "#             A_j_g = rho * area_g\n",
    "#             dp.mc.cross_section_layout.reinforcement[0].A = A_j_g\n",
    "\n",
    "            # assigning the grid length (L_g) to the beam length variable\n",
    "            L_g = sl * d\n",
    "            dp.beam_design.L = L_g\n",
    "\n",
    "            # running the deflection analysis \n",
    "            F_data, w_data = dp.get_Fw()\n",
    "#             print('parameter combination', rho, sl)\n",
    "            # finding the stress transition point\n",
    "            m = np.diff(w_data)/np.diff(F_data/1000)\n",
    "            a = np.diff(np.round(m))\n",
    "            ans = np.argmax(m)\n",
    "            \n",
    "            alpha = (w_data[ans+1]) / (dp.beam_design.L / 250)     #an index for the difference of existing limit and the L/250\n",
    "            beta = ((dp.beam_design.L / 250 - w_data[ans+1]) / w_data[ans+1]) + 1     #a coefficientto provide b for the next iteration\n",
    "            print('w_data[ans+1]',w_data[ans+1],'L / 250',dp.beam_design.L / 250,\\\n",
    "                  'b',b, 'b*beta',b*beta, 'alpha',alpha, 'beta',beta)\n",
    "            \n",
    "#             if alpha > 1:\n",
    "#                 mc.cross_section_shape.B = b * beta\n",
    "#                 # running the deflection analysis \n",
    "#                 F_data, w_data = dp.get_Fw()\n",
    "#                 print('parameter combination', rho, sl)\n",
    "#                 # finding the stress transition point\n",
    "#                 m = np.diff(w_data)/np.diff(F_data/1000)\n",
    "#                 a = np.diff(np.round(m))\n",
    "#                 ans = np.argmax(m)\n",
    "\n",
    "#                 alpha = (w_data[ans+1]) / (dp.beam_design.L / 250)     #an index for the difference of existing limit and the L/250\n",
    "#                 beta = (dp.beam_design.L / 250 - w_data[ans+1]) / w_data[ans+1] + 1     #a coefficientto provide b for the next iteration\n",
    "            \n",
    "#                 if alpha <= 0.5:\n",
    "#                     print('parameter combination', rho, sl, b, alpha)\n",
    "#                     break\n",
    "                    \n",
    "                    \n",
    "\n",
    "#                     print(alpha, beta)\n",
    "#                     # plotting, post-processing & saving the data\n",
    "#                     plt.plot(w_data, F_data/1000, label = \"rho={}%-sl={} \".format(rho * 100, sl))\n",
    "#                     plt.xlabel(r'$w$ [mm]')\n",
    "#                     plt.ylabel(r'$F$ [KN]')\n",
    "#                     plt.show()\n",
    "\n",
    "#                     w_s = dp.beam_design.L / 250\n",
    "#                     w_max = max(w_data)\n",
    "#                     w_u = max(w_data) - w_s\n",
    "#                     F_s = np.interp(w_s, w_data, F_data)\n",
    "#                     F_max = max(F_data)\n",
    "#                     F_u = max(F_data) - F_s\n",
    "\n",
    "#                     F_u_grid_carbon[rho_idx,sl_idx] = F_u\n",
    "#                     F_s_grid_carbon[rho_idx,sl_idx] = F_s"
   ],
   "metadata": {
    "collapsed": false,
    "pycharm": {
     "name": "#%%\n"
    }
   }
  },
  {
   "cell_type": "code",
   "execution_count": null,
   "metadata": {
    "pycharm": {
     "name": "#%%\n"
    }
   },
   "outputs": [],
   "source": [
    "%matplotlib widget\n",
    "\n",
    "rho_range_carbon = np.linspace(0.0025, 0.025, 1)\n",
    "slenderness_range_carbon = np.linspace(20, 35, 1)\n",
    "fck_range_carbon = np.linspace(70, 50, 1)\n",
    "\n",
    "d = mc.cross_section_shape.H -  mc.cross_section_layout.reinforcement[0].z\n",
    "b = mc.cross_section_shape.B\n",
    "area_g = b * d\n",
    "\n",
    "rho_grid_carbon, sl_grid_carbon, fck_grid_carbon = np.meshgrid(rho_range_carbon, slenderness_range_carbon, fck_range_carbon) \n",
    "# fck_grid_carbon, fck_grid_carbon = np.meshgrid(fck_range_carbon, fck_range_carbon) \n",
    "F_u_grid_carbon = np.zeros_like(rho_grid_carbon)\n",
    "F_s_grid_carbon = np.zeros_like(rho_grid_carbon)\n",
    "\n",
    "\n",
    "for fc_idx in range(0,len(fck_range_carbon)):\n",
    "    for sl_idx in range(0,len(slenderness_range_carbon)):\n",
    "        for rho_idx in range(0,len(rho_range_carbon)):\n",
    "\n",
    "            ''' concrete specifications'''\n",
    "\n",
    "            #E_cm from Table 3.1 of EC2 1992.1.1.2004\n",
    "            E = 22*((f_ck+8)/10)**0.3\n",
    "\n",
    "            #e_c3 from Table 3.1 of EC2 1992.1.1.2004\n",
    "            eps_cy = sp.Piecewise(\n",
    "                                (1.75, f_ck < 50),\n",
    "                                ((1.75+0.55*((f_ck-50)/40)), f_ck >= 50)\n",
    "            )\n",
    "\n",
    "            #e_cu3 from Table 3.1 of EC2 1992.1.1.2004\n",
    "            eps_cu = sp.Piecewise(\n",
    "                                (3.5, f_ck < 50),\n",
    "                                ((2.6+35*((90-f_ck)/100)**4), f_ck >= 50)\n",
    "            )\n",
    "\n",
    "            #eps_cr = ?\n",
    "            eps_cr = 0.000163\n",
    "\n",
    "            #f_ctm from Table 3.1 of EC2 1992.1.1.2004\n",
    "            f_ctm = sp.Piecewise(\n",
    "                                (0.3*f_ck**(2/3), f_ck < 50),\n",
    "                                ((2.12*np.log((1+(f_ck+8)/10))), f_ck >= 50)\n",
    "            )\n",
    "\n",
    "            mc = MKappa(reinforcement_type= ReinforcementType.CARBON,\n",
    "                        low_kappa = 0,\n",
    "                        high_kappa = 0.0007,\n",
    "                        E_cc = E,\n",
    "                        E_ct = E,\n",
    "                        eps_cr = eps_cr,\n",
    "                        eps_tu = f_ctm/E, \n",
    "                        eps_cy = eps_cy,\n",
    "                        eps_cu = eps_cu,\n",
    "                        mu = 0.0)\n",
    "\n",
    "\n",
    "            rho = rho_grid_carbon[rho_idx, sl_idx, fc_idx]\n",
    "            sl = sl_grid_carbon[rho_idx, sl_idx, fc_idx]\n",
    "            f_ck = fck_grid_carbon[rho_idx, sl_idx, fc_idx]\n",
    "            print('parameter combination', rho, sl, f_ck)\n",
    "\n",
    "            # assigning the grid area (area_g) to the reinforcement area variable\n",
    "            A_j_g = rho * area_g\n",
    "            dp.mc.cross_section_layout.reinforcement[0].A = A_j_g\n",
    "\n",
    "            # assigning the grid length (L_g) to the beam length variable\n",
    "            L_g = sl * d\n",
    "            dp.beam_design.L = L_g\n",
    "\n",
    "            # running the deflection analysis \n",
    "            F_data, w_data = dp.get_Fw()\n",
    "            print(F_data.size, w_data.shape)\n",
    "            # plotting, post-processing & saving the data\n",
    "            plt.plot(w_data, F_data/1000, label = \"rho={}%-sl={} \".format(rho * 100, sl))\n",
    "            plt.xlabel(r'$w$ [mm]')\n",
    "            plt.ylabel(r'$F$ [KN]')\n",
    "            plt.show()\n",
    "\n",
    "            w_s = dp.beam_design.L / 250\n",
    "            w_max = max(w_data)\n",
    "            w_u = max(w_data) - w_s\n",
    "            F_s = np.interp(w_s, w_data, F_data)\n",
    "            F_max = max(F_data)\n",
    "            F_u = max(F_data) - F_s\n",
    "\n",
    "            F_u_grid_carbon[rho_idx,sl_idx] = F_u\n",
    "            F_s_grid_carbon[rho_idx,sl_idx] = F_s"
   ]
  },
  {
   "cell_type": "code",
   "execution_count": 122,
   "metadata": {
    "scrolled": false
   },
   "outputs": [
    {
     "name": "stdout",
     "output_type": "stream",
     "text": [
      "w_data[ans+1] 1.4980221456351297 L / 250 1.76 b 45.0 b*beta 52.869712394285656 alpha 0.8511489463835964 beta 1.1748824976507923\n",
      "w_data[ans+1] 1.4980221456351297 L / 250 1.76 b 67.5 b*beta 79.30456859142848 alpha 0.8511489463835964 beta 1.1748824976507923\n",
      "w_data[ans+1] 1.4980221456351297 L / 250 1.76 b 90.0 b*beta 105.73942478857131 alpha 0.8511489463835964 beta 1.1748824976507923\n"
     ]
    }
   ],
   "source": [
    "%matplotlib widget\n",
    "f_ck = 72\n",
    "\n",
    "# Testing for Carbon\n",
    "# HB-SU-0\n",
    "E = 39500\n",
    "\n",
    "# from bending test from σ_c,Riss\n",
    "eps_cr = ((6.365 + 6.306 + 5.635 + 5.627 + 5.452 + 5.627)/6)/E\n",
    "\n",
    "mc = MKappa(reinforcement_type= ReinforcementType.CARBON,\n",
    "            low_kappa = 0,\n",
    "            high_kappa = 0.0007,\n",
    "            E_cc = E,\n",
    "            E_ct = E,\n",
    "            eps_cr = eps_cr, # 0.000163\n",
    "            eps_tu = 9.02/E, # beta_tu = 20\n",
    "            eps_cy = 72/E, # omega = 10.0\n",
    "            eps_cu = (72/E)*2, # lambda_cu = 20\n",
    "            mu = 0.0)\n",
    "\n",
    "mc.cross_section_shape.B = 45\n",
    "mc.cross_section_shape.H = 30\n",
    "mc.cross_section_layout.reinforcement = [Reinforcement(eps_sy=2712/240000, E=240000, z=8, A=3.62),\n",
    "                                         Reinforcement(eps_sy=2712/240000, E=240000, z=22, A=3.62),]\n",
    "\n",
    "dp = DeflectionProfile(mc=mc)\n",
    "\n",
    "dp.beam_design.beam_conf_name = BoundaryConfig.FOUR_PB\n",
    "dp.beam_design.beam_conf_name.first_load_distance = 320\n",
    "dp.beam_design.L = 840\n",
    "\n",
    "\n",
    "rho_range_carbon = np.linspace(0.0025, 0.025, 1)\n",
    "slenderness_range_carbon = np.linspace(20, 35, 1)\n",
    "b = mc.cross_section_shape.B\n",
    "b_range_carbon = np.linspace(b, b*2, 3)\n",
    "\n",
    "d = mc.cross_section_shape.H -  mc.cross_section_layout.reinforcement[0].z\n",
    "b = mc.cross_section_shape.B\n",
    "area_g = b * d\n",
    "\n",
    "rho_grid_carbon, sl_grid_carbon = np.meshgrid(rho_range_carbon, slenderness_range_carbon) \n",
    "\n",
    "F_u_grid_carbon = np.zeros_like(rho_grid_carbon)\n",
    "F_s_grid_carbon = np.zeros_like(rho_grid_carbon)\n",
    "\n",
    "\n",
    "for sl_idx in range(0,len(slenderness_range_carbon)):\n",
    "    for rho_idx in range(0,len(rho_range_carbon)):\n",
    "        for b in b_range_carbon:\n",
    "\n",
    "            ''' concrete specifications'''\n",
    "\n",
    "            #E_cm from Table 3.1 of EC2 1992.1.1.2004\n",
    "            E = 22*((f_ck+8)/10)**0.3\n",
    "\n",
    "            #e_c3 from Table 3.1 of EC2 1992.1.1.2004\n",
    "            eps_cy = sp.Piecewise(\n",
    "                                (1.75, f_ck < 50),\n",
    "                                ((1.75+0.55*((f_ck-50)/40)), f_ck >= 50)\n",
    "            )\n",
    "\n",
    "            #e_cu3 from Table 3.1 of EC2 1992.1.1.2004\n",
    "            eps_cu = sp.Piecewise(\n",
    "                                (3.5, f_ck < 50),\n",
    "                                ((2.6+35*((90-f_ck)/100)**4), f_ck >= 50)\n",
    "            )\n",
    "\n",
    "            #eps_cr = ?\n",
    "            eps_cr = 0.000163\n",
    "\n",
    "            #f_ctm from Table 3.1 of EC2 1992.1.1.2004\n",
    "            f_ctm = sp.Piecewise(\n",
    "                                (0.3*f_ck**(2/3), f_ck < 50),\n",
    "                                ((2.12*np.log((1+(f_ck+8)/10))), f_ck >= 50)\n",
    "            )\n",
    "\n",
    "            mc = MKappa(reinforcement_type= ReinforcementType.CARBON,\n",
    "                        low_kappa = 0,\n",
    "                        high_kappa = 0.0007,\n",
    "                        E_cc = E,\n",
    "                        E_ct = E,\n",
    "                        eps_cr = eps_cr,\n",
    "                        eps_tu = f_ctm/E, \n",
    "                        eps_cy = eps_cy,\n",
    "                        eps_cu = eps_cu,\n",
    "                        mu = 0.0)\n",
    "                               \n",
    "                \n",
    "            rho = rho_grid_carbon[rho_idx, sl_idx]\n",
    "            sl = sl_grid_carbon[rho_idx, sl_idx]\n",
    "            \n",
    "            # assigning the grid area (area_g) to the reinforcement area variable\n",
    "#             A_j_g = rho * area_g\n",
    "#             dp.mc.cross_section_layout.reinforcement[0].A = A_j_g\n",
    "\n",
    "            # assigning the grid length (L_g) to the beam length variable\n",
    "            L_g = sl * d\n",
    "            dp.beam_design.L = L_g\n",
    "\n",
    "            # running the deflection analysis \n",
    "            F_data, w_data = dp.get_Fw()\n",
    "#             print('parameter combination', rho, sl)\n",
    "            # finding the stress transition point\n",
    "            m = np.diff(w_data)/np.diff(F_data/1000)\n",
    "            a = np.diff(np.round(m))\n",
    "            ans = np.argmax(m)\n",
    "            \n",
    "            alpha = (w_data[ans+1]) / (dp.beam_design.L / 250)     #an index for the difference of existing limit and the L/250\n",
    "            beta = ((dp.beam_design.L / 250 - w_data[ans+1]) / w_data[ans+1]) + 1     #a coefficientto provide b for the next iteration\n",
    "            print('w_data[ans+1]',w_data[ans+1],'L / 250',dp.beam_design.L / 250,\\\n",
    "                  'b',b, 'b*beta',b*beta, 'alpha',alpha, 'beta',beta)\n",
    "            \n",
    "#             if alpha > 1:\n",
    "#                 mc.cross_section_shape.B = b * beta\n",
    "#                 # running the deflection analysis \n",
    "#                 F_data, w_data = dp.get_Fw()\n",
    "#                 print('parameter combination', rho, sl)\n",
    "#                 # finding the stress transition point\n",
    "#                 m = np.diff(w_data)/np.diff(F_data/1000)\n",
    "#                 a = np.diff(np.round(m))\n",
    "#                 ans = np.argmax(m)\n",
    "\n",
    "#                 alpha = (w_data[ans+1]) / (dp.beam_design.L / 250)     #an index for the difference of existing limit and the L/250\n",
    "#                 beta = (dp.beam_design.L / 250 - w_data[ans+1]) / w_data[ans+1] + 1     #a coefficientto provide b for the next iteration\n",
    "            \n",
    "#                 if alpha <= 0.5:\n",
    "#                     print('parameter combination', rho, sl, b, alpha)\n",
    "#                     break\n",
    "                    \n",
    "                    \n",
    "\n",
    "#                     print(alpha, beta)\n",
    "#                     # plotting, post-processing & saving the data\n",
    "#                     plt.plot(w_data, F_data/1000, label = \"rho={}%-sl={} \".format(rho * 100, sl))\n",
    "#                     plt.xlabel(r'$w$ [mm]')\n",
    "#                     plt.ylabel(r'$F$ [KN]')\n",
    "#                     plt.show()\n",
    "\n",
    "#                     w_s = dp.beam_design.L / 250\n",
    "#                     w_max = max(w_data)\n",
    "#                     w_u = max(w_data) - w_s\n",
    "#                     F_s = np.interp(w_s, w_data, F_data)\n",
    "#                     F_max = max(F_data)\n",
    "#                     F_u = max(F_data) - F_s\n",
    "\n",
    "#                     F_u_grid_carbon[rho_idx,sl_idx] = F_u\n",
    "#                     F_s_grid_carbon[rho_idx,sl_idx] = F_s"
   ]
  },
  {
   "cell_type": "code",
   "execution_count": null,
   "metadata": {},
   "outputs": [],
   "source": [
    "%matplotlib widget\n",
    "\n",
    "rho_range_carbon = np.linspace(0.0025, 0.025, 1)\n",
    "slenderness_range_carbon = np.linspace(20, 35, 1)\n",
    "fck_range_carbon = np.linspace(70, 50, 1)\n",
    "\n",
    "d = mc.cross_section_shape.H -  mc.cross_section_layout.reinforcement[0].z\n",
    "b = mc.cross_section_shape.B\n",
    "area_g = b * d\n",
    "\n",
    "rho_grid_carbon, sl_grid_carbon, fck_grid_carbon = np.meshgrid(rho_range_carbon, slenderness_range_carbon, fck_range_carbon) \n",
    "# fck_grid_carbon, fck_grid_carbon = np.meshgrid(fck_range_carbon, fck_range_carbon) \n",
    "F_u_grid_carbon = np.zeros_like(rho_grid_carbon)\n",
    "F_s_grid_carbon = np.zeros_like(rho_grid_carbon)\n",
    "\n",
    "\n",
    "for fc_idx in range(0,len(fck_range_carbon)):\n",
    "    for sl_idx in range(0,len(slenderness_range_carbon)):\n",
    "        for rho_idx in range(0,len(rho_range_carbon)):\n",
    "\n",
    "            ''' concrete specifications'''\n",
    "\n",
    "            #E_cm from Table 3.1 of EC2 1992.1.1.2004\n",
    "            E = 22*((f_ck+8)/10)**0.3\n",
    "\n",
    "            #e_c3 from Table 3.1 of EC2 1992.1.1.2004\n",
    "            eps_cy = sp.Piecewise(\n",
    "                                (1.75, f_ck < 50),\n",
    "                                ((1.75+0.55*((f_ck-50)/40)), f_ck >= 50)\n",
    "            )\n",
    "\n",
    "            #e_cu3 from Table 3.1 of EC2 1992.1.1.2004\n",
    "            eps_cu = sp.Piecewise(\n",
    "                                (3.5, f_ck < 50),\n",
    "                                ((2.6+35*((90-f_ck)/100)**4), f_ck >= 50)\n",
    "            )\n",
    "\n",
    "            #eps_cr = ?\n",
    "            eps_cr = 0.000163\n",
    "\n",
    "            #f_ctm from Table 3.1 of EC2 1992.1.1.2004\n",
    "            f_ctm = sp.Piecewise(\n",
    "                                (0.3*f_ck**(2/3), f_ck < 50),\n",
    "                                ((2.12*np.log((1+(f_ck+8)/10))), f_ck >= 50)\n",
    "            )\n",
    "\n",
    "            mc = MKappa(reinforcement_type= ReinforcementType.CARBON,\n",
    "                        low_kappa = 0,\n",
    "                        high_kappa = 0.0007,\n",
    "                        E_cc = E,\n",
    "                        E_ct = E,\n",
    "                        eps_cr = eps_cr,\n",
    "                        eps_tu = f_ctm/E, \n",
    "                        eps_cy = eps_cy,\n",
    "                        eps_cu = eps_cu,\n",
    "                        mu = 0.0)\n",
    "\n",
    "\n",
    "            rho = rho_grid_carbon[rho_idx, sl_idx, fc_idx]\n",
    "            sl = sl_grid_carbon[rho_idx, sl_idx, fc_idx]\n",
    "            f_ck = fck_grid_carbon[rho_idx, sl_idx, fc_idx]\n",
    "            print('parameter combination', rho, sl, f_ck)\n",
    "\n",
    "            # assigning the grid area (area_g) to the reinforcement area variable\n",
    "            A_j_g = rho * area_g\n",
    "            dp.mc.cross_section_layout.reinforcement[0].A = A_j_g\n",
    "\n",
    "            # assigning the grid length (L_g) to the beam length variable\n",
    "            L_g = sl * d\n",
    "            dp.beam_design.L = L_g\n",
    "\n",
    "            # running the deflection analysis \n",
    "            F_data, w_data = dp.get_Fw()\n",
    "            print(F_data.size, w_data.shape)\n",
    "            # plotting, post-processing & saving the data\n",
    "            plt.plot(w_data, F_data/1000, label = \"rho={}%-sl={} \".format(rho * 100, sl))\n",
    "            plt.xlabel(r'$w$ [mm]')\n",
    "            plt.ylabel(r'$F$ [KN]')\n",
    "            plt.show()\n",
    "\n",
    "            w_s = dp.beam_design.L / 250\n",
    "            w_max = max(w_data)\n",
    "            w_u = max(w_data) - w_s\n",
    "            F_s = np.interp(w_s, w_data, F_data)\n",
    "            F_max = max(F_data)\n",
    "            F_u = max(F_data) - F_s\n",
    "\n",
    "            F_u_grid_carbon[rho_idx,sl_idx] = F_u\n",
    "            F_s_grid_carbon[rho_idx,sl_idx] = F_s"
   ]
  },
  {
   "cell_type": "code",
   "execution_count": null,
   "metadata": {},
   "outputs": [],
   "source": [
    "m = np.diff(y)/np.diff(x)\n",
    "print (m)"
   ]
  },
  {
   "cell_type": "code",
   "execution_count": null,
   "metadata": {},
   "outputs": [],
   "source": [
    "a = np.diff(m)\n",
    "a"
   ]
  },
  {
   "cell_type": "code",
   "execution_count": null,
   "metadata": {},
   "outputs": [],
   "source": [
    "i = np.nonzero(a)\n",
    "i"
   ]
  },
  {
   "cell_type": "code",
   "execution_count": null,
   "metadata": {},
   "outputs": [],
   "source": [
    "i_ = i + np.ones_like(i)\n",
    "i_"
   ]
  },
  {
   "cell_type": "code",
   "execution_count": null,
   "metadata": {},
   "outputs": [],
   "source": [
    "print(y[i],x[i])"
   ]
  },
  {
   "cell_type": "code",
   "execution_count": null,
   "metadata": {},
   "outputs": [],
   "source": [
    "plt.plot(x,y,'r--',x[i_],y[i_],'bs')\n"
   ]
  },
  {
   "cell_type": "code",
   "execution_count": null,
   "metadata": {},
   "outputs": [],
   "source": [
    "%matplotlib inline\n",
    "# running the deflection analysis \n",
    "mc.cross_section_shape.B = 10\n",
    "\n",
    "F_data, w_data = dp.get_Fw()\n",
    "# print(F_data.size, w_data.shape)\n",
    "# plotting, post-processing & saving the data\n",
    "%matplotlib widget\n",
    "m = np.diff(w_data)/np.diff(F_data/1000)\n",
    "a = np.diff(np.round(m))\n",
    "ans = np.argmax(m)\n",
    "w_data[ans+1]\n",
    "\n",
    "plt.plot(w_data, F_data/1000, 'r-', w_data[ans+1], F_data[ans+1]/1000, 'b.', w_data[ans], F_data[ans]/1000, 'b.')\n",
    "plt.plot([dp.beam_design.L/250,dp.beam_design.L/250], [0,max(F_data/1000)])\n",
    "plt.xlabel(r'$w$ [mm]')\n",
    "plt.ylabel(r'$F$ [KN]')\n",
    "plt.show()\n",
    "if w_data[ans+1]>dp.beam_design.L/250:\n",
    "    print('not passed')\n",
    "else:\n",
    "    print('passed')"
   ]
  },
  {
   "cell_type": "code",
   "execution_count": null,
   "metadata": {},
   "outputs": [],
   "source": [
    "%matplotlib widget\n",
    "m = np.diff(w_data)/np.diff(F_data/1000)\n",
    "a = np.diff(np.round(m))\n",
    "ans = np.argmax(m)\n",
    "w_data[ans+1]\n",
    "\n",
    "plt.plot(w_data, F_data/1000, 'r-', w_data[ans+1], F_data[ans+1]/1000, 'b.', w_data[ans], F_data[ans]/1000, 'b.')\n",
    "plt.xlabel(r'$w$ [mm]')\n",
    "plt.ylabel(r'$F$ [KN]')\n",
    "plt.show()\n",
    "print( w_data[ans+1])\n",
    "print (dp.beam_design.L/250)"
   ]
  },
  {
   "cell_type": "code",
   "execution_count": null,
   "metadata": {
    "pycharm": {
     "is_executing": true,
     "name": "#%%\n"
    },
    "scrolled": false
   },
   "outputs": [],
   "source": [
    "%matplotlib widget\n",
    "\n",
    "rho_range_carbon = np.linspace(0.0025, 0.025, 1)\n",
    "slenderness_range_carbon = np.linspace(20, 35, 1)\n",
    "fck_range_carbon = np.linspace(70, 50, 1)\n",
    "\n",
    "d = mc.cross_section_shape.H -  mc.cross_section_layout.reinforcement[0].z\n",
    "b = mc.cross_section_shape.B\n",
    "area_g = b * d\n",
    "\n",
    "rho_grid_carbon, sl_grid_carbon, fck_grid_carbon = np.meshgrid(rho_range_carbon, slenderness_range_carbon, fck_range_carbon) \n",
    "# fck_grid_carbon, fck_grid_carbon = np.meshgrid(fck_range_carbon, fck_range_carbon) \n",
    "F_u_grid_carbon = np.zeros_like(rho_grid_carbon)\n",
    "F_s_grid_carbon = np.zeros_like(rho_grid_carbon)\n",
    "\n",
    "\n",
    "for fc_idx in range(0,len(fck_range_carbon)):\n",
    "    for sl_idx in range(0,len(slenderness_range_carbon)):\n",
    "        for rho_idx in range(0,len(rho_range_carbon)):\n",
    "\n",
    "            ''' concrete specifications'''\n",
    "\n",
    "            #E_cm from Table 3.1 of EC2 1992.1.1.2004\n",
    "            E = 22*((f_ck+8)/10)**0.3\n",
    "\n",
    "            #e_c3 from Table 3.1 of EC2 1992.1.1.2004\n",
    "            eps_cy = sp.Piecewise(\n",
    "                                (1.75, f_ck < 50),\n",
    "                                ((1.75+0.55*((f_ck-50)/40)), f_ck >= 50)\n",
    "            )\n",
    "\n",
    "            #e_cu3 from Table 3.1 of EC2 1992.1.1.2004\n",
    "            eps_cu = sp.Piecewise(\n",
    "                                (3.5, f_ck < 50),\n",
    "                                ((2.6+35*((90-f_ck)/100)**4), f_ck >= 50)\n",
    "            )\n",
    "\n",
    "            #eps_cr = ?\n",
    "            eps_cr = 0.000163\n",
    "\n",
    "            #f_ctm from Table 3.1 of EC2 1992.1.1.2004\n",
    "            f_ctm = sp.Piecewise(\n",
    "                                (0.3*f_ck**(2/3), f_ck < 50),\n",
    "                                ((2.12*np.log((1+(f_ck+8)/10))), f_ck >= 50)\n",
    "            )\n",
    "\n",
    "            mc = MKappa(reinforcement_type= ReinforcementType.CARBON,\n",
    "                        low_kappa = 0,\n",
    "                        high_kappa = 0.0007,\n",
    "                        E_cc = E,\n",
    "                        E_ct = E,\n",
    "                        eps_cr = eps_cr,\n",
    "                        eps_tu = f_ctm/E, \n",
    "                        eps_cy = eps_cy,\n",
    "                        eps_cu = eps_cu,\n",
    "                        mu = 0.0)\n",
    "\n",
    "\n",
    "            rho = rho_grid_carbon[rho_idx, sl_idx, fc_idx]\n",
    "            sl = sl_grid_carbon[rho_idx, sl_idx, fc_idx]\n",
    "            f_ck = fck_grid_carbon[rho_idx, sl_idx, fc_idx]\n",
    "            print('parameter combination', rho, sl, f_ck)\n",
    "\n",
    "            # assigning the grid area (area_g) to the reinforcement area variable\n",
    "            A_j_g = rho * area_g\n",
    "            dp.mc.cross_section_layout.reinforcement[0].A = A_j_g\n",
    "\n",
    "            # assigning the grid length (L_g) to the beam length variable\n",
    "            L_g = sl * d\n",
    "            dp.beam_design.L = L_g\n",
    "\n",
    "            # running the deflection analysis \n",
    "            F_data, w_data = dp.get_Fw()\n",
    "            print(F_data.size, w_data.shape)\n",
    "            # plotting, post-processing & saving the data\n",
    "            plt.plot(w_data, F_data/1000, label = \"rho={}%-sl={} \".format(rho * 100, sl))\n",
    "            plt.xlabel(r'$w$ [mm]')\n",
    "            plt.ylabel(r'$F$ [KN]')\n",
    "            plt.show()\n",
    "\n",
    "            w_s = dp.beam_design.L / 250\n",
    "            w_max = max(w_data)\n",
    "            w_u = max(w_data) - w_s\n",
    "            F_s = np.interp(w_s, w_data, F_data)\n",
    "            F_max = max(F_data)\n",
    "            F_u = max(F_data) - F_s\n",
    "\n",
    "            F_u_grid_carbon[rho_idx,sl_idx] = F_u\n",
    "            F_s_grid_carbon[rho_idx,sl_idx] = F_s"
   ]
  },
  {
   "cell_type": "code",
   "execution_count": null,
   "metadata": {
    "pycharm": {
     "is_executing": true,
     "name": "#%%\n"
    },
    "scrolled": false
   },
   "outputs": [],
   "source": [
    "%matplotlib widget\n",
    "# Testing for Carbon\n",
    "# HB-SU-0\n",
    "E = 39500\n",
    "\n",
    "# from bending test from σ_c,Riss\n",
    "eps_cr = ((6.365 + 6.306 + 5.635 + 5.627 + 5.452 + 5.627)/6)/E\n",
    "\n",
    "mc = MKappa(reinforcement_type= ReinforcementType.CARBON,\n",
    "            low_kappa = 0,\n",
    "            high_kappa = 0.0007,\n",
    "            E_cc = E,\n",
    "            E_ct = E,\n",
    "            eps_cr = eps_cr, # 0.000163\n",
    "            eps_tu = 9.02/E, # beta_tu = 20\n",
    "            eps_cy = 72/E, # omega = 10.0\n",
    "            eps_cu = (72/E)*2, # lambda_cu = 20\n",
    "            mu = 0.0)\n",
    "\n",
    "mc.cross_section_shape.B = 45\n",
    "mc.cross_section_shape.H = 30\n",
    "mc.cross_section_layout.reinforcement = [Reinforcement(eps_sy=2712/240000, E=240000, z=8, A=3.62),\n",
    "                                         Reinforcement(eps_sy=2712/240000, E=240000, z=22, A=3.62),]\n",
    "\n",
    "dp = DeflectionProfile(mc=mc)\n",
    "\n",
    "dp.beam_design.beam_conf_name = BoundaryConfig.FOUR_PB\n",
    "dp.beam_design.beam_conf_name.first_load_distance = 320\n",
    "dp.beam_design.L = 840\n",
    "\n",
    "rho_range_carbon = np.linspace(0.00, 0.025, 5)\n",
    "slenderness_range_carbon = np.linspace(5, 70, 5)\n",
    "\n",
    "d = mc.cross_section_shape.H -  mc.cross_section_layout.reinforcement[0].z\n",
    "b = mc.cross_section_shape.B\n",
    "area_g = b * d\n",
    "\n",
    "rho_grid_carbon, sl_grid_carbon = np.meshgrid(rho_range_carbon, slenderness_range_carbon) \n",
    "F_u_grid_carbon = np.zeros_like(rho_grid_carbon)\n",
    "F_s_grid_carbon = np.zeros_like(rho_grid_carbon)\n",
    "\n",
    "w_u_grid_carbon = np.zeros_like(rho_grid_carbon)\n",
    "w_s_grid_carbon = np.zeros_like(rho_grid_carbon)\n",
    "\n",
    "\n",
    "for sl_idx in range(0,len(slenderness_range_carbon)):\n",
    "    for rho_idx in range(0,len(rho_range_carbon)):\n",
    "\n",
    "        ''' concrete specifications'''\n",
    "\n",
    "        #E_cm from Table 3.1 of EC2 1992.1.1.2004\n",
    "        E = 22*((f_ck+8)/10)**0.3\n",
    "\n",
    "        #e_c3 from Table 3.1 of EC2 1992.1.1.2004\n",
    "        eps_cy = sp.Piecewise(\n",
    "                            (1.75, f_ck < 50),\n",
    "                            ((1.75+0.55*((f_ck-50)/40)), f_ck >= 50)\n",
    "        )\n",
    "\n",
    "        #e_cu3 from Table 3.1 of EC2 1992.1.1.2004\n",
    "        eps_cu = sp.Piecewise(\n",
    "                            (3.5, f_ck < 50),\n",
    "                            ((2.6+35*((90-f_ck)/100)**4), f_ck >= 50)\n",
    "        )\n",
    "\n",
    "        #eps_cr = ?\n",
    "        eps_cr = 0.000163\n",
    "\n",
    "        #f_ctm from Table 3.1 of EC2 1992.1.1.2004\n",
    "        f_ctm = sp.Piecewise(\n",
    "                            (0.3*f_ck**(2/3), f_ck < 50),\n",
    "                            ((2.12*np.log((1+(f_ck+8)/10))), f_ck >= 50)\n",
    "        )\n",
    "\n",
    "        mc = MKappa(reinforcement_type= ReinforcementType.CARBON,\n",
    "                    low_kappa = 0,\n",
    "                    high_kappa = 0.0007,\n",
    "                    E_cc = E,\n",
    "                    E_ct = E,\n",
    "                    eps_cr = eps_cr,\n",
    "                    eps_tu = f_ctm/E, \n",
    "                    eps_cy = eps_cy,\n",
    "                    eps_cu = eps_cu,\n",
    "                    mu = 0.0)\n",
    "\n",
    "\n",
    "        rho = rho_grid_carbon[rho_idx, sl_idx]\n",
    "        sl = sl_grid_carbon[rho_idx, sl_idx]\n",
    "\n",
    "        print('parameter combination', rho, sl)\n",
    "\n",
    "        # assigning the grid area (area_g) to the reinforcement area variable\n",
    "        A_j_g = rho * area_g\n",
    "        dp.mc.cross_section_layout.reinforcement[0].A = A_j_g\n",
    "\n",
    "        # assigning the grid length (L_g) to the beam length variable\n",
    "        L_g = sl * d\n",
    "        dp.beam_design.L = L_g\n",
    "\n",
    "        # running the deflection analysis \n",
    "        F_data, w_data = dp.get_Fw()\n",
    "        print(F_data.size, w_data.shape)\n",
    "        # plotting, post-processing & saving the data\n",
    "        plt.plot(w_data, F_data/1000, label = \"rho={}%-sl={} \".format(rho * 100, sl))\n",
    "        plt.xlabel(r'$w$ [mm]')\n",
    "        plt.ylabel(r'$F$ [KN]')\n",
    "        plt.show()\n",
    "\n",
    "        w_s = dp.beam_design.L / 250\n",
    "        w_max = max(w_data)\n",
    "        w_u = max(w_data) - w_s\n",
    "        F_s = np.interp(w_s, w_data, F_data)\n",
    "        F_max = max(F_data)\n",
    "        F_u = max(F_data) - F_s\n",
    "\n",
    "        F_u_grid_carbon[rho_idx,sl_idx] = F_u\n",
    "        F_s_grid_carbon[rho_idx,sl_idx] = F_s\n",
    "        \n",
    "        w_u_grid_carbon[rho_idx,sl_idx] = w_u\n",
    "        w_s_grid_carbon[rho_idx,sl_idx] = w_s"
   ]
  },
  {
   "cell_type": "code",
   "execution_count": null,
   "metadata": {
    "scrolled": false
   },
   "outputs": [],
   "source": [
    "_, ax = plt.subplots(1,1)\n",
    "\n",
    "z = (F_s_grid_carbon + F_u_grid_carbon) / F_s_grid_carbon - 6.3\n",
    "\n",
    "CS = ax.contour(rho_grid_carbon, sl_grid_carbon, z) #, levels=[0])\n",
    "ax.clabel(CS, inline=1, fontsize=10)\n",
    "ax.set_ylabel('l/d')\n",
    "ax.set_xlabel(r'$\\rho$ %')\n",
    "ax.set_ylim(5, 80)\n",
    "ax.set_xlim(0.000, 0.025)\n",
    "\n",
    "# Draw C72 curve\n",
    "rho_range = np.arange(0, 0.05, 0.0001)\n",
    "f_ck = 72\n",
    "slenderness = []\n",
    "for rho in rho_range:\n",
    "    slenderness.append(get_slenderness(rho, 0,  1, f_ck))\n",
    "ax.plot(rho_range, slenderness)"
   ]
  },
  {
   "cell_type": "code",
   "execution_count": null,
   "metadata": {
    "pycharm": {
     "is_executing": true,
     "name": "#%%\n"
    },
    "scrolled": false
   },
   "outputs": [],
   "source": [
    "%matplotlib widget\n",
    "# Testing for Carbon\n",
    "# HB-SU-0\n",
    "E = 39500\n",
    "\n",
    "# from bending test from σ_c,Riss\n",
    "eps_cr = ((6.365 + 6.306 + 5.635 + 5.627 + 5.452 + 5.627)/6)/E\n",
    "\n",
    "mc = MKappa(reinforcement_type= ReinforcementType.CARBON,\n",
    "            low_kappa = 0,\n",
    "            high_kappa = 0.0007,\n",
    "            E_cc = E,\n",
    "            E_ct = E,\n",
    "            eps_cr = eps_cr, # 0.000163\n",
    "            eps_tu = 9.02/E, # beta_tu = 20\n",
    "            eps_cy = 72/E, # omega = 10.0\n",
    "            eps_cu = (72/E)*2, # lambda_cu = 20\n",
    "            mu = 0.0)\n",
    "\n",
    "mc.cross_section_shape.B = 45\n",
    "mc.cross_section_shape.H = 30\n",
    "mc.cross_section_layout.reinforcement = [Reinforcement(eps_sy=2712/240000, E=240000, z=8, A=3.62),\n",
    "                                         Reinforcement(eps_sy=2712/240000, E=240000, z=22, A=3.62),]\n",
    "\n",
    "dp = DeflectionProfile(mc=mc)\n",
    "\n",
    "dp.beam_design.beam_conf_name = BoundaryConfig.FOUR_PB\n",
    "dp.beam_design.beam_conf_name.first_load_distance = 320\n",
    "dp.beam_design.L = 840\n",
    "\n",
    "rho_range_carbon = np.linspace(0.00, 0.025, 4)\n",
    "fck_range_carbon = np.linspace(5, 80, 4)\n",
    "\n",
    "d = mc.cross_section_shape.H -  mc.cross_section_layout.reinforcement[0].z\n",
    "b = mc.cross_section_shape.B\n",
    "area_g = b * d\n",
    "\n",
    "rho_grid_carbon, fck_grid_carbon = np.meshgrid(rho_range_carbon, fck_range_carbon) \n",
    "\n",
    "F_u_grid_carbon = np.zeros_like(rho_grid_carbon)\n",
    "F_s_grid_carbon = np.zeros_like(rho_grid_carbon)\n",
    "\n",
    "w_u_grid_carbon = np.zeros_like(rho_grid_carbon)\n",
    "w_s_grid_carbon = np.zeros_like(rho_grid_carbon)\n",
    "\n",
    "for fck_idx in range(0,len(fck_range_carbon)):\n",
    "    for rho_idx in range(0,len(rho_range_carbon)):\n",
    "\n",
    "        ''' concrete specifications'''\n",
    "\n",
    "        #E_cm from Table 3.1 of EC2 1992.1.1.2004\n",
    "        E = 22*((f_ck+8)/10)**0.3\n",
    "\n",
    "        #e_c3 from Table 3.1 of EC2 1992.1.1.2004\n",
    "        eps_cy = sp.Piecewise(\n",
    "                            (1.75, f_ck < 50),\n",
    "                            ((1.75+0.55*((f_ck-50)/40)), f_ck >= 50)\n",
    "        )\n",
    "\n",
    "        #e_cu3 from Table 3.1 of EC2 1992.1.1.2004\n",
    "        eps_cu = sp.Piecewise(\n",
    "                            (3.5, f_ck < 50),\n",
    "                            ((2.6+35*((90-f_ck)/100)**4), f_ck >= 50)\n",
    "        )\n",
    "\n",
    "        #eps_cr = ?\n",
    "        eps_cr = 0.000163\n",
    "\n",
    "        #f_ctm from Table 3.1 of EC2 1992.1.1.2004\n",
    "        f_ctm = sp.Piecewise(\n",
    "                            (0.3*f_ck**(2/3), f_ck < 50),\n",
    "                            ((2.12*np.log((1+(f_ck+8)/10))), f_ck >= 50)\n",
    "        )\n",
    "\n",
    "        mc = MKappa(reinforcement_type= ReinforcementType.CARBON,\n",
    "                    low_kappa = 0,\n",
    "                    high_kappa = 0.0007,\n",
    "                    E_cc = E,\n",
    "                    E_ct = E,\n",
    "                    eps_cr = eps_cr,\n",
    "                    eps_tu = f_ctm/E, \n",
    "                    eps_cy = eps_cy,\n",
    "                    eps_cu = eps_cu,\n",
    "                    mu = 0.0)\n",
    "\n",
    "\n",
    "        rho = rho_grid_carbon[rho_idx, fck_idx]\n",
    "        f_ck = fck_grid_carbon[rho_idx, fck_idx]\n",
    "        print('parameter combination', rho, f_ck)\n",
    "\n",
    "        # assigning the grid area (area_g) to the reinforcement area variable\n",
    "        A_j_g = rho * area_g\n",
    "        dp.mc.cross_section_layout.reinforcement[0].A = A_j_g\n",
    "\n",
    "        # running the deflection analysis \n",
    "        F_data, w_data = dp.get_Fw()\n",
    "        print(F_data.size, w_data.shape)\n",
    "        # plotting, post-processing & saving the data\n",
    "        plt.plot(w_data, F_data/1000, label = \"rho={}%-sl={} \".format(rho * 100, f_ck))\n",
    "        plt.xlabel(r'$w$ [mm]')\n",
    "        plt.ylabel(r'$F$ [KN]')\n",
    "        plt.show()\n",
    "\n",
    "        w_s = dp.beam_design.L / 250\n",
    "        w_max = max(w_data)\n",
    "        w_u = max(w_data) - w_s\n",
    "        F_s = np.interp(w_s, w_data, F_data)\n",
    "        F_max = max(F_data)\n",
    "        F_u = max(F_data) - F_s\n",
    "\n",
    "        F_u_grid_carbon[rho_idx,fck_idx] = F_u\n",
    "        F_s_grid_carbon[rho_idx,fck_idx] = F_s\n",
    "        \n",
    "        w_u_grid_carbon[rho_idx,fck_idx] = w_u\n",
    "        w_s_grid_carbon[rho_idx,fck_idx] = w_s"
   ]
  },
  {
   "cell_type": "code",
   "execution_count": null,
   "metadata": {
    "pycharm": {
     "is_executing": true,
     "name": "#%%\n"
    }
   },
   "outputs": [],
   "source": [
    "np.save('F_u_grid_carbon.npy', F_u_grid_carbon)\n",
    "np.save('F_s_grid_carbon.npy', F_s_grid_carbon)\n",
    "\n",
    "np.save('w_u_grid_carbon.npy', w_u_grid_carbon)\n",
    "np.save('w_s_grid_carbon.npy', w_s_grid_carbon)"
   ]
  },
  {
   "cell_type": "code",
   "execution_count": null,
   "metadata": {
    "pycharm": {
     "is_executing": true
    }
   },
   "outputs": [],
   "source": [
    "# This cell is for loading results later if needed\n",
    "# rho_range = np.linspace(0.0025, 0.025, 6)\n",
    "# slenderness_range = np.linspace(10, 35, 6)\n",
    "# rho_grid, sl_grid = np.meshgrid(rho_range, slenderness_range) \n",
    "F_u_grid_carbon = np.load('F_u_grid_carbon.npy')\n",
    "F_s_grid_carbon = np.load('F_s_grid_carbon.npy')\n",
    "\n",
    "w_u_grid_carbon = np.load('w_u_grid_carbon.npy')\n",
    "w_s_grid_carbon = np.load('w_s_grid_carbon.npy')"
   ]
  },
  {
   "cell_type": "code",
   "execution_count": null,
   "metadata": {
    "pycharm": {
     "is_executing": true
    },
    "scrolled": false
   },
   "outputs": [],
   "source": [
    "_, ax = plt.subplots(1,1)\n",
    "\n",
    "z = (F_s_grid_carbon + F_u_grid_carbon) / F_s_grid_carbon - 7.5\n",
    "\n",
    "CS = ax.contour(rho_grid_carbon, fck_grid_carbon, z , levels=[0])\n",
    "ax.clabel(CS, inline=1, fontsize=10)\n",
    "ax.set_ylabel('fc')\n",
    "ax.set_xlabel(r'$\\rho$ %')\n",
    "ax.set_ylim(5, 80)\n",
    "ax.set_xlim(0.000, 0.025)\n",
    "\n",
    "# Draw C72 curve\n",
    "# rho_range = np.arange(0, 0.05, 0.0001)\n",
    "# f_ck = 72\n",
    "# slenderness = []\n",
    "# for rho in rho_range:\n",
    "#     slenderness.append(get_slenderness(rho, 0,  1, f_ck))\n",
    "# ax.plot(rho_range, slenderness)"
   ]
  },
  {
   "cell_type": "markdown",
   "metadata": {},
   "source": [
    "### Equation derivation"
   ]
  },
  {
   "cell_type": "code",
   "execution_count": null,
   "metadata": {
    "scrolled": false
   },
   "outputs": [],
   "source": [
    "from scipy.optimize import least_squares\n",
    "\n",
    "\n",
    "f_ck_ = fck_grid_carbon.flatten()\n",
    "rho_ = rho_grid_carbon.flatten()\n",
    "\n",
    "def ec2_model(theta, f_ck_, rho_):\n",
    "    rho_0 = (f_ck_)**0.5/1000\n",
    "#     if rho <= rho_0:\n",
    "    model_1 = (theta[0] + theta[1]*((f_ck_)**0.5)*(rho_0/rho_) + theta[2]*((f_ck_)**0.5)*((rho_0/rho_ - 1)))\n",
    "#     model_1 = (theta[0] + theta[1]*((f_ck)*(rho_0/rho)**theta[2]))\n",
    "\n",
    "#     elif rho > rho_0:\n",
    "#         model_2 = (theta[0] + 1.5*((f_ck)**0.5)*(rho_0/(rho)))\n",
    "    return model_1#, model_2\n",
    "# ec2_models = ec2_model\n",
    "\n",
    "def function(theta):\n",
    "    a=10; b=10.; c=10\n",
    "    return ec2_model(theta, f_ck_, rho_) - 1\n",
    "\n",
    "theta0 = [0,0,0]\n",
    "res1 = least_squares(function, theta0, method = 'lm')\n",
    "res1\n"
   ]
  },
  {
   "cell_type": "code",
   "execution_count": null,
   "metadata": {},
   "outputs": [],
   "source": [
    "from scipy.optimize import least_squares\n",
    "\n",
    "def y(theta, t):\n",
    "    return theta[0] / (1 + np.exp(- theta[1] * (t - theta[2])))\n",
    "\n",
    "ts = np.linspace(0, 1)\n",
    "K = 1; r = 10; t0 = 0.5; noise = 0.1\n",
    "ys = y([K, r, t0], ts) + noise * np.random.rand(ts.shape[0])\n",
    "\n",
    "def fun(theta):\n",
    "    return y(theta, ts) - ys\n",
    "\n",
    "theta0 = [1,2,3]\n",
    "res1 = least_squares(fun, theta0, method='lm')\n",
    "res1"
   ]
  },
  {
   "cell_type": "code",
   "execution_count": null,
   "metadata": {},
   "outputs": [],
   "source": [
    "import numpy as np\n",
    "import matplotlib.pyplot as plt\n",
    "x = np.array([1, 2, 3, 4, 5, 6, 7, 8, 9, 10, 11, 12, 13, 14, 15, 16, 17,18],dtype=np.float)\n",
    "y = np.array([1, 2, 3, 4, 5, 6, 8, 10, 12, 14,14,14,14,14,14,14,20,26],dtype=np.float)\n",
    "plt.scatter(x,y)\n",
    "print(len(x), len(y))"
   ]
  },
  {
   "cell_type": "code",
   "execution_count": null,
   "metadata": {},
   "outputs": [],
   "source": [
    "m = np.diff(y)/np.diff(x)\n",
    "print (m)"
   ]
  },
  {
   "cell_type": "code",
   "execution_count": null,
   "metadata": {},
   "outputs": [],
   "source": [
    "a = np.diff(m)\n",
    "a"
   ]
  },
  {
   "cell_type": "code",
   "execution_count": null,
   "metadata": {},
   "outputs": [],
   "source": [
    "i = np.nonzero(a)\n",
    "i"
   ]
  },
  {
   "cell_type": "code",
   "execution_count": null,
   "metadata": {},
   "outputs": [],
   "source": [
    "i_ = i + np.ones_like(i)\n",
    "i_"
   ]
  },
  {
   "cell_type": "code",
   "execution_count": null,
   "metadata": {},
   "outputs": [],
   "source": [
    "print(y[i],x[i])"
   ]
  },
  {
   "cell_type": "code",
   "execution_count": null,
   "metadata": {},
   "outputs": [],
   "source": [
    "plt.plot(x,y,'r--',x[i_],y[i_],'bs')\n"
   ]
  },
  {
   "cell_type": "code",
   "execution_count": null,
   "metadata": {},
   "outputs": [],
   "source": [
    "%matplotlib widget\n",
    "from bmcs_cross_section.mkappa.mkappa import MKappa, ReinforcementType\n",
    "from bmcs_cross_section.cs_design.cs_layout import Reinforcement\n",
    "from bmcs_beam.beam_config.boundary_conditions import BoundaryConditions, BoundaryConfig\n",
    "from bmcs_beam.bending.deflection_profile import DeflectionProfile\n",
    "from bmcs_beam.beam_config.beam_design import BeamDesign\n",
    "from bmcs_cross_section.cs_design.cs_shape import TShape\n",
    "from os.path import join\n",
    "import numpy as np\n",
    "import pandas as pd\n",
    "import sympy as sp\n",
    "import matplotlib.pyplot as plt\n",
    "import bmcs_utils.api as bu\n",
    "from mpl_toolkits import mplot3d\n",
    "\n",
    "def map_params(mc, B, H, eps_tu, E_cc, E_ct, eps_cr, eps_cy, mu, eps_cu):\n",
    "    mc.cross_section_shape.B=B\n",
    "    mc.cross_section_shape.H=H\n",
    "    mc.E_cc=E_cc\n",
    "    mc.E_ct=E_ct\n",
    "    mc.mu=mu\n",
    "    mc.eps_cr=eps_cr\n",
    "    mc.eps_cy=eps_cy\n",
    "    mc.eps_cu=eps_cu\n",
    "    mc.eps_tu=eps_tu\n",
    "    \n",
    "def map_and_assign_params_for_rectangular_section(\n",
    "        mc, # MKappa instance for which the params should be applied\n",
    "        b, h, E, E_s, f_sy, eps_cr, rho, beta_tu, v_f, omega, psi, mu, alpha, lambda_cu):\n",
    "    \"\"\"This function map the params of the rectangular section from the type of the paper\n",
    "    to the type of the model and assigns the values\"\"\"\n",
    "    mc.cross_section_shape.B=b\n",
    "    mc.cross_section_shape.H=h\n",
    "    mc.E_cc=E\n",
    "    mc.E_ct=E \n",
    "    mc.mu=mu\n",
    "    mc.eps_cr=eps_cr\n",
    "    mc.eps_cy=omega * eps_cr\n",
    "    mc.eps_cu=lambda_cu * eps_cr\n",
    "    mc.eps_tu=beta_tu * eps_cr\n",
    "    mc.cross_section_layout.reinforcement = [Reinforcement(\n",
    "                                                eps_sy=f_sy / E_s, # or eps_sy_j=psi * eps_cr,\n",
    "                                                E=E_s,\n",
    "                                                z=h * (1 - alpha),\n",
    "                                                A=rho * b * alpha * h)]\n",
    "mc_params = dict(\n",
    "            reinforcement_type= ReinforcementType.CARBON,\n",
    "            n_m=100,\n",
    "            n_kappa = 100,\n",
    "            kappa_slider = 0.000001,\n",
    "            low_kappa = 0,\n",
    "            high_kappa =  0.00002, # 12e-6,\n",
    "            eps_tu = 0.002508,\n",
    "            E_cc = 34000,\n",
    "            E_ct = 34000,\n",
    "            eps_cr = 0.000132,\n",
    "            eps_cy = 0.0015312,\n",
    "            mu = 0.63,            # I changed this to zero\n",
    "            eps_cu = 0.003498)\n",
    "\n",
    "mc = MKappa(**mc_params)\n",
    "\n",
    "b = 285\n",
    "h = 299\n",
    "mc.cross_section_shape.B = b\n",
    "mc.cross_section_shape.H = h\n",
    "\n",
    "mc.cross_section_layout.reinforcement = [Reinforcement(eps_sy=560/203000, E=203000, z=26.82, A=231.04)]\n",
    "\n",
    "dp = DeflectionProfile(mc=mc)\n",
    "dp.beam_design.beam_conf_name = BoundaryConfig.FOUR_PB\n",
    "dp.beam_design.beam_conf_name.first_load_distance = 0\n",
    "dp.beam_design.L = 3000\n",
    "\n",
    "\n",
    "bu.InteractiveWindow([dp, \n",
    "                      dp.beam_design, \n",
    "                      dp.mc, \n",
    "                      dp.mc.cs_design.cross_section_shape, \n",
    "                      dp.mc.cs_design.cross_section_layout], tight_layout=True).interact()"
   ]
  },
  {
   "cell_type": "code",
   "execution_count": null,
   "metadata": {},
   "outputs": [],
   "source": [
    "%matplotlib inline\n",
    "F_data, w_data = dp.get_Fw()\n",
    "\n",
    "# plotting, post-processing & saving the data\n",
    "plt.plot(w_data, F_data/1000)\n",
    "\n",
    "w_s = dp.beam_design.L / 250\n",
    "w_max = max(w_data)\n",
    "w_u = max(w_data) - w_s\n",
    "F_s = np.interp(w_s, w_data, F_data)\n",
    "F_max = max(F_data)\n",
    "F_u = max(F_data) - F_s\n"
   ]
  },
  {
   "cell_type": "code",
   "execution_count": null,
   "metadata": {},
   "outputs": [],
   "source": [
    "m = np.diff(w_data)/np.diff(F_data/1000)\n",
    "print (m)"
   ]
  },
  {
   "cell_type": "code",
   "execution_count": null,
   "metadata": {},
   "outputs": [],
   "source": [
    "a = np.diff(m)\n",
    "a"
   ]
  },
  {
   "cell_type": "code",
   "execution_count": null,
   "metadata": {},
   "outputs": [],
   "source": [
    "a_dif = np.zeros_like(a)\n",
    "for n in range(len(a)):\n",
    "    a_dif[n] = a[n] - a[n-1]\n",
    "a_dif    "
   ]
  },
  {
   "cell_type": "code",
   "execution_count": null,
   "metadata": {},
   "outputs": [],
   "source": [
    "a_ = np.argmax(a)\n",
    "a_"
   ]
  },
  {
   "cell_type": "code",
   "execution_count": null,
   "metadata": {},
   "outputs": [],
   "source": [
    "i = np.nonzero(a)\n",
    "i"
   ]
  },
  {
   "cell_type": "code",
   "execution_count": null,
   "metadata": {},
   "outputs": [],
   "source": [
    "i_ = i + np.ones_like(i)\n",
    "i_"
   ]
  },
  {
   "cell_type": "code",
   "execution_count": null,
   "metadata": {},
   "outputs": [],
   "source": [
    "print(w_data[i],F_data[i])"
   ]
  },
  {
   "cell_type": "code",
   "execution_count": null,
   "metadata": {},
   "outputs": [],
   "source": [
    "plt.plot(w_data,F_data,'r--',w_data[i_],F_data[i_],'bs')\n"
   ]
  },
  {
   "cell_type": "code",
   "execution_count": null,
   "metadata": {
    "pycharm": {
     "is_executing": true,
     "name": "#%%\n"
    }
   },
   "outputs": [],
   "source": [
    "# import rpy2.robjects as robjects"
   ]
  },
  {
   "cell_type": "code",
   "execution_count": null,
   "metadata": {
    "pycharm": {
     "is_executing": true
    }
   },
   "outputs": [],
   "source": [
    "# r_lm = robjects.r[\"lm\"]\n",
    "# r_predict = robjects.r[\"predict\"]"
   ]
  },
  {
   "cell_type": "code",
   "execution_count": null,
   "metadata": {
    "pycharm": {
     "is_executing": true,
     "name": "#%%\n"
    }
   },
   "outputs": [],
   "source": [
    "# import pandas as pd\n",
    "# df = pd.DataFrame({\n",
    "#     'cups_of_coffee': [0, 1, 2, 3, 4, 5, 6, 7, 8, 9],\n",
    "#     'productivity': [2, 5, 6, 8, 9, 8, 0, 1, 0, -1]\n",
    "# })"
   ]
  },
  {
   "cell_type": "code",
   "execution_count": null,
   "metadata": {
    "pycharm": {
     "is_executing": true,
     "name": "#%%\n"
    }
   },
   "outputs": [],
   "source": [
    "# # enables the %%R magic, not necessary if you've already done this\n",
    "# %load_ext rpy2.ipython"
   ]
  }
 ],
 "metadata": {
  "kernelspec": {
   "display_name": "Python 3",
   "language": "python",
   "name": "python3"
  },
  "language_info": {
   "codemirror_mode": {
    "name": "ipython",
    "version": 3
   },
   "file_extension": ".py",
   "mimetype": "text/x-python",
   "name": "python",
   "nbconvert_exporter": "python",
   "pygments_lexer": "ipython3",
   "version": "3.7.9"
  }
 },
 "nbformat": 4,
 "nbformat_minor": 4
}