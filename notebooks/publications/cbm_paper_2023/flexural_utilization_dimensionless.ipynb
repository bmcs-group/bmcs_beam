{
 "cells": [
  {
   "cell_type": "code",
   "execution_count": null,
   "id": "d4d82b28-f5a8-4ac1-a0b9-9d6098f28586",
   "metadata": {},
   "outputs": [],
   "source": [
    "%matplotlib widget\n",
    "import sympy as sp\n",
    "import numpy as np\n",
    "import matplotlib.pylab as plt"
   ]
  },
  {
   "cell_type": "code",
   "execution_count": null,
   "id": "be38808e-92f8-467c-9a7c-2ec1fc262d55",
   "metadata": {},
   "outputs": [],
   "source": [
    "E_f, eps_cu, eps_cy, sig_cu, sig_cy, f_fu, f_cm = \\\n",
    " sp.symbols(r'E_f, epsilon_cu, epsilon_cy, sigma_cu, sigma_cy, f_fu, f_cm', positive=True)\n",
    "rho_f, delta_eps = \\\n",
    " sp.symbols(r'rho_f, epsilon_Delta', positive=True)"
   ]
  },
  {
   "cell_type": "markdown",
   "id": "bb1c12c5-a830-4e9c-a62f-0ba5ea0faa09",
   "metadata": {},
   "source": [
    "$$\n",
    " \\varepsilon_\\mathrm{cu}= 10^{-3} \\cdot\n",
    "  \\begin{cases}\n",
    "      3.5,\n",
    "    & f_\\mathrm{cm} \\le 58~\\mathrm{MPa} \\\\\n",
    "    2.8 + 27 \\cdot \\big(\\frac{98 - f_\\mathrm{cm}}{100}\\big)^4,\n",
    "    & 58~\\mathrm{MPa} < f_\\mathrm{cm} \\le 98~\\mathrm{MPa} \\\\\n",
    "    2.8,\n",
    "    & {f_\\mathrm{cm} > 98~\\mathrm{MPa}}.\n",
    "  \\end{cases}\n",
    "$$"
   ]
  },
  {
   "cell_type": "code",
   "execution_count": null,
   "id": "245e2aae-2e2e-4b04-acf0-b01d9cddcd19",
   "metadata": {},
   "outputs": [],
   "source": [
    "eps_cu_ = sp.Rational(1, 1000) * sp.Piecewise(\n",
    "    (3.5, f_cm <= 58),\n",
    "    (2.8 + 27 * ((98-f_cm)/100)**4, f_cm <= 98),\n",
    "    (2.8, True)\n",
    ")\n",
    "eps_cu_"
   ]
  },
  {
   "cell_type": "markdown",
   "id": "9fb01824-3ca7-41f5-8590-4dd9a90dd2a7",
   "metadata": {},
   "source": [
    "$$\n",
    "\\boxed{\n",
    "\\rho_\\mathrm{fb} = \\frac{E_\\mathrm{f} \\left(\\sigma_\\mathrm{cu} \\varepsilon_\\mathrm{cu}~-~\\sigma_\\mathrm{cu} \\varepsilon_\\mathrm{cy}~+~\\sigma_\\mathrm{cy} \\varepsilon_\\mathrm{cu}\\right)}{2 f_\\mathrm{fu} \\left(E_\\mathrm{f} \\varepsilon_\\mathrm{cu}~+~f_\\mathrm{fu}\\right)}\n",
    ",}\n",
    "$$"
   ]
  },
  {
   "cell_type": "code",
   "execution_count": null,
   "id": "3df934bd-c75b-4e73-8d7f-f557d34fb025",
   "metadata": {},
   "outputs": [],
   "source": [
    "rho_fb_ = ((E_f * (sig_cu * eps_cu - sig_cu * eps_cy + sig_cy * eps_cu))\n",
    "          /(2 * f_fu * (E_f * eps_cu + f_fu)))\n",
    "rho_fb_"
   ]
  },
  {
   "cell_type": "markdown",
   "id": "7a9617fd-68af-4f67-b5f8-7a92e8f9e74e",
   "metadata": {},
   "source": [
    "$$\n",
    "\\sigma_\\mathrm{f} =\n",
    "\\frac{1}{2} \\left( \\sqrt{\\frac{E_\\mathrm{f} \\cdot \\big(E_\\mathrm{f} \\rho_\\mathrm{f} \\varepsilon_\\mathrm{cu}^2~+~2 \\sigma_\\mathrm{cu} \\Delta\\varepsilon~+~2 \\sigma_\\mathrm{cy} \\varepsilon_\\mathrm{cu} \\big)}\n",
    "{\\rho_\\mathrm{f}}}\n",
    "- E_{f} \\varepsilon_\\mathrm{cu}\\right) \\le f_\\mathrm{fu}.\n",
    "\\label{eq:sigma_f}\n",
    "$$"
   ]
  },
  {
   "cell_type": "code",
   "execution_count": null,
   "id": "c87fb1ba-b0db-43e6-ad58-5a731b3ed77d",
   "metadata": {},
   "outputs": [],
   "source": [
    "sig_f = sp.Rational(1,2) * (\n",
    "    sp.sqrt((E_f * (E_f*rho_f*eps_cu**2 + 2*sig_cu*delta_eps + 2 * sig_cy*eps_cu))/\n",
    "            (rho_f)\n",
    "    ) - E_f * eps_cu\n",
    ")\n",
    "sig_f"
   ]
  },
  {
   "cell_type": "markdown",
   "id": "761e4c65-a4bf-4026-a9c9-b06e95802647",
   "metadata": {},
   "source": [
    "$$\n",
    "c_\\mathrm{e, total} = \\frac{A_\\mathrm{tri} c_\\mathrm{e, tri} + A_\\mathrm{trab} c_\\mathrm{e, trab}}{A_\\mathrm{tri} + A_\\mathrm{trab}}\n",
    "$$"
   ]
  },
  {
   "cell_type": "code",
   "execution_count": null,
   "id": "bf30ce6b-ee17-4271-9416-ce9bd0b1b7fa",
   "metadata": {},
   "outputs": [],
   "source": [
    "b, d, h, z = sp.symbols('b, d, h, z', positive=True)\n",
    "m_0 = sp.symbols('m_0')\n",
    "h_ = d + z\n",
    "A_f_ = rho_f * b * d"
   ]
  },
  {
   "cell_type": "markdown",
   "id": "a6ee12ee-4bed-409e-ac78-ee7893dd0481",
   "metadata": {},
   "source": [
    "$$\n",
    "M_\\mathrm{u,cu} = \\frac{A_\\mathrm{f} d \\sigma_\\mathrm{f}}{3 m_0 \\left(E_\\mathrm{f} \\varepsilon_\\mathrm{cu} + \\sigma_\\mathrm{f}\\right)}\n",
    "\\bigg(\n",
    "3 m_0 \\left(E_\\mathrm{f} \\varepsilon_\\mathrm{cu} + \\sigma_\\mathrm{f}\\right)\n",
    "- ~E_\\mathrm{f} \\left(\\varepsilon_\\Delta^2 \\left(2 \\sigma_\\mathrm{cy} + \\sigma_\\mathrm{cu} \\right)\n",
    "~+~\\sigma_\\mathrm{cy} \\varepsilon_\\mathrm{cy} \\left(3 \\varepsilon_\\mathrm{cu} - 2 \\varepsilon_\\mathrm{cy}\\right)\\right)\\bigg)\n",
    "$$"
   ]
  },
  {
   "cell_type": "code",
   "execution_count": null,
   "id": "4cc6a181-aa90-404f-85f6-5a07e478f83d",
   "metadata": {},
   "outputs": [],
   "source": [
    "M_u_cu_ = ((A_f_ * d * sig_f) / (3*m_0*(E_f * eps_cu + sig_f)) *\n",
    "           (3*m_0*(E_f*eps_cu+sig_f) - E_f*(delta_eps**2*(2*sig_cy+sig_cu)) + \n",
    "           sig_cy * eps_cy * (3*eps_cu-2*eps_cy))\n",
    "          )\n",
    "sp.simplify(M_u_cu_)"
   ]
  },
  {
   "cell_type": "code",
   "execution_count": null,
   "id": "ddf746da-0ff2-4ecd-8729-523922ef965f",
   "metadata": {},
   "outputs": [],
   "source": [
    "m_0_ = delta_eps * sig_cu  + delta_eps * sig_cy + eps_cy * sig_cy"
   ]
  },
  {
   "cell_type": "code",
   "execution_count": null,
   "id": "ecac975b-d4bd-4488-9fd5-efb1da0cb310",
   "metadata": {},
   "outputs": [],
   "source": [
    "M_u_cu__ = sp.simplify(M_u_cu_.subs(m_0, m_0_))"
   ]
  },
  {
   "cell_type": "code",
   "execution_count": null,
   "id": "9059f49c-4ebe-4750-8497-0d70bca9bb98",
   "metadata": {},
   "outputs": [],
   "source": [
    "M_u_cu___ = sp.simplify(M_u_cu__.subs(rho_f, rho_fb_))\n",
    "M_u_cu___"
   ]
  },
  {
   "cell_type": "code",
   "execution_count": null,
   "id": "15f52625-9f00-4668-a96c-fe2c5dceae56",
   "metadata": {},
   "outputs": [],
   "source": [
    "19 * 1.8"
   ]
  },
  {
   "cell_type": "code",
   "execution_count": null,
   "id": "cb5608ce-6b14-4766-8b99-4ae6dc0f10ca",
   "metadata": {},
   "outputs": [],
   "source": [
    "1.8 / 8.4"
   ]
  },
  {
   "cell_type": "code",
   "execution_count": null,
   "id": "accb0bcd-fc4c-4ba0-93d0-a878edf454f0",
   "metadata": {},
   "outputs": [],
   "source": [
    "M_E = sp.symbols('M_E', positive=True)"
   ]
  },
  {
   "cell_type": "code",
   "execution_count": null,
   "id": "ca828d5a-4887-487a-8c93-b7860ed52933",
   "metadata": {},
   "outputs": [],
   "source": [
    "sp.solve(M_u_cu___ - M_E, d)[0]"
   ]
  },
  {
   "cell_type": "code",
   "execution_count": null,
   "id": "c4aa0caf-5e64-444a-8ed9-ed1e9a693e94",
   "metadata": {},
   "outputs": [],
   "source": [
    "p_0 = E_f * eps_cu\n",
    "p_1 = 3 * eps_cu * f_fu\n",
    "p_2 = sig_cu * eps_cy\n",
    "p_3 = E_f * eps_cu**2\n",
    "p_4 = (- E_f * sig_cu * eps_cy**2 + eps_cu * p_1 + 2 * sig_cu * p_3 + sig_cy * eps_cy * p_0 +\n",
    "       sig_cy * p_1 + sig_cy * p_3 - p_0 * p_2 - 3 * f_fu * p_2\n",
    "      )"
   ]
  },
  {
   "cell_type": "code",
   "execution_count": null,
   "id": "5aa6f313-a032-4fc6-bd35-42ef81f49903",
   "metadata": {},
   "outputs": [],
   "source": [
    "sp.simplify(p_4)"
   ]
  },
  {
   "cell_type": "code",
   "execution_count": null,
   "id": "1bd9ff6f-3913-43ac-b37c-d575d9267927",
   "metadata": {},
   "outputs": [],
   "source": []
  }
 ],
 "metadata": {
  "kernelspec": {
   "display_name": "bmcs_env2",
   "language": "python",
   "name": "bmcs_env2"
  },
  "language_info": {
   "codemirror_mode": {
    "name": "ipython",
    "version": 3
   },
   "file_extension": ".py",
   "mimetype": "text/x-python",
   "name": "python",
   "nbconvert_exporter": "python",
   "pygments_lexer": "ipython3"
  }
 },
 "nbformat": 4,
 "nbformat_minor": 5
}
