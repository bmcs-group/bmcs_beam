{
 "cells": [
  {
   "cell_type": "code",
   "id": "d4d82b28-f5a8-4ac1-a0b9-9d6098f28586",
   "metadata": {
    "ExecuteTime": {
     "end_time": "2024-05-16T10:30:48.758203Z",
     "start_time": "2024-05-16T10:30:48.747852Z"
    }
   },
   "source": [
    "#%matplotlib widget\n",
    "import sympy as sp\n",
    "import numpy as np\n",
    "import matplotlib.pylab as plt"
   ],
   "outputs": [],
   "execution_count": 17
  },
  {
   "cell_type": "code",
   "id": "be38808e-92f8-467c-9a7c-2ec1fc262d55",
   "metadata": {
    "ExecuteTime": {
     "end_time": "2024-05-16T10:30:48.804019Z",
     "start_time": "2024-05-16T10:30:48.795636Z"
    }
   },
   "source": [
    "E_f, eps_cu, eps_cy, sig_cu, sig_cy, f_fu, f_cm = \\\n",
    " sp.symbols(r'E_f, epsilon_cu, epsilon_cy, sigma_cu, sigma_cy, f_fu, f_cm', positive=True)\n",
    "rho_f, delta_eps = \\\n",
    " sp.symbols(r'rho_f, epsilon_Delta', positive=True)"
   ],
   "outputs": [],
   "execution_count": 18
  },
  {
   "cell_type": "markdown",
   "id": "bb1c12c5-a830-4e9c-a62f-0ba5ea0faa09",
   "metadata": {},
   "source": [
    "$$\n",
    " \\varepsilon_\\mathrm{cu}= 10^{-3} \\cdot\n",
    "  \\begin{cases}\n",
    "      3.5,\n",
    "    & f_\\mathrm{cm} \\le 58~\\mathrm{MPa} \\\\\n",
    "    2.8 + 27 \\cdot \\big(\\frac{98 - f_\\mathrm{cm}}{100}\\big)^4,\n",
    "    & 58~\\mathrm{MPa} < f_\\mathrm{cm} \\le 98~\\mathrm{MPa} \\\\\n",
    "    2.8,\n",
    "    & {f_\\mathrm{cm} > 98~\\mathrm{MPa}}.\n",
    "  \\end{cases}\n",
    "$$"
   ]
  },
  {
   "cell_type": "code",
   "id": "245e2aae-2e2e-4b04-acf0-b01d9cddcd19",
   "metadata": {
    "ExecuteTime": {
     "end_time": "2024-05-16T10:30:48.817468Z",
     "start_time": "2024-05-16T10:30:48.804019Z"
    }
   },
   "source": [
    "eps_cu_ = sp.Rational(1, 1000) * sp.Piecewise(\n",
    "    (3.5, f_cm <= 58),\n",
    "    (2.8 + 27 * ((98-f_cm)/100)**4, f_cm <= 98),\n",
    "    (2.8, True)\n",
    ")\n",
    "eps_cu_"
   ],
   "outputs": [
    {
     "data": {
      "text/plain": [
       "Piecewise((3.5, f_cm <= 58), (27*(49/50 - f_cm/100)**4 + 2.8, f_cm <= 98), (2.8, True))/1000"
      ],
      "text/latex": "$\\displaystyle \\frac{\\begin{cases} 3.5 & \\text{for}\\: f_{cm} \\leq 58 \\\\27 \\left(\\frac{49}{50} - \\frac{f_{cm}}{100}\\right)^{4} + 2.8 & \\text{for}\\: f_{cm} \\leq 98 \\\\2.8 & \\text{otherwise} \\end{cases}}{1000}$"
     },
     "execution_count": 19,
     "metadata": {},
     "output_type": "execute_result"
    }
   ],
   "execution_count": 19
  },
  {
   "cell_type": "markdown",
   "id": "9fb01824-3ca7-41f5-8590-4dd9a90dd2a7",
   "metadata": {},
   "source": [
    "$$\n",
    "\\boxed{\n",
    "\\rho_\\mathrm{fb} = \\frac{E_\\mathrm{f} \\left(\\sigma_\\mathrm{cu} \\varepsilon_\\mathrm{cu}~-~\\sigma_\\mathrm{cu} \\varepsilon_\\mathrm{cy}~+~\\sigma_\\mathrm{cy} \\varepsilon_\\mathrm{cu}\\right)}{2 f_\\mathrm{fu} \\left(E_\\mathrm{f} \\varepsilon_\\mathrm{cu}~+~f_\\mathrm{fu}\\right)}\n",
    ",}\n",
    "$$"
   ]
  },
  {
   "metadata": {},
   "cell_type": "code",
   "outputs": [],
   "execution_count": null,
   "source": "",
   "id": "c231fd96a7f2676f"
  },
  {
   "cell_type": "code",
   "id": "3df934bd-c75b-4e73-8d7f-f557d34fb025",
   "metadata": {
    "ExecuteTime": {
     "end_time": "2024-05-16T12:14:58.727581Z",
     "start_time": "2024-05-16T12:14:58.674217Z"
    }
   },
   "source": [
    "rho_fb_ = ((E_f * (sig_cu * eps_cu - sig_cu * eps_cy + sig_cy * eps_cu))\n",
    "          /(2 * f_fu * (E_f * eps_cu + f_fu)))\n",
    "rho_fb_"
   ],
   "outputs": [
    {
     "data": {
      "text/plain": [
       "E_f*(epsilon_cu*sigma_cu + epsilon_cu*sigma_cy - epsilon_cy*sigma_cu)/(2*f_fu*(E_f*epsilon_cu + f_fu))"
      ],
      "text/latex": "$\\displaystyle \\frac{E_{f} \\left(\\epsilon_{cu} \\sigma_{cu} + \\epsilon_{cu} \\sigma_{cy} - \\epsilon_{cy} \\sigma_{cu}\\right)}{2 f_{fu} \\left(E_{f} \\epsilon_{cu} + f_{fu}\\right)}$"
     },
     "execution_count": 33,
     "metadata": {},
     "output_type": "execute_result"
    }
   ],
   "execution_count": 33
  },
  {
   "cell_type": "markdown",
   "id": "7a9617fd-68af-4f67-b5f8-7a92e8f9e74e",
   "metadata": {},
   "source": [
    "$$\n",
    "\\sigma_\\mathrm{f} =\n",
    "\\frac{1}{2} \\left( \\sqrt{\\frac{E_\\mathrm{f} \\cdot \\big(E_\\mathrm{f} \\rho_\\mathrm{f} \\varepsilon_\\mathrm{cu}^2~+~2 \\sigma_\\mathrm{cu} \\Delta\\varepsilon~+~2 \\sigma_\\mathrm{cy} \\varepsilon_\\mathrm{cu} \\big)}\n",
    "{\\rho_\\mathrm{f}}}\n",
    "- E_{f} \\varepsilon_\\mathrm{cu}\\right) \\le f_\\mathrm{fu}.\n",
    "\n",
    "$$"
   ]
  },
  {
   "cell_type": "code",
   "id": "c87fb1ba-b0db-43e6-ad58-5a731b3ed77d",
   "metadata": {
    "ExecuteTime": {
     "end_time": "2024-05-16T10:30:48.836875Z",
     "start_time": "2024-05-16T10:30:48.827874Z"
    }
   },
   "source": [
    "sig_f = sp.Rational(1,2) * (\n",
    "    sp.sqrt((E_f * (E_f*rho_f*eps_cu**2 + 2*sig_cu*delta_eps + 2 * sig_cy*eps_cu))/\n",
    "            (rho_f)\n",
    "    ) - E_f * eps_cu\n",
    ")\n",
    "sig_f"
   ],
   "outputs": [
    {
     "data": {
      "text/plain": [
       "sqrt(E_f)*sqrt(E_f*epsilon_cu**2*rho_f + 2*epsilon_Delta*sigma_cu + 2*epsilon_cu*sigma_cy)/(2*sqrt(rho_f)) - E_f*epsilon_cu/2"
      ],
      "text/latex": "$\\displaystyle \\frac{\\sqrt{E_{f}} \\sqrt{E_{f} \\epsilon_{cu}^{2} \\rho_{f} + 2 \\epsilon_{\\Delta} \\sigma_{cu} + 2 \\epsilon_{cu} \\sigma_{cy}}}{2 \\sqrt{\\rho_{f}}} - \\frac{E_{f} \\epsilon_{cu}}{2}$"
     },
     "execution_count": 21,
     "metadata": {},
     "output_type": "execute_result"
    }
   ],
   "execution_count": 21
  },
  {
   "cell_type": "markdown",
   "id": "761e4c65-a4bf-4026-a9c9-b06e95802647",
   "metadata": {},
   "source": [
    "$$\n",
    "c_\\mathrm{e, total} = \\frac{A_\\mathrm{tri} c_\\mathrm{e, tri} + A_\\mathrm{trab} c_\\mathrm{e, trab}}{A_\\mathrm{tri} + A_\\mathrm{trab}}\n",
    "$$"
   ]
  },
  {
   "cell_type": "code",
   "id": "bf30ce6b-ee17-4271-9416-ce9bd0b1b7fa",
   "metadata": {
    "ExecuteTime": {
     "end_time": "2024-05-16T10:30:48.841630Z",
     "start_time": "2024-05-16T10:30:48.836875Z"
    }
   },
   "source": [
    "b, d, h, z = sp.symbols('b, d, h, z', positive=True)\n",
    "m_0 = sp.symbols('m_0')\n",
    "h_ = d + z\n",
    "A_f_ = rho_f * b * d"
   ],
   "outputs": [],
   "execution_count": 22
  },
  {
   "cell_type": "markdown",
   "id": "a6ee12ee-4bed-409e-ac78-ee7893dd0481",
   "metadata": {},
   "source": [
    "$$\n",
    "M_\\mathrm{u,cu} = \\frac{A_\\mathrm{f} d \\sigma_\\mathrm{f}}{3 m_0 \\left(E_\\mathrm{f} \\varepsilon_\\mathrm{cu} + \\sigma_\\mathrm{f}\\right)}\n",
    "\\bigg(\n",
    "3 m_0 \\left(E_\\mathrm{f} \\varepsilon_\\mathrm{cu} + \\sigma_\\mathrm{f}\\right)\n",
    "- ~E_\\mathrm{f} \\left(\\varepsilon_\\Delta^2 \\left(2 \\sigma_\\mathrm{cy} + \\sigma_\\mathrm{cu} \\right)\n",
    "~+~\\sigma_\\mathrm{cy} \\varepsilon_\\mathrm{cy} \\left(3 \\varepsilon_\\mathrm{cu} - 2 \\varepsilon_\\mathrm{cy}\\right)\\right)\\bigg)\n",
    "$$"
   ]
  },
  {
   "cell_type": "code",
   "id": "4cc6a181-aa90-404f-85f6-5a07e478f83d",
   "metadata": {
    "ExecuteTime": {
     "end_time": "2024-05-16T12:25:49.327328Z",
     "start_time": "2024-05-16T12:25:49.154453Z"
    }
   },
   "source": [
    "M_u_cu_ = ((A_f_ * d * sig_f) / (3*m_0*(E_f * eps_cu + sig_f)) *\n",
    "           (3*m_0*(E_f*eps_cu+sig_f) - E_f*(delta_eps**2*(2*sig_cy+sig_cu)) + \n",
    "           sig_cy * eps_cy * (3*eps_cu-2*eps_cy))\n",
    "          )\n",
    "sp.simplify(M_u_cu_)"
   ],
   "outputs": [
    {
     "data": {
      "text/plain": [
       "b*d**2*sqrt(rho_f)*(sqrt(E_f)*sqrt(E_f*epsilon_cu**2*rho_f + 2*epsilon_Delta*sigma_cu + 2*epsilon_cu*sigma_cy) - E_f*epsilon_cu*sqrt(rho_f))*(3*m_0*(sqrt(E_f)*sqrt(E_f*epsilon_cu**2*rho_f + 2*epsilon_Delta*sigma_cu + 2*epsilon_cu*sigma_cy) + E_f*epsilon_cu*sqrt(rho_f)) + 2*sqrt(rho_f)*(-E_f*epsilon_Delta**2*(sigma_cu + 2*sigma_cy) + epsilon_cy*sigma_cy*(3*epsilon_cu - 2*epsilon_cy)))/(6*m_0*(sqrt(E_f)*sqrt(E_f*epsilon_cu**2*rho_f + 2*epsilon_Delta*sigma_cu + 2*epsilon_cu*sigma_cy) + E_f*epsilon_cu*sqrt(rho_f)))"
      ],
      "text/latex": "$\\displaystyle \\frac{b d^{2} \\sqrt{\\rho_{f}} \\left(\\sqrt{E_{f}} \\sqrt{E_{f} \\epsilon_{cu}^{2} \\rho_{f} + 2 \\epsilon_{\\Delta} \\sigma_{cu} + 2 \\epsilon_{cu} \\sigma_{cy}} - E_{f} \\epsilon_{cu} \\sqrt{\\rho_{f}}\\right) \\left(3 m_{0} \\left(\\sqrt{E_{f}} \\sqrt{E_{f} \\epsilon_{cu}^{2} \\rho_{f} + 2 \\epsilon_{\\Delta} \\sigma_{cu} + 2 \\epsilon_{cu} \\sigma_{cy}} + E_{f} \\epsilon_{cu} \\sqrt{\\rho_{f}}\\right) + 2 \\sqrt{\\rho_{f}} \\left(- E_{f} \\epsilon_{\\Delta}^{2} \\left(\\sigma_{cu} + 2 \\sigma_{cy}\\right) + \\epsilon_{cy} \\sigma_{cy} \\left(3 \\epsilon_{cu} - 2 \\epsilon_{cy}\\right)\\right)\\right)}{6 m_{0} \\left(\\sqrt{E_{f}} \\sqrt{E_{f} \\epsilon_{cu}^{2} \\rho_{f} + 2 \\epsilon_{\\Delta} \\sigma_{cu} + 2 \\epsilon_{cu} \\sigma_{cy}} + E_{f} \\epsilon_{cu} \\sqrt{\\rho_{f}}\\right)}$"
     },
     "execution_count": 37,
     "metadata": {},
     "output_type": "execute_result"
    }
   ],
   "execution_count": 37
  },
  {
   "cell_type": "code",
   "id": "ddf746da-0ff2-4ecd-8729-523922ef965f",
   "metadata": {
    "ExecuteTime": {
     "end_time": "2024-05-16T10:30:49.096686Z",
     "start_time": "2024-05-16T10:30:49.093256Z"
    }
   },
   "source": [
    "m_0_ = delta_eps * sig_cu  + delta_eps * sig_cy + eps_cy * sig_cy"
   ],
   "outputs": [],
   "execution_count": 24
  },
  {
   "cell_type": "code",
   "id": "ecac975b-d4bd-4488-9fd5-efb1da0cb310",
   "metadata": {
    "ExecuteTime": {
     "end_time": "2024-05-16T10:30:49.305537Z",
     "start_time": "2024-05-16T10:30:49.097688Z"
    }
   },
   "source": [
    "M_u_cu__ = sp.simplify(M_u_cu_.subs(m_0, m_0_))"
   ],
   "outputs": [],
   "execution_count": 25
  },
  {
   "cell_type": "code",
   "id": "9059f49c-4ebe-4750-8497-0d70bca9bb98",
   "metadata": {
    "ExecuteTime": {
     "end_time": "2024-05-16T10:30:50.511611Z",
     "start_time": "2024-05-16T10:30:49.305537Z"
    }
   },
   "source": [
    "M_u_cu___ = sp.simplify(M_u_cu__.subs(rho_f, rho_fb_))\n",
    "M_u_cu___"
   ],
   "outputs": [
    {
     "data": {
      "text/plain": [
       "E_f*b*d**2*(2*(E_f*epsilon_Delta**2*(sigma_cu + 2*sigma_cy) - epsilon_cy*sigma_cy*(3*epsilon_cu - 2*epsilon_cy))*sqrt(epsilon_cu*sigma_cu + epsilon_cu*sigma_cy - epsilon_cy*sigma_cu) - 3*(E_f*epsilon_cu*sqrt(epsilon_cu*sigma_cu + epsilon_cu*sigma_cy - epsilon_cy*sigma_cu) + sqrt(E_f**2*epsilon_cu**2*(epsilon_cu*sigma_cu + epsilon_cu*sigma_cy - epsilon_cy*sigma_cu) + 4*f_fu*(E_f*epsilon_cu + f_fu)*(epsilon_Delta*sigma_cu + epsilon_cu*sigma_cy)))*(epsilon_Delta*sigma_cu + epsilon_Delta*sigma_cy + epsilon_cy*sigma_cy))*(E_f*epsilon_cu*sqrt(epsilon_cu*sigma_cu + epsilon_cu*sigma_cy - epsilon_cy*sigma_cu) - sqrt(E_f**2*epsilon_cu**2*(epsilon_cu*sigma_cu + epsilon_cu*sigma_cy - epsilon_cy*sigma_cu) + 4*f_fu*(E_f*epsilon_cu + f_fu)*(epsilon_Delta*sigma_cu + epsilon_cu*sigma_cy)))*sqrt(epsilon_cu*sigma_cu + epsilon_cu*sigma_cy - epsilon_cy*sigma_cu)/(12*f_fu*(E_f*epsilon_cu + f_fu)*(E_f*epsilon_cu*sqrt(epsilon_cu*sigma_cu + epsilon_cu*sigma_cy - epsilon_cy*sigma_cu) + sqrt(E_f**2*epsilon_cu**2*(epsilon_cu*sigma_cu + epsilon_cu*sigma_cy - epsilon_cy*sigma_cu) + 4*f_fu*(E_f*epsilon_cu + f_fu)*(epsilon_Delta*sigma_cu + epsilon_cu*sigma_cy)))*(epsilon_Delta*sigma_cu + epsilon_Delta*sigma_cy + epsilon_cy*sigma_cy))"
      ],
      "text/latex": "$\\displaystyle \\frac{E_{f} b d^{2} \\cdot \\left(2 \\left(E_{f} \\epsilon_{\\Delta}^{2} \\left(\\sigma_{cu} + 2 \\sigma_{cy}\\right) - \\epsilon_{cy} \\sigma_{cy} \\left(3 \\epsilon_{cu} - 2 \\epsilon_{cy}\\right)\\right) \\sqrt{\\epsilon_{cu} \\sigma_{cu} + \\epsilon_{cu} \\sigma_{cy} - \\epsilon_{cy} \\sigma_{cu}} - 3 \\left(E_{f} \\epsilon_{cu} \\sqrt{\\epsilon_{cu} \\sigma_{cu} + \\epsilon_{cu} \\sigma_{cy} - \\epsilon_{cy} \\sigma_{cu}} + \\sqrt{E_{f}^{2} \\epsilon_{cu}^{2} \\left(\\epsilon_{cu} \\sigma_{cu} + \\epsilon_{cu} \\sigma_{cy} - \\epsilon_{cy} \\sigma_{cu}\\right) + 4 f_{fu} \\left(E_{f} \\epsilon_{cu} + f_{fu}\\right) \\left(\\epsilon_{\\Delta} \\sigma_{cu} + \\epsilon_{cu} \\sigma_{cy}\\right)}\\right) \\left(\\epsilon_{\\Delta} \\sigma_{cu} + \\epsilon_{\\Delta} \\sigma_{cy} + \\epsilon_{cy} \\sigma_{cy}\\right)\\right) \\left(E_{f} \\epsilon_{cu} \\sqrt{\\epsilon_{cu} \\sigma_{cu} + \\epsilon_{cu} \\sigma_{cy} - \\epsilon_{cy} \\sigma_{cu}} - \\sqrt{E_{f}^{2} \\epsilon_{cu}^{2} \\left(\\epsilon_{cu} \\sigma_{cu} + \\epsilon_{cu} \\sigma_{cy} - \\epsilon_{cy} \\sigma_{cu}\\right) + 4 f_{fu} \\left(E_{f} \\epsilon_{cu} + f_{fu}\\right) \\left(\\epsilon_{\\Delta} \\sigma_{cu} + \\epsilon_{cu} \\sigma_{cy}\\right)}\\right) \\sqrt{\\epsilon_{cu} \\sigma_{cu} + \\epsilon_{cu} \\sigma_{cy} - \\epsilon_{cy} \\sigma_{cu}}}{12 f_{fu} \\left(E_{f} \\epsilon_{cu} + f_{fu}\\right) \\left(E_{f} \\epsilon_{cu} \\sqrt{\\epsilon_{cu} \\sigma_{cu} + \\epsilon_{cu} \\sigma_{cy} - \\epsilon_{cy} \\sigma_{cu}} + \\sqrt{E_{f}^{2} \\epsilon_{cu}^{2} \\left(\\epsilon_{cu} \\sigma_{cu} + \\epsilon_{cu} \\sigma_{cy} - \\epsilon_{cy} \\sigma_{cu}\\right) + 4 f_{fu} \\left(E_{f} \\epsilon_{cu} + f_{fu}\\right) \\left(\\epsilon_{\\Delta} \\sigma_{cu} + \\epsilon_{cu} \\sigma_{cy}\\right)}\\right) \\left(\\epsilon_{\\Delta} \\sigma_{cu} + \\epsilon_{\\Delta} \\sigma_{cy} + \\epsilon_{cy} \\sigma_{cy}\\right)}$"
     },
     "execution_count": 26,
     "metadata": {},
     "output_type": "execute_result"
    }
   ],
   "execution_count": 26
  },
  {
   "cell_type": "code",
   "id": "15f52625-9f00-4668-a96c-fe2c5dceae56",
   "metadata": {
    "ExecuteTime": {
     "end_time": "2024-05-16T10:30:50.517048Z",
     "start_time": "2024-05-16T10:30:50.511611Z"
    }
   },
   "source": [
    "19 * 1.8"
   ],
   "outputs": [
    {
     "data": {
      "text/plain": [
       "34.2"
      ]
     },
     "execution_count": 27,
     "metadata": {},
     "output_type": "execute_result"
    }
   ],
   "execution_count": 27
  },
  {
   "cell_type": "code",
   "id": "cb5608ce-6b14-4766-8b99-4ae6dc0f10ca",
   "metadata": {
    "ExecuteTime": {
     "end_time": "2024-05-16T10:30:50.522136Z",
     "start_time": "2024-05-16T10:30:50.517048Z"
    }
   },
   "source": [
    "1.8 / 8.4"
   ],
   "outputs": [
    {
     "data": {
      "text/plain": [
       "0.21428571428571427"
      ]
     },
     "execution_count": 28,
     "metadata": {},
     "output_type": "execute_result"
    }
   ],
   "execution_count": 28
  },
  {
   "cell_type": "code",
   "id": "accb0bcd-fc4c-4ba0-93d0-a878edf454f0",
   "metadata": {
    "ExecuteTime": {
     "end_time": "2024-05-16T10:30:50.526288Z",
     "start_time": "2024-05-16T10:30:50.522136Z"
    }
   },
   "source": [
    "M_E = sp.symbols('M_E', positive=True)"
   ],
   "outputs": [],
   "execution_count": 29
  },
  {
   "cell_type": "code",
   "id": "ca828d5a-4887-487a-8c93-b7860ed52933",
   "metadata": {
    "ExecuteTime": {
     "end_time": "2024-05-16T10:30:52.727526Z",
     "start_time": "2024-05-16T10:30:50.526288Z"
    }
   },
   "source": [
    "sp.solve(M_u_cu___ - M_E, d)[0]"
   ],
   "outputs": [
    {
     "data": {
      "text/plain": [
       "-sqrt(6)*sqrt(M_E)*sqrt(f_fu)*sqrt((E_f*epsilon_cu*sqrt(epsilon_cu*sigma_cu + epsilon_cu*sigma_cy - epsilon_cy*sigma_cu) + sqrt(E_f**2*epsilon_cu**3*sigma_cu + E_f**2*epsilon_cu**3*sigma_cy - E_f**2*epsilon_cu**2*epsilon_cy*sigma_cu + 4*E_f*epsilon_Delta*epsilon_cu*f_fu*sigma_cu + 4*E_f*epsilon_cu**2*f_fu*sigma_cy + 4*epsilon_Delta*f_fu**2*sigma_cu + 4*epsilon_cu*f_fu**2*sigma_cy))/(E_f**2*epsilon_Delta**2*epsilon_cu**2*sigma_cu**2*sqrt(epsilon_cu*sigma_cu + epsilon_cu*sigma_cy - epsilon_cy*sigma_cu) + 3*E_f**2*epsilon_Delta**2*epsilon_cu**2*sigma_cu*sigma_cy*sqrt(epsilon_cu*sigma_cu + epsilon_cu*sigma_cy - epsilon_cy*sigma_cu) + 2*E_f**2*epsilon_Delta**2*epsilon_cu**2*sigma_cy**2*sqrt(epsilon_cu*sigma_cu + epsilon_cu*sigma_cy - epsilon_cy*sigma_cu) - E_f**2*epsilon_Delta**2*epsilon_cu*epsilon_cy*sigma_cu**2*sqrt(epsilon_cu*sigma_cu + epsilon_cu*sigma_cy - epsilon_cy*sigma_cu) - 2*E_f**2*epsilon_Delta**2*epsilon_cu*epsilon_cy*sigma_cu*sigma_cy*sqrt(epsilon_cu*sigma_cu + epsilon_cu*sigma_cy - epsilon_cy*sigma_cu) + 6*E_f*epsilon_Delta**2*epsilon_cu*f_fu*sigma_cu**2*sqrt(epsilon_cu*sigma_cu + epsilon_cu*sigma_cy - epsilon_cy*sigma_cu) + 6*E_f*epsilon_Delta**2*epsilon_cu*f_fu*sigma_cu*sigma_cy*sqrt(epsilon_cu*sigma_cu + epsilon_cu*sigma_cy - epsilon_cy*sigma_cu) - E_f*epsilon_Delta**2*epsilon_cu*sigma_cu**2*sqrt(E_f**2*epsilon_cu**3*sigma_cu + E_f**2*epsilon_cu**3*sigma_cy - E_f**2*epsilon_cu**2*epsilon_cy*sigma_cu + 4*E_f*epsilon_Delta*epsilon_cu*f_fu*sigma_cu + 4*E_f*epsilon_cu**2*f_fu*sigma_cy + 4*epsilon_Delta*f_fu**2*sigma_cu + 4*epsilon_cu*f_fu**2*sigma_cy) - 3*E_f*epsilon_Delta**2*epsilon_cu*sigma_cu*sigma_cy*sqrt(E_f**2*epsilon_cu**3*sigma_cu + E_f**2*epsilon_cu**3*sigma_cy - E_f**2*epsilon_cu**2*epsilon_cy*sigma_cu + 4*E_f*epsilon_Delta*epsilon_cu*f_fu*sigma_cu + 4*E_f*epsilon_cu**2*f_fu*sigma_cy + 4*epsilon_Delta*f_fu**2*sigma_cu + 4*epsilon_cu*f_fu**2*sigma_cy) - 2*E_f*epsilon_Delta**2*epsilon_cu*sigma_cy**2*sqrt(E_f**2*epsilon_cu**3*sigma_cu + E_f**2*epsilon_cu**3*sigma_cy - E_f**2*epsilon_cu**2*epsilon_cy*sigma_cu + 4*E_f*epsilon_Delta*epsilon_cu*f_fu*sigma_cu + 4*E_f*epsilon_cu**2*f_fu*sigma_cy + 4*epsilon_Delta*f_fu**2*sigma_cu + 4*epsilon_cu*f_fu**2*sigma_cy) + E_f*epsilon_Delta**2*epsilon_cy*sigma_cu**2*sqrt(E_f**2*epsilon_cu**3*sigma_cu + E_f**2*epsilon_cu**3*sigma_cy - E_f**2*epsilon_cu**2*epsilon_cy*sigma_cu + 4*E_f*epsilon_Delta*epsilon_cu*f_fu*sigma_cu + 4*E_f*epsilon_cu**2*f_fu*sigma_cy + 4*epsilon_Delta*f_fu**2*sigma_cu + 4*epsilon_cu*f_fu**2*sigma_cy) + 2*E_f*epsilon_Delta**2*epsilon_cy*sigma_cu*sigma_cy*sqrt(E_f**2*epsilon_cu**3*sigma_cu + E_f**2*epsilon_cu**3*sigma_cy - E_f**2*epsilon_cu**2*epsilon_cy*sigma_cu + 4*E_f*epsilon_Delta*epsilon_cu*f_fu*sigma_cu + 4*E_f*epsilon_cu**2*f_fu*sigma_cy + 4*epsilon_Delta*f_fu**2*sigma_cu + 4*epsilon_cu*f_fu**2*sigma_cy) + 6*E_f*epsilon_Delta*epsilon_cu**2*f_fu*sigma_cu*sigma_cy*sqrt(epsilon_cu*sigma_cu + epsilon_cu*sigma_cy - epsilon_cy*sigma_cu) + 6*E_f*epsilon_Delta*epsilon_cu**2*f_fu*sigma_cy**2*sqrt(epsilon_cu*sigma_cu + epsilon_cu*sigma_cy - epsilon_cy*sigma_cu) + 6*E_f*epsilon_Delta*epsilon_cu*epsilon_cy*f_fu*sigma_cu*sigma_cy*sqrt(epsilon_cu*sigma_cu + epsilon_cu*sigma_cy - epsilon_cy*sigma_cu) - 3*E_f*epsilon_cu**3*epsilon_cy*sigma_cu*sigma_cy*sqrt(epsilon_cu*sigma_cu + epsilon_cu*sigma_cy - epsilon_cy*sigma_cu) - 3*E_f*epsilon_cu**3*epsilon_cy*sigma_cy**2*sqrt(epsilon_cu*sigma_cu + epsilon_cu*sigma_cy - epsilon_cy*sigma_cu) + 5*E_f*epsilon_cu**2*epsilon_cy**2*sigma_cu*sigma_cy*sqrt(epsilon_cu*sigma_cu + epsilon_cu*sigma_cy - epsilon_cy*sigma_cu) + 2*E_f*epsilon_cu**2*epsilon_cy**2*sigma_cy**2*sqrt(epsilon_cu*sigma_cu + epsilon_cu*sigma_cy - epsilon_cy*sigma_cu) + 6*E_f*epsilon_cu**2*epsilon_cy*f_fu*sigma_cy**2*sqrt(epsilon_cu*sigma_cu + epsilon_cu*sigma_cy - epsilon_cy*sigma_cu) - 2*E_f*epsilon_cu*epsilon_cy**3*sigma_cu*sigma_cy*sqrt(epsilon_cu*sigma_cu + epsilon_cu*sigma_cy - epsilon_cy*sigma_cu) + 6*epsilon_Delta**2*f_fu**2*sigma_cu**2*sqrt(epsilon_cu*sigma_cu + epsilon_cu*sigma_cy - epsilon_cy*sigma_cu) + 6*epsilon_Delta**2*f_fu**2*sigma_cu*sigma_cy*sqrt(epsilon_cu*sigma_cu + epsilon_cu*sigma_cy - epsilon_cy*sigma_cu) + 6*epsilon_Delta*epsilon_cu*f_fu**2*sigma_cu*sigma_cy*sqrt(epsilon_cu*sigma_cu + epsilon_cu*sigma_cy - epsilon_cy*sigma_cu) + 6*epsilon_Delta*epsilon_cu*f_fu**2*sigma_cy**2*sqrt(epsilon_cu*sigma_cu + epsilon_cu*sigma_cy - epsilon_cy*sigma_cu) + 6*epsilon_Delta*epsilon_cy*f_fu**2*sigma_cu*sigma_cy*sqrt(epsilon_cu*sigma_cu + epsilon_cu*sigma_cy - epsilon_cy*sigma_cu) + 3*epsilon_cu**2*epsilon_cy*sigma_cu*sigma_cy*sqrt(E_f**2*epsilon_cu**3*sigma_cu + E_f**2*epsilon_cu**3*sigma_cy - E_f**2*epsilon_cu**2*epsilon_cy*sigma_cu + 4*E_f*epsilon_Delta*epsilon_cu*f_fu*sigma_cu + 4*E_f*epsilon_cu**2*f_fu*sigma_cy + 4*epsilon_Delta*f_fu**2*sigma_cu + 4*epsilon_cu*f_fu**2*sigma_cy) + 3*epsilon_cu**2*epsilon_cy*sigma_cy**2*sqrt(E_f**2*epsilon_cu**3*sigma_cu + E_f**2*epsilon_cu**3*sigma_cy - E_f**2*epsilon_cu**2*epsilon_cy*sigma_cu + 4*E_f*epsilon_Delta*epsilon_cu*f_fu*sigma_cu + 4*E_f*epsilon_cu**2*f_fu*sigma_cy + 4*epsilon_Delta*f_fu**2*sigma_cu + 4*epsilon_cu*f_fu**2*sigma_cy) - 5*epsilon_cu*epsilon_cy**2*sigma_cu*sigma_cy*sqrt(E_f**2*epsilon_cu**3*sigma_cu + E_f**2*epsilon_cu**3*sigma_cy - E_f**2*epsilon_cu**2*epsilon_cy*sigma_cu + 4*E_f*epsilon_Delta*epsilon_cu*f_fu*sigma_cu + 4*E_f*epsilon_cu**2*f_fu*sigma_cy + 4*epsilon_Delta*f_fu**2*sigma_cu + 4*epsilon_cu*f_fu**2*sigma_cy) - 2*epsilon_cu*epsilon_cy**2*sigma_cy**2*sqrt(E_f**2*epsilon_cu**3*sigma_cu + E_f**2*epsilon_cu**3*sigma_cy - E_f**2*epsilon_cu**2*epsilon_cy*sigma_cu + 4*E_f*epsilon_Delta*epsilon_cu*f_fu*sigma_cu + 4*E_f*epsilon_cu**2*f_fu*sigma_cy + 4*epsilon_Delta*f_fu**2*sigma_cu + 4*epsilon_cu*f_fu**2*sigma_cy) + 6*epsilon_cu*epsilon_cy*f_fu**2*sigma_cy**2*sqrt(epsilon_cu*sigma_cu + epsilon_cu*sigma_cy - epsilon_cy*sigma_cu) + 2*epsilon_cy**3*sigma_cu*sigma_cy*sqrt(E_f**2*epsilon_cu**3*sigma_cu + E_f**2*epsilon_cu**3*sigma_cy - E_f**2*epsilon_cu**2*epsilon_cy*sigma_cu + 4*E_f*epsilon_Delta*epsilon_cu*f_fu*sigma_cu + 4*E_f*epsilon_cu**2*f_fu*sigma_cy + 4*epsilon_Delta*f_fu**2*sigma_cu + 4*epsilon_cu*f_fu**2*sigma_cy)))*sqrt(E_f*epsilon_cu + f_fu)*sqrt(epsilon_Delta*sigma_cu + epsilon_Delta*sigma_cy + epsilon_cy*sigma_cy)/(sqrt(E_f)*sqrt(b))"
      ],
      "text/latex": "$\\displaystyle - \\frac{\\sqrt{6} \\sqrt{M_{E}} \\sqrt{f_{fu}} \\sqrt{\\frac{E_{f} \\epsilon_{cu} \\sqrt{\\epsilon_{cu} \\sigma_{cu} + \\epsilon_{cu} \\sigma_{cy} - \\epsilon_{cy} \\sigma_{cu}} + \\sqrt{E_{f}^{2} \\epsilon_{cu}^{3} \\sigma_{cu} + E_{f}^{2} \\epsilon_{cu}^{3} \\sigma_{cy} - E_{f}^{2} \\epsilon_{cu}^{2} \\epsilon_{cy} \\sigma_{cu} + 4 E_{f} \\epsilon_{\\Delta} \\epsilon_{cu} f_{fu} \\sigma_{cu} + 4 E_{f} \\epsilon_{cu}^{2} f_{fu} \\sigma_{cy} + 4 \\epsilon_{\\Delta} f_{fu}^{2} \\sigma_{cu} + 4 \\epsilon_{cu} f_{fu}^{2} \\sigma_{cy}}}{E_{f}^{2} \\epsilon_{\\Delta}^{2} \\epsilon_{cu}^{2} \\sigma_{cu}^{2} \\sqrt{\\epsilon_{cu} \\sigma_{cu} + \\epsilon_{cu} \\sigma_{cy} - \\epsilon_{cy} \\sigma_{cu}} + 3 E_{f}^{2} \\epsilon_{\\Delta}^{2} \\epsilon_{cu}^{2} \\sigma_{cu} \\sigma_{cy} \\sqrt{\\epsilon_{cu} \\sigma_{cu} + \\epsilon_{cu} \\sigma_{cy} - \\epsilon_{cy} \\sigma_{cu}} + 2 E_{f}^{2} \\epsilon_{\\Delta}^{2} \\epsilon_{cu}^{2} \\sigma_{cy}^{2} \\sqrt{\\epsilon_{cu} \\sigma_{cu} + \\epsilon_{cu} \\sigma_{cy} - \\epsilon_{cy} \\sigma_{cu}} - E_{f}^{2} \\epsilon_{\\Delta}^{2} \\epsilon_{cu} \\epsilon_{cy} \\sigma_{cu}^{2} \\sqrt{\\epsilon_{cu} \\sigma_{cu} + \\epsilon_{cu} \\sigma_{cy} - \\epsilon_{cy} \\sigma_{cu}} - 2 E_{f}^{2} \\epsilon_{\\Delta}^{2} \\epsilon_{cu} \\epsilon_{cy} \\sigma_{cu} \\sigma_{cy} \\sqrt{\\epsilon_{cu} \\sigma_{cu} + \\epsilon_{cu} \\sigma_{cy} - \\epsilon_{cy} \\sigma_{cu}} + 6 E_{f} \\epsilon_{\\Delta}^{2} \\epsilon_{cu} f_{fu} \\sigma_{cu}^{2} \\sqrt{\\epsilon_{cu} \\sigma_{cu} + \\epsilon_{cu} \\sigma_{cy} - \\epsilon_{cy} \\sigma_{cu}} + 6 E_{f} \\epsilon_{\\Delta}^{2} \\epsilon_{cu} f_{fu} \\sigma_{cu} \\sigma_{cy} \\sqrt{\\epsilon_{cu} \\sigma_{cu} + \\epsilon_{cu} \\sigma_{cy} - \\epsilon_{cy} \\sigma_{cu}} - E_{f} \\epsilon_{\\Delta}^{2} \\epsilon_{cu} \\sigma_{cu}^{2} \\sqrt{E_{f}^{2} \\epsilon_{cu}^{3} \\sigma_{cu} + E_{f}^{2} \\epsilon_{cu}^{3} \\sigma_{cy} - E_{f}^{2} \\epsilon_{cu}^{2} \\epsilon_{cy} \\sigma_{cu} + 4 E_{f} \\epsilon_{\\Delta} \\epsilon_{cu} f_{fu} \\sigma_{cu} + 4 E_{f} \\epsilon_{cu}^{2} f_{fu} \\sigma_{cy} + 4 \\epsilon_{\\Delta} f_{fu}^{2} \\sigma_{cu} + 4 \\epsilon_{cu} f_{fu}^{2} \\sigma_{cy}} - 3 E_{f} \\epsilon_{\\Delta}^{2} \\epsilon_{cu} \\sigma_{cu} \\sigma_{cy} \\sqrt{E_{f}^{2} \\epsilon_{cu}^{3} \\sigma_{cu} + E_{f}^{2} \\epsilon_{cu}^{3} \\sigma_{cy} - E_{f}^{2} \\epsilon_{cu}^{2} \\epsilon_{cy} \\sigma_{cu} + 4 E_{f} \\epsilon_{\\Delta} \\epsilon_{cu} f_{fu} \\sigma_{cu} + 4 E_{f} \\epsilon_{cu}^{2} f_{fu} \\sigma_{cy} + 4 \\epsilon_{\\Delta} f_{fu}^{2} \\sigma_{cu} + 4 \\epsilon_{cu} f_{fu}^{2} \\sigma_{cy}} - 2 E_{f} \\epsilon_{\\Delta}^{2} \\epsilon_{cu} \\sigma_{cy}^{2} \\sqrt{E_{f}^{2} \\epsilon_{cu}^{3} \\sigma_{cu} + E_{f}^{2} \\epsilon_{cu}^{3} \\sigma_{cy} - E_{f}^{2} \\epsilon_{cu}^{2} \\epsilon_{cy} \\sigma_{cu} + 4 E_{f} \\epsilon_{\\Delta} \\epsilon_{cu} f_{fu} \\sigma_{cu} + 4 E_{f} \\epsilon_{cu}^{2} f_{fu} \\sigma_{cy} + 4 \\epsilon_{\\Delta} f_{fu}^{2} \\sigma_{cu} + 4 \\epsilon_{cu} f_{fu}^{2} \\sigma_{cy}} + E_{f} \\epsilon_{\\Delta}^{2} \\epsilon_{cy} \\sigma_{cu}^{2} \\sqrt{E_{f}^{2} \\epsilon_{cu}^{3} \\sigma_{cu} + E_{f}^{2} \\epsilon_{cu}^{3} \\sigma_{cy} - E_{f}^{2} \\epsilon_{cu}^{2} \\epsilon_{cy} \\sigma_{cu} + 4 E_{f} \\epsilon_{\\Delta} \\epsilon_{cu} f_{fu} \\sigma_{cu} + 4 E_{f} \\epsilon_{cu}^{2} f_{fu} \\sigma_{cy} + 4 \\epsilon_{\\Delta} f_{fu}^{2} \\sigma_{cu} + 4 \\epsilon_{cu} f_{fu}^{2} \\sigma_{cy}} + 2 E_{f} \\epsilon_{\\Delta}^{2} \\epsilon_{cy} \\sigma_{cu} \\sigma_{cy} \\sqrt{E_{f}^{2} \\epsilon_{cu}^{3} \\sigma_{cu} + E_{f}^{2} \\epsilon_{cu}^{3} \\sigma_{cy} - E_{f}^{2} \\epsilon_{cu}^{2} \\epsilon_{cy} \\sigma_{cu} + 4 E_{f} \\epsilon_{\\Delta} \\epsilon_{cu} f_{fu} \\sigma_{cu} + 4 E_{f} \\epsilon_{cu}^{2} f_{fu} \\sigma_{cy} + 4 \\epsilon_{\\Delta} f_{fu}^{2} \\sigma_{cu} + 4 \\epsilon_{cu} f_{fu}^{2} \\sigma_{cy}} + 6 E_{f} \\epsilon_{\\Delta} \\epsilon_{cu}^{2} f_{fu} \\sigma_{cu} \\sigma_{cy} \\sqrt{\\epsilon_{cu} \\sigma_{cu} + \\epsilon_{cu} \\sigma_{cy} - \\epsilon_{cy} \\sigma_{cu}} + 6 E_{f} \\epsilon_{\\Delta} \\epsilon_{cu}^{2} f_{fu} \\sigma_{cy}^{2} \\sqrt{\\epsilon_{cu} \\sigma_{cu} + \\epsilon_{cu} \\sigma_{cy} - \\epsilon_{cy} \\sigma_{cu}} + 6 E_{f} \\epsilon_{\\Delta} \\epsilon_{cu} \\epsilon_{cy} f_{fu} \\sigma_{cu} \\sigma_{cy} \\sqrt{\\epsilon_{cu} \\sigma_{cu} + \\epsilon_{cu} \\sigma_{cy} - \\epsilon_{cy} \\sigma_{cu}} - 3 E_{f} \\epsilon_{cu}^{3} \\epsilon_{cy} \\sigma_{cu} \\sigma_{cy} \\sqrt{\\epsilon_{cu} \\sigma_{cu} + \\epsilon_{cu} \\sigma_{cy} - \\epsilon_{cy} \\sigma_{cu}} - 3 E_{f} \\epsilon_{cu}^{3} \\epsilon_{cy} \\sigma_{cy}^{2} \\sqrt{\\epsilon_{cu} \\sigma_{cu} + \\epsilon_{cu} \\sigma_{cy} - \\epsilon_{cy} \\sigma_{cu}} + 5 E_{f} \\epsilon_{cu}^{2} \\epsilon_{cy}^{2} \\sigma_{cu} \\sigma_{cy} \\sqrt{\\epsilon_{cu} \\sigma_{cu} + \\epsilon_{cu} \\sigma_{cy} - \\epsilon_{cy} \\sigma_{cu}} + 2 E_{f} \\epsilon_{cu}^{2} \\epsilon_{cy}^{2} \\sigma_{cy}^{2} \\sqrt{\\epsilon_{cu} \\sigma_{cu} + \\epsilon_{cu} \\sigma_{cy} - \\epsilon_{cy} \\sigma_{cu}} + 6 E_{f} \\epsilon_{cu}^{2} \\epsilon_{cy} f_{fu} \\sigma_{cy}^{2} \\sqrt{\\epsilon_{cu} \\sigma_{cu} + \\epsilon_{cu} \\sigma_{cy} - \\epsilon_{cy} \\sigma_{cu}} - 2 E_{f} \\epsilon_{cu} \\epsilon_{cy}^{3} \\sigma_{cu} \\sigma_{cy} \\sqrt{\\epsilon_{cu} \\sigma_{cu} + \\epsilon_{cu} \\sigma_{cy} - \\epsilon_{cy} \\sigma_{cu}} + 6 \\epsilon_{\\Delta}^{2} f_{fu}^{2} \\sigma_{cu}^{2} \\sqrt{\\epsilon_{cu} \\sigma_{cu} + \\epsilon_{cu} \\sigma_{cy} - \\epsilon_{cy} \\sigma_{cu}} + 6 \\epsilon_{\\Delta}^{2} f_{fu}^{2} \\sigma_{cu} \\sigma_{cy} \\sqrt{\\epsilon_{cu} \\sigma_{cu} + \\epsilon_{cu} \\sigma_{cy} - \\epsilon_{cy} \\sigma_{cu}} + 6 \\epsilon_{\\Delta} \\epsilon_{cu} f_{fu}^{2} \\sigma_{cu} \\sigma_{cy} \\sqrt{\\epsilon_{cu} \\sigma_{cu} + \\epsilon_{cu} \\sigma_{cy} - \\epsilon_{cy} \\sigma_{cu}} + 6 \\epsilon_{\\Delta} \\epsilon_{cu} f_{fu}^{2} \\sigma_{cy}^{2} \\sqrt{\\epsilon_{cu} \\sigma_{cu} + \\epsilon_{cu} \\sigma_{cy} - \\epsilon_{cy} \\sigma_{cu}} + 6 \\epsilon_{\\Delta} \\epsilon_{cy} f_{fu}^{2} \\sigma_{cu} \\sigma_{cy} \\sqrt{\\epsilon_{cu} \\sigma_{cu} + \\epsilon_{cu} \\sigma_{cy} - \\epsilon_{cy} \\sigma_{cu}} + 3 \\epsilon_{cu}^{2} \\epsilon_{cy} \\sigma_{cu} \\sigma_{cy} \\sqrt{E_{f}^{2} \\epsilon_{cu}^{3} \\sigma_{cu} + E_{f}^{2} \\epsilon_{cu}^{3} \\sigma_{cy} - E_{f}^{2} \\epsilon_{cu}^{2} \\epsilon_{cy} \\sigma_{cu} + 4 E_{f} \\epsilon_{\\Delta} \\epsilon_{cu} f_{fu} \\sigma_{cu} + 4 E_{f} \\epsilon_{cu}^{2} f_{fu} \\sigma_{cy} + 4 \\epsilon_{\\Delta} f_{fu}^{2} \\sigma_{cu} + 4 \\epsilon_{cu} f_{fu}^{2} \\sigma_{cy}} + 3 \\epsilon_{cu}^{2} \\epsilon_{cy} \\sigma_{cy}^{2} \\sqrt{E_{f}^{2} \\epsilon_{cu}^{3} \\sigma_{cu} + E_{f}^{2} \\epsilon_{cu}^{3} \\sigma_{cy} - E_{f}^{2} \\epsilon_{cu}^{2} \\epsilon_{cy} \\sigma_{cu} + 4 E_{f} \\epsilon_{\\Delta} \\epsilon_{cu} f_{fu} \\sigma_{cu} + 4 E_{f} \\epsilon_{cu}^{2} f_{fu} \\sigma_{cy} + 4 \\epsilon_{\\Delta} f_{fu}^{2} \\sigma_{cu} + 4 \\epsilon_{cu} f_{fu}^{2} \\sigma_{cy}} - 5 \\epsilon_{cu} \\epsilon_{cy}^{2} \\sigma_{cu} \\sigma_{cy} \\sqrt{E_{f}^{2} \\epsilon_{cu}^{3} \\sigma_{cu} + E_{f}^{2} \\epsilon_{cu}^{3} \\sigma_{cy} - E_{f}^{2} \\epsilon_{cu}^{2} \\epsilon_{cy} \\sigma_{cu} + 4 E_{f} \\epsilon_{\\Delta} \\epsilon_{cu} f_{fu} \\sigma_{cu} + 4 E_{f} \\epsilon_{cu}^{2} f_{fu} \\sigma_{cy} + 4 \\epsilon_{\\Delta} f_{fu}^{2} \\sigma_{cu} + 4 \\epsilon_{cu} f_{fu}^{2} \\sigma_{cy}} - 2 \\epsilon_{cu} \\epsilon_{cy}^{2} \\sigma_{cy}^{2} \\sqrt{E_{f}^{2} \\epsilon_{cu}^{3} \\sigma_{cu} + E_{f}^{2} \\epsilon_{cu}^{3} \\sigma_{cy} - E_{f}^{2} \\epsilon_{cu}^{2} \\epsilon_{cy} \\sigma_{cu} + 4 E_{f} \\epsilon_{\\Delta} \\epsilon_{cu} f_{fu} \\sigma_{cu} + 4 E_{f} \\epsilon_{cu}^{2} f_{fu} \\sigma_{cy} + 4 \\epsilon_{\\Delta} f_{fu}^{2} \\sigma_{cu} + 4 \\epsilon_{cu} f_{fu}^{2} \\sigma_{cy}} + 6 \\epsilon_{cu} \\epsilon_{cy} f_{fu}^{2} \\sigma_{cy}^{2} \\sqrt{\\epsilon_{cu} \\sigma_{cu} + \\epsilon_{cu} \\sigma_{cy} - \\epsilon_{cy} \\sigma_{cu}} + 2 \\epsilon_{cy}^{3} \\sigma_{cu} \\sigma_{cy} \\sqrt{E_{f}^{2} \\epsilon_{cu}^{3} \\sigma_{cu} + E_{f}^{2} \\epsilon_{cu}^{3} \\sigma_{cy} - E_{f}^{2} \\epsilon_{cu}^{2} \\epsilon_{cy} \\sigma_{cu} + 4 E_{f} \\epsilon_{\\Delta} \\epsilon_{cu} f_{fu} \\sigma_{cu} + 4 E_{f} \\epsilon_{cu}^{2} f_{fu} \\sigma_{cy} + 4 \\epsilon_{\\Delta} f_{fu}^{2} \\sigma_{cu} + 4 \\epsilon_{cu} f_{fu}^{2} \\sigma_{cy}}}} \\sqrt{E_{f} \\epsilon_{cu} + f_{fu}} \\sqrt{\\epsilon_{\\Delta} \\sigma_{cu} + \\epsilon_{\\Delta} \\sigma_{cy} + \\epsilon_{cy} \\sigma_{cy}}}{\\sqrt{E_{f}} \\sqrt{b}}$"
     },
     "execution_count": 30,
     "metadata": {},
     "output_type": "execute_result"
    }
   ],
   "execution_count": 30
  },
  {
   "cell_type": "code",
   "id": "c4aa0caf-5e64-444a-8ed9-ed1e9a693e94",
   "metadata": {
    "ExecuteTime": {
     "end_time": "2024-05-16T10:30:52.734134Z",
     "start_time": "2024-05-16T10:30:52.727526Z"
    }
   },
   "source": [
    "p_0 = E_f * eps_cu\n",
    "p_1 = 3 * eps_cu * f_fu\n",
    "p_2 = sig_cu * eps_cy\n",
    "p_3 = E_f * eps_cu**2\n",
    "p_4 = (- E_f * sig_cu * eps_cy**2 + eps_cu * p_1 + 2 * sig_cu * p_3 + sig_cy * eps_cy * p_0 +\n",
    "       sig_cy * p_1 + sig_cy * p_3 - p_0 * p_2 - 3 * f_fu * p_2\n",
    "      )"
   ],
   "outputs": [],
   "execution_count": 31
  },
  {
   "cell_type": "code",
   "id": "5aa6f313-a032-4fc6-bd35-42ef81f49903",
   "metadata": {
    "ExecuteTime": {
     "end_time": "2024-05-16T13:55:55.792489Z",
     "start_time": "2024-05-16T13:55:55.738222Z"
    }
   },
   "source": "sp.simplify(p_4)",
   "outputs": [
    {
     "data": {
      "text/plain": [
       "2*E_f*epsilon_cu**2*sigma_cu + E_f*epsilon_cu**2*sigma_cy - E_f*epsilon_cu*epsilon_cy*sigma_cu + E_f*epsilon_cu*epsilon_cy*sigma_cy - E_f*epsilon_cy**2*sigma_cu + 3*epsilon_cu**2*f_fu + 3*epsilon_cu*f_fu*sigma_cy - 3*epsilon_cy*f_fu*sigma_cu"
      ],
      "text/latex": "$\\displaystyle 2 E_{f} \\epsilon_{cu}^{2} \\sigma_{cu} + E_{f} \\epsilon_{cu}^{2} \\sigma_{cy} - E_{f} \\epsilon_{cu} \\epsilon_{cy} \\sigma_{cu} + E_{f} \\epsilon_{cu} \\epsilon_{cy} \\sigma_{cy} - E_{f} \\epsilon_{cy}^{2} \\sigma_{cu} + 3 \\epsilon_{cu}^{2} f_{fu} + 3 \\epsilon_{cu} f_{fu} \\sigma_{cy} - 3 \\epsilon_{cy} f_{fu} \\sigma_{cu}$"
     },
     "execution_count": 39,
     "metadata": {},
     "output_type": "execute_result"
    }
   ],
   "execution_count": 39
  },
  {
   "cell_type": "code",
   "id": "1bd9ff6f-3913-43ac-b37c-d575d9267927",
   "metadata": {
    "ExecuteTime": {
     "end_time": "2024-05-16T10:30:52.794784Z",
     "start_time": "2024-05-16T10:30:52.792631Z"
    }
   },
   "source": [],
   "outputs": [],
   "execution_count": 32
  }
 ],
 "metadata": {
  "kernelspec": {
   "display_name": "Python 3 (ipykernel)",
   "language": "python",
   "name": "python3"
  },
  "language_info": {
   "codemirror_mode": {
    "name": "ipython",
    "version": 3
   },
   "file_extension": ".py",
   "mimetype": "text/x-python",
   "name": "python",
   "nbconvert_exporter": "python",
   "pygments_lexer": "ipython3"
  }
 },
 "nbformat": 4,
 "nbformat_minor": 5
}
