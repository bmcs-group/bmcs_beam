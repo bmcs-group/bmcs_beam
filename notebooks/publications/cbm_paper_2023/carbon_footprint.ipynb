{
 "cells": [
  {
   "cell_type": "markdown",
   "id": "88cc993d-e485-484a-bb35-1c2ee0b40cc5",
   "metadata": {},
   "source": [
    "# Relation between utilization and carbon footprint"
   ]
  },
  {
   "cell_type": "markdown",
   "id": "52f4431f-4196-43ae-b7e9-ef0e7246c974",
   "metadata": {},
   "source": [
    "In structural concrete design, a most frequent design task is to ensure a sufficient flexural capacity of a reinforced beam. This task is done by balancing the tensile capacity of the reinforcement with the compression capacity of the concrete section to deliver the required ultimate bending moment."
   ]
  },
  {
   "cell_type": "markdown",
   "id": "e4804aad-a806-4429-8f34-f584b43a258d",
   "metadata": {},
   "source": [
    "This can be seen in analogy to a weakest link structure with two elements. If one element is much weaker, the strength of the stronger element will remain unutilized upon the ultimate failure of the chain."
   ]
  },
  {
   "attachments": {
    "293e1242-2212-4d6d-95c2-685c5edbfda8.png": {
     "image/png": "[encoded data removed]"
    }
   },
   "cell_type": "markdown",
   "id": "993b0b08-f9d0-433e-ae1d-5421164c24dc",
   "metadata": {},
   "source": [
    "![image.png](attachment:293e1242-2212-4d6d-95c2-685c5edbfda8.png)"
   ]
  },
  {
   "cell_type": "markdown",
   "id": "89a3500c-d659-4d4b-9649-445348c17cb0",
   "metadata": {},
   "source": [
    "The utilization level of a material component is given as the ratio of the stress achieved at failure in the critical cross section to the \n",
    "material strength\n",
    "$$\n",
    "\\psi_\\mathrm{c,u} = \\frac{\\sigma_\\mathrm{c,u}}{f_\\mathrm{cm}}\n",
    "$$"
   ]
  },
  {
   "cell_type": "markdown",
   "id": "ba6a04a1-7a69-46d6-8471-63d34aa05b7a",
   "metadata": {},
   "source": [
    "The maximum stress is a function of design and material paramters, i.e. $\\sigma_\\mathrm{c,u}(\\rho)$ "
   ]
  },
  {
   "cell_type": "markdown",
   "id": "392e7bc4-f1c3-4728-b588-5580d2a8d6ac",
   "metadata": {},
   "source": [
    "What is the carbon footprint of 1 MPa strength? At the material level, assuming a uniform stress state in a unit volume, it is equivalent to carbon footprint of a unit material volume. \n",
    "$\\eta_{\\mathrm{CO}_2}$ [kg$_{\\mathrm{CO}_2}$/m$^3$]"
   ]
  },
  {
   "cell_type": "markdown",
   "id": "83feaf50-54d6-4260-8703-a8207991688d",
   "metadata": {},
   "source": [
    "# GWP deficit"
   ]
  },
  {
   "cell_type": "markdown",
   "id": "c45b2b83-6a1f-402f-afca-e2b6d44c79e0",
   "metadata": {},
   "source": [
    "Assuming there is a known utilization of the individual material components in terms of their strength let us \n",
    "try to relate the utilization ratios to the carbon footprint in terms of global warming potential [kg equiv CO2]"
   ]
  },
  {
   "cell_type": "markdown",
   "id": "097730e4-6c9b-4063-843e-dc4ed7f05bb1",
   "metadata": {},
   "source": [
    "If two material components are used in a chain, i.e. serial coupling, the component which fails decides about the material utilization. \n",
    "If this component is cheep the price for underutilization is small and vice versa."
   ]
  },
  {
   "cell_type": "markdown",
   "id": "f3c359fe-db13-4ed4-816f-ea79186c12e3",
   "metadata": {},
   "source": [
    "The failing component is fully utilized while the other component reached only a small fraction of its strength.\n",
    "Thus, one possible way to introduce a composite indicator of non-sustainability or GWP deficit of such a system is \n",
    "$$\n",
    " \\Delta \\eta_{\\mathrm{CO}_2} = \n",
    " (1 - \\psi_r(f_{\\mathrm{r}})) \\, \\rho \\, \\eta_r(f_{\\mathrm{r}})  \n",
    " + (1 - \\psi_c(f_{\\mathrm{c}})) \\, (1 - \\rho) \\, \\eta_c(f_{\\mathrm{c}})\n",
    "$$"
   ]
  },
  {
   "cell_type": "markdown",
   "id": "d257f592-19ed-47e2-9f4a-fb01bfe8bdd8",
   "metadata": {},
   "source": [
    "For a balanced reinforcement ratio, this value is zero. The derived parameter can be regarded as an avoidable GWP of a non-ballanced design."
   ]
  },
  {
   "cell_type": "markdown",
   "id": "9de3acfd-3260-4894-8fe4-a582f258f550",
   "metadata": {},
   "source": [
    "Note, that material strength is a function of embodied carbon footprint i.e. $f(\\eta)$. - The GWP deficit is  controlled by the ultimate failure of the material, i.e. strength $\\sigma_\\mathrm{i}$. However, a product is controlled by requried function which determines the level of the maximum stress $\\sigma$ occurring during the history. "
   ]
  },
  {
   "cell_type": "markdown",
   "id": "801232c6-2403-40c9-aabd-321a058651ec",
   "metadata": {},
   "source": [
    "# Total specific GWP\n",
    "\n",
    "The mixture rule can be used to obtain the specific GWP of a serial system\n",
    "$$\n",
    " \\eta^\\mathrm{tot}_{\\mathrm{CO}_2} = \\rho \\eta_\\mathrm{r}(f_\\mathrm{r})\n",
    "  + (1-\\rho) \\eta_\\mathrm{c}(f_\\mathrm{c})\n",
    "$$"
   ]
  },
  {
   "cell_type": "markdown",
   "id": "07af5bbd-2408-4f12-9dbe-d414f9323bf8",
   "metadata": {},
   "source": [
    "This is the objective function to be minimized in the design."
   ]
  },
  {
   "cell_type": "markdown",
   "id": "137a4018-7760-4a14-930f-d710a86f97b6",
   "metadata": {
    "tags": []
   },
   "source": [
    " - The GWP deficit is  controlled by the ultimate failure of the material, i.e. strength $\\sigma_\\mathrm{i}$. However, a product is controlled by requried function which determines the level of the maximum stress $\\sigma$ occurring during the history. "
   ]
  },
  {
   "cell_type": "markdown",
   "id": "094db2ee-8918-408d-9480-713bd7752b4f",
   "metadata": {},
   "source": [
    "# Utilized fraction of GWP"
   ]
  },
  {
   "cell_type": "markdown",
   "id": "85c1d238-ae1b-4f6b-914d-6467f7252ce1",
   "metadata": {},
   "source": [
    "$$\n",
    "\\eta^\\mathrm{util}_{\\mathrm{CO}_2}= \n",
    "\\eta^\\mathrm{tot}_{\\mathrm{CO}_2}\n",
    "- \\Delta \\eta_{\\mathrm{CO}_2}\n",
    "$$\n",
    "rendering after substitution\n",
    "$$\n",
    " \\eta^\\mathrm{util}_{\\mathrm{CO}_2} = \n",
    " \\psi_r(f_{\\mathrm{r}}) \\, \\rho \\, \\eta_r(f_{\\mathrm{r}})  \n",
    " + \\psi_c(f_{\\mathrm{c}}) \\, (1 - \\rho) \\, \\eta_c(f_{\\mathrm{c}})\n",
    "$$"
   ]
  },
  {
   "cell_type": "markdown",
   "id": "6dcf4ba0-d125-4b30-9d3a-24c9676571bc",
   "metadata": {
    "tags": []
   },
   "source": [
    "representing the amount of emissions that has been used to really achieved the function - in this case the failure of the material."
   ]
  },
  {
   "cell_type": "markdown",
   "id": "5482f6ef-20ad-44cd-80b0-7133b6a86f78",
   "metadata": {},
   "source": [
    "# Optimization problem\n",
    "\n",
    "$$\n",
    "\\min \\left(v_p \\cdot \\eta^\\mathrm{tot}_{\\mathrm{CO}_2}(f_p)\\right)\n",
    "\\; \\land \\; \\forall \\psi_\\mathrm{p}(\\sigma, v_p, f_p) \\leq 1\n",
    "$$"
   ]
  },
  {
   "cell_type": "markdown",
   "id": "ddfa4881-cfa4-4f15-8ff0-5c5c1ccfe16a",
   "metadata": {},
   "source": [
    "which can be transformed to\n",
    "$$\n",
    "\\mathcal{L}(v_p, f_p, \\lambda_p) = \n",
    "\\eta^\\mathrm{tot}_{\\mathrm{CO}_2}(v_p, f_p)\n",
    "+ \\lambda_p (\\psi_\\mathrm{p}(\\sigma, f_p) - 1\n",
    "$$\n",
    "while\n",
    "$$\n",
    "\\lambda_p \\geq 0 \\land \\psi_\\mathrm{p}(\\sigma, f_p) - 1) \\leq 0 \\land\n",
    "\\lambda_p \\psi_\\mathrm{p}(\\sigma, f_p) - 1 = 0) \n",
    "$$"
   ]
  },
  {
   "cell_type": "markdown",
   "id": "098a0fa8-0462-428b-8dc6-734ad1162adb",
   "metadata": {},
   "source": []
  },
  {
   "cell_type": "markdown",
   "id": "12ad6f6c-cd23-43d7-b6bd-24f600835905",
   "metadata": {},
   "source": [
    "In order to compare the performance of different types of materials, i.e. carbon- versus steel-reinforced concrete solution, the above measure cannot be used directly."
   ]
  },
  {
   "cell_type": "markdown",
   "id": "e7cd473a-e7b4-475a-894d-94dcf27a3362",
   "metadata": {},
   "source": [
    "# Functional requirement"
   ]
  },
  {
   "cell_type": "markdown",
   "id": "54b72b5d-3def-4f41-9d46-988ad115ec81",
   "metadata": {},
   "source": [
    "Another parameter entering the game is the true quantitative function required to achieve the performance, in this case the service load $\\sigma$."
   ]
  },
  {
   "cell_type": "markdown",
   "id": "ca4792c1-b17b-43e5-9a03-ad719f192288",
   "metadata": {},
   "source": [
    "While the above definition assumes the state at utilization be given by a failure of the weakest link in the serial system, let us introduce this level of utilization at a prescribed service load as "
   ]
  },
  {
   "cell_type": "markdown",
   "id": "37b0cfa0-5d09-4d6f-8f53-19ed0c32cc61",
   "metadata": {},
   "source": [
    "$$\n",
    "\\psi_\\mathrm{c}(\\sigma) = \\frac{ \\sigma^{\\max}_{\\mathrm{c}}(\\sigma) }{f_\\mathrm{cm}}\n",
    "$$"
   ]
  },
  {
   "cell_type": "markdown",
   "id": "77d93318-884b-48f0-bffd-a518dad835fb",
   "metadata": {},
   "source": [
    "The utilization can be also considerd as a limit state function as"
   ]
  },
  {
   "cell_type": "markdown",
   "id": "d0cb8943-d91f-4dd5-ba6f-2b18e3eb243d",
   "metadata": {},
   "source": [
    "Assuming that implicitly\n",
    "$$\n",
    " \\sigma^{\\max}_\\mathrm{c}(\\sigma) \\leq \n",
    "f_\\mathrm{cm} \\; \\implies \\;\n",
    " \\psi_\\mathrm{c}(\\sigma) \\leq 1, \\; \\forall \\sigma \\in (0, \\sigma_\\mathrm{u} )\n",
    "$$"
   ]
  },
  {
   "cell_type": "markdown",
   "id": "da96e924-02cf-4b82-bcc6-70df8f7dd342",
   "metadata": {},
   "source": [
    "# Environmental efficiency"
   ]
  }
 ],
 "metadata": {
  "kernelspec": {
   "display_name": "bmcs_env2",
   "language": "python",
   "name": "bmcs_env2"
  },
  "language_info": {
   "codemirror_mode": {
    "name": "ipython",
    "version": 3
   },
   "file_extension": ".py",
   "mimetype": "text/x-python",
   "name": "python",
   "nbconvert_exporter": "python",
   "pygments_lexer": "ipython3"
  }
 },
 "nbformat": 4,
 "nbformat_minor": 5
}
