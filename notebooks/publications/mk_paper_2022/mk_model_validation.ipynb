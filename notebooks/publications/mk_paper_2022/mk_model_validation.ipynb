{
 "cells": [
  {
   "cell_type": "markdown",
   "metadata": {
    "pycharm": {
     "name": "#%% md\n"
    }
   },
   "source": [
    "# Moment-Curvature Validation\n"
   ]
  },
  {
   "cell_type": "code",
   "execution_count": 1,
   "metadata": {
    "pycharm": {
     "name": "#%%\n"
    }
   },
   "outputs": [],
   "source": [
    "%matplotlib widget\n",
    "from bmcs_cross_section.api import ReinfLayer, BarLayer, EC2, MKappa, TShape\n",
    "import bmcs_utils.api as bu\n",
    "import matplotlib.pyplot as plt\n",
    "from os.path import join\n",
    "import pandas as pd\n",
    "import numpy as np"
   ]
  },
  {
   "cell_type": "code",
   "execution_count": 2,
   "metadata": {
    "pycharm": {
     "name": "#%%\n"
    }
   },
   "outputs": [],
   "source": [
    "bu.set_latex_mpl_format()\n",
    "plot_colors = bu.plot_colors\n",
    "\n",
    "def plot_mk_ver(mc, ver_data, test_name, title=None, ax=None, color_i=0):\n",
    "    if ax is None:\n",
    "        fig, ax = plt.subplots(figsize=(5, 5))\n",
    "    mc.plot_mk(ax, dashed=True, color=plot_colors[color_i])\n",
    "    k = ver_data[0]\n",
    "    m = ver_data[1]\n",
    "    ax.plot(k, m, c=plot_colors[color_i], label= 'Exp. (' + test_name + ')')\n",
    "    if title is not None:\n",
    "        ax.set_title(title)\n",
    "    ax.legend()\n",
    "    if 'fig' in locals():\n",
    "        return fig, ax\n",
    "\n",
    "def make_mc(form='rectangular', B=200, H=200, \n",
    "            material_r1='steel', E_r1=200000, high_kappa = 0.00005,\n",
    "            f_cm=40, matrix = 'EC2', eps_cr = None, eps_cy=None, eps_cu=None, eps_tu=None, mu=None, E_cc=None, E_ct=None,\n",
    "            f_ctm=None,\n",
    "            z_r1=10,\n",
    "            A_r1=100,\n",
    "            f_t_r1=None,\n",
    "            f_sy_r1=500,\n",
    "            f_st_r1=None,\n",
    "            eps_ud_r1=0.025,\n",
    "            material_r2=None, \n",
    "            z_r2=None, \n",
    "            A_r2=None,\n",
    "            E_r2=None,\n",
    "            f_t_r2=None,\n",
    "            f_sy_r2=None,\n",
    "            f_st_r2=None,\n",
    "            eps_ud_r2=0.025,\n",
    "            n_kappa=200, n_m = 200, slider=None):\n",
    "    \n",
    "    mc = MKappa(low_kappa=0, \n",
    "                high_kappa=high_kappa,\n",
    "                n_m=n_m,\n",
    "                n_kappa=n_kappa)\n",
    "    \n",
    "    mc.cs_design.matrix = matrix\n",
    "    if slider is not None:\n",
    "        mc.kappa_slider = slider\n",
    "    \n",
    "    if form=='rectangular':\n",
    "        mc.cross_section_shape_.B = B\n",
    "        mc.cross_section_shape_.H = H\n",
    "    \n",
    "    if matrix == 'piecewise linear':\n",
    "        mc.cs_design.matrix_.trait_set(\n",
    "        eps_cy = eps_cy,\n",
    "        eps_cu = eps_cu,\n",
    "    )\n",
    "    else:\n",
    "        mc.cs_design.matrix_.f_cm=f_cm\n",
    "        \n",
    "    if eps_tu is not None:\n",
    "        mc.cs_design.matrix_.eps_tu = eps_tu\n",
    "    if eps_cr is not None:\n",
    "        mc.cs_design.matrix_.eps_cr = eps_cr\n",
    "    if mu is not None:\n",
    "        mc.cs_design.matrix_.mu = mu\n",
    "    if E_cc is not None:\n",
    "        mc.cs_design.matrix_.E_cc = E_cc\n",
    "    if E_ct is not None:\n",
    "        mc.cs_design.matrix_.E_ct = E_ct\n",
    "    \n",
    "    bl1 = ReinfLayer(name='layer1', z=z_r1, A=A_r1, matmod=material_r1)\n",
    "    if material_r1 == 'carbon':\n",
    "        bl1.matmod_.trait_set(E=E_r1,f_t=f_t_r1)\n",
    "    if material_r1 == 'steel':\n",
    "        bl1.matmod_.trait_set(E_s=E_r1, f_sy=f_sy_r1, eps_ud = eps_ud_r1, f_st=1.05*f_sy_r1 if f_st_r1 is None else f_st_r1)\n",
    "    mc.cross_section_layout.add_layer(bl1)\n",
    "    \n",
    "    if material_r2 is not None:\n",
    "        bl2 = ReinfLayer(name='layer2', z=z_r2, A=A_r2, matmod=material_r2)\n",
    "        if material_r2 == 'carbon':\n",
    "            bl2.matmod_.trait_set(E=E_r2,f_t=f_t_r2)\n",
    "        if material_r2 == 'steel':\n",
    "            bl2.matmod_.trait_set(E_s=E_r2, f_sy=f_sy_r2, eps_ud = eps_ud_r2, f_st=1.05*f_sy_r2 if f_st_r2 is None else f_st_r2)\n",
    "        mc.cross_section_layout.add_layer(bl2)\n",
    "    \n",
    "    return mc\n",
    "\n",
    "def get_data(element1, xlsx_file, k, m, element2=False, k_faktor=False):\n",
    "    if element2 == False:\n",
    "        excel_file = join(element1, xlsx_file)\n",
    "    else: excel_file = join(element1, element2, xlsx_file)\n",
    "    data = pd.read_excel(excel_file, engine='openpyxl')\n",
    "    if(k_faktor==False):\n",
    "        k_faktor = 1\n",
    "    k = data[k]*k_faktor\n",
    "    m = data[m]\n",
    "    ver_data = [k, m]\n",
    "    \n",
    "    return ver_data"
   ]
  },
  {
   "cell_type": "markdown",
   "metadata": {
    "pycharm": {
     "name": "#%% md\n"
    }
   },
   "source": [
    "## Model validation with experimental results"
   ]
  },
  {
   "cell_type": "markdown",
   "metadata": {
    "pycharm": {
     "name": "#%% md\n"
    }
   },
   "source": [
    "### Rectangluar cross sections"
   ]
  },
  {
   "cell_type": "markdown",
   "metadata": {
    "pycharm": {
     "name": "#%% md\n"
    }
   },
   "source": [
    "### Gribniak et al. (2012) (FRC with Steel reinforcement), https://doi.org/10.1016/j.engstruct.2012.04.032\n",
    "![ver_rec_2.jpg](attachment:ver_rec_2.jpg)"
   ]
  },
  {
   "cell_type": "code",
   "execution_count": 4,
   "metadata": {
    "pycharm": {
     "name": "#%%\n"
    }
   },
   "outputs": [
    {
     "data": {
      "application/vnd.jupyter.widget-view+json": {
       "model_id": "051923f5efc64862abf18e17f508d63a",
       "version_major": 2,
       "version_minor": 0
      },
      "text/plain": [
       "VBox(children=(HBox(children=(VBox(children=(Tree(layout=Layout(align_items='stretch', border='solid 1px black…"
      ]
     },
     "metadata": {},
     "output_type": "display_data"
    },
    {
     "data": {
      "application/vnd.jupyter.widget-view+json": {
       "model_id": "a4e2298c804c41ec82aed043ea88342d",
       "version_major": 2,
       "version_minor": 0
      },
      "image/png": "[encoded data removed]",
      "text/html": [
       "\n",
       "            <div style=\"display: inline-block;\">\n",
       "                <div class=\"jupyter-widgets widget-label\" style=\"text-align: center;\">\n",
       "                    Figure\n",
       "                </div>\n",
       "                <img src='data:image/png;base64,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' width=500.0/>\n",
       "            </div>\n",
       "        "
      ],
      "text/plain": [
       "Canvas(toolbar=Toolbar(toolitems=[('Home', 'Reset original view', 'home', 'home'), ('Back', 'Back to previous …"
      ]
     },
     "metadata": {},
     "output_type": "display_data"
    }
   ],
   "source": [
    "# Beam S3-1-F15\n",
    "ver_data = get_data(element1='verification_data',\n",
    "                    xlsx_file='fig_6.xlsx',\n",
    "                    k='S3_1_F15_Curvature',\n",
    "                    m='S3_1_F15_Moment',\n",
    "                    element2='Gribniak2012')\n",
    "mc = make_mc(form='rectangular', high_kappa=12e-6, B=279, H=300,\n",
    "             mu=0.61, eps_cr=0.000132, eps_tu=0.0023,\n",
    "             f_cm=52.2,\n",
    "#              eps_cy=0.00175, eps_cu=0.0035, \n",
    "             material_r1='steel', z_r1=(300-272), A_r1=235, E_r1=202800, f_sy_r1=560,\n",
    "             material_r2='steel', z_r2=(300-26), A_r2=56, E_r2=202800, f_sy_r2=560)\n",
    "fig, ax = plot_mk_ver(mc, ver_data, r'$V_\\mathrm{f}$=1.5%, $\\rho$=0.3%', title='Gribniak et al. 2012', color_i=0)\n",
    "fig\n",
    "mc.interact()"
   ]
  },
  {
   "cell_type": "code",
   "execution_count": 5,
   "metadata": {
    "pycharm": {
     "name": "#%%\n"
    }
   },
   "outputs": [
    {
     "data": {
      "application/vnd.jupyter.widget-view+json": {
       "model_id": "edebf618791b4d2ebf278d97991741dc",
       "version_major": 2,
       "version_minor": 0
      },
      "text/plain": [
       "VBox(children=(HBox(children=(VBox(children=(Tree(layout=Layout(align_items='stretch', border='solid 1px black…"
      ]
     },
     "metadata": {},
     "output_type": "display_data"
    }
   ],
   "source": [
    "# Beam S3_1_F05\n",
    "ver_data = get_data(element1='./verification_data/Gribniak2012/', xlsx_file='fig_6.xlsx', k='S3_1_F05_Curvature', m='S3_1_F05_Moment')\n",
    "mc = make_mc(form='rectangular', high_kappa=14e-6, B=278, H=302,\n",
    "             mu=0.42, eps_cr=0.000132, eps_tu=0.0025,\n",
    "             f_cm=55.6,\n",
    "#              eps_cy=0.00175, eps_cu=0.0035, \n",
    "             material_r1='steel', z_r1=(302-278), A_r1=235, E_r1=202800, f_sy_r1=560,\n",
    "             material_r2='steel', z_r2=(302-29), A_r2=56, E_r2=202800, f_sy_r2=560)\n",
    "plot_mk_ver(mc, ver_data, r'$V_\\mathrm{f}$=0.5%, $\\rho$=0.3%', ax=ax, color_i=1)\n",
    "fig\n",
    "mc.interact()"
   ]
  },
  {
   "cell_type": "code",
   "execution_count": null,
   "metadata": {
    "pycharm": {
     "name": "#%%\n"
    }
   },
   "outputs": [],
   "source": [
    "# fig.savefig('MK_Gribniak_S3-1-F15_S3-1-F05.pdf')"
   ]
  },
  {
   "cell_type": "markdown",
   "metadata": {
    "pycharm": {
     "name": "#%% md\n"
    }
   },
   "source": [
    "### Yang et al. (2010) (FRC with steel reinforcement), http://dx.doi.org/10.1016/j.engstruct.2010.07.017\n",
    "![yang_2010.jpg](attachment:yang_2010.jpg)"
   ]
  },
  {
   "cell_type": "code",
   "execution_count": null,
   "metadata": {
    "pycharm": {
     "name": "#%%\n"
    }
   },
   "outputs": [],
   "source": [
    "0.000384 * 46418"
   ]
  },
  {
   "cell_type": "code",
   "execution_count": null,
   "metadata": {
    "pycharm": {
     "name": "#%%\n"
    }
   },
   "outputs": [],
   "source": [
    "# R12-1,2 (rho = 0.6%)\n",
    "ver_data = get_data(element1='./verification_data/Yang2010', element2='fig_18', xlsx_file='yang2010.xlsx', k='beam_R12_2_Curvature', m='beam_R12_2_Moment')\n",
    "mc = make_mc(\n",
    "            form='rectangular', high_kappa=0.00005, B=180, H=270,\n",
    "            matrix='piecewise linear',\n",
    "            E_cc=46418, E_ct=46418,\n",
    "            mu=0.55,\n",
    "            eps_cr=0.000384,\n",
    "            eps_tu = 24 * 0.000384,\n",
    "            eps_cy = 190.9/46418,\n",
    "            eps_cu = EC2.get_eps_cu3(190.9-8),\n",
    "            material_r1='steel', z_r1=35, A_r1=253.4, E_r1=200000, f_sy_r1=600,\n",
    "            )\n",
    "fig, ax = plot_mk_ver(mc, ver_data, r'$V_\\mathrm{f}$=2%, $\\rho$=0.6%', title='Yang et al. 2010', color_i=0)\n",
    "fig\n",
    "mc.interact()"
   ]
  },
  {
   "cell_type": "code",
   "execution_count": null,
   "metadata": {
    "pycharm": {
     "name": "#%%\n"
    }
   },
   "outputs": [],
   "source": [
    "# R13-2 (rho = 0.9%)\n",
    "ver_data = get_data(element1='./verification_data/Yang2010', element2='fig_18', xlsx_file='yang2010.xlsx', k='beam_R13_2_Curvature', m='beam_R13_2_Moment')\n",
    "mc = make_mc(form='rectangular', high_kappa=0.00005, B=180, H=270,\n",
    "            matrix='piecewise linear',\n",
    "            E_cc=46680, E_ct=46680,\n",
    "            mu=0.55,\n",
    "            eps_cr=0.000384,\n",
    "            eps_tu = 24 * 0.000384,\n",
    "            eps_cy = 192.2/46680,\n",
    "            eps_cu = EC2.get_eps_cu3(192.2-8),\n",
    "            material_r1='steel', z_r1=35, A_r1=380.1, E_r1=200000, f_sy_r1=600,\n",
    "            )\n",
    "plot_mk_ver(mc, ver_data, r'$V_\\mathrm{f}$=2%, $\\rho$=0.9%', ax=ax, color_i=1)\n",
    "fig\n",
    "# mc.interact()"
   ]
  },
  {
   "cell_type": "code",
   "execution_count": null,
   "metadata": {
    "pycharm": {
     "name": "#%%\n"
    }
   },
   "outputs": [],
   "source": [
    "fig.savefig('MK_Yang_R12-1_R13-2.pdf')"
   ]
  },
  {
   "cell_type": "markdown",
   "metadata": {
    "pycharm": {
     "name": "#%% md\n"
    }
   },
   "source": [
    "###  Almusallam1997 (Steel, GFRP) https://journals.sagepub.com/doi/pdf/10.1177/002199839703100701"
   ]
  },
  {
   "cell_type": "code",
   "execution_count": null,
   "metadata": {
    "pycharm": {
     "name": "#%%\n"
    }
   },
   "outputs": [],
   "source": [
    "# Group 1 (Steel):\n",
    "ver_data = get_data(element1='./verification_data/Almusallam1997', xlsx_file='fig_9_10_11.xlsx', k='Group_1_Curvature', m='Group_1_Moment')\n",
    "mc = make_mc(form='rectangular', high_kappa=0.000065, B=200, H=210,\n",
    "             eps_cy=None, eps_cu=None, eps_tu=None,\n",
    "             f_cm=31.3,\n",
    "            material_r1='steel',\n",
    "             material_r2 = 'steel',\n",
    "             A_r1 = 3*np.pi*7**2, E_r1 = 200000, z_r1=50, f_sy_r1=553,\n",
    "             A_r2 = 1*np.pi*(6.25/2)**2,  E_r2 = 200000, z_r2=210-50, f_sy_r2=553\n",
    "            )\n",
    "# fig, ax = plot_mk_ver(mc, ver_data, r'Group 1 - Steel', title='Almusallam 1997', color_i=0)\n",
    "mc.interact()"
   ]
  },
  {
   "cell_type": "code",
   "execution_count": null,
   "metadata": {
    "pycharm": {
     "name": "#%%\n"
    }
   },
   "outputs": [],
   "source": [
    "# Group 2 (GFRP):\n",
    "ver_data = get_data(element1='./verification_data/Almusallam1997', xlsx_file='fig_9_10_11.xlsx', k='Group_2_Curvature', m='Group_2_Moment')\n",
    "mc = make_mc(form='rectangular', high_kappa=0.000066, B=200, H=210,\n",
    "             eps_cy=None, eps_cu=None, eps_tu=None,\n",
    "             f_cm=31.3,\n",
    "            material_r1='carbon',\n",
    "             material_r2 = 'steel',\n",
    "             A_r1 = 4*np.pi*(19/2)**2, E_r1 = 35630, z_r1=210-158, f_t_r1=700,\n",
    "             A_r2 = 1*np.pi*(6.25/2)**2,  E_r2 = 200000, z_r2=210-50, f_sy_r2=553\n",
    "            )\n",
    "plot_mk_ver(mc, ver_data, r'Group 2 - GFRP', ax=ax, color_i=1)\n",
    "fig\n",
    "# mc.interact()"
   ]
  },
  {
   "cell_type": "code",
   "execution_count": null,
   "metadata": {
    "pycharm": {
     "name": "#%%\n"
    }
   },
   "outputs": [],
   "source": [
    "# Group 3 (GFRP):\n",
    "ver_data = get_data(element1='./verification_data/Almusallam1997', xlsx_file='fig_9_10_11.xlsx', k='Group_3_Curvature', m='Group_3_Moment')\n",
    "mc = make_mc(form='rectangular', high_kappa=0.00007, B=200, H=260,\n",
    "             eps_cy=None, eps_cu=None, eps_tu=None,\n",
    "             f_cm=31.3,\n",
    "            material_r1='carbon',\n",
    "             material_r2 = 'steel',\n",
    "             A_r1 = 4*np.pi*(12.7/2)**2, E_r1 = 43370, z_r1=260-211, f_t_r1=886,\n",
    "             A_r2 = 1*np.pi*(6.25/2)**2,  E_r2 = 200000, z_r2=210-50, f_sy_r2=553\n",
    "            )\n",
    "plot_mk_ver(mc, ver_data, r'Group 3 - GFRP', ax=ax, color_i=2)\n",
    "# fig\n",
    "mc.interact()"
   ]
  },
  {
   "cell_type": "code",
   "execution_count": null,
   "metadata": {
    "pycharm": {
     "name": "#%%\n"
    }
   },
   "outputs": [],
   "source": [
    "# fig.savefig('MK_Almusallam1997.pdf')"
   ]
  },
  {
   "cell_type": "markdown",
   "metadata": {
    "pycharm": {
     "name": "#%% md\n"
    }
   },
   "source": [
    "### Bazan2020 (Steel reinf. strengthened with CFRP sheet )"
   ]
  },
  {
   "cell_type": "code",
   "execution_count": null,
   "metadata": {
    "pycharm": {
     "name": "#%%\n"
    }
   },
   "outputs": [],
   "source": [
    "# SC-01 (Steel + CFRP):\n",
    "ver_data = get_data(element1='./verification_data/Bazan2020', xlsx_file='fig_7.xlsx', k='SC-01_Curvature', m='SC-01_Moment')\n",
    "mc = make_mc(form='rectangular', high_kappa=0.000037, B=200, H=400,\n",
    "             eps_cy=None, eps_cu=None, eps_tu=None,\n",
    "             f_cm=30,\n",
    "            material_r1='steel',\n",
    "             material_r2 = 'steel',\n",
    "             A_r1 = 3*np.pi*(16/2)**2, E_r1 = 200000, z_r1=400-342, f_sy_r1=500, # f_sy=420 acco. to paper\n",
    "             A_r2 = 2*np.pi*(8/2)**2,  E_r2 = 200000, z_r2=342, f_sy_r2=500\n",
    "             \n",
    "            )\n",
    "l1 = ReinfLayer(name='carbon', z=0, A=200, matmod='carbon')\n",
    "l1.matmod_.trait_set(E=95800,f_t=985)\n",
    "mc.cross_section_layout.add_layer(l1)\n",
    "\n",
    "fig, ax = plot_mk_ver(mc, ver_data, 'SC-01 - [Steel + CFRP]', title='Bazan et al. 2020', color_i=0)\n",
    "fig\n",
    "# mc.interact()"
   ]
  },
  {
   "cell_type": "code",
   "execution_count": null,
   "metadata": {
    "pycharm": {
     "name": "#%%\n"
    }
   },
   "outputs": [],
   "source": [
    "# SC-02 (Steel + CFRP):\n",
    "ver_data = get_data(element1='./verification_data/Bazan2020', xlsx_file='fig_7.xlsx', k='SC-02_Curvature', m='SC-02_Moment')\n",
    "mc = make_mc(form='rectangular', high_kappa=0.000037, B=200, H=400,\n",
    "             eps_cy=None, eps_cu=None, eps_tu=None,\n",
    "             f_cm=30,\n",
    "            material_r1='steel',\n",
    "             material_r2 = 'steel',\n",
    "             A_r1 = 4*np.pi*(16/2)**2 + 1*np.pi*(12/2)**2, E_r1 = 200000, z_r1=400-329, f_sy_r1=500, # f_sy=420 acco. to paper\n",
    "             A_r2 = 2*np.pi*(8/2)**2,  E_r2 = 200000, z_r2=329, f_sy_r2=500\n",
    "            )\n",
    "l1 = ReinfLayer(name='carbon', z=0, A=200, matmod='carbon')\n",
    "l1.matmod_.trait_set(E=95800,f_t=985)\n",
    "mc.cross_section_layout.add_layer(l1)\n",
    "\n",
    "plot_mk_ver(mc, ver_data, 'SC-02 - [Steel + CFRP]', ax=ax, color_i=1)\n",
    "fig\n",
    "# mc.interact()"
   ]
  },
  {
   "cell_type": "code",
   "execution_count": null,
   "metadata": {
    "pycharm": {
     "name": "#%%\n"
    }
   },
   "outputs": [],
   "source": [
    "# fig.savefig('MK_Bazan2020.pdf')"
   ]
  }
 ],
 "metadata": {
  "kernelspec": {
   "display_name": "bmcs_env2",
   "language": "python",
   "name": "bmcs_env2"
  },
  "language_info": {
   "codemirror_mode": {
    "name": "ipython",
    "version": 3
   },
   "file_extension": ".py",
   "mimetype": "text/x-python",
   "name": "python",
   "nbconvert_exporter": "python",
   "pygments_lexer": "ipython3",
   "version": "3.9.12"
  },
  "toc": {
   "base_numbering": 1,
   "nav_menu": {},
   "number_sections": true,
   "sideBar": true,
   "skip_h1_title": true,
   "title_cell": "Table of Contents",
   "title_sidebar": "Contents",
   "toc_cell": false,
   "toc_position": {},
   "toc_section_display": true,
   "toc_window_display": false
  }
 },
 "nbformat": 4,
 "nbformat_minor": 4
}
