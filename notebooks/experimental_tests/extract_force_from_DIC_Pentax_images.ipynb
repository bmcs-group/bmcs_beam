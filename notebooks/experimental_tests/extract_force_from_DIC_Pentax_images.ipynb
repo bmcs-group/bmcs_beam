{
 "cells": [
  {
   "cell_type": "code",
   "execution_count": 2,
   "id": "68b9eba4",
   "metadata": {
    "scrolled": false
   },
   "outputs": [
    {
     "name": "stdout",
     "output_type": "stream",
     "text": [
      "image Object or String - either PIL Image, NumPy array or file path of the image to be processed by Tesseract. If\n",
      "you pass object instead of file path, pytesseract will implicitly convert the image to RGB mode.\n",
      "\n"
     ]
    }
   ],
   "source": [
    "from PIL import Image\n",
    "\n",
    "import pytesseract\n",
    "\n",
    "# If you don't have tesseract executable in your PATH, include the following:\n",
    "pytesseract.pytesseract.tesseract_cmd = r'C:\\Users\\hspartali\\AppData\\Local\\Programs\\Tesseract-OCR\\tesseract.exe'\n",
    "# Example tesseract_cmd = r'C:\\Program Files (x86)\\Tesseract-OCR\\tesseract'\n",
    "\n",
    "# Simple image to string\n",
    "print(pytesseract.image_to_string(Image.open('test.JPG')))\n",
    "\n",
    "# # In order to bypass the image conversions of pytesseract, just use relative or absolute image path\n",
    "# # NOTE: In this case you should provide tesseract supported images or tesseract will return error\n",
    "# print(pytesseract.image_to_string('test.JPG'))\n",
    "\n",
    "# # List of available languages\n",
    "# print(pytesseract.get_languages(config=''))\n",
    "\n",
    "# # French text image to string\n",
    "# print(pytesseract.image_to_string(Image.open('test-european.jpg'), lang='fra'))\n",
    "\n",
    "# # Batch processing with a single file containing the list of multiple image file paths\n",
    "# print(pytesseract.image_to_string('images.txt'))\n",
    "\n",
    "# # Timeout/terminate the tesseract job after a period of time\n",
    "# try:\n",
    "#     print(pytesseract.image_to_string('test.jpg', timeout=2)) # Timeout after 2 seconds\n",
    "#     print(pytesseract.image_to_string('test.jpg', timeout=0.5)) # Timeout after half a second\n",
    "# except RuntimeError as timeout_error:\n",
    "#     # Tesseract processing is terminated\n",
    "#     pass\n",
    "\n",
    "# # Get bounding box estimates\n",
    "# print(pytesseract.image_to_boxes(Image.open('test.png')))"
   ]
  }
 ],
 "metadata": {
  "kernelspec": {
   "display_name": "Python 3 (ipykernel)",
   "language": "python",
   "name": "python3"
  },
  "language_info": {
   "codemirror_mode": {
    "name": "ipython",
    "version": 3
   },
   "file_extension": ".py",
   "mimetype": "text/x-python",
   "name": "python",
   "nbconvert_exporter": "python",
   "pygments_lexer": "ipython3",
   "version": "3.9.12"
  }
 },
 "nbformat": 4,
 "nbformat_minor": 5
}
