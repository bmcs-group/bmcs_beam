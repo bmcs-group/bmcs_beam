{
 "cells": [
  {
   "cell_type": "code",
   "execution_count": null,
   "id": "4cf89cdf",
   "metadata": {},
   "outputs": [],
   "source": [
    "%matplotlib widget\n",
    "import pandas as pd\n",
    "import numpy as np\n",
    "import matplotlib.pyplot as plt\n",
    "from matplotlib import cm\n",
    "import ipywidgets as ipw"
   ]
  },
  {
   "cell_type": "code",
   "execution_count": null,
   "id": "e8094d35",
   "metadata": {},
   "outputs": [],
   "source": [
    "def get_exp_data(test_num=1):\n",
    "    skiprows = 3\n",
    "    delimiter=';'\n",
    "    decimal=','\n",
    "    file_path = './results/T' + str(test_num) + '.csv'\n",
    "    headers_array = list(np.array(pd.read_csv(file_path, delimiter=delimiter, decimal=decimal, nrows=1, header=None))[0])\n",
    "    \n",
    "    time_idx = 0\n",
    "    force_idx = headers_array.index('Kraft')\n",
    "    weg_idx = headers_array.index('Weg')\n",
    "    IWA_M_hinten_idx = headers_array.index('IWA_M_hinten')\n",
    "    IWA_M_vorne_idx = headers_array.index('IWA_M_vorne')\n",
    "    DMS_idx = headers_array.index('DMS-1')\n",
    "    \n",
    "    data = np.array(pd.read_csv(file_path, delimiter=delimiter, decimal=decimal, skiprows=skiprows))\n",
    "    time = data[:, 0]\n",
    "    force = -data[:, force_idx]\n",
    "    dms = -data[:, DMS_idx]\n",
    "    weg = -data[:, weg_idx]\n",
    "    hinten_vorne = - data[:, (IWA_M_hinten_idx, IWA_M_vorne_idx)]\n",
    "    avg_hinten_vorne = (hinten_vorne[:, 0] + hinten_vorne[:, 1])/2\n",
    "    \n",
    "    return time, force, weg, avg_hinten_vorne, dms, hinten_vorne\n",
    "\n",
    "def get_exp_fw(test_num=1):\n",
    "    _, force, _, avg_hinten_vorne, _, hinten_vorne = get_exp_data(test_num = test_num)\n",
    "    if test_num == 7:\n",
    "        avg_hinten_vorne = hinten_vorne[:, 0]\n",
    "    elif test_num == 8:\n",
    "        avg_hinten_vorne = hinten_vorne[:, 1]\n",
    "    return force, avg_hinten_vorne"
   ]
  },
  {
   "cell_type": "code",
   "execution_count": null,
   "id": "4fde3da4",
   "metadata": {},
   "outputs": [],
   "source": [
    "datetime.utcnow().strftime('%Y-%m-%d %H:%M:%S.%f')[:-3]"
   ]
  },
  {
   "cell_type": "code",
   "execution_count": null,
   "id": "b5f6a351",
   "metadata": {},
   "outputs": [],
   "source": [
    "import sys\n",
    "\n",
    "print(sys.version)"
   ]
  },
  {
   "cell_type": "code",
   "execution_count": null,
   "id": "230ed506",
   "metadata": {},
   "outputs": [],
   "source": [
    "'00:01:00.100'.split('.')[0],'%H:%M:%S'"
   ]
  },
  {
   "cell_type": "code",
   "execution_count": null,
   "id": "ffd83dca",
   "metadata": {},
   "outputs": [],
   "source": [
    "from datetime import date, datetime, time\n",
    "from backports.datetime_fromisoformat import MonkeyPatch\n",
    "MonkeyPatch.patch_fromisoformat()"
   ]
  },
  {
   "cell_type": "code",
   "execution_count": null,
   "id": "d7a70dad",
   "metadata": {},
   "outputs": [],
   "source": [
    "datetime.fromisoformat('07.03.2022 08:15:47.281')"
   ]
  },
  {
   "cell_type": "code",
   "execution_count": null,
   "id": "9d64e052",
   "metadata": {},
   "outputs": [],
   "source": [
    "from datetime import date, datetime, time\n",
    "import time\n",
    "x = time.strptime('00:01:00.100','%H:%M:%S')\n",
    "datetime.timedelta(hours=x.tm_hour, minutes=x.tm_min, seconds=x.tm_sec).total_seconds()\n"
   ]
  },
  {
   "cell_type": "code",
   "execution_count": null,
   "id": "2f418f0a",
   "metadata": {},
   "outputs": [],
   "source": [
    "path = r\"C:\\Users\\hspartali\\_Homam\\Work\\Projects\\DFG-TRR 280\\Experiments\\01. M-k validation\\Biegeversuche\\FOS\\T11_4PB_CS_0_5_2022-03-14_09-58-31_ch4_full.tsv\"\n",
    "\n",
    "skro = 31\n",
    "\n",
    "with open(path, 'r+') as f:\n",
    "    data_alt = pd.read_table(f, skiprows=skro, header=None, encoding='cp437', on_bad_lines='skip',\n",
    "                             encoding_errors='ignore')\n",
    "    data_alt = data_alt.drop([1, 2], axis=1)\n",
    "    data_alt = data_alt.set_index(data_alt.columns[0])\n",
    "    print(data_alt)\n",
    "    tare = None\n",
    "    if \"Tare\" in data_alt.index:\n",
    "        tare = data_alt.loc[\"Tare\"]\n",
    "        data_alt = data_alt.drop(index=\"Tare\")\n",
    "    data_alt.set_axis(data_alt.loc[\"x-axis\"], axis=1, inplace=True)\n",
    "    data_alt = data_alt.drop(index=\"x-axis\")\n",
    "    data_alt.index.name = None\n",
    "    data_alt.columns.name = None\n",
    "    data_alt.index = pd.to_datetime(data_alt.index)\n",
    "    data_alt = data_alt.astype(np.float64)\n",
    "    data_alt.columns = np.float64(data_alt.columns)\n",
    "    new_ind = pd.to_timedelta([(data_alt.index[i] - data_alt.index[0]) for i in range(len(data_alt.index))])\n",
    "    data_alt = data_alt.set_index(new_ind)\n",
    "\n",
    "# data_alt = data_alt.truncate(before=avoidLength, axis=1)\n",
    "\n",
    "data_alt = data_alt.mul(1e-6)"
   ]
  },
  {
   "cell_type": "code",
   "execution_count": null,
   "id": "7b7b4908",
   "metadata": {},
   "outputs": [],
   "source": [
    "path = r\"C:\\Users\\hspartali\\_Homam\\Work\\Projects\\DFG-TRR 280\\Experiments\\01. M-k validation\\Biegeversuche\\FOS\\Raw data\\T9_2022-03-07_07-15-13_ch4_full.tsv\"\n",
    "\n",
    "# Get number of rows to skip\n",
    "with open(path) as file:\n",
    "    i = 0\n",
    "    skiprows = 0\n",
    "    for line in file:\n",
    "        i = i + 1\n",
    "        if line == '----------------------------------------\\n':\n",
    "            skiprows = i\n",
    "            break\n",
    "    if skiprows == 0:\n",
    "        print('Failed to find number of rows to skip (no line with dashes has been found)')"
   ]
  },
  {
   "cell_type": "code",
   "execution_count": null,
   "id": "249847f3",
   "metadata": {},
   "outputs": [],
   "source": [
    "df = pd.read_table(path, header=None, skiprows=skiprows)\n",
    "df = df.drop([1, 2], axis=1)\n",
    "# Drop time?\n",
    "# df = df.drop([0], axis=1)"
   ]
  },
  {
   "cell_type": "code",
   "execution_count": null,
   "id": "c253314c",
   "metadata": {},
   "outputs": [],
   "source": [
    "df = df.astype(np.float64)\n",
    "\n",
    "fill_nan = \"LinInt Länge\"\n",
    "if fill_nan == \"Spline-Interpolation\":\n",
    "    df = df.interpolate(method='spline', order=3, axis=1)\n",
    "elif fill_nan == \"LinInt Länge\":\n",
    "    df = df.interpolate(method='linear', axis=1)\n",
    "elif fill_nan == \"LinInt Zeit\":\n",
    "    df = df.interpolate(method='linear', axis=0)\n",
    "elif fill_nan == \"Ersetze mit 0\":\n",
    "    df = df.fillna(0)\n",
    "elif fill_nan == \"Lösche Spalten\":\n",
    "    df = df.dropna(axis=1)\n",
    "elif fill_nan == \"None\":\n",
    "    df = df\n",
    "    \n",
    "df_arr = np.array(df).astype(np.float_)"
   ]
  },
  {
   "cell_type": "code",
   "execution_count": null,
   "id": "aed0dabc",
   "metadata": {},
   "outputs": [],
   "source": [
    "# Calc y_limit\n",
    "df_arr_except_1_line = df_arr[1:, :]\n",
    "no_nan_df_arr = df_arr_except_1_line[~np.isnan(df_arr_except_1_line)]\n",
    "y_limit = np.max(no_nan_df_arr)\n",
    "y_limit"
   ]
  },
  {
   "cell_type": "code",
   "execution_count": null,
   "id": "52839236",
   "metadata": {},
   "outputs": [],
   "source": [
    "test_num = 5\n",
    "\n",
    "slider = ipw.SelectionSlider(\n",
    "            options=np.arange(len(df_arr[:, 0])),\n",
    "            value=0,\n",
    "            orientation='horizontal',\n",
    "            continuous_update=True,\n",
    "#             tooltip=self.tooltip,\n",
    "#             description=self.label,\n",
    "#             disabled=self.disabled,\n",
    "#             readout=self.readout,\n",
    "#             style=style\n",
    "        )\n",
    "\n",
    "\n",
    "fig, axes = plt.subplots(1, 2)\n",
    "\n",
    "output2 = ipw.Output()\n",
    "display(slider, output2)\n",
    "def on_value_change(change):\n",
    "    with ipw.Output():\n",
    "        new_value = change['new']\n",
    "        axes[0].clear()\n",
    "        axes[1].clear()\n",
    "        axes[0].plot(df_arr[0, :], df_arr[new_value, :], '-')\n",
    "        axes[0].set_ylim([-0.05 * y_limit, y_limit])\n",
    "        fw = get_exp_fw(test_num = test_num)\n",
    "        axes[1].plot(fw[1], fw[0])\n",
    "        fig.show()\n",
    "slider.observe(on_value_change, names='value')"
   ]
  },
  {
   "cell_type": "markdown",
   "id": "4aeee941",
   "metadata": {},
   "source": [
    "## Plot 3D"
   ]
  },
  {
   "cell_type": "code",
   "execution_count": null,
   "id": "bee88cac",
   "metadata": {},
   "outputs": [],
   "source": [
    "x = np.arange(df_arr.shape[0]) + np.zeros((df_arr.shape[0], 1))\n",
    "y = df_arr[0, :] + np.zeros((df_arr.shape[0], 1))\n",
    "z = df_arr"
   ]
  },
  {
   "cell_type": "code",
   "execution_count": null,
   "id": "ae1511e6",
   "metadata": {},
   "outputs": [],
   "source": [
    "fig, ax = plt.subplots(subplot_kw={\"projection\": \"3d\"})\n",
    "\n",
    "surf = ax.plot_surface(x, y, z, cmap=cm.coolwarm,\n",
    "                       linewidth=0, antialiased=False)"
   ]
  }
 ],
 "metadata": {
  "kernelspec": {
   "display_name": "Python 3 (ipykernel)",
   "language": "python",
   "name": "python3"
  },
  "language_info": {
   "codemirror_mode": {
    "name": "ipython",
    "version": 3
   },
   "file_extension": ".py",
   "mimetype": "text/x-python",
   "name": "python",
   "nbconvert_exporter": "python",
   "pygments_lexer": "ipython3"
  }
 },
 "nbformat": 4,
 "nbformat_minor": 5
}
