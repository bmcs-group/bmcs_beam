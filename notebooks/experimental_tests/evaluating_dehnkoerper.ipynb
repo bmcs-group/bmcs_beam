{
 "cells": [
  {
   "cell_type": "code",
   "execution_count": null,
   "id": "68b9eba4",
   "metadata": {},
   "outputs": [],
   "source": [
    "%matplotlib widget\n",
    "import numpy as np\n",
    "import pandas as pd\n",
    "import matplotlib.pyplot as plt\n",
    "import os\n",
    "import bmcs_utils.api as bu\n",
    "bu.set_latex_mpl_format()"
   ]
  },
  {
   "cell_type": "code",
   "execution_count": null,
   "id": "e99d5afd",
   "metadata": {},
   "outputs": [],
   "source": [
    "def get_load_disp_data(test_num):\n",
    "    path = os.path.join('results', 'dehnkoerper', 'D' + str(test_num) + '.csv')\n",
    "    test_data = np.array(pd.read_csv(path, delimiter=';', decimal=',', skiprows=1, encoding= 'unicode_escape'))\n",
    "    load = test_data[:, 1]\n",
    "    blau_vorne_links = test_data[:, 3]\n",
    "    gelb_vorne_rechts = test_data[:, 4]\n",
    "    gruen_hinten_links = test_data[:, 5]\n",
    "    rot_hinten_rechts = test_data[:, 6]\n",
    "    \n",
    "    if test_num == 1 or test_num == 3:\n",
    "        disp = np.average([gruen_hinten_links, rot_hinten_rechts], axis=0)\n",
    "    else:\n",
    "        disp = np.average([blau_vorne_links, gelb_vorne_rechts, gruen_hinten_links, rot_hinten_rechts], axis=0)\n",
    "\n",
    "    return -load, -disp\n",
    "\n",
    "def get_stress_strain(test_num):\n",
    "    load, disp = get_load_disp_data(test_num)\n",
    "    \n",
    "    # measuring_dist: in [mm] taken as the average of measuring distances for relevant LVDTs\n",
    "    measuring_dist = [460, 459, 460, 461, 455]\n",
    "    b = np.array([120, 120.3, 119.7, 122.3, 120])\n",
    "    t = np.array([30.3, 30.3, 30, 30, 32.3])\n",
    "    A = b * t\n",
    "    \n",
    "    strain = disp / measuring_dist[test_num - 1]\n",
    "    stress = load * 1000 / A[test_num - 1]\n",
    "    return stress, strain, A, measuring_dist"
   ]
  },
  {
   "cell_type": "markdown",
   "id": "439b47b3",
   "metadata": {},
   "source": [
    "## Stress-strain curves"
   ]
  },
  {
   "cell_type": "code",
   "execution_count": null,
   "id": "7d53ccaa",
   "metadata": {},
   "outputs": [],
   "source": [
    "fig, ax = plt.subplots(figsize=(6, 4.5))\n",
    "\n",
    "avg_stress = []\n",
    "avg_strain = []\n",
    "\n",
    "for i in range(5):\n",
    "    color = bu.plot_colors[i]\n",
    "    stress, strain, _, _ = get_stress_strain(i + 1)\n",
    "    strain = 1000 * strain\n",
    "    ax.plot(strain, stress, label='D' + str(i + 1), c=color, lw=1.2)\n",
    "    ax.plot(np.max(strain), np.max(stress), 'o', c=color)\n",
    "    ax.set_ylabel(r'Stress $\\sigma_\\mathrm{c}$ [MPa]')\n",
    "    ax.set_xlabel(r'Strain $\\varepsilon_\\mathrm{c}$ [‰]')\n",
    "    avg_stress.append(stress)\n",
    "    avg_strain.append(strain)\n",
    "\n",
    "# ax.plot(strain, stress, label='D' + str(i + 1), c=color, lw=1.2)\n",
    "    \n",
    "ax.legend()\n",
    "fig.savefig('D1_to_D5_stress_strain_curves.pdf')"
   ]
  },
  {
   "cell_type": "code",
   "execution_count": null,
   "id": "dd96430c",
   "metadata": {},
   "outputs": [],
   "source": [
    "sig_eps_list = []\n",
    "for sig, eps in zip(avg_stress, avg_strain):\n",
    "    sig_eps = np.zeros((len(sig), 2))\n",
    "    sig_eps[:, 0] = sig\n",
    "    sig_eps[:, 1] = eps\n",
    "    sig_eps_list.append(sig_eps)"
   ]
  },
  {
   "cell_type": "code",
   "execution_count": null,
   "id": "fdcf51bd",
   "metadata": {},
   "outputs": [],
   "source": [
    "sig, eps = bu.get_fw_curves_avg(sig_eps_list, ax=ax)\n",
    "fig"
   ]
  },
  {
   "cell_type": "code",
   "execution_count": null,
   "id": "d8ffbfe5",
   "metadata": {},
   "outputs": [],
   "source": [
    "fig2, ax = plt.subplots(figsize=(6, 4.5))\n",
    "eps_reduced = eps[::100]\n",
    "sig_reduced = sig[::100]\n",
    "ax.plot(eps, sig)\n",
    "ax.plot(eps_reduced, sig_reduced)"
   ]
  },
  {
   "cell_type": "markdown",
   "id": "cc04821e",
   "metadata": {},
   "source": [
    "## Load-displacement curves"
   ]
  },
  {
   "cell_type": "code",
   "execution_count": null,
   "id": "a819cbe3",
   "metadata": {},
   "outputs": [],
   "source": [
    "fig, ax = plt.subplots(figsize=(6, 4.5))\n",
    "\n",
    "for i in range(5):\n",
    "    color = bu.plot_colors[i]\n",
    "    load, disp = get_load_disp_data(i + 1)\n",
    "    ax.plot(disp, load, label='D' + str(i + 1), c=color, lw=1.2)\n",
    "    ax.plot(np.max(disp), np.max(load), 'o', c=color)\n",
    "    ax.set_ylabel(r'Load [kN]')\n",
    "    ax.set_xlabel(r'Avg. displacement [mm]')\n",
    "\n",
    "ax.legend()\n",
    "fig.savefig('D1_to_D5_load_displacement_curves.pdf')"
   ]
  },
  {
   "cell_type": "markdown",
   "id": "2ccb83e0",
   "metadata": {},
   "source": [
    "## Table with results summary"
   ]
  },
  {
   "cell_type": "code",
   "execution_count": null,
   "id": "b5b806b2",
   "metadata": {},
   "outputs": [],
   "source": [
    "tests_num = 5\n",
    "\n",
    "print(' \t', end = '')\n",
    "for i in range(tests_num):\n",
    "    print('D' + str(i + 1) + '\t', end = '\\n' if i == 4 else '')\n",
    "    \n",
    "print('Cross-section area [mm^2]\t', end = '')\n",
    "for i in range(tests_num):\n",
    "    _, _, A, _ = get_stress_strain(i + 1)\n",
    "    print(str(np.round(A[i], 0))[:-2] + '\t', end = '\\n' if i == 4 else '')\n",
    "    \n",
    "print('Exact avg. measuring distance [mm]\t', end = '')\n",
    "for i in range(tests_num):\n",
    "    _, _, _, measuring_dist = get_stress_strain(i + 1)\n",
    "    print(str(measuring_dist[i]) + '\t', end = '\\n' if i == 4 else '')\n",
    "    \n",
    "print('Max force [kN]\t', end = '')\n",
    "for i in range(tests_num):\n",
    "    load, _ = get_load_disp_data(i + 1)\n",
    "    print(str(np.max(load)) + '\t', end = '\\n' if i == 4 else '')\n",
    "    \n",
    "print('Max displacement [mm]\t', end = '')\n",
    "for i in range(tests_num):\n",
    "    _, disp = get_load_disp_data(i + 1)\n",
    "    print(str(np.round(np.max(disp), 1))+ '\t', end = '\\n' if i == 4 else '')\n",
    "    \n",
    "print('Max stress [MPa]\t', end = '')\n",
    "for i in range(tests_num):\n",
    "    stress, _, _, _ = get_stress_strain(i + 1)\n",
    "    print(str(np.round(np.max(stress), 2)) + '\t', end = '\\n' if i == 4 else '')\n",
    "\n",
    "print('Max strain [‰]\t', end = '')\n",
    "for i in range(tests_num):\n",
    "    _, strain, _, _ = get_stress_strain(i + 1)\n",
    "    print(str(np.round(np.max(1000 * strain), 1)) + '\t', end = '\\n' if i == 4 else '')\n",
    "    \n",
    "# You can copy the resulting text to notepad then copy it directly to excel to get a table"
   ]
  },
  {
   "cell_type": "code",
   "execution_count": null,
   "id": "542516a8",
   "metadata": {},
   "outputs": [],
   "source": []
  }
 ],
 "metadata": {
  "kernelspec": {
   "display_name": "Python 3 (ipykernel)",
   "language": "python",
   "name": "python3"
  },
  "language_info": {
   "codemirror_mode": {
    "name": "ipython",
    "version": 3
   },
   "file_extension": ".py",
   "mimetype": "text/x-python",
   "name": "python",
   "nbconvert_exporter": "python",
   "pygments_lexer": "ipython3"
  }
 },
 "nbformat": 4,
 "nbformat_minor": 5
}
