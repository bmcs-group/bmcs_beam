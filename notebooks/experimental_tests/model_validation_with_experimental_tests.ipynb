{
 "cells": [
  {
   "cell_type": "code",
   "execution_count": null,
   "id": "68b9eba4",
   "metadata": {},
   "outputs": [],
   "source": [
    "%matplotlib widget\n",
    "from bmcs_cross_section.api import MKappa, TShape, MKappaParamsStudy, EC2, ReinfLayer, IShape, CustomShape, EC2ConcreteMatMod, EC2PlateauConcreteMatMod\n",
    "from bmcs_beam.api import FourPBSystem, BoundaryConditions, BoundaryConfig, DeflectionProfile, BeamDesign, LoadDeflectionParamsStudy, SLSParamStudy, BeamSLSCurve\n",
    "import numpy as np\n",
    "import bmcs_utils.api as bu\n",
    "import matplotlib.pyplot as plt\n",
    "import pandas as pd"
   ]
  },
  {
   "cell_type": "code",
   "execution_count": null,
   "id": "2d8dffe2",
   "metadata": {},
   "outputs": [],
   "source": [
    "# Concrete C3-HF2-165-4\n",
    "E_cm_C3 = 42720\n",
    "f_cm_C3 = 95\n",
    "fctm_sp = 5.0\n",
    "fctm_fl = 12.51"
   ]
  },
  {
   "cell_type": "code",
   "execution_count": null,
   "id": "d2e8060f",
   "metadata": {},
   "outputs": [],
   "source": [
    "# solidian GRID Q95-CCE-38-E5 (according to performed tensile tests)\n",
    "f_t_mat = 3823.9\n",
    "E_f_mat = 247468.92"
   ]
  },
  {
   "cell_type": "code",
   "execution_count": null,
   "id": "78627e82",
   "metadata": {},
   "outputs": [],
   "source": [
    "def get_dp(f_cm = f_cm_C3, E_cm = E_cm_C3, fctm_fl=None,\n",
    "           setup='4pb', L=2000, L_F=None,\n",
    "           high_kappa = 0.00018, concrete_law='EC2',\n",
    "           B=200, H=150, A = None,\n",
    "           reinf = 'carbon',\n",
    "           E_nm=None, f_t=None, z=None,\n",
    "           grid_layers_n=1, grid_layers_spacing=10, grid_layers_area=[]):\n",
    "    \n",
    "    mc = MKappa(low_kappa = 0, high_kappa = high_kappa, n_kappa=200)\n",
    "    \n",
    "    mc.cs_design.matrix=concrete_law\n",
    "    \n",
    "    f_ck = EC2.get_f_ck_from_f_cm(f_cm)\n",
    "    if fctm_fl is None:\n",
    "        fctm_fl = EC2.get_f_ctm_fl(f_ck, H)\n",
    "    if concrete_law == 'EC2 with plateau' or concrete_law == 'EC2':\n",
    "        mc.cs_design.matrix_.trait_set(f_cm = f_cm)\n",
    "    elif concrete_law == 'piecewise linear':\n",
    "        mc.cs_design.matrix_.trait_set(\n",
    "            eps_cy=EC2.get_eps_c3(f_ck),\n",
    "            eps_cu=EC2.get_eps_cu3(f_ck),\n",
    "        )\n",
    "    \n",
    "    mc.cs_design.matrix_.trait_set(E_cc=E_cm, \n",
    "                                   E_ct=E_cm, \n",
    "                                   eps_cr = fctm_fl/E_cm, \n",
    "                                   eps_tu = fctm_fl/E_cm,)\n",
    "\n",
    "    mc.cross_section_shape_.B = B\n",
    "    mc.cross_section_shape_.H = H\n",
    "\n",
    "    # Carbon properties\n",
    "    E_nm=E_f_mat if E_nm is None else E_nm\n",
    "    f_t=f_t_mat if f_t is None else f_t\n",
    "    spacing = 38\n",
    "    rov_num = int(B/spacing) + 1\n",
    "    rov_cs_area = 3.62\n",
    "    if A is None:\n",
    "        A = rov_num * rov_cs_area\n",
    "    if z is None:\n",
    "        z = 10\n",
    "        \n",
    "    d = H - z\n",
    "    \n",
    "    if reinf == 'carbon':\n",
    "        if grid_layers_n == 1:\n",
    "            bl1 = ReinfLayer(name='grid', z=z, A=A, matmod='carbon')\n",
    "            bl1.matmod_.trait_set(E=E_nm, f_t=f_t, factor = 1.)\n",
    "            mc.cross_section_layout.add_layer(bl1)\n",
    "        else:\n",
    "            for i in range(grid_layers_n):\n",
    "                if grid_layers_area:\n",
    "                    bl1 = ReinfLayer(name='grid', z=z + i*grid_layers_spacing, A=grid_layers_area[i], matmod='carbon')\n",
    "                else:\n",
    "                    bl1 = ReinfLayer(name='grid', z=z + i*grid_layers_spacing, A=A, matmod='carbon')\n",
    "                bl1.matmod_.trait_set(E=E_nm, f_t=f_t, factor = 1.)\n",
    "                mc.cross_section_layout.add_layer(bl1)\n",
    "            A = grid_layers_n * A\n",
    "    else:\n",
    "        bl1 = ReinfLayer(name='rebars', z=z, A=A, matmod='steel')\n",
    "        mc.cross_section_layout.add_layer(bl1)\n",
    "\n",
    "    rho = A/(B*d)\n",
    "    print('A=', A)\n",
    "    print(r'rho =', round(rho * 100, 2), r'%')\n",
    "    # mechanical reinforcement ratio\n",
    "#     w_m = A * f_t / (B * H * f_cm)\n",
    "#     print('w_m:', w_m)\n",
    "\n",
    "    dp = DeflectionProfile(mc=mc)\n",
    "    \n",
    "    if setup == '4pb':\n",
    "        dp.beam_design.system = '4pb'\n",
    "        if L_F is not None:\n",
    "            print('L_F assigned!')\n",
    "            dp.beam_design.system_.L_F = L_F\n",
    "    elif setup == '3pb':\n",
    "        dp.beam_design.system = '3pb'\n",
    "    elif setup == 'dist':\n",
    "        dp.beam_design.system = 'simple_beam_dist_load'\n",
    "        \n",
    "    dp.beam_design.system_.L = L\n",
    "    \n",
    "    print('l/d =', dp.beam_design.system_.L/d)\n",
    "    \n",
    "    return dp"
   ]
  },
  {
   "cell_type": "code",
   "execution_count": null,
   "id": "c5312544",
   "metadata": {},
   "outputs": [],
   "source": [
    "def get_exp_data(test_num=1):\n",
    "    skiprows = 3\n",
    "    delimiter=';'\n",
    "    decimal=','\n",
    "    file_path = './results/T' + str(test_num) + '.csv'\n",
    "    headers_array = list(np.array(pd.read_csv(file_path, delimiter=delimiter, decimal=decimal, nrows=1, header=None))[0])\n",
    "    \n",
    "    time_idx = 0\n",
    "    force_idx = headers_array.index('Kraft')\n",
    "    weg_idx = headers_array.index('Weg')\n",
    "    IWA_M_hinten_idx = headers_array.index('IWA_M_hinten')\n",
    "    IWA_M_vorne_idx = headers_array.index('IWA_M_vorne')\n",
    "    DMS_idx = headers_array.index('DMS-1')\n",
    "    \n",
    "    data = np.array(pd.read_csv(file_path, delimiter=delimiter, decimal=decimal, skiprows=skiprows))\n",
    "    time = data[:, 0]\n",
    "    force = -data[:, force_idx]\n",
    "    dms = -data[:, DMS_idx]\n",
    "    weg = -data[:, weg_idx]\n",
    "    hinten_vorne = - data[:, (IWA_M_hinten_idx, IWA_M_vorne_idx)]\n",
    "    avg_hinten_vorne = (hinten_vorne[:, 0] + hinten_vorne[:, 1])/2\n",
    "    \n",
    "    return time, force, weg, avg_hinten_vorne, dms, hinten_vorne\n",
    "\n",
    "def get_exp_fw(test_num=1):\n",
    "    _, force, _, avg_hinten_vorne, _ = get_exp_data(test_num = test_num)\n",
    "    return force, avg_hinten_vorne"
   ]
  },
  {
   "cell_type": "code",
   "execution_count": null,
   "id": "dd624e18",
   "metadata": {},
   "outputs": [],
   "source": [
    "get_dp().interact()"
   ]
  },
  {
   "cell_type": "markdown",
   "id": "1ec21cbe",
   "metadata": {},
   "source": [
    "## Grid data"
   ]
  },
  {
   "cell_type": "code",
   "execution_count": null,
   "id": "f07e88ab",
   "metadata": {},
   "outputs": [],
   "source": [
    "grid_data = dict(high_kappa =0.0003, B=300, H=100, concrete_law = 'EC2', L=1800)\n",
    "dp = get_dp(**grid_data)\n",
    "# sls = BeamSLSCurve(n_i = 12, dp=dp)\n",
    "dp.interact()\n",
    "# sls.run()\n",
    "# sls.interact()"
   ]
  },
  {
   "cell_type": "code",
   "execution_count": null,
   "id": "7a89a0e7",
   "metadata": {},
   "outputs": [],
   "source": [
    "# sls.plot_F_u()\n",
    "sls.plot_F_u(bending_shear_diff = True)\n",
    "# sls.plot_F_u(load='shear')\n",
    "\n",
    "\n",
    "# Achse x: Bewehrungsgrad rho [%]\n",
    "# Achse y: Biegeschlankheit l/d [-]"
   ]
  },
  {
   "cell_type": "markdown",
   "id": "8ff814dc",
   "metadata": {},
   "source": [
    "## Grid 1 layer, 3PB"
   ]
  },
  {
   "cell_type": "code",
   "execution_count": null,
   "id": "e1ac859c",
   "metadata": {},
   "outputs": [],
   "source": [
    "dp = get_dp(**grid_data, setup='3pb', fctm_fl=5)\n",
    "dp.interact()"
   ]
  },
  {
   "cell_type": "markdown",
   "id": "09293029",
   "metadata": {},
   "source": [
    "### T8_3PB_C_1\n",
    "It's giving very good results (especially in the begining of the curve where the first crack appears) with the new softening tensile law with high resolution for L-D and kappa"
   ]
  },
  {
   "cell_type": "code",
   "execution_count": null,
   "id": "9caff42f",
   "metadata": {},
   "outputs": [],
   "source": [
    "# Importing exp data\n",
    "_, force, _, _, _ , hinten_vorne= get_exp_data(test_num = 8)\n",
    "\n",
    "deflection = hinten_vorne[:, 1]\n",
    "\n",
    "# Adding exp data to dp object\n",
    "dp.add_fw_exp(force, deflection)\n",
    "\n",
    "# Plotting load-deflection\n",
    "fig, ax = plt.subplots()\n",
    "dp.plot_fw_with_fmax(ax)\n",
    "# fig.savefig('T1_4PB_C_1_load_deflection.pdf')\n",
    "fig"
   ]
  },
  {
   "cell_type": "markdown",
   "id": "f3ddbb40",
   "metadata": {},
   "source": [
    "## Grid 1 layer, 4pb loading"
   ]
  },
  {
   "cell_type": "code",
   "execution_count": null,
   "id": "94b9b2ea",
   "metadata": {},
   "outputs": [],
   "source": [
    "dp = get_dp(high_kappa =0.0003, B=303, H=99, carbon_type = 'grid', concrete_law = 'EC2', L=1800, \n",
    "            setup='4pb', f_t=3800, E_nm=245000, fctm_fl=5.2, E_cm=45208.51, f_cm=97.58)\n",
    "dp.interact()"
   ]
  },
  {
   "cell_type": "markdown",
   "id": "12ca104d",
   "metadata": {},
   "source": [
    "### T1_4PB_C_1"
   ]
  },
  {
   "cell_type": "code",
   "execution_count": null,
   "id": "c3b26a69",
   "metadata": {},
   "outputs": [],
   "source": [
    "# Importing exp data\n",
    "force, deflection = get_exp_fw(1)\n",
    "\n",
    "# Adding exp data to dp object\n",
    "dp.add_fw_exp(force, deflection)\n",
    "\n",
    "# Plotting load-deflection\n",
    "fig, ax = plt.subplots()\n",
    "dp.plot_fw_with_fmax(ax)\n",
    "# fig.savefig('T1_4PB_C_1_load_deflection.pdf')\n",
    "fig"
   ]
  },
  {
   "cell_type": "markdown",
   "id": "a7a1fbc9",
   "metadata": {},
   "source": [
    "### T2_4PB_C_1"
   ]
  },
  {
   "cell_type": "code",
   "execution_count": null,
   "id": "e1302a31",
   "metadata": {},
   "outputs": [],
   "source": [
    "beton_stauchung_max = -1525*1e-6\n",
    "beton_stauchung_max"
   ]
  },
  {
   "cell_type": "code",
   "execution_count": null,
   "id": "71d200c5",
   "metadata": {},
   "outputs": [],
   "source": [
    "B_1_M_1 = dict(f_cm = 97.58, E_cm = 45208.51, fctm_fl=0.9*5.02)\n",
    "dp = get_dp(**grid_data, setup='4pb', **B_1_M_1)\n",
    "dp.interact()"
   ]
  },
  {
   "cell_type": "markdown",
   "id": "d01863ad",
   "metadata": {},
   "source": [
    "## Grid 1.5 layers"
   ]
  },
  {
   "cell_type": "code",
   "execution_count": null,
   "id": "82443a44",
   "metadata": {},
   "outputs": [],
   "source": [
    "dp = get_dp(**grid_data, grid_layers_n=2, grid_layers_spacing=10, setup='4pb')\n",
    "\n",
    "dp.mc.cross_section_layout.items[1].z = 20\n",
    "dp.mc.cross_section_layout.items[1].A = 4 * 3.62 # 0.5 layer\n",
    "\n",
    "dp.interact()"
   ]
  },
  {
   "cell_type": "markdown",
   "id": "f7fc34a0",
   "metadata": {},
   "source": [
    "## Grid 3 layers, 4pb (shear failure!)"
   ]
  },
  {
   "cell_type": "code",
   "execution_count": null,
   "id": "c6222fee",
   "metadata": {},
   "outputs": [],
   "source": [
    "4130*1e-6"
   ]
  },
  {
   "cell_type": "code",
   "execution_count": null,
   "id": "a6b52961",
   "metadata": {},
   "outputs": [],
   "source": [
    "# dp = get_dp(**grid_data, grid_layers_n=3, grid_layers_spacing=10, setup='4pb')\n",
    "dp = get_dp(high_kappa =0.0003, B=200, H=80, carbon_type = 'grid', concrete_law = 'EC2', L=1800, grid_layers_n=3, grid_layers_spacing=10, setup='4pb')\n",
    "\n",
    "dp.mc.cross_section_layout.items[1].z = 15\n",
    "dp.mc.cross_section_layout.items[2].z = 20\n",
    "# dp.mc.cross_section_layout.items[1].A = 4 * 3.62 # 0.5 layer\n",
    "\n",
    "# NOTE: Edit area of each layer to be 5*3.62 = 18.1 mm^2, because 6 layers fit but will not have concrete cover from the sides\n",
    "\n",
    "dp.interact()"
   ]
  },
  {
   "cell_type": "markdown",
   "id": "90569bea",
   "metadata": {},
   "source": [
    "## Grid 0.5 layer + 2 steel rebars, 4pb loading"
   ]
  },
  {
   "cell_type": "code",
   "execution_count": null,
   "id": "e7d8d0ea",
   "metadata": {},
   "outputs": [],
   "source": [
    "dp = get_dp(**grid_data, setup='4pb', z=20, A=4*3.62)\n",
    "\n",
    "bl1 = ReinfLayer(name='steel', z=14, A=2*np.pi * (4**2), matmod='steel')\n",
    "dp.mc.cross_section_layout.add_layer(bl1)\n",
    "\n",
    "dp.interact()"
   ]
  },
  {
   "cell_type": "markdown",
   "id": "74681b1b",
   "metadata": {},
   "source": [
    "## 4 Steel rebars, 4pb"
   ]
  },
  {
   "cell_type": "code",
   "execution_count": null,
   "id": "c10c8c51",
   "metadata": {},
   "outputs": [],
   "source": [
    "dp = get_dp(high_kappa =0.0003, B=300, H=100, setup='4pb', reinf = 'steel', concrete_law = 'EC2', L=1800, A=4*np.pi * (4**2), z=14)\n",
    "dp.interact()"
   ]
  }
 ],
 "metadata": {
  "kernelspec": {
   "display_name": "Python 3 (ipykernel)",
   "language": "python",
   "name": "python3"
  },
  "language_info": {
   "codemirror_mode": {
    "name": "ipython",
    "version": 3
   },
   "file_extension": ".py",
   "mimetype": "text/x-python",
   "name": "python",
   "nbconvert_exporter": "python",
   "pygments_lexer": "ipython3"
  }
 },
 "nbformat": 4,
 "nbformat_minor": 5
}
