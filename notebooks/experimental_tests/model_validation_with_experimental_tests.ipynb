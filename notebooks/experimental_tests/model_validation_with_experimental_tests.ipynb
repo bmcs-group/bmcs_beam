{
 "cells": [
  {
   "cell_type": "code",
   "execution_count": null,
   "id": "68b9eba4",
   "metadata": {},
   "outputs": [],
   "source": [
    "%matplotlib widget\n",
    "from bmcs_cross_section.api import MKappa, EC2, ACI318,  ReinfLayer, EC2ConcreteMatMod, EC2PlateauConcreteMatMod, ACI440, AnaFRPBending\n",
    "from bmcs_beam.api import FourPBSystem, BoundaryConditions, BoundaryConfig, DeflectionProfile, BeamDesign, BeamSLSCurve\n",
    "import numpy as np\n",
    "import pandas as pd\n",
    "import bmcs_utils.api as bu\n",
    "import matplotlib.pyplot as plt"
   ]
  },
  {
   "cell_type": "markdown",
   "id": "72b8aa88",
   "metadata": {},
   "source": [
    "# Functions definition"
   ]
  },
  {
   "cell_type": "markdown",
   "id": "0c745266",
   "metadata": {},
   "source": [
    "## Model objects functions:"
   ]
  },
  {
   "cell_type": "code",
   "execution_count": null,
   "id": "bf839029",
   "metadata": {},
   "outputs": [],
   "source": [
    "# F_crack in kN read visually from curves\n",
    "F_crack = [7.32, 6.48, 6.74, 5.89, 2.9, 2.2, 2.95, 6.73, 7.27, 6.94, 6.27, 6.3, 5.9]"
   ]
  },
  {
   "cell_type": "code",
   "execution_count": null,
   "id": "2d8dffe2",
   "metadata": {},
   "outputs": [],
   "source": [
    "# Concrete C3-HF2-165-4\n",
    "E_cm_C3 = 44049.8\n",
    "f_cm_C3 = 96.96\n",
    "fctm_sp = 4.89\n",
    "fctm_fl = 11.62"
   ]
  },
  {
   "cell_type": "code",
   "execution_count": null,
   "id": "d2e8060f",
   "metadata": {},
   "outputs": [],
   "source": [
    "# solidian GRID Q95-CCE-38-E5 (according to performed tensile tests)\n",
    "f_t_mat = 3823.9\n",
    "E_f_mat = 246525.28"
   ]
  },
  {
   "cell_type": "code",
   "execution_count": null,
   "id": "78627e82",
   "metadata": {},
   "outputs": [],
   "source": [
    "def get_dp(f_cm = f_cm_C3, E_cm = E_cm_C3, fctm_fl=None,\n",
    "           setup='4pb', L=1800, L_F=None,\n",
    "           high_kappa = 0.00018, concrete_law='EC2',\n",
    "           B=200, H=150, A = None,\n",
    "           reinf = 'carbon',\n",
    "           E_nm=None, f_t=None, z=None,\n",
    "           grid_layers_spacing=[], grid_layers_area=[],\n",
    "          design_mode = False,\n",
    "          ):\n",
    "    \n",
    "    mc = MKappa(low_kappa = 0, high_kappa = high_kappa, n_kappa=400)\n",
    "    \n",
    "    mc.cs_design.matrix=concrete_law\n",
    "    \n",
    "    f_ck = EC2.get_f_ck_from_f_cm(f_cm)\n",
    "    if fctm_fl is None:\n",
    "        fctm_fl = EC2.get_f_ctm_fl(f_ck, H)\n",
    "    if concrete_law == 'EC2 with plateau' or concrete_law == 'EC2':\n",
    "        mc.cs_design.matrix_.trait_set(f_cm = f_cm)\n",
    "    elif concrete_law == 'piecewise linear':\n",
    "        mc.cs_design.matrix_.trait_set(\n",
    "            eps_cy=EC2.get_eps_c3(f_ck),\n",
    "            eps_cu=EC2.get_eps_cu3(f_ck),\n",
    "        )\n",
    "    \n",
    "    mc.cs_design.matrix_.trait_set(E_cc=None if design_mode else E_cm, \n",
    "                                   E_ct=None if design_mode else E_cm, \n",
    "                                   eps_cr = fctm_fl/E_cm, \n",
    "                                   eps_tu = fctm_fl/E_cm,\n",
    "                                   factor = 0.85 / 1.5 if design_mode else 1,\n",
    "                                  )\n",
    "\n",
    "    mc.cross_section_shape_.B = B\n",
    "    mc.cross_section_shape_.H = H\n",
    "\n",
    "    # Carbon properties\n",
    "    E_nm=E_f_mat if E_nm is None else E_nm\n",
    "    f_t=f_t_mat if f_t is None else f_t\n",
    "    spacing = 38\n",
    "    rov_num = int(B/spacing) + 1\n",
    "    rov_cs_area = 3.62\n",
    "    if A is None:\n",
    "        A = rov_num * rov_cs_area\n",
    "    if z is None:\n",
    "        z = 10\n",
    "        \n",
    "    d = H - z\n",
    "    \n",
    "    grid_layers_n = len(grid_layers_area) if grid_layers_area else 1\n",
    "    if reinf == 'carbon':\n",
    "        if grid_layers_n == 1:\n",
    "            bl1 = ReinfLayer(name='grid', z=z, A=A, matmod='carbon')\n",
    "            bl1.matmod_.trait_set(E=E_nm, f_t=f_t, factor = (0.85 * 0.9 / 1.3) * (0.85) if design_mode else 1)\n",
    "            mc.cross_section_layout.add_layer(bl1)\n",
    "        else:\n",
    "            for i in range(grid_layers_n):\n",
    "                bl1 = ReinfLayer(name='grid ' + str(i+1), \n",
    "                                 z=grid_layers_spacing[i] if grid_layers_spacing else 10, \n",
    "                                 A=grid_layers_area[i] if grid_layers_area else A, \n",
    "                                 matmod='carbon')\n",
    "                bl1.matmod_.trait_set(E=E_nm, f_t=f_t, factor = (0.85 * 0.9 / 1.3) * (0.85) if design_mode else 1)\n",
    "                mc.cross_section_layout.add_layer(bl1)\n",
    "            A = grid_layers_n * A\n",
    "    else:\n",
    "        bl1 = ReinfLayer(name='rebars', z=z, A=A, matmod='steel')\n",
    "        bl1.matmod_.factor = 1 / 1.15 if design_mode else 1\n",
    "        mc.cross_section_layout.add_layer(bl1)\n",
    "\n",
    "    rho = A/(B*d)\n",
    "    print('A=', A)\n",
    "    print(r'rho =', round(rho * 100, 2), r'%')\n",
    "    # mechanical reinforcement ratio\n",
    "#     w_m = A * f_t / (B * H * f_cm)\n",
    "#     print('w_m:', w_m)\n",
    "\n",
    "    dp = DeflectionProfile(mc=mc)\n",
    "    \n",
    "    if setup == '4pb':\n",
    "        dp.beam_design.system = '4pb'\n",
    "        if L_F is not None:\n",
    "            print('L_F assigned!')\n",
    "            dp.beam_design.system_.L_F = L_F\n",
    "    elif setup == '3pb':\n",
    "        dp.beam_design.system = '3pb'\n",
    "    elif setup == 'dist':\n",
    "        dp.beam_design.system = 'simple_beam_dist_load'\n",
    "        \n",
    "    dp.beam_design.system_.L = L\n",
    "    \n",
    "    print('l/d =', dp.beam_design.system_.L/d)\n",
    "    \n",
    "    return dp\n",
    "\n",
    "def get_exp_fw_avg(test_num=1, ax=None):\n",
    "    similar_test_list = [[1, 2], [3, 4], [5, 6, 7], [8, 9], [10, 11], [12, 13]]\n",
    "    for lis in similar_test_list:\n",
    "        if test_num in lis:\n",
    "            f, w = bu.get_fw_curves_avg([get_exp_fw(test_num_, as_one_array=True) for test_num_ in lis], ax=ax)\n",
    "            if ax is not None:\n",
    "                ax.plot(w, f, label=r'exp_fw_avg')\n",
    "            return f, w\n",
    "\n",
    "def get_exp_fw_avg_asc(test_num=1, ax=None):\n",
    "    exp_fw_avg = get_exp_fw_avg(test_num)\n",
    "    f_avg_desc, w_avg_desc = bu.get_exp_fw_asc(exp_fw_avg)\n",
    "    if ax is not None:\n",
    "        ax.plot(w_avg_desc, f_avg_desc, 'g', label=r'exp_fw_avg_asc')\n",
    "    return w_avg_desc, f_avg_desc\n",
    "\n",
    "def get_exp_fw_asc(test_num=1, ax=None):\n",
    "    f_asc, w_asc = bu.get_exp_fw_asc(get_exp_fw(test_num))\n",
    "    if ax is not None:\n",
    "        ax.plot(w_asc, f_asc, 'g', label=r'exp_fw_asc')\n",
    "    return w_asc, f_asc\n",
    "\n",
    "def get_limit_values(dp, test_num=1, df = None):\n",
    "    f_cm = dp.mc.cs_design.matrix_.f_cm\n",
    "    E_cm = dp.mc.cs_design.matrix_.E_cc\n",
    "    f_ctm = dp.mc.cs_design.matrix_.f_ctm\n",
    "    b = dp.mc.cross_section_shape_.B\n",
    "    h = dp.mc.cross_section_shape_.H\n",
    "    L = dp.beam_design.L / 1000\n",
    "    w_sls = L * 1000/250 # ACI uses 240 for l/d studies (see ACI 440 PDF p. 24), but no big difference so 250 used\n",
    "    \n",
    "    f_crack_exp = np.array(F_crack)\n",
    "    f_crack_exp = f_crack_exp[test_num - 1]\n",
    "    M_crack_exp = f_crack_exp * L / 4 if test_num == 8 or test_num == 9 else f_crack_exp * L / 6\n",
    "    \n",
    "    f_exp, w_exp = get_exp_fw(test_num)\n",
    "    f_max_exp = np.nanmax(f_exp)\n",
    "    M_max_exp = f_max_exp * L / 4 if test_num == 8 or test_num == 9 else f_max_exp * L / 6\n",
    "    w_max_exp = np.nanmax(w_exp)\n",
    "    \n",
    "    f_sim, w_sim = dp.get_Fw()\n",
    "    f_sim = dp.final_plot_F_scale * f_sim\n",
    "    f_max_sim = np.max(f_sim)\n",
    "    w_max_sim = np.max(w_sim)\n",
    "\n",
    "    f_exp_asc, w_exp_asc = bu.get_exp_fw_asc([f_exp, w_exp])\n",
    "    f_sls_exp = np.interp(w_sls, w_exp_asc, f_exp_asc)\n",
    "    M_sls_exp = f_sls_exp  * L / 4 if test_num == 8 or test_num == 9 else f_sls_exp * L / 6\n",
    "    f_sls_to_max = f_sls_exp / f_max_exp\n",
    "    \n",
    "    w_sls_sim = np.interp(f_sls_exp, f_sim, w_sim)\n",
    "    \n",
    "    A_f_list = []\n",
    "    z_list = []\n",
    "    E_carbon = E_f_mat\n",
    "    f_t_carbon = f_t_mat\n",
    "    E_steel = 200000\n",
    "    f_sy = 500\n",
    "    \n",
    "    for reinf_layer in list(dp.mc.cross_section_layout.items.values()):\n",
    "        A_f_list.append(reinf_layer.A)\n",
    "        z_list.append(reinf_layer.z)\n",
    "        \n",
    "    A_f_list = np.array(A_f_list)\n",
    "    z_list = np.array(z_list)\n",
    "    A_f_tot = np.sum(A_f_list)\n",
    "    d_eqv = np.full_like(z_list, h) - z_list\n",
    "    d_eqv = np.sum(d_eqv * A_f_list) / A_f_tot\n",
    "    \n",
    "    if test_num in [10, 11]: # hybrid\n",
    "        M_aci = np.nan\n",
    "    elif test_num in [12, 13]:\n",
    "        M_aci = ACI318.get_M_n(A_s=A_f_tot, f_y=f_sy, f_c=f_cm, b=b, d=d_eqv)\n",
    "    else:\n",
    "        M_aci = ACI440.get_M_n(A_f=A_f_tot, f_fu=f_t_carbon, E_f=E_carbon, f_c=f_cm, b=b, d=d_eqv)\n",
    "        \n",
    "    f_max_aci = 4 * M_aci / L if test_num in [8, 9] else 6 * M_aci / L\n",
    "    \n",
    "    if test_num in [10, 11]:\n",
    "        w_sls_aci = np.nan\n",
    "        M_crack_aci = np.nan\n",
    "    elif test_num in [12, 13]:\n",
    "        w_sls_aci, (_, _, _, M_crack_aci) = ACI318.get_w(A_s=A_f_tot, \n",
    "                                 E_c = E_cm, \n",
    "                                 f_ct = f_ctm, \n",
    "                                 E_s = 200000, \n",
    "                                 M_a = M_sls_exp*1e6, \n",
    "                                 f_c=f_cm, h=h, b=b, \n",
    "                                 d=d_eqv, l=L*1000, l_a=L*1000/3, \n",
    "                                 load_type='3pb' if test_num == 8 or test_num == 9 else '4pb')\n",
    "        M_crack_aci = M_crack_aci/1e6\n",
    "    else:\n",
    "        w_sls_aci, (_, _, _, M_crack_aci) = ACI440.get_w(A_f=A_f_tot, \n",
    "                                 E_c = E_cm, \n",
    "                                 f_ct = f_ctm, \n",
    "                                 E_f = E_carbon, \n",
    "                                 M_a = M_sls_exp*1e6, \n",
    "                                 f_c=f_cm, h=h, b=b, \n",
    "                                 d=d_eqv, l=L*1000, l_a=L*1000/3, \n",
    "                                 load_type='3pb' if test_num == 8 or test_num == 9 else '4pb')\n",
    "        M_crack_aci = M_crack_aci/1e6\n",
    "    \n",
    "    if df is None:\n",
    "        namings = ['f_max_exp', 'f_max_sim', 'f_max_aci', 'w_max_exp', \n",
    "                   'w_max_sim', 'f_sls_exp', 'f_sls_to_max', 'M_crack_exp', 'M_crack_aci', \n",
    "                   'w_sls', 'w_sls_sim', 'w_sls_aci']\n",
    "        units = ['[kN]', '[kN]', '[kN]', '[mm]', \n",
    "                   '[mm]', '[kN]', '[-]', '[kNm]', '[kNm]', \n",
    "                   '[mm]', '[mm]', '[mm]']\n",
    "        df = pd.DataFrame(columns=pd.MultiIndex.from_arrays([namings, units]))\n",
    "\n",
    "    new_row_idx = len(df)\n",
    "    df.loc[new_row_idx] = [f_max_exp, f_max_sim, f_max_aci, w_max_exp,\n",
    "                          w_max_sim, f_sls_exp, f_sls_to_max, M_crack_exp, M_crack_aci,\n",
    "                          w_sls, w_sls_sim, w_sls_aci]\n",
    "    \n",
    "    decimal_places = {'f_max_exp': 2, 'f_max_sim': 2, 'f_max_aci': 2, 'w_max_exp': 1,\n",
    "                      'w_max_sim': 1, 'f_sls_exp': 2, 'f_sls_to_max': 2, 'M_crack_exp': 1, 'M_crack_aci': 1,\n",
    "                      'w_sls': 1, 'w_sls_sim': 1, 'w_sls_aci': 1}\n",
    "    for column, decimals in decimal_places.items():\n",
    "        df[column] = df[column].round(decimals)\n",
    "        \n",
    "    return df"
   ]
  },
  {
   "cell_type": "markdown",
   "id": "efad370d",
   "metadata": {},
   "source": [
    "## Importing data functions:"
   ]
  },
  {
   "cell_type": "code",
   "execution_count": null,
   "id": "c5312544",
   "metadata": {},
   "outputs": [],
   "source": [
    "def get_exp_data_gom(test_num=1):\n",
    "    file_path = './results/T' + str(test_num) + '_GOM.csv'\n",
    "    df = pd.read_csv(file_path, delimiter=';', decimal=',', skiprows = [1])\n",
    "    \n",
    "    force = -np.array(df['Kraft'])\n",
    "    top_strain = np.array(df['top_strain_right']) if 'top_strain_right' in df else None\n",
    "    bottom_strain = np.array(df['bottom_strain_right']) if 'bottom_strain_right' in df else None\n",
    "    if top_strain is None or bottom_strain is None:\n",
    "        top_strain = np.array(df['top_strain_left']) if 'top_strain_left' in df else None\n",
    "        bottom_strain = np.array(df['bottom_strain_left']) if 'bottom_strain_left' in df else None\n",
    "    disp_right = -np.array(df['Deflection_dic_right']) if 'Deflection_dic_right' in df else None\n",
    "    disp_left = -np.array(df['Deflection_dic_left']) if 'Deflection_dic_left' in df else None\n",
    "    disp_avg = (disp_left + disp_right)/2\n",
    "  \n",
    "    return force, disp_avg, top_strain, bottom_strain\n",
    "\n",
    "def get_exp_data(test_num=1):\n",
    "    skiprows = 3\n",
    "    delimiter=';'\n",
    "    decimal=','\n",
    "    file_path = './results/T' + str(test_num) + '.csv'\n",
    "    headers_array = list(np.array(pd.read_csv(file_path, delimiter=delimiter, decimal=decimal, nrows=1, header=None))[0])\n",
    "    \n",
    "    time_idx = 0\n",
    "    force_idx = headers_array.index('Kraft')\n",
    "    weg_idx = headers_array.index('Weg')\n",
    "    IWA_M_hinten_idx = headers_array.index('IWA_M_hinten')\n",
    "    IWA_M_vorne_idx = headers_array.index('IWA_M_vorne')\n",
    "    IWA_M_idx = headers_array.index('IWA_M')\n",
    "    DMS_idx = headers_array.index('DMS-1')\n",
    "    \n",
    "    data = np.array(pd.read_csv(file_path, delimiter=delimiter, decimal=decimal, skiprows=skiprows))\n",
    "    time = data[:, 0]\n",
    "    force = -data[:, force_idx]\n",
    "    dms = data[:, DMS_idx]\n",
    "    midspan_hor = -data[:, IWA_M_idx]\n",
    "    weg = -data[:, weg_idx]\n",
    "    hinten_vorne = - data[:, (IWA_M_hinten_idx, IWA_M_vorne_idx)]\n",
    "    avg_hinten_vorne = (hinten_vorne[:, 0] + hinten_vorne[:, 1])/2\n",
    "    \n",
    "    return time, force, weg, avg_hinten_vorne, dms, hinten_vorne, midspan_hor\n",
    "\n",
    "def get_exp_fw(test_num=1, as_one_array=False):\n",
    "    _, force, _, avg_hinten_vorne, _, hinten_vorne, _ = get_exp_data(test_num = test_num)\n",
    "    if test_num == 7:\n",
    "        avg_hinten_vorne = hinten_vorne[:, 0]\n",
    "    elif test_num == 8:\n",
    "        avg_hinten_vorne = hinten_vorne[:, 1]\n",
    "    if as_one_array:\n",
    "        fw = np.zeros((len(force), 2))\n",
    "        fw[:, 0] = force\n",
    "        fw[:, 1] = avg_hinten_vorne\n",
    "        return fw\n",
    "    else:\n",
    "        return force, avg_hinten_vorne"
   ]
  },
  {
   "cell_type": "markdown",
   "id": "718f9ecc",
   "metadata": {},
   "source": [
    "## Plotting functions:"
   ]
  },
  {
   "cell_type": "code",
   "execution_count": null,
   "id": "4c58db4c",
   "metadata": {},
   "outputs": [],
   "source": [
    "bu.set_latex_mpl_format()\n",
    "plot_colors = bu.plot_colors\n",
    "\n",
    "def plot_fw_gom(test_num=None, test_name='', dp=None, title=None, ax=None, limit_x_axis = False, color_i=0, plot_sls_limit=True):\n",
    "    fig, ax = plot_fw(test_num=test_num, test_name=test_name, \n",
    "                          dp=None, title=title, ax=ax, color_i=color_i, \n",
    "                          plot_sls_limit=False, limit_x_axis=limit_x_axis)\n",
    "    force, disp_avg, _, _ = get_exp_data_gom(test_num)\n",
    "    ax.plot(disp_avg, force, c=plot_colors[color_i + 1], label = test_name + '_DIC')\n",
    "    ax.legend()\n",
    "    ax.set_title('LVDTs vs DIC comparison')\n",
    "    return fig, ax\n",
    "\n",
    "def plot_fw(test_num=None, test_name='', dp=None, title=None, ax=None, limit_x_axis = True, color_i=0, plot_sls_limit=True):\n",
    "    if ax is None:\n",
    "        fig, ax = plt.subplots(figsize=(6, 4.7))\n",
    "    if dp:\n",
    "        dp.plot_fw(ax, dashed=True, color=plot_colors[color_i], label=  test_name + ' (Sim.)', lw=1.5)\n",
    "        if plot_sls_limit:\n",
    "            sls_w_limit = dp.beam_design.system_.L/250\n",
    "            ax.axvline(x=sls_w_limit)\n",
    "\n",
    "    if test_num:\n",
    "        f, w = get_exp_fw(test_num)\n",
    "        ax.plot(w, f, c=plot_colors[color_i], label=  test_name + ' (Exp.)', lw=1.25)\n",
    "        \n",
    "    if title is not None:\n",
    "        ax.set_title(title)\n",
    "    ax.set_xlabel('Midspan deflection [mm]')\n",
    "    ax.set_ylabel('Load [kN]')\n",
    "    if test_num not in [12, 13] and limit_x_axis:\n",
    "        ax.set_xlim([-5, 105])\n",
    "    ax.set_ylim([-3, 45])\n",
    "    ax.legend()\n",
    "#     ax.grid()\n",
    "    return ax.get_figure(), ax\n",
    "    \n",
    "def plot_mk(test_num, dp, l_lvdt=200, gom=False, ax=None, color_1='#bc2122', color_2='black'):\n",
    "    if gom:\n",
    "        force, _, strain_midspan_top, strain_midspan_bottom = get_exp_data_gom(test_num)\n",
    "    else:\n",
    "        # I used l_lvdt = 200 mm as the LVDT distance, but this was not accurate and slightly different each test\n",
    "        _, force, _, _, dms, _, midspan_hor = get_exp_data(test_num)\n",
    "        strain_midspan_top = dms * 1e-6\n",
    "        strain_midspan_bottom = midspan_hor / l_lvdt\n",
    "    \n",
    "    # Curvature\n",
    "    h = 80 - 15 if test_num in [5, 6, 7] else 100 - 15\n",
    "    kappa = -(strain_midspan_top - strain_midspan_bottom) / h\n",
    "    \n",
    "    # Moment\n",
    "    L_F = 600 # distance to force\n",
    "    L = 1800\n",
    "    moment = (force * L / 4) / 1000 if test_num in [8, 9] else (force * L_F / 2) / 1000\n",
    "    \n",
    "    if ax is None:\n",
    "        fig, ax = plt.subplots(figsize=(6, 4.7))\n",
    "    else:\n",
    "        fig = ax.get_figure()\n",
    "    if test_num not in [12, 13]:\n",
    "        ax.set_xlim([-0.000015, 0.0003])\n",
    "        \n",
    "    ax.set_ylim([-0.5, 13.2])\n",
    "\n",
    "    dp.mc.plot_mk(ax, color=color_2, dashed=True)\n",
    "    ax.plot(kappa, moment, color=color_1, label='T' + str(test_num))\n",
    "    ax.legend()\n",
    "    fig.show()\n",
    "    \n",
    "    # max\n",
    "    max_force_idx = np.argmax(force)\n",
    "    max_comp_strain= strain_midspan_top[max_force_idx]\n",
    "    max_tensile_strain = strain_midspan_bottom[max_force_idx]\n",
    "    print('max_comp_strain =', max_comp_strain, ', max_tensile_strain = ', max_tensile_strain)"
   ]
  },
  {
   "cell_type": "code",
   "execution_count": null,
   "id": "bb6eba16",
   "metadata": {},
   "outputs": [],
   "source": [
    "# M1 concrete mix (average of M1 + M2 in the excel table)\n",
    "M1_f_cm = 98.63\n",
    "M1_E_cm = 45306.54\n",
    "M1_f_ctm = 5.11\n",
    "M1_concrete = dict(f_cm= M1_f_cm, E_cm = M1_E_cm, fctm_fl=M1_f_ctm)\n",
    "\n",
    "# M2 concrete mix (average of M3 + M4 in the excel table)\n",
    "M2_f_cm = 95.3\n",
    "M2_E_cm = 42793.1\n",
    "M2_f_ctm = 4.67\n",
    "M2_concrete = dict(f_cm= M2_f_cm, E_cm = M2_E_cm, fctm_fl=M2_f_ctm)"
   ]
  },
  {
   "cell_type": "markdown",
   "id": "dc1d0a00",
   "metadata": {},
   "source": [
    "# Experiments"
   ]
  },
  {
   "cell_type": "markdown",
   "id": "ba930a8c",
   "metadata": {},
   "source": [
    "## T1_4PB_C_1, T2_4PB_C_1"
   ]
  },
  {
   "cell_type": "code",
   "execution_count": null,
   "id": "67647eb8",
   "metadata": {},
   "outputs": [],
   "source": [
    "# Using T1 exact dimensions\n",
    "dp1_2 = get_dp(high_kappa =0.0003, B=303, H=99, setup='4pb', reinf = 'carbon', **M1_concrete)\n",
    "dp1_2.interact()"
   ]
  },
  {
   "cell_type": "code",
   "execution_count": null,
   "id": "07965679",
   "metadata": {},
   "outputs": [],
   "source": [
    "# Get load-deflection curve based on ACI deflection formulas\n",
    "ws = []\n",
    "fs = np.linspace(0, 30000, 200)\n",
    "for f in fs:\n",
    "    w, _ = ACI440.get_w(A_f=28.96, \n",
    "                     E_c = M1_E_cm, \n",
    "                     f_ct = M1_f_ctm, \n",
    "                     E_f=246525.28, \n",
    "                     M_a = (f/2)*600, \n",
    "                     f_c=98.63, h=99, b=303, \n",
    "                      d=89, l=1800, l_a=600, \n",
    "                     load_type='4pb')\n",
    "    ws.append(w)"
   ]
  },
  {
   "cell_type": "code",
   "execution_count": null,
   "id": "9f8b59ee",
   "metadata": {},
   "outputs": [],
   "source": [
    "fig, ax = plot_fw(1, r'T1_4PB_C_1', dp=dp1_2, color_i=0)\n",
    "plot_fw(2, r'T2_4PB_C_1', ax=ax, color_i=1)\n",
    "# fig.savefig('T1_T2_ld_exp_vs_sim.pdf')\n",
    "ax.plot(ws, fs/1000)\n",
    "fig.show()"
   ]
  },
  {
   "cell_type": "code",
   "execution_count": null,
   "id": "48c26e75",
   "metadata": {},
   "outputs": [],
   "source": [
    "get_exp_fw_asc(1, ax=ax)"
   ]
  },
  {
   "cell_type": "code",
   "execution_count": null,
   "id": "5ffa4750",
   "metadata": {},
   "outputs": [],
   "source": [
    "plot_mk(1, dp1_2, l_lvdt=225)"
   ]
  },
  {
   "cell_type": "markdown",
   "id": "3c5aa24b",
   "metadata": {},
   "source": [
    "### Other functions..."
   ]
  },
  {
   "cell_type": "code",
   "execution_count": null,
   "id": "763f3920",
   "metadata": {},
   "outputs": [],
   "source": [
    "# dp1_2_d = get_dp(high_kappa =0.0003, B=303, H=99, setup='4pb', reinf = 'carbon', design_mode=True, **M1_concrete)\n",
    "# dp1_2_d.interact()"
   ]
  },
  {
   "cell_type": "code",
   "execution_count": null,
   "id": "6103a5cb",
   "metadata": {},
   "outputs": [],
   "source": [
    "# ACI440.get_M_n(A_f=28.96, f_fu=3823.9, E_f=246525.28, f_c=98.63, b=303, d=89)\n",
    "# ACI440.get_rho_balanced(f_c=98.63, f_fu=3823.9, E_f=246525.28)"
   ]
  },
  {
   "cell_type": "code",
   "execution_count": null,
   "id": "9f10bf53",
   "metadata": {},
   "outputs": [],
   "source": [
    "# fig4, axes = dp1_2.mc.plot_M_rho_and_util_factors(type='stress', n_rho = 50)\n",
    "# fig4"
   ]
  },
  {
   "cell_type": "code",
   "execution_count": null,
   "id": "7a5e004b",
   "metadata": {},
   "outputs": [],
   "source": [
    "# frp_b = AnaFRPBending(mc = dp1_2.mc)\n",
    "\n",
    "# rho_f_list = np.linspace(0, 0.025, 300)\n",
    "# psi_f_list = np.zeros_like(rho_f_list)\n",
    "# psi_c_list = np.zeros_like(rho_f_list)\n",
    "# M_u_list = np.zeros_like(rho_f_list)\n",
    "# M_u_aci_list = np.zeros_like(rho_f_list)\n",
    "# # f_cms = np.linspace(20, 108, 10)\n",
    "# # rho_diff = np.zeros_like(f_cms)\n",
    "\n",
    "# # fig3, (ax1, ax2, ax3) = plt.subplots(3, 1)\n",
    "\n",
    "# for i, rho_f in enumerate(rho_f_list):\n",
    "#     frp_b.A_f = rho_f * frp_b.b * frp_b.d\n",
    "#     psi_f_list[i] = frp_b.psi_f\n",
    "#     psi_c_list[i] = frp_b.psi_c\n",
    "#     M_u_list[i] = frp_b.M_u\n",
    "#     M_u_aci_list[i] = ACI440.get_M_n(A_f=rho_f * frp_b.b * frp_b.d, f_fu=3823.9, E_f=246525.28, f_c=98.63, b=303, d=89)\n",
    "\n",
    "# ax1.plot(rho_f_list, M_u_list)\n",
    "# ax1.plot(rho_f_list, M_u_aci_list)\n",
    "# ax2.plot(rho_f_list, psi_f_list)\n",
    "# ax2.plot(rho_f_list, psi_c_list)\n",
    "# ax2.axvline(frp_b.rho_f_cy , ls='--', lw=1, c='black')\n",
    "# ax2.axvline(frp_b.rho_fb , ls='--', lw=1, c='black')\n",
    "# ax2.text(frp_b.rho_f_cy, 0, r'$\\rho_{f, cy}$', rotation=90)\n",
    "# ax2.text(frp_b.rho_fb, 0, r'$\\rho_{fb}$', rotation=90)\n",
    "# # fig3.show()\n",
    "# # ax3.plot(f_cms, rho_diff)\n",
    "# fig4.show()"
   ]
  },
  {
   "cell_type": "code",
   "execution_count": null,
   "id": "4b873884",
   "metadata": {},
   "outputs": [],
   "source": [
    "# b_sls = BeamSLSCurve(f_ck = 90.63, rein_type = 'carbon_grid', system_type = '4pb', n_i=9, dense_quarter=True)\n",
    "# # b_sls = BeamSLSCurve(dp = dp1_2)\n",
    "# b_sls.interact()"
   ]
  },
  {
   "cell_type": "code",
   "execution_count": null,
   "id": "48e2455f",
   "metadata": {},
   "outputs": [],
   "source": [
    "# fig, axes = dp1_2.mc.plot_M_rho_and_util_factors(type='stress', n_rho = 30)\n",
    "# # fig.savefig('hybrid_psi_ratios_factors_0.2_0.8.pdf')\n",
    "# axes[0].axvline(x=0.11/100)\n",
    "# axes[1].axvline(x=0.11/100)\n",
    "# fig.show()"
   ]
  },
  {
   "cell_type": "markdown",
   "id": "6cf3f51c",
   "metadata": {},
   "source": [
    "## T3_4PB_C_1.5, T4_4PB_C_1.5"
   ]
  },
  {
   "cell_type": "code",
   "execution_count": null,
   "id": "13adb316",
   "metadata": {},
   "outputs": [],
   "source": [
    "# Using T3 exact dimensions\n",
    "dp3_4 = get_dp(high_kappa =0.00025, B=303, H=98, setup='4pb', \n",
    "            reinf = 'carbon', \n",
    "            **M1_concrete,\n",
    "            grid_layers_spacing=[10, 20],\n",
    "            grid_layers_area = [8 * 3.62, 4 * 3.62]\n",
    "            )\n",
    "dp3_4.interact()"
   ]
  },
  {
   "cell_type": "code",
   "execution_count": null,
   "id": "d4cff1ac",
   "metadata": {},
   "outputs": [],
   "source": [
    "fig, ax = plot_fw(3, r'T3_4PB_C_1.5', dp=dp3_4, color_i=0)\n",
    "plot_fw(4, r'T4_4PB_C_1.5', ax=ax, color_i=1)\n",
    "# bu.get_fw_curves_avg([get_exp_fw(3, as_one_array=True), get_exp_fw(4, as_one_array=True)], ax=ax)\n",
    "# fig.savefig('T3_T4_ld_exp_vs_sim.pdf')\n",
    "fig.show()"
   ]
  },
  {
   "cell_type": "code",
   "execution_count": null,
   "id": "a1ef4e5a",
   "metadata": {},
   "outputs": [],
   "source": [
    "plot_mk(4, dp3_4, l_lvdt=250)"
   ]
  },
  {
   "cell_type": "markdown",
   "id": "6e28f3ef",
   "metadata": {},
   "source": [
    "## T5_4PB_C_3"
   ]
  },
  {
   "cell_type": "code",
   "execution_count": null,
   "id": "6aaef09b",
   "metadata": {},
   "outputs": [],
   "source": [
    "dp5 = get_dp(high_kappa =0.0003, B=201, H=80, setup='4pb', \n",
    "            reinf = 'carbon', \n",
    "            **M1_concrete,\n",
    "            grid_layers_spacing=[10, 15, 20],\n",
    "#              grid_layers_spacing=[8.9, 13.6, 19.4], # Real values from cut images\n",
    "            grid_layers_area = [5 * 3.62, 5 * 3.62, 5 * 3.62]\n",
    "            )\n",
    "\n",
    "dp5.interact()"
   ]
  },
  {
   "cell_type": "code",
   "execution_count": null,
   "id": "794dc81e",
   "metadata": {},
   "outputs": [],
   "source": [
    "fig, ax = plot_fw(5, r'T5_4PB_C_3', dp=dp5, color_i=0)\n",
    "fig.show()"
   ]
  },
  {
   "cell_type": "markdown",
   "id": "8a3a68ae",
   "metadata": {},
   "source": [
    "## T6_4PB_C_3"
   ]
  },
  {
   "cell_type": "code",
   "execution_count": null,
   "id": "ab67ee51",
   "metadata": {},
   "outputs": [],
   "source": [
    "dp6 = get_dp(high_kappa =0.0003, B=204, H=79, setup='4pb', \n",
    "            reinf = 'carbon',\n",
    "            **M1_concrete,\n",
    "           grid_layers_spacing=[10, 15, 20],\n",
    "#              grid_layers_spacing=[8, 12.8, 19], # Real values from cut images\n",
    "            grid_layers_area = [5 * 3.62, 5 * 3.62, 5 * 3.62]\n",
    "            )\n",
    "dp6.interact()"
   ]
  },
  {
   "cell_type": "code",
   "execution_count": null,
   "id": "dafbb1b3",
   "metadata": {},
   "outputs": [],
   "source": [
    "plot_fw(6, r'T6_4PB_C_3', dp=dp6, ax=ax, color_i=1)\n",
    "fig.show()"
   ]
  },
  {
   "cell_type": "markdown",
   "id": "52d9c53c",
   "metadata": {},
   "source": [
    "## T7_4PB_C_3"
   ]
  },
  {
   "cell_type": "code",
   "execution_count": null,
   "id": "76c263a7",
   "metadata": {},
   "outputs": [],
   "source": [
    "dp7 = get_dp(high_kappa =0.0003, B=204, H=81, setup='4pb', \n",
    "            reinf = 'carbon',\n",
    "            **M2_concrete,\n",
    "            grid_layers_spacing=[10, 15, 20],\n",
    "            grid_layers_area = [5 * 3.62, 5 * 3.62, 5 * 3.62]\n",
    "            )\n",
    "# dp7.interact()"
   ]
  },
  {
   "cell_type": "code",
   "execution_count": null,
   "id": "f72c551e",
   "metadata": {},
   "outputs": [],
   "source": [
    "plot_fw(7, r'T7_4PB_C_3', dp=dp7, ax=ax, color_i=2)\n",
    "# fig.savefig('T5_T6_T7_ld_exp_vs_sim.pdf')\n",
    "fig.show()"
   ]
  },
  {
   "cell_type": "code",
   "execution_count": null,
   "id": "6131fa1b",
   "metadata": {},
   "outputs": [],
   "source": [
    "plot_mk(7, dp7)"
   ]
  },
  {
   "cell_type": "markdown",
   "id": "6afd9d8d",
   "metadata": {},
   "source": [
    "### Additional functions"
   ]
  },
  {
   "cell_type": "code",
   "execution_count": null,
   "id": "55bf48b9",
   "metadata": {},
   "outputs": [],
   "source": [
    "dp5 = get_dp(high_kappa =0.0003, B=201, H=80, setup='4pb', \n",
    "            reinf = 'carbon', \n",
    "            **M1_concrete,\n",
    "            grid_layers_spacing=[15, 10, 20],\n",
    "#              grid_layers_spacing=[8.9, 13.6, 19.4], # Real values from cut images\n",
    "            grid_layers_area = [5 * 3.62, 5 * 3.62, 5 * 3.62]\n",
    "            )\n",
    "\n",
    "dp5.interact()"
   ]
  },
  {
   "cell_type": "code",
   "execution_count": null,
   "id": "da7e74eb",
   "metadata": {},
   "outputs": [],
   "source": [
    "# fig, axes = dp5.mc.plot_M_rho_and_util_factors(type='stress', n_rho = 20, reinf_layers_rho_factors=[0.33, 0.33, 0.34])\n",
    "# # fig.savefig('hybrid_psi_ratios_factors_0.2_0.8.pdf')\n",
    "# axes[0].axvline(x=0.42/100)\n",
    "# axes[1].axvline(x=0.42/100)\n",
    "# fig.show()"
   ]
  },
  {
   "cell_type": "markdown",
   "id": "0074d676",
   "metadata": {},
   "source": [
    "## T8_3PB_C_1"
   ]
  },
  {
   "cell_type": "code",
   "execution_count": null,
   "id": "85214714",
   "metadata": {},
   "outputs": [],
   "source": [
    "dp8 = get_dp(high_kappa =0.00023, B=300, H=100, setup='3pb', \n",
    "            reinf = 'carbon', \n",
    "            **M2_concrete,\n",
    "            )\n",
    "dp8.interact()"
   ]
  },
  {
   "cell_type": "code",
   "execution_count": null,
   "id": "653ae874",
   "metadata": {},
   "outputs": [],
   "source": [
    "fig, ax = plot_fw(8, r'T8_3PB_C_1', dp=dp8, color_i=0)\n",
    "fig.show()"
   ]
  },
  {
   "cell_type": "markdown",
   "id": "1b287b3f",
   "metadata": {},
   "source": [
    "## T9_3PB_C_1"
   ]
  },
  {
   "cell_type": "code",
   "execution_count": null,
   "id": "aa004510",
   "metadata": {},
   "outputs": [],
   "source": [
    "dp9 = get_dp(high_kappa =0.00023, B=301, H=100, setup='3pb', \n",
    "            reinf = 'carbon', \n",
    "            **M2_concrete,\n",
    "            )\n",
    "dp9.interact()"
   ]
  },
  {
   "cell_type": "code",
   "execution_count": null,
   "id": "83056b46",
   "metadata": {},
   "outputs": [],
   "source": [
    "plot_fw(9, r'T9_3PB_C_1', dp=dp9, ax=ax, color_i=1)\n",
    "# fig.savefig('T8_T9_ld_exp_vs_sim.pdf')\n",
    "fig.show()"
   ]
  },
  {
   "cell_type": "code",
   "execution_count": null,
   "id": "8cb161fc",
   "metadata": {},
   "outputs": [],
   "source": [
    "plot_mk(9, dp9, gom=False)"
   ]
  },
  {
   "cell_type": "markdown",
   "id": "e9b182f2",
   "metadata": {},
   "source": [
    "## T10_4PB_CS_0.5"
   ]
  },
  {
   "cell_type": "code",
   "execution_count": null,
   "id": "dff4719f",
   "metadata": {},
   "outputs": [],
   "source": [
    "dp10 = get_dp(high_kappa =0.00025, B=303, H=100, setup='4pb', \n",
    "            reinf = 'carbon',\n",
    "            A=4*3.62,\n",
    "            z=20,\n",
    "            **M2_concrete,\n",
    "            )\n",
    "\n",
    "steel_layer = ReinfLayer(name='steel', z=14, A=2*np.pi * (4**2), matmod='steel')\n",
    "dp10.mc.cross_section_layout.add_layer(steel_layer)\n",
    "\n",
    "dp10.interact()"
   ]
  },
  {
   "cell_type": "code",
   "execution_count": null,
   "id": "c3923b01",
   "metadata": {},
   "outputs": [],
   "source": [
    "fig, ax = plot_fw(10, r'T10_4PB_CS_0.5', dp=dp10, color_i=0)\n",
    "fig.show()"
   ]
  },
  {
   "cell_type": "code",
   "execution_count": null,
   "id": "ada05c51",
   "metadata": {},
   "outputs": [],
   "source": [
    "plot_mk(10, dp10, l_lvdt=250)"
   ]
  },
  {
   "cell_type": "markdown",
   "id": "4def8e91",
   "metadata": {},
   "source": [
    "## T11_4PB_CS_0.5"
   ]
  },
  {
   "cell_type": "code",
   "execution_count": null,
   "id": "da648ec1",
   "metadata": {},
   "outputs": [],
   "source": [
    "dp11 = get_dp(high_kappa =0.00025, B=305, H=101, setup='4pb', \n",
    "            reinf = 'carbon',\n",
    "            A=4*3.62,\n",
    "            z=20,\n",
    "            **M2_concrete,\n",
    "            )\n",
    "\n",
    "steel_layer = ReinfLayer(name='steel', z=14, A=2*np.pi * (4**2), matmod='steel')\n",
    "dp11.mc.cross_section_layout.add_layer(steel_layer)\n",
    "\n",
    "dp11.interact()"
   ]
  },
  {
   "cell_type": "code",
   "execution_count": null,
   "id": "962aff70",
   "metadata": {},
   "outputs": [],
   "source": [
    "plot_fw(11, r'T11_4PB_CS_0.5', dp=dp11, ax=ax, color_i=1)\n",
    "# fig.savefig('T10_T11_ld_exp_vs_sim.pdf')\n",
    "fig.show()"
   ]
  },
  {
   "cell_type": "markdown",
   "id": "87853629",
   "metadata": {},
   "source": [
    "## T12_4PB_S, T13_4PB_S\n",
    "Note: Combined because using the exact cross-section dimensions didn't give any noticeable difference in the behaviour"
   ]
  },
  {
   "cell_type": "code",
   "execution_count": null,
   "id": "c17d4a9a",
   "metadata": {},
   "outputs": [],
   "source": [
    "dp12_13 = get_dp(high_kappa =0.00062, B=300, H=100, setup='4pb', \n",
    "            reinf = 'steel', \n",
    "            A=4 * np.pi * (4**2), \n",
    "            z=14,\n",
    "            **M2_concrete,\n",
    "            )\n",
    "\n",
    "# B500 reinf:\n",
    "list(dp12_13.mc.cross_section_layout.items.values())[0].matmod_.eps_ud = 0.05\n",
    "list(dp12_13.mc.cross_section_layout.items.values())[0].matmod_.f_sy = 550\n",
    "list(dp12_13.mc.cross_section_layout.items.values())[0].matmod_.f_st = 578\n",
    "\n",
    "dp12_13.interact()"
   ]
  },
  {
   "cell_type": "code",
   "execution_count": null,
   "id": "c5f20743",
   "metadata": {},
   "outputs": [],
   "source": [
    "fig, ax = plot_fw(12, r'T12_4PB_S', dp=dp12_13, color_i=0)\n",
    "plot_fw(13, r'T13_4PB_S', ax=ax, color_i=1)\n",
    "\n",
    "# exp_fw_avg = bu.get_fw_curves_avg([get_exp_fw(12, as_one_array=True), get_exp_fw(13, as_one_array=True)], ax=ax)\n",
    "# f_upper_env_ids = bu.get_asc_upper_env_ids(exp_fw_avg[0])\n",
    "# ax.plot(exp_fw_avg[1][f_upper_env_ids], exp_fw_avg[0][f_upper_env_ids], 'g', label='high')\n",
    "\n",
    "fig.show()"
   ]
  },
  {
   "cell_type": "code",
   "execution_count": null,
   "id": "87953218",
   "metadata": {},
   "outputs": [],
   "source": [
    "# fig.savefig('T12_T13_ld_exp_vs_sim.pdf')"
   ]
  },
  {
   "cell_type": "code",
   "execution_count": null,
   "id": "9e212369",
   "metadata": {},
   "outputs": [],
   "source": [
    "plot_mk(13, dp12_13)"
   ]
  },
  {
   "cell_type": "markdown",
   "id": "b5740e9d",
   "metadata": {},
   "source": [
    "# Post-processing"
   ]
  },
  {
   "cell_type": "code",
   "execution_count": null,
   "id": "33f1e5c2",
   "metadata": {},
   "outputs": [],
   "source": [
    "dps = [dp1_2, dp1_2, dp3_4, dp3_4, dp5, dp6, dp7, dp8, dp9, dp10, dp11, dp12_13, dp12_13]"
   ]
  },
  {
   "cell_type": "markdown",
   "id": "e236e95c",
   "metadata": {},
   "source": [
    "# Plotting MK curves vs tests"
   ]
  },
  {
   "cell_type": "code",
   "execution_count": null,
   "id": "d59fc2cf",
   "metadata": {},
   "outputs": [],
   "source": [
    "# fig, axes = plt.subplots(2, 3, figsize=(1.7*6, 1.6*4.7))\n",
    "fig, axes = plt.subplots(1, 3, figsize=(3*6, 2*4.7))\n",
    "\n",
    "tests = [1, 4, 7, 9, 10, 13]\n",
    "plot_row = 0\n",
    "for i, test_num in enumerate(tests):\n",
    "    plot_mk(test_num, \n",
    "            dps[test_num - 1], \n",
    "            l_lvdt=250, \n",
    "            gom=False, \n",
    "            ax=axes[0 if i < 3 else 1, i if i < 3 else i - 3], \n",
    "            color_1='black',\n",
    "           color_2='black')\n",
    "\n",
    "fig.show()\n",
    "fig.savefig('T' + str(tests)[1:-1].replace(', ', '_') + '_mk_curve_tests_vs_model.pdf')"
   ]
  },
  {
   "cell_type": "markdown",
   "id": "8c0cd1ae",
   "metadata": {},
   "source": [
    "# Exporting results summary"
   ]
  },
  {
   "cell_type": "code",
   "execution_count": null,
   "id": "19c297a5",
   "metadata": {},
   "outputs": [],
   "source": [
    "dps = [dp1_2, dp1_2, dp3_4, dp3_4, dp5, dp6, dp7, dp8, dp9, dp10, dp11, dp12_13, dp12_13]\n",
    "df = None\n",
    "for i, dp in enumerate(dps):\n",
    "    df = get_limit_values(dp, i + 1, df=df)\n",
    "df"
   ]
  },
  {
   "cell_type": "code",
   "execution_count": null,
   "id": "b0adcc32",
   "metadata": {},
   "outputs": [],
   "source": [
    "print(df.to_latex())"
   ]
  },
  {
   "cell_type": "markdown",
   "id": "ba9a13b0",
   "metadata": {},
   "source": [
    "# Comparing load-deflection curves of LVDTs and GOM"
   ]
  },
  {
   "cell_type": "code",
   "execution_count": null,
   "id": "10c8c024",
   "metadata": {},
   "outputs": [],
   "source": [
    "fig, axes = plt.subplots(1, 4, figsize=(4*6, 4.7))\n",
    "\n",
    "tests = [1, 6, 9, 12]\n",
    "for i, test_num in enumerate(tests):\n",
    "    plot_fw_gom(test_num, r'T' + str(test_num), ax=axes[i], color_i=0)\n",
    "fig.show()\n",
    "# fig.savefig('T' + str(tests)[1:-1].replace(', ', '_') + '_ld_curve_lvdts_vs_gom.pdf')"
   ]
  }
 ],
 "metadata": {
  "kernelspec": {
   "display_name": "Python 3 (ipykernel)",
   "language": "python",
   "name": "python3"
  },
  "language_info": {
   "codemirror_mode": {
    "name": "ipython",
    "version": 3
   },
   "file_extension": ".py",
   "mimetype": "text/x-python",
   "name": "python",
   "nbconvert_exporter": "python",
   "pygments_lexer": "ipython3"
  },
  "toc": {
   "base_numbering": 1,
   "nav_menu": {},
   "number_sections": true,
   "sideBar": true,
   "skip_h1_title": false,
   "title_cell": "Table of Contents",
   "title_sidebar": "Contents",
   "toc_cell": false,
   "toc_position": {},
   "toc_section_display": true,
   "toc_window_display": false
  }
 },
 "nbformat": 4,
 "nbformat_minor": 5
}
