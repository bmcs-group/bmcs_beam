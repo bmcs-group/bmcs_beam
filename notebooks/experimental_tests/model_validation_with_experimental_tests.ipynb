{
 "cells": [
  {
   "cell_type": "code",
   "execution_count": null,
   "id": "68b9eba4",
   "metadata": {},
   "outputs": [],
   "source": [
    "%matplotlib widget\n",
    "from bmcs_cross_section.api import MKappa, EC2, ReinfLayer, EC2ConcreteMatMod, EC2PlateauConcreteMatMod\n",
    "from bmcs_beam.api import FourPBSystem, BoundaryConditions, BoundaryConfig, DeflectionProfile, BeamDesign\n",
    "import numpy as np\n",
    "import pandas as pd\n",
    "import bmcs_utils.api as bu\n",
    "import matplotlib.pyplot as plt"
   ]
  },
  {
   "cell_type": "code",
   "execution_count": null,
   "id": "2d8dffe2",
   "metadata": {},
   "outputs": [],
   "source": [
    "# Concrete C3-HF2-165-4\n",
    "E_cm_C3 = 44049.8\n",
    "f_cm_C3 = 96.96\n",
    "fctm_sp = 4.89\n",
    "fctm_fl = 11.62"
   ]
  },
  {
   "cell_type": "code",
   "execution_count": null,
   "id": "d2e8060f",
   "metadata": {},
   "outputs": [],
   "source": [
    "# solidian GRID Q95-CCE-38-E5 (according to performed tensile tests)\n",
    "f_t_mat = 3823.9\n",
    "E_f_mat = 246525.28"
   ]
  },
  {
   "cell_type": "code",
   "execution_count": null,
   "id": "78627e82",
   "metadata": {},
   "outputs": [],
   "source": [
    "def get_dp(f_cm = f_cm_C3, E_cm = E_cm_C3, fctm_fl=None,\n",
    "           setup='4pb', L=1800, L_F=None,\n",
    "           high_kappa = 0.00018, concrete_law='EC2',\n",
    "           B=200, H=150, A = None,\n",
    "           reinf = 'carbon',\n",
    "           E_nm=None, f_t=None, z=None,\n",
    "           grid_layers_spacing=[], grid_layers_area=[]):\n",
    "    \n",
    "    mc = MKappa(low_kappa = 0, high_kappa = high_kappa, n_kappa=400)\n",
    "    \n",
    "    mc.cs_design.matrix=concrete_law\n",
    "    \n",
    "    f_ck = EC2.get_f_ck_from_f_cm(f_cm)\n",
    "    if fctm_fl is None:\n",
    "        fctm_fl = EC2.get_f_ctm_fl(f_ck, H)\n",
    "    if concrete_law == 'EC2 with plateau' or concrete_law == 'EC2':\n",
    "        mc.cs_design.matrix_.trait_set(f_cm = f_cm)\n",
    "    elif concrete_law == 'piecewise linear':\n",
    "        mc.cs_design.matrix_.trait_set(\n",
    "            eps_cy=EC2.get_eps_c3(f_ck),\n",
    "            eps_cu=EC2.get_eps_cu3(f_ck),\n",
    "        )\n",
    "    \n",
    "    mc.cs_design.matrix_.trait_set(E_cc=E_cm, \n",
    "                                   E_ct=E_cm, \n",
    "                                   eps_cr = fctm_fl/E_cm, \n",
    "                                   eps_tu = fctm_fl/E_cm,)\n",
    "\n",
    "    mc.cross_section_shape_.B = B\n",
    "    mc.cross_section_shape_.H = H\n",
    "\n",
    "    # Carbon properties\n",
    "    E_nm=E_f_mat if E_nm is None else E_nm\n",
    "    f_t=f_t_mat if f_t is None else f_t\n",
    "    spacing = 38\n",
    "    rov_num = int(B/spacing) + 1\n",
    "    rov_cs_area = 3.62\n",
    "    if A is None:\n",
    "        A = rov_num * rov_cs_area\n",
    "    if z is None:\n",
    "        z = 10\n",
    "        \n",
    "    d = H - z\n",
    "    \n",
    "    grid_layers_n = len(grid_layers_area) if grid_layers_area else 1\n",
    "    if reinf == 'carbon':\n",
    "        if grid_layers_n == 1:\n",
    "            bl1 = ReinfLayer(name='grid', z=z, A=A, matmod='carbon')\n",
    "            bl1.matmod_.trait_set(E=E_nm, f_t=f_t, factor = 1.)\n",
    "            mc.cross_section_layout.add_layer(bl1)\n",
    "        else:\n",
    "            for i in range(grid_layers_n):\n",
    "                bl1 = ReinfLayer(name='grid ' + str(i+1), \n",
    "                                 z=grid_layers_spacing[i] if grid_layers_spacing else 10, \n",
    "                                 A=grid_layers_area[i] if grid_layers_area else A, \n",
    "                                 matmod='carbon')\n",
    "                bl1.matmod_.trait_set(E=E_nm, f_t=f_t, factor = 1.)\n",
    "                mc.cross_section_layout.add_layer(bl1)\n",
    "            A = grid_layers_n * A\n",
    "    else:\n",
    "        bl1 = ReinfLayer(name='rebars', z=z, A=A, matmod='steel')\n",
    "        mc.cross_section_layout.add_layer(bl1)\n",
    "\n",
    "    rho = A/(B*d)\n",
    "    print('A=', A)\n",
    "    print(r'rho =', round(rho * 100, 2), r'%')\n",
    "    # mechanical reinforcement ratio\n",
    "#     w_m = A * f_t / (B * H * f_cm)\n",
    "#     print('w_m:', w_m)\n",
    "\n",
    "    dp = DeflectionProfile(mc=mc)\n",
    "    \n",
    "    if setup == '4pb':\n",
    "        dp.beam_design.system = '4pb'\n",
    "        if L_F is not None:\n",
    "            print('L_F assigned!')\n",
    "            dp.beam_design.system_.L_F = L_F\n",
    "    elif setup == '3pb':\n",
    "        dp.beam_design.system = '3pb'\n",
    "    elif setup == 'dist':\n",
    "        dp.beam_design.system = 'simple_beam_dist_load'\n",
    "        \n",
    "    dp.beam_design.system_.L = L\n",
    "    \n",
    "    print('l/d =', dp.beam_design.system_.L/d)\n",
    "    \n",
    "    return dp"
   ]
  },
  {
   "cell_type": "code",
   "execution_count": null,
   "id": "c5312544",
   "metadata": {},
   "outputs": [],
   "source": [
    "def get_exp_data(test_num=1):\n",
    "    skiprows = 3\n",
    "    delimiter=';'\n",
    "    decimal=','\n",
    "    file_path = './results/T' + str(test_num) + '.csv'\n",
    "    headers_array = list(np.array(pd.read_csv(file_path, delimiter=delimiter, decimal=decimal, nrows=1, header=None))[0])\n",
    "    \n",
    "    time_idx = 0\n",
    "    force_idx = headers_array.index('Kraft')\n",
    "    weg_idx = headers_array.index('Weg')\n",
    "    IWA_M_hinten_idx = headers_array.index('IWA_M_hinten')\n",
    "    IWA_M_vorne_idx = headers_array.index('IWA_M_vorne')\n",
    "    IWA_M_idx = headers_array.index('IWA_M')\n",
    "    DMS_idx = headers_array.index('DMS-1')\n",
    "    \n",
    "    data = np.array(pd.read_csv(file_path, delimiter=delimiter, decimal=decimal, skiprows=skiprows))\n",
    "    time = data[:, 0]\n",
    "    force = -data[:, force_idx]\n",
    "    dms = data[:, DMS_idx]\n",
    "    midspan_hor = data[:, IWA_M_idx]\n",
    "    weg = -data[:, weg_idx]\n",
    "    hinten_vorne = - data[:, (IWA_M_hinten_idx, IWA_M_vorne_idx)]\n",
    "    avg_hinten_vorne = (hinten_vorne[:, 0] + hinten_vorne[:, 1])/2\n",
    "    \n",
    "    return time, force, weg, avg_hinten_vorne, dms, hinten_vorne, midspan_hor\n",
    "\n",
    "def get_exp_fw(test_num=1):\n",
    "    _, force, _, avg_hinten_vorne, _, hinten_vorne, _ = get_exp_data(test_num = test_num)\n",
    "    if test_num == 7:\n",
    "        avg_hinten_vorne = hinten_vorne[:, 0]\n",
    "    elif test_num == 8:\n",
    "        avg_hinten_vorne = hinten_vorne[:, 1]\n",
    "    return force, avg_hinten_vorne"
   ]
  },
  {
   "cell_type": "code",
   "execution_count": null,
   "id": "4c58db4c",
   "metadata": {},
   "outputs": [],
   "source": [
    "bu.set_latex_mpl_format()\n",
    "plot_colors = bu.plot_colors\n",
    "\n",
    "def plot_fw_ver(ver_data, test_name='', dp=None, title=None, ax=None, color_i=0): # ax, dp, ver_data\n",
    "    if ax is None:\n",
    "        fig, ax = plt.subplots(figsize=(6, 4.7))\n",
    "    if dp:\n",
    "        dp.plot_fw(ax, dashed=True, color=plot_colors[color_i], label=  test_name + ' (Sim.)', lw=1.5)\n",
    "    ax.plot(ver_data[1], ver_data[0], c=plot_colors[color_i], label=  test_name + ' (Exp.)', lw=1.25)\n",
    "    if title is not None:\n",
    "        ax.set_title(title)\n",
    "    ax.set_xlabel('Midspan deflection [mm]')\n",
    "    ax.set_ylabel('Load [kN]')\n",
    "    ax.legend()\n",
    "#     ax.grid()\n",
    "    if 'fig' in locals():\n",
    "        return fig, ax\n",
    "    \n",
    "def plot_mk(test_num, dp, l_lvdt=200):\n",
    "    # I used l_lvdt = 200 mm as the LVDT distance, but this was not accurate and slightly different each test \n",
    "    _, force, _, _, dms, _, midspan_hor = get_exp_data(test_num)\n",
    "    \n",
    "    # Curvature\n",
    "    strain_midspan_top = dms * 1e-6\n",
    "    strain_midspan_bottom = midspan_hor / l_lvdt\n",
    "    h = 80 if test_num in [5, 6, 7] else 100\n",
    "    kappa = (strain_midspan_top - strain_midspan_bottom) / h\n",
    "    \n",
    "    # Moment\n",
    "    L_F = 600 # distance to force\n",
    "    L = 1800\n",
    "    moment = (force * L / 4) / 1000 if test_num in [8, 9] else (force * L_F / 2) / 1000\n",
    "    \n",
    "    fig, ax = plt.subplots()\n",
    "    ax.plot(kappa, moment)\n",
    "    dp.mc.plot_mk(ax, color='red')\n",
    "    fig.show()\n",
    "    \n",
    "    # max\n",
    "    max_force_idx = np.argmax(force)\n",
    "    strain_midspan_top[max_force_idx], strain_midspan_bottom[max_force_idx]"
   ]
  },
  {
   "cell_type": "code",
   "execution_count": null,
   "id": "bb6eba16",
   "metadata": {},
   "outputs": [],
   "source": [
    "# M1 concrete mix (average of M1 + M2 in the excel table)\n",
    "M1_f_cm = 98.63\n",
    "M1_E_cm = 45306.54\n",
    "M1_f_ctm = 5.11\n",
    "M1_concrete = dict(f_cm= M1_f_cm, E_cm = M1_E_cm, fctm_fl=M1_f_ctm)\n",
    "\n",
    "# M2 concrete mix (average of M3 + M4 in the excel table)\n",
    "M2_f_cm = 95.3\n",
    "M2_E_cm = 42793.1\n",
    "M2_f_ctm = 4.67\n",
    "M2_concrete = dict(f_cm= M2_f_cm, E_cm = M2_E_cm, fctm_fl=M2_f_ctm)"
   ]
  },
  {
   "cell_type": "markdown",
   "id": "ba930a8c",
   "metadata": {},
   "source": [
    "## T1_4PB_C_1, T2_4PB_C_1"
   ]
  },
  {
   "cell_type": "code",
   "execution_count": null,
   "id": "67647eb8",
   "metadata": {},
   "outputs": [],
   "source": [
    "# Using T1 exact dimensions\n",
    "dp1_2 = get_dp(high_kappa =0.0003, B=303, H=99, setup='4pb', reinf = 'carbon', **M1_concrete)\n",
    "dp1_2.interact()"
   ]
  },
  {
   "cell_type": "code",
   "execution_count": null,
   "id": "9d39de2b",
   "metadata": {},
   "outputs": [],
   "source": [
    "fig, ax = plot_fw_ver([*get_exp_fw(1)], r'T1_4PB_C_1', dp=dp1_2, color_i=0)\n",
    "plot_fw_ver([*get_exp_fw(2)], r'T2_4PB_C_1', ax=ax, color_i=1)\n",
    "# fig.savefig('T1_T2_ld_exp_vs_sim.pdf')\n",
    "fig"
   ]
  },
  {
   "cell_type": "code",
   "execution_count": null,
   "id": "478c7861",
   "metadata": {},
   "outputs": [],
   "source": [
    "plot_mk(1, dp1_2)"
   ]
  },
  {
   "cell_type": "markdown",
   "id": "6cf3f51c",
   "metadata": {},
   "source": [
    "## T3_4PB_C_1.5, T4_4PB_C_1.5"
   ]
  },
  {
   "cell_type": "code",
   "execution_count": null,
   "id": "13adb316",
   "metadata": {},
   "outputs": [],
   "source": [
    "# Using T3 exact dimensions\n",
    "dp3_4 = get_dp(high_kappa =0.00025, B=303, H=98, setup='4pb', \n",
    "            reinf = 'carbon', \n",
    "            **M1_concrete,\n",
    "            grid_layers_spacing=[10, 20],\n",
    "            grid_layers_area = [8 * 3.62, 4 * 3.62]\n",
    "            )\n",
    "# dp3_4.interact()"
   ]
  },
  {
   "cell_type": "code",
   "execution_count": null,
   "id": "d4cff1ac",
   "metadata": {},
   "outputs": [],
   "source": [
    "fig, ax = plot_fw_ver([*get_exp_fw(3)], r'T3_4PB_C_1.5', dp=dp3_4, color_i=0)\n",
    "plot_fw_ver([*get_exp_fw(4)], r'T4_4PB_C_1.5', ax=ax, color_i=1)\n",
    "# fig.savefig('T3_T4_ld_exp_vs_sim.pdf')\n",
    "fig"
   ]
  },
  {
   "cell_type": "code",
   "execution_count": null,
   "id": "a1ef4e5a",
   "metadata": {},
   "outputs": [],
   "source": [
    "plot_mk(4, dp3_4)"
   ]
  },
  {
   "cell_type": "markdown",
   "id": "6e28f3ef",
   "metadata": {},
   "source": [
    "## T5_4PB_C_3"
   ]
  },
  {
   "cell_type": "code",
   "execution_count": null,
   "id": "6aaef09b",
   "metadata": {},
   "outputs": [],
   "source": [
    "dp5 = get_dp(high_kappa =0.0003, B=201, H=80, setup='4pb', \n",
    "            reinf = 'carbon', \n",
    "            **M1_concrete,\n",
    "            grid_layers_spacing=[10, 15, 20],\n",
    "            grid_layers_area = [5 * 3.62, 5 * 3.62, 5 * 3.62]\n",
    "            )\n",
    "# dp5.interact()"
   ]
  },
  {
   "cell_type": "code",
   "execution_count": null,
   "id": "794dc81e",
   "metadata": {},
   "outputs": [],
   "source": [
    "fig, ax = plot_fw_ver([*get_exp_fw(5)], r'T5_4PB_C_3', dp=dp5, color_i=0)\n",
    "fig"
   ]
  },
  {
   "cell_type": "markdown",
   "id": "8a3a68ae",
   "metadata": {},
   "source": [
    "## T6_4PB_C_3"
   ]
  },
  {
   "cell_type": "code",
   "execution_count": null,
   "id": "ab67ee51",
   "metadata": {},
   "outputs": [],
   "source": [
    "dp6 = get_dp(high_kappa =0.0003, B=204, H=79, setup='4pb', \n",
    "            reinf = 'carbon',\n",
    "            **M1_concrete,\n",
    "            grid_layers_spacing=[10, 15, 20],\n",
    "            grid_layers_area = [5 * 3.62, 5 * 3.62, 5 * 3.62]\n",
    "            )\n",
    "# dp6.interact()"
   ]
  },
  {
   "cell_type": "code",
   "execution_count": null,
   "id": "dafbb1b3",
   "metadata": {},
   "outputs": [],
   "source": [
    "plot_fw_ver([*get_exp_fw(6)], r'T6_4PB_C_3', dp=dp6, ax=ax, color_i=1)\n",
    "# fig"
   ]
  },
  {
   "cell_type": "markdown",
   "id": "52d9c53c",
   "metadata": {},
   "source": [
    "## T7_4PB_C_3"
   ]
  },
  {
   "cell_type": "code",
   "execution_count": null,
   "id": "76c263a7",
   "metadata": {},
   "outputs": [],
   "source": [
    "dp7 = get_dp(high_kappa =0.0003, B=204, H=81, setup='4pb', \n",
    "            reinf = 'carbon',\n",
    "            **M2_concrete,\n",
    "            grid_layers_spacing=[10, 15, 20],\n",
    "            grid_layers_area = [5 * 3.62, 5 * 3.62, 5 * 3.62]\n",
    "            )\n",
    "# dp7.interact()"
   ]
  },
  {
   "cell_type": "code",
   "execution_count": null,
   "id": "f72c551e",
   "metadata": {},
   "outputs": [],
   "source": [
    "plot_fw_ver([*get_exp_fw(7)], r'T7_4PB_C_3', dp=dp7, ax=ax, color_i=2)\n",
    "# fig.savefig('T5_T6_T7_ld_exp_vs_sim.pdf')\n",
    "fig"
   ]
  },
  {
   "cell_type": "code",
   "execution_count": null,
   "id": "6131fa1b",
   "metadata": {
    "scrolled": false
   },
   "outputs": [],
   "source": [
    "plot_mk(7, dp7)"
   ]
  },
  {
   "cell_type": "markdown",
   "id": "0074d676",
   "metadata": {},
   "source": [
    "## T8_3PB_C_1"
   ]
  },
  {
   "cell_type": "code",
   "execution_count": null,
   "id": "85214714",
   "metadata": {},
   "outputs": [],
   "source": [
    "dp8 = get_dp(high_kappa =0.00023, B=300, H=100, setup='3pb', \n",
    "            reinf = 'carbon', \n",
    "            **M2_concrete,\n",
    "            )\n",
    "# dp8.interact()"
   ]
  },
  {
   "cell_type": "code",
   "execution_count": null,
   "id": "653ae874",
   "metadata": {},
   "outputs": [],
   "source": [
    "fig, ax = plot_fw_ver([*get_exp_fw(8)], r'T8_3PB_C_1', dp=dp8, color_i=0)\n",
    "fig"
   ]
  },
  {
   "cell_type": "markdown",
   "id": "1b287b3f",
   "metadata": {},
   "source": [
    "## T9_3PB_C_1"
   ]
  },
  {
   "cell_type": "code",
   "execution_count": null,
   "id": "aa004510",
   "metadata": {},
   "outputs": [],
   "source": [
    "dp9 = get_dp(high_kappa =0.00023, B=301, H=100, setup='3pb', \n",
    "            reinf = 'carbon', \n",
    "            **M2_concrete,\n",
    "            )\n",
    "# dp9.interact()"
   ]
  },
  {
   "cell_type": "code",
   "execution_count": null,
   "id": "83056b46",
   "metadata": {},
   "outputs": [],
   "source": [
    "plot_fw_ver([*get_exp_fw(9)], r'T9_3PB_C_1', dp=dp9, ax=ax, color_i=1)\n",
    "# fig.savefig('T8_T9_ld_exp_vs_sim.pdf')\n",
    "fig"
   ]
  },
  {
   "cell_type": "code",
   "execution_count": null,
   "id": "eb195d76",
   "metadata": {
    "scrolled": true
   },
   "outputs": [],
   "source": [
    "plot_mk(9, dp9)"
   ]
  },
  {
   "cell_type": "markdown",
   "id": "e9b182f2",
   "metadata": {},
   "source": [
    "## T10_4PB_CS_0.5"
   ]
  },
  {
   "cell_type": "code",
   "execution_count": null,
   "id": "dff4719f",
   "metadata": {},
   "outputs": [],
   "source": [
    "dp10 = get_dp(high_kappa =0.00025, B=303, H=100, setup='4pb', \n",
    "            reinf = 'carbon',\n",
    "            A=4*3.62,\n",
    "            z=20,\n",
    "            **M2_concrete,\n",
    "            )\n",
    "\n",
    "steel_layer = ReinfLayer(name='steel', z=14, A=2*np.pi * (4**2), matmod='steel')\n",
    "dp10.mc.cross_section_layout.add_layer(steel_layer)\n",
    "\n",
    "# dp10.interact()"
   ]
  },
  {
   "cell_type": "code",
   "execution_count": null,
   "id": "c3923b01",
   "metadata": {},
   "outputs": [],
   "source": [
    "fig, ax = plot_fw_ver([*get_exp_fw(10)], r'T10_4PB_CS_0.5', dp=dp10, color_i=0)\n",
    "fig"
   ]
  },
  {
   "cell_type": "markdown",
   "id": "4def8e91",
   "metadata": {},
   "source": [
    "## T11_4PB_CS_0.5"
   ]
  },
  {
   "cell_type": "code",
   "execution_count": null,
   "id": "da648ec1",
   "metadata": {},
   "outputs": [],
   "source": [
    "dp11 = get_dp(high_kappa =0.00025, B=305, H=101, setup='4pb', \n",
    "            reinf = 'carbon',\n",
    "            A=4*3.62,\n",
    "            z=20,\n",
    "            **M2_concrete,\n",
    "            )\n",
    "\n",
    "steel_layer = ReinfLayer(name='steel', z=14, A=2*np.pi * (4**2), matmod='steel')\n",
    "dp11.mc.cross_section_layout.add_layer(steel_layer)\n",
    "\n",
    "# dp11.interact()"
   ]
  },
  {
   "cell_type": "code",
   "execution_count": null,
   "id": "962aff70",
   "metadata": {
    "scrolled": true
   },
   "outputs": [],
   "source": [
    "plot_fw_ver([*get_exp_fw(11)], r'T11_4PB_CS_0.5', dp=dp11, ax=ax, color_i=1)\n",
    "# fig.savefig('T10_T11_ld_exp_vs_sim.pdf')\n",
    "fig"
   ]
  },
  {
   "cell_type": "code",
   "execution_count": null,
   "id": "2399bc9c",
   "metadata": {
    "scrolled": true
   },
   "outputs": [],
   "source": [
    "plot_mk(10, dp10)"
   ]
  },
  {
   "cell_type": "markdown",
   "id": "87853629",
   "metadata": {},
   "source": [
    "## T12_4PB_S, T13_4PB_S\n",
    "Note: Combined because using the exact cross-section dimensions didn't give any noticeable difference in the behaviour"
   ]
  },
  {
   "cell_type": "code",
   "execution_count": null,
   "id": "c17d4a9a",
   "metadata": {},
   "outputs": [],
   "source": [
    "dp12_13 = get_dp(high_kappa =0.00062, B=300, H=100, setup='4pb', \n",
    "            reinf = 'steel', \n",
    "            A=4 * np.pi * (4**2), \n",
    "            z=14,\n",
    "            **M2_concrete,\n",
    "            )\n",
    "\n",
    "# B500 reinf:\n",
    "list(dp12_13.mc.cross_section_layout.items.values())[0].matmod_.eps_ud = 0.05\n",
    "list(dp12_13.mc.cross_section_layout.items.values())[0].matmod_.f_sy = 550\n",
    "list(dp12_13.mc.cross_section_layout.items.values())[0].matmod_.f_st = 578\n",
    "\n",
    "# dp12_13.interact()"
   ]
  },
  {
   "cell_type": "code",
   "execution_count": null,
   "id": "c5f20743",
   "metadata": {},
   "outputs": [],
   "source": [
    "fig, ax = plot_fw_ver([*get_exp_fw(12)], r'T12_4PB_S', dp=dp12_13, color_i=0)\n",
    "plot_fw_ver([*get_exp_fw(13)], r'T13_4PB_S', ax=ax, color_i=1)\n",
    "# fig.savefig('T12_T13_ld_exp_vs_sim.pdf')\n",
    "fig"
   ]
  },
  {
   "cell_type": "code",
   "execution_count": null,
   "id": "9e212369",
   "metadata": {},
   "outputs": [],
   "source": [
    "plot_mk(12, dp12_13)"
   ]
  }
 ],
 "metadata": {
  "kernelspec": {
   "display_name": "Python 3 (ipykernel)",
   "language": "python",
   "name": "python3"
  },
  "language_info": {
   "codemirror_mode": {
    "name": "ipython",
    "version": 3
   },
   "file_extension": ".py",
   "mimetype": "text/x-python",
   "name": "python",
   "nbconvert_exporter": "python",
   "pygments_lexer": "ipython3",
   "version": "3.9.12"
  }
 },
 "nbformat": 4,
 "nbformat_minor": 5
}
