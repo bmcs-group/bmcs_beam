{
 "cells": [
  {
   "cell_type": "code",
   "execution_count": 1,
   "id": "68b9eba4",
   "metadata": {},
   "outputs": [],
   "source": [
    "%matplotlib widget\n",
    "from bmcs_cross_section.api import MKappa, TShape, MKappaParamsStudy, EC2, ReinfLayer, IShape, CustomShape, EC2ConcreteMatMod, EC2PlateauConcreteMatMod\n",
    "from bmcs_beam.api import BoundaryConditions, BoundaryConfig, DeflectionProfile, BeamDesign, LoadDeflectionParamsStudy\n",
    "import numpy as np\n",
    "import bmcs_utils.api as bu"
   ]
  },
  {
   "cell_type": "code",
   "execution_count": 2,
   "id": "2d8dffe2",
   "metadata": {},
   "outputs": [],
   "source": [
    "# Concrete C3-HF2-165-4\n",
    "E_cm_C3 = 43596\n",
    "f_cm_C3 = 103\n",
    "fctm_sp = 5.6\n",
    "fctm_fl = 12.51"
   ]
  },
  {
   "cell_type": "code",
   "execution_count": 3,
   "id": "3744717f",
   "metadata": {},
   "outputs": [],
   "source": [
    "# solidian REBAR Ø6 and Ø8\n",
    "A_phi_6 = 28.2\n",
    "A_phi_8 = 50.2"
   ]
  },
  {
   "cell_type": "code",
   "execution_count": 4,
   "id": "78627e82",
   "metadata": {},
   "outputs": [],
   "source": [
    "def get_dp(f_cm = f_cm_C3, high_kappa = 0.00018, B=200, H=150, A = None, E_cm = E_cm_C3,\n",
    "           z=None, concrete_law='EC2', carbon_type='rebars',\n",
    "          setup='4pb', L=2000, grid_layers_n=1, grid_layers_spacing=10, grid_layers_area=[], reinf = 'carbon'):\n",
    "    # carbon_type: 'rebars' -> solidian REBAR Ø8-CCE\n",
    "    # carbon_type: 'grid' -> solidian GRID Q95-CCE-38-E5\n",
    "    \n",
    "    mc = MKappa(low_kappa = 0, high_kappa = high_kappa)\n",
    "    \n",
    "    mc.cs_design.matrix=concrete_law\n",
    "    \n",
    "    f_ck = EC2.get_f_ck_from_f_cm(f_cm)\n",
    "    fctm_fl = EC2.get_f_ctm_fl(f_ck, H)\n",
    "    if concrete_law == 'EC2 with plateau' or concrete_law == 'EC2':\n",
    "        mc.cs_design.matrix_.trait_set(f_cm = f_cm)\n",
    "    elif concrete_law == 'piecewise linear':\n",
    "        mc.cs_design.matrix_.trait_set(\n",
    "            eps_cy=EC2.get_eps_c3(f_ck),\n",
    "            eps_cu=EC2.get_eps_cu3(f_ck),\n",
    "        )\n",
    "    \n",
    "    mc.cs_design.matrix_.trait_set(E_cc=E_cm_C3, \n",
    "                                   E_ct=E_cm_C3, \n",
    "                                   eps_cr = fctm_fl/E_cm_C3, \n",
    "                                   eps_tu = fctm_fl/E_cm_C3,)\n",
    "        \n",
    "    mc.cross_section_shape_.B = B\n",
    "    mc.cross_section_shape_.H = H\n",
    "\n",
    "    if carbon_type == 'rebars':\n",
    "        E_nm=158000\n",
    "        f_t=2500\n",
    "        if A is None:\n",
    "            A = 3 * A_phi_8\n",
    "        if z is None:\n",
    "            z = 4 + 10\n",
    "    elif carbon_type == 'grid':\n",
    "        E_nm=230000\n",
    "        f_t=3300\n",
    "        \n",
    "        spacing = 38\n",
    "        rov_num = int(B/spacing) + 1\n",
    "        rov_cs_area = 3.62\n",
    "\n",
    "        if A is None:\n",
    "            A = rov_num * rov_cs_area\n",
    "        if z is None:\n",
    "            z = 10\n",
    "       \n",
    "    d = H - z\n",
    "    \n",
    "    if reinf == 'carbon':\n",
    "        if grid_layers_n == 1:\n",
    "            bl1 = ReinfLayer(name='rebars', z=z, A=A, matmod='carbon')\n",
    "            bl1.matmod_.trait_set(E=E_nm, f_t=f_t, factor = 1.)\n",
    "            mc.cross_section_layout.add_layer(bl1)\n",
    "        else:\n",
    "            for i in range(grid_layers_n):\n",
    "                if grid_layers_area:\n",
    "                    bl1 = ReinfLayer(name='grid', z=z + i*grid_layers_spacing, A=grid_layers_area[i], matmod='carbon')\n",
    "                else:\n",
    "                    bl1 = ReinfLayer(name='grid', z=z + i*grid_layers_spacing, A=A, matmod='carbon')\n",
    "                bl1.matmod_.trait_set(E=E_nm, f_t=f_t, factor = 1.)\n",
    "                mc.cross_section_layout.add_layer(bl1)\n",
    "            A = grid_layers_n * A\n",
    "    else:\n",
    "        bl1 = ReinfLayer(name='rebars', z=z, A=A, matmod='steel')\n",
    "        mc.cross_section_layout.add_layer(bl1)\n",
    "\n",
    "    rho = A/(B*d)\n",
    "    print('A=', A)\n",
    "    print(r'rho =', round(rho * 100, 2), r'%')\n",
    "    # mechanical reinforcement ratio\n",
    "#     w_m = A * f_t / (B * H * f_cm)\n",
    "#     print('w_m:', w_m)\n",
    "\n",
    "    dp = DeflectionProfile(mc=mc)\n",
    "\n",
    "    dp.beam_design.L = L\n",
    "    \n",
    "    if setup == '4pb':\n",
    "        dp.beam_design.system = '4pb'\n",
    "        dp.beam_design.beam_.L_F = L/3\n",
    "    elif setup == '3pb':\n",
    "        dp.beam_design.system = '3pb'\n",
    "    elif setup == 'dist':\n",
    "        dp.beam_design.system = 'simple_beam_dist_load'\n",
    "    \n",
    "    print('l/d =', dp.beam_design.L/d)\n",
    "    \n",
    "    return dp"
   ]
  },
  {
   "cell_type": "code",
   "execution_count": 19,
   "id": "dd624e18",
   "metadata": {},
   "outputs": [
    {
     "name": "stdout",
     "output_type": "stream",
     "text": [
      "A= 150.60000000000002\n",
      "rho = 0.55 %\n",
      "l/d = 14.705882352941176\n"
     ]
    },
    {
     "data": {
      "application/vnd.jupyter.widget-view+json": {
       "model_id": "92f87f9e0eb2462d9d24f8e9922c3d17",
       "version_major": 2,
       "version_minor": 0
      },
      "text/plain": [
       "VBox(children=(HBox(children=(VBox(children=(Tree(layout=Layout(align_items='stretch', border='solid 1px black…"
      ]
     },
     "metadata": {},
     "output_type": "display_data"
    }
   ],
   "source": [
    "get_dp().interact()"
   ]
  },
  {
   "cell_type": "code",
   "execution_count": 4,
   "id": "ca7ae03d",
   "metadata": {},
   "outputs": [
    {
     "name": "stdout",
     "output_type": "stream",
     "text": [
      "A= 100.4\n",
      "rho = 0.13 %\n",
      "l/d = 3.3678756476683938\n"
     ]
    },
    {
     "data": {
      "application/vnd.jupyter.widget-view+json": {
       "model_id": "0c3b9f70fbfc4ffd981bd481f60bc9e3",
       "version_major": 2,
       "version_minor": 0
      },
      "text/plain": [
       "VBox(children=(HBox(children=(VBox(children=(Tree(layout=Layout(align_items='stretch', border='solid 1px black…"
      ]
     },
     "metadata": {},
     "output_type": "display_data"
    }
   ],
   "source": [
    "# Ductility study\n",
    "# Beam: solidian REBAR Ø8-CCE\n",
    "# failure on concrete compression\n",
    "dp = get_dp(high_kappa = 0.0001, B=200, H=400, A = 2 * A_phi_8, concrete_law = 'EC2', L=1300) # 'EC2 with plateau', 'piecewise linear'\n",
    "\n",
    "bl1 = ReinfLayer(name='rebars', z=30, A=1 * (3.14*8)**2, matmod='steel')\n",
    "# bl1.matmod_.trait_set(E=E_nm, f_t=f_t, factor = 1.)\n",
    "dp.mc.cross_section_layout.add_layer(bl1)\n",
    "\n",
    "dp.interact()"
   ]
  },
  {
   "cell_type": "code",
   "execution_count": 5,
   "id": "453a07b5",
   "metadata": {},
   "outputs": [
    {
     "name": "stdout",
     "output_type": "stream",
     "text": [
      "A= 100.4\n",
      "rho = 0.13 %\n",
      "l/d = 3.3678756476683938\n"
     ]
    },
    {
     "data": {
      "application/vnd.jupyter.widget-view+json": {
       "model_id": "1b685c4698b54b12810d7572dadf6503",
       "version_major": 2,
       "version_minor": 0
      },
      "text/plain": [
       "VBox(children=(HBox(children=(VBox(children=(Tree(layout=Layout(align_items='stretch', border='solid 1px black…"
      ]
     },
     "metadata": {},
     "output_type": "display_data"
    }
   ],
   "source": [
    "# Ductility study 2\n",
    "# Beam: solidian REBAR Ø8-CCE\n",
    "# failure on concrete compression\n",
    "dp = get_dp(high_kappa = 0.0001, B=200, H=400, A = 2 * A_phi_8, concrete_law = 'EC2', L=1300) # 'EC2 with plateau', 'piecewise linear'\n",
    "\n",
    "bl1 = ReinfLayer(name='rebars', z=5, A=A_phi_8, matmod='carbon')\n",
    "bl1.matmod_.trait_set(E=158000, f_t=2500/4)\n",
    "dp.mc.cross_section_layout.add_layer(bl1)\n",
    "\n",
    "dp.interact()"
   ]
  },
  {
   "cell_type": "code",
   "execution_count": 6,
   "id": "c37a100b",
   "metadata": {},
   "outputs": [
    {
     "name": "stdout",
     "output_type": "stream",
     "text": [
      "A= 5626.88\n",
      "rho = 7.29 %\n",
      "l/d = 3.3678756476683938\n"
     ]
    },
    {
     "data": {
      "application/vnd.jupyter.widget-view+json": {
       "model_id": "81c46a1615e64d229f8973dcf36c2f84",
       "version_major": 2,
       "version_minor": 0
      },
      "text/plain": [
       "VBox(children=(HBox(children=(VBox(children=(Tree(layout=Layout(align_items='stretch', border='solid 1px black…"
      ]
     },
     "metadata": {},
     "output_type": "display_data"
    }
   ],
   "source": [
    "# Ductility study 3 on steel (over reinforced steel cross sections also have ductile behaviour if concrete is high)\n",
    "dp = get_dp(f_ck = 40, high_kappa = 0.00002, B=200, H=400, A = 7*3.14*16**2, concrete_law = 'EC2', L=1300, reinf = 'steel') # 'EC2 with plateau', 'piecewise linear'\n",
    "dp.interact()"
   ]
  },
  {
   "cell_type": "code",
   "execution_count": 8,
   "id": "171d92d9",
   "metadata": {},
   "outputs": [
    {
     "name": "stdout",
     "output_type": "stream",
     "text": [
      "A= 502.0\n",
      "rho = 2.92 %\n",
      "l/d = 15.116279069767442\n"
     ]
    },
    {
     "data": {
      "application/vnd.jupyter.widget-view+json": {
       "model_id": "cf59531c07084a528191f3cad5069335",
       "version_major": 2,
       "version_minor": 0
      },
      "text/plain": [
       "VBox(children=(HBox(children=(VBox(children=(Tree(layout=Layout(align_items='stretch', border='solid 1px black…"
      ]
     },
     "metadata": {},
     "output_type": "display_data"
    }
   ],
   "source": [
    "# Beam: solidian REBAR Ø8-CCE\n",
    "# failure on concrete compression\n",
    "dp = get_dp(high_kappa = 0.00025, B=200, H=100, A = 10 * A_phi_8, concrete_law = 'EC2', L=1300) # 'EC2 with plateau', 'piecewise linear'\n",
    "\n",
    "dp.interact()"
   ]
  },
  {
   "cell_type": "code",
   "execution_count": 8,
   "id": "7fb11ab7",
   "metadata": {},
   "outputs": [
    {
     "name": "stdout",
     "output_type": "stream",
     "text": [
      "A= 21.72\n",
      "rho = 0.12 %\n",
      "l/d = 14.444444444444445\n"
     ]
    },
    {
     "data": {
      "application/vnd.jupyter.widget-view+json": {
       "model_id": "004542e9113b45b089ac9b49b3ba72f4",
       "version_major": 2,
       "version_minor": 0
      },
      "text/plain": [
       "VBox(children=(HBox(children=(VBox(children=(Tree(layout=Layout(align_items='stretch', border='solid 1px black…"
      ]
     },
     "metadata": {},
     "output_type": "display_data"
    }
   ],
   "source": [
    "# Slab: solidian GRID Q95-CCE-38-E5\n",
    "# disb load\n",
    "\n",
    "dp = get_dp(high_kappa =0.0002, B=200, H=100, carbon_type = 'grid', L=1300, setup='dist')\n",
    "\n",
    "dp.interact()\n",
    "\n",
    "# max load 29*1.3 = 37.7 kN"
   ]
  },
  {
   "cell_type": "code",
   "execution_count": 71,
   "id": "e1ac859c",
   "metadata": {
    "scrolled": false
   },
   "outputs": [
    {
     "name": "stdout",
     "output_type": "stream",
     "text": [
      "A= 21.72\n",
      "rho = 0.12 %\n",
      "l/d = 14.444444444444445\n"
     ]
    },
    {
     "data": {
      "application/vnd.jupyter.widget-view+json": {
       "model_id": "a129729bb9a445be8082a05b458c024a",
       "version_major": 2,
       "version_minor": 0
      },
      "text/plain": [
       "VBox(children=(HBox(children=(VBox(children=(Tree(layout=Layout(align_items='stretch', border='solid 1px black…"
      ]
     },
     "metadata": {},
     "output_type": "display_data"
    }
   ],
   "source": [
    "# Slab: solidian GRID Q95-CCE-38-E5\n",
    "# tensile failure\n",
    "\n",
    "dp = get_dp(high_kappa =0.0003, B=200, H=100, carbon_type = 'grid', L=1300)\n",
    "\n",
    "dp.interact()\n",
    "# max load 14*2 = 28 kN"
   ]
  },
  {
   "cell_type": "code",
   "execution_count": 72,
   "id": "82443a44",
   "metadata": {
    "scrolled": false
   },
   "outputs": [
    {
     "name": "stdout",
     "output_type": "stream",
     "text": [
      "A= 43.44\n",
      "rho = 0.24 %\n",
      "l/d = 14.444444444444445\n"
     ]
    },
    {
     "data": {
      "application/vnd.jupyter.widget-view+json": {
       "model_id": "da6e8cc6ad244df59113384ebf63f8c4",
       "version_major": 2,
       "version_minor": 0
      },
      "text/plain": [
       "VBox(children=(HBox(children=(VBox(children=(Tree(layout=Layout(align_items='stretch', border='solid 1px black…"
      ]
     },
     "metadata": {},
     "output_type": "display_data"
    }
   ],
   "source": [
    "# Slab: solidian GRID Q95-CCE-38-E5\n",
    "# concrete failure\n",
    "\n",
    "dp = get_dp(high_kappa =0.0003, B=200, H=100, carbon_type = 'grid', L=1300, grid_layers_n=2, grid_layers_spacing=10)\n",
    "\n",
    "dp.interact()\n",
    "# max load 24*2 = 48 kN"
   ]
  },
  {
   "cell_type": "markdown",
   "id": "8dd611dc",
   "metadata": {},
   "source": [
    "## Ductility study"
   ]
  },
  {
   "cell_type": "code",
   "execution_count": 5,
   "id": "77a1e1fd",
   "metadata": {},
   "outputs": [
    {
     "name": "stdout",
     "output_type": "stream",
     "text": [
      "A= 150.60000000000002\n",
      "rho = 0.54 %\n",
      "l/d = 6.989247311827957\n"
     ]
    },
    {
     "data": {
      "application/vnd.jupyter.widget-view+json": {
       "model_id": "93343dff6e6949269646ffe7dd1fcb2b",
       "version_major": 2,
       "version_minor": 0
      },
      "text/plain": [
       "VBox(children=(HBox(children=(VBox(children=(Tree(layout=Layout(align_items='stretch', border='solid 1px black…"
      ]
     },
     "metadata": {},
     "output_type": "display_data"
    }
   ],
   "source": [
    "# steel example\n",
    "dp = get_dp(high_kappa = 0.00013, B=150, H=200, L=1300, reinf='steel') # 'EC2 with plateau', 'piecewise linear'\n",
    "dp.interact()"
   ]
  },
  {
   "cell_type": "code",
   "execution_count": 80,
   "id": "4de4499d",
   "metadata": {
    "scrolled": false
   },
   "outputs": [
    {
     "name": "stdout",
     "output_type": "stream",
     "text": [
      "A= 56.4\n",
      "rho = 0.21 %\n",
      "l/d = 9.558823529411764\n"
     ]
    },
    {
     "data": {
      "application/vnd.jupyter.widget-view+json": {
       "model_id": "39572ce9feda417f81fc5813cfbea1ce",
       "version_major": 2,
       "version_minor": 0
      },
      "text/plain": [
       "VBox(children=(HBox(children=(VBox(children=(Tree(layout=Layout(align_items='stretch', border='solid 1px black…"
      ]
     },
     "metadata": {},
     "output_type": "display_data"
    }
   ],
   "source": [
    "# I section\n",
    "\n",
    "dp = get_dp(high_kappa =0.00012, A = 2 * A_phi_6, L=1300)\n",
    "\n",
    "dp.mc.cross_section_shape = 'I-shape'\n",
    "dp.mc.cross_section_shape_.H = 200\n",
    "dp.mc.cross_section_shape_.B_w = 50\n",
    "dp.mc.cross_section_shape_.B_f_bot = 50\n",
    "dp.mc.cross_section_shape_.B_f_top = 150\n",
    "dp.mc.cross_section_shape_.H_f_bot = 50\n",
    "dp.mc.cross_section_shape_.H_f_top = 50\n",
    "\n",
    "dp.interact()"
   ]
  },
  {
   "cell_type": "code",
   "execution_count": 81,
   "id": "9aa0abb1",
   "metadata": {},
   "outputs": [
    {
     "name": "stdout",
     "output_type": "stream",
     "text": [
      "A= 56.4\n",
      "rho = 0.2 %\n",
      "l/d = 6.989247311827957\n"
     ]
    },
    {
     "data": {
      "application/vnd.jupyter.widget-view+json": {
       "model_id": "8f66c95ea4804e08ad2fa075f54f4401",
       "version_major": 2,
       "version_minor": 0
      },
      "text/plain": [
       "VBox(children=(HBox(children=(VBox(children=(Tree(layout=Layout(align_items='stretch', border='solid 1px black…"
      ]
     },
     "metadata": {},
     "output_type": "display_data"
    }
   ],
   "source": [
    "# Rect section to compare with I\n",
    "\n",
    "dp = get_dp(high_kappa = 0.00025, B=150, H=200, A = 2 * A_phi_6, L=1300) # 'EC2 with plateau', 'piecewise linear'\n",
    "\n",
    "dp.interact()"
   ]
  },
  {
   "cell_type": "code",
   "execution_count": 7,
   "id": "65ed3b86",
   "metadata": {
    "scrolled": false
   },
   "outputs": [
    {
     "name": "stdout",
     "output_type": "stream",
     "text": [
      "A= 903.6000000000001\n",
      "rho = 3.24 %\n",
      "l/d = 6.989247311827957\n"
     ]
    },
    {
     "data": {
      "application/vnd.jupyter.widget-view+json": {
       "model_id": "6b00078ac4cf4de39d74f230a172b244",
       "version_major": 2,
       "version_minor": 0
      },
      "text/plain": [
       "VBox(children=(HBox(children=(VBox(children=(Tree(layout=Layout(align_items='stretch', border='solid 1px black…"
      ]
     },
     "metadata": {},
     "output_type": "display_data"
    }
   ],
   "source": [
    "# Ductile carbon beam\n",
    "# grid_layers_area=list(1*np.linspace(0.1, 1, n))\n",
    "# A =21.72\n",
    "n=6\n",
    "# dp = get_dp(high_kappa = 0.00013, B=150, H=200, L=1300, grid_layers_n=n, grid_layers_spacing=10, grid_layers_area=list(reversed([1, 3, 5, 8, 15, 30])))\n",
    "dp = get_dp(high_kappa = 0.00013, B=150, H=200, L=1300, grid_layers_n=n, grid_layers_spacing=10, grid_layers_area=list([1, 3, 5, 8, 15, 30]))\n",
    "\n",
    "# dp = get_dp(high_kappa = 0.00013, B=150, H=200, L=1300, carbon_type = 'grid', A=20)\n",
    "\n",
    "# dp = get_dp(high_kappa = 0.00013, B=150, H=200, L=1300)\n",
    "\n",
    "dp.interact()"
   ]
  },
  {
   "cell_type": "code",
   "execution_count": null,
   "id": "1287b90c",
   "metadata": {},
   "outputs": [],
   "source": []
  }
 ],
 "metadata": {
  "kernelspec": {
   "display_name": "Python 3",
   "language": "python",
   "name": "python3"
  },
  "language_info": {
   "codemirror_mode": {
    "name": "ipython",
    "version": 3
   },
   "file_extension": ".py",
   "mimetype": "text/x-python",
   "name": "python",
   "nbconvert_exporter": "python",
   "pygments_lexer": "ipython3",
   "version": "3.9.4"
  }
 },
 "nbformat": 4,
 "nbformat_minor": 5
}
