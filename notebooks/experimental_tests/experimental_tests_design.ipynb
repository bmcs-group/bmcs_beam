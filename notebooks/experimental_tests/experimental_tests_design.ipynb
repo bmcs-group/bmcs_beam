{
 "cells": [
  {
   "cell_type": "code",
   "execution_count": 1,
   "id": "68b9eba4",
   "metadata": {},
   "outputs": [],
   "source": [
    "%matplotlib widget\n",
    "from bmcs_cross_section.api import MKappa, TShape, MKappaParamsStudy, EC2, ReinfLayer, IShape, CustomShape, EC2ConcreteMatMod, EC2PlateauConcreteMatMod\n",
    "from bmcs_beam.api import FourPBSystem, BoundaryConditions, BoundaryConfig, DeflectionProfile, BeamDesign, LoadDeflectionParamsStudy, SLSParamStudy, BeamSLSCurve\n",
    "import numpy as np\n",
    "import bmcs_utils.api as bu\n",
    "import matplotlib.pyplot as plt"
   ]
  },
  {
   "cell_type": "code",
   "execution_count": 2,
   "id": "2d8dffe2",
   "metadata": {},
   "outputs": [],
   "source": [
    "# Concrete C3-HF2-165-4\n",
    "E_cm_C3 = 43596\n",
    "f_cm_C3 = 103\n",
    "fctm_sp = 5.6\n",
    "fctm_fl = 12.51"
   ]
  },
  {
   "cell_type": "code",
   "execution_count": 3,
   "id": "3744717f",
   "metadata": {},
   "outputs": [],
   "source": [
    "# solidian REBAR Ø6 and Ø8\n",
    "A_phi_6 = 28.2\n",
    "A_phi_8 = 50.2"
   ]
  },
  {
   "cell_type": "code",
   "execution_count": 4,
   "id": "78627e82",
   "metadata": {},
   "outputs": [],
   "source": [
    "def get_dp(f_cm = f_cm_C3, E_cm = E_cm_C3, \n",
    "           setup='4pb', L=2000, L_F=None,\n",
    "           high_kappa = 0.00018, concrete_law='EC2',\n",
    "           B=200, H=150, A = None,\n",
    "           reinf = 'carbon',\n",
    "           E_nm=None, f_t=None, z=None,\n",
    "           carbon_type='rebars',\n",
    "           grid_layers_n=1, grid_layers_spacing=10, grid_layers_area=[]):\n",
    "    # carbon_type: 'rebars' -> solidian REBAR Ø8-CCE\n",
    "    # carbon_type: 'grid' -> solidian GRID Q95-CCE-38-E5\n",
    "    \n",
    "    mc = MKappa(low_kappa = 0, high_kappa = high_kappa)\n",
    "    \n",
    "    mc.cs_design.matrix=concrete_law\n",
    "    \n",
    "    f_ck = EC2.get_f_ck_from_f_cm(f_cm)\n",
    "    fctm_fl = EC2.get_f_ctm_fl(f_ck, H)\n",
    "    if concrete_law == 'EC2 with plateau' or concrete_law == 'EC2':\n",
    "        mc.cs_design.matrix_.trait_set(f_cm = f_cm)\n",
    "    elif concrete_law == 'piecewise linear':\n",
    "        mc.cs_design.matrix_.trait_set(\n",
    "            eps_cy=EC2.get_eps_c3(f_ck),\n",
    "            eps_cu=EC2.get_eps_cu3(f_ck),\n",
    "        )\n",
    "    \n",
    "    mc.cs_design.matrix_.trait_set(E_cc=E_cm, \n",
    "                                   E_ct=E_cm, \n",
    "                                   eps_cr = fctm_fl/E_cm, \n",
    "                                   eps_tu = fctm_fl/E_cm,)\n",
    "\n",
    "    mc.cross_section_shape_.B = B\n",
    "    mc.cross_section_shape_.H = H\n",
    "\n",
    "    if carbon_type == 'rebars':\n",
    "        E_nm=158000 if E_nm is None else E_nm\n",
    "        f_t=2500 if f_t is None else f_t\n",
    "        if A is None:\n",
    "            A = 3 * A_phi_8\n",
    "        if z is None:\n",
    "            z = 4 + 10\n",
    "    elif carbon_type == 'grid':\n",
    "        E_nm=230000 if E_nm is None else E_nm\n",
    "        f_t=3300 if f_t is None else f_t\n",
    "        \n",
    "        spacing = 38\n",
    "        rov_num = int(B/spacing) + 1\n",
    "        rov_cs_area = 3.62\n",
    "\n",
    "        if A is None:\n",
    "            A = rov_num * rov_cs_area\n",
    "        if z is None:\n",
    "            z = 10\n",
    "       \n",
    "    d = H - z\n",
    "    \n",
    "    if reinf == 'carbon':\n",
    "        if grid_layers_n == 1:\n",
    "            bl1 = ReinfLayer(name=carbon_type, z=z, A=A, matmod='carbon')\n",
    "            bl1.matmod_.trait_set(E=E_nm, f_t=f_t, factor = 1.)\n",
    "            mc.cross_section_layout.add_layer(bl1)\n",
    "        else:\n",
    "            for i in range(grid_layers_n):\n",
    "                if grid_layers_area:\n",
    "                    bl1 = ReinfLayer(name=carbon_type, z=z + i*grid_layers_spacing, A=grid_layers_area[i], matmod='carbon')\n",
    "                else:\n",
    "                    bl1 = ReinfLayer(name=carbon_type, z=z + i*grid_layers_spacing, A=A, matmod='carbon')\n",
    "                bl1.matmod_.trait_set(E=E_nm, f_t=f_t, factor = 1.)\n",
    "                mc.cross_section_layout.add_layer(bl1)\n",
    "            A = grid_layers_n * A\n",
    "    else:\n",
    "        bl1 = ReinfLayer(name='rebars', z=z, A=A, matmod='steel')\n",
    "        mc.cross_section_layout.add_layer(bl1)\n",
    "\n",
    "    rho = A/(B*d)\n",
    "    print('A=', A)\n",
    "    print(r'rho =', round(rho * 100, 2), r'%')\n",
    "    # mechanical reinforcement ratio\n",
    "#     w_m = A * f_t / (B * H * f_cm)\n",
    "#     print('w_m:', w_m)\n",
    "\n",
    "    dp = DeflectionProfile(mc=mc)\n",
    "    \n",
    "    if setup == '4pb':\n",
    "        dp.beam_design.system = '4pb'\n",
    "        if L_F is not None:\n",
    "            print('L_F assigned!')\n",
    "            dp.beam_design.system_.L_F = L_F\n",
    "    elif setup == '3pb':\n",
    "        dp.beam_design.system = '3pb'\n",
    "    elif setup == 'dist':\n",
    "        dp.beam_design.system = 'simple_beam_dist_load'\n",
    "        \n",
    "    dp.beam_design.system_.L = L\n",
    "    \n",
    "    print('l/d =', dp.beam_design.system_.L/d)\n",
    "    \n",
    "    return dp"
   ]
  },
  {
   "cell_type": "code",
   "execution_count": 5,
   "id": "dd624e18",
   "metadata": {
    "scrolled": true
   },
   "outputs": [
    {
     "name": "stdout",
     "output_type": "stream",
     "text": [
      "A= 150.60000000000002\n",
      "rho = 0.55 %\n",
      "l/d = 14.705882352941176\n",
      "V_Rm_c = 35.9 kN, Shear failure by F_tot_max = 71.8 kN\n"
     ]
    },
    {
     "data": {
      "application/vnd.jupyter.widget-view+json": {
       "model_id": "5669476c6c214d4d9de343abcce8b638",
       "version_major": 2,
       "version_minor": 0
      },
      "text/plain": [
       "VBox(children=(HBox(children=(VBox(children=(Tree(layout=Layout(align_items='stretch', border='solid 1px black…"
      ]
     },
     "metadata": {},
     "output_type": "display_data"
    }
   ],
   "source": [
    "get_dp().interact()"
   ]
  },
  {
   "cell_type": "markdown",
   "id": "1ec21cbe",
   "metadata": {},
   "source": [
    "## Grid data"
   ]
  },
  {
   "cell_type": "code",
   "execution_count": 6,
   "id": "f07e88ab",
   "metadata": {
    "scrolled": true
   },
   "outputs": [
    {
     "name": "stdout",
     "output_type": "stream",
     "text": [
      "A= 28.96\n",
      "rho = 0.11 %\n",
      "l/d = 20.0\n",
      "V_Rm_c = 20.74 kN, Shear failure by F_tot_max = 41.48 kN\n"
     ]
    },
    {
     "data": {
      "application/vnd.jupyter.widget-view+json": {
       "model_id": "f9e7944e559448a495b69b5939822ef2",
       "version_major": 2,
       "version_minor": 0
      },
      "text/plain": [
       "VBox(children=(HBox(children=(VBox(children=(Tree(layout=Layout(align_items='stretch', border='solid 1px black…"
      ]
     },
     "metadata": {},
     "output_type": "display_data"
    }
   ],
   "source": [
    "grid_data = dict(high_kappa =0.0003, B=300, H=100, carbon_type = 'grid', concrete_law = 'EC2', L=1800)\n",
    "dp = get_dp(**grid_data)\n",
    "# sls = BeamSLSCurve(n_i = 12, dp=dp)\n",
    "dp.interact()\n",
    "# sls.run()\n",
    "# sls.interact()"
   ]
  },
  {
   "cell_type": "code",
   "execution_count": 19,
   "id": "7a89a0e7",
   "metadata": {},
   "outputs": [
    {
     "data": {
      "application/vnd.jupyter.widget-view+json": {
       "model_id": "b62b2ee93f55489ca7db3cf7f8541a2e",
       "version_major": 2,
       "version_minor": 0
      },
      "text/html": [
       "\n",
       "            <div style=\"display: inline-block;\">\n",
       "                <div class=\"jupyter-widgets widget-label\" style=\"text-align: center;\">\n",
       "                    Figure\n",
       "                </div>\n",
       "                <img src='data:image/png;base64,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' width=640.0/>\n",
       "            </div>\n",
       "        "
      ],
      "text/plain": [
       "Canvas(toolbar=Toolbar(toolitems=[('Home', 'Reset original view', 'home', 'home'), ('Back', 'Back to previous …"
      ]
     },
     "metadata": {},
     "output_type": "display_data"
    }
   ],
   "source": [
    "# sls.plot_F_u()\n",
    "sls.plot_F_u(bending_shear_diff = True)\n",
    "# sls.plot_F_u(load='shear')\n",
    "\n",
    "\n",
    "# Achse x: Bewehrungsgrad rho [%]\n",
    "# Achse y: Biegeschlankheit l/d [-]"
   ]
  },
  {
   "cell_type": "markdown",
   "id": "8ff814dc",
   "metadata": {},
   "source": [
    "## Grid 1 layer, dist loading"
   ]
  },
  {
   "cell_type": "code",
   "execution_count": 7,
   "id": "e1ac859c",
   "metadata": {
    "scrolled": true
   },
   "outputs": [
    {
     "name": "stdout",
     "output_type": "stream",
     "text": [
      "A= 28.96\n",
      "rho = 0.11 %\n",
      "l/d = 20.0\n",
      "V_Rm_c = 22.21 kN, Shear failure by F_tot_max = 44.42 kN\n"
     ]
    },
    {
     "data": {
      "application/vnd.jupyter.widget-view+json": {
       "model_id": "5dc4e50dda9a44f2a87fe59e293b65d8",
       "version_major": 2,
       "version_minor": 0
      },
      "text/plain": [
       "VBox(children=(HBox(children=(VBox(children=(Tree(layout=Layout(align_items='stretch', border='solid 1px black…"
      ]
     },
     "metadata": {},
     "output_type": "display_data"
    }
   ],
   "source": [
    "dp = get_dp(**grid_data, setup='dist')\n",
    "dp.interact()"
   ]
  },
  {
   "cell_type": "markdown",
   "id": "f3ddbb40",
   "metadata": {},
   "source": [
    "## Grid 1 layer, 4pb loading"
   ]
  },
  {
   "cell_type": "code",
   "execution_count": 8,
   "id": "71d200c5",
   "metadata": {},
   "outputs": [
    {
     "name": "stdout",
     "output_type": "stream",
     "text": [
      "A= 28.96\n",
      "rho = 0.11 %\n",
      "l/d = 20.0\n",
      "V_Rm_c = 20.74 kN, Shear failure by F_tot_max = 41.48 kN\n"
     ]
    },
    {
     "data": {
      "application/vnd.jupyter.widget-view+json": {
       "model_id": "855064547fbb40e6ab02863c4dfa9ee6",
       "version_major": 2,
       "version_minor": 0
      },
      "text/plain": [
       "VBox(children=(HBox(children=(VBox(children=(Tree(layout=Layout(align_items='stretch', border='solid 1px black…"
      ]
     },
     "metadata": {},
     "output_type": "display_data"
    }
   ],
   "source": [
    "dp = get_dp(**grid_data, setup='4pb')\n",
    "dp.interact()"
   ]
  },
  {
   "cell_type": "markdown",
   "id": "d01863ad",
   "metadata": {},
   "source": [
    "## Grid 1.5 layers"
   ]
  },
  {
   "cell_type": "code",
   "execution_count": 9,
   "id": "82443a44",
   "metadata": {
    "scrolled": false
   },
   "outputs": [
    {
     "name": "stdout",
     "output_type": "stream",
     "text": [
      "A= 57.92\n",
      "rho = 0.21 %\n",
      "l/d = 20.0\n",
      "V_Rm_c = 20.74 kN, Shear failure by F_tot_max = 41.48 kN\n"
     ]
    },
    {
     "data": {
      "application/vnd.jupyter.widget-view+json": {
       "model_id": "a689c6bd4ab247039e56bd756dc4cb10",
       "version_major": 2,
       "version_minor": 0
      },
      "text/plain": [
       "VBox(children=(HBox(children=(VBox(children=(Tree(layout=Layout(align_items='stretch', border='solid 1px black…"
      ]
     },
     "metadata": {},
     "output_type": "display_data"
    }
   ],
   "source": [
    "dp = get_dp(**grid_data, grid_layers_n=2, grid_layers_spacing=10, setup='4pb')\n",
    "\n",
    "dp.mc.cross_section_layout.items[1].z = 20\n",
    "dp.mc.cross_section_layout.items[1].A = 4 * 3.62 # 0.5 layer\n",
    "\n",
    "dp.interact()"
   ]
  },
  {
   "cell_type": "markdown",
   "id": "f7fc34a0",
   "metadata": {},
   "source": [
    "## Grid 3 layers, 4pb (shear failure!)"
   ]
  },
  {
   "cell_type": "code",
   "execution_count": 10,
   "id": "a6b52961",
   "metadata": {},
   "outputs": [
    {
     "name": "stdout",
     "output_type": "stream",
     "text": [
      "A= 65.16\n",
      "rho = 0.47 %\n",
      "l/d = 25.714285714285715\n",
      "V_Rm_c = 10.67 kN, Shear failure by F_tot_max = 21.34 kN\n"
     ]
    },
    {
     "data": {
      "application/vnd.jupyter.widget-view+json": {
       "model_id": "c1621cad8d294e62b3003ef58d482739",
       "version_major": 2,
       "version_minor": 0
      },
      "text/plain": [
       "VBox(children=(HBox(children=(VBox(children=(Tree(layout=Layout(align_items='stretch', border='solid 1px black…"
      ]
     },
     "metadata": {},
     "output_type": "display_data"
    },
    {
     "name": "stdout",
     "output_type": "stream",
     "text": [
      "V_Rm_c = 10.04 kN, Shear failure by F_tot_max = 20.08 kN\n"
     ]
    }
   ],
   "source": [
    "# dp = get_dp(**grid_data, grid_layers_n=3, grid_layers_spacing=10, setup='4pb')\n",
    "dp = get_dp(high_kappa =0.0003, B=200, H=80, carbon_type = 'grid', concrete_law = 'EC2', L=1800, grid_layers_n=3, grid_layers_spacing=10, setup='4pb')\n",
    "\n",
    "dp.mc.cross_section_layout.items[1].z = 15\n",
    "dp.mc.cross_section_layout.items[2].z = 20\n",
    "# dp.mc.cross_section_layout.items[1].A = 4 * 3.62 # 0.5 layer\n",
    "\n",
    "# NOTE: Edit area of each layer to be 5*3.62 = 18.1 mm^2, because 6 layers fit but will not have concrete cover from the sides\n",
    "\n",
    "dp.interact()"
   ]
  },
  {
   "cell_type": "markdown",
   "id": "90569bea",
   "metadata": {},
   "source": [
    "## Grid 0.5 layer + 2 steel rebars, 4pb loading"
   ]
  },
  {
   "cell_type": "code",
   "execution_count": 164,
   "id": "e7d8d0ea",
   "metadata": {
    "scrolled": false
   },
   "outputs": [
    {
     "name": "stdout",
     "output_type": "stream",
     "text": [
      "A= 14.48\n",
      "rho = 0.06 %\n",
      "l/d = 22.5\n",
      "V_Rm_c = 14.33 kN, Shear failure by F_tot_max = 28.66 kN\n"
     ]
    },
    {
     "data": {
      "application/vnd.jupyter.widget-view+json": {
       "model_id": "cfaed40f22a14284ac6e7b181cd1ff32",
       "version_major": 2,
       "version_minor": 0
      },
      "text/plain": [
       "VBox(children=(HBox(children=(VBox(children=(Tree(layout=Layout(align_items='stretch', border='solid 1px black…"
      ]
     },
     "metadata": {},
     "output_type": "display_data"
    }
   ],
   "source": [
    "dp = get_dp(**grid_data, setup='4pb', z=20, A=4*3.62)\n",
    "\n",
    "bl1 = ReinfLayer(name='steel', z=14, A=2*np.pi * (4**2), matmod='steel')\n",
    "dp.mc.cross_section_layout.add_layer(bl1)\n",
    "\n",
    "dp.interact()"
   ]
  },
  {
   "cell_type": "markdown",
   "id": "74681b1b",
   "metadata": {},
   "source": [
    "## 4 Steel rebars, 4pb"
   ]
  },
  {
   "cell_type": "code",
   "execution_count": 165,
   "id": "c10c8c51",
   "metadata": {},
   "outputs": [
    {
     "name": "stdout",
     "output_type": "stream",
     "text": [
      "A= 201.06192982974676\n",
      "rho = 0.78 %\n",
      "l/d = 20.930232558139537\n"
     ]
    },
    {
     "data": {
      "application/vnd.jupyter.widget-view+json": {
       "model_id": "7daf2a7cac52436385938e7e411a70a3",
       "version_major": 2,
       "version_minor": 0
      },
      "text/plain": [
       "VBox(children=(HBox(children=(VBox(children=(Tree(layout=Layout(align_items='stretch', border='solid 1px black…"
      ]
     },
     "metadata": {},
     "output_type": "display_data"
    }
   ],
   "source": [
    "dp = get_dp(high_kappa =0.0003, B=300, H=100, setup='4pb', reinf = 'steel', concrete_law = 'EC2', L=1800, A=4*np.pi * (4**2), z=14)\n",
    "dp.interact()"
   ]
  },
  {
   "cell_type": "markdown",
   "id": "e9895071",
   "metadata": {},
   "source": [
    "## I beam"
   ]
  },
  {
   "cell_type": "code",
   "execution_count": 25,
   "id": "2934a057",
   "metadata": {},
   "outputs": [
    {
     "name": "stdout",
     "output_type": "stream",
     "text": [
      "A= 36.2\n",
      "rho = 0.57 %\n",
      "l/d = 20.0\n"
     ]
    },
    {
     "data": {
      "application/vnd.jupyter.widget-view+json": {
       "model_id": "5d8d497f6a464fd5b2d074ffdd034bf7",
       "version_major": 2,
       "version_minor": 0
      },
      "text/plain": [
       "VBox(children=(HBox(children=(VBox(children=(Tree(layout=Layout(align_items='stretch', border='solid 1px black…"
      ]
     },
     "metadata": {},
     "output_type": "display_data"
    }
   ],
   "source": [
    "# I section\n",
    "\n",
    "dp = get_dp(high_kappa =0.00015, B=70, H=100, carbon_type = 'grid', concrete_law = 'EC2', L=1800, grid_layers_n=5, grid_layers_spacing=36.2, setup='4pb')\n",
    "\n",
    "dp.mc.cross_section_layout.items[0].A = 30\n",
    "\n",
    "dp.mc.cross_section_shape = 'I-shape'\n",
    "dp.mc.cross_section_shape_.H = 200\n",
    "dp.mc.cross_section_shape_.B_w = 70\n",
    "dp.mc.cross_section_shape_.B_f_bot = 70\n",
    "dp.mc.cross_section_shape_.B_f_top = 200\n",
    "dp.mc.cross_section_shape_.H_f_bot = 50\n",
    "dp.mc.cross_section_shape_.H_f_top = 50\n",
    "\n",
    "dp.interact()"
   ]
  },
  {
   "cell_type": "markdown",
   "id": "8dd611dc",
   "metadata": {},
   "source": [
    "## Ductility studies"
   ]
  },
  {
   "cell_type": "code",
   "execution_count": 128,
   "id": "77a1e1fd",
   "metadata": {},
   "outputs": [
    {
     "name": "stdout",
     "output_type": "stream",
     "text": [
      "A= 100.53096491487338\n",
      "rho = 0.58 %\n",
      "l/d = 15.116279069767442\n"
     ]
    },
    {
     "data": {
      "application/vnd.jupyter.widget-view+json": {
       "model_id": "",
       "version_major": 2,
       "version_minor": 0
      },
      "text/plain": [
       "VBox(children=(HBox(children=(VBox(children=(Tree(layout=Layout(align_items='stretch', border='solid 1px black…"
      ]
     },
     "metadata": {},
     "output_type": "display_data"
    }
   ],
   "source": [
    "# steel example\n",
    "dp = get_dp(high_kappa = 0.00013, B=200, H=100, A = 2 * np.pi * (4**2), L=1300, reinf='steel') # 'EC2 with plateau', 'piecewise linear'\n",
    "dp.interact()"
   ]
  },
  {
   "cell_type": "code",
   "execution_count": 132,
   "id": "96f70d93",
   "metadata": {
    "scrolled": false
   },
   "outputs": [
    {
     "name": "stdout",
     "output_type": "stream",
     "text": [
      "A= 100.4\n",
      "rho = 0.58 %\n",
      "l/d = 15.116279069767442\n",
      "V_Rm_c = 24.64 kN, Shear failure by F_tot_max = 49.28 kN\n"
     ]
    },
    {
     "data": {
      "application/vnd.jupyter.widget-view+json": {
       "model_id": "",
       "version_major": 2,
       "version_minor": 0
      },
      "text/plain": [
       "VBox(children=(HBox(children=(VBox(children=(Tree(layout=Layout(align_items='stretch', border='solid 1px black…"
      ]
     },
     "metadata": {},
     "output_type": "display_data"
    }
   ],
   "source": [
    "# carbon\n",
    "dp = get_dp(high_kappa = 0.00025, B=200, H=100, A = 2 * A_phi_8, L=1300) # 'EC2 with plateau', 'piecewise linear'\n",
    "\n",
    "dp.interact()"
   ]
  },
  {
   "cell_type": "code",
   "execution_count": 133,
   "id": "92c52301",
   "metadata": {},
   "outputs": [
    {
     "name": "stdout",
     "output_type": "stream",
     "text": [
      "A= 50.2\n",
      "rho = 0.29 %\n",
      "l/d = 15.116279069767442\n",
      "rho=  0.876723531234361\n",
      "V_Rm_c = 19.55 kN, Shear failure by F_tot_max = 39.1 kN\n"
     ]
    },
    {
     "data": {
      "application/vnd.jupyter.widget-view+json": {
       "model_id": "55031a0241f2444fb372803fed53c707",
       "version_major": 2,
       "version_minor": 0
      },
      "text/plain": [
       "VBox(children=(HBox(children=(VBox(children=(Tree(layout=Layout(align_items='stretch', border='solid 1px black…"
      ]
     },
     "metadata": {},
     "output_type": "display_data"
    }
   ],
   "source": [
    "# carbon and steel\n",
    "dp = get_dp(high_kappa = 0.0003, B=200, H=100, A = 1 * A_phi_8, concrete_law = 'EC2', L=1300) # 'EC2 with plateau', 'piecewise linear'\n",
    "\n",
    "bl1 = ReinfLayer(name='rebars', z=14, A=2 * np.pi * (4**2), matmod='steel')\n",
    "dp.mc.cross_section_layout.add_layer(bl1)\n",
    "\n",
    "print('rho= ', str(3 * np.pi * (4**2)/(200*(100-14))*100))\n",
    "\n",
    "dp.interact()"
   ]
  },
  {
   "cell_type": "code",
   "execution_count": 102,
   "id": "4de4499d",
   "metadata": {
    "collapsed": true
   },
   "outputs": [
    {
     "name": "stdout",
     "output_type": "stream",
     "text": [
      "A= 56.4\n",
      "rho = 0.21 %\n",
      "l/d = 9.558823529411764\n"
     ]
    },
    {
     "ename": "AttributeError",
     "evalue": "'IShape' object has no attribute 'B'",
     "output_type": "error",
     "traceback": [
      "\u001b[1;31m---------------------------------------------------------------------------\u001b[0m",
      "\u001b[1;31mAttributeError\u001b[0m                            Traceback (most recent call last)",
      "\u001b[1;32m~\\AppData\\Local\\Temp/ipykernel_2596/3422691667.py\u001b[0m in \u001b[0;36m<module>\u001b[1;34m\u001b[0m\n\u001b[0;32m     11\u001b[0m \u001b[0mdp\u001b[0m\u001b[1;33m.\u001b[0m\u001b[0mmc\u001b[0m\u001b[1;33m.\u001b[0m\u001b[0mcross_section_shape_\u001b[0m\u001b[1;33m.\u001b[0m\u001b[0mH_f_top\u001b[0m \u001b[1;33m=\u001b[0m \u001b[1;36m50\u001b[0m\u001b[1;33m\u001b[0m\u001b[1;33m\u001b[0m\u001b[0m\n\u001b[0;32m     12\u001b[0m \u001b[1;33m\u001b[0m\u001b[0m\n\u001b[1;32m---> 13\u001b[1;33m \u001b[0mdp\u001b[0m\u001b[1;33m.\u001b[0m\u001b[0minteract\u001b[0m\u001b[1;33m(\u001b[0m\u001b[1;33m)\u001b[0m\u001b[1;33m\u001b[0m\u001b[1;33m\u001b[0m\u001b[0m\n\u001b[0m",
      "\u001b[1;32md:\\homam\\synced\\programming\\python\\bmcs_utils\\bmcs_utils\\model.py\u001b[0m in \u001b[0;36minteract\u001b[1;34m(self, **kw)\u001b[0m\n\u001b[0;32m     43\u001b[0m \u001b[1;33m\u001b[0m\u001b[0m\n\u001b[0;32m     44\u001b[0m     \u001b[1;32mdef\u001b[0m \u001b[0minteract\u001b[0m\u001b[1;33m(\u001b[0m\u001b[0mself\u001b[0m\u001b[1;33m,\u001b[0m\u001b[1;33m**\u001b[0m\u001b[0mkw\u001b[0m\u001b[1;33m)\u001b[0m\u001b[1;33m:\u001b[0m\u001b[1;33m\u001b[0m\u001b[1;33m\u001b[0m\u001b[0m\n\u001b[1;32m---> 45\u001b[1;33m         \u001b[1;32mreturn\u001b[0m \u001b[0mAppWindow\u001b[0m\u001b[1;33m(\u001b[0m\u001b[0mself\u001b[0m\u001b[1;33m,\u001b[0m \u001b[1;33m**\u001b[0m\u001b[0mkw\u001b[0m\u001b[1;33m)\u001b[0m\u001b[1;33m.\u001b[0m\u001b[0minteract\u001b[0m\u001b[1;33m(\u001b[0m\u001b[1;33m)\u001b[0m\u001b[1;33m\u001b[0m\u001b[1;33m\u001b[0m\u001b[0m\n\u001b[0m\u001b[0;32m     46\u001b[0m \u001b[1;33m\u001b[0m\u001b[0m\n\u001b[0;32m     47\u001b[0m     \u001b[1;32mdef\u001b[0m \u001b[0mapp\u001b[0m\u001b[1;33m(\u001b[0m\u001b[0mself\u001b[0m\u001b[1;33m,\u001b[0m\u001b[1;33m**\u001b[0m\u001b[0mkw\u001b[0m\u001b[1;33m)\u001b[0m\u001b[1;33m:\u001b[0m\u001b[1;33m\u001b[0m\u001b[1;33m\u001b[0m\u001b[0m\n",
      "\u001b[1;32md:\\homam\\synced\\programming\\python\\bmcs_utils\\bmcs_utils\\app_window.py\u001b[0m in \u001b[0;36minteract\u001b[1;34m(self)\u001b[0m\n\u001b[0;32m    149\u001b[0m                              layout=ipw.Layout(align_items=\"stretch\",\n\u001b[0;32m    150\u001b[0m                                                width=\"100%\"))\n\u001b[1;32m--> 151\u001b[1;33m         \u001b[0mself\u001b[0m\u001b[1;33m.\u001b[0m\u001b[0mmodel_tree\u001b[0m\u001b[1;33m.\u001b[0m\u001b[0mselected\u001b[0m \u001b[1;33m=\u001b[0m \u001b[1;32mTrue\u001b[0m\u001b[1;33m\u001b[0m\u001b[1;33m\u001b[0m\u001b[0m\n\u001b[0m\u001b[0;32m    152\u001b[0m         \u001b[0mdisplay\u001b[0m\u001b[1;33m(\u001b[0m\u001b[0mapp_print\u001b[0m\u001b[1;33m)\u001b[0m\u001b[1;33m\u001b[0m\u001b[1;33m\u001b[0m\u001b[0m\n\u001b[0;32m    153\u001b[0m \u001b[1;33m\u001b[0m\u001b[0m\n",
      "\u001b[1;32m~\\miniconda3\\envs\\bmcs_env\\lib\\site-packages\\traitlets\\traitlets.py\u001b[0m in \u001b[0;36m__set__\u001b[1;34m(self, obj, value)\u001b[0m\n\u001b[0;32m    604\u001b[0m             \u001b[1;32mraise\u001b[0m \u001b[0mTraitError\u001b[0m\u001b[1;33m(\u001b[0m\u001b[1;34m'The \"%s\" trait is read-only.'\u001b[0m \u001b[1;33m%\u001b[0m \u001b[0mself\u001b[0m\u001b[1;33m.\u001b[0m\u001b[0mname\u001b[0m\u001b[1;33m)\u001b[0m\u001b[1;33m\u001b[0m\u001b[1;33m\u001b[0m\u001b[0m\n\u001b[0;32m    605\u001b[0m         \u001b[1;32melse\u001b[0m\u001b[1;33m:\u001b[0m\u001b[1;33m\u001b[0m\u001b[1;33m\u001b[0m\u001b[0m\n\u001b[1;32m--> 606\u001b[1;33m             \u001b[0mself\u001b[0m\u001b[1;33m.\u001b[0m\u001b[0mset\u001b[0m\u001b[1;33m(\u001b[0m\u001b[0mobj\u001b[0m\u001b[1;33m,\u001b[0m \u001b[0mvalue\u001b[0m\u001b[1;33m)\u001b[0m\u001b[1;33m\u001b[0m\u001b[1;33m\u001b[0m\u001b[0m\n\u001b[0m\u001b[0;32m    607\u001b[0m \u001b[1;33m\u001b[0m\u001b[0m\n\u001b[0;32m    608\u001b[0m     \u001b[1;32mdef\u001b[0m \u001b[0m_validate\u001b[0m\u001b[1;33m(\u001b[0m\u001b[0mself\u001b[0m\u001b[1;33m,\u001b[0m \u001b[0mobj\u001b[0m\u001b[1;33m,\u001b[0m \u001b[0mvalue\u001b[0m\u001b[1;33m)\u001b[0m\u001b[1;33m:\u001b[0m\u001b[1;33m\u001b[0m\u001b[1;33m\u001b[0m\u001b[0m\n",
      "\u001b[1;32m~\\miniconda3\\envs\\bmcs_env\\lib\\site-packages\\traitlets\\traitlets.py\u001b[0m in \u001b[0;36mset\u001b[1;34m(self, obj, value)\u001b[0m\n\u001b[0;32m    593\u001b[0m             \u001b[1;31m# we explicitly compare silent to True just in case the equality\u001b[0m\u001b[1;33m\u001b[0m\u001b[1;33m\u001b[0m\u001b[0m\n\u001b[0;32m    594\u001b[0m             \u001b[1;31m# comparison above returns something other than True/False\u001b[0m\u001b[1;33m\u001b[0m\u001b[1;33m\u001b[0m\u001b[0m\n\u001b[1;32m--> 595\u001b[1;33m             \u001b[0mobj\u001b[0m\u001b[1;33m.\u001b[0m\u001b[0m_notify_trait\u001b[0m\u001b[1;33m(\u001b[0m\u001b[0mself\u001b[0m\u001b[1;33m.\u001b[0m\u001b[0mname\u001b[0m\u001b[1;33m,\u001b[0m \u001b[0mold_value\u001b[0m\u001b[1;33m,\u001b[0m \u001b[0mnew_value\u001b[0m\u001b[1;33m)\u001b[0m\u001b[1;33m\u001b[0m\u001b[1;33m\u001b[0m\u001b[0m\n\u001b[0m\u001b[0;32m    596\u001b[0m \u001b[1;33m\u001b[0m\u001b[0m\n\u001b[0;32m    597\u001b[0m     \u001b[1;32mdef\u001b[0m \u001b[0m__set__\u001b[0m\u001b[1;33m(\u001b[0m\u001b[0mself\u001b[0m\u001b[1;33m,\u001b[0m \u001b[0mobj\u001b[0m\u001b[1;33m,\u001b[0m \u001b[0mvalue\u001b[0m\u001b[1;33m)\u001b[0m\u001b[1;33m:\u001b[0m\u001b[1;33m\u001b[0m\u001b[1;33m\u001b[0m\u001b[0m\n",
      "\u001b[1;32m~\\miniconda3\\envs\\bmcs_env\\lib\\site-packages\\traitlets\\traitlets.py\u001b[0m in \u001b[0;36m_notify_trait\u001b[1;34m(self, name, old_value, new_value)\u001b[0m\n\u001b[0;32m   1217\u001b[0m \u001b[1;33m\u001b[0m\u001b[0m\n\u001b[0;32m   1218\u001b[0m     \u001b[1;32mdef\u001b[0m \u001b[0m_notify_trait\u001b[0m\u001b[1;33m(\u001b[0m\u001b[0mself\u001b[0m\u001b[1;33m,\u001b[0m \u001b[0mname\u001b[0m\u001b[1;33m,\u001b[0m \u001b[0mold_value\u001b[0m\u001b[1;33m,\u001b[0m \u001b[0mnew_value\u001b[0m\u001b[1;33m)\u001b[0m\u001b[1;33m:\u001b[0m\u001b[1;33m\u001b[0m\u001b[1;33m\u001b[0m\u001b[0m\n\u001b[1;32m-> 1219\u001b[1;33m         self.notify_change(Bunch(\n\u001b[0m\u001b[0;32m   1220\u001b[0m             \u001b[0mname\u001b[0m\u001b[1;33m=\u001b[0m\u001b[0mname\u001b[0m\u001b[1;33m,\u001b[0m\u001b[1;33m\u001b[0m\u001b[1;33m\u001b[0m\u001b[0m\n\u001b[0;32m   1221\u001b[0m             \u001b[0mold\u001b[0m\u001b[1;33m=\u001b[0m\u001b[0mold_value\u001b[0m\u001b[1;33m,\u001b[0m\u001b[1;33m\u001b[0m\u001b[1;33m\u001b[0m\u001b[0m\n",
      "\u001b[1;32m~\\miniconda3\\envs\\bmcs_env\\lib\\site-packages\\ipywidgets\\widgets\\widget.py\u001b[0m in \u001b[0;36mnotify_change\u001b[1;34m(self, change)\u001b[0m\n\u001b[0;32m    604\u001b[0m                 \u001b[1;31m# Send new state to front-end\u001b[0m\u001b[1;33m\u001b[0m\u001b[1;33m\u001b[0m\u001b[0m\n\u001b[0;32m    605\u001b[0m                 \u001b[0mself\u001b[0m\u001b[1;33m.\u001b[0m\u001b[0msend_state\u001b[0m\u001b[1;33m(\u001b[0m\u001b[0mkey\u001b[0m\u001b[1;33m=\u001b[0m\u001b[0mname\u001b[0m\u001b[1;33m)\u001b[0m\u001b[1;33m\u001b[0m\u001b[1;33m\u001b[0m\u001b[0m\n\u001b[1;32m--> 606\u001b[1;33m         \u001b[0msuper\u001b[0m\u001b[1;33m(\u001b[0m\u001b[0mWidget\u001b[0m\u001b[1;33m,\u001b[0m \u001b[0mself\u001b[0m\u001b[1;33m)\u001b[0m\u001b[1;33m.\u001b[0m\u001b[0mnotify_change\u001b[0m\u001b[1;33m(\u001b[0m\u001b[0mchange\u001b[0m\u001b[1;33m)\u001b[0m\u001b[1;33m\u001b[0m\u001b[1;33m\u001b[0m\u001b[0m\n\u001b[0m\u001b[0;32m    607\u001b[0m \u001b[1;33m\u001b[0m\u001b[0m\n\u001b[0;32m    608\u001b[0m     \u001b[1;32mdef\u001b[0m \u001b[0m__repr__\u001b[0m\u001b[1;33m(\u001b[0m\u001b[0mself\u001b[0m\u001b[1;33m)\u001b[0m\u001b[1;33m:\u001b[0m\u001b[1;33m\u001b[0m\u001b[1;33m\u001b[0m\u001b[0m\n",
      "\u001b[1;32m~\\miniconda3\\envs\\bmcs_env\\lib\\site-packages\\traitlets\\traitlets.py\u001b[0m in \u001b[0;36mnotify_change\u001b[1;34m(self, change)\u001b[0m\n\u001b[0;32m   1227\u001b[0m     \u001b[1;32mdef\u001b[0m \u001b[0mnotify_change\u001b[0m\u001b[1;33m(\u001b[0m\u001b[0mself\u001b[0m\u001b[1;33m,\u001b[0m \u001b[0mchange\u001b[0m\u001b[1;33m)\u001b[0m\u001b[1;33m:\u001b[0m\u001b[1;33m\u001b[0m\u001b[1;33m\u001b[0m\u001b[0m\n\u001b[0;32m   1228\u001b[0m         \u001b[1;34m\"\"\"Notify observers of a change event\"\"\"\u001b[0m\u001b[1;33m\u001b[0m\u001b[1;33m\u001b[0m\u001b[0m\n\u001b[1;32m-> 1229\u001b[1;33m         \u001b[1;32mreturn\u001b[0m \u001b[0mself\u001b[0m\u001b[1;33m.\u001b[0m\u001b[0m_notify_observers\u001b[0m\u001b[1;33m(\u001b[0m\u001b[0mchange\u001b[0m\u001b[1;33m)\u001b[0m\u001b[1;33m\u001b[0m\u001b[1;33m\u001b[0m\u001b[0m\n\u001b[0m\u001b[0;32m   1230\u001b[0m \u001b[1;33m\u001b[0m\u001b[0m\n\u001b[0;32m   1231\u001b[0m     \u001b[1;32mdef\u001b[0m \u001b[0m_notify_observers\u001b[0m\u001b[1;33m(\u001b[0m\u001b[0mself\u001b[0m\u001b[1;33m,\u001b[0m \u001b[0mevent\u001b[0m\u001b[1;33m)\u001b[0m\u001b[1;33m:\u001b[0m\u001b[1;33m\u001b[0m\u001b[1;33m\u001b[0m\u001b[0m\n",
      "\u001b[1;32m~\\miniconda3\\envs\\bmcs_env\\lib\\site-packages\\traitlets\\traitlets.py\u001b[0m in \u001b[0;36m_notify_observers\u001b[1;34m(self, event)\u001b[0m\n\u001b[0;32m   1264\u001b[0m                 \u001b[0mc\u001b[0m \u001b[1;33m=\u001b[0m \u001b[0mgetattr\u001b[0m\u001b[1;33m(\u001b[0m\u001b[0mself\u001b[0m\u001b[1;33m,\u001b[0m \u001b[0mc\u001b[0m\u001b[1;33m.\u001b[0m\u001b[0mname\u001b[0m\u001b[1;33m)\u001b[0m\u001b[1;33m\u001b[0m\u001b[1;33m\u001b[0m\u001b[0m\n\u001b[0;32m   1265\u001b[0m \u001b[1;33m\u001b[0m\u001b[0m\n\u001b[1;32m-> 1266\u001b[1;33m             \u001b[0mc\u001b[0m\u001b[1;33m(\u001b[0m\u001b[0mevent\u001b[0m\u001b[1;33m)\u001b[0m\u001b[1;33m\u001b[0m\u001b[1;33m\u001b[0m\u001b[0m\n\u001b[0m\u001b[0;32m   1267\u001b[0m \u001b[1;33m\u001b[0m\u001b[0m\n\u001b[0;32m   1268\u001b[0m     \u001b[1;32mdef\u001b[0m \u001b[0m_add_notifiers\u001b[0m\u001b[1;33m(\u001b[0m\u001b[0mself\u001b[0m\u001b[1;33m,\u001b[0m \u001b[0mhandler\u001b[0m\u001b[1;33m,\u001b[0m \u001b[0mname\u001b[0m\u001b[1;33m,\u001b[0m \u001b[0mtype\u001b[0m\u001b[1;33m)\u001b[0m\u001b[1;33m:\u001b[0m\u001b[1;33m\u001b[0m\u001b[1;33m\u001b[0m\u001b[0m\n",
      "\u001b[1;32md:\\homam\\synced\\programming\\python\\bmcs_utils\\bmcs_utils\\app_window.py\u001b[0m in \u001b[0;36mselect_node\u001b[1;34m(self, event)\u001b[0m\n\u001b[0;32m    243\u001b[0m         \u001b[0mself\u001b[0m\u001b[1;33m.\u001b[0m\u001b[0mset_plot_backend\u001b[0m\u001b[1;33m(\u001b[0m\u001b[0mbackend\u001b[0m\u001b[1;33m)\u001b[0m\u001b[1;33m\u001b[0m\u001b[1;33m\u001b[0m\u001b[0m\n\u001b[0;32m    244\u001b[0m         \u001b[0mself\u001b[0m\u001b[1;33m.\u001b[0m\u001b[0msetup_plot\u001b[0m\u001b[1;33m(\u001b[0m\u001b[0mcontroller\u001b[0m\u001b[1;33m.\u001b[0m\u001b[0mmodel\u001b[0m\u001b[1;33m)\u001b[0m\u001b[1;33m\u001b[0m\u001b[1;33m\u001b[0m\u001b[0m\n\u001b[1;32m--> 245\u001b[1;33m         \u001b[0mself\u001b[0m\u001b[1;33m.\u001b[0m\u001b[0mupdate_plot\u001b[0m\u001b[1;33m(\u001b[0m\u001b[0mcontroller\u001b[0m\u001b[1;33m.\u001b[0m\u001b[0mmodel\u001b[0m\u001b[1;33m)\u001b[0m\u001b[1;33m\u001b[0m\u001b[1;33m\u001b[0m\u001b[0m\n\u001b[0m\u001b[0;32m    246\u001b[0m \u001b[1;33m\u001b[0m\u001b[0m\n\u001b[0;32m    247\u001b[0m     \u001b[0mcurrent_plot_backend\u001b[0m \u001b[1;33m=\u001b[0m \u001b[0mtr\u001b[0m\u001b[1;33m.\u001b[0m\u001b[0mStr\u001b[0m\u001b[1;33m\u001b[0m\u001b[1;33m\u001b[0m\u001b[0m\n",
      "\u001b[1;32md:\\homam\\synced\\programming\\python\\bmcs_utils\\bmcs_utils\\app_window.py\u001b[0m in \u001b[0;36mupdate_plot\u001b[1;34m(self, model)\u001b[0m\n\u001b[0;32m    268\u001b[0m     \u001b[1;32mdef\u001b[0m \u001b[0mupdate_plot\u001b[0m\u001b[1;33m(\u001b[0m\u001b[0mself\u001b[0m\u001b[1;33m,\u001b[0m \u001b[0mmodel\u001b[0m\u001b[1;33m)\u001b[0m\u001b[1;33m:\u001b[0m\u001b[1;33m\u001b[0m\u001b[1;33m\u001b[0m\u001b[0m\n\u001b[0;32m    269\u001b[0m         \u001b[0mpb\u001b[0m \u001b[1;33m=\u001b[0m \u001b[0mself\u001b[0m\u001b[1;33m.\u001b[0m\u001b[0mplot_backend_table\u001b[0m\u001b[1;33m[\u001b[0m\u001b[0mself\u001b[0m\u001b[1;33m.\u001b[0m\u001b[0mcurrent_plot_backend\u001b[0m\u001b[1;33m]\u001b[0m\u001b[1;33m\u001b[0m\u001b[1;33m\u001b[0m\u001b[0m\n\u001b[1;32m--> 270\u001b[1;33m         \u001b[0mpb\u001b[0m\u001b[1;33m.\u001b[0m\u001b[0mupdate_plot\u001b[0m\u001b[1;33m(\u001b[0m\u001b[0mmodel\u001b[0m\u001b[1;33m)\u001b[0m\u001b[1;33m\u001b[0m\u001b[1;33m\u001b[0m\u001b[0m\n\u001b[0m\u001b[0;32m    271\u001b[0m         \u001b[0mpb\u001b[0m\u001b[1;33m.\u001b[0m\u001b[0mshow_fig\u001b[0m\u001b[1;33m(\u001b[0m\u001b[1;33m)\u001b[0m\u001b[1;33m\u001b[0m\u001b[1;33m\u001b[0m\u001b[0m\n\u001b[0;32m    272\u001b[0m \u001b[1;33m\u001b[0m\u001b[0m\n",
      "\u001b[1;32md:\\homam\\synced\\programming\\python\\bmcs_utils\\bmcs_utils\\app_window.py\u001b[0m in \u001b[0;36mupdate_plot\u001b[1;34m(self, model)\u001b[0m\n\u001b[0;32m     52\u001b[0m         \u001b[0mself\u001b[0m\u001b[1;33m.\u001b[0m\u001b[0mplot_fig\u001b[0m\u001b[1;33m.\u001b[0m\u001b[0mclf\u001b[0m\u001b[1;33m(\u001b[0m\u001b[1;33m)\u001b[0m\u001b[1;33m\u001b[0m\u001b[1;33m\u001b[0m\u001b[0m\n\u001b[0;32m     53\u001b[0m         \u001b[0mself\u001b[0m\u001b[1;33m.\u001b[0m\u001b[0maxes\u001b[0m \u001b[1;33m=\u001b[0m \u001b[0mmodel\u001b[0m\u001b[1;33m.\u001b[0m\u001b[0msubplots\u001b[0m\u001b[1;33m(\u001b[0m\u001b[0mself\u001b[0m\u001b[1;33m.\u001b[0m\u001b[0mplot_fig\u001b[0m\u001b[1;33m)\u001b[0m\u001b[1;33m\u001b[0m\u001b[1;33m\u001b[0m\u001b[0m\n\u001b[1;32m---> 54\u001b[1;33m         \u001b[0mmodel\u001b[0m\u001b[1;33m.\u001b[0m\u001b[0mupdate_plot\u001b[0m\u001b[1;33m(\u001b[0m\u001b[0mself\u001b[0m\u001b[1;33m.\u001b[0m\u001b[0maxes\u001b[0m\u001b[1;33m)\u001b[0m\u001b[1;33m\u001b[0m\u001b[1;33m\u001b[0m\u001b[0m\n\u001b[0m\u001b[0;32m     55\u001b[0m \u001b[1;33m\u001b[0m\u001b[0m\n\u001b[0;32m     56\u001b[0m \u001b[1;32mclass\u001b[0m \u001b[0mK3DBackend\u001b[0m\u001b[1;33m(\u001b[0m\u001b[0mPlotBackend\u001b[0m\u001b[1;33m)\u001b[0m\u001b[1;33m:\u001b[0m\u001b[1;33m\u001b[0m\u001b[1;33m\u001b[0m\u001b[0m\n",
      "\u001b[1;32md:\\homam\\synced\\programming\\python\\bmcs_beam\\bmcs_beam\\bending\\deflection_profile.py\u001b[0m in \u001b[0;36mupdate_plot\u001b[1;34m(self, axes)\u001b[0m\n\u001b[0;32m    254\u001b[0m     \u001b[1;32mdef\u001b[0m \u001b[0mupdate_plot\u001b[0m\u001b[1;33m(\u001b[0m\u001b[0mself\u001b[0m\u001b[1;33m,\u001b[0m \u001b[0maxes\u001b[0m\u001b[1;33m)\u001b[0m\u001b[1;33m:\u001b[0m\u001b[1;33m\u001b[0m\u001b[1;33m\u001b[0m\u001b[0m\n\u001b[0;32m    255\u001b[0m         \u001b[0max_w\u001b[0m\u001b[1;33m,\u001b[0m \u001b[0max_k\u001b[0m\u001b[1;33m,\u001b[0m \u001b[0max_Fw\u001b[0m \u001b[1;33m=\u001b[0m \u001b[0maxes\u001b[0m\u001b[1;33m\u001b[0m\u001b[1;33m\u001b[0m\u001b[0m\n\u001b[1;32m--> 256\u001b[1;33m         \u001b[0mself\u001b[0m\u001b[1;33m.\u001b[0m\u001b[0mplot_fw_with_fmax\u001b[0m\u001b[1;33m(\u001b[0m\u001b[0max_Fw\u001b[0m\u001b[1;33m)\u001b[0m\u001b[1;33m\u001b[0m\u001b[1;33m\u001b[0m\u001b[0m\n\u001b[0m\u001b[0;32m    257\u001b[0m         \u001b[0mself\u001b[0m\u001b[1;33m.\u001b[0m\u001b[0mplot_curvature_along_beam\u001b[0m\u001b[1;33m(\u001b[0m\u001b[0max_k\u001b[0m\u001b[1;33m)\u001b[0m\u001b[1;33m\u001b[0m\u001b[1;33m\u001b[0m\u001b[0m\n\u001b[0;32m    258\u001b[0m         \u001b[0mself\u001b[0m\u001b[1;33m.\u001b[0m\u001b[0mplot_displacement_along_beam\u001b[0m\u001b[1;33m(\u001b[0m\u001b[0max_w\u001b[0m\u001b[1;33m)\u001b[0m\u001b[1;33m\u001b[0m\u001b[1;33m\u001b[0m\u001b[0m\n",
      "\u001b[1;32md:\\homam\\synced\\programming\\python\\bmcs_beam\\bmcs_beam\\bending\\deflection_profile.py\u001b[0m in \u001b[0;36mplot_fw_with_fmax\u001b[1;34m(self, ax_Fw)\u001b[0m\n\u001b[0;32m    271\u001b[0m \u001b[1;33m\u001b[0m\u001b[0m\n\u001b[0;32m    272\u001b[0m         \u001b[1;32mif\u001b[0m \u001b[0mself\u001b[0m\u001b[1;33m.\u001b[0m\u001b[0mmc\u001b[0m\u001b[1;33m.\u001b[0m\u001b[0mcross_section_layout\u001b[0m\u001b[1;33m.\u001b[0m\u001b[0mitems\u001b[0m\u001b[1;33m[\u001b[0m\u001b[1;36m0\u001b[0m\u001b[1;33m]\u001b[0m\u001b[1;33m.\u001b[0m\u001b[0mmatmod\u001b[0m \u001b[1;33m==\u001b[0m \u001b[1;34m'carbon'\u001b[0m\u001b[1;33m:\u001b[0m\u001b[1;33m\u001b[0m\u001b[1;33m\u001b[0m\u001b[0m\n\u001b[1;32m--> 273\u001b[1;33m             \u001b[0mself\u001b[0m\u001b[1;33m.\u001b[0m\u001b[0mget_nm_shear_force_capacity\u001b[0m\u001b[1;33m(\u001b[0m\u001b[0mshould_print\u001b[0m\u001b[1;33m=\u001b[0m\u001b[1;32mTrue\u001b[0m\u001b[1;33m)\u001b[0m\u001b[1;33m\u001b[0m\u001b[1;33m\u001b[0m\u001b[0m\n\u001b[0m\u001b[0;32m    274\u001b[0m \u001b[1;33m\u001b[0m\u001b[0m\n\u001b[0;32m    275\u001b[0m     \u001b[1;32mdef\u001b[0m \u001b[0mplot_exp_fw\u001b[0m\u001b[1;33m(\u001b[0m\u001b[0mself\u001b[0m\u001b[1;33m,\u001b[0m \u001b[0max_Fw\u001b[0m\u001b[1;33m)\u001b[0m\u001b[1;33m:\u001b[0m\u001b[1;33m\u001b[0m\u001b[1;33m\u001b[0m\u001b[0m\n",
      "\u001b[1;32md:\\homam\\synced\\programming\\python\\bmcs_beam\\bmcs_beam\\bending\\deflection_profile.py\u001b[0m in \u001b[0;36mget_nm_shear_force_capacity\u001b[1;34m(self, should_print)\u001b[0m\n\u001b[0;32m    317\u001b[0m         \u001b[0mE_nm\u001b[0m \u001b[1;33m=\u001b[0m \u001b[0mmc\u001b[0m\u001b[1;33m.\u001b[0m\u001b[0mcross_section_layout\u001b[0m\u001b[1;33m.\u001b[0m\u001b[0mitems\u001b[0m\u001b[1;33m[\u001b[0m\u001b[1;36m0\u001b[0m\u001b[1;33m]\u001b[0m\u001b[1;33m.\u001b[0m\u001b[0mmatmod_\u001b[0m\u001b[1;33m.\u001b[0m\u001b[0mE\u001b[0m\u001b[1;33m\u001b[0m\u001b[1;33m\u001b[0m\u001b[0m\n\u001b[0;32m    318\u001b[0m         \u001b[0md\u001b[0m \u001b[1;33m=\u001b[0m \u001b[0mmc\u001b[0m\u001b[1;33m.\u001b[0m\u001b[0mcross_section_shape_\u001b[0m\u001b[1;33m.\u001b[0m\u001b[0mH\u001b[0m \u001b[1;33m-\u001b[0m \u001b[0mz\u001b[0m\u001b[1;33m\u001b[0m\u001b[1;33m\u001b[0m\u001b[0m\n\u001b[1;32m--> 319\u001b[1;33m         \u001b[0mb\u001b[0m \u001b[1;33m=\u001b[0m \u001b[0mmc\u001b[0m\u001b[1;33m.\u001b[0m\u001b[0mcross_section_shape_\u001b[0m\u001b[1;33m.\u001b[0m\u001b[0mB\u001b[0m\u001b[1;33m\u001b[0m\u001b[1;33m\u001b[0m\u001b[0m\n\u001b[0m\u001b[0;32m    320\u001b[0m         \u001b[0mL\u001b[0m \u001b[1;33m=\u001b[0m \u001b[0mself\u001b[0m\u001b[1;33m.\u001b[0m\u001b[0mbeam_design\u001b[0m\u001b[1;33m.\u001b[0m\u001b[0msystem_\u001b[0m\u001b[1;33m.\u001b[0m\u001b[0mL\u001b[0m\u001b[1;33m\u001b[0m\u001b[1;33m\u001b[0m\u001b[0m\n\u001b[0;32m    321\u001b[0m         \u001b[0mf_ck\u001b[0m \u001b[1;33m=\u001b[0m \u001b[0mmc\u001b[0m\u001b[1;33m.\u001b[0m\u001b[0mcs_design\u001b[0m\u001b[1;33m.\u001b[0m\u001b[0mmatrix_\u001b[0m\u001b[1;33m.\u001b[0m\u001b[0mf_cm\u001b[0m\u001b[1;33m\u001b[0m\u001b[1;33m\u001b[0m\u001b[0m\n",
      "\u001b[1;31mAttributeError\u001b[0m: 'IShape' object has no attribute 'B'"
     ]
    }
   ],
   "source": [
    "# I section\n",
    "\n",
    "dp = get_dp(high_kappa =0.00015, A = 2 * A_phi_6, L=1300)\n",
    "\n",
    "dp.mc.cross_section_shape = 'I-shape'\n",
    "dp.mc.cross_section_shape_.H = 200\n",
    "dp.mc.cross_section_shape_.B_w = 50\n",
    "dp.mc.cross_section_shape_.B_f_bot = 50\n",
    "dp.mc.cross_section_shape_.B_f_top = 150\n",
    "dp.mc.cross_section_shape_.H_f_bot = 50\n",
    "dp.mc.cross_section_shape_.H_f_top = 50\n",
    "\n",
    "dp.interact()"
   ]
  },
  {
   "cell_type": "code",
   "execution_count": 81,
   "id": "9aa0abb1",
   "metadata": {},
   "outputs": [
    {
     "name": "stdout",
     "output_type": "stream",
     "text": [
      "A= 56.4\n",
      "rho = 0.2 %\n",
      "l/d = 6.989247311827957\n"
     ]
    },
    {
     "data": {
      "application/vnd.jupyter.widget-view+json": {
       "model_id": "8f66c95ea4804e08ad2fa075f54f4401",
       "version_major": 2,
       "version_minor": 0
      },
      "text/plain": [
       "VBox(children=(HBox(children=(VBox(children=(Tree(layout=Layout(align_items='stretch', border='solid 1px black…"
      ]
     },
     "metadata": {},
     "output_type": "display_data"
    }
   ],
   "source": [
    "# Rect section to compare with I\n",
    "\n",
    "dp = get_dp(high_kappa = 0.00025, B=150, H=200, A = 2 * A_phi_6, L=1300) # 'EC2 with plateau', 'piecewise linear'\n",
    "\n",
    "dp.interact()"
   ]
  },
  {
   "cell_type": "code",
   "execution_count": 135,
   "id": "65ed3b86",
   "metadata": {
    "scrolled": false
   },
   "outputs": [
    {
     "name": "stdout",
     "output_type": "stream",
     "text": [
      "A= 903.6000000000001\n",
      "rho = 3.24 %\n",
      "l/d = 6.989247311827957\n",
      "V_Rm_c = 9.06 kN, Shear failure by F_tot_max = 18.12 kN\n"
     ]
    },
    {
     "data": {
      "application/vnd.jupyter.widget-view+json": {
       "model_id": "0811bb9fe74c4922bab19554e1ea060b",
       "version_major": 2,
       "version_minor": 0
      },
      "text/plain": [
       "VBox(children=(HBox(children=(VBox(children=(Tree(layout=Layout(align_items='stretch', border='solid 1px black…"
      ]
     },
     "metadata": {},
     "output_type": "display_data"
    }
   ],
   "source": [
    "# Ductile carbon beam\n",
    "# grid_layers_area=list(1*np.linspace(0.1, 1, n))\n",
    "# A =21.72\n",
    "n=6\n",
    "# dp = get_dp(high_kappa = 0.00013, B=150, H=200, L=1300, grid_layers_n=n, grid_layers_spacing=10, grid_layers_area=list(reversed([1, 3, 5, 8, 15, 30])))\n",
    "dp = get_dp(high_kappa = 0.00013, B=150, H=200, L=1300, grid_layers_n=n, grid_layers_spacing=10, grid_layers_area=list([1, 3, 5, 8, 15, 30]))\n",
    "\n",
    "# dp = get_dp(high_kappa = 0.00013, B=150, H=200, L=1300, carbon_type = 'grid', A=20)\n",
    "\n",
    "# dp = get_dp(high_kappa = 0.00013, B=150, H=200, L=1300)\n",
    "\n",
    "dp.interact()"
   ]
  },
  {
   "cell_type": "code",
   "execution_count": 136,
   "id": "ca7ae03d",
   "metadata": {},
   "outputs": [
    {
     "name": "stdout",
     "output_type": "stream",
     "text": [
      "A= 100.4\n",
      "rho = 0.13 %\n",
      "l/d = 3.3678756476683938\n",
      "V_Rm_c = 81.29 kN, Shear failure by F_tot_max = 162.58 kN\n"
     ]
    },
    {
     "data": {
      "application/vnd.jupyter.widget-view+json": {
       "model_id": "62e9415ab6294b8f81bc3b99a753c23b",
       "version_major": 2,
       "version_minor": 0
      },
      "text/plain": [
       "VBox(children=(HBox(children=(VBox(children=(Tree(layout=Layout(align_items='stretch', border='solid 1px black…"
      ]
     },
     "metadata": {},
     "output_type": "display_data"
    }
   ],
   "source": [
    "# Ductility study\n",
    "# Beam: solidian REBAR Ø8-CCE\n",
    "# failure on concrete compression\n",
    "dp = get_dp(high_kappa = 0.0001, B=200, H=400, A = 2 * A_phi_8, concrete_law = 'EC2', L=1300) # 'EC2 with plateau', 'piecewise linear'\n",
    "\n",
    "bl1 = ReinfLayer(name='rebars', z=30, A=1 * (3.14*8)**2, matmod='steel')\n",
    "# bl1.matmod_.trait_set(E=E_nm, f_t=f_t, factor = 1.)\n",
    "dp.mc.cross_section_layout.add_layer(bl1)\n",
    "\n",
    "dp.interact()"
   ]
  },
  {
   "cell_type": "code",
   "execution_count": 36,
   "id": "453a07b5",
   "metadata": {},
   "outputs": [
    {
     "name": "stdout",
     "output_type": "stream",
     "text": [
      "A= 100.4\n",
      "rho = 0.13 %\n",
      "l/d = 3.3678756476683938\n",
      "V_Rm_c = 81.29 kN, Shear failure by F_tot_max = 162.58 kN\n"
     ]
    },
    {
     "data": {
      "application/vnd.jupyter.widget-view+json": {
       "model_id": "92169b765c104380aa15c48439216cbc",
       "version_major": 2,
       "version_minor": 0
      },
      "text/plain": [
       "VBox(children=(HBox(children=(VBox(children=(Tree(layout=Layout(align_items='stretch', border='solid 1px black…"
      ]
     },
     "metadata": {},
     "output_type": "display_data"
    }
   ],
   "source": [
    "# Ductility study 2\n",
    "# Beam: solidian REBAR Ø8-CCE\n",
    "# failure on concrete compression\n",
    "dp = get_dp(high_kappa = 0.0001, B=200, H=400, A = 2 * A_phi_8, concrete_law = 'EC2', L=1300) # 'EC2 with plateau', 'piecewise linear'\n",
    "\n",
    "bl1 = ReinfLayer(name='rebars', z=5, A=A_phi_8, matmod='carbon')\n",
    "bl1.matmod_.trait_set(E=158000, f_t=2500/4)\n",
    "dp.mc.cross_section_layout.add_layer(bl1)\n",
    "\n",
    "dp.interact()"
   ]
  },
  {
   "cell_type": "code",
   "execution_count": 137,
   "id": "c37a100b",
   "metadata": {},
   "outputs": [
    {
     "ename": "TypeError",
     "evalue": "get_dp() got an unexpected keyword argument 'f_ck'",
     "output_type": "error",
     "traceback": [
      "\u001b[1;31m---------------------------------------------------------------------------\u001b[0m",
      "\u001b[1;31mTypeError\u001b[0m                                 Traceback (most recent call last)",
      "\u001b[1;32m~\\AppData\\Local\\Temp/ipykernel_2596/3348574298.py\u001b[0m in \u001b[0;36m<module>\u001b[1;34m\u001b[0m\n\u001b[0;32m      1\u001b[0m \u001b[1;31m# Ductility study 3 on steel (over reinforced steel cross sections also have ductile behaviour if concrete is high)\u001b[0m\u001b[1;33m\u001b[0m\u001b[1;33m\u001b[0m\u001b[0m\n\u001b[1;32m----> 2\u001b[1;33m \u001b[0mdp\u001b[0m \u001b[1;33m=\u001b[0m \u001b[0mget_dp\u001b[0m\u001b[1;33m(\u001b[0m\u001b[0mf_ck\u001b[0m \u001b[1;33m=\u001b[0m \u001b[1;36m40\u001b[0m\u001b[1;33m,\u001b[0m \u001b[0mhigh_kappa\u001b[0m \u001b[1;33m=\u001b[0m \u001b[1;36m0.00002\u001b[0m\u001b[1;33m,\u001b[0m \u001b[0mB\u001b[0m\u001b[1;33m=\u001b[0m\u001b[1;36m200\u001b[0m\u001b[1;33m,\u001b[0m \u001b[0mH\u001b[0m\u001b[1;33m=\u001b[0m\u001b[1;36m400\u001b[0m\u001b[1;33m,\u001b[0m \u001b[0mA\u001b[0m \u001b[1;33m=\u001b[0m \u001b[1;36m7\u001b[0m\u001b[1;33m*\u001b[0m\u001b[1;36m3.14\u001b[0m\u001b[1;33m*\u001b[0m\u001b[1;36m16\u001b[0m\u001b[1;33m**\u001b[0m\u001b[1;36m2\u001b[0m\u001b[1;33m,\u001b[0m \u001b[0mconcrete_law\u001b[0m \u001b[1;33m=\u001b[0m \u001b[1;34m'EC2'\u001b[0m\u001b[1;33m,\u001b[0m \u001b[0mL\u001b[0m\u001b[1;33m=\u001b[0m\u001b[1;36m1300\u001b[0m\u001b[1;33m,\u001b[0m \u001b[0mreinf\u001b[0m \u001b[1;33m=\u001b[0m \u001b[1;34m'steel'\u001b[0m\u001b[1;33m)\u001b[0m \u001b[1;31m# 'EC2 with plateau', 'piecewise linear'\u001b[0m\u001b[1;33m\u001b[0m\u001b[1;33m\u001b[0m\u001b[0m\n\u001b[0m\u001b[0;32m      3\u001b[0m \u001b[0mdp\u001b[0m\u001b[1;33m.\u001b[0m\u001b[0minteract\u001b[0m\u001b[1;33m(\u001b[0m\u001b[1;33m)\u001b[0m\u001b[1;33m\u001b[0m\u001b[1;33m\u001b[0m\u001b[0m\n",
      "\u001b[1;31mTypeError\u001b[0m: get_dp() got an unexpected keyword argument 'f_ck'"
     ]
    }
   ],
   "source": [
    "# Ductility study 3 on steel (over reinforced steel cross sections also have ductile behaviour if concrete is high)\n",
    "dp = get_dp(f_ck = 40, high_kappa = 0.00002, B=200, H=400, A = 7*3.14*16**2, concrete_law = 'EC2', L=1300, reinf = 'steel') # 'EC2 with plateau', 'piecewise linear'\n",
    "dp.interact()"
   ]
  },
  {
   "cell_type": "code",
   "execution_count": null,
   "id": "1287b90c",
   "metadata": {},
   "outputs": [],
   "source": []
  }
 ],
 "metadata": {
  "kernelspec": {
   "display_name": "Python 3 (ipykernel)",
   "language": "python",
   "name": "python3"
  },
  "language_info": {
   "codemirror_mode": {
    "name": "ipython",
    "version": 3
   },
   "file_extension": ".py",
   "mimetype": "text/x-python",
   "name": "python",
   "nbconvert_exporter": "python",
   "pygments_lexer": "ipython3",
   "version": "3.9.7"
  }
 },
 "nbformat": 4,
 "nbformat_minor": 5
}
