{
 "cells": [
  {
   "cell_type": "code",
   "execution_count": 1,
   "id": "68b9eba4",
   "metadata": {},
   "outputs": [],
   "source": [
    "%matplotlib widget\n",
    "from bmcs_cross_section.api import MKappa, TShape, MKappaParamsStudy, EC2, ReinfLayer, IShape, CustomShape, EC2ConcreteMatMod, EC2PlateauConcreteMatMod\n",
    "from bmcs_beam.api import FourPBSystem, BoundaryConditions, BoundaryConfig, DeflectionProfile, BeamDesign, LoadDeflectionParamsStudy, SLSParamStudy, BeamSLSCurve\n",
    "import numpy as np\n",
    "import bmcs_utils.api as bu\n",
    "import matplotlib.pyplot as plt"
   ]
  },
  {
   "cell_type": "code",
   "execution_count": 2,
   "id": "2d8dffe2",
   "metadata": {},
   "outputs": [],
   "source": [
    "# Concrete C3-HF2-165-4\n",
    "E_cm_C3 = 43596\n",
    "f_cm_C3 = 103\n",
    "fctm_sp = 5.6\n",
    "fctm_fl = 12.51"
   ]
  },
  {
   "cell_type": "code",
   "execution_count": 3,
   "id": "3744717f",
   "metadata": {},
   "outputs": [],
   "source": [
    "# solidian REBAR Ø6 and Ø8\n",
    "A_phi_6 = 28.2\n",
    "A_phi_8 = 50.2"
   ]
  },
  {
   "cell_type": "code",
   "execution_count": 4,
   "id": "78627e82",
   "metadata": {},
   "outputs": [],
   "source": [
    "def get_dp(f_cm = f_cm_C3, E_cm = E_cm_C3, fctm_fl=None,\n",
    "           setup='4pb', L=2000, L_F=None,\n",
    "           high_kappa = 0.00018, concrete_law='EC2',\n",
    "           B=200, H=150, A = None,\n",
    "           reinf = 'carbon',\n",
    "           E_nm=None, f_t=None, z=None,\n",
    "           carbon_type='rebars',\n",
    "           grid_layers_n=1, grid_layers_spacing=10, grid_layers_area=[]):\n",
    "    # carbon_type: 'rebars' -> solidian REBAR Ø8-CCE\n",
    "    # carbon_type: 'grid' -> solidian GRID Q95-CCE-38-E5\n",
    "    \n",
    "    mc = MKappa(low_kappa = 0, high_kappa = high_kappa)\n",
    "    \n",
    "    mc.cs_design.matrix=concrete_law\n",
    "    \n",
    "    f_ck = EC2.get_f_ck_from_f_cm(f_cm)\n",
    "    if fctm_fl is None:\n",
    "        fctm_fl = EC2.get_f_ctm_fl(f_ck, H)\n",
    "    if concrete_law == 'EC2 with plateau' or concrete_law == 'EC2':\n",
    "        mc.cs_design.matrix_.trait_set(f_cm = f_cm)\n",
    "    elif concrete_law == 'piecewise linear':\n",
    "        mc.cs_design.matrix_.trait_set(\n",
    "            eps_cy=EC2.get_eps_c3(f_ck),\n",
    "            eps_cu=EC2.get_eps_cu3(f_ck),\n",
    "        )\n",
    "    \n",
    "    mc.cs_design.matrix_.trait_set(E_cc=E_cm, \n",
    "                                   E_ct=E_cm, \n",
    "                                   eps_cr = fctm_fl/E_cm, \n",
    "                                   eps_tu = fctm_fl/E_cm,)\n",
    "\n",
    "    mc.cross_section_shape_.B = B\n",
    "    mc.cross_section_shape_.H = H\n",
    "\n",
    "    if carbon_type == 'rebars':\n",
    "        E_nm=158000 if E_nm is None else E_nm\n",
    "        f_t=2500 if f_t is None else f_t\n",
    "        if A is None:\n",
    "            A = 3 * A_phi_8\n",
    "        if z is None:\n",
    "            z = 4 + 10\n",
    "    elif carbon_type == 'grid':\n",
    "        E_nm=230000 if E_nm is None else E_nm\n",
    "        f_t=3300 if f_t is None else f_t\n",
    "        \n",
    "        spacing = 38\n",
    "        rov_num = int(B/spacing) + 1\n",
    "        rov_cs_area = 3.62\n",
    "\n",
    "        if A is None:\n",
    "            A = rov_num * rov_cs_area\n",
    "        if z is None:\n",
    "            z = 10\n",
    "       \n",
    "    d = H - z\n",
    "    \n",
    "    if reinf == 'carbon':\n",
    "        if grid_layers_n == 1:\n",
    "            bl1 = ReinfLayer(name=carbon_type, z=z, A=A, matmod='carbon')\n",
    "            bl1.matmod_.trait_set(E=E_nm, f_t=f_t, factor = 1.)\n",
    "            mc.cross_section_layout.add_layer(bl1)\n",
    "        else:\n",
    "            for i in range(grid_layers_n):\n",
    "                if grid_layers_area:\n",
    "                    bl1 = ReinfLayer(name=carbon_type, z=z + i*grid_layers_spacing, A=grid_layers_area[i], matmod='carbon')\n",
    "                else:\n",
    "                    bl1 = ReinfLayer(name=carbon_type, z=z + i*grid_layers_spacing, A=A, matmod='carbon')\n",
    "                bl1.matmod_.trait_set(E=E_nm, f_t=f_t, factor = 1.)\n",
    "                mc.cross_section_layout.add_layer(bl1)\n",
    "            A = grid_layers_n * A\n",
    "    else:\n",
    "        bl1 = ReinfLayer(name='rebars', z=z, A=A, matmod='steel')\n",
    "        mc.cross_section_layout.add_layer(bl1)\n",
    "\n",
    "    rho = A/(B*d)\n",
    "    print('A=', A)\n",
    "    print(r'rho =', round(rho * 100, 2), r'%')\n",
    "    # mechanical reinforcement ratio\n",
    "#     w_m = A * f_t / (B * H * f_cm)\n",
    "#     print('w_m:', w_m)\n",
    "\n",
    "    dp = DeflectionProfile(mc=mc)\n",
    "    \n",
    "    if setup == '4pb':\n",
    "        dp.beam_design.system = '4pb'\n",
    "        if L_F is not None:\n",
    "            print('L_F assigned!')\n",
    "            dp.beam_design.system_.L_F = L_F\n",
    "    elif setup == '3pb':\n",
    "        dp.beam_design.system = '3pb'\n",
    "    elif setup == 'dist':\n",
    "        dp.beam_design.system = 'simple_beam_dist_load'\n",
    "        \n",
    "    dp.beam_design.system_.L = L\n",
    "    \n",
    "    print('l/d =', dp.beam_design.system_.L/d)\n",
    "    \n",
    "    return dp"
   ]
  },
  {
   "cell_type": "code",
   "execution_count": 5,
   "id": "dd624e18",
   "metadata": {
    "scrolled": true
   },
   "outputs": [
    {
     "name": "stdout",
     "output_type": "stream",
     "text": [
      "A= 150.60000000000002\n",
      "rho = 0.55 %\n",
      "l/d = 14.705882352941176\n",
      "V_Rm_c = 35.9 kN, Shear failure by F_tot_max = 71.8 kN\n"
     ]
    },
    {
     "data": {
      "application/vnd.jupyter.widget-view+json": {
       "model_id": "dcf1af7a4c064338b166ed4bf9737368",
       "version_major": 2,
       "version_minor": 0
      },
      "text/plain": [
       "VBox(children=(HBox(children=(VBox(children=(Tree(layout=Layout(align_items='stretch', border='solid 1px black…"
      ]
     },
     "metadata": {},
     "output_type": "display_data"
    }
   ],
   "source": [
    "get_dp().interact()"
   ]
  },
  {
   "cell_type": "markdown",
   "id": "1ec21cbe",
   "metadata": {},
   "source": [
    "## Grid data"
   ]
  },
  {
   "cell_type": "code",
   "execution_count": 6,
   "id": "f07e88ab",
   "metadata": {
    "scrolled": true
   },
   "outputs": [
    {
     "name": "stdout",
     "output_type": "stream",
     "text": [
      "A= 28.96\n",
      "rho = 0.11 %\n",
      "l/d = 20.0\n",
      "V_Rm_c = 20.74 kN, Shear failure by F_tot_max = 41.48 kN\n"
     ]
    },
    {
     "data": {
      "application/vnd.jupyter.widget-view+json": {
       "model_id": "002d7fce2ce9444fb824014caef07c28",
       "version_major": 2,
       "version_minor": 0
      },
      "text/plain": [
       "VBox(children=(HBox(children=(VBox(children=(Tree(layout=Layout(align_items='stretch', border='solid 1px black…"
      ]
     },
     "metadata": {},
     "output_type": "display_data"
    }
   ],
   "source": [
    "grid_data = dict(high_kappa =0.0003, B=300, H=100, carbon_type = 'grid', concrete_law = 'EC2', L=1800)\n",
    "dp = get_dp(**grid_data)\n",
    "# sls = BeamSLSCurve(n_i = 12, dp=dp)\n",
    "dp.interact()\n",
    "# sls.run()\n",
    "# sls.interact()"
   ]
  },
  {
   "cell_type": "code",
   "execution_count": 7,
   "id": "7a89a0e7",
   "metadata": {},
   "outputs": [
    {
     "ename": "NameError",
     "evalue": "name 'sls' is not defined",
     "output_type": "error",
     "traceback": [
      "\u001b[1;31m---------------------------------------------------------------------------\u001b[0m",
      "\u001b[1;31mNameError\u001b[0m                                 Traceback (most recent call last)",
      "\u001b[1;32m~\\AppData\\Local\\Temp/ipykernel_15216/3696576785.py\u001b[0m in \u001b[0;36m<module>\u001b[1;34m\u001b[0m\n\u001b[0;32m      1\u001b[0m \u001b[1;31m# sls.plot_F_u()\u001b[0m\u001b[1;33m\u001b[0m\u001b[1;33m\u001b[0m\u001b[0m\n\u001b[1;32m----> 2\u001b[1;33m \u001b[0msls\u001b[0m\u001b[1;33m.\u001b[0m\u001b[0mplot_F_u\u001b[0m\u001b[1;33m(\u001b[0m\u001b[0mbending_shear_diff\u001b[0m \u001b[1;33m=\u001b[0m \u001b[1;32mTrue\u001b[0m\u001b[1;33m)\u001b[0m\u001b[1;33m\u001b[0m\u001b[1;33m\u001b[0m\u001b[0m\n\u001b[0m\u001b[0;32m      3\u001b[0m \u001b[1;31m# sls.plot_F_u(load='shear')\u001b[0m\u001b[1;33m\u001b[0m\u001b[1;33m\u001b[0m\u001b[0m\n\u001b[0;32m      4\u001b[0m \u001b[1;33m\u001b[0m\u001b[0m\n\u001b[0;32m      5\u001b[0m \u001b[1;33m\u001b[0m\u001b[0m\n",
      "\u001b[1;31mNameError\u001b[0m: name 'sls' is not defined"
     ]
    }
   ],
   "source": [
    "# sls.plot_F_u()\n",
    "sls.plot_F_u(bending_shear_diff = True)\n",
    "# sls.plot_F_u(load='shear')\n",
    "\n",
    "\n",
    "# Achse x: Bewehrungsgrad rho [%]\n",
    "# Achse y: Biegeschlankheit l/d [-]"
   ]
  },
  {
   "cell_type": "markdown",
   "id": "8ff814dc",
   "metadata": {},
   "source": [
    "## Grid 1 layer, 3PB"
   ]
  },
  {
   "cell_type": "code",
   "execution_count": 8,
   "id": "e1ac859c",
   "metadata": {
    "scrolled": true
   },
   "outputs": [
    {
     "name": "stdout",
     "output_type": "stream",
     "text": [
      "A= 28.96\n",
      "rho = 0.11 %\n",
      "l/d = 20.0\n"
     ]
    },
    {
     "data": {
      "application/vnd.jupyter.widget-view+json": {
       "model_id": "e0750b6e208048738d2d76365a1f0283",
       "version_major": 2,
       "version_minor": 0
      },
      "text/plain": [
       "VBox(children=(HBox(children=(VBox(children=(Tree(layout=Layout(align_items='stretch', border='solid 1px black…"
      ]
     },
     "metadata": {},
     "output_type": "display_data"
    }
   ],
   "source": [
    "dp = get_dp(**grid_data, setup='3pb')\n",
    "dp.interact()"
   ]
  },
  {
   "cell_type": "markdown",
   "id": "f3ddbb40",
   "metadata": {},
   "source": [
    "## Grid 1 layer, 4pb loading"
   ]
  },
  {
   "cell_type": "code",
   "execution_count": 9,
   "id": "e1302a31",
   "metadata": {},
   "outputs": [
    {
     "data": {
      "text/plain": [
       "-0.0015249999999999999"
      ]
     },
     "execution_count": 9,
     "metadata": {},
     "output_type": "execute_result"
    }
   ],
   "source": [
    "beton_stauchung_max = -1525*1e-6\n",
    "beton_stauchung_max"
   ]
  },
  {
   "cell_type": "code",
   "execution_count": 13,
   "id": "71d200c5",
   "metadata": {},
   "outputs": [
    {
     "name": "stdout",
     "output_type": "stream",
     "text": [
      "A= 28.96\n",
      "rho = 0.11 %\n",
      "l/d = 20.0\n",
      "V_Rm_c = 20.37 kN, Shear failure by F_tot_max = 40.74 kN\n"
     ]
    },
    {
     "data": {
      "application/vnd.jupyter.widget-view+json": {
       "model_id": "e74bb1f4ef584a43b6c4df1b427d248a",
       "version_major": 2,
       "version_minor": 0
      },
      "text/plain": [
       "VBox(children=(HBox(children=(VBox(children=(Tree(layout=Layout(align_items='stretch', border='solid 1px black…"
      ]
     },
     "metadata": {},
     "output_type": "display_data"
    }
   ],
   "source": [
    "B_1_M_1 = dict(f_cm = 97.58, E_cm = 45208.51, fctm_fl=0.9*5.02)\n",
    "dp = get_dp(**grid_data, setup='4pb', **B_1_M_1)\n",
    "dp.interact()"
   ]
  },
  {
   "cell_type": "markdown",
   "id": "d01863ad",
   "metadata": {},
   "source": [
    "## Grid 1.5 layers"
   ]
  },
  {
   "cell_type": "code",
   "execution_count": 10,
   "id": "82443a44",
   "metadata": {
    "scrolled": false
   },
   "outputs": [
    {
     "name": "stdout",
     "output_type": "stream",
     "text": [
      "A= 57.92\n",
      "rho = 0.21 %\n",
      "l/d = 20.0\n",
      "V_Rm_c = 20.74 kN, Shear failure by F_tot_max = 41.48 kN\n"
     ]
    },
    {
     "data": {
      "application/vnd.jupyter.widget-view+json": {
       "model_id": "0ca6a264ccc34e26b83254a753ac4aa8",
       "version_major": 2,
       "version_minor": 0
      },
      "text/plain": [
       "VBox(children=(HBox(children=(VBox(children=(Tree(layout=Layout(align_items='stretch', border='solid 1px black…"
      ]
     },
     "metadata": {},
     "output_type": "display_data"
    },
    {
     "name": "stdout",
     "output_type": "stream",
     "text": [
      "V_Rm_c = 20.74 kN, Shear failure by F_tot_max = 41.48 kN\n"
     ]
    }
   ],
   "source": [
    "dp = get_dp(**grid_data, grid_layers_n=2, grid_layers_spacing=10, setup='4pb')\n",
    "\n",
    "dp.mc.cross_section_layout.items[1].z = 20\n",
    "dp.mc.cross_section_layout.items[1].A = 4 * 3.62 # 0.5 layer\n",
    "\n",
    "dp.interact()"
   ]
  },
  {
   "cell_type": "markdown",
   "id": "f7fc34a0",
   "metadata": {},
   "source": [
    "## Grid 3 layers, 4pb (shear failure!)"
   ]
  },
  {
   "cell_type": "code",
   "execution_count": 10,
   "id": "c6222fee",
   "metadata": {},
   "outputs": [
    {
     "data": {
      "text/plain": [
       "0.00413"
      ]
     },
     "execution_count": 10,
     "metadata": {},
     "output_type": "execute_result"
    }
   ],
   "source": [
    "4130*1e-6"
   ]
  },
  {
   "cell_type": "code",
   "execution_count": 8,
   "id": "a6b52961",
   "metadata": {},
   "outputs": [
    {
     "name": "stdout",
     "output_type": "stream",
     "text": [
      "A= 65.16\n",
      "rho = 0.47 %\n",
      "l/d = 25.714285714285715\n",
      "V_Rm_c = 10.67 kN, Shear failure by F_tot_max = 21.34 kN\n"
     ]
    },
    {
     "data": {
      "application/vnd.jupyter.widget-view+json": {
       "model_id": "85f98907014d419fafa87443d8e56f18",
       "version_major": 2,
       "version_minor": 0
      },
      "text/plain": [
       "VBox(children=(HBox(children=(VBox(children=(Tree(layout=Layout(align_items='stretch', border='solid 1px black…"
      ]
     },
     "metadata": {},
     "output_type": "display_data"
    }
   ],
   "source": [
    "# dp = get_dp(**grid_data, grid_layers_n=3, grid_layers_spacing=10, setup='4pb')\n",
    "dp = get_dp(high_kappa =0.0003, B=200, H=80, carbon_type = 'grid', concrete_law = 'EC2', L=1800, grid_layers_n=3, grid_layers_spacing=10, setup='4pb')\n",
    "\n",
    "dp.mc.cross_section_layout.items[1].z = 15\n",
    "dp.mc.cross_section_layout.items[2].z = 20\n",
    "# dp.mc.cross_section_layout.items[1].A = 4 * 3.62 # 0.5 layer\n",
    "\n",
    "# NOTE: Edit area of each layer to be 5*3.62 = 18.1 mm^2, because 6 layers fit but will not have concrete cover from the sides\n",
    "\n",
    "dp.interact()"
   ]
  },
  {
   "cell_type": "markdown",
   "id": "90569bea",
   "metadata": {},
   "source": [
    "## Grid 0.5 layer + 2 steel rebars, 4pb loading"
   ]
  },
  {
   "cell_type": "code",
   "execution_count": 15,
   "id": "e7d8d0ea",
   "metadata": {
    "scrolled": false
   },
   "outputs": [
    {
     "name": "stdout",
     "output_type": "stream",
     "text": [
      "A= 14.48\n",
      "rho = 0.06 %\n",
      "l/d = 22.5\n",
      "V_Rm_c = 14.33 kN, Shear failure by F_tot_max = 28.66 kN\n"
     ]
    },
    {
     "data": {
      "application/vnd.jupyter.widget-view+json": {
       "model_id": "c53ccce0937c40caa126853d073225c3",
       "version_major": 2,
       "version_minor": 0
      },
      "text/plain": [
       "VBox(children=(HBox(children=(VBox(children=(Tree(layout=Layout(align_items='stretch', border='solid 1px black…"
      ]
     },
     "metadata": {},
     "output_type": "display_data"
    }
   ],
   "source": [
    "dp = get_dp(**grid_data, setup='4pb', z=20, A=4*3.62)\n",
    "\n",
    "bl1 = ReinfLayer(name='steel', z=14, A=2*np.pi * (4**2), matmod='steel')\n",
    "dp.mc.cross_section_layout.add_layer(bl1)\n",
    "\n",
    "dp.interact()"
   ]
  },
  {
   "cell_type": "markdown",
   "id": "74681b1b",
   "metadata": {},
   "source": [
    "## 4 Steel rebars, 4pb"
   ]
  },
  {
   "cell_type": "code",
   "execution_count": 14,
   "id": "c10c8c51",
   "metadata": {},
   "outputs": [
    {
     "name": "stdout",
     "output_type": "stream",
     "text": [
      "A= 201.06192982974676\n",
      "rho = 0.78 %\n",
      "l/d = 20.930232558139537\n"
     ]
    },
    {
     "data": {
      "application/vnd.jupyter.widget-view+json": {
       "model_id": "3d1f8e0f2dea48439b80ac4a359e5b55",
       "version_major": 2,
       "version_minor": 0
      },
      "text/plain": [
       "VBox(children=(HBox(children=(VBox(children=(Tree(layout=Layout(align_items='stretch', border='solid 1px black…"
      ]
     },
     "metadata": {},
     "output_type": "display_data"
    }
   ],
   "source": [
    "dp = get_dp(high_kappa =0.0003, B=300, H=100, setup='4pb', reinf = 'steel', concrete_law = 'EC2', L=1800, A=4*np.pi * (4**2), z=14)\n",
    "dp.interact()"
   ]
  },
  {
   "cell_type": "markdown",
   "id": "8dbaeb61",
   "metadata": {},
   "source": [
    "## Verify anchorage length\n",
    "(to ensure no pull-out failure would happen before bending failure when a crack near the support appears)\n",
    "\n",
    "(verification was done for one representative test for steel and for carbon)"
   ]
  },
  {
   "cell_type": "markdown",
   "id": "db2e40a9",
   "metadata": {},
   "source": [
    "### Steel"
   ]
  },
  {
   "attachments": {
    "image.png": {
     "image/png": "[encoded data removed]"
    }
   },
   "cell_type": "markdown",
   "id": "6625da9c",
   "metadata": {},
   "source": [
    "![image.png](attachment:image.png)"
   ]
  },
  {
   "attachments": {
    "image.png": {
     "image/png": "[encoded data removed]"
    }
   },
   "cell_type": "markdown",
   "id": "44c383ab",
   "metadata": {},
   "source": [
    "![image.png](attachment:image.png)"
   ]
  },
  {
   "cell_type": "markdown",
   "id": "d1b529cf",
   "metadata": {},
   "source": [
    "**Bond strength: Pullout failure**"
   ]
  },
  {
   "cell_type": "code",
   "execution_count": 25,
   "id": "d7724fd0",
   "metadata": {},
   "outputs": [
    {
     "data": {
      "text/plain": [
       "12.5"
      ]
     },
     "execution_count": 25,
     "metadata": {},
     "output_type": "execute_result"
    }
   ],
   "source": [
    "tau_bmax = 1.25 * np.sqrt(100)\n",
    "tau_bmax"
   ]
  },
  {
   "cell_type": "markdown",
   "id": "7b292ca7",
   "metadata": {},
   "source": [
    "**Bond strength: Splitting failure (if not enough concrete cover is provided)**"
   ]
  },
  {
   "cell_type": "code",
   "execution_count": 26,
   "id": "b4bbec7a",
   "metadata": {},
   "outputs": [
    {
     "data": {
      "text/plain": [
       "9.709320308038208"
      ]
     },
     "execution_count": 26,
     "metadata": {},
     "output_type": "execute_result"
    }
   ],
   "source": [
    "eta_2 = 0.7\n",
    "f_cm = 100\n",
    "phi = 8\n",
    "c_min = 10\n",
    "c_max = 30\n",
    "k_m = 0 # no stirrups\n",
    "K_tr = 0 # no stirrups\n",
    "tau_bu_split = eta_2  * 6.5 * (f_cm/25)**0.25 * (25/phi)**0.2 * ((c_min/phi)**0.33*(c_max/c_min)**0.1 + k_m*K_tr)\n",
    "tau_bu_split # [N/mm^2]"
   ]
  },
  {
   "cell_type": "markdown",
   "id": "f720209b",
   "metadata": {},
   "source": [
    "**Verification: Applied pullout force (force at cracked zone begin) vs Anchorage force**"
   ]
  },
  {
   "cell_type": "code",
   "execution_count": 29,
   "id": "63b99185",
   "metadata": {},
   "outputs": [
    {
     "data": {
      "text/plain": [
       "0.04943703418689512"
      ]
     },
     "execution_count": 29,
     "metadata": {},
     "output_type": "execute_result"
    }
   ],
   "source": [
    "reinf_stress_at_cracked_zone_begin = 240\n",
    "applied_pullout_force = reinf_stress_at_cracked_zone_begin * np.pi * (phi/2)**2\n",
    "extension_beyond_support = 100\n",
    "support_to_cracked_zone = 150 # from kappa along beam diagram (safe estimate for 250 mm from diagram)\n",
    "L_anchorage = extension_beyond_support + support_to_cracked_zone\n",
    "n_bars = 4\n",
    "anchorage_force = n_bars * L_anchorage * np.pi* phi * tau_bu_split\n",
    "applied_pullout_force/anchorage_force # if < 1 no pull-out will happen"
   ]
  },
  {
   "cell_type": "markdown",
   "id": "0bffa59c",
   "metadata": {},
   "source": [
    "### Carbon"
   ]
  },
  {
   "attachments": {
    "image-2.png": {
     "image/png": "[encoded data removed]"
    },
    "image-3.png": {
     "image/png": "[encoded data removed]"
    }
   },
   "cell_type": "markdown",
   "id": "383441c9",
   "metadata": {},
   "source": [
    "![image-2.png](attachment:image-2.png)\n",
    "![image-3.png](attachment:image-3.png)"
   ]
  },
  {
   "cell_type": "markdown",
   "id": "d1cca29e",
   "metadata": {},
   "source": [
    "**Bond strength: Pullout failure**\n",
    "(according to SPO tests \\\\fileserver...\\02.3_SPO_Einaxialer Textilauszugsversuch)"
   ]
  },
  {
   "cell_type": "code",
   "execution_count": 36,
   "id": "21a9b9b9",
   "metadata": {},
   "outputs": [
    {
     "data": {
      "text/plain": [
       "57.89473684210526"
      ]
     },
     "execution_count": 36,
     "metadata": {},
     "output_type": "execute_result"
    }
   ],
   "source": [
    "tau_bmax_strand = 6600 / 114 # pullout force / bond length [N/mm]\n",
    "tau_bmax_strand"
   ]
  },
  {
   "cell_type": "markdown",
   "id": "c6fa75f8",
   "metadata": {},
   "source": [
    "**Verification: Applied pullout force (force at cracked zone begin) vs Anchorage force**"
   ]
  },
  {
   "cell_type": "code",
   "execution_count": 40,
   "id": "43751559",
   "metadata": {},
   "outputs": [
    {
     "name": "stdout",
     "output_type": "stream",
     "text": [
      "applied_pullout_force: 40.544\n",
      "anchorage_force: 115.78947368421052\n"
     ]
    },
    {
     "data": {
      "text/plain": [
       "0.3501527272727273"
      ]
     },
     "execution_count": 40,
     "metadata": {},
     "output_type": "execute_result"
    }
   ],
   "source": [
    "reinf_stress_at_cracked_zone_begin = 1400\n",
    "applied_pullout_force = reinf_stress_at_cracked_zone_begin * 3.62 * 8 # 8 strands with 3.62 mm^2 each\n",
    "print('applied_pullout_force:', applied_pullout_force/1000)\n",
    "extension_beyond_support = 100\n",
    "support_to_cracked_zone = 150 # from kappa along beam diagram (safe estimate for 200 mm from diagram)\n",
    "L_anchorage = extension_beyond_support + support_to_cracked_zone\n",
    "n_strands = 8\n",
    "anchorage_force = n_strands * L_anchorage * tau_bmax_strand\n",
    "print('anchorage_force:', anchorage_force/1000)\n",
    "applied_pullout_force/anchorage_force # if < 1 no pull-out will happen"
   ]
  },
  {
   "cell_type": "markdown",
   "id": "7c8662f5",
   "metadata": {},
   "source": [
    "# Additional studies (not used)"
   ]
  },
  {
   "cell_type": "markdown",
   "id": "e9895071",
   "metadata": {},
   "source": [
    "## I beam"
   ]
  },
  {
   "cell_type": "code",
   "execution_count": 25,
   "id": "2934a057",
   "metadata": {},
   "outputs": [
    {
     "name": "stdout",
     "output_type": "stream",
     "text": [
      "A= 36.2\n",
      "rho = 0.57 %\n",
      "l/d = 20.0\n"
     ]
    },
    {
     "data": {
      "application/vnd.jupyter.widget-view+json": {
       "model_id": "5d8d497f6a464fd5b2d074ffdd034bf7",
       "version_major": 2,
       "version_minor": 0
      },
      "text/plain": [
       "VBox(children=(HBox(children=(VBox(children=(Tree(layout=Layout(align_items='stretch', border='solid 1px black…"
      ]
     },
     "metadata": {},
     "output_type": "display_data"
    }
   ],
   "source": [
    "# I section\n",
    "\n",
    "dp = get_dp(high_kappa =0.00015, B=70, H=100, carbon_type = 'grid', concrete_law = 'EC2', L=1800, grid_layers_n=5, grid_layers_spacing=36.2, setup='4pb')\n",
    "\n",
    "dp.mc.cross_section_layout.items[0].A = 30\n",
    "\n",
    "dp.mc.cross_section_shape = 'I-shape'\n",
    "dp.mc.cross_section_shape_.H = 200\n",
    "dp.mc.cross_section_shape_.B_w = 70\n",
    "dp.mc.cross_section_shape_.B_f_bot = 70\n",
    "dp.mc.cross_section_shape_.B_f_top = 200\n",
    "dp.mc.cross_section_shape_.H_f_bot = 50\n",
    "dp.mc.cross_section_shape_.H_f_top = 50\n",
    "\n",
    "dp.interact()"
   ]
  },
  {
   "cell_type": "markdown",
   "id": "8dd611dc",
   "metadata": {},
   "source": [
    "## Ductility studies"
   ]
  },
  {
   "cell_type": "code",
   "execution_count": 128,
   "id": "77a1e1fd",
   "metadata": {},
   "outputs": [
    {
     "name": "stdout",
     "output_type": "stream",
     "text": [
      "A= 100.53096491487338\n",
      "rho = 0.58 %\n",
      "l/d = 15.116279069767442\n"
     ]
    },
    {
     "data": {
      "application/vnd.jupyter.widget-view+json": {
       "model_id": "",
       "version_major": 2,
       "version_minor": 0
      },
      "text/plain": [
       "VBox(children=(HBox(children=(VBox(children=(Tree(layout=Layout(align_items='stretch', border='solid 1px black…"
      ]
     },
     "metadata": {},
     "output_type": "display_data"
    }
   ],
   "source": [
    "# steel example\n",
    "dp = get_dp(high_kappa = 0.00013, B=200, H=100, A = 2 * np.pi * (4**2), L=1300, reinf='steel') # 'EC2 with plateau', 'piecewise linear'\n",
    "dp.interact()"
   ]
  },
  {
   "cell_type": "code",
   "execution_count": 132,
   "id": "96f70d93",
   "metadata": {
    "scrolled": false
   },
   "outputs": [
    {
     "name": "stdout",
     "output_type": "stream",
     "text": [
      "A= 100.4\n",
      "rho = 0.58 %\n",
      "l/d = 15.116279069767442\n",
      "V_Rm_c = 24.64 kN, Shear failure by F_tot_max = 49.28 kN\n"
     ]
    },
    {
     "data": {
      "application/vnd.jupyter.widget-view+json": {
       "model_id": "",
       "version_major": 2,
       "version_minor": 0
      },
      "text/plain": [
       "VBox(children=(HBox(children=(VBox(children=(Tree(layout=Layout(align_items='stretch', border='solid 1px black…"
      ]
     },
     "metadata": {},
     "output_type": "display_data"
    }
   ],
   "source": [
    "# carbon\n",
    "dp = get_dp(high_kappa = 0.00025, B=200, H=100, A = 2 * A_phi_8, L=1300) # 'EC2 with plateau', 'piecewise linear'\n",
    "\n",
    "dp.interact()"
   ]
  },
  {
   "cell_type": "code",
   "execution_count": 133,
   "id": "92c52301",
   "metadata": {},
   "outputs": [
    {
     "name": "stdout",
     "output_type": "stream",
     "text": [
      "A= 50.2\n",
      "rho = 0.29 %\n",
      "l/d = 15.116279069767442\n",
      "rho=  0.876723531234361\n",
      "V_Rm_c = 19.55 kN, Shear failure by F_tot_max = 39.1 kN\n"
     ]
    },
    {
     "data": {
      "application/vnd.jupyter.widget-view+json": {
       "model_id": "55031a0241f2444fb372803fed53c707",
       "version_major": 2,
       "version_minor": 0
      },
      "text/plain": [
       "VBox(children=(HBox(children=(VBox(children=(Tree(layout=Layout(align_items='stretch', border='solid 1px black…"
      ]
     },
     "metadata": {},
     "output_type": "display_data"
    }
   ],
   "source": [
    "# carbon and steel\n",
    "dp = get_dp(high_kappa = 0.0003, B=200, H=100, A = 1 * A_phi_8, concrete_law = 'EC2', L=1300) # 'EC2 with plateau', 'piecewise linear'\n",
    "\n",
    "bl1 = ReinfLayer(name='rebars', z=14, A=2 * np.pi * (4**2), matmod='steel')\n",
    "dp.mc.cross_section_layout.add_layer(bl1)\n",
    "\n",
    "print('rho= ', str(3 * np.pi * (4**2)/(200*(100-14))*100))\n",
    "\n",
    "dp.interact()"
   ]
  },
  {
   "cell_type": "code",
   "execution_count": 102,
   "id": "4de4499d",
   "metadata": {
    "collapsed": true
   },
   "outputs": [
    {
     "name": "stdout",
     "output_type": "stream",
     "text": [
      "A= 56.4\n",
      "rho = 0.21 %\n",
      "l/d = 9.558823529411764\n"
     ]
    },
    {
     "ename": "AttributeError",
     "evalue": "'IShape' object has no attribute 'B'",
     "output_type": "error",
     "traceback": [
      "\u001b[1;31m---------------------------------------------------------------------------\u001b[0m",
      "\u001b[1;31mAttributeError\u001b[0m                            Traceback (most recent call last)",
      "\u001b[1;32m~\\AppData\\Local\\Temp/ipykernel_2596/3422691667.py\u001b[0m in \u001b[0;36m<module>\u001b[1;34m\u001b[0m\n\u001b[0;32m     11\u001b[0m \u001b[0mdp\u001b[0m\u001b[1;33m.\u001b[0m\u001b[0mmc\u001b[0m\u001b[1;33m.\u001b[0m\u001b[0mcross_section_shape_\u001b[0m\u001b[1;33m.\u001b[0m\u001b[0mH_f_top\u001b[0m \u001b[1;33m=\u001b[0m \u001b[1;36m50\u001b[0m\u001b[1;33m\u001b[0m\u001b[1;33m\u001b[0m\u001b[0m\n\u001b[0;32m     12\u001b[0m \u001b[1;33m\u001b[0m\u001b[0m\n\u001b[1;32m---> 13\u001b[1;33m \u001b[0mdp\u001b[0m\u001b[1;33m.\u001b[0m\u001b[0minteract\u001b[0m\u001b[1;33m(\u001b[0m\u001b[1;33m)\u001b[0m\u001b[1;33m\u001b[0m\u001b[1;33m\u001b[0m\u001b[0m\n\u001b[0m",
      "\u001b[1;32md:\\homam\\synced\\programming\\python\\bmcs_utils\\bmcs_utils\\model.py\u001b[0m in \u001b[0;36minteract\u001b[1;34m(self, **kw)\u001b[0m\n\u001b[0;32m     43\u001b[0m \u001b[1;33m\u001b[0m\u001b[0m\n\u001b[0;32m     44\u001b[0m     \u001b[1;32mdef\u001b[0m \u001b[0minteract\u001b[0m\u001b[1;33m(\u001b[0m\u001b[0mself\u001b[0m\u001b[1;33m,\u001b[0m\u001b[1;33m**\u001b[0m\u001b[0mkw\u001b[0m\u001b[1;33m)\u001b[0m\u001b[1;33m:\u001b[0m\u001b[1;33m\u001b[0m\u001b[1;33m\u001b[0m\u001b[0m\n\u001b[1;32m---> 45\u001b[1;33m         \u001b[1;32mreturn\u001b[0m \u001b[0mAppWindow\u001b[0m\u001b[1;33m(\u001b[0m\u001b[0mself\u001b[0m\u001b[1;33m,\u001b[0m \u001b[1;33m**\u001b[0m\u001b[0mkw\u001b[0m\u001b[1;33m)\u001b[0m\u001b[1;33m.\u001b[0m\u001b[0minteract\u001b[0m\u001b[1;33m(\u001b[0m\u001b[1;33m)\u001b[0m\u001b[1;33m\u001b[0m\u001b[1;33m\u001b[0m\u001b[0m\n\u001b[0m\u001b[0;32m     46\u001b[0m \u001b[1;33m\u001b[0m\u001b[0m\n\u001b[0;32m     47\u001b[0m     \u001b[1;32mdef\u001b[0m \u001b[0mapp\u001b[0m\u001b[1;33m(\u001b[0m\u001b[0mself\u001b[0m\u001b[1;33m,\u001b[0m\u001b[1;33m**\u001b[0m\u001b[0mkw\u001b[0m\u001b[1;33m)\u001b[0m\u001b[1;33m:\u001b[0m\u001b[1;33m\u001b[0m\u001b[1;33m\u001b[0m\u001b[0m\n",
      "\u001b[1;32md:\\homam\\synced\\programming\\python\\bmcs_utils\\bmcs_utils\\app_window.py\u001b[0m in \u001b[0;36minteract\u001b[1;34m(self)\u001b[0m\n\u001b[0;32m    149\u001b[0m                              layout=ipw.Layout(align_items=\"stretch\",\n\u001b[0;32m    150\u001b[0m                                                width=\"100%\"))\n\u001b[1;32m--> 151\u001b[1;33m         \u001b[0mself\u001b[0m\u001b[1;33m.\u001b[0m\u001b[0mmodel_tree\u001b[0m\u001b[1;33m.\u001b[0m\u001b[0mselected\u001b[0m \u001b[1;33m=\u001b[0m \u001b[1;32mTrue\u001b[0m\u001b[1;33m\u001b[0m\u001b[1;33m\u001b[0m\u001b[0m\n\u001b[0m\u001b[0;32m    152\u001b[0m         \u001b[0mdisplay\u001b[0m\u001b[1;33m(\u001b[0m\u001b[0mapp_print\u001b[0m\u001b[1;33m)\u001b[0m\u001b[1;33m\u001b[0m\u001b[1;33m\u001b[0m\u001b[0m\n\u001b[0;32m    153\u001b[0m \u001b[1;33m\u001b[0m\u001b[0m\n",
      "\u001b[1;32m~\\miniconda3\\envs\\bmcs_env\\lib\\site-packages\\traitlets\\traitlets.py\u001b[0m in \u001b[0;36m__set__\u001b[1;34m(self, obj, value)\u001b[0m\n\u001b[0;32m    604\u001b[0m             \u001b[1;32mraise\u001b[0m \u001b[0mTraitError\u001b[0m\u001b[1;33m(\u001b[0m\u001b[1;34m'The \"%s\" trait is read-only.'\u001b[0m \u001b[1;33m%\u001b[0m \u001b[0mself\u001b[0m\u001b[1;33m.\u001b[0m\u001b[0mname\u001b[0m\u001b[1;33m)\u001b[0m\u001b[1;33m\u001b[0m\u001b[1;33m\u001b[0m\u001b[0m\n\u001b[0;32m    605\u001b[0m         \u001b[1;32melse\u001b[0m\u001b[1;33m:\u001b[0m\u001b[1;33m\u001b[0m\u001b[1;33m\u001b[0m\u001b[0m\n\u001b[1;32m--> 606\u001b[1;33m             \u001b[0mself\u001b[0m\u001b[1;33m.\u001b[0m\u001b[0mset\u001b[0m\u001b[1;33m(\u001b[0m\u001b[0mobj\u001b[0m\u001b[1;33m,\u001b[0m \u001b[0mvalue\u001b[0m\u001b[1;33m)\u001b[0m\u001b[1;33m\u001b[0m\u001b[1;33m\u001b[0m\u001b[0m\n\u001b[0m\u001b[0;32m    607\u001b[0m \u001b[1;33m\u001b[0m\u001b[0m\n\u001b[0;32m    608\u001b[0m     \u001b[1;32mdef\u001b[0m \u001b[0m_validate\u001b[0m\u001b[1;33m(\u001b[0m\u001b[0mself\u001b[0m\u001b[1;33m,\u001b[0m \u001b[0mobj\u001b[0m\u001b[1;33m,\u001b[0m \u001b[0mvalue\u001b[0m\u001b[1;33m)\u001b[0m\u001b[1;33m:\u001b[0m\u001b[1;33m\u001b[0m\u001b[1;33m\u001b[0m\u001b[0m\n",
      "\u001b[1;32m~\\miniconda3\\envs\\bmcs_env\\lib\\site-packages\\traitlets\\traitlets.py\u001b[0m in \u001b[0;36mset\u001b[1;34m(self, obj, value)\u001b[0m\n\u001b[0;32m    593\u001b[0m             \u001b[1;31m# we explicitly compare silent to True just in case the equality\u001b[0m\u001b[1;33m\u001b[0m\u001b[1;33m\u001b[0m\u001b[0m\n\u001b[0;32m    594\u001b[0m             \u001b[1;31m# comparison above returns something other than True/False\u001b[0m\u001b[1;33m\u001b[0m\u001b[1;33m\u001b[0m\u001b[0m\n\u001b[1;32m--> 595\u001b[1;33m             \u001b[0mobj\u001b[0m\u001b[1;33m.\u001b[0m\u001b[0m_notify_trait\u001b[0m\u001b[1;33m(\u001b[0m\u001b[0mself\u001b[0m\u001b[1;33m.\u001b[0m\u001b[0mname\u001b[0m\u001b[1;33m,\u001b[0m \u001b[0mold_value\u001b[0m\u001b[1;33m,\u001b[0m \u001b[0mnew_value\u001b[0m\u001b[1;33m)\u001b[0m\u001b[1;33m\u001b[0m\u001b[1;33m\u001b[0m\u001b[0m\n\u001b[0m\u001b[0;32m    596\u001b[0m \u001b[1;33m\u001b[0m\u001b[0m\n\u001b[0;32m    597\u001b[0m     \u001b[1;32mdef\u001b[0m \u001b[0m__set__\u001b[0m\u001b[1;33m(\u001b[0m\u001b[0mself\u001b[0m\u001b[1;33m,\u001b[0m \u001b[0mobj\u001b[0m\u001b[1;33m,\u001b[0m \u001b[0mvalue\u001b[0m\u001b[1;33m)\u001b[0m\u001b[1;33m:\u001b[0m\u001b[1;33m\u001b[0m\u001b[1;33m\u001b[0m\u001b[0m\n",
      "\u001b[1;32m~\\miniconda3\\envs\\bmcs_env\\lib\\site-packages\\traitlets\\traitlets.py\u001b[0m in \u001b[0;36m_notify_trait\u001b[1;34m(self, name, old_value, new_value)\u001b[0m\n\u001b[0;32m   1217\u001b[0m \u001b[1;33m\u001b[0m\u001b[0m\n\u001b[0;32m   1218\u001b[0m     \u001b[1;32mdef\u001b[0m \u001b[0m_notify_trait\u001b[0m\u001b[1;33m(\u001b[0m\u001b[0mself\u001b[0m\u001b[1;33m,\u001b[0m \u001b[0mname\u001b[0m\u001b[1;33m,\u001b[0m \u001b[0mold_value\u001b[0m\u001b[1;33m,\u001b[0m \u001b[0mnew_value\u001b[0m\u001b[1;33m)\u001b[0m\u001b[1;33m:\u001b[0m\u001b[1;33m\u001b[0m\u001b[1;33m\u001b[0m\u001b[0m\n\u001b[1;32m-> 1219\u001b[1;33m         self.notify_change(Bunch(\n\u001b[0m\u001b[0;32m   1220\u001b[0m             \u001b[0mname\u001b[0m\u001b[1;33m=\u001b[0m\u001b[0mname\u001b[0m\u001b[1;33m,\u001b[0m\u001b[1;33m\u001b[0m\u001b[1;33m\u001b[0m\u001b[0m\n\u001b[0;32m   1221\u001b[0m             \u001b[0mold\u001b[0m\u001b[1;33m=\u001b[0m\u001b[0mold_value\u001b[0m\u001b[1;33m,\u001b[0m\u001b[1;33m\u001b[0m\u001b[1;33m\u001b[0m\u001b[0m\n",
      "\u001b[1;32m~\\miniconda3\\envs\\bmcs_env\\lib\\site-packages\\ipywidgets\\widgets\\widget.py\u001b[0m in \u001b[0;36mnotify_change\u001b[1;34m(self, change)\u001b[0m\n\u001b[0;32m    604\u001b[0m                 \u001b[1;31m# Send new state to front-end\u001b[0m\u001b[1;33m\u001b[0m\u001b[1;33m\u001b[0m\u001b[0m\n\u001b[0;32m    605\u001b[0m                 \u001b[0mself\u001b[0m\u001b[1;33m.\u001b[0m\u001b[0msend_state\u001b[0m\u001b[1;33m(\u001b[0m\u001b[0mkey\u001b[0m\u001b[1;33m=\u001b[0m\u001b[0mname\u001b[0m\u001b[1;33m)\u001b[0m\u001b[1;33m\u001b[0m\u001b[1;33m\u001b[0m\u001b[0m\n\u001b[1;32m--> 606\u001b[1;33m         \u001b[0msuper\u001b[0m\u001b[1;33m(\u001b[0m\u001b[0mWidget\u001b[0m\u001b[1;33m,\u001b[0m \u001b[0mself\u001b[0m\u001b[1;33m)\u001b[0m\u001b[1;33m.\u001b[0m\u001b[0mnotify_change\u001b[0m\u001b[1;33m(\u001b[0m\u001b[0mchange\u001b[0m\u001b[1;33m)\u001b[0m\u001b[1;33m\u001b[0m\u001b[1;33m\u001b[0m\u001b[0m\n\u001b[0m\u001b[0;32m    607\u001b[0m \u001b[1;33m\u001b[0m\u001b[0m\n\u001b[0;32m    608\u001b[0m     \u001b[1;32mdef\u001b[0m \u001b[0m__repr__\u001b[0m\u001b[1;33m(\u001b[0m\u001b[0mself\u001b[0m\u001b[1;33m)\u001b[0m\u001b[1;33m:\u001b[0m\u001b[1;33m\u001b[0m\u001b[1;33m\u001b[0m\u001b[0m\n",
      "\u001b[1;32m~\\miniconda3\\envs\\bmcs_env\\lib\\site-packages\\traitlets\\traitlets.py\u001b[0m in \u001b[0;36mnotify_change\u001b[1;34m(self, change)\u001b[0m\n\u001b[0;32m   1227\u001b[0m     \u001b[1;32mdef\u001b[0m \u001b[0mnotify_change\u001b[0m\u001b[1;33m(\u001b[0m\u001b[0mself\u001b[0m\u001b[1;33m,\u001b[0m \u001b[0mchange\u001b[0m\u001b[1;33m)\u001b[0m\u001b[1;33m:\u001b[0m\u001b[1;33m\u001b[0m\u001b[1;33m\u001b[0m\u001b[0m\n\u001b[0;32m   1228\u001b[0m         \u001b[1;34m\"\"\"Notify observers of a change event\"\"\"\u001b[0m\u001b[1;33m\u001b[0m\u001b[1;33m\u001b[0m\u001b[0m\n\u001b[1;32m-> 1229\u001b[1;33m         \u001b[1;32mreturn\u001b[0m \u001b[0mself\u001b[0m\u001b[1;33m.\u001b[0m\u001b[0m_notify_observers\u001b[0m\u001b[1;33m(\u001b[0m\u001b[0mchange\u001b[0m\u001b[1;33m)\u001b[0m\u001b[1;33m\u001b[0m\u001b[1;33m\u001b[0m\u001b[0m\n\u001b[0m\u001b[0;32m   1230\u001b[0m \u001b[1;33m\u001b[0m\u001b[0m\n\u001b[0;32m   1231\u001b[0m     \u001b[1;32mdef\u001b[0m \u001b[0m_notify_observers\u001b[0m\u001b[1;33m(\u001b[0m\u001b[0mself\u001b[0m\u001b[1;33m,\u001b[0m \u001b[0mevent\u001b[0m\u001b[1;33m)\u001b[0m\u001b[1;33m:\u001b[0m\u001b[1;33m\u001b[0m\u001b[1;33m\u001b[0m\u001b[0m\n",
      "\u001b[1;32m~\\miniconda3\\envs\\bmcs_env\\lib\\site-packages\\traitlets\\traitlets.py\u001b[0m in \u001b[0;36m_notify_observers\u001b[1;34m(self, event)\u001b[0m\n\u001b[0;32m   1264\u001b[0m                 \u001b[0mc\u001b[0m \u001b[1;33m=\u001b[0m \u001b[0mgetattr\u001b[0m\u001b[1;33m(\u001b[0m\u001b[0mself\u001b[0m\u001b[1;33m,\u001b[0m \u001b[0mc\u001b[0m\u001b[1;33m.\u001b[0m\u001b[0mname\u001b[0m\u001b[1;33m)\u001b[0m\u001b[1;33m\u001b[0m\u001b[1;33m\u001b[0m\u001b[0m\n\u001b[0;32m   1265\u001b[0m \u001b[1;33m\u001b[0m\u001b[0m\n\u001b[1;32m-> 1266\u001b[1;33m             \u001b[0mc\u001b[0m\u001b[1;33m(\u001b[0m\u001b[0mevent\u001b[0m\u001b[1;33m)\u001b[0m\u001b[1;33m\u001b[0m\u001b[1;33m\u001b[0m\u001b[0m\n\u001b[0m\u001b[0;32m   1267\u001b[0m \u001b[1;33m\u001b[0m\u001b[0m\n\u001b[0;32m   1268\u001b[0m     \u001b[1;32mdef\u001b[0m \u001b[0m_add_notifiers\u001b[0m\u001b[1;33m(\u001b[0m\u001b[0mself\u001b[0m\u001b[1;33m,\u001b[0m \u001b[0mhandler\u001b[0m\u001b[1;33m,\u001b[0m \u001b[0mname\u001b[0m\u001b[1;33m,\u001b[0m \u001b[0mtype\u001b[0m\u001b[1;33m)\u001b[0m\u001b[1;33m:\u001b[0m\u001b[1;33m\u001b[0m\u001b[1;33m\u001b[0m\u001b[0m\n",
      "\u001b[1;32md:\\homam\\synced\\programming\\python\\bmcs_utils\\bmcs_utils\\app_window.py\u001b[0m in \u001b[0;36mselect_node\u001b[1;34m(self, event)\u001b[0m\n\u001b[0;32m    243\u001b[0m         \u001b[0mself\u001b[0m\u001b[1;33m.\u001b[0m\u001b[0mset_plot_backend\u001b[0m\u001b[1;33m(\u001b[0m\u001b[0mbackend\u001b[0m\u001b[1;33m)\u001b[0m\u001b[1;33m\u001b[0m\u001b[1;33m\u001b[0m\u001b[0m\n\u001b[0;32m    244\u001b[0m         \u001b[0mself\u001b[0m\u001b[1;33m.\u001b[0m\u001b[0msetup_plot\u001b[0m\u001b[1;33m(\u001b[0m\u001b[0mcontroller\u001b[0m\u001b[1;33m.\u001b[0m\u001b[0mmodel\u001b[0m\u001b[1;33m)\u001b[0m\u001b[1;33m\u001b[0m\u001b[1;33m\u001b[0m\u001b[0m\n\u001b[1;32m--> 245\u001b[1;33m         \u001b[0mself\u001b[0m\u001b[1;33m.\u001b[0m\u001b[0mupdate_plot\u001b[0m\u001b[1;33m(\u001b[0m\u001b[0mcontroller\u001b[0m\u001b[1;33m.\u001b[0m\u001b[0mmodel\u001b[0m\u001b[1;33m)\u001b[0m\u001b[1;33m\u001b[0m\u001b[1;33m\u001b[0m\u001b[0m\n\u001b[0m\u001b[0;32m    246\u001b[0m \u001b[1;33m\u001b[0m\u001b[0m\n\u001b[0;32m    247\u001b[0m     \u001b[0mcurrent_plot_backend\u001b[0m \u001b[1;33m=\u001b[0m \u001b[0mtr\u001b[0m\u001b[1;33m.\u001b[0m\u001b[0mStr\u001b[0m\u001b[1;33m\u001b[0m\u001b[1;33m\u001b[0m\u001b[0m\n",
      "\u001b[1;32md:\\homam\\synced\\programming\\python\\bmcs_utils\\bmcs_utils\\app_window.py\u001b[0m in \u001b[0;36mupdate_plot\u001b[1;34m(self, model)\u001b[0m\n\u001b[0;32m    268\u001b[0m     \u001b[1;32mdef\u001b[0m \u001b[0mupdate_plot\u001b[0m\u001b[1;33m(\u001b[0m\u001b[0mself\u001b[0m\u001b[1;33m,\u001b[0m \u001b[0mmodel\u001b[0m\u001b[1;33m)\u001b[0m\u001b[1;33m:\u001b[0m\u001b[1;33m\u001b[0m\u001b[1;33m\u001b[0m\u001b[0m\n\u001b[0;32m    269\u001b[0m         \u001b[0mpb\u001b[0m \u001b[1;33m=\u001b[0m \u001b[0mself\u001b[0m\u001b[1;33m.\u001b[0m\u001b[0mplot_backend_table\u001b[0m\u001b[1;33m[\u001b[0m\u001b[0mself\u001b[0m\u001b[1;33m.\u001b[0m\u001b[0mcurrent_plot_backend\u001b[0m\u001b[1;33m]\u001b[0m\u001b[1;33m\u001b[0m\u001b[1;33m\u001b[0m\u001b[0m\n\u001b[1;32m--> 270\u001b[1;33m         \u001b[0mpb\u001b[0m\u001b[1;33m.\u001b[0m\u001b[0mupdate_plot\u001b[0m\u001b[1;33m(\u001b[0m\u001b[0mmodel\u001b[0m\u001b[1;33m)\u001b[0m\u001b[1;33m\u001b[0m\u001b[1;33m\u001b[0m\u001b[0m\n\u001b[0m\u001b[0;32m    271\u001b[0m         \u001b[0mpb\u001b[0m\u001b[1;33m.\u001b[0m\u001b[0mshow_fig\u001b[0m\u001b[1;33m(\u001b[0m\u001b[1;33m)\u001b[0m\u001b[1;33m\u001b[0m\u001b[1;33m\u001b[0m\u001b[0m\n\u001b[0;32m    272\u001b[0m \u001b[1;33m\u001b[0m\u001b[0m\n",
      "\u001b[1;32md:\\homam\\synced\\programming\\python\\bmcs_utils\\bmcs_utils\\app_window.py\u001b[0m in \u001b[0;36mupdate_plot\u001b[1;34m(self, model)\u001b[0m\n\u001b[0;32m     52\u001b[0m         \u001b[0mself\u001b[0m\u001b[1;33m.\u001b[0m\u001b[0mplot_fig\u001b[0m\u001b[1;33m.\u001b[0m\u001b[0mclf\u001b[0m\u001b[1;33m(\u001b[0m\u001b[1;33m)\u001b[0m\u001b[1;33m\u001b[0m\u001b[1;33m\u001b[0m\u001b[0m\n\u001b[0;32m     53\u001b[0m         \u001b[0mself\u001b[0m\u001b[1;33m.\u001b[0m\u001b[0maxes\u001b[0m \u001b[1;33m=\u001b[0m \u001b[0mmodel\u001b[0m\u001b[1;33m.\u001b[0m\u001b[0msubplots\u001b[0m\u001b[1;33m(\u001b[0m\u001b[0mself\u001b[0m\u001b[1;33m.\u001b[0m\u001b[0mplot_fig\u001b[0m\u001b[1;33m)\u001b[0m\u001b[1;33m\u001b[0m\u001b[1;33m\u001b[0m\u001b[0m\n\u001b[1;32m---> 54\u001b[1;33m         \u001b[0mmodel\u001b[0m\u001b[1;33m.\u001b[0m\u001b[0mupdate_plot\u001b[0m\u001b[1;33m(\u001b[0m\u001b[0mself\u001b[0m\u001b[1;33m.\u001b[0m\u001b[0maxes\u001b[0m\u001b[1;33m)\u001b[0m\u001b[1;33m\u001b[0m\u001b[1;33m\u001b[0m\u001b[0m\n\u001b[0m\u001b[0;32m     55\u001b[0m \u001b[1;33m\u001b[0m\u001b[0m\n\u001b[0;32m     56\u001b[0m \u001b[1;32mclass\u001b[0m \u001b[0mK3DBackend\u001b[0m\u001b[1;33m(\u001b[0m\u001b[0mPlotBackend\u001b[0m\u001b[1;33m)\u001b[0m\u001b[1;33m:\u001b[0m\u001b[1;33m\u001b[0m\u001b[1;33m\u001b[0m\u001b[0m\n",
      "\u001b[1;32md:\\homam\\synced\\programming\\python\\bmcs_beam\\bmcs_beam\\bending\\deflection_profile.py\u001b[0m in \u001b[0;36mupdate_plot\u001b[1;34m(self, axes)\u001b[0m\n\u001b[0;32m    254\u001b[0m     \u001b[1;32mdef\u001b[0m \u001b[0mupdate_plot\u001b[0m\u001b[1;33m(\u001b[0m\u001b[0mself\u001b[0m\u001b[1;33m,\u001b[0m \u001b[0maxes\u001b[0m\u001b[1;33m)\u001b[0m\u001b[1;33m:\u001b[0m\u001b[1;33m\u001b[0m\u001b[1;33m\u001b[0m\u001b[0m\n\u001b[0;32m    255\u001b[0m         \u001b[0max_w\u001b[0m\u001b[1;33m,\u001b[0m \u001b[0max_k\u001b[0m\u001b[1;33m,\u001b[0m \u001b[0max_Fw\u001b[0m \u001b[1;33m=\u001b[0m \u001b[0maxes\u001b[0m\u001b[1;33m\u001b[0m\u001b[1;33m\u001b[0m\u001b[0m\n\u001b[1;32m--> 256\u001b[1;33m         \u001b[0mself\u001b[0m\u001b[1;33m.\u001b[0m\u001b[0mplot_fw_with_fmax\u001b[0m\u001b[1;33m(\u001b[0m\u001b[0max_Fw\u001b[0m\u001b[1;33m)\u001b[0m\u001b[1;33m\u001b[0m\u001b[1;33m\u001b[0m\u001b[0m\n\u001b[0m\u001b[0;32m    257\u001b[0m         \u001b[0mself\u001b[0m\u001b[1;33m.\u001b[0m\u001b[0mplot_curvature_along_beam\u001b[0m\u001b[1;33m(\u001b[0m\u001b[0max_k\u001b[0m\u001b[1;33m)\u001b[0m\u001b[1;33m\u001b[0m\u001b[1;33m\u001b[0m\u001b[0m\n\u001b[0;32m    258\u001b[0m         \u001b[0mself\u001b[0m\u001b[1;33m.\u001b[0m\u001b[0mplot_displacement_along_beam\u001b[0m\u001b[1;33m(\u001b[0m\u001b[0max_w\u001b[0m\u001b[1;33m)\u001b[0m\u001b[1;33m\u001b[0m\u001b[1;33m\u001b[0m\u001b[0m\n",
      "\u001b[1;32md:\\homam\\synced\\programming\\python\\bmcs_beam\\bmcs_beam\\bending\\deflection_profile.py\u001b[0m in \u001b[0;36mplot_fw_with_fmax\u001b[1;34m(self, ax_Fw)\u001b[0m\n\u001b[0;32m    271\u001b[0m \u001b[1;33m\u001b[0m\u001b[0m\n\u001b[0;32m    272\u001b[0m         \u001b[1;32mif\u001b[0m \u001b[0mself\u001b[0m\u001b[1;33m.\u001b[0m\u001b[0mmc\u001b[0m\u001b[1;33m.\u001b[0m\u001b[0mcross_section_layout\u001b[0m\u001b[1;33m.\u001b[0m\u001b[0mitems\u001b[0m\u001b[1;33m[\u001b[0m\u001b[1;36m0\u001b[0m\u001b[1;33m]\u001b[0m\u001b[1;33m.\u001b[0m\u001b[0mmatmod\u001b[0m \u001b[1;33m==\u001b[0m \u001b[1;34m'carbon'\u001b[0m\u001b[1;33m:\u001b[0m\u001b[1;33m\u001b[0m\u001b[1;33m\u001b[0m\u001b[0m\n\u001b[1;32m--> 273\u001b[1;33m             \u001b[0mself\u001b[0m\u001b[1;33m.\u001b[0m\u001b[0mget_nm_shear_force_capacity\u001b[0m\u001b[1;33m(\u001b[0m\u001b[0mshould_print\u001b[0m\u001b[1;33m=\u001b[0m\u001b[1;32mTrue\u001b[0m\u001b[1;33m)\u001b[0m\u001b[1;33m\u001b[0m\u001b[1;33m\u001b[0m\u001b[0m\n\u001b[0m\u001b[0;32m    274\u001b[0m \u001b[1;33m\u001b[0m\u001b[0m\n\u001b[0;32m    275\u001b[0m     \u001b[1;32mdef\u001b[0m \u001b[0mplot_exp_fw\u001b[0m\u001b[1;33m(\u001b[0m\u001b[0mself\u001b[0m\u001b[1;33m,\u001b[0m \u001b[0max_Fw\u001b[0m\u001b[1;33m)\u001b[0m\u001b[1;33m:\u001b[0m\u001b[1;33m\u001b[0m\u001b[1;33m\u001b[0m\u001b[0m\n",
      "\u001b[1;32md:\\homam\\synced\\programming\\python\\bmcs_beam\\bmcs_beam\\bending\\deflection_profile.py\u001b[0m in \u001b[0;36mget_nm_shear_force_capacity\u001b[1;34m(self, should_print)\u001b[0m\n\u001b[0;32m    317\u001b[0m         \u001b[0mE_nm\u001b[0m \u001b[1;33m=\u001b[0m \u001b[0mmc\u001b[0m\u001b[1;33m.\u001b[0m\u001b[0mcross_section_layout\u001b[0m\u001b[1;33m.\u001b[0m\u001b[0mitems\u001b[0m\u001b[1;33m[\u001b[0m\u001b[1;36m0\u001b[0m\u001b[1;33m]\u001b[0m\u001b[1;33m.\u001b[0m\u001b[0mmatmod_\u001b[0m\u001b[1;33m.\u001b[0m\u001b[0mE\u001b[0m\u001b[1;33m\u001b[0m\u001b[1;33m\u001b[0m\u001b[0m\n\u001b[0;32m    318\u001b[0m         \u001b[0md\u001b[0m \u001b[1;33m=\u001b[0m \u001b[0mmc\u001b[0m\u001b[1;33m.\u001b[0m\u001b[0mcross_section_shape_\u001b[0m\u001b[1;33m.\u001b[0m\u001b[0mH\u001b[0m \u001b[1;33m-\u001b[0m \u001b[0mz\u001b[0m\u001b[1;33m\u001b[0m\u001b[1;33m\u001b[0m\u001b[0m\n\u001b[1;32m--> 319\u001b[1;33m         \u001b[0mb\u001b[0m \u001b[1;33m=\u001b[0m \u001b[0mmc\u001b[0m\u001b[1;33m.\u001b[0m\u001b[0mcross_section_shape_\u001b[0m\u001b[1;33m.\u001b[0m\u001b[0mB\u001b[0m\u001b[1;33m\u001b[0m\u001b[1;33m\u001b[0m\u001b[0m\n\u001b[0m\u001b[0;32m    320\u001b[0m         \u001b[0mL\u001b[0m \u001b[1;33m=\u001b[0m \u001b[0mself\u001b[0m\u001b[1;33m.\u001b[0m\u001b[0mbeam_design\u001b[0m\u001b[1;33m.\u001b[0m\u001b[0msystem_\u001b[0m\u001b[1;33m.\u001b[0m\u001b[0mL\u001b[0m\u001b[1;33m\u001b[0m\u001b[1;33m\u001b[0m\u001b[0m\n\u001b[0;32m    321\u001b[0m         \u001b[0mf_ck\u001b[0m \u001b[1;33m=\u001b[0m \u001b[0mmc\u001b[0m\u001b[1;33m.\u001b[0m\u001b[0mcs_design\u001b[0m\u001b[1;33m.\u001b[0m\u001b[0mmatrix_\u001b[0m\u001b[1;33m.\u001b[0m\u001b[0mf_cm\u001b[0m\u001b[1;33m\u001b[0m\u001b[1;33m\u001b[0m\u001b[0m\n",
      "\u001b[1;31mAttributeError\u001b[0m: 'IShape' object has no attribute 'B'"
     ]
    }
   ],
   "source": [
    "# I section\n",
    "\n",
    "dp = get_dp(high_kappa =0.00015, A = 2 * A_phi_6, L=1300)\n",
    "\n",
    "dp.mc.cross_section_shape = 'I-shape'\n",
    "dp.mc.cross_section_shape_.H = 200\n",
    "dp.mc.cross_section_shape_.B_w = 50\n",
    "dp.mc.cross_section_shape_.B_f_bot = 50\n",
    "dp.mc.cross_section_shape_.B_f_top = 150\n",
    "dp.mc.cross_section_shape_.H_f_bot = 50\n",
    "dp.mc.cross_section_shape_.H_f_top = 50\n",
    "\n",
    "dp.interact()"
   ]
  },
  {
   "cell_type": "code",
   "execution_count": 81,
   "id": "9aa0abb1",
   "metadata": {},
   "outputs": [
    {
     "name": "stdout",
     "output_type": "stream",
     "text": [
      "A= 56.4\n",
      "rho = 0.2 %\n",
      "l/d = 6.989247311827957\n"
     ]
    },
    {
     "data": {
      "application/vnd.jupyter.widget-view+json": {
       "model_id": "8f66c95ea4804e08ad2fa075f54f4401",
       "version_major": 2,
       "version_minor": 0
      },
      "text/plain": [
       "VBox(children=(HBox(children=(VBox(children=(Tree(layout=Layout(align_items='stretch', border='solid 1px black…"
      ]
     },
     "metadata": {},
     "output_type": "display_data"
    }
   ],
   "source": [
    "# Rect section to compare with I\n",
    "\n",
    "dp = get_dp(high_kappa = 0.00025, B=150, H=200, A = 2 * A_phi_6, L=1300) # 'EC2 with plateau', 'piecewise linear'\n",
    "\n",
    "dp.interact()"
   ]
  },
  {
   "cell_type": "code",
   "execution_count": 135,
   "id": "65ed3b86",
   "metadata": {
    "scrolled": false
   },
   "outputs": [
    {
     "name": "stdout",
     "output_type": "stream",
     "text": [
      "A= 903.6000000000001\n",
      "rho = 3.24 %\n",
      "l/d = 6.989247311827957\n",
      "V_Rm_c = 9.06 kN, Shear failure by F_tot_max = 18.12 kN\n"
     ]
    },
    {
     "data": {
      "application/vnd.jupyter.widget-view+json": {
       "model_id": "0811bb9fe74c4922bab19554e1ea060b",
       "version_major": 2,
       "version_minor": 0
      },
      "text/plain": [
       "VBox(children=(HBox(children=(VBox(children=(Tree(layout=Layout(align_items='stretch', border='solid 1px black…"
      ]
     },
     "metadata": {},
     "output_type": "display_data"
    }
   ],
   "source": [
    "# Ductile carbon beam\n",
    "# grid_layers_area=list(1*np.linspace(0.1, 1, n))\n",
    "# A =21.72\n",
    "n=6\n",
    "# dp = get_dp(high_kappa = 0.00013, B=150, H=200, L=1300, grid_layers_n=n, grid_layers_spacing=10, grid_layers_area=list(reversed([1, 3, 5, 8, 15, 30])))\n",
    "dp = get_dp(high_kappa = 0.00013, B=150, H=200, L=1300, grid_layers_n=n, grid_layers_spacing=10, grid_layers_area=list([1, 3, 5, 8, 15, 30]))\n",
    "\n",
    "# dp = get_dp(high_kappa = 0.00013, B=150, H=200, L=1300, carbon_type = 'grid', A=20)\n",
    "\n",
    "# dp = get_dp(high_kappa = 0.00013, B=150, H=200, L=1300)\n",
    "\n",
    "dp.interact()"
   ]
  },
  {
   "cell_type": "code",
   "execution_count": 136,
   "id": "ca7ae03d",
   "metadata": {},
   "outputs": [
    {
     "name": "stdout",
     "output_type": "stream",
     "text": [
      "A= 100.4\n",
      "rho = 0.13 %\n",
      "l/d = 3.3678756476683938\n",
      "V_Rm_c = 81.29 kN, Shear failure by F_tot_max = 162.58 kN\n"
     ]
    },
    {
     "data": {
      "application/vnd.jupyter.widget-view+json": {
       "model_id": "62e9415ab6294b8f81bc3b99a753c23b",
       "version_major": 2,
       "version_minor": 0
      },
      "text/plain": [
       "VBox(children=(HBox(children=(VBox(children=(Tree(layout=Layout(align_items='stretch', border='solid 1px black…"
      ]
     },
     "metadata": {},
     "output_type": "display_data"
    }
   ],
   "source": [
    "# Ductility study\n",
    "# Beam: solidian REBAR Ø8-CCE\n",
    "# failure on concrete compression\n",
    "dp = get_dp(high_kappa = 0.0001, B=200, H=400, A = 2 * A_phi_8, concrete_law = 'EC2', L=1300) # 'EC2 with plateau', 'piecewise linear'\n",
    "\n",
    "bl1 = ReinfLayer(name='rebars', z=30, A=1 * (3.14*8)**2, matmod='steel')\n",
    "# bl1.matmod_.trait_set(E=E_nm, f_t=f_t, factor = 1.)\n",
    "dp.mc.cross_section_layout.add_layer(bl1)\n",
    "\n",
    "dp.interact()"
   ]
  },
  {
   "cell_type": "code",
   "execution_count": 36,
   "id": "453a07b5",
   "metadata": {},
   "outputs": [
    {
     "name": "stdout",
     "output_type": "stream",
     "text": [
      "A= 100.4\n",
      "rho = 0.13 %\n",
      "l/d = 3.3678756476683938\n",
      "V_Rm_c = 81.29 kN, Shear failure by F_tot_max = 162.58 kN\n"
     ]
    },
    {
     "data": {
      "application/vnd.jupyter.widget-view+json": {
       "model_id": "92169b765c104380aa15c48439216cbc",
       "version_major": 2,
       "version_minor": 0
      },
      "text/plain": [
       "VBox(children=(HBox(children=(VBox(children=(Tree(layout=Layout(align_items='stretch', border='solid 1px black…"
      ]
     },
     "metadata": {},
     "output_type": "display_data"
    }
   ],
   "source": [
    "# Ductility study 2\n",
    "# Beam: solidian REBAR Ø8-CCE\n",
    "# failure on concrete compression\n",
    "dp = get_dp(high_kappa = 0.0001, B=200, H=400, A = 2 * A_phi_8, concrete_law = 'EC2', L=1300) # 'EC2 with plateau', 'piecewise linear'\n",
    "\n",
    "bl1 = ReinfLayer(name='rebars', z=5, A=A_phi_8, matmod='carbon')\n",
    "bl1.matmod_.trait_set(E=158000, f_t=2500/4)\n",
    "dp.mc.cross_section_layout.add_layer(bl1)\n",
    "\n",
    "dp.interact()"
   ]
  },
  {
   "cell_type": "code",
   "execution_count": 137,
   "id": "c37a100b",
   "metadata": {},
   "outputs": [
    {
     "ename": "TypeError",
     "evalue": "get_dp() got an unexpected keyword argument 'f_ck'",
     "output_type": "error",
     "traceback": [
      "\u001b[1;31m---------------------------------------------------------------------------\u001b[0m",
      "\u001b[1;31mTypeError\u001b[0m                                 Traceback (most recent call last)",
      "\u001b[1;32m~\\AppData\\Local\\Temp/ipykernel_2596/3348574298.py\u001b[0m in \u001b[0;36m<module>\u001b[1;34m\u001b[0m\n\u001b[0;32m      1\u001b[0m \u001b[1;31m# Ductility study 3 on steel (over reinforced steel cross sections also have ductile behaviour if concrete is high)\u001b[0m\u001b[1;33m\u001b[0m\u001b[1;33m\u001b[0m\u001b[0m\n\u001b[1;32m----> 2\u001b[1;33m \u001b[0mdp\u001b[0m \u001b[1;33m=\u001b[0m \u001b[0mget_dp\u001b[0m\u001b[1;33m(\u001b[0m\u001b[0mf_ck\u001b[0m \u001b[1;33m=\u001b[0m \u001b[1;36m40\u001b[0m\u001b[1;33m,\u001b[0m \u001b[0mhigh_kappa\u001b[0m \u001b[1;33m=\u001b[0m \u001b[1;36m0.00002\u001b[0m\u001b[1;33m,\u001b[0m \u001b[0mB\u001b[0m\u001b[1;33m=\u001b[0m\u001b[1;36m200\u001b[0m\u001b[1;33m,\u001b[0m \u001b[0mH\u001b[0m\u001b[1;33m=\u001b[0m\u001b[1;36m400\u001b[0m\u001b[1;33m,\u001b[0m \u001b[0mA\u001b[0m \u001b[1;33m=\u001b[0m \u001b[1;36m7\u001b[0m\u001b[1;33m*\u001b[0m\u001b[1;36m3.14\u001b[0m\u001b[1;33m*\u001b[0m\u001b[1;36m16\u001b[0m\u001b[1;33m**\u001b[0m\u001b[1;36m2\u001b[0m\u001b[1;33m,\u001b[0m \u001b[0mconcrete_law\u001b[0m \u001b[1;33m=\u001b[0m \u001b[1;34m'EC2'\u001b[0m\u001b[1;33m,\u001b[0m \u001b[0mL\u001b[0m\u001b[1;33m=\u001b[0m\u001b[1;36m1300\u001b[0m\u001b[1;33m,\u001b[0m \u001b[0mreinf\u001b[0m \u001b[1;33m=\u001b[0m \u001b[1;34m'steel'\u001b[0m\u001b[1;33m)\u001b[0m \u001b[1;31m# 'EC2 with plateau', 'piecewise linear'\u001b[0m\u001b[1;33m\u001b[0m\u001b[1;33m\u001b[0m\u001b[0m\n\u001b[0m\u001b[0;32m      3\u001b[0m \u001b[0mdp\u001b[0m\u001b[1;33m.\u001b[0m\u001b[0minteract\u001b[0m\u001b[1;33m(\u001b[0m\u001b[1;33m)\u001b[0m\u001b[1;33m\u001b[0m\u001b[1;33m\u001b[0m\u001b[0m\n",
      "\u001b[1;31mTypeError\u001b[0m: get_dp() got an unexpected keyword argument 'f_ck'"
     ]
    }
   ],
   "source": [
    "# Ductility study 3 on steel (over reinforced steel cross sections also have ductile behaviour if concrete is high)\n",
    "dp = get_dp(f_ck = 40, high_kappa = 0.00002, B=200, H=400, A = 7*3.14*16**2, concrete_law = 'EC2', L=1300, reinf = 'steel') # 'EC2 with plateau', 'piecewise linear'\n",
    "dp.interact()"
   ]
  }
 ],
 "metadata": {
  "kernelspec": {
   "display_name": "Python 3 (ipykernel)",
   "language": "python",
   "name": "python3"
  },
  "language_info": {
   "codemirror_mode": {
    "name": "ipython",
    "version": 3
   },
   "file_extension": ".py",
   "mimetype": "text/x-python",
   "name": "python",
   "nbconvert_exporter": "python",
   "pygments_lexer": "ipython3",
   "version": "3.9.12"
  }
 },
 "nbformat": 4,
 "nbformat_minor": 5
}
