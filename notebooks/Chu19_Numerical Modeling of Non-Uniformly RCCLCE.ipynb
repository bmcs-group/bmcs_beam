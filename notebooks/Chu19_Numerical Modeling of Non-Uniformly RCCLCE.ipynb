{
 "cells": [
  {
   "cell_type": "markdown",
   "metadata": {},
   "source": [
    "# Numerical Modeling of Non-Uniformly Reinforced Carbon Concrete Lightweight Ceiling Elements"
   ]
  },
  {
   "cell_type": "markdown",
   "metadata": {},
   "source": [
    "This notebook presents equations in the : \"Numerical Modeling of Non-Uniformly Reinforced\n",
    "Carbon Concrete Lightweight Ceiling Elements\" by Rostislav Chudoba, Ehsan Sharei, Tilo Senckpiel-Peters and Frank Schladitz\n",
    "\n",
    "https://doi.org/10.3390/app9112348"
   ]
  },
  {
   "cell_type": "markdown",
   "metadata": {},
   "source": [
    "The paper focuses on the specifics of macro-scale modeling of thin-walled textile-reinforced concrete shells. Application of layered shell finite elements requires systematic procedures for\n",
    "identification of material characteristics associated with the individual layers within the cross section. The identification of the material parameters describing the tensile behavior of a composite cross section is done using data obtained from the tensile test. Such test is usually performed only for a reference configurations with a simple layup of fabrics and a chosen thickness. The question is how to derive the strain-hardening response from the tensile test that is relevant for a changed cross-sectional configuration. We describe and discuss scaling and mixture rules that can be used to modify the material parameters for modified cross-sectional layups. The rules are examined in the context of the test results obtained on a shell that was reinforced non-uniformly, with varying types of textile\n",
    "fabrics and varying thickness within the shell surface."
   ]
  },
  {
   "cell_type": "code",
   "execution_count": 7,
   "metadata": {
    "pycharm": {
     "name": "#%%\n"
    }
   },
   "outputs": [],
   "source": [
    "%matplotlib inline\n",
    "import matplotlib.pyplot as plt\n",
    "import numpy as np\n",
    "import sympy as sp"
   ]
  },
  {
   "cell_type": "markdown",
   "metadata": {},
   "source": [
    "#### 3.2. Calibration of a Smeared Cross Section Model Using a Tensile Test\n"
   ]
  },
  {
   "cell_type": "markdown",
   "metadata": {},
   "source": [
    "eq 1: "
   ]
  },
  {
   "cell_type": "markdown",
   "metadata": {},
   "source": [
    "$\\rho^\\mathrm{test}$  = $a_\\mathrm{f} / d^\\mathrm{test}$"
   ]
  },
  {
   "cell_type": "markdown",
   "metadata": {},
   "source": [
    "| Symbol | Unit | Description\n",
    "| :-: | :-: | :- |\n",
    "| $\\rho^\\mathrm{test}$ | % | Reinforcement ratio|\n",
    "| $a_\\mathrm{f}$ | $\\frac{m^{2}}{m}$ | Fabric area per unit width |\n",
    "| $d^\\mathrm{test}$ | m | Cross-sectional thickness |"
   ]
  },
  {
   "cell_type": "code",
   "execution_count": 10,
   "metadata": {
    "pycharm": {
     "name": "#%%\n"
    }
   },
   "outputs": [],
   "source": [
    "def get_rho_test(a_f, d_test):\n",
    "    rho_test = np.divide(a_f, d_test) \n",
    "    return rho_test"
   ]
  },
  {
   "cell_type": "code",
   "execution_count": 28,
   "metadata": {
    "pycharm": {
     "name": "#%%\n"
    }
   },
   "outputs": [
    {
     "data": {
      "text/plain": [
       "array([0.00616, 0.01713])"
      ]
     },
     "execution_count": 28,
     "metadata": {},
     "output_type": "execute_result"
    }
   ],
   "source": [
    "a_f = [0.616e-4, 1.713e-4]\n",
    "d_test = 0.01\n",
    "rho_test = get_rho_test(a_f,d_test)\n",
    "rho_test"
   ]
  },
  {
   "cell_type": "markdown",
   "metadata": {},
   "source": [
    "### 4. Resolved Model of a Cross Section"
   ]
  },
  {
   "cell_type": "markdown",
   "metadata": {},
   "source": [
    "#### 4.1. Decomposition of the Composite Stress"
   ]
  },
  {
   "cell_type": "markdown",
   "metadata": {},
   "source": [
    "eq 2:"
   ]
  },
  {
   "cell_type": "markdown",
   "metadata": {},
   "source": [
    "$\\sigma^\\mathrm{test}_\\mathrm{c}$  = $\\sigma^\\mathrm{test}_\\mathrm{cf}$ + $\\sigma^\\mathrm{test}_\\mathrm{cm}$ = $\\rho^\\mathrm{test}$  $\\sigma_\\mathrm{f} +  (1-\\rho^\\mathrm{test})  \\sigma_\\mathrm{m}$"
   ]
  },
  {
   "cell_type": "markdown",
   "metadata": {
    "pycharm": {
     "name": "#%% md\n"
    }
   },
   "source": [
    "| Symbol | Unit | Description\n",
    "| :-: | :-: | :- |\n",
    "| $\\sigma^\\mathrm{test}_\\mathrm{c}$ | MPa | Stress of composite related to the unit area of the composite |\n",
    "| $\\sigma^\\mathrm{test}_\\mathrm{cf}$ | MPa | Stress of fiber related to the unit area of the composite |\n",
    "| $\\sigma^\\mathrm{test}_\\mathrm{cm}$ | MPa | Stress of matrix related to the unit area of the composite |\n",
    "| $\\rho^\\mathrm{test}$ | % | Reinforcement ratio|\n",
    "| $\\sigma_\\mathrm{f}$ | MPa | Stress of fiber related to the area of the of fabrics |\n",
    "| $\\sigma_\\mathrm{m}$ | MPa | Stress of matrix related to the area of the of matrix |"
   ]
  },
  {
   "cell_type": "code",
   "execution_count": 49,
   "metadata": {
    "pycharm": {
     "name": "#%%\n"
    }
   },
   "outputs": [],
   "source": [
    "def get_sig_test_cf(rho_test, sig_m, sig_f):   \n",
    "    sig_test_cm = (1 - rho_test) * np.array(sig_m)\n",
    "    sig_test_cf = rho_test * np.array(sig_f)\n",
    "    sig_test_c = sig_test_cf + sig_test_cm\n",
    "    return sig_test_c"
   ]
  },
  {
   "cell_type": "code",
   "execution_count": 52,
   "metadata": {
    "pycharm": {
     "name": "#%%\n"
    }
   },
   "outputs": [
    {
     "data": {
      "text/plain": [
       "array([ 0.     ,  1.05544, 21.1088 ])"
      ]
     },
     "execution_count": 52,
     "metadata": {},
     "output_type": "execute_result"
    }
   ],
   "source": [
    "sig_m = [0,1,20]\n",
    "sig_f = [0,10,200]\n",
    "get_sig_test_cf(rho_test[0], sig_m, sig_f)"
   ]
  },
  {
   "cell_type": "markdown",
   "metadata": {},
   "source": [
    "eq 3: "
   ]
  },
  {
   "cell_type": "markdown",
   "metadata": {
    "pycharm": {
     "name": "#%% md\n"
    }
   },
   "source": [
    "$\\sigma_\\mathrm{f}$ =  $E^\\mathrm{yarn}_\\mathrm{f}$$\\varepsilon_\\mathrm{c}$\n",
    "\n",
    "$\\sigma^\\mathrm{test}_\\mathrm{cf}$($\\varepsilon_\\mathrm{c})$  = $\\rho^\\mathrm{test}$  $E^\\mathrm{yarn}_\\mathrm{f}$$\\varepsilon_\\mathrm{c}$"
   ]
  },
  {
   "cell_type": "markdown",
   "metadata": {},
   "source": [
    "| Symbol | Unit | Description\n",
    "| :-: | :-: | :- |\n",
    "| $\\sigma^\\mathrm{test}_\\mathrm{cf}$ | MPa | Stress of fiber related to the unit area of the composite |\n",
    "| $\\varepsilon_\\mathrm{c}$ | - | Strain of the composite |\n",
    "| $\\rho^\\mathrm{test}$ | % | Reinforcement ratio|\n",
    "| $E^\\mathrm{yarn}_\\mathrm{f}$ | MPa | Elasticity modulus of the fiber determined in a yarn tensile test|"
   ]
  },
  {
   "cell_type": "code",
   "execution_count": null,
   "metadata": {
    "pycharm": {
     "name": "#%%\n"
    }
   },
   "outputs": [],
   "source": [
    "def get_sig_test_cf(E_yarn_f, eps_c, rho_test):\n",
    "    sigma_f = E_yarn_f * eps_c\n",
    "    sig_test_cf = rho_test * sigma_f\n",
    "    return sig_test_cf"
   ]
  },
  {
   "cell_type": "markdown",
   "metadata": {},
   "source": [
    "eq 3-1:"
   ]
  },
  {
   "cell_type": "markdown",
   "metadata": {
    "pycharm": {
     "name": "#%% md\n"
    }
   },
   "source": [
    "$E^\\mathrm{test}_\\mathrm{f}$ = $E^\\mathrm{test}_\\mathrm{cf}$ /  $\\rho^\\mathrm{test}$"
   ]
  },
  {
   "cell_type": "markdown",
   "metadata": {},
   "source": [
    "| Symbol | Unit | Description\n",
    "| :-: | :-: | :- |\n",
    "| $E^\\mathrm{test}_\\mathrm{f}$ | MPa | Effective fabric stffness |\n",
    "| $E^\\mathrm{test}_\\mathrm{cf}$ | MPa | Final comosite stifness|\n",
    "| $\\rho^\\mathrm{test}$ | % | Reinforcement ratio|"
   ]
  },
  {
   "cell_type": "code",
   "execution_count": null,
   "metadata": {
    "pycharm": {
     "name": "#%%\n"
    }
   },
   "outputs": [],
   "source": [
    "def get_E_test_f(E_test_cf, rho_test):   \n",
    "    E_test_f = E_test_cf / rho_test\n",
    "    return E_test_f"
   ]
  },
  {
   "cell_type": "markdown",
   "metadata": {},
   "source": [
    "eq 4:"
   ]
  },
  {
   "cell_type": "markdown",
   "metadata": {
    "pycharm": {
     "name": "#%% md\n"
    }
   },
   "source": [
    "$\\sigma^\\mathrm{test}_\\mathrm{cm}$($\\varepsilon_\\mathrm{c})$  = $\\sigma^\\mathrm{test}_\\mathrm{c}$($\\varepsilon_\\mathrm{c})$ - $\\sigma^\\mathrm{test}_\\mathrm{cf}$($\\varepsilon_\\mathrm{c})$"
   ]
  },
  {
   "cell_type": "markdown",
   "metadata": {},
   "source": [
    "| Symbol | Unit | Description\n",
    "| :-: | :-: | :- |\n",
    "| $\\sigma^\\mathrm{test}_\\mathrm{cm}$ | MPa | Stress of matrix related to the unit area of the composite |\n",
    "| $\\sigma^\\mathrm{test}_\\mathrm{c}$ | MPa | Stress of composite |\n",
    "| $\\sigma^\\mathrm{test}_\\mathrm{cf}$ | MPa | Stress of fiber related to the unit area of the composite |\n",
    "| $\\varepsilon_\\mathrm{c}$ | - | Strain of the composite |"
   ]
  },
  {
   "cell_type": "code",
   "execution_count": null,
   "metadata": {
    "pycharm": {
     "name": "#%%\n"
    }
   },
   "outputs": [],
   "source": [
    "def get_sig_test_cm(sig_test_c, sig_test_cf):   \n",
    "    sig_test_cm = sig_test_c - sig_test_cf\n",
    "    return sig_test_cm"
   ]
  },
  {
   "cell_type": "markdown",
   "metadata": {},
   "source": [
    "#### 4.2. Mixture Rule for Hybrid Fabric Reinforcement\n"
   ]
  },
  {
   "cell_type": "markdown",
   "metadata": {},
   "source": [
    "To combine the behavior of the fabrics in a hybrid cross\n",
    "section, the composite stress of each test j must first be decomposed using the procedure described in\n",
    "Section 4.1 into the fractions associated with fabrics and matrix (sf(j), sm(j)). Then, the fabrics stresses sf(j)\n",
    "can be mixed into a single hybrid reinforcement layer using the area fractions of each reinforcement\n",
    "type in the total reinforcement area a¯f = ∑mj af(j) with the weight factors"
   ]
  },
  {
   "cell_type": "markdown",
   "metadata": {},
   "source": [
    "eq 5:"
   ]
  },
  {
   "cell_type": "markdown",
   "metadata": {
    "pycharm": {
     "name": "#%% md\n"
    }
   },
   "source": [
    "$\\bar{a}_\\mathrm{f}$  =  $\\sum_{j}^{m} a_\\mathrm{f}^\\mathrm{(j)}$\n",
    "\n",
    "$\\eta^\\mathrm{(j)}$ = $\\dfrac{a_\\mathrm{f}^\\mathrm{(j)}}{\\bar{a}_\\mathrm{f}}$"
   ]
  },
  {
   "cell_type": "markdown",
   "metadata": {},
   "source": [
    "| Symbol | Unit | Description\n",
    "| :-: | :-: | :- |\n",
    "| $a_\\mathrm{f}^\\mathrm{(j)}$ | $m^2$ | Reinforcement j cross section area|\n",
    "| $\\bar{a}_\\mathrm{f}$ | $m^2$ | Total reinforcement area |\n",
    "| $\\eta^\\mathrm{(j)}$ | - | Weigh factor |\n"
   ]
  },
  {
   "cell_type": "code",
   "execution_count": null,
   "metadata": {
    "pycharm": {
     "name": "#%%\n"
    }
   },
   "outputs": [],
   "source": [
    "def get_eta_j(a_f, a_j_f):\n",
    "    a_bar_f = sum (a_f)\n",
    "    eta_j = a_j_f / a_bar_f\n",
    "    return eta_j"
   ]
  },
  {
   "cell_type": "markdown",
   "metadata": {},
   "source": [
    "The effective fabric stress within the hybrid fabric cross section is then given as\n"
   ]
  },
  {
   "cell_type": "markdown",
   "metadata": {},
   "source": [
    "eq 6:"
   ]
  },
  {
   "cell_type": "markdown",
   "metadata": {
    "pycharm": {
     "name": "#%% md\n"
    }
   },
   "source": [
    "$\\bar{\\sigma}_\\mathrm{f}$  = $\\sum_{i}^{m}$ $\\eta^\\mathrm{(j)} \\sigma_\\mathrm{f}^\\mathrm{(j)}$"
   ]
  },
  {
   "cell_type": "markdown",
   "metadata": {},
   "source": [
    "| Symbol | Unit | Description\n",
    "| :-: | :-: | :- |\n",
    "| $\\bar{\\sigma}_\\mathrm{f}$ | MPa | Effective fabric stress|\n",
    "| $\\sigma_\\mathrm{f}^\\mathrm{(j)}$ | MPa | Fabric j stress |\n",
    "| $\\eta^\\mathrm{(j)}$ | - | Weigh factor |"
   ]
  },
  {
   "cell_type": "code",
   "execution_count": null,
   "metadata": {
    "pycharm": {
     "name": "#%%\n"
    }
   },
   "outputs": [],
   "source": [
    "def get_sigma_bar_f(eta_j, sig_j_f):   \n",
    "    sigma_bar_f = sum (eta_j * sig_j_f)\n",
    "    return sigma_bar_f"
   ]
  },
  {
   "cell_type": "markdown",
   "metadata": {},
   "source": [
    "The matrix stress is obtained by averaging the contributions determined in the individual tests"
   ]
  },
  {
   "cell_type": "markdown",
   "metadata": {},
   "source": [
    "eq 7:"
   ]
  },
  {
   "cell_type": "markdown",
   "metadata": {
    "pycharm": {
     "name": "#%% md\n"
    }
   },
   "source": [
    "$\\bar{\\sigma}_\\mathrm{m}$  = $\\dfrac{1}{m}\\sum_{i}^{m} \\sigma_\\mathrm{m}^\\mathrm{(j)}$"
   ]
  },
  {
   "cell_type": "markdown",
   "metadata": {},
   "source": [
    "| Symbol | Unit | Description\n",
    "| :-: | :-: | :- |\n",
    "| $\\bar{\\sigma}_\\mathrm{m}$ | MPa | Effective matrix stress|\n",
    "| $\\sigma_\\mathrm{f}^\\mathrm{(j)}$ | MPa | Matrix j stress |\n",
    "| m | - | Number of matrices |"
   ]
  },
  {
   "cell_type": "code",
   "execution_count": null,
   "metadata": {
    "pycharm": {
     "name": "#%%\n"
    }
   },
   "outputs": [],
   "source": [
    "def get_sigma_bar_m(m, sig_j_m):   \n",
    "    sigma_bar_m = 1 / m * sum (sig_j_m)\n",
    "    return sigma_bar_m"
   ]
  },
  {
   "cell_type": "markdown",
   "metadata": {},
   "source": [
    "The matrix stress is obtained by averaging the contributions determined in the individual tests"
   ]
  },
  {
   "cell_type": "markdown",
   "metadata": {},
   "source": [
    "eq 8:"
   ]
  },
  {
   "cell_type": "markdown",
   "metadata": {
    "pycharm": {
     "name": "#%% md\n"
    }
   },
   "source": [
    "$\\bar{\\rho}$  = $\\bar{a_\\mathrm{f}} / \\bar{d}$\n",
    "\n",
    "$\\bar{\\sigma}_\\mathrm{c}$  = $(1 - \\bar{\\rho})$ $\\bar{\\sigma}_\\mathrm{m}$ + $\\bar{\\rho}\\bar{\\sigma}_\\mathrm{f}$"
   ]
  },
  {
   "cell_type": "markdown",
   "metadata": {},
   "source": [
    "| Symbol | Unit | Description\n",
    "| :-: | :-: | :- |\n",
    "| $\\bar{\\sigma}_\\mathrm{c}$ | MPa | Composite stress in a cross section of thickness $\\bar{d}$ |\n",
    "| $\\bar{\\rho}$ | % | Reinforcement ratio|\n",
    "| $\\bar{a_\\mathrm{f}}$ | $m^2$ | Fabric area |\n",
    "| $\\bar{d}$ | $m$ | Total specimen thickness |\n",
    "| $\\bar{\\sigma}_\\mathrm{m}$ | MPa | Effective atrix stress |\n",
    "| $\\bar{\\sigma}_\\mathrm{f}$ | MPa | Effective fabric stress |\n"
   ]
  },
  {
   "cell_type": "code",
   "execution_count": null,
   "metadata": {
    "pycharm": {
     "name": "#%%\n"
    }
   },
   "outputs": [],
   "source": [
    "def get_sigma_bar_c(a_bar_f, d_bar, sig_bar_m, sig_bar_f):   \n",
    "    rho_bar = a_bar_f / d_bar\n",
    "    sigma_bar_c = (1 - rho_bar) * sig_bar_m + rho_bar * sig_bar_f\n",
    "    return sigma_bar_m"
   ]
  },
  {
   "cell_type": "markdown",
   "metadata": {},
   "source": [
    "#### 4.3. Scaling of Composite Response for a Layer of a Shell Element"
   ]
  },
  {
   "cell_type": "markdown",
   "metadata": {},
   "source": [
    "To identify the amount of stress corresponding to a layer of a finite element shell with a given layer thickness and its reinforcement ratio, the scaling formula can be used:"
   ]
  },
  {
   "cell_type": "markdown",
   "metadata": {},
   "source": [
    "eq 13:"
   ]
  },
  {
   "cell_type": "markdown",
   "metadata": {
    "pycharm": {
     "name": "#%% md\n"
    }
   },
   "source": [
    "$\\sigma^\\mathrm{(i)}_\\mathrm{c}$  = $\\dfrac{(1-\\rho^\\mathrm{(i)})}{(1-\\rho^\\mathrm{test})}\\sigma^\\mathrm{test}_\\mathrm{cm}$ + $\\dfrac{(\\rho^\\mathrm{(i)})}{(\\rho^\\mathrm{test})}\\sigma^\\mathrm{test}_\\mathrm{cf}$"
   ]
  },
  {
   "cell_type": "markdown",
   "metadata": {
    "pycharm": {
     "name": "#%% md\n"
    }
   },
   "source": [
    "| Symbol | Unit | Description\n",
    "| :-: | :-: | :- |\n",
    "| $\\sigma^\\mathrm{(i)}_\\mathrm{c}$ | MPa | -|\n",
    "| $\\rho^\\mathrm{(i)}$ | % | - |\n",
    "| $\\rho^\\mathrm{test}$ | % | - |\n",
    "| $\\sigma^\\mathrm{test}_\\mathrm{cm}$ | MPa | - |\n",
    "| $\\sigma^\\mathrm{test}_\\mathrm{cf}$ | MPa | - |"
   ]
  },
  {
   "cell_type": "code",
   "execution_count": null,
   "outputs": [],
   "source": [
    "def get_sigma_i_c(rho_i, rho_test, sig_test_cm, sig_test_cf):   \n",
    "    sigma_i_c = (1 - rho_i) / (1 - rho_test) * sig_test_cm +      rho_i / rho_test * sig_test_cf\n",
    "    return sigma_i_c"
   ],
   "metadata": {
    "collapsed": false,
    "pycharm": {
     "name": "#%%\n"
    }
   }
  },
  {
   "cell_type": "code",
   "execution_count": null,
   "outputs": [],
   "source": [
    "\n",
    "class ResolvedModel(InteractiveModel):\n",
    "    \n",
    "    '''\n",
    "    Resolved model of a BMCS beam\n",
    "    '''\n",
    "\n",
    "    name = 'Resolved Model'\n",
    "\n",
    "    ipw_view = View(\n",
    "        Item('n_load_steps', latex='n_{\\mathrm{load~steps}}')\n",
    "    )\n",
    "    \n",
    "    def get_rho_test(self):\n",
    "        rho_test = a_f + d_test\n",
    "        return rho_test\n",
    "\n",
    "    def get_sig_test_cf(self):   \n",
    "        sig_test_cm = (1 - rho_test) * sig_test_m\n",
    "        sig_test_cf = rho_test * sig_test_f\n",
    "        sig_test_c = sig_test_cf + sig_test_cm\n",
    "        return sig_test_c\n",
    "\n",
    "    def get_sig_test_cf(self):\n",
    "        sigma_f = E_yarn_f * eps_c\n",
    "        sig_test_cf = rho_test * sigma_f\n",
    "        return sig_test_cf\n",
    "\n",
    "    def get_E_test_f(self):   \n",
    "        E_test_f = E_test_cf / rho_test\n",
    "        return E_test_f\n",
    "\n",
    "    def get_sig_test_cm(self):   \n",
    "        sig_test_cm = sig_test_c - sig_test_cf\n",
    "        return sig_test_cm\n",
    "\n",
    "    def get_eta_j(self):\n",
    "        a_bar_f = sum (a_f)\n",
    "        eta_j = a_j_f / a_bar_f\n",
    "        return eta_j\n",
    "\n",
    "    def get_sigma_bar_f(self):   \n",
    "        sigma_bar_f = sum (eta_j * sig_j_f)\n",
    "        return sigma_bar_f\n",
    "\n",
    "    def get_sigma_bar_m(self):   \n",
    "        sigma_bar_m = 1 / m * sum (sig_j_m)\n",
    "        return sigma_bar_m\n",
    "\n",
    "    def get_sigma_bar_c(self):   \n",
    "        rho_bar = a_bar_f / d_bar\n",
    "        sigma_bar_c = (1 - rho_bar) * sig_bar_m + rho_bar * sig_bar_f\n",
    "        return sigma_bar_m\n",
    "\n",
    "    def get_sigma_i_c(self):   \n",
    "        sigma_i_c = (1 - rho_i) / (1 - rho_test) * sig_test_cm + rho_i / rho_test * sig_test_cf\n",
    "        return sigma_i_c\n",
    "    \n",
    "    def subplots(self, fig):\n",
    "        gs = gridspec.GridSpec(1, 2, figure=fig, width_ratios=[0.7, 0.3])\n",
    "\n",
    "        # ax2, ax3 = fig.subplots(1, 2)\n",
    "        ax_w = fig.add_subplot(gs[0, 0])\n",
    "        ax_k = ax_w.twinx()\n",
    "        ax_Fw = fig.add_subplot(gs[0, 1])\n",
    "        return ax_w, ax_k, ax_Fw\n",
    "\n",
    "    def update_plot(self, axes):\n",
    "        ax_w, ax_k, ax_Fw = axes\n",
    "        self.plot_force_displacement(ax_Fw)\n",
    "        self.plot_curvature(ax_k)\n",
    "        self.plot_displacement(ax_w)\n",
    "        mpl_align_yaxis(ax_w, 0, ax_k, 0)\n"
   ],
   "metadata": {
    "collapsed": false,
    "pycharm": {
     "name": "#%%\n"
    }
   }
  },
  {
   "cell_type": "code",
   "execution_count": null,
   "metadata": {
    "pycharm": {
     "name": "#%%\n"
    }
   },
   "outputs": [],
   "source": [
    "\n",
    "class ResolvedModel(InteractiveModel):\n",
    "    \n",
    "    '''\n",
    "    Resolved model of a BMCS beam\n",
    "    '''\n",
    "\n",
    "    name = 'Resolved Model'\n",
    "\n",
    "    ipw_view = View(\n",
    "        Item('n_load_steps', latex='n_{\\mathrm{load~steps}}')\n",
    "    )\n",
    "    \n",
    "    def get_rho_test(self):\n",
    "        rho_test = a_f + d_test\n",
    "        return rho_test\n",
    "\n",
    "    def get_sig_test_cf(self):   \n",
    "        sig_test_cm = (1 - rho_test) * sig_test_m\n",
    "        sig_test_cf = rho_test * sig_test_f\n",
    "        sig_test_c = sig_test_cf + sig_test_cm\n",
    "        return sig_test_c\n",
    "\n",
    "    def get_sig_test_cf(self):\n",
    "        sigma_f = E_yarn_f * eps_c\n",
    "        sig_test_cf = rho_test * sigma_f\n",
    "        return sig_test_cf\n",
    "\n",
    "    def get_E_test_f(self):   \n",
    "        E_test_f = E_test_cf / rho_test\n",
    "        return E_test_f\n",
    "\n",
    "    def get_sig_test_cm(self):   \n",
    "        sig_test_cm = sig_test_c - sig_test_cf\n",
    "        return sig_test_cm\n",
    "\n",
    "    def get_eta_j(self):\n",
    "        a_bar_f = sum (a_f)\n",
    "        eta_j = a_j_f / a_bar_f\n",
    "        return eta_j\n",
    "\n",
    "    def get_sigma_bar_f(self):   \n",
    "        sigma_bar_f = sum (eta_j * sig_j_f)\n",
    "        return sigma_bar_f\n",
    "\n",
    "    def get_sigma_bar_m(self):   \n",
    "        sigma_bar_m = 1 / m * sum (sig_j_m)\n",
    "        return sigma_bar_m\n",
    "\n",
    "    def get_sigma_bar_c(self):   \n",
    "        rho_bar = a_bar_f / d_bar\n",
    "        sigma_bar_c = (1 - rho_bar) * sig_bar_m + rho_bar * sig_bar_f\n",
    "        return sigma_bar_m\n",
    "\n",
    "    def get_sigma_i_c(self):   \n",
    "        sigma_i_c = (1 - rho_i) / (1 - rho_test) * sig_test_cm + rho_i / rho_test * sig_test_cf\n",
    "        return sigma_i_c\n",
    "    \n",
    "    def subplots(self, fig):\n",
    "        gs = gridspec.GridSpec(1, 2, figure=fig, width_ratios=[0.7, 0.3])\n",
    "\n",
    "        # ax2, ax3 = fig.subplots(1, 2)\n",
    "        ax_w = fig.add_subplot(gs[0, 0])\n",
    "        ax_k = ax_w.twinx()\n",
    "        ax_Fw = fig.add_subplot(gs[0, 1])\n",
    "        return ax_w, ax_k, ax_Fw\n",
    "\n",
    "    def update_plot(self, axes):\n",
    "        ax_w, ax_k, ax_Fw = axes\n",
    "        self.plot_force_displacement(ax_Fw)\n",
    "        self.plot_curvature(ax_k)\n",
    "        self.plot_displacement(ax_w)\n",
    "        mpl_align_yaxis(ax_w, 0, ax_k, 0)\n"
   ]
  },
  {
   "cell_type": "code",
   "execution_count": null,
   "metadata": {},
   "outputs": [],
   "source": [
    "\n",
    "class ResolvedModel(InteractiveModel):\n",
    "    \n",
    "    '''\n",
    "    Resolved model of a BMCS beam\n",
    "    '''\n",
    "\n",
    "    name = 'Resolved Model'\n",
    "\n",
    "    ipw_view = View(\n",
    "        Item('n_load_steps', latex='n_{\\mathrm{load~steps}}')\n",
    "    )\n",
    "    \n",
    "    def get_rho_test(self):\n",
    "        rho_test = a_f + d_test\n",
    "        return rho_test\n",
    "\n",
    "    def get_sig_test_cf(self):   \n",
    "        sig_test_cm = (1 - rho_test) * sig_test_m\n",
    "        sig_test_cf = rho_test * sig_test_f\n",
    "        sig_test_c = sig_test_cf + sig_test_cm\n",
    "        return sig_test_c\n",
    "\n",
    "    def get_sig_test_cf(self):\n",
    "        sigma_f = E_yarn_f * eps_c\n",
    "        sig_test_cf = rho_test * sigma_f\n",
    "        return sig_test_cf\n",
    "\n",
    "    def get_E_test_f(self):   \n",
    "        E_test_f = E_test_cf / rho_test\n",
    "        return E_test_f\n",
    "\n",
    "    def get_sig_test_cm(self):   \n",
    "        sig_test_cm = sig_test_c - sig_test_cf\n",
    "        return sig_test_cm\n",
    "\n",
    "    def get_eta_j(self):\n",
    "        a_bar_f = sum (a_f)\n",
    "        eta_j = a_j_f / a_bar_f\n",
    "        return eta_j\n",
    "\n",
    "    def get_sigma_bar_f(self):   \n",
    "        sigma_bar_f = sum (eta_j * sig_j_f)\n",
    "        return sigma_bar_f\n",
    "\n",
    "    def get_sigma_bar_m(self):   \n",
    "        sigma_bar_m = 1 / m * sum (sig_j_m)\n",
    "        return sigma_bar_m\n",
    "\n",
    "    def get_sigma_bar_c(self):   \n",
    "        rho_bar = a_bar_f / d_bar\n",
    "        sigma_bar_c = (1 - rho_bar) * sig_bar_m + rho_bar * sig_bar_f\n",
    "        return sigma_bar_m\n",
    "\n",
    "    def get_sigma_i_c(self):   \n",
    "        sigma_i_c = (1 - rho_i) / (1 - rho_test) * sig_test_cm + rho_i / rho_test * sig_test_cf\n",
    "        return sigma_i_c\n",
    "    \n",
    "    def subplots(self, fig):\n",
    "        gs = gridspec.GridSpec(1, 2, figure=fig, width_ratios=[0.7, 0.3])\n",
    "\n",
    "        # ax2, ax3 = fig.subplots(1, 2)\n",
    "        ax_w = fig.add_subplot(gs[0, 0])\n",
    "        ax_k = ax_w.twinx()\n",
    "        ax_Fw = fig.add_subplot(gs[0, 1])\n",
    "        return ax_w, ax_k, ax_Fw\n",
    "\n",
    "    def update_plot(self, axes):\n",
    "        ax_w, ax_k, ax_Fw = axes\n",
    "        self.plot_force_displacement(ax_Fw)\n",
    "        self.plot_curvature(ax_k)\n",
    "        self.plot_displacement(ax_w)\n",
    "        mpl_align_yaxis(ax_w, 0, ax_k, 0)\n"
   ]
  }
 ],
 "metadata": {
  "kernelspec": {
   "display_name": "Python 3",
   "language": "python",
   "name": "python3"
  },
  "language_info": {
   "codemirror_mode": {
    "name": "ipython",
    "version": 3
   },
   "file_extension": ".py",
   "mimetype": "text/x-python",
   "name": "python",
   "nbconvert_exporter": "python",
   "pygments_lexer": "ipython3",
   "version": "3.7.9"
  }
 },
 "nbformat": 4,
 "nbformat_minor": 1
}