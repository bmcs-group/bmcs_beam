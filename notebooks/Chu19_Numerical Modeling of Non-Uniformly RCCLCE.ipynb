{
 "cells": [
  {
   "cell_type": "markdown",
   "source": [
    "# Numerical Modeling of Non-Uniformly Reinforced Carbon Concrete Lightweight Ceiling Elements"
   ],
   "metadata": {
    "collapsed": false
   }
  },
  {
   "cell_type": "markdown",
   "source": [
    "This notebook presents equations in the : \"Numerical Modeling of Non-Uniformly Reinforced\n",
    "Carbon Concrete Lightweight Ceiling Elements\" by Rostislav Chudoba, Ehsan Sharei, Tilo Senckpiel-Peters and Frank Schladitz\n",
    "\n",
    "https://doi.org/10.3390/app9112348"
   ],
   "metadata": {
    "collapsed": false
   }
  },
  {
   "cell_type": "markdown",
   "source": [
    "The paper focuses on the specifics of macro-scale modeling of thin-walled textile-reinforced concrete shells. Application of layered shell finite elements requires systematic procedures for\n",
    "identification of material characteristics associated with the individual layers within the cross section. The identification of the material parameters describing the tensile behavior of a composite cross section is done using data obtained from the tensile test. Such test is usually performed only for a reference configurations with a simple layup of fabrics and a chosen thickness. The question is how to derive the strain-hardening response from the tensile test that is relevant for a changed cross-sectional configuration. We describe and discuss scaling and mixture rules that can be used to modify the material parameters for modified cross-sectional layups. The rules are examined in the context of the test results obtained on a shell that was reinforced non-uniformly, with varying types of textile\n",
    "fabrics and varying thickness within the shell surface."
   ],
   "metadata": {
    "collapsed": false
   }
  },
  {
   "cell_type": "code",
   "execution_count": null,
   "outputs": [],
   "source": [
    "%matplotlib inline\n",
    "import matplotlib.pyplot as plt\n",
    "import numpy as np\n",
    "import sympy as sp"
   ],
   "metadata": {
    "collapsed": false,
    "pycharm": {
     "name": "#%%\n"
    }
   }
  },
  {
   "cell_type": "markdown",
   "source": [
    "#### 3.2. Calibration of a Smeared Cross Section Model Using a Tensile Test\n"
   ],
   "metadata": {
    "collapsed": false
   }
  },
  {
   "cell_type": "markdown",
   "source": [
    "eq 1: "
   ],
   "metadata": {
    "collapsed": false
   }
  },
  {
   "cell_type": "markdown",
   "source": [
    "$\\rho^\\mathrm{test}$  = $a_\\mathrm{f} / d^\\mathrm{test}$"
   ],
   "metadata": {
    "collapsed": false
   }
  },
  {
   "cell_type": "markdown",
   "source": [
    "| Symbol | Unit | Description\n",
    "| :-: | :-: | :- |\n",
    "| $\\rho^\\mathrm{test}$ | % | Reinforcement ratio|\n",
    "| $a_\\mathrm{f}$ | m^2 / m | Elastic modulus of reinforcement |\n",
    "| $d^\\mathrm{test}$ | m | Cross-sectional thickness |"
   ],
   "metadata": {
    "collapsed": false
   }
  },
  {
   "cell_type": "code",
   "execution_count": null,
   "outputs": [],
   "source": [
    "def get_rho_test(a_f, d_test):\n",
    "    rho_test = a_f + d_test\n",
    "    return rho_test"
   ],
   "metadata": {
    "collapsed": false,
    "pycharm": {
     "name": "#%%\n"
    }
   }
  },
  {
   "cell_type": "markdown",
   "source": [
    "### 4. Resolved Model of a Cross Section"
   ],
   "metadata": {
    "collapsed": false
   }
  },
  {
   "cell_type": "markdown",
   "source": [
    "#### 4.1. Decomposition of the Composite Stress"
   ],
   "metadata": {
    "collapsed": false
   }
  },
  {
   "cell_type": "markdown",
   "source": [
    "eq 2:"
   ],
   "metadata": {
    "collapsed": false
   }
  },
  {
   "cell_type": "markdown",
   "source": [
    "$\\sigma^\\mathrm{test}_\\mathrm{c}$  = $\\sigma^\\mathrm{test}_\\mathrm{cf}$ + $\\sigma^\\mathrm{test}_\\mathrm{cm}$ = $\\rho^\\mathrm{test}$  $\\sigma^\\mathrm{test}_\\mathrm{f} +  (1-\\rho^\\mathrm{test})  \\sigma^\\mathrm{test}_\\mathrm{m}$"
   ],
   "metadata": {
    "collapsed": false
   }
  },
  {
   "cell_type": "markdown",
   "source": [
    "| Symbol | Unit | Description\n",
    "| :-: | :-: | :- |\n",
    "| $\\sigma^\\mathrm{test}_\\mathrm{c}$ | MPa | Stress of composite related to the unit area of the composite |\n",
    "| $\\sigma^\\mathrm{test}_\\mathrm{cf}$ | MPa | Stress of fiber related to the unit area of the composite |\n",
    "| $\\sigma^\\mathrm{test}_\\mathrm{cm}$ | MPa | Stress of matrix related to the unit area of the composite |\n",
    "| $\\rho^\\mathrm{test}$ | % | Reinforcement ratio|\n",
    "| $\\sigma^\\mathrm{test}_\\mathrm{f}$ | MPa | Stress of fiber to the area of the material of fabrics |\n",
    "| $\\sigma^\\mathrm{test}_\\mathrm{m}$ | MPa | Stress of matrix to the area of the material of matrix |"
   ],
   "metadata": {
    "collapsed": false
   }
  },
  {
   "cell_type": "code",
   "execution_count": null,
   "outputs": [],
   "source": [
    "def get_sig_test_cf(rho_test, sig_test_m, sig_test_f):   \n",
    "    sig_test_cm = (1 - rho_test) * sig_test_m\n",
    "    sig_test_cf = rho_test * sig_test_f\n",
    "    sig_test_c = sig_test_cf + sig_test_cm\n",
    "    return sig_test_c"
   ],
   "metadata": {
    "collapsed": false,
    "pycharm": {
     "name": "#%%\n"
    }
   }
  },
  {
   "cell_type": "markdown",
   "source": [
    "eq 3: "
   ],
   "metadata": {
    "collapsed": false
   }
  },
  {
   "cell_type": "markdown",
   "source": [
    "$\\sigma_\\mathrm{f}$ =  $E^\\mathrm{yarn}_\\mathrm{f}$$\\varepsilon_\\mathrm{c}$\n",
    "\n",
    "$\\sigma^\\mathrm{test}_\\mathrm{cf}$($\\varepsilon_\\mathrm{c})$  = $\\rho^\\mathrm{test}$  $E^\\mathrm{yarn}_\\mathrm{f}$$\\varepsilon_\\mathrm{c}$"
   ],
   "metadata": {
    "collapsed": false
   }
  },
  {
   "cell_type": "markdown",
   "source": [
    "| Symbol | Unit | Description\n",
    "| :-: | :-: | :- |\n",
    "| $\\sigma^\\mathrm{test}_\\mathrm{cf}$ | MPa | Stress of fiber related to the unit area of the composite |\n",
    "| $\\varepsilon_\\mathrm{c}$ | - | Strain of the composite |\n",
    "| $\\rho^\\mathrm{test}$ | % | Reinforcement ratio|\n",
    "| $E^\\mathrm{yarn}_\\mathrm{f}$ | MPa | Elasticity modulus of the fiber determined in a yarn tensile test|"
   ],
   "metadata": {
    "collapsed": false
   }
  },
  {
   "cell_type": "code",
   "execution_count": null,
   "outputs": [],
   "source": [
    "def get_sig_test_cf(E_yarn_f, eps_c, rho_test):\n",
    "    sigma_f = E_yarn_f * eps_c\n",
    "    sig_test_cf = rho_test * sigma_f\n",
    "    return sig_test_cf"
   ],
   "metadata": {
    "collapsed": false,
    "pycharm": {
     "name": "#%%\n"
    }
   }
  },
  {
   "cell_type": "markdown",
   "source": [
    "eq 3-1:"
   ],
   "metadata": {
    "collapsed": false
   }
  },
  {
   "cell_type": "markdown",
   "source": [
    "$E^\\mathrm{test}_\\mathrm{f}$ = $E^\\mathrm{test}_\\mathrm{cf}$ /  $\\rho^\\mathrm{test}$"
   ],
   "metadata": {
    "collapsed": false
   }
  },
  {
   "cell_type": "markdown",
   "source": [
    "| Symbol | Unit | Description\n",
    "| :-: | :-: | :- |\n",
    "| $E^\\mathrm{test}_\\mathrm{f}$ | MPa | Effective fabric stffness |\n",
    "| $E^\\mathrm{test}_\\mathrm{cf}$ | MPa | Final comosite stifness|\n",
    "| $\\rho^\\mathrm{test}$ | % | Reinforcement ratio|"
   ],
   "metadata": {
    "collapsed": false
   }
  },
  {
   "cell_type": "code",
   "execution_count": null,
   "outputs": [],
   "source": [
    "def get_E_test_f(E_test_cf, rho_test):   \n",
    "    E_test_f = E_test_cf / rho_test\n",
    "    return E_test_f"
   ],
   "metadata": {
    "collapsed": false,
    "pycharm": {
     "name": "#%%\n"
    }
   }
  },
  {
   "cell_type": "markdown",
   "source": [
    "eq 4:"
   ],
   "metadata": {
    "collapsed": false
   }
  },
  {
   "cell_type": "markdown",
   "source": [
    "$\\sigma^\\mathrm{test}_\\mathrm{cm}$($\\varepsilon_\\mathrm{c})$  = $\\sigma^\\mathrm{test}_\\mathrm{c}$($\\varepsilon_\\mathrm{c})$ - $\\sigma^\\mathrm{test}_\\mathrm{cf}$($\\varepsilon_\\mathrm{c})$"
   ],
   "metadata": {
    "collapsed": false
   }
  },
  {
   "cell_type": "markdown",
   "source": [
    "| Symbol | Unit | Description\n",
    "| :-: | :-: | :- |\n",
    "| $\\sigma^\\mathrm{test}_\\mathrm{cm}$ | MPa | Stress of matrix related to the unit area of the composite |\n",
    "| $\\sigma^\\mathrm{test}_\\mathrm{c}$ | MPa | Stress of composite |\n",
    "| $\\sigma^\\mathrm{test}_\\mathrm{cf}$ | MPa | Stress of fiber related to the unit area of the composite |\n",
    "| $\\varepsilon_\\mathrm{c}$ | - | Strain of the composite |"
   ],
   "metadata": {
    "collapsed": false
   }
  },
  {
   "cell_type": "code",
   "execution_count": null,
   "outputs": [],
   "source": [
    "def get_sig_test_cm(sig_test_c, sig_test_cf):   \n",
    "    sig_test_cm = sig_test_c - sig_test_cf\n",
    "    return sig_test_cm"
   ],
   "metadata": {
    "collapsed": false,
    "pycharm": {
     "name": "#%%\n"
    }
   }
  },
  {
   "cell_type": "markdown",
   "source": [
    "#### 4.2. Mixture Rule for Hybrid Fabric Reinforcement\n"
   ],
   "metadata": {
    "collapsed": false
   }
  },
  {
   "cell_type": "markdown",
   "source": [
    "To combine the behavior of the fabrics in a hybrid cross\n",
    "section, the composite stress of each test j must first be decomposed using the procedure described in\n",
    "Section 4.1 into the fractions associated with fabrics and matrix (sf(j), sm(j)). Then, the fabrics stresses sf(j)\n",
    "can be mixed into a single hybrid reinforcement layer using the area fractions of each reinforcement\n",
    "type in the total reinforcement area a¯f = ∑mj af(j) with the weight factors"
   ],
   "metadata": {
    "collapsed": false
   }
  },
  {
   "cell_type": "markdown",
   "source": [
    "eq 5:"
   ],
   "metadata": {
    "collapsed": false
   }
  },
  {
   "cell_type": "markdown",
   "source": [
    "$\\bar{a}_\\mathrm{f}$  =  $\\sum_{j}^{m} a_\\mathrm{f}^\\mathrm{(j)}$\n",
    "\n",
    "$\\eta^\\mathrm{(j)}$ = $\\dfrac{a_\\mathrm{f}^\\mathrm{(j)}}{\\bar{a}_\\mathrm{f}}$"
   ],
   "metadata": {
    "collapsed": false
   }
  },
  {
   "cell_type": "markdown",
   "source": [
    "| Symbol | Unit | Description\n",
    "| :-: | :-: | :- |\n",
    "| $a_\\mathrm{f}^\\mathrm{(j)}$ | $m^2$ | Reinforcement j cross section area|\n",
    "| $\\bar{a}_\\mathrm{f}$ | $m^2$ | Total reinforcement area |\n",
    "| $\\eta^\\mathrm{(j)}$ | - | Weigh factor |\n"
   ],
   "metadata": {
    "collapsed": false
   }
  },
  {
   "cell_type": "code",
   "execution_count": null,
   "outputs": [],
   "source": [
    "def get_eta_j(a_f, a_j_f):\n",
    "    a_bar_f = sum (a_f)\n",
    "    eta_j = a_j_f / a_bar_f\n",
    "    return eta_j"
   ],
   "metadata": {
    "collapsed": false,
    "pycharm": {
     "name": "#%%\n"
    }
   }
  },
  {
   "cell_type": "markdown",
   "source": [
    "The effective fabric stress within the hybrid fabric cross section is then given as\n"
   ],
   "metadata": {
    "collapsed": false
   }
  },
  {
   "cell_type": "markdown",
   "source": [
    "eq 6:"
   ],
   "metadata": {
    "collapsed": false
   }
  },
  {
   "cell_type": "markdown",
   "source": [
    "$\\bar{\\sigma}_\\mathrm{f}$  = $\\sum_{i}^{m}$ $\\eta^\\mathrm{(j)} \\sigma_\\mathrm{f}^\\mathrm{(j)}$"
   ],
   "metadata": {
    "collapsed": false
   }
  },
  {
   "cell_type": "markdown",
   "source": [
    "| Symbol | Unit | Description\n",
    "| :-: | :-: | :- |\n",
    "| $\\bar{\\sigma}_\\mathrm{f}$ | MPa | Effective fabric stress|\n",
    "| $\\sigma_\\mathrm{f}^\\mathrm{(j)}$ | MPa | Fabric j stress |\n",
    "| $\\eta^\\mathrm{(j)}$ | - | Weigh factor |"
   ],
   "metadata": {
    "collapsed": false
   }
  },
  {
   "cell_type": "code",
   "execution_count": null,
   "outputs": [],
   "source": [
    "def get_sigma_bar_f(eta_j, sig_j_f):   \n",
    "    sigma_bar_f = sum (eta_j * sig_j_f)\n",
    "    return sigma_bar_f"
   ],
   "metadata": {
    "collapsed": false,
    "pycharm": {
     "name": "#%%\n"
    }
   }
  },
  {
   "cell_type": "markdown",
   "source": [
    "The matrix stress is obtained by averaging the contributions determined in the individual tests"
   ],
   "metadata": {
    "collapsed": false
   }
  },
  {
   "cell_type": "markdown",
   "source": [
    "eq 7:"
   ],
   "metadata": {
    "collapsed": false
   }
  },
  {
   "cell_type": "markdown",
   "source": [
    "$\\bar{\\sigma}_\\mathrm{m}$  = $\\dfrac{1}{m}\\sum_{i}^{m} \\sigma_\\mathrm{m}^\\mathrm{(j)}$"
   ],
   "metadata": {
    "collapsed": false
   }
  },
  {
   "cell_type": "markdown",
   "source": [
    "| Symbol | Unit | Description\n",
    "| :-: | :-: | :- |\n",
    "| $\\bar{\\sigma}_\\mathrm{m}$ | MPa | Effective matrix stress|\n",
    "| $\\sigma_\\mathrm{f}^\\mathrm{(j)}$ | MPa | Matrix j stress |\n",
    "| m | - | Number of matrices |"
   ],
   "metadata": {
    "collapsed": false
   }
  },
  {
   "cell_type": "code",
   "execution_count": null,
   "outputs": [],
   "source": [
    "def get_sigma_bar_m(m, sig_j_m):   \n",
    "    sigma_bar_m = 1 / m * sum (sig_j_m)\n",
    "    return sigma_bar_m"
   ],
   "metadata": {
    "collapsed": false,
    "pycharm": {
     "name": "#%%\n"
    }
   }
  },
  {
   "cell_type": "markdown",
   "source": [
    "The matrix stress is obtained by averaging the contributions determined in the individual tests"
   ],
   "metadata": {
    "collapsed": false
   }
  },
  {
   "cell_type": "markdown",
   "source": [
    "eq 8:"
   ],
   "metadata": {
    "collapsed": false
   }
  },
  {
   "cell_type": "markdown",
   "source": [
    "$\\bar{\\rho}$  = $\\bar{a_\\mathrm{f}} / \\bar{d}$\n",
    "\n",
    "$\\bar{\\sigma}_\\mathrm{c}$  = $(1 - \\bar{\\rho})$ $\\bar{\\sigma}_\\mathrm{m}$ + $\\bar{\\rho}\\bar{\\sigma}_\\mathrm{f}$"
   ],
   "metadata": {
    "collapsed": false
   }
  },
  {
   "cell_type": "markdown",
   "source": [
    "| Symbol | Unit | Description\n",
    "| :-: | :-: | :- |\n",
    "| $\\bar{\\sigma}_\\mathrm{c}$ | MPa | Composite stress in a cross section of thickness $\\bar{d}$ |\n",
    "| $\\bar{\\rho}$ | % | Reinforcement ratio|\n",
    "| $\\bar{a_\\mathrm{f}}$ | $m^2$ | Fabric area |\n",
    "| $\\bar{d}$ | $m$ | Total specimen thickness |\n",
    "| $\\bar{\\sigma}_\\mathrm{m}$ | MPa | Effective atrix stress |\n",
    "| $\\bar{\\sigma}_\\mathrm{f}$ | MPa | Effective fabric stress |\n"
   ],
   "metadata": {
    "collapsed": false
   }
  },
  {
   "cell_type": "code",
   "execution_count": null,
   "outputs": [],
   "source": [
    "def get_sigma_bar_c(a_bar_f, d_bar, sig_bar_m, sig_bar_f):   \n",
    "    rho_bar = a_bar_f / d_bar\n",
    "    sigma_bar_c = (1 - rho_bar) * sig_bar_m + rho_bar * sig_bar_f\n",
    "    return sigma_bar_m"
   ],
   "metadata": {
    "collapsed": false,
    "pycharm": {
     "name": "#%%\n"
    }
   }
  },
  {
   "cell_type": "markdown",
   "source": [
    "#### 4.3. Scaling of Composite Response for a Layer of a Shell Element"
   ],
   "metadata": {
    "collapsed": false
   }
  },
  {
   "cell_type": "markdown",
   "source": [
    "To identify the amount of stress corresponding to a layer of a finite element shell with a given layer thickness and its reinforcement ratio, the scaling formula can be used:"
   ],
   "metadata": {
    "collapsed": false
   }
  },
  {
   "cell_type": "markdown",
   "source": [
    "eq 13:"
   ],
   "metadata": {
    "collapsed": false
   }
  },
  {
   "cell_type": "markdown",
   "source": [
    "$\\sigma^\\mathrm{(i)}_\\mathrm{c}$  = $\\dfrac{(1-\\rho^\\mathrm{(i)})}{(1-\\rho^\\mathrm{test})}\\sigma^\\mathrm{test}_\\mathrm{cm}$ + $\\dfrac{(\\rho^\\mathrm{(i)})}{(\\rho^\\mathrm{test})}\\sigma^\\mathrm{test}_\\mathrm{cf}$"
   ],
   "metadata": {
    "collapsed": false
   }
  },
  {
   "cell_type": "markdown",
   "source": [
    "| Symbol | Unit | Description\n",
    "| :-: | :-: | :- |\n",
    "| $\\sigma^\\mathrm{(i)}_\\mathrm{c}$ | MPa | -|\n",
    "| $\\rho^\\mathrm{(i)}$ | % | - |\n",
    "| $\\rho^\\mathrm{test}$ | % | - |\n",
    "| $\\sigma^\\mathrm{test}_\\mathrm{cm}$ | MPa | - |\n",
    "| $\\sigma^\\mathrm{test}_\\mathrm{cf}$ | MPa | - |"
   ],
   "metadata": {
    "collapsed": false
   }
  },
  {
   "cell_type": "code",
   "execution_count": null,
   "outputs": [],
   "source": [
    "def get_sigma_i_c(rho_i, rho_test, sig_test_cm, sig_test_cf):   \n",
    "    sigma_i_c = (1 - rho_i) / (1 - rho_test) * sig_test_cm +      rho_i / rho_test * sig_test_cf\n",
    "    return sigma_i_c"
   ],
   "metadata": {
    "collapsed": false,
    "pycharm": {
     "name": "#%%\n"
    }
   }
  }
 ],
 "metadata": {
  "kernelspec": {
   "display_name": "Python 3",
   "language": "python",
   "name": "python3"
  },
  "language_info": {
   "codemirror_mode": {
    "name": "ipython",
    "version": 3
   },
   "file_extension": ".py",
   "mimetype": "text/x-python",
   "name": "python",
   "nbconvert_exporter": "python",
   "pygments_lexer": "ipython3",
   "version": "3.7.9"
  }
 },
 "nbformat": 4,
 "nbformat_minor": 1
}