{
 "cells": [
  {
   "cell_type": "code",
   "execution_count": 12,
   "id": "cutting-classic",
   "metadata": {},
   "outputs": [
    {
     "ename": "TypeError",
     "evalue": "can't multiply sequence by non-int of type 'Add'",
     "output_type": "error",
     "traceback": [
      "\u001b[1;31m---------------------------------------------------------------------------\u001b[0m",
      "\u001b[1;31mTypeError\u001b[0m                                 Traceback (most recent call last)",
      "\u001b[1;32m<ipython-input-12-94bc4b6ad452>\u001b[0m in \u001b[0;36m<module>\u001b[1;34m\u001b[0m\n\u001b[0;32m     12\u001b[0m \u001b[1;33m\u001b[0m\u001b[0m\n\u001b[0;32m     13\u001b[0m ldr = sp.Piecewise(\n\u001b[1;32m---> 14\u001b[1;33m      \u001b[1;33m(\u001b[0m\u001b[0mK\u001b[0m\u001b[1;33m*\u001b[0m\u001b[1;33m(\u001b[0m\u001b[1;36m35\u001b[0m\u001b[1;33m+\u001b[0m\u001b[1;33m(\u001b[0m\u001b[0msl_bal_\u001b[0m\u001b[1;33m-\u001b[0m\u001b[1;36m35\u001b[0m\u001b[1;33m)\u001b[0m\u001b[1;33m*\u001b[0m\u001b[1;33m(\u001b[0m\u001b[1;33m)\u001b[0m\u001b[1;33m/\u001b[0m\u001b[1;33m(\u001b[0m\u001b[1;33m)\u001b[0m\u001b[1;33m)\u001b[0m \u001b[1;33m,\u001b[0m \u001b[0mmu_Ed_\u001b[0m \u001b[1;33m<=\u001b[0m \u001b[0mmu_Ed_bal_\u001b[0m \u001b[1;33m)\u001b[0m\u001b[1;33m,\u001b[0m\u001b[1;33m\u001b[0m\u001b[1;33m\u001b[0m\u001b[0m\n\u001b[0m\u001b[0;32m     15\u001b[0m      \u001b[1;33m(\u001b[0m\u001b[0mK\u001b[0m \u001b[1;33m,\u001b[0m \u001b[0mmu_Ed_\u001b[0m \u001b[1;33m>\u001b[0m \u001b[0mmu_Ed_bal_\u001b[0m\u001b[1;33m)\u001b[0m\u001b[1;33m\u001b[0m\u001b[1;33m\u001b[0m\u001b[0m\n\u001b[0;32m     16\u001b[0m )\n",
      "\u001b[1;31mTypeError\u001b[0m: can't multiply sequence by non-int of type 'Add'"
     ]
    }
   ],
   "source": [
    "import sympy as sp\n",
    "import numpy as np\n",
    "\n",
    "eps_fu_d, eta, f_ck, K, M_Ed, b, h, d, f_cd = sp.symbols('eps_fu_d, eta, f_ck, K, M_Ed, b,h,  d, f_cd')\n",
    "\n",
    "mu_Ed_ = M_Ed / (b*d**2*f_cd)\n",
    "mu_Ed_I_ = 0.0926*(h/d)**2/(eta*f_ck**(1/3))\n",
    "mu_Ed_bal_ = 0.8095 * (0.0035/(0.0035+eps_fu_d)) * (1-0.416 * (0.0035/(0.0035+eps_fu_d)))\n",
    "\n",
    "sl_bal_ = K * ((50-f_ck/5)*mu_Ed_bal_ + (f_ck/200 - 0.75)*(17.7 * eta - 5.6))\n",
    "\n",
    "\n",
    "ldr = sp.Piecewise(\n",
    "     (K*(35+(sl_bal_-35)*()/()) , mu_Ed_ <= mu_Ed_bal_ ),\n",
    "     (K , mu_Ed_ > mu_Ed_bal_)\n",
    ")\n",
    "\n"
   ]
  },
  {
   "cell_type": "code",
   "execution_count": null,
   "id": "comparative-distribution",
   "metadata": {},
   "outputs": [],
   "source": [
    "ldr = ldr.subs(rho_0, 0.001 * sp.sqrt(f_ck))\n",
    "get_slenderness = sp.lambdify((rho, rho_p, K , f_ck), ldr, 'numpy')\n",
    "\n",
    "rho_range = np.arange(0.0025, 0.025, 0.0001)\n",
    "f_ck_range = (20, 30, 35, 40, 50, 70)\n",
    "\n",
    "slenderness = []\n",
    "for f_ck in f_ck_range:\n",
    "    for rho in rho_range:\n",
    "        slenderness.append(get_slenderness(rho, 0,  1, f_ck))\n",
    "    plt.plot(rho_range*100, slenderness)\n",
    "    slenderness = []\n",
    "\n",
    "plt.ylim(10, 35)\n",
    "plt.xlim(0.25, 2.5)\n",
    "plt.ylabel('l/d')\n",
    "plt.xlabel(r'$\\rho$ %')\n",
    "plt.title('7.16a & 7.16b curve')\n",
    "plt.show()"
   ]
  }
 ],
 "metadata": {
  "kernelspec": {
   "display_name": "Python 3",
   "language": "python",
   "name": "python3"
  },
  "language_info": {
   "codemirror_mode": {
    "name": "ipython",
    "version": 3
   },
   "file_extension": ".py",
   "mimetype": "text/x-python",
   "name": "python",
   "nbconvert_exporter": "python",
   "pygments_lexer": "ipython3",
   "version": "3.9.1"
  }
 },
 "nbformat": 4,
 "nbformat_minor": 5
}
