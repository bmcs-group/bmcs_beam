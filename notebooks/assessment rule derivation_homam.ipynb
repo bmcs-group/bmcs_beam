{
 "cells": [
  {
   "cell_type": "markdown",
   "metadata": {},
   "source": [
    "# Assessment Rule Derivation\n",
    "This notebook presents the procedure of assessment rule derivation for the maximum deflection of carbon concrete elements consistent with EC2"
   ]
  },
  {
   "cell_type": "markdown",
   "metadata": {},
   "source": [
    "Based on section 7.4.2 of the EC2 (Nachweis der Begrenzung der Verformungen ohne direkte Berechnung; Cases where calculations may be omitted)"
   ]
  },
  {
   "cell_type": "markdown",
   "metadata": {},
   "source": [
    "##### eq (7.16.a): "
   ]
  },
  {
   "cell_type": "markdown",
   "metadata": {},
   "source": [
    "$$\\dfrac{l}{d} = K.\\left[11+1.5\\sqrt{f_{ck}}\\dfrac{\\rho_0}{\\rho} + 3.2\\sqrt{f_{ck}}.\\sqrt{\\left(\\dfrac{\\rho_0}{\\rho} - 1\\right)^3}\\right] \\mathrm{if} \\rho \\leq \\rho_0$$"
   ]
  },
  {
   "cell_type": "markdown",
   "metadata": {},
   "source": [
    "$$ \\dfrac{l}{d} = K.\\left[11+1.5\\sqrt{f_{ck}}\\dfrac{\\rho_0}{\\rho- \\rho^\\prime} + \\dfrac{1}{12}\\sqrt[2]{f_{ck}}.\\sqrt{(\\dfrac{\\rho^\\prime}{\\rho_0})}\\right] \\mathrm{if} \\rho > \\rho_0 $$"
   ]
  },
  {
   "cell_type": "markdown",
   "metadata": {},
   "source": [
    "| Symbol | Unit | Description\n",
    "| :-: | :-: | :- |\n",
    "| $\\dfrac{l}{d}$ | - | the limit value of the bending slenderness (ratio of span to effective height) |\n",
    "| K | - | the coefficient for consideration of the different static systems according to Table 7.4N |\n",
    "| $\\rho_0$ | - | the reference reinforcement ratio, $\\rho_0 = 10^{-3}.\\sqrt{f_{ck}}$ |\n",
    "| $\\rho$ | - | the required ratio of tensile reinforcement in the center of the span to resist the design moment (at the restraint section for cantilever beams) |\n",
    "| $\\rho^\\prime$ | - | the required ratio of compression reinforcement in the center of the span to resist the design moment (at the restraint section for cantilever beams) |\n",
    "| $f_{ck}$ | Mpa | the Characteristic cylinder compressive strength of the concrete after 28 days |"
   ]
  },
  {
   "cell_type": "code",
   "execution_count": 1,
   "metadata": {},
   "outputs": [],
   "source": [
    "%matplotlib widget\n",
    "import matplotlib.pyplot as plt\n",
    "from ipywidgets import interact, interactive, fixed, interact_manual\n",
    "import ipywidgets as widgets\n",
    "from sympy import symbols\n",
    "from sympy.plotting import plot\n",
    "import sympy as sp\n",
    "import numpy as np\n",
    "import bmcs_utils.api as bu"
   ]
  },
  {
   "cell_type": "code",
   "execution_count": 2,
   "metadata": {},
   "outputs": [],
   "source": [
    "K, rho_0, rho, rho_p, f_ck = symbols(r'K, \\rho_0, \\rho,\\rho^\\prime, f_{ck}', real=True, nonnegative=True)"
   ]
  },
  {
   "cell_type": "code",
   "execution_count": 3,
   "metadata": {
    "pycharm": {
     "name": "#%%\n"
    },
    "scrolled": true
   },
   "outputs": [
    {
     "data": {
      "text/latex": [
       "$\\displaystyle \\begin{cases} K \\left(3.2 f_{ck}^{0.5} \\left(-1 + \\frac{\\rho_0}{\\rho}\\right)^{1.5} + 11 + \\frac{1.5 \\rho_0 f_{ck}^{0.5}}{\\rho}\\right) & \\text{for}\\: \\rho \\leq \\rho_0 \\\\K \\left(\\frac{0.0833333333333333 \\left(\\rho^\\prime\\right)^{0.5} f_{ck}^{0.5}}{\\rho_0^{0.5}} + \\frac{1.5 \\rho_0 f_{ck}^{0.5}}{\\rho - \\rho^\\prime} + 11\\right) & \\text{otherwise} \\end{cases}$"
      ],
      "text/plain": [
       "Piecewise((K*(3.2*f_{ck}**0.5*(-1 + \\rho_0/\\rho)**1.5 + 11 + 1.5*\\rho_0*f_{ck}**0.5/\\rho), \\rho <= \\rho_0), (K*(0.0833333333333333*\\rho^\\prime**0.5*\\rho_0**(-0.5)*f_{ck}**0.5 + 1.5*\\rho_0*f_{ck}**0.5/(\\rho - \\rho^\\prime) + 11), True))"
      ]
     },
     "execution_count": 3,
     "metadata": {},
     "output_type": "execute_result"
    }
   ],
   "source": [
    "ldr = sp.Piecewise(\n",
    "     (K*(11 + 1.5*((f_ck)**0.5)*(rho_0/rho) + 3.2*((f_ck)**0.5)*((rho_0/rho - 1)**(3/2))) , rho <= rho_0 ),\n",
    "     (K*(11 + 1.5*((f_ck)**0.5)*(rho_0/(rho - rho_p)) +  (1/12)*(f_ck**0.5)*((rho_p/rho_0)**0.5)) , rho > rho_0)\n",
    ")\n",
    "ldr"
   ]
  },
  {
   "cell_type": "code",
   "execution_count": 4,
   "metadata": {},
   "outputs": [],
   "source": [
    "ldr = ldr.subs(rho_0, 0.001 * sp.sqrt(f_ck))\n",
    "get_slenderness = sp.lambdify((rho, rho_p, K , f_ck), ldr, 'numpy')"
   ]
  },
  {
   "cell_type": "code",
   "execution_count": 5,
   "metadata": {
    "pycharm": {
     "name": "#%%\n"
    },
    "scrolled": false
   },
   "outputs": [
    {
     "name": "stderr",
     "output_type": "stream",
     "text": [
      "<lambdifygenerated-1>:2: RuntimeWarning: invalid value encountered in double_scalars\n",
      "  return (select([less_equal(Dummy_168, 0.001*sqrt(Dummy_166)),True], [K*(3.2*sqrt(Dummy_166)*(0.001*sqrt(Dummy_166)/Dummy_168 - 1)**1.5 + 0.0015*Dummy_166**1.0/Dummy_168 + 11),K*(2.63523138347365*Dummy_166**0.25*sqrt(Dummy_167) + 0.0015*Dummy_166**1.0/(-Dummy_167 + Dummy_168) + 11)], default=nan))\n"
     ]
    },
    {
     "data": {
      "application/vnd.jupyter.widget-view+json": {
       "model_id": "4d64bd4d2bb846dc8b0a8e6a54c96a0d",
       "version_major": 2,
       "version_minor": 0
      },
      "text/plain": [
       "Canvas(toolbar=Toolbar(toolitems=[('Home', 'Reset original view', 'home', 'home'), ('Back', 'Back to previous …"
      ]
     },
     "metadata": {},
     "output_type": "display_data"
    },
    {
     "name": "stderr",
     "output_type": "stream",
     "text": [
      "<lambdifygenerated-1>:2: RuntimeWarning: invalid value encountered in double_scalars\n",
      "  return (select([less_equal(Dummy_168, 0.001*sqrt(Dummy_166)),True], [K*(3.2*sqrt(Dummy_166)*(0.001*sqrt(Dummy_166)/Dummy_168 - 1)**1.5 + 0.0015*Dummy_166**1.0/Dummy_168 + 11),K*(2.63523138347365*Dummy_166**0.25*sqrt(Dummy_167) + 0.0015*Dummy_166**1.0/(-Dummy_167 + Dummy_168) + 11)], default=nan))\n",
      "<lambdifygenerated-1>:2: RuntimeWarning: invalid value encountered in double_scalars\n",
      "  return (select([less_equal(Dummy_168, 0.001*sqrt(Dummy_166)),True], [K*(3.2*sqrt(Dummy_166)*(0.001*sqrt(Dummy_166)/Dummy_168 - 1)**1.5 + 0.0015*Dummy_166**1.0/Dummy_168 + 11),K*(2.63523138347365*Dummy_166**0.25*sqrt(Dummy_167) + 0.0015*Dummy_166**1.0/(-Dummy_167 + Dummy_168) + 11)], default=nan))\n",
      "<lambdifygenerated-1>:2: RuntimeWarning: invalid value encountered in double_scalars\n",
      "  return (select([less_equal(Dummy_168, 0.001*sqrt(Dummy_166)),True], [K*(3.2*sqrt(Dummy_166)*(0.001*sqrt(Dummy_166)/Dummy_168 - 1)**1.5 + 0.0015*Dummy_166**1.0/Dummy_168 + 11),K*(2.63523138347365*Dummy_166**0.25*sqrt(Dummy_167) + 0.0015*Dummy_166**1.0/(-Dummy_167 + Dummy_168) + 11)], default=nan))\n",
      "<lambdifygenerated-1>:2: RuntimeWarning: invalid value encountered in double_scalars\n",
      "  return (select([less_equal(Dummy_168, 0.001*sqrt(Dummy_166)),True], [K*(3.2*sqrt(Dummy_166)*(0.001*sqrt(Dummy_166)/Dummy_168 - 1)**1.5 + 0.0015*Dummy_166**1.0/Dummy_168 + 11),K*(2.63523138347365*Dummy_166**0.25*sqrt(Dummy_167) + 0.0015*Dummy_166**1.0/(-Dummy_167 + Dummy_168) + 11)], default=nan))\n",
      "<lambdifygenerated-1>:2: RuntimeWarning: invalid value encountered in double_scalars\n",
      "  return (select([less_equal(Dummy_168, 0.001*sqrt(Dummy_166)),True], [K*(3.2*sqrt(Dummy_166)*(0.001*sqrt(Dummy_166)/Dummy_168 - 1)**1.5 + 0.0015*Dummy_166**1.0/Dummy_168 + 11),K*(2.63523138347365*Dummy_166**0.25*sqrt(Dummy_167) + 0.0015*Dummy_166**1.0/(-Dummy_167 + Dummy_168) + 11)], default=nan))\n"
     ]
    }
   ],
   "source": [
    "import matplotlib.pyplot as plt\n",
    "%matplotlib widget\n",
    "\n",
    "rho_range = np.arange(0.0025, 0.025, 0.0001)\n",
    "f_ck_range = (20, 30, 35, 40, 50, 70)\n",
    "\n",
    "slenderness = []\n",
    "for f_ck in f_ck_range:\n",
    "    for rho in rho_range:\n",
    "        slenderness.append(get_slenderness(rho, 0,  1, f_ck))\n",
    "    plt.plot(rho_range*100, slenderness)\n",
    "    slenderness = []\n",
    "\n",
    "plt.ylim(10, 35)\n",
    "plt.xlim(0.25, 2.5)\n",
    "plt.ylabel('l/d')\n",
    "plt.xlabel(r'$\\rho$ %')\n",
    "plt.title('7.16a & 7.16b curve')\n",
    "plt.show()"
   ]
  },
  {
   "attachments": {
    "7_16%20equation.jpg": {
     "image/jpeg": "[encoded data removed]"
    }
   },
   "cell_type": "markdown",
   "metadata": {
    "pycharm": {
     "name": "#%% md\n"
    }
   },
   "source": [
    "![7_16%20equation.jpg](attachment:7_16%20equation.jpg)"
   ]
  },
  {
   "cell_type": "markdown",
   "metadata": {},
   "source": [
    "### Load-Deflection profle analysis"
   ]
  },
  {
   "attachments": {
    "SLS%20criterion%20proposal.jpg": {
     "image/jpeg": "[encoded data removed]"
    }
   },
   "cell_type": "markdown",
   "metadata": {
    "pycharm": {
     "name": "#%% md\n"
    }
   },
   "source": [
    "![SLS%20criterion%20proposal.jpg](attachment:SLS%20criterion%20proposal.jpg)"
   ]
  },
  {
   "cell_type": "markdown",
   "metadata": {},
   "source": [
    "| Symbol | Unit | Description\n",
    "| :-: | :-: | :- |\n",
    "| $F_{s}$ | - | the SLS strength |\n",
    "| $F_{u}$ | - | the strength between SLS limit and ULS |\n",
    "| $w_{s}$ | - | the SLS deflection |\n",
    "| $w_{u}$ | - | the deflection between SLS limit and ULS |  "
   ]
  },
  {
   "attachments": {
    "eta%20xi.jpg": {
     "image/jpeg": "[encoded data removed]"
    }
   },
   "cell_type": "markdown",
   "metadata": {
    "pycharm": {
     "name": "#%% md\n"
    }
   },
   "source": [
    "![eta%20xi.jpg](attachment:eta%20xi.jpg)"
   ]
  },
  {
   "cell_type": "code",
   "execution_count": 6,
   "metadata": {},
   "outputs": [],
   "source": [
    "from bmcs_cross_section.mkappa.mkappa import MKappa, ReinforcementType\n",
    "from bmcs_cross_section.cs_design.cs_layout import Reinforcement\n",
    "from bmcs_beam.beam_config.boundary_conditions import BoundaryConditions, BoundaryConfig\n",
    "from bmcs_beam.bending.deflection_profile import DeflectionProfile\n",
    "from bmcs_beam.beam_config.beam_design import BeamDesign\n",
    "from bmcs_cross_section.cs_design.cs_shape import TShape\n",
    "from os.path import join\n",
    "import numpy as np\n",
    "import pandas as pd\n",
    "import sympy as sp\n",
    "import matplotlib.pyplot as plt\n",
    "import bmcs_utils.api as bu\n",
    "from mpl_toolkits import mplot3d\n",
    "\n",
    "def map_params(mc, B, H, eps_tu, E_cc, E_ct, eps_cr, eps_cy, mu, eps_cu):\n",
    "    mc.cross_section_shape.B=B\n",
    "    mc.cross_section_shape.H=H\n",
    "    mc.E_cc=E_cc\n",
    "    mc.E_ct=E_ct\n",
    "    mc.mu=mu\n",
    "    mc.eps_cr=eps_cr\n",
    "    mc.eps_cy=eps_cy\n",
    "    mc.eps_cu=eps_cu\n",
    "    mc.eps_tu=eps_tu\n",
    "    \n",
    "def map_and_assign_params_for_rectangular_section(\n",
    "        mc, # MKappa instance for which the params should be applied\n",
    "        b, h, E, E_s, f_sy, eps_cr, rho, beta_tu, v_f, omega, psi, mu, alpha, lambda_cu):\n",
    "    \"\"\"This function map the params of the rectangular section from the type of the paper\n",
    "    to the type of the model and assigns the values\"\"\"\n",
    "    mc.cross_section_shape.B=b\n",
    "    mc.cross_section_shape.H=h\n",
    "    mc.E_cc=E\n",
    "    mc.E_ct=E \n",
    "    mc.mu=mu\n",
    "    mc.eps_cr=eps_cr\n",
    "    mc.eps_cy=omega * eps_cr\n",
    "    mc.eps_cu=lambda_cu * eps_cr\n",
    "    mc.eps_tu=beta_tu * eps_cr\n",
    "    mc.cross_section_layout.reinforcement = [Reinforcement(\n",
    "                                                eps_sy=f_sy / E_s, # or eps_sy_j=psi * eps_cr,\n",
    "                                                E=E_s,\n",
    "                                                z=h * (1 - alpha),\n",
    "                                                A=rho * b * alpha * h)]"
   ]
  },
  {
   "cell_type": "markdown",
   "metadata": {},
   "source": [
    "## Testing for Steel\n",
    "#### 2. Verification with Gribniak et al. (2012), https://doi.org/10.1016/j.engstruct.2012.04.032, Steel reinforcement"
   ]
  },
  {
   "cell_type": "code",
   "execution_count": 7,
   "metadata": {},
   "outputs": [
    {
     "data": {
      "application/vnd.jupyter.widget-view+json": {
       "model_id": "0451cbd206e64e978f2d7956d231dea3",
       "version_major": 2,
       "version_minor": 0
      },
      "text/plain": [
       "VBox(children=(Output(), Tab(children=(VBox(children=(GridBox(children=(IntText(value=31, description='\\\\(n_{\\…"
      ]
     },
     "metadata": {},
     "output_type": "display_data"
    }
   ],
   "source": [
    "mc_params = dict(\n",
    "            reinforcement_type= ReinforcementType.STEEL,\n",
    "            n_m=100,\n",
    "            n_kappa = 100,\n",
    "            kappa_slider = 0.000001,\n",
    "            low_kappa = 0,\n",
    "            high_kappa =  0.00002, # 12e-6,\n",
    "            eps_tu = 0.002508,\n",
    "            E_cc = 34000,\n",
    "            E_ct = 34000,\n",
    "            eps_cr = 0.000132,\n",
    "            eps_cy = 0.0015312,\n",
    "            mu = 0.0,            # I changed this to zero\n",
    "            eps_cu = 0.003498)\n",
    "\n",
    "mc = MKappa(**mc_params)\n",
    "\n",
    "# mc.cross_section_shape.B =284\n",
    "# mc.cross_section_shape.H =298\n",
    "# mc.cross_section_layout.reinforcement = [Reinforcement(eps_sy=560/203000, E=203000, z=26.82, A=231.04536)]\n",
    "\n",
    "b = 300\n",
    "h = 300\n",
    "mc.cross_section_shape.B = b\n",
    "mc.cross_section_shape.H = h\n",
    "rho = 0.01\n",
    "\n",
    "mc.cross_section_layout.reinforcement = [Reinforcement(eps_sy=500/203000, E=203000, z=25, A=rho * b * (h - 25))]\n",
    "\n",
    "dp = DeflectionProfile(mc=mc)\n",
    "dp.beam_design.beam_conf_name = BoundaryConfig.FOUR_PB\n",
    "dp.beam_design.L = 6000\n",
    "\n",
    "bu.InteractiveWindow([dp, \n",
    "                      dp.beam_design, \n",
    "                      dp.mc, \n",
    "                      dp.mc.cs_design.cross_section_shape, \n",
    "                      dp.mc.cs_design.cross_section_layout], tight_layout=True).interact()"
   ]
  },
  {
   "cell_type": "code",
   "execution_count": 8,
   "metadata": {
    "scrolled": false
   },
   "outputs": [
    {
     "data": {
      "application/vnd.jupyter.widget-view+json": {
       "model_id": "5c2f6361e3ba458e9c0091fc87460928",
       "version_major": 2,
       "version_minor": 0
      },
      "text/plain": [
       "Canvas(toolbar=Toolbar(toolitems=[('Home', 'Reset original view', 'home', 'home'), ('Back', 'Back to previous …"
      ]
     },
     "metadata": {},
     "output_type": "display_data"
    },
    {
     "name": "stdout",
     "output_type": "stream",
     "text": [
      "parameter combination 0.0025 10.0\n",
      "parameter combination 0.0025 15.0\n",
      "parameter combination 0.0025 20.0\n",
      "parameter combination 0.0025 25.0\n",
      "parameter combination 0.0025 30.0\n",
      "parameter combination 0.0025 35.0\n",
      "parameter combination 0.007000000000000001 10.0\n",
      "parameter combination 0.007000000000000001 15.0\n",
      "parameter combination 0.007000000000000001 20.0\n",
      "parameter combination 0.007000000000000001 25.0\n",
      "parameter combination 0.007000000000000001 30.0\n",
      "parameter combination 0.007000000000000001 35.0\n",
      "parameter combination 0.011500000000000002 10.0\n",
      "parameter combination 0.011500000000000002 15.0\n",
      "parameter combination 0.011500000000000002 20.0\n",
      "parameter combination 0.011500000000000002 25.0\n",
      "parameter combination 0.011500000000000002 30.0\n",
      "parameter combination 0.011500000000000002 35.0\n",
      "parameter combination 0.016 10.0\n",
      "parameter combination 0.016 15.0\n",
      "parameter combination 0.016 20.0\n",
      "parameter combination 0.016 25.0\n",
      "parameter combination 0.016 30.0\n",
      "parameter combination 0.016 35.0\n",
      "parameter combination 0.0205 10.0\n",
      "parameter combination 0.0205 15.0\n",
      "parameter combination 0.0205 20.0\n",
      "parameter combination 0.0205 25.0\n",
      "parameter combination 0.0205 30.0\n",
      "parameter combination 0.0205 35.0\n",
      "parameter combination 0.025 10.0\n",
      "parameter combination 0.025 15.0\n",
      "parameter combination 0.025 20.0\n",
      "parameter combination 0.025 25.0\n",
      "parameter combination 0.025 30.0\n",
      "parameter combination 0.025 35.0\n"
     ]
    }
   ],
   "source": [
    "rho_range = np.linspace(0.0025, 0.025, 6)\n",
    "slenderness_range = np.linspace(10, 35, 6)\n",
    "\n",
    "d = mc.cross_section_shape.H -  mc.cross_section_layout.reinforcement[0].z\n",
    "b = mc.cross_section_shape.B\n",
    "area_g = b * d\n",
    "\n",
    "rho_grid, sl_grid = np.meshgrid(rho_range, slenderness_range) \n",
    "F_u_grid = np.zeros_like(rho_grid)\n",
    "F_s_grid = np.zeros_like(rho_grid)\n",
    "\n",
    "_ , ax = plt.subplots()\n",
    "ax.set_xlabel(r'$w$ [mm]')\n",
    "ax.set_ylabel(r'$F$ [KN]')\n",
    "        \n",
    "for sl_idx in range(0,len(slenderness_range)):\n",
    "    for rho_idx in range(0,len(rho_range)):      \n",
    "        rho = rho_grid[rho_idx, sl_idx]\n",
    "        sl = sl_grid[rho_idx, sl_idx]\n",
    "\n",
    "        print('parameter combination', rho, sl)\n",
    "\n",
    "        # assigning the grid area (area_g) to the reinforcement area variable\n",
    "        A_j_g = rho * area_g\n",
    "        dp.mc.cross_section_layout.reinforcement[0].A = A_j_g\n",
    "\n",
    "        # assigning the grid length (L_g) to the beam length variable\n",
    "        L_g = sl * d\n",
    "        dp.beam_design.L = L_g\n",
    "\n",
    "        # running the deflection analysis \n",
    "        F_data, w_data = dp.get_Fw()\n",
    "        \n",
    "        # plotting, post-processing & saving the data\n",
    "        ax.plot(w_data, F_data/1000, label = \"rho={}%-sl={} \".format(rho * 100, sl))\n",
    "        \n",
    "        w_s = dp.beam_design.L / 250\n",
    "        w_max = max(w_data)\n",
    "        w_u = max(w_data) - w_s\n",
    "        F_s = np.interp(w_s, w_data, F_data)\n",
    "        F_max = max(F_data)\n",
    "        F_u = max(F_data) - F_s\n",
    "\n",
    "        F_u_grid[rho_idx,sl_idx] = F_u\n",
    "        F_s_grid[rho_idx,sl_idx] = F_s"
   ]
  },
  {
   "cell_type": "code",
   "execution_count": 9,
   "metadata": {},
   "outputs": [],
   "source": [
    "# np.save('F_u_grid_steel_with_material_factors.npy', F_u_grid)\n",
    "# np.save('F_s_grid_steel_with_material_factors.npy', F_s_grid)\n",
    "np.save('F_u_grid_steel.npy', F_u_grid)\n",
    "np.save('F_s_grid_steel.npy', F_s_grid)"
   ]
  },
  {
   "cell_type": "code",
   "execution_count": null,
   "metadata": {},
   "outputs": [],
   "source": [
    "# This cell is for loading results later if needed\n",
    "# rho_range = np.linspace(0.0025, 0.025, 8)\n",
    "# slenderness_range = np.linspace(10, 35, 8)\n",
    "# rho_grid, sl_grid = np.meshgrid(rho_range, slenderness_range) \n",
    "# F_u_grid = np.load('F_u_grid_steel_with.npy')\n",
    "# F_s_grid = np.load('F_s_grid_steel_with.npy')"
   ]
  },
  {
   "cell_type": "code",
   "execution_count": 24,
   "metadata": {},
   "outputs": [
    {
     "data": {
      "application/vnd.jupyter.widget-view+json": {
       "model_id": "8addfc302e2d454396847e2f2986afae",
       "version_major": 2,
       "version_minor": 0
      },
      "text/plain": [
       "Canvas(toolbar=Toolbar(toolitems=[('Home', 'Reset original view', 'home', 'home'), ('Back', 'Back to previous …"
      ]
     },
     "metadata": {},
     "output_type": "display_data"
    },
    {
     "name": "stderr",
     "output_type": "stream",
     "text": [
      "<lambdifygenerated-1>:2: RuntimeWarning: invalid value encountered in double_scalars\n",
      "  return (select([less_equal(Dummy_168, 0.001*sqrt(Dummy_166)),True], [K*(3.2*sqrt(Dummy_166)*(0.001*sqrt(Dummy_166)/Dummy_168 - 1)**1.5 + 0.0015*Dummy_166**1.0/Dummy_168 + 11),K*(2.63523138347365*Dummy_166**0.25*sqrt(Dummy_167) + 0.0015*Dummy_166**1.0/(-Dummy_167 + Dummy_168) + 11)], default=nan))\n"
     ]
    },
    {
     "data": {
      "text/plain": [
       "[<matplotlib.lines.Line2D at 0x1a941585610>]"
      ]
     },
     "execution_count": 24,
     "metadata": {},
     "output_type": "execute_result"
    }
   ],
   "source": [
    "_, ax = plt.subplots(1,1)\n",
    "# z = F_u_grid/F_s_grid -1\n",
    "z = (F_s_grid + F_u_grid) / F_s_grid - 1.5\n",
    "\n",
    "CS = ax.contour(rho_grid, sl_grid, z , levels=[0.])\n",
    "ax.clabel(CS, inline=1, fontsize=10)\n",
    "ax.set_ylabel('L/d')\n",
    "ax.set_xlabel(r'$\\rho$ %')\n",
    "ax.set_ylim(10, 35)\n",
    "ax.set_xlim(0.0025, 0.025)\n",
    "\n",
    "# Draw C50 curve\n",
    "rho_range = np.arange(0.0025, 0.025, 0.0001)\n",
    "f_ck = 50\n",
    "slenderness = []\n",
    "for rho in rho_range:\n",
    "    slenderness.append(get_slenderness(rho, 0,  1, f_ck))\n",
    "ax.plot(rho_range, slenderness)"
   ]
  },
  {
   "cell_type": "code",
   "execution_count": null,
   "metadata": {},
   "outputs": [],
   "source": [
    "# from mpl_toolkits import mplot3d\n",
    "# # %matplotlib widget\n",
    "# # import numpy as np\n",
    "# import matplotlib.pyplot as plt\n",
    "# # excel_file = join('./verification_data','assessmentruledata.xlsx')\n",
    "# # df = data = pd.read_excel(excel_file)\n",
    "\n",
    "# # fig, ax = plt.subplots(nrows=1, ncols=1, figsize=(8 , 8))\n",
    "\n",
    "# # X, Y = np.meshgrid(df['sl'], df['rho'])\n",
    "# # FU, FS = np.meshgrid(df['F_u'], df['F_s'])\n",
    "# # WU, WS = np.meshgrid(df['w_u'], df['w_s'])\n",
    "\n",
    "# # Z = np.array(FU / FS)\n",
    "\n",
    "# # fig = plt.figure()\n",
    "# ax = plt.axes(projection='3d')\n",
    "# ax.contour3D(sl_grid, rho_grid, F_u_grid/F_s_grid - 1, 500, cmap='rainbow')\n",
    "# ax.set_xlabel('L/d')\n",
    "# ax.set_ylabel(r'$\\rho$')\n",
    "# ax.set_zlabel('Fu/Fs')\n",
    "# ax.set_title('Deflection Assessment Rule')\n",
    "# plt.show()"
   ]
  },
  {
   "cell_type": "markdown",
   "metadata": {},
   "source": [
    "## Testing for Carbon\n",
    "#### 1. Verification with Heid et al. (2020), [link](https://www.heringinternational.com/fileadmin/media/archive1/downloads/architekturbeton/Bauingenieur_06_2020_S.210-219.pdf), Carbon reinforcement\n"
   ]
  },
  {
   "cell_type": "code",
   "execution_count": 8,
   "metadata": {},
   "outputs": [],
   "source": [
    "# Testing for Carbon\n",
    "# HB-SU-0\n",
    "E = 39500\n",
    "\n",
    "# from bending test from σ_c,Riss\n",
    "eps_cr = ((6.365 + 6.306 + 5.635 + 5.627 + 5.452 + 5.627)/6)/E\n",
    "\n",
    "mc = MKappa(reinforcement_type= ReinforcementType.CARBON,\n",
    "            low_kappa = 0,\n",
    "            high_kappa = 0.0007,\n",
    "            E_cc = E,\n",
    "            E_ct = E,\n",
    "            eps_cr = eps_cr, # 0.000163\n",
    "            eps_tu = 9.02/E, # beta_tu = 20\n",
    "            eps_cy = 72/E, # omega = 10.0\n",
    "            eps_cu = (72/E)*2, # lambda_cu = 20\n",
    "            mu = 0.0)\n",
    "\n",
    "mc.cross_section_shape.B = 45\n",
    "mc.cross_section_shape.H = 30\n",
    "mc.cross_section_layout.reinforcement = [Reinforcement(eps_sy=2712/240000, E=240000, z=8, A=3.62),\n",
    "                                         Reinforcement(eps_sy=2712/240000, E=240000, z=22, A=3.62),]\n",
    "\n",
    "dp = DeflectionProfile(mc=mc)\n",
    "\n",
    "dp.beam_design.beam_conf_name = BoundaryConfig.FOUR_PB\n",
    "dp.beam_design.beam_conf_name.first_load_distance = 320\n",
    "dp.beam_design.L = 840"
   ]
  },
  {
   "cell_type": "code",
   "execution_count": 15,
   "metadata": {
    "pycharm": {
     "name": "#%%\n"
    }
   },
   "outputs": [
    {
     "name": "stdout",
     "output_type": "stream",
     "text": [
      "parameter combination 0.0025 10.0\n",
      "parameter combination 0.0025 15.0\n",
      "parameter combination 0.0025 20.0\n",
      "parameter combination 0.0025 25.0\n",
      "parameter combination 0.0025 30.0\n",
      "parameter combination 0.0025 35.0\n",
      "parameter combination 0.007000000000000001 10.0\n",
      "parameter combination 0.007000000000000001 15.0\n",
      "parameter combination 0.007000000000000001 20.0\n",
      "parameter combination 0.007000000000000001 25.0\n",
      "parameter combination 0.007000000000000001 30.0\n",
      "parameter combination 0.007000000000000001 35.0\n",
      "parameter combination 0.011500000000000002 10.0\n",
      "parameter combination 0.011500000000000002 15.0\n",
      "parameter combination 0.011500000000000002 20.0\n",
      "parameter combination 0.011500000000000002 25.0\n",
      "parameter combination 0.011500000000000002 30.0\n",
      "parameter combination 0.011500000000000002 35.0\n",
      "parameter combination 0.016 10.0\n",
      "parameter combination 0.016 15.0\n",
      "parameter combination 0.016 20.0\n",
      "parameter combination 0.016 25.0\n",
      "parameter combination 0.016 30.0\n",
      "parameter combination 0.016 35.0\n",
      "parameter combination 0.0205 10.0\n",
      "parameter combination 0.0205 15.0\n",
      "parameter combination 0.0205 20.0\n",
      "parameter combination 0.0205 25.0\n",
      "parameter combination 0.0205 30.0\n",
      "parameter combination 0.0205 35.0\n",
      "parameter combination 0.025 10.0\n",
      "parameter combination 0.025 15.0\n",
      "parameter combination 0.025 20.0\n",
      "parameter combination 0.025 25.0\n",
      "parameter combination 0.025 30.0\n",
      "parameter combination 0.025 35.0\n"
     ]
    }
   ],
   "source": [
    "rho_range = np.linspace(0.0025, 0.025, 6)\n",
    "slenderness_range = np.linspace(10, 35, 6)\n",
    "\n",
    "d = mc.cross_section_shape.H -  mc.cross_section_layout.reinforcement[0].z\n",
    "b = mc.cross_section_shape.B\n",
    "area_g = b * d\n",
    "\n",
    "rho_grid, sl_grid = np.meshgrid(rho_range, slenderness_range) \n",
    "F_u_grid = np.zeros_like(rho_grid)\n",
    "F_s_grid = np.zeros_like(rho_grid)\n",
    "\n",
    "for sl_idx in range(0,len(slenderness_range)):\n",
    "    for rho_idx in range(0,len(rho_range)):      \n",
    "        rho = rho_grid[rho_idx, sl_idx]\n",
    "        sl = sl_grid[rho_idx, sl_idx]\n",
    "\n",
    "        print('parameter combination', rho, sl)\n",
    "\n",
    "        # assigning the grid area (area_g) to the reinforcement area variable\n",
    "        A_j_g = rho * area_g\n",
    "        dp.mc.cross_section_layout.reinforcement[0].A = A_j_g\n",
    "\n",
    "        # assigning the grid length (L_g) to the beam length variable\n",
    "        L_g = sl * d\n",
    "        dp.beam_design.L = L_g\n",
    "\n",
    "        # running the deflection analysis \n",
    "        F_data, w_data = dp.get_Fw()\n",
    "        \n",
    "        # plotting, post-processing & saving the data\n",
    "        plt.plot(w_data, F_data/1000, label = \"rho={}%-sl={} \".format(rho * 100, sl))\n",
    "        plt.xlabel(r'$w$ [mm]')\n",
    "        plt.ylabel(r'$F$ [KN]')\n",
    "        plt.show()\n",
    "        \n",
    "        w_s = dp.beam_design.L / 250\n",
    "        w_max = max(w_data)\n",
    "        w_u = max(w_data) - w_s\n",
    "        F_s = np.interp(w_s, w_data, F_data)\n",
    "        F_max = max(F_data)\n",
    "        F_u = max(F_data) - F_s\n",
    "\n",
    "        F_u_grid[rho_idx,sl_idx] = F_u\n",
    "        F_s_grid[rho_idx,sl_idx] = F_s"
   ]
  },
  {
   "cell_type": "code",
   "execution_count": 16,
   "metadata": {
    "pycharm": {
     "name": "#%%\n"
    }
   },
   "outputs": [],
   "source": [
    "np.save('F_u_grid_carbon.npy', F_u_grid)\n",
    "np.save('F_s_grid_carbon.npy', F_s_grid)"
   ]
  },
  {
   "cell_type": "code",
   "execution_count": 14,
   "metadata": {},
   "outputs": [],
   "source": [
    "# This cell is for loading results later if needed\n",
    "rho_range = np.linspace(0.0025, 0.025, 6)\n",
    "slenderness_range = np.linspace(10, 35, 6)\n",
    "rho_grid, sl_grid = np.meshgrid(rho_range, slenderness_range) \n",
    "F_u_grid = np.load('F_u_grid_carbon.npy')\n",
    "F_s_grid = np.load('F_s_grid_carbon.npy')"
   ]
  },
  {
   "cell_type": "code",
   "execution_count": 17,
   "metadata": {},
   "outputs": [
    {
     "data": {
      "application/vnd.jupyter.widget-view+json": {
       "model_id": "4c9e49ccc60e4f7db07d67def1292b92",
       "version_major": 2,
       "version_minor": 0
      },
      "text/plain": [
       "Canvas(toolbar=Toolbar(toolitems=[('Home', 'Reset original view', 'home', 'home'), ('Back', 'Back to previous …"
      ]
     },
     "metadata": {},
     "output_type": "display_data"
    },
    {
     "name": "stderr",
     "output_type": "stream",
     "text": [
      "<lambdifygenerated-1>:2: RuntimeWarning: divide by zero encountered in double_scalars\n",
      "  return (select([less_equal(Dummy_168, 0.001*sqrt(Dummy_166)),True], [K*(3.2*sqrt(Dummy_166)*(0.001*sqrt(Dummy_166)/Dummy_168 - 1)**1.5 + 0.0015*Dummy_166**1.0/Dummy_168 + 11),K*(2.63523138347365*Dummy_166**0.25*sqrt(Dummy_167) + 0.0015*Dummy_166**1.0/(-Dummy_167 + Dummy_168) + 11)], default=nan))\n",
      "<lambdifygenerated-1>:2: RuntimeWarning: invalid value encountered in double_scalars\n",
      "  return (select([less_equal(Dummy_168, 0.001*sqrt(Dummy_166)),True], [K*(3.2*sqrt(Dummy_166)*(0.001*sqrt(Dummy_166)/Dummy_168 - 1)**1.5 + 0.0015*Dummy_166**1.0/Dummy_168 + 11),K*(2.63523138347365*Dummy_166**0.25*sqrt(Dummy_167) + 0.0015*Dummy_166**1.0/(-Dummy_167 + Dummy_168) + 11)], default=nan))\n"
     ]
    },
    {
     "data": {
      "text/plain": [
       "[<matplotlib.lines.Line2D at 0x253e5e7d040>]"
      ]
     },
     "execution_count": 17,
     "metadata": {},
     "output_type": "execute_result"
    }
   ],
   "source": [
    "_, ax = plt.subplots(1,1)\n",
    "# z = F_u_grid/F_s_grid -1\n",
    "z = (F_s_grid + F_u_grid) / F_s_grid - 1.35\n",
    "\n",
    "CS = ax.contour(rho_grid, sl_grid, z )\n",
    "ax.clabel(CS, inline=1, fontsize=10)\n",
    "ax.set_ylabel('L/d')\n",
    "ax.set_xlabel(r'$\\rho$ %')\n",
    "ax.set_ylim(10, 35)\n",
    "ax.set_xlim(0.0025, 0.025)\n",
    "\n",
    "# Draw C50 curve\n",
    "rho_range = np.arange(0, 0.05, 0.0001)\n",
    "f_ck = 70\n",
    "slenderness = []\n",
    "for rho in rho_range:\n",
    "    slenderness.append(get_slenderness(rho, 0,  1, f_ck))\n",
    "ax.plot(rho_range, slenderness)"
   ]
  },
  {
   "cell_type": "code",
   "execution_count": null,
   "metadata": {},
   "outputs": [],
   "source": [
    "# from mpl_toolkits import mplot3d\n",
    "%matplotlib widget\n",
    "import numpy as np\n",
    "import matplotlib.pyplot as plt\n",
    "excel_file = join('./verification_data','assessmentruledata.xlsx')\n",
    "df = data = pd.read_excel(excel_file)\n",
    "\n",
    "fig, ax = plt.subplots(nrows=1, ncols=1, figsize=(8 , 8))\n",
    "\n",
    "X, Y = np.meshgrid(df['sl'], df['rho'])\n",
    "FU, FS = np.meshgrid(df['F_u'], df['F_s'])\n",
    "WU, WS = np.meshgrid(df['w_u'], df['w_s'])\n",
    "\n",
    "Z = np.array(FU / FS)\n",
    "\n",
    "# fig = plt.figure()\n",
    "ax = plt.axes(projection='3d')\n",
    "ax.contour3D(X, Y, Z, 500, cmap='rainbow')\n",
    "ax.set_xlabel('L/d')\n",
    "ax.set_ylabel(r'$\\rho$')\n",
    "ax.set_zlabel('Fu/Fs')\n",
    "ax.set_title('Deflection Assessment Rule')\n",
    "plt.show()"
   ]
  },
  {
   "cell_type": "markdown",
   "metadata": {
    "pycharm": {
     "name": "#%% md\n"
    }
   },
   "source": [
    "### Concrete parameters range"
   ]
  },
  {
   "cell_type": "code",
   "execution_count": null,
   "metadata": {
    "pycharm": {
     "name": "#%%\n"
    }
   },
   "outputs": [],
   "source": [
    "{\n",
    "'E_ct': (10000,70000,n),\n",
    "'E_cc': (30000,40000,n),\n",
    "'eps_cr': (0.00013,0.0002,n),\n",
    "'eps_cy': (-0.003,-0.004,n),\n",
    "'eps_cu': (0.001,0.01,n),\n",
    "'eps_tu': (0.003,0.03,n),\n",
    "'mu': (0,0.2,n),\n",
    "}"
   ]
  },
  {
   "cell_type": "markdown",
   "metadata": {
    "pycharm": {
     "name": "#%% md\n"
    }
   },
   "source": [
    "### Reinforcement parameters range"
   ]
  },
  {
   "cell_type": "code",
   "execution_count": null,
   "metadata": {
    "pycharm": {
     "name": "#%%\n"
    }
   },
   "outputs": [],
   "source": [
    "{\n",
    "'E_j': ((240000,240000),(280000,280000), n),\n",
    "'eps_sy_j' : ((0.0113,0.0113), (0.009,0.009), n),\n",
    "'n_m' : (2, 1000, 10)\n",
    "}"
   ]
  },
  {
   "cell_type": "markdown",
   "metadata": {
    "pycharm": {
     "name": "#%% md\n"
    }
   },
   "source": [
    "### Cross-section parameters range"
   ]
  },
  {
   "cell_type": "code",
   "execution_count": null,
   "metadata": {
    "pycharm": {
     "name": "#%%\n"
    }
   },
   "outputs": [],
   "source": [
    "{\n",
    "'L' : (660,1260,n),\n",
    "'B' : (150,15,n),\n",
    "'H': (25,35,n),\n",
    "'z_j': ((0, 30),(15, 15),n),\n",
    "'A_j': ((2.62,2.62),(4.2,4.2),n),\n",
    "}"
   ]
  },
  {
   "cell_type": "code",
   "execution_count": null,
   "metadata": {
    "pycharm": {
     "name": "#%%\n"
    }
   },
   "outputs": [],
   "source": [
    "# %matplotlib inline"
   ]
  },
  {
   "cell_type": "code",
   "execution_count": null,
   "metadata": {
    "pycharm": {
     "name": "#%%\n"
    }
   },
   "outputs": [],
   "source": [
    "# from os.path import join\n",
    "# import numpy as np\n",
    "# import pandas as pd\n",
    "# import sympy as sp\n",
    "# import matplotlib.pyplot as plt\n",
    "# import bmcs_utils.api as bu"
   ]
  },
  {
   "cell_type": "code",
   "execution_count": null,
   "metadata": {
    "pycharm": {
     "name": "#%%\n"
    }
   },
   "outputs": [],
   "source": [
    "# import rpy2.robjects as robjects"
   ]
  },
  {
   "cell_type": "code",
   "execution_count": null,
   "metadata": {},
   "outputs": [],
   "source": [
    "# r_lm = robjects.r[\"lm\"]\n",
    "# r_predict = robjects.r[\"predict\"]"
   ]
  },
  {
   "cell_type": "code",
   "execution_count": null,
   "metadata": {
    "pycharm": {
     "name": "#%%\n"
    }
   },
   "outputs": [],
   "source": [
    "# import pandas as pd\n",
    "# df = pd.DataFrame({\n",
    "#     'cups_of_coffee': [0, 1, 2, 3, 4, 5, 6, 7, 8, 9],\n",
    "#     'productivity': [2, 5, 6, 8, 9, 8, 0, 1, 0, -1]\n",
    "# })"
   ]
  },
  {
   "cell_type": "code",
   "execution_count": null,
   "metadata": {
    "pycharm": {
     "name": "#%%\n"
    }
   },
   "outputs": [],
   "source": [
    "# # enables the %%R magic, not necessary if you've already done this\n",
    "# %load_ext rpy2.ipython"
   ]
  },
  {
   "cell_type": "code",
   "execution_count": null,
   "metadata": {
    "pycharm": {
     "name": "#%%\n"
    }
   },
   "outputs": [],
   "source": [
    "# import numpy as np\n",
    "# from scipy.optimize import minimize\n",
    "# import pandas as pd\n",
    "# import numpy as np\n",
    "# import matplotlib.pyplot as plt\n",
    "\n",
    "# # data file from URL address\n",
    "# data = 'https://apmonitor.com/me575/uploads/Main/oil_data.txt'\n",
    "# df = pd.read_csv(data)\n",
    "\n",
    "# xm1 = np.array(df[\"WTI_PRICE\"])  # WTI Oil Price\n",
    "# xm2 = np.array(df[\"HH_PRICE\"])   # Henry Hub Gas Price\n",
    "# xm3 = np.array(df[\"NGL_PRICE\"])  # MB Propane Spot Price\n",
    "# ym = np.array(df[\"BEST_PRICE\"])  # oil sales price received (outcome)\n",
    "\n",
    "# # calculate y\n",
    "# def calc_y(x):\n",
    "#     a = x[0]\n",
    "#     b = x[1]\n",
    "#     c = x[2]\n",
    "#     d = x[3]\n",
    "#     #y = a * xm1 + b  # linear regression\n",
    "#     y = a * ( xm1 ** b ) * ( xm2 ** c ) * ( xm3 ** d )\n",
    "#     return y\n",
    "\n",
    "# # define objective\n",
    "# def objective(x):\n",
    "#     # calculate y\n",
    "#     y = calc_y(x)\n",
    "#     # calculate objective\n",
    "#     obj = 0.0\n",
    "#     for i in range(len(ym)):\n",
    "#         obj = obj + ((y[i]-ym[i])/ym[i])**2    \n",
    "#     # return result\n",
    "#     return obj\n",
    "\n",
    "# # initial guesses\n",
    "# x0 = np.zeros(4)\n",
    "# x0[0] = 0.0 # a\n",
    "# x0[1] = 0.0 # b\n",
    "# x0[2] = 0.0 # c\n",
    "# x0[3] = 0.0 # d\n",
    "\n",
    "# # show initial objective\n",
    "# print('Initial Objective: ' + str(objective(x0)))\n",
    "\n",
    "# # optimize\n",
    "# # bounds on variables\n",
    "# my_bnds = (-100.0, 100.0)\n",
    "# bnds = (my_bnds, my_bnds, my_bnds, my_bnds)\n",
    "# solution = minimize(objective, x0, method='SLSQP', bounds=bnds)\n",
    "# x = solution.x\n",
    "# y = calc_y(x)\n",
    "\n",
    "# # show final objective\n",
    "# cObjective = 'Final Objective: ' + str(objective(x))\n",
    "# print(cObjective)\n",
    "\n",
    "# # print solution\n",
    "# print('Solution')\n",
    "\n",
    "# cA = 'A = ' + str(x[0])\n",
    "# print(cA)\n",
    "# cB = 'B = ' + str(x[1])\n",
    "# print(cB)\n",
    "# cC = 'C = ' + str(x[2])\n",
    "# print(cC)\n",
    "# cD = 'D = ' + str(x[3])\n",
    "# print(cD)\n",
    "\n",
    "# cFormula = \"Formula is : \" + \"\\n\" \\\n",
    "#            + \"A * WTI^B * HH^C * PROPANE^D\"\n",
    "# cLegend = cFormula + \"\\n\" + cA + \"\\n\" + cB + \"\\n\" \\\n",
    "#            + cC + \"\\n\" + cD + \"\\n\" + cObjective\n",
    "\n",
    "# #ym measured outcome\n",
    "# #y  predicted outcome\n",
    "\n",
    "# from scipy import stats\n",
    "# slope, intercept, r_value, p_value, std_err = stats.linregress(ym,y)\n",
    "# r2 = r_value**2\n",
    "# cR2 = \"R^2 correlation = \" + str(r_value**2)\n",
    "# print(cR2)\n",
    "\n",
    "# # plot solution\n",
    "# plt.figure(1)\n",
    "# plt.title('Actual (YM) versus Predicted (Y) Outcomes For Non-Linear Regression')\n",
    "# plt.plot(ym,y,'o')\n",
    "# plt.xlabel('Measured Outcome (YM)')\n",
    "# plt.ylabel('Predicted Outcome (Y)')\n",
    "# plt.legend([cLegend])\n",
    "# plt.grid(True)\n",
    "# plt.show()"
   ]
  }
 ],
 "metadata": {
  "kernelspec": {
   "display_name": "Python 3",
   "language": "python",
   "name": "python3"
  },
  "language_info": {
   "codemirror_mode": {
    "name": "ipython",
    "version": 3
   },
   "file_extension": ".py",
   "mimetype": "text/x-python",
   "name": "python",
   "nbconvert_exporter": "python",
   "pygments_lexer": "ipython3",
   "version": "3.9.1"
  }
 },
 "nbformat": 4,
 "nbformat_minor": 4
}
