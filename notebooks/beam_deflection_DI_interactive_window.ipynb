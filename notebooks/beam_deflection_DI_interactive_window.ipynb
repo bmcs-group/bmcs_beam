{
 "cells": [
  {
   "cell_type": "markdown",
   "metadata": {
    "pycharm": {
     "name": "#%% md\n"
    }
   },
   "source": [
    "## Beam deflection with double integration"
   ]
  },
  {
   "cell_type": "code",
   "execution_count": null,
   "metadata": {
    "pycharm": {
     "name": "#%%\n"
    }
   },
   "outputs": [],
   "source": [
    "%matplotlib widget\n",
    "# Documentation needed for ipyml - notifications on push from github\n",
    "from bmcs_utils.api import \\\n",
    "    InteractiveModel, InteractiveWindow, Item, View\n",
    "import traits.api as tr\n",
    "import matplotlib.pylab as plt\n",
    "from matplotlib.path import Path\n",
    "import matplotlib.patches as mpatches\n",
    "from matplotlib.patches import PathPatch\n",
    "import numpy as np\n",
    "import sympy as sp\n",
    "from sympy.functions import SingularityFunction, Piecewise, factorial\n",
    "from scipy.integrate import cumtrapz\n",
    "sp.init_printing()"
   ]
  },
  {
   "cell_type": "code",
   "execution_count": null,
   "metadata": {
    "pycharm": {
     "name": "#%%\n"
    }
   },
   "outputs": [],
   "source": [
    "class BeamBC(tr.HasTraits):\n",
    "    phi0_list = tr.List\n",
    "    w0_list = tr.List\n",
    "    \n",
    "class BeamRC3Pt(BeamBC):\n",
    "    pass"
   ]
  },
  {
   "cell_type": "code",
   "execution_count": null,
   "metadata": {
    "pycharm": {
     "name": "#%%\n"
    }
   },
   "outputs": [],
   "source": [
    "x, M, L, P= sp.symbols('x, M, L, P')\n",
    "PtoM = {P : M*4/L}\n",
    "# M_ = 2*M/L - 4*M/L*(x-L/2)\n",
    "M_ = sp.Piecewise(\n",
    "    (0,x<0),\n",
    "    (2*M*x/L, x <= L/2),\n",
    "    ((2*M*x/L - (4*M/L)*(x-L/2)), x<=L),\n",
    "    (0, True)\n",
    "            )\n",
    "M_\n",
    "type(M_)\n"
   ]
  },
  {
   "cell_type": "code",
   "execution_count": null,
   "metadata": {},
   "outputs": [],
   "source": [
    "from sympy.physics.continuum_mechanics.beam import Beam\n",
    "from sympy import symbols\n",
    "import sympy as sp\n",
    "from sympy.functions import SingularityFunction, Piecewise, factorial\n",
    "\n",
    "x, E, I, F = symbols('x E I F')\n",
    "l = symbols('l', positive=True)\n",
    "b = Beam(l, E, I)\n",
    "R1,R2 = symbols('R1  R2')\n",
    "b.apply_load(R1, 0, -1)\n",
    "b.apply_load(R2, l, -1)\n",
    "b.apply_load(-F, l/2, -1)\n",
    "b.bc_deflection = [(0, 0),(l, 0)]\n",
    "b.solve_for_reaction_loads(R1, R2)"
   ]
  },
  {
   "cell_type": "code",
   "execution_count": null,
   "metadata": {},
   "outputs": [],
   "source": [
    "M_ = b.bending_moment().rewrite(Piecewise)\n",
    "M_"
   ]
  },
  {
   "cell_type": "code",
   "execution_count": null,
   "metadata": {
    "pycharm": {
     "name": "#%%\n"
    }
   },
   "outputs": [],
   "source": [
    "get_M = sp.lambdify((x,F,l), M_)"
   ]
  },
  {
   "cell_type": "code",
   "execution_count": null,
   "metadata": {},
   "outputs": [],
   "source": [
    "# M_x = get_M(1,10,1)\n",
    "# M_x"
   ]
  },
  {
   "cell_type": "code",
   "execution_count": null,
   "metadata": {},
   "outputs": [],
   "source": [
    "phi_ = sp.integrate(M_,(x))\n",
    "phi_"
   ]
  },
  {
   "cell_type": "code",
   "execution_count": null,
   "metadata": {
    "pycharm": {
     "name": "#%%\n"
    }
   },
   "outputs": [],
   "source": [
    "phi_ = sp.integrate(M_,x)\n",
    "# phi_ = sp.Piecewise((M*x**2/L - P*L**2/16, x <= L/2),\n",
    "#     (P*x**2/4 - P*L**2/16 - P/2*(x-L/2)**2, x > L/2))\n",
    "         \n",
    "phi_"
   ]
  },
  {
   "cell_type": "code",
   "execution_count": null,
   "metadata": {},
   "outputs": [],
   "source": [
    "# phi_ = phi_.subs(PtoM)\n",
    "# phi_\n",
    "type(phi_)"
   ]
  },
  {
   "cell_type": "code",
   "execution_count": null,
   "metadata": {},
   "outputs": [],
   "source": [
    "get_phi = sp.lambdify((x,F,L), phi_)"
   ]
  },
  {
   "cell_type": "code",
   "execution_count": null,
   "metadata": {},
   "outputs": [],
   "source": [
    "w_ = sp.integrate(phi_,x)\n",
    "w_"
   ]
  },
  {
   "cell_type": "code",
   "execution_count": null,
   "metadata": {},
   "outputs": [],
   "source": [
    "get_w = sp.lambdify((x,F,L), w_)"
   ]
  },
  {
   "cell_type": "code",
   "execution_count": null,
   "metadata": {
    "pycharm": {
     "name": "#%%\n"
    }
   },
   "outputs": [],
   "source": [
    "from bmcs_beam.models.moment_curvature.moment_curvature_ import MomentCurvature\n",
    "mc = MomentCurvature()"
   ]
  },
  {
   "cell_type": "code",
   "execution_count": null,
   "metadata": {},
   "outputs": [],
   "source": [
    "class BeamDesign(InteractiveModel):\n",
    "    \n",
    "    name = 'BeamDesign'\n",
    "   \n",
    "    L = tr.Int(5000)\n",
    "    H = tr.Int(200)\n",
    "    ipw_view = View(\n",
    "        Item('L', latex='L \\mathrm{[mm]}', minmax=(1000,10000)),\n",
    "        Item('H', latex='H \\mathrm{[mm]}', minmax=(100,500))\n",
    "    )\n",
    "\n",
    "    def subplots(self, fig):\n",
    "        return fig.subplots(1, 1)\n",
    "\n",
    "    def update_plot(self, ax):  \n",
    "        \n",
    "        ax.fill([0,self.L,self.L,0,0], [0,0,self.H,self.H,0],color='gray')\n",
    "        ax.plot([0,self.L,self.L,0,0], [0,0,self.H,self.H,0],color='black')\n",
    "        ax.annotate('L = {} mm'.format(np.round(self.L),0),\n",
    "                xy=(self.L/2,self.H * 1.1), color='black')\n",
    "        ax.axis('equal')\n",
    "#         ax.autoscale(tight=True)"
   ]
  },
  {
   "cell_type": "code",
   "execution_count": null,
   "metadata": {},
   "outputs": [],
   "source": [
    "InteractiveWindow(BeamDesign()).interact()"
   ]
  },
  {
   "cell_type": "code",
   "execution_count": null,
   "metadata": {},
   "outputs": [],
   "source": [
    "class CrossSectionDesign(InteractiveModel):\n",
    "\n",
    "    name = 'CrossSectionDesign'\n",
    "   \n",
    "    # Reinforcement\n",
    "    E_carbon = tr.Int(200000)\n",
    "    width = tr.Float(8)\n",
    "    thickness = tr.Float(1)\n",
    "    spacing = tr.Float(1)\n",
    "    n_layers = tr.Int(1)\n",
    "    A_roving = tr.Float(1)\n",
    "    f_h = tr.Int(5)\n",
    "\n",
    "    #Concerte cross section\n",
    "#     L = tr.Int(5000, param=True, latex='L \\mathrm{mm}', minmax=(10,10000))\n",
    "    H = tr.Int(10)\n",
    "    B = tr.Int(10)\n",
    "    E_con = tr.Int(14000)\n",
    "    F = tr.Float(10)\n",
    "    n_x = tr.Int(100)\n",
    "    \n",
    "    ipw_view = View(\n",
    "        Item('E_carbon', param=True, latex='E_r \\mathrm{[MPa]}', minmax=(200000,300000)),\n",
    "        Item('width', param=True, latex='rov_w \\mathrm{[mm]}', minmax=(8,450)),\n",
    "        Item('thickness', param=True, latex='rov_t \\mathrm{[mm]}', minmax=(1,100)),\n",
    "        Item('spacing', param=True, latex='ro_s \\mathrm{[mm]}', minmax=(1,100)),\n",
    "        Item('n_layers', param=True, latex='n_l \\mathrm{[-]}', minmax=(1,100)),\n",
    "        Item('A_roving', param=True, latex='A_r \\mathrm{[mm^2]}', minmax=(1,100)),\n",
    "        Item('f_h', param=True, latex='f_h \\mathrm{[mm]}', minmax=(5,500)),\n",
    "        Item('H', param=True, latex='H \\mathrm{[mm]}', minmax=(10,500)),\n",
    "        Item('B', param=True, latex='B \\mathrm{[mm]}', minmax=(10,500)),\n",
    "        Item('E_con', param=True, latex='E \\mathrm{[MPa]}', minmax=(14000,41000)),\n",
    "        Item('F', param=True, latex='F \\mathrm{[N]}', minmax=(10,1000)),\n",
    "        Item('n_x', param=True, latex='n_x \\mathrm{[-]}', minmax=(1,1000))\n",
    "    )\n",
    "    \n",
    "    def get_comp_E(self):\n",
    "        '''todo: check it with the bmcs example'''\n",
    "        A_composite = self.B * self.H\n",
    "        n_rovings = self.width / self.spacing \n",
    "        A_layer = n_rovings * self.A_roving \n",
    "        A_carbon = self.n_layers * A_layer \n",
    "        A_concrete = A_composite - A_carbon \n",
    "        E_comp = (self.E_carbon * A_carbon + self.E_con * A_concrete) / (A_composite)\n",
    "        return E_comp\n",
    "      \n",
    "    def subplots(self, fig):\n",
    "        return fig.subplots(1, 1)\n",
    "\n",
    "    def update_plot(self, ax):     \n",
    "        ax.axis([0, self.B, 0, self.H]);\n",
    "        ax.axis('equal');\n",
    "        ax.fill([0,self.B,self.B,0,0], [0,0,self.H,self.H,0],color='gray')\n",
    "        ax.plot([0,self.B,self.B,0,0], [0,0,self.H,self.H,0],color='black')\n",
    "        ax.plot([self.B/2 - self.width/2, self.B/2 + self.width/2], \n",
    "                [self.f_h,self.f_h],color='Blue',\n",
    "                linewidth=self.n_layers*self.thickness)       \n",
    "        ax.annotate('E_composite = {} GPa'.format(np.round(self.get_comp_E()/1000),0),\n",
    "                xy=(self.B/10,self.f_h*1.1), color='white')\n"
   ]
  },
  {
   "cell_type": "code",
   "execution_count": null,
   "metadata": {},
   "outputs": [],
   "source": [
    "InteractiveWindow(CrossSectionDesign()).interact()"
   ]
  },
  {
   "cell_type": "code",
   "execution_count": null,
   "metadata": {},
   "outputs": [],
   "source": [
    "class BoundaryConditions(InteractiveModel):\n",
    "    \n",
    "    name = 'BoundaryConditions'\n",
    "    \n",
    "    beam_design = tr.Instance(BeamDesign)\n",
    "    def _beam_design_default(self):\n",
    "        return BeamDesign()\n",
    "    \n",
    "    cross_section = tr.Instance(CrossSectionDesign)\n",
    "    def _cross_section_default(self):\n",
    "        return CrossSectionDesign()\n",
    "\n",
    "    L = tr.Int(5000, param=True, latex='L \\mathrm{[mm]}', minmax=(1000,10000))\n",
    "    H = tr.Int(200, param=True, latex='H \\mathrm{[mm]}', minmax=(10,500))\n",
    "    F = tr.Float(1000)\n",
    "    n_sup = tr.Int(2)\n",
    "    G_adj = tr.Float(0.02)\n",
    "    F_pos = tr.Int(2500)\n",
    "\n",
    "    ipw_view = View(\n",
    "        Item('F', param=True, latex='F \\mathrm{[N]}', minmax=(1000,10000)),\n",
    "        Item('n_sup', param=True, latex='n_{sup} \\mathrm{[-]}', minmax=(2,10)), #number of supports\n",
    "        Item('G_adj', param=True, latex='G_{adj} \\mathrm{[-]}', minmax=(1e-3,1e-1)), #Graphic adjustment factor\n",
    "        Item('F_pos', param=True, latex='F_{pos} \\mathrm{[mm]}', minmax=(0,10000)), # Force position\n",
    "    )\n",
    "\n",
    "    def Support (self,n):\n",
    "        \n",
    "        slef.n = n\n",
    "        pass \n",
    "    \n",
    "    def subplots(self, fig):\n",
    "        return fig.subplots(1, 1)\n",
    "\n",
    "    def update_plot(self, ax):  \n",
    "        \n",
    "        ax.fill([0,self.beam_design.L,self.beam_design.L,0,0], [0,0,self.cross_section.H,self.cross_section.H,0],color='gray')\n",
    "        ax.plot([0,self.beam_design.L,self.beam_design.L,0,0], [0,0,self.cross_section.H,self.cross_section.H,0],color='black')\n",
    "                \n",
    "        vertices = []\n",
    "        codes = []\n",
    "\n",
    "        codes = [Path.MOVETO] + [Path.LINETO]*2 + [Path.CLOSEPOLY]\n",
    "        vertices = [(-self.beam_design.L * self.G_adj, -self.beam_design.L * self.G_adj), (0, 0),\n",
    "                    (self.beam_design.L * self.G_adj, -self.beam_design.L * self.G_adj), \n",
    "                    (-self.beam_design.L * self.G_adj, -self.beam_design.L * self.G_adj)]\n",
    "\n",
    "        codes += [Path.MOVETO] + [Path.LINETO]*2 + [Path.CLOSEPOLY] \n",
    "        vertices += [(self.beam_design.L * (1-self.G_adj), -self.beam_design.L * self.G_adj), (self.beam_design.L, 0),\n",
    "                     (self.beam_design.L * (1 + self.G_adj), -self.beam_design.L * self.G_adj), \n",
    "                     (self.beam_design.L * (1-self.G_adj), -self.beam_design.L * self.G_adj)]\n",
    "\n",
    "        codes += [Path.MOVETO] + [Path.LINETO] + [Path.CLOSEPOLY] \n",
    "        vertices += [(self.beam_design.L * (1+self.G_adj), -self.beam_design.L * self.G_adj*1.2),\n",
    "                     (self.beam_design.L * (1-self.G_adj), -self.beam_design.L * self.G_adj*1.2),\n",
    "                     (self.beam_design.L * (1-self.G_adj), -self.beam_design.L * self.G_adj*1.2)]\n",
    "\n",
    "        vertices = np.array(vertices, float)\n",
    "        path = Path(vertices, codes)\n",
    "\n",
    "        pathpatch = PathPatch(path, facecolor='None', edgecolor='green')\n",
    "\n",
    "        ax.add_patch(pathpatch)\n",
    "        ax.plot((0,self.beam_design.L*1),(0,0))\n",
    "#         ax.set_title('A compound path')\n",
    "        # ax.set_size(3,3)\n",
    "        # ax.autoscale_view()\n",
    "\n",
    "        x_tail = self.F_pos\n",
    "        y_tail = self.beam_design.L/20 + self.cross_section.H\n",
    "        x_head = self.F_pos\n",
    "        y_head = 0 + self.cross_section.H\n",
    "        dy = y_head + x_head/10\n",
    "        arrow = mpatches.FancyArrowPatch((x_tail, y_tail), (x_head, y_head),\n",
    "                                         color = 'blue',mutation_scale=self.beam_design.L/500)\n",
    "        ax.annotate('{} KN'.format(np.round(self.F/1000),0),\n",
    "                xy=(x_tail,y_tail), color='black')\n",
    "        ax.add_patch(arrow)\n",
    "        ax.axis('equal')\n",
    "        ax.autoscale(tight=True)"
   ]
  },
  {
   "cell_type": "code",
   "execution_count": null,
   "metadata": {
    "pycharm": {
     "name": "#%%\n"
    }
   },
   "outputs": [],
   "source": [
    "InteractiveWindow(BoundaryConditions()).interact()"
   ]
  },
  {
   "cell_type": "code",
   "execution_count": null,
   "metadata": {
    "pycharm": {
     "name": "#%%\n"
    }
   },
   "outputs": [],
   "source": [
    "class Beam3PtBending(InteractiveModel):\n",
    "    '''\n",
    "    Todo: 1- moving point load, line load, load combinations\n",
    "    '''\n",
    "    name = 'Analysis'\n",
    "\n",
    "    mc = tr.Property(depends_on = '+param')\n",
    "    @tr.cached_property\n",
    "    def _get_mc(self):\n",
    "        mc_ = MomentCurvature()\n",
    "        return mc_\n",
    "\n",
    "    beam_design = tr.Instance(BeamDesign)\n",
    "    def _beam_design_default(self):\n",
    "        return BeamDesign()\n",
    "    \n",
    "    boundary_conditions = tr.Instance(BoundaryConditions)\n",
    "    def _boundary_conditions_default(self):\n",
    "        return BoundaryConditions()\n",
    "    \n",
    "    cross_section = tr.Instance(CrossSectionDesign)\n",
    "    def _cross_section_default(self):\n",
    "        return CrossSectionDesign()\n",
    "    \n",
    "    # Reinforcement\n",
    "    E_carbon = tr.Int(200000)\n",
    "    width = tr.Float(10)\n",
    "    thickness = tr.Float(1)\n",
    "    spacing = tr.Float(1)\n",
    "    n_layers = tr.Int(1)\n",
    "    A_roving = tr.Float(1)\n",
    "    \n",
    "    #Concerte cross section\n",
    "    L = tr.Int(5000, param=True, latex='L \\mathrm{mm}', minmax=(10,10000))\n",
    "#     H = tr.Int(10, param=True, latex='H \\mathrm{mm}', minmax=(10,500))\n",
    "#     B = tr.Int(10, param=True, latex='B \\mathrm{mm}', minmax=(10,500))\n",
    "    E_con = tr.Int(14000)\n",
    "    F = tr.Float(1000)\n",
    "    n_x = tr.Int(100)\n",
    "    G_adj = tr.Float(0.02)\n",
    "\n",
    "    ipw_view = View(\n",
    "        Item('E_con', param=True, latex='E \\mathrm{MPa}', minmax=(14000,41000)) ,\n",
    "        Item('F', param=True, latex='F \\mathrm{N}', minmax=(10,100000)),\n",
    "        Item('E_carbon', param=True, latex='E_r \\mathrm{MPa}', minmax=(200000,300000)),\n",
    "        Item('width', param=True, latex='rov_w \\mathrm{mm}', minmax=(10,450)),\n",
    "        Item('thickness', param=True, latex='rov_t \\mathrm{mm}', minmax=(1,100)),\n",
    "        Item('spacing', param=True, latex='ro_s \\mathrm{mm}', minmax=(1,100)),\n",
    "        Item('n_layers', param=True, latex='n_l \\mathrm{-}', minmax=(1,100)),\n",
    "        Item('A_roving', param=True, latex='A_r \\mathrm{mm^2}', minmax=(1,100)),\n",
    "        Item('G_adj', param=True, latex='G_{adj} \\mathrm{-}', minmax=(1e-3,1e-1)),\n",
    "        Item('n_x',param=True, latex='n_x \\mathrm{-}', minmax=(1,1000))\n",
    "    )\n",
    "\n",
    "    x = tr.Property(depends_on = '+param')\n",
    "    @tr.cached_property\n",
    "    def _get_x(self):\n",
    "        return np.linspace(0,self.beam_design.L,self.n_x)\n",
    "    \n",
    "    E_comp = tr.Property(depends_on = '+param')\n",
    "    @tr.cached_property\n",
    "    def _get_E_comp(self):\n",
    "        A_composite = self.cross_section.B * self.cross_section.H\n",
    "        n_rovings = self.cross_section.width / self.cross_section.spacing \n",
    "        A_layer = n_rovings * self.cross_section.A_roving \n",
    "        A_carbon = self.cross_section.n_layers * A_layer \n",
    "        A_concrete = A_composite - A_carbon \n",
    "        E_comp = (self.cross_section.E_carbon * A_carbon + self.cross_section.E_con * A_concrete) / (A_composite)\n",
    "        return E_comp   \n",
    "\n",
    "    def get_M_x(self):\n",
    "#         M = self.F / 2 * self.beam_design.L / 2\n",
    "        M_x = get_M(self.x, self.F, self.L)\n",
    "        return M_x\n",
    "    \n",
    "    def get_kappa_x(self):\n",
    "        M = self.get_M_x()\n",
    "#         I = (self.B*self.H**3)/12\n",
    "        return mc.get_kappa(M)\n",
    "#         return M / I / self.E_comp\n",
    "    \n",
    "    def get_phi_x(self):\n",
    "        kappa_x = self.get_kappa_x()\n",
    "        phi_x = cumtrapz(kappa_x, self.x, initial=0)\n",
    "        phi_L2 = np.interp(self.beam_design.L/2, self.x, phi_x)\n",
    "        phi_x -= phi_L2\n",
    "        return phi_x\n",
    "    \n",
    "    def get_w_x(self):\n",
    "        phi_x = self.get_phi_x()\n",
    "        w_x = cumtrapz(phi_x, self.x, initial=0)\n",
    "        w_x += w_x[0]\n",
    "        return w_x\n",
    "    \n",
    "    def subplots(self, fig):\n",
    "        return fig.subplots(5, 1)\n",
    "\n",
    "    def update_plot(self, axes):\n",
    "        ax1, ax2, ax3, ax4, ax5 = axes\n",
    "        \n",
    "#         ax1.axis('equal');\n",
    "        ax1.fill([0,self.beam_design.L,self.beam_design.L,0,0], [0,0,self.cross_section.H,self.cross_section.H,0],color='gray')\n",
    "        ax1.plot([0,self.beam_design.L,self.beam_design.L,0,0], [0,0,self.cross_section.H,self.cross_section.H,0],color='black')\n",
    "                \n",
    "        vertices = []\n",
    "        codes = []\n",
    "\n",
    "        codes = [Path.MOVETO] + [Path.LINETO]*2 + [Path.CLOSEPOLY]\n",
    "        vertices = [(-self.beam_design.L * self.G_adj, -self.beam_design.L * self.G_adj), (0, 0),\n",
    "                    (self.beam_design.L * self.G_adj, -self.beam_design.L * self.G_adj), \n",
    "                    (-self.beam_design.L * self.G_adj, -self.beam_design.L * self.G_adj)]\n",
    "\n",
    "        codes += [Path.MOVETO] + [Path.LINETO]*2 + [Path.CLOSEPOLY] \n",
    "        vertices += [(self.beam_design.L * (1-self.G_adj), -self.beam_design.L * self.G_adj), (self.beam_design.L, 0),\n",
    "                     (self.beam_design.L * (1 + self.G_adj), -self.beam_design.L * self.G_adj), \n",
    "                     (self.beam_design.L * (1-self.G_adj), -self.beam_design.L * self.G_adj)]\n",
    "\n",
    "        codes += [Path.MOVETO] + [Path.LINETO] + [Path.CLOSEPOLY] \n",
    "        vertices += [(self.beam_design.L * (1+self.G_adj), -self.beam_design.L * self.G_adj*1.2),\n",
    "                     (self.beam_design.L * (1-self.G_adj), -self.beam_design.L * self.G_adj*1.2),\n",
    "                     (self.beam_design.L * (1-self.G_adj), -self.beam_design.L * self.G_adj*1.2)]\n",
    "\n",
    "        vertices = np.array(vertices, float)\n",
    "        path = Path(vertices, codes)\n",
    "\n",
    "        pathpatch = PathPatch(path, facecolor='None', edgecolor='green')\n",
    "\n",
    "        ax1.add_patch(pathpatch)\n",
    "        ax1.plot((0,self.beam_design.L*1),(0,0))\n",
    "#         ax1.set_title('A compound path')\n",
    "        # ax.set_size(3,3)\n",
    "        # ax.autoscale_view()\n",
    "\n",
    "        x_tail = self.beam_design.L/2\n",
    "        y_tail = self.F * self.G_adj + self.cross_section.H\n",
    "        x_head = self.beam_design.L/2\n",
    "        y_head = 0 + self.cross_section.H\n",
    "        dy = y_head + x_head/10\n",
    "        arrow = mpatches.FancyArrowPatch((x_tail, y_tail), (x_head, y_head),\n",
    "                                          mutation_scale=10)\n",
    "        ax1.add_patch(arrow)\n",
    "        ax1.axis('auto');\n",
    "#         ax1.autoscale(tight=True)\n",
    "        \n",
    "        x = self.x\n",
    "        \n",
    "        M_x = self.get_M_x()\n",
    "        ax2.plot(x, -M_x, color='red', label='moment [N.mm]')\n",
    "        leg = ax2.legend();\n",
    "\n",
    "        phi_x = self.get_phi_x()\n",
    "        ax3.plot(x, phi_x, color='green', label='phi [-]')\n",
    "        leg = ax3.legend();\n",
    "        \n",
    "        w_x = self.get_w_x()\n",
    "        ax4.plot(x, w_x, color='blue', label='$w$ [mm]')\n",
    "        leg = ax4.legend();\n",
    "                \n",
    "        kappa_x = self.get_kappa_x()\n",
    "        ax5.plot(x, kappa_x, color='black', label='$kappa$ [-]')\n",
    "        leg = ax5.legend();\n",
    "        "
   ]
  },
  {
   "cell_type": "code",
   "execution_count": null,
   "metadata": {
    "pycharm": {
     "name": "#%%\n"
    }
   },
   "outputs": [],
   "source": [
    "# bd = Beam3PtBending()\n",
    "ibd = InteractiveWindow([BeamDesign(),BoundaryConditions(),CrossSectionDesign(),Beam3PtBending()])\n",
    "ibd.interact()"
   ]
  },
  {
   "cell_type": "code",
   "execution_count": null,
   "metadata": {
    "pycharm": {
     "name": "#%%\n"
    }
   },
   "outputs": [],
   "source": []
  },
  {
   "cell_type": "code",
   "execution_count": null,
   "metadata": {
    "pycharm": {
     "name": "#%%\n"
    }
   },
   "outputs": [],
   "source": []
  },
  {
   "cell_type": "code",
   "execution_count": null,
   "metadata": {
    "pycharm": {
     "name": "#%%\n"
    }
   },
   "outputs": [],
   "source": []
  },
  {
   "cell_type": "code",
   "execution_count": null,
   "metadata": {},
   "outputs": [],
   "source": []
  },
  {
   "cell_type": "code",
   "execution_count": null,
   "metadata": {
    "pycharm": {
     "name": "#%%\n"
    }
   },
   "outputs": [],
   "source": [
    "class Beam3PtBending(InteractiveModel):\n",
    "    '''\n",
    "    Todo: 1- moving point load, line load, load combinations\n",
    "    '''\n",
    "    name = 'Analysis'\n",
    "\n",
    "    mc = tr.Property(depends_on = '+param')\n",
    "    @tr.cached_property\n",
    "    def _get_mc(self):\n",
    "        mc_ = MomentCurvature()\n",
    "        return mc_\n",
    "\n",
    "    beam_design = tr.Instance(BeamDesign)\n",
    "    def _beam_design_default(self):\n",
    "        return BeamDesign()\n",
    "    \n",
    "    boundary_conditions = tr.Instance(BoundaryConditions)\n",
    "    def _boundary_conditions_default(self):\n",
    "        return BoundaryConditions()\n",
    "    \n",
    "    cross_section = tr.Instance(CrossSectionDesign)\n",
    "    def _cross_section_default(self):\n",
    "        return CrossSectionDesign()\n",
    "    \n",
    "    # Reinforcement\n",
    "    E_carbon = tr.Int(200000)\n",
    "    width = tr.Float(10)\n",
    "    thickness = tr.Float(1)\n",
    "    spacing = tr.Float(1)\n",
    "    n_layers = tr.Int(1)\n",
    "    A_roving = tr.Float(1)\n",
    "    \n",
    "    #Concerte cross section\n",
    "    L = tr.Int(5000, param=True, latex='L \\mathrm{mm}', minmax=(10,10000))\n",
    "#     H = tr.Int(10, param=True, latex='H \\mathrm{mm}', minmax=(10,500))\n",
    "#     B = tr.Int(10, param=True, latex='B \\mathrm{mm}', minmax=(10,500))\n",
    "    E_con = tr.Int(14000)\n",
    "    F = tr.Float(1000)\n",
    "    n_x = tr.Int(100)\n",
    "    G_adj = tr.Float(0.02)\n",
    "\n",
    "    ipw_view = View(\n",
    "        Item('E_con', param=True, latex='E \\mathrm{MPa}', minmax=(14000,41000)) ,\n",
    "        Item('F', param=True, latex='F \\mathrm{N}', minmax=(10,100000)),\n",
    "        Item('E_carbon', param=True, latex='E_r \\mathrm{MPa}', minmax=(200000,300000)),\n",
    "        Item('width', param=True, latex='rov_w \\mathrm{mm}', minmax=(10,450)),\n",
    "        Item('thickness', param=True, latex='rov_t \\mathrm{mm}', minmax=(1,100)),\n",
    "        Item('spacing', param=True, latex='ro_s \\mathrm{mm}', minmax=(1,100)),\n",
    "        Item('n_layers', param=True, latex='n_l \\mathrm{-}', minmax=(1,100)),\n",
    "        Item('A_roving', param=True, latex='A_r \\mathrm{mm^2}', minmax=(1,100)),\n",
    "        Item('G_adj', param=True, latex='G_{adj} \\mathrm{-}', minmax=(1e-3,1e-1)),\n",
    "        Item('n_x',param=True, latex='n_x \\mathrm{-}', minmax=(1,1000))\n",
    "    )\n",
    "\n",
    "    x = tr.Property(depends_on = '+param')\n",
    "    @tr.cached_property\n",
    "    def _get_x(self):\n",
    "        return np.linspace(0,self.beam_design.L,self.n_x)\n",
    "    \n",
    "    E_comp = tr.Property(depends_on = '+param')\n",
    "    @tr.cached_property\n",
    "    def _get_E_comp(self):\n",
    "        A_composite = self.cross_section.B * self.cross_section.H\n",
    "        n_rovings = self.cross_section.width / self.cross_section.spacing \n",
    "        A_layer = n_rovings * self.cross_section.A_roving \n",
    "        A_carbon = self.cross_section.n_layers * A_layer \n",
    "        A_concrete = A_composite - A_carbon \n",
    "        E_comp = (self.cross_section.E_carbon * A_carbon + self.cross_section.E_con * A_concrete) / (A_composite)\n",
    "        return E_comp   \n",
    "\n",
    "    def get_M_x(self):\n",
    "#         M = self.F / 2 * self.beam_design.L / 2\n",
    "        M_x = get_M(self.x, self.F, self.L)\n",
    "        return M_x\n",
    "    \n",
    "    def get_kappa_x(self):\n",
    "        M = self.get_M_x()\n",
    "#         I = (self.B*self.H**3)/12\n",
    "        return mc.get_kappa(M)\n",
    "#         return M / I / self.E_comp\n",
    "    \n",
    "    def get_phi_x(self):\n",
    "        kappa_x = self.get_kappa_x()\n",
    "        phi_x = cumtrapz(kappa_x, self.x, initial=0)\n",
    "        phi_L2 = np.interp(self.beam_design.L/2, self.x, phi_x)\n",
    "        phi_x -= phi_L2\n",
    "        return phi_x\n",
    "    \n",
    "    def get_w_x(self):\n",
    "        phi_x = self.get_phi_x()\n",
    "        w_x = cumtrapz(phi_x, self.x, initial=0)\n",
    "        w_x += w_x[0]\n",
    "        return w_x\n",
    "    \n",
    "    def subplots(self, fig):\n",
    "        return fig.subplots(5, 1)\n",
    "\n",
    "    def update_plot(self, axes):\n",
    "        ax1, ax2, ax3, ax4, ax5 = axes\n",
    "        \n",
    "#         ax1.axis('equal');\n",
    "        ax1.fill([0,self.beam_design.L,self.beam_design.L,0,0], [0,0,self.cross_section.H,self.cross_section.H,0],color='gray')\n",
    "        ax1.plot([0,self.beam_design.L,self.beam_design.L,0,0], [0,0,self.cross_section.H,self.cross_section.H,0],color='black')\n",
    "                \n",
    "        vertices = []\n",
    "        codes = []\n",
    "\n",
    "        codes = [Path.MOVETO] + [Path.LINETO]*2 + [Path.CLOSEPOLY]\n",
    "        vertices = [(-self.beam_design.L * self.G_adj, -self.beam_design.L * self.G_adj), (0, 0),\n",
    "                    (self.beam_design.L * self.G_adj, -self.beam_design.L * self.G_adj), \n",
    "                    (-self.beam_design.L * self.G_adj, -self.beam_design.L * self.G_adj)]\n",
    "\n",
    "        codes += [Path.MOVETO] + [Path.LINETO]*2 + [Path.CLOSEPOLY] \n",
    "        vertices += [(self.beam_design.L * (1-self.G_adj), -self.beam_design.L * self.G_adj), (self.beam_design.L, 0),\n",
    "                     (self.beam_design.L * (1 + self.G_adj), -self.beam_design.L * self.G_adj), \n",
    "                     (self.beam_design.L * (1-self.G_adj), -self.beam_design.L * self.G_adj)]\n",
    "\n",
    "        codes += [Path.MOVETO] + [Path.LINETO] + [Path.CLOSEPOLY] \n",
    "        vertices += [(self.beam_design.L * (1+self.G_adj), -self.beam_design.L * self.G_adj*1.2),\n",
    "                     (self.beam_design.L * (1-self.G_adj), -self.beam_design.L * self.G_adj*1.2),\n",
    "                     (self.beam_design.L * (1-self.G_adj), -self.beam_design.L * self.G_adj*1.2)]\n",
    "\n",
    "        vertices = np.array(vertices, float)\n",
    "        path = Path(vertices, codes)\n",
    "\n",
    "        pathpatch = PathPatch(path, facecolor='None', edgecolor='green')\n",
    "\n",
    "        ax1.add_patch(pathpatch)\n",
    "        ax1.plot((0,self.beam_design.L*1),(0,0))\n",
    "#         ax1.set_title('A compound path')\n",
    "        # ax.set_size(3,3)\n",
    "        # ax.autoscale_view()\n",
    "\n",
    "        x_tail = self.beam_design.L/2\n",
    "        y_tail = self.F * self.G_adj + self.cross_section.H\n",
    "        x_head = self.beam_design.L/2\n",
    "        y_head = 0 + self.cross_section.H\n",
    "        dy = y_head + x_head/10\n",
    "        arrow = mpatches.FancyArrowPatch((x_tail, y_tail), (x_head, y_head),\n",
    "                                          mutation_scale=10)\n",
    "        ax1.add_patch(arrow)\n",
    "        ax1.axis('auto');\n",
    "#         ax1.autoscale(tight=True)\n",
    "        \n",
    "        x = self.x\n",
    "        \n",
    "        M_x = self.get_M_x()\n",
    "        ax2.plot(x, -M_x, color='red', label='moment [N.mm]')\n",
    "        leg = ax2.legend();\n",
    "\n",
    "        phi_x = self.get_phi_x()\n",
    "        ax3.plot(x, phi_x, color='green', label='phi [-]')\n",
    "        leg = ax3.legend();\n",
    "        \n",
    "        w_x = self.get_w_x()\n",
    "        ax4.plot(x, w_x, color='blue', label='$w$ [mm]')\n",
    "        leg = ax4.legend();\n",
    "                \n",
    "        kappa_x = self.get_kappa_x()\n",
    "        ax5.plot(x, kappa_x, color='black', label='$kappa$ [-]')\n",
    "        leg = ax5.legend();\n",
    "        "
   ]
  },
  {
   "cell_type": "code",
   "execution_count": null,
   "metadata": {
    "pycharm": {
     "name": "#%%\n"
    }
   },
   "outputs": [],
   "source": [
    "# bd = Beam3PtBending()\n",
    "ibd = InteractiveWindow([BeamDesign(),BoundaryConditions(),CrossSectionDesign(),Beam3PtBending()])\n",
    "ibd.interact()"
   ]
  },
  {
   "cell_type": "code",
   "execution_count": null,
   "metadata": {},
   "outputs": [],
   "source": []
  },
  {
   "cell_type": "code",
   "execution_count": null,
   "metadata": {},
   "outputs": [],
   "source": []
  },
  {
   "cell_type": "code",
   "execution_count": null,
   "metadata": {},
   "outputs": [],
   "source": []
  }
 ],
 "metadata": {
  "kernelspec": {
   "display_name": "Python 3",
   "language": "python",
   "name": "python3"
  },
  "language_info": {
   "codemirror_mode": {
    "name": "ipython",
    "version": 3
   },
   "file_extension": ".py",
   "mimetype": "text/x-python",
   "name": "python",
   "nbconvert_exporter": "python",
   "pygments_lexer": "ipython3",
   "version": "3.8.3"
  },
  "toc": {
   "base_numbering": 1,
   "nav_menu": {},
   "number_sections": true,
   "sideBar": true,
   "skip_h1_title": false,
   "title_cell": "Table of Contents",
   "title_sidebar": "Contents",
   "toc_cell": false,
   "toc_position": {
    "height": "calc(100% - 180px)",
    "left": "10px",
    "top": "150px",
    "width": "165px"
   },
   "toc_section_display": true,
   "toc_window_display": true
  }
 },
 "nbformat": 4,
 "nbformat_minor": 1
}
