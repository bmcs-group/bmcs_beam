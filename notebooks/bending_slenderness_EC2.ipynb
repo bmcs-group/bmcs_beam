{
 "cells": [
  {
   "cell_type": "markdown",
   "metadata": {},
   "source": [
    "## Bending Slenderness (Biegeschlankheitskriterien) complying with EC2\n",
    "based on the report (DAfStb Unterausschuss Nichtmetallische Bewehrung - Herleitung von Biegeschlankheitskriterien)\n",
    "that originates from the PhD:\n",
    "El Ghadioui, Redouan: „Bemessung carbonbewehrter Betonbauteile unter besonderer Betrachtung des\n",
    "Gebrauchszustandes - Entwicklung eines Modells zur wirklichkeitsnahen Verformungsberechnung“,\n",
    "Technische Universität Darmstadt, Dissertation, 2020\n",
    "![image.png](attachment:image.png)\n",
    "(Red part is implemented in this notebook)"
   ]
  },
  {
   "cell_type": "code",
   "execution_count": 1,
   "metadata": {
    "pycharm": {
     "name": "#%%\n"
    }
   },
   "outputs": [],
   "source": [
    "import numpy as np\n",
    "import sympy as sp\n",
    "from sympy import symbols"
   ]
  },
  {
   "cell_type": "code",
   "execution_count": 2,
   "metadata": {
    "pycharm": {
     "name": "#%%\n"
    }
   },
   "outputs": [],
   "source": [
    "eps_cs, eps_cd, eps_ca, beta_ds_t_t_s, k_h, eps_cd0, t, t_s, h_0, A_c, u, alpha_ds1, alpha_ds2, f_cm, f_cmo, beta_RH, RH, RH_0, beta_as_t, eps_ca_infty, f_ck, kappa_cs, alpha_e, E_s, E_c_eff, E_cm, phi, S, I= symbols(r'\\varepsilon_{cs}, \\varepsilon_{cd}, \\varepsilon_{ca}, \\beta_{ds}{(t_ts)}, k_h, \\varepsilon_{cd0}, t, t_s, h_0, A_c, u, \\alpha_{ds1}, \\alpha_{ds2}, f_{cm}, f_{cmo}, \\beta_{RH}, RH, RH_0,  \\beta_{as}{(t)}, \\varepsilon_{ca}{(\\infty)}, f_{ck}, \\kappa_{cs}, \\alpha_{e}, E_s, E_{c_eff}, E_{cm}, \\varphi, S, I', real=True, nonnegative=True)"
   ]
  },
  {
   "cell_type": "markdown",
   "metadata": {},
   "source": [
    "$$ E_{c,eff} = \\frac{E_{cm}}{1 + \\varphi_{eq} (\\infty,t_0)}$$"
   ]
  },
  {
   "cell_type": "code",
   "execution_count": 3,
   "metadata": {
    "pycharm": {
     "name": "#%%\n"
    }
   },
   "outputs": [
    {
     "data": {
      "text/plain": [
       "13461.538461538461"
      ]
     },
     "execution_count": 3,
     "metadata": {},
     "output_type": "execute_result"
    }
   ],
   "source": [
    "E_cm = 35000; phi_eq = 1.6\n",
    "E_c_eff = E_cm / (1 + phi_eq)\n",
    "E_c_eff"
   ]
  },
  {
   "cell_type": "markdown",
   "metadata": {},
   "source": [
    "$$h_0 = 2A_c/u$$"
   ]
  },
  {
   "cell_type": "code",
   "execution_count": 4,
   "metadata": {
    "pycharm": {
     "name": "#%%\n"
    }
   },
   "outputs": [],
   "source": [
    "A_c = 1000 * 300\n",
    "u = 2 * 1300\n",
    "h_0 = 2 * A_c / u"
   ]
  },
  {
   "cell_type": "markdown",
   "metadata": {},
   "source": [
    "$$\\alpha_1 = \\left[\\frac{35}{f_{cm}} \\right]^{0.7} \\hspace{1cm} \\alpha_2 = \\left[\\frac{35}{f_{cm}} \\right]^{0.2} \\hspace{1cm} \\alpha_3 = \\left[\\frac{35}{f_{cm}} \\right]^{0.5} $$"
   ]
  },
  {
   "cell_type": "code",
   "execution_count": 5,
   "metadata": {
    "pycharm": {
     "name": "#%%\n"
    }
   },
   "outputs": [
    {
     "data": {
      "text/plain": [
       "(1.1139424459794183, 1.031310306477545, 1.0801234497346435)"
      ]
     },
     "execution_count": 5,
     "metadata": {},
     "output_type": "execute_result"
    }
   ],
   "source": [
    "f_cm = 30\n",
    "alpha1 = (35/f_cm)**0.7\n",
    "alpha2 = (35/f_cm)**0.2\n",
    "alpha3 = (35/f_cm)**0.5\n",
    "alpha1, alpha2, alpha3"
   ]
  },
  {
   "cell_type": "markdown",
   "metadata": {},
   "source": [
    "$$ \\varphi_{RH} = 1 + \\frac{1 - RH/100}{0.1 . \\sqrt[3]{h_0}} \\hspace{2cm} for f_{cm} \\leq 35 MPa$$"
   ]
  },
  {
   "cell_type": "markdown",
   "metadata": {},
   "source": [
    "$$ \\varphi_{RH} = \\left[1 + \\frac{1 - RH/100}{0.1 . \\sqrt[3]{h_0}} . \\alpha_1\\right] . \\alpha_2 \\hspace{2cm} for f_{cm} > 35 MPa$$"
   ]
  },
  {
   "cell_type": "code",
   "execution_count": 6,
   "metadata": {
    "pycharm": {
     "name": "#%%\n"
    }
   },
   "outputs": [
    {
     "data": {
      "text/latex": [
       "$\\displaystyle 1.48909732465087$"
      ],
      "text/plain": [
       "1.48909732465087"
      ]
     },
     "execution_count": 6,
     "metadata": {},
     "output_type": "execute_result"
    }
   ],
   "source": [
    "RH = 70\n",
    "phi_RH = sp.Piecewise((1 + (1-RH/100)/(0.1 * h_0**(1/3)), f_cm <= 35),\n",
    "                      ((1 + ((1-RH/100)/(0.1 * h_0**(1/3))) * alpha1) * alpha2, f_cm > 35))\n",
    "phi_RH"
   ]
  },
  {
   "cell_type": "markdown",
   "metadata": {},
   "source": [
    "$$ \\beta{(f_{cm})} = \\frac{16.8}{\\sqrt{f_{cm}}} $$"
   ]
  },
  {
   "cell_type": "code",
   "execution_count": 7,
   "metadata": {
    "pycharm": {
     "name": "#%%\n"
    }
   },
   "outputs": [
    {
     "data": {
      "text/plain": [
       "3.0672463220289305"
      ]
     },
     "execution_count": 7,
     "metadata": {},
     "output_type": "execute_result"
    }
   ],
   "source": [
    "beta_fcm = 16.8 / f_cm**0.5\n",
    "beta_fcm"
   ]
  },
  {
   "cell_type": "markdown",
   "metadata": {},
   "source": [
    "$$ \\beta{(t_{0})} = \\frac{1}{0.1 + t_0^{0.20}} $$"
   ]
  },
  {
   "cell_type": "code",
   "execution_count": 8,
   "metadata": {
    "pycharm": {
     "name": "#%%\n"
    }
   },
   "outputs": [],
   "source": [
    "t_s = 3\n",
    "t = 100000000\n",
    "t_0 = 10\n",
    "t_1 = 60\n",
    "t_3 = 365"
   ]
  },
  {
   "cell_type": "code",
   "execution_count": 9,
   "metadata": {
    "pycharm": {
     "name": "#%%\n"
    }
   },
   "outputs": [
    {
     "data": {
      "text/plain": [
       "0.593509431027676"
      ]
     },
     "execution_count": 9,
     "metadata": {},
     "output_type": "execute_result"
    }
   ],
   "source": [
    "beta_t0 = 1 / (0.1 + t_0**0.20)\n",
    "beta_t0"
   ]
  },
  {
   "cell_type": "markdown",
   "metadata": {},
   "source": [
    "$$ \\beta_H = 1.5 [ 1 + (0.012 RH)^{18}] h_0 + 250 \\leq 1500 \\hspace{2cm} for f_{cm} \\leq 35 $$"
   ]
  },
  {
   "cell_type": "markdown",
   "metadata": {},
   "source": [
    "$$ \\beta_H = 1.5 [ 1 + (0.012 RH)^{18}] h_0 + 250 \\alpha_3 \\leq 1500 \\alpha_3 \\hspace{2cm} for f_{cm} \\leq 35 $$"
   ]
  },
  {
   "cell_type": "code",
   "execution_count": 10,
   "metadata": {
    "pycharm": {
     "name": "#%%\n"
    }
   },
   "outputs": [
    {
     "data": {
      "text/latex": [
       "$\\displaystyle 20229974.8400678$"
      ],
      "text/plain": [
       "20229974.8400678"
      ]
     },
     "execution_count": 10,
     "metadata": {},
     "output_type": "execute_result"
    }
   ],
   "source": [
    "beta_H = sp.Piecewise((1.5*(1 + 0.012*RH)**18 * h_0 + 250, f_cm <=35),\n",
    "                     (1.5*(1 + 0.012*RH)**18 * h_0 + 250 * alpha3, f_cm > 35))\n",
    "beta_H"
   ]
  },
  {
   "cell_type": "markdown",
   "metadata": {},
   "source": [
    "$$ \\beta_c (t,t_0) = \\left[ \\frac{(t - t_0)}{(\\beta_H + t - t_0)} \\right]^{0.3} $$"
   ]
  },
  {
   "cell_type": "markdown",
   "metadata": {},
   "source": [
    "$$ \\varphi_0 = \\varphi_{RH} . \\beta{(f_{cm})} . \\beta{(t_{0})} $$"
   ]
  },
  {
   "cell_type": "code",
   "execution_count": 11,
   "metadata": {
    "pycharm": {
     "name": "#%%\n"
    }
   },
   "outputs": [
    {
     "data": {
      "text/latex": [
       "$\\displaystyle 2.71081176695058$"
      ],
      "text/plain": [
       "2.71081176695058"
      ]
     },
     "execution_count": 11,
     "metadata": {},
     "output_type": "execute_result"
    }
   ],
   "source": [
    "phi_0 = phi_RH * beta_fcm * beta_t0\n",
    "phi_0"
   ]
  },
  {
   "cell_type": "code",
   "execution_count": 12,
   "metadata": {
    "pycharm": {
     "name": "#%%\n"
    }
   },
   "outputs": [
    {
     "data": {
      "text/latex": [
       "$\\displaystyle 0.946228818679258$"
      ],
      "text/plain": [
       "0.946228818679258"
      ]
     },
     "execution_count": 12,
     "metadata": {},
     "output_type": "execute_result"
    }
   ],
   "source": [
    "beta_ctt0 = ((t-t_0)/(beta_H + t - t_0))** 0.3\n",
    "beta_ctt0"
   ]
  },
  {
   "cell_type": "markdown",
   "metadata": {},
   "source": [
    "ANNEX B (Informative)\n",
    "Creep and shrinkage strain\n",
    "B.1 Basic equations for determining the creep coefficient\n",
    "(1) The creep coefficient qJ(t,ta} may be calculated from:"
   ]
  },
  {
   "cell_type": "markdown",
   "metadata": {},
   "source": [
    "$$ \\varphi(t,t_0) = \\varphi_0 . \\beta_c (t,t_0) $$"
   ]
  },
  {
   "cell_type": "code",
   "execution_count": 13,
   "metadata": {
    "pycharm": {
     "name": "#%%\n"
    }
   },
   "outputs": [
    {
     "data": {
      "text/latex": [
       "$\\displaystyle 2.56504821590348$"
      ],
      "text/plain": [
       "2.56504821590348"
      ]
     },
     "execution_count": 13,
     "metadata": {},
     "output_type": "execute_result"
    }
   ],
   "source": [
    "phi_tt0 = phi_0 * beta_ctt0\n",
    "phi_tt0"
   ]
  },
  {
   "cell_type": "markdown",
   "metadata": {},
   "source": [
    "- Beanspruchungen\n",
    "\n",
    "Eigenlast gk 36 % der gesamten charakteristischen Last pk\n",
    "\n",
    "Ausbaulast Δgk 24 % der gesamten charakterischen Last pk\n",
    "\n",
    "Nutzlast ψ2 ∙ qk 0,3 ∙ 40 % der gesamten charakteristischen Last pk\n",
    "\n",
    "Bemessungslast GZT 1,35 ∙ (36 % + 24 %) + 1,5 ∙ 40 % = 141 %\n",
    "\n",
    "Quasi-ständige Last GZG 36 % + 24 % + 0,3 ∙ 40 % = 72 %\n",
    "\n",
    "Verhältnis GZG / GZT 72 / 141 = 51 %\n",
    "- Relative Luftfeuchtigkeit\n",
    "RH = 70 %\n",
    "- Zeitpunkte\n",
    "Dauer der Nachbehandlung: ts = 3 Tage\n",
    "\n",
    "Eigenlast gk: t0 = 10 Tage\n",
    "\n",
    "Ausbaulast Δgk: t1 = 60 Tage\n",
    "\n",
    "Nutzlasten qk+Δqk: t2 = 365 Tage"
   ]
  },
  {
   "cell_type": "markdown",
   "metadata": {},
   "source": [
    "$$ \\varphi_{eq}(\\infty,t_0) = \\frac{\\varphi(\\infty,t_0).g_k +\\varphi(\\infty,t_1).\\Delta g_k + \\varphi(\\infty,t_2) . \\sum {\\psi_{2,i}} . q_{k,i}} {g_k + \\Delta g_k + \\sum {\\psi_{2,i}} . q_{k,i} }$$"
   ]
  },
  {
   "cell_type": "code",
   "execution_count": 14,
   "metadata": {
    "pycharm": {
     "name": "#%%\n"
    }
   },
   "outputs": [
    {
     "data": {
      "image/png": "[encoded data removed]",
      "text/plain": [
       "<Figure size 432x288 with 1 Axes>"
      ]
     },
     "metadata": {
      "needs_background": "light"
     },
     "output_type": "display_data"
    }
   ],
   "source": [
    "phi_eq = (0, .5, 1, 1.5 , 2, 2.5, 3)\n",
    "E_c_eff = E_cm / (np.ones_like(phi_eq) + phi_eq)\n",
    "\n",
    "import matplotlib.pyplot as plt \n",
    "plt.plot(E_c_eff, phi_eq)\n",
    "plt.xlabel('Ecm')\n",
    "plt.ylabel('phi_eq')\n",
    "plt.show()"
   ]
  },
  {
   "cell_type": "code",
   "execution_count": 15,
   "metadata": {
    "pycharm": {
     "name": "#%%\n"
    }
   },
   "outputs": [
    {
     "data": {
      "text/plain": [
       "1.6666666666666667"
      ]
     },
     "execution_count": 15,
     "metadata": {},
     "output_type": "execute_result"
    }
   ],
   "source": [
    "phi_t0 = 1 \n",
    "phi_t1 = 2\n",
    "phi_t2 = 3\n",
    "\n",
    "g_k = 0.36\n",
    "Delta_gk = 0.24\n",
    "psi_2i = 0.3\n",
    "q_ki = 0.40\n",
    "E_cm = 35000\n",
    "phi_eq = (phi_t0 * g_k + phi_t1 * Delta_gk + phi_t2* psi_2i * q_ki) / (g_k + Delta_gk + psi_2i * q_ki)\n",
    "E_c_eff = E_cm / (1 + phi_eq)\n",
    "phi_eq"
   ]
  },
  {
   "cell_type": "code",
   "execution_count": 16,
   "metadata": {
    "pycharm": {
     "name": "#%%\n"
    }
   },
   "outputs": [],
   "source": [
    "eta = 0.51 # = GZG / GZT"
   ]
  },
  {
   "cell_type": "code",
   "execution_count": 17,
   "metadata": {
    "pycharm": {
     "name": "#%%\n"
    }
   },
   "outputs": [
    {
     "data": {
      "text/plain": [
       "2.4307243558580458e-08"
      ]
     },
     "execution_count": 17,
     "metadata": {},
     "output_type": "execute_result"
    }
   ],
   "source": [
    "L = 6000\n",
    "f_ck = 30\n",
    "f_cd = 0.85 * f_cm / 1.5\n",
    "M_Ed = 20\n",
    "b = 1000\n",
    "h = 300\n",
    "d_2 = 80 #cover\n",
    "d = h - d_2\n",
    "mu_Ed = M_Ed / (b*d**2*f_cd)\n",
    "mu_Ed"
   ]
  },
  {
   "cell_type": "code",
   "execution_count": 18,
   "metadata": {
    "pycharm": {
     "name": "#%%\n"
    }
   },
   "outputs": [
    {
     "data": {
      "text/plain": [
       "0.37876571900826445"
      ]
     },
     "execution_count": 18,
     "metadata": {},
     "output_type": "execute_result"
    }
   ],
   "source": [
    "eps_fud = 2\n",
    "mu_Ed_bal = 0.8095 * 3.5 / (3.5 + eps_fud) * (1 - 0.416 * 3.5 / (3.5 + eps_fud))\n",
    "mu_Ed_bal"
   ]
  },
  {
   "cell_type": "code",
   "execution_count": 19,
   "metadata": {
    "pycharm": {
     "name": "#%%\n"
    }
   },
   "outputs": [],
   "source": [
    "A_sf1 = 5.02 * 100 \n",
    "A_sf2 = 5.02 * 100\n",
    "E_sf = 200000\n",
    "rho_1I = A_sf1 / (b * h)\n",
    "rho_2I = A_sf2 / (b * h)\n",
    "alpha_e = E_sf / E_c_eff\n",
    "B_I = (alpha_e - 1) * (rho_1I + rho_2I)\n",
    "A_I = B_I/h * (d + d_2)\n",
    "k_xI = (0.5 + A_I)/(1 + B_I)\n",
    "x_I = k_xI * h\n",
    "z_sf1 = d - x_I\n",
    "z_sf2 = d - d_2 - z_sf1\n",
    "\n",
    "k_I = 1 + 12 * ( 0.5 - k_xI)**2\\\n",
    "    + 12 * (alpha_e - 1) * rho_1I * (d/h - k_xI)**2\\\n",
    "    + 12 * (alpha_e - 1) * rho_1I * A_sf2/A_sf1 * (k_xI - d_2/h)**2\n",
    "I_I = k_I * b * h**3 / 12\n",
    "\n",
    "S_I = A_sf1 * z_sf1 + A_sf2 * z_sf2 # z_sf2 < 0"
   ]
  },
  {
   "cell_type": "code",
   "execution_count": 20,
   "metadata": {
    "pycharm": {
     "name": "#%%\n"
    }
   },
   "outputs": [],
   "source": [
    "import numpy as np \n",
    "\n",
    "rho_1II = A_sf1 / (b * h)\n",
    "rho_2II = A_sf2 / (b * h)\n",
    "alpha_e = E_sf / E_c_eff\n",
    "A_II = alpha_e * (rho_1II + rho_2II)\n",
    "k_xII = -A_II + np.sqrt(A_II ** 2 + 2 * alpha_e * (rho_1II + rho_2II * d_2 / d))\n",
    "x_II = k_xII * d\n",
    "z_sf1 = d - x_II\n",
    "z_sf2 = d - d_2 - z_sf1\n",
    "\n",
    "k_II = 4 * k_xII**3\\\n",
    "    + 12 * alpha_e * rho_1II * (1 - k_xII)**2\\\n",
    "    + 12 * alpha_e * rho_1II * A_sf2/A_sf1 * (k_xII - d_2/d)**2\n",
    "I_II = k_II * b * d**3 / 12\n",
    "\n",
    "S_II = A_sf1 * z_sf1 + A_sf2 * z_sf2 # z_sf2 < 0"
   ]
  },
  {
   "cell_type": "markdown",
   "metadata": {},
   "source": [
    "$$ \\frac{w_m}{L} = \\frac{5}{4} . \\frac{\\eta . \\mu_{Ed} . f_{cd}}{E_{c,eff}} . \\frac{L}{d} .\\left( \\frac{\\xi}{k_{\\mathrm{II}}} + \\frac{(1-\\xi)}{k_{\\mathrm{I}} . (h/d)^3} \\right) + Schwinden $$"
   ]
  },
  {
   "cell_type": "code",
   "execution_count": 21,
   "metadata": {
    "pycharm": {
     "name": "#%%\n"
    }
   },
   "outputs": [
    {
     "data": {
      "text/plain": [
       "(43120815.0779654, 100000000.0, 1.16070812063613e-5)"
      ]
     },
     "execution_count": 21,
     "metadata": {},
     "output_type": "execute_result"
    }
   ],
   "source": [
    "M_Ed = 100e6 # TODO: calculate this according to El Ghadioui 2020 PhD\n",
    "import sympy as sp\n",
    "f_ctm = sp.Piecewise(\n",
    "                                (0.3*f_ck**(2/3), f_ck < 50),\n",
    "                                ((2.12*np.log((1+(f_ck+8)/10))), f_ck >= 50)\n",
    "            )\n",
    "M_cr = f_ctm * I_I / x_I \n",
    "beta = 1 # one-time, short-term stressing; = 0.5 for permanent, repeated stressing\n",
    "xi = 1 - beta * (M_cr / M_Ed) **2\n",
    "w_m = (5/4) * (eta * mu_Ed * f_cd / E_c_eff) * (L / d) * (xi/k_II + (1-xi) / (k_I * (h/d)**3)) * L\n",
    "M_cr, M_Ed, w_m"
   ]
  },
  {
   "cell_type": "code",
   "execution_count": null,
   "metadata": {
    "pycharm": {
     "name": "#%%\n"
    }
   },
   "outputs": [],
   "source": []
  }
 ],
 "metadata": {
  "kernelspec": {
   "display_name": "Python 3",
   "language": "python",
   "name": "python3"
  },
  "language_info": {
   "codemirror_mode": {
    "name": "ipython",
    "version": 3
   },
   "file_extension": ".py",
   "mimetype": "text/x-python",
   "name": "python",
   "nbconvert_exporter": "python",
   "pygments_lexer": "ipython3",
   "version": "3.9.1"
  }
 },
 "nbformat": 4,
 "nbformat_minor": 4
}