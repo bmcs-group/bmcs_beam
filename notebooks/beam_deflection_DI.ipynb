{
 "cells": [
  {
   "cell_type": "markdown",
   "metadata": {
    "pycharm": {
     "name": "#%% md\n"
    }
   },
   "source": [
    "## Beam deflection with double integration"
   ]
  },
  {
   "cell_type": "code",
   "execution_count": null,
   "metadata": {
    "pycharm": {
     "name": "#%%\n"
    }
   },
   "outputs": [],
   "source": [
    "%matplotlib widget \n",
    "# Documentation needed for ipyml - notifications on push from github\n",
    "from bmcs_utils.api import InteractiveModel, IPWInteract\n",
    "import traits.api as tr\n",
    "import matplotlib.pylab as plt\n",
    "from matplotlib.path import Path\n",
    "import matplotlib.patches as mpatches\n",
    "import numpy as np\n",
    "import sympy as sp\n",
    "from scipy.integrate import cumtrapz\n",
    "sp.init_printing()"
   ]
  },
  {
   "cell_type": "code",
   "execution_count": null,
   "metadata": {
    "pycharm": {
     "name": "#%%\n"
    }
   },
   "outputs": [],
   "source": [
    "class BeamBC(tr.HasTraits):\n",
    "    phi0_list = tr.List\n",
    "    w0_list = tr.List\n",
    "    \n",
    "class BeamRC3Pt(BeamBC):\n",
    "    pass"
   ]
  },
  {
   "cell_type": "code",
   "execution_count": null,
   "metadata": {
    "pycharm": {
     "name": "#%%\n"
    }
   },
   "outputs": [],
   "source": [
    "x, M, L, P= sp.symbols('x, M, L, P')\n",
    "PtoM = {P : M*4/L}\n",
    "# M_ = 2*M/L - 4*M/L*(x-L/2)\n",
    "M_ = sp.Piecewise(\n",
    "    (0,x<0),\n",
    "    (2*M*x/L, x <= L/2),\n",
    "    ((2*M*x/L - (4*M/L)*(x-L/2)), x<=L),\n",
    "    (0, True)\n",
    "            )\n",
    "M_"
   ]
  },
  {
   "cell_type": "code",
   "execution_count": null,
   "metadata": {
    "pycharm": {
     "name": "#%%\n"
    }
   },
   "outputs": [],
   "source": [
    "get_M = sp.lambdify((x,M,L), M_)"
   ]
  },
  {
   "cell_type": "code",
   "execution_count": null,
   "metadata": {},
   "outputs": [],
   "source": [
    "phi_ = sp.integrate(M_,(x))\n",
    "phi_"
   ]
  },
  {
   "cell_type": "code",
   "execution_count": null,
   "metadata": {
    "pycharm": {
     "name": "#%%\n"
    }
   },
   "outputs": [],
   "source": [
    "# phi_ = sp.integrate(M_,x)\n",
    "phi_ = sp.Piecewise((M*x**2/L - P*L**2/16, x <= L/2),\n",
    "    (P*x**2/4 - P*L**2/16 - P/2*(x-L/2)**2, x > L/2))\n",
    "         \n",
    "phi_"
   ]
  },
  {
   "cell_type": "code",
   "execution_count": null,
   "metadata": {},
   "outputs": [],
   "source": [
    "phi_ = phi_.subs(PtoM)\n",
    "phi_"
   ]
  },
  {
   "cell_type": "code",
   "execution_count": null,
   "metadata": {},
   "outputs": [],
   "source": [
    "get_phi = sp.lambdify((x,M,L), phi_)"
   ]
  },
  {
   "cell_type": "code",
   "execution_count": null,
   "metadata": {},
   "outputs": [],
   "source": [
    "w_ = sp.integrate(phi_,x)\n",
    "w_"
   ]
  },
  {
   "cell_type": "code",
   "execution_count": null,
   "metadata": {},
   "outputs": [],
   "source": [
    "get_w = sp.lambdify((x,M,L), w_)"
   ]
  },
  {
   "cell_type": "code",
   "execution_count": null,
   "metadata": {
    "pycharm": {
     "name": "#%%\n"
    }
   },
   "outputs": [],
   "source": [
    "from bmcs_beam.models.moment_curvature.moment_curvature import MomentCurvature\n"
   ]
  },
  {
   "cell_type": "code",
   "execution_count": null,
   "metadata": {
    "pycharm": {
     "name": "#%%\n"
    }
   },
   "outputs": [],
   "source": [
    "%%html\n",
    "<style>\n",
    ".output_wrapper button.btn.btn-default,\n",
    ".output_wrapper .ui-dialog-titlebar {\n",
    "  display: none;\n",
    "}\n",
    "</style>"
   ]
  },
  {
   "cell_type": "code",
   "execution_count": null,
   "metadata": {
    "pycharm": {
     "name": "#%%\n"
    }
   },
   "outputs": [],
   "source": [
    "class Beam3PtBending(InteractiveModel):\n",
    "    '''\n",
    "    Todo: 1- how to have tr.int\n",
    "          2- divide it to more classes\n",
    "          3- moving point load, line load, load combinations\n",
    "    '''\n",
    "    name = 'Inputs'\n",
    "    \n",
    "    mc_function = tr.Instance(MomentCurvature)\n",
    "   \n",
    "    # Reinforcement\n",
    "    E_carbon = tr.Float(200000, param=True, latex='E_r [MPa]', minmax=(200000,300000)) \n",
    "    width = tr.Float(10, param=True, latex='rov_w [mm]', minmax=(10,450)) \n",
    "    thickness = tr.Float(1, param=True, latex='rov_t [mm]', minmax=(1,100))\n",
    "    spacing = tr.Float(1, param=True, latex='ro_s [mm]', minmax=(1,100))\n",
    "    n_layers = tr.Float(1, param=True, latex='n_l [-]', minmax=(1,100))\n",
    "    A_roving = tr.Float(1, param=True, latex='A_r [mm2]', minmax=(1,100))\n",
    "    \n",
    "    #Concerte cross section\n",
    "    L = tr.Float(5000, param=True, latex='L [mm]', minmax=(10,10000))\n",
    "    H = tr.Float(10, param=True, latex='H [mm]', minmax=(10,500))\n",
    "    B = tr.Float(10, param=True, latex='B [mm]', minmax=(10,500))\n",
    "    E_con = tr.Float(14000, param=True, latex='E [MPa]', minmax=(14000,41000))\n",
    "    F = tr.Float(10, param=True, latex='F [N]', minmax=(10,1000))\n",
    "    n_x = tr.Float(100, param=True, latex='n_x', minmax=(1,1000))\n",
    "    \n",
    "    param_names = ['L', 'H', 'B', 'E_con' ,'F', 'E_carbon', 'width','thickness', 'spacing', 'n_layers', 'A_roving']\n",
    "    \n",
    "    x = tr.Property(depends_on = '+param')\n",
    "    @tr.cached_property\n",
    "    def _get_x(self):\n",
    "        return np.linspace(0,self.L,self.n_x)\n",
    "    \n",
    "    E_comp = tr.Property(depends_on = '+param')\n",
    "    @tr.cached_property\n",
    "    def _get_E_comp(self):\n",
    "        A_composite = self.B * self.H\n",
    "        n_rovings = self.width / self.spacing \n",
    "        A_layer = n_rovings * self.A_roving \n",
    "        A_carbon = self.n_layers * A_layer \n",
    "        A_concrete = A_composite - A_carbon \n",
    "        E_comp = (self.E_carbon * A_carbon + self.E_con * A_concrete) / (A_composite)\n",
    "        return E_comp   \n",
    "\n",
    "    def get_M_x(self):\n",
    "        M = self.F / 2 * self.L / 2\n",
    "        M_x = get_M(self.x, M, self.L)\n",
    "        return M_x\n",
    "    \n",
    "    def get_kappa_x(self):\n",
    "        M = self.get_M_x()\n",
    "#        I = (self.B*self.H**3)/12\n",
    "        return mc.get_kappa(M)\n",
    "#        return M / I / self.E_comp\n",
    "    \n",
    "    def get_phi_x(self):\n",
    "        kappa_x = self.get_kappa_x()\n",
    "        phi_x = cumtrapz(kappa_x, self.x, initial=0)\n",
    "        phi_L2 = np.interp(self.L/2, self.x, phi_x)\n",
    "        phi_x -= phi_L2\n",
    "        return phi_x\n",
    "    \n",
    "    def get_w_x(self):\n",
    "        phi_x = self.get_phi_x()\n",
    "        w_x = cumtrapz(phi_x, self.x, initial=0)\n",
    "        w_x += w_x[0]\n",
    "        return w_x\n",
    "    \n",
    "    def subplots(self, fig):\n",
    "        return fig.subplots(4, 1)\n",
    "\n",
    "    def update_plot(self, axes):\n",
    "        ax1, ax2, ax3, ax4 = axes\n",
    "        \n",
    "#         ax1.axis('equal');\n",
    "        ax1.fill([0,self.L,self.L,0,0], [0,0,self.H,self.H,0],color='gray')\n",
    "        ax1.plot([0,self.L,self.L,0,0], [0,0,self.H,self.H,0],color='black')\n",
    "        \n",
    "        x = self.x\n",
    "        \n",
    "        M_x = self.get_M_x()\n",
    "        ax2.plot(x, -M_x, color='red', label='moment [N.mm]')\n",
    "        leg = ax2.legend();\n",
    "\n",
    "        phi_x = self.get_phi_x()\n",
    "        ax3.plot(x, phi_x, color='green', label='phi []')\n",
    "        leg = ax3.legend();\n",
    "        \n",
    "        w_x = self.get_w_x()\n",
    "        ax4.plot(x, w_x, color='blue', label='$w$ [mm]')\n",
    "        leg = ax4.legend();"
   ]
  },
  {
   "cell_type": "code",
   "execution_count": null,
   "metadata": {
    "pycharm": {
     "name": "#%%\n"
    }
   },
   "outputs": [],
   "source": [
    "bd = Beam3PtBending()"
   ]
  },
  {
   "cell_type": "code",
   "execution_count": null,
   "metadata": {},
   "outputs": [],
   "source": [
    "bd = Beam3PtBending()\n",
    "ibd = IPWInteract(bd)\n",
    "ibd.interact()"
   ]
  },
  {
   "cell_type": "code",
   "execution_count": null,
   "metadata": {
    "hide_input": true
   },
   "outputs": [],
   "source": [
    "%%html\n",
    "<style>\n",
    ".output_wrapper button.btn.btn-default,\n",
    ".output_wrapper .ui-dialog-titlebar {\n",
    "  display: none;\n",
    "}\n",
    "</style>"
   ]
  },
  {
   "cell_type": "code",
   "execution_count": null,
   "metadata": {},
   "outputs": [],
   "source": [
    "class Beam3PtBending(InteractiveModel):\n",
    "    '''\n",
    "    Todo: 1- how to have tr.int\n",
    "          2- divide it to more classes\n",
    "          3- moving point load, line load, load combinations\n",
    "    '''\n",
    "    name = 'Inputs'\n",
    "    \n",
    "    mc_function = tr.Instance(MomentCurvature)\n",
    "   \n",
    "    # Reinforcement\n",
    "    E_carbon = tr.Float(200000, param=True, latex='E_r [MPa]', minmax=(200000,300000)) \n",
    "    width = tr.Float(10, param=True, latex='rov_w [mm]', minmax=(10,450)) \n",
    "    thickness = tr.Float(1, param=True, latex='rov_t [mm]', minmax=(1,100))\n",
    "    spacing = tr.Float(1, param=True, latex='ro_s [mm]', minmax=(1,100))\n",
    "    n_layers = tr.Float(1, param=True, latex='n_l [-]', minmax=(1,100))\n",
    "    A_roving = tr.Float(1, param=True, latex='A_r [mm2]', minmax=(1,100))\n",
    "    \n",
    "    #Concerte cross section\n",
    "    L = tr.Float(5000, param=True, latex='L [mm]', minmax=(10,10000))\n",
    "    H = tr.Float(10, param=True, latex='H [mm]', minmax=(10,500))\n",
    "    B = tr.Float(10, param=True, latex='B [mm]', minmax=(10,500))\n",
    "    E_con = tr.Float(14000, param=True, latex='E [MPa]', minmax=(14000,41000))\n",
    "    F = tr.Float(10, param=True, latex='F [N]', minmax=(10,1000))\n",
    "    n_x = tr.Float(100, param=True, latex='n_x', minmax=(1,1000))\n",
    "    \n",
    "    param_names = ['L', 'H', 'B', 'E_con' ,'F', 'E_carbon', 'width','thickness', 'spacing', 'n_layers', 'A_roving']\n",
    "    \n",
    "    x = tr.Property(depends_on = '+param')\n",
    "    @tr.cached_property\n",
    "    def _get_x(self):\n",
    "        return np.linspace(0,self.L,self.n_x)\n",
    "    \n",
    "    E_comp = tr.Property(depends_on = '+param')\n",
    "    @tr.cached_property\n",
    "    def _get_E_comp(self):\n",
    "        A_composite = self.B * self.H\n",
    "        n_rovings = self.width / self.spacing \n",
    "        A_layer = n_rovings * self.A_roving \n",
    "        A_carbon = self.n_layers * A_layer \n",
    "        A_concrete = A_composite - A_carbon \n",
    "        E_comp = (self.E_carbon * A_carbon + self.E_con * A_concrete) / (A_composite)\n",
    "        return E_comp   \n",
    "\n",
    "    def get_M_x(self):\n",
    "        M = self.F / 2 * self.L / 2\n",
    "        M_x = get_M(self.x, M, self.L)\n",
    "        return M_x\n",
    "    \n",
    "    def get_kappa_x(self):\n",
    "        M = self.get_M_x()\n",
    "#        I = (self.B*self.H**3)/12\n",
    "        return mc.get_kappa(M)\n",
    "#        return M / I / self.E_comp\n",
    "    \n",
    "    def get_phi_x(self):\n",
    "        kappa_x = self.get_kappa_x()\n",
    "        phi_x = cumtrapz(kappa_x, self.x, initial=0)\n",
    "        phi_L2 = np.interp(self.L/2, self.x, phi_x)\n",
    "        phi_x -= phi_L2\n",
    "        return phi_x\n",
    "    \n",
    "    def get_w_x(self):\n",
    "        phi_x = self.get_phi_x()\n",
    "        w_x = cumtrapz(phi_x, self.x, initial=0)\n",
    "        w_x += w_x[0]\n",
    "        return w_x\n",
    "    \n",
    "    def subplots(self, fig):\n",
    "        return fig.subplots(4, 1)\n",
    "\n",
    "    def update_plot(self, axes):\n",
    "        ax1, ax2, ax3, ax4 = axes\n",
    "        \n",
    "#         ax1.axis('equal');\n",
    "        ax1.fill([0,self.L,self.L,0,0], [0,0,self.H,self.H,0],color='gray')\n",
    "        ax1.plot([0,self.L,self.L,0,0], [0,0,self.H,self.H,0],color='black')\n",
    "        \n",
    "        x = self.x\n",
    "        \n",
    "        M_x = self.get_M_x()\n",
    "        ax2.plot(x, -M_x, color='red', label='moment [N.mm]')\n",
    "        leg = ax2.legend();\n",
    "\n",
    "        phi_x = self.get_phi_x()\n",
    "        ax3.plot(x, phi_x, color='green', label='phi []')\n",
    "        leg = ax3.legend();\n",
    "        \n",
    "        w_x = self.get_w_x()\n",
    "        ax4.plot(x, w_x, color='blue', label='$w$ [mm]')\n",
    "        leg = ax4.legend();"
   ]
  },
  {
   "cell_type": "code",
   "execution_count": null,
   "metadata": {},
   "outputs": [],
   "source": [
    "bd = Beam3PtBending()"
   ]
  },
  {
   "cell_type": "code",
   "execution_count": null,
   "metadata": {
    "pycharm": {
     "name": "#%%\n"
    }
   },
   "outputs": [],
   "source": [
    "bd = Beam3PtBending()\n",
    "ibd = IPWInteract(bd)\n",
    "ibd.interact()"
   ]
  },
  {
   "cell_type": "code",
   "execution_count": null,
   "metadata": {
    "pycharm": {
     "name": "#%%\n"
    }
   },
   "outputs": [],
   "source": [
    "class section(InteractiveModel):\n",
    "\n",
    "    name = 'section'\n",
    "   \n",
    "    # Reinforcement\n",
    "    E_carbon = tr.Float(200000, param=True, latex='E_r [MPa]', minmax=(200000,300000)) \n",
    "    width = tr.Float(10, param=True, latex='rov_w [mm]', minmax=(10,450)) \n",
    "    thickness = tr.Float(1, param=True, latex='rov_t [mm]', minmax=(1,10))\n",
    "    spacing = tr.Float(1, param=True, latex='ro_s [mm]', minmax=(1,100))\n",
    "    n_layers = tr.Float(1, param=True, latex='n_l [-]', minmax=(1,10))\n",
    "    A_roving = tr.Float(1, param=True, latex='A_r [mm2]', minmax=(1,100))\n",
    "    \n",
    "    #Concerte cross section\n",
    "    L = tr.Float(5000, param=True, latex='L [mm]', minmax=(10,10000))\n",
    "    H = tr.Float(15, param=True, latex='H [mm]', minmax=(15,500))\n",
    "    B = tr.Float(15, param=True, latex='B [mm]', minmax=(15,500))\n",
    "    E_con = tr.Float(14000, param=True, latex='E [MPa]', minmax=(14000,41000))\n",
    "    F = tr.Float(10, param=True, latex='F [N]', minmax=(10,1000))\n",
    "    n_x = tr.Float(1000, param=True, latex='n_x', minmax=(1,1000))\n",
    "    \n",
    "    param_names = ['H', 'B', 'E_con', 'E_carbon', 'width','thickness', 'spacing', 'n_layers', 'A_roving']\n",
    "    \n",
    "    def get_comp_E(self):\n",
    "        A_composite = self.B * self.H\n",
    "        n_rovings = self.width / self.spacing \n",
    "        A_layer = n_rovings * self.A_roving \n",
    "        A_carbon = self.n_layers * A_layer \n",
    "        A_concrete = A_composite - A_carbon \n",
    "        E_comp = (self.E_carbon * A_carbon + self.E_con * A_concrete) / (A_composite)\n",
    "        return E_comp\n",
    "    \n",
    "\n",
    "    def get_M_x(self):\n",
    "        x = np.linspace(0,self.L,self.n_x)\n",
    "        M = self.F / 2 * self.L / 2\n",
    "        M_x = get_M(x,M,self.L)\n",
    "        return x, M_x\n",
    "    \n",
    "    def get_Th_x(self):\n",
    "        x = np.linspace(0,self.L,self.n_x)\n",
    "        M = self.F / 2 * self.L / 2\n",
    "        E_comp = self.get_comp_E()\n",
    "        Th_x = get_theta(x,M,self.L) \n",
    "        I = (self.B*self.H**3)/12\n",
    "        Th_x = Th_x / (E_comp*I)\n",
    "        return x, Th_x\n",
    "    \n",
    "    def get_D_x(self):\n",
    "        x = np.linspace(0,self.L,self.n_x)\n",
    "        M = self.F / 2 * self.L / 2\n",
    "        E_comp = self.get_comp_E()\n",
    "        D_x = get_Delta(x,M,self.L)\n",
    "        I = (self.B*self.H**3)/12\n",
    "        D_x = D_x / (E_comp*I)\n",
    "        return x, D_x\n",
    "      \n",
    "    def get_phi_x(self):\n",
    "        x, M_x = self.get_M_x()\n",
    "        phi_x = np.trapz(M_x, x)\n",
    "        return phi_x\n",
    "    \n",
    "    def subplots(self, fig):\n",
    "        return fig.subplots(1, 1)\n",
    "\n",
    "    def update_plot(self, ax):     \n",
    "        ax.axis([0, self.B, 0, self.H]);\n",
    "#         ax.axis('tight');\n",
    "        ax.fill([0,self.B,self.B,0,0], [0,0,self.H,self.H,0],color='gray')\n",
    "        ax.plot([0,self.B,self.B,0,0], [0,0,self.H,self.H,0],color='black')\n",
    "        ax.plot([self.B/2 - self.width/2, self.B/2 + self.width/2], \n",
    "                [self.H/10,self.H/10],color='Blue',\n",
    "                linewidth=self.n_layers*self.thickness)       \n",
    "        ax.annotate('E_composite = {} GPa'.format(np.round(self.get_comp_E()/1000),0),\n",
    "            xy=(self.B/10,self.H/2), color='white')"
   ]
  },
  {
   "cell_type": "code",
   "execution_count": null,
   "metadata": {
    "pycharm": {
     "name": "#%%\n"
    }
   },
   "outputs": [],
   "source": [
    "bd = section()\n",
    "ibd = IPWInteract(bd,figsize=(3,3))\n",
    "ibd.interact()"
   ]
  },
  {
   "cell_type": "code",
   "execution_count": null,
   "metadata": {
    "pycharm": {
     "name": "#%%\n"
    }
   },
   "outputs": [],
   "source": [
    "import numpy as np\n",
    "from matplotlib.path import Path\n",
    "from matplotlib.patches import PathPatch\n",
    "import matplotlib.pyplot as plt\n",
    "\n",
    "\n",
    "vertices = []\n",
    "codes = []\n",
    "\n",
    "codes = [Path.MOVETO] + [Path.LINETO]*2 + [Path.CLOSEPOLY]\n",
    "vertices = [(10, .1), (9.9, 0), (10.1, 0), (10, .1)]\n",
    "\n",
    "codes += [Path.MOVETO] + [Path.LINETO]*2 + [Path.CLOSEPOLY]\n",
    "vertices += [(0, 0), (.1, .1), (.2, 0), (.1, .1)]\n",
    "\n",
    "vertices = np.array(vertices, float)\n",
    "path = Path(vertices, codes)\n",
    "\n",
    "pathpatch = PathPatch(path, facecolor='None', edgecolor='green')\n",
    "\n",
    "fig, ax = plt.subplots()\n",
    "ax.add_patch(pathpatch)\n",
    "ax.plot((.1,10),(.1,.1))\n",
    "ax.set_title('A compound path')\n",
    "# ax.set_size(3,3)\n",
    "# ax.autoscale_view()\n",
    "\n",
    "plt.show()\n",
    "\n",
    "x_tail = 5\n",
    "y_tail = 1\n",
    "x_head = 5\n",
    "y_head = .1\n",
    "dy = y_head + x_head/10\n",
    "arrow = mpatches.FancyArrowPatch((x_tail, y_tail), (x_head, y_head),\n",
    "                                 mutation_scale=10)\n",
    "ax.add_patch(arrow)\n",
    "ax.axis('equal');\n",
    "# ax.autoscale(tight=True)\n",
    "# ax.set_ylim(0,2)"
   ]
  },
  {
   "cell_type": "code",
   "execution_count": null,
   "metadata": {},
   "outputs": [],
   "source": []
  },
  {
   "cell_type": "code",
   "execution_count": null,
   "metadata": {},
   "outputs": [],
   "source": [
    "bd = section()\n",
    "ibd = IPWInteract(bd,figsize=(3,3))\n",
    "ibd.interact()"
   ]
  },
  {
   "cell_type": "code",
   "execution_count": null,
   "metadata": {},
   "outputs": [],
   "source": [
    "import numpy as np\n",
    "from matplotlib.path import Path\n",
    "from matplotlib.patches import PathPatch\n",
    "import matplotlib.pyplot as plt\n",
    "\n",
    "\n",
    "vertices = []\n",
    "codes = []\n",
    "\n",
    "codes = [Path.MOVETO] + [Path.LINETO]*2 + [Path.CLOSEPOLY]\n",
    "vertices = [(10, .1), (9.9, 0), (10.1, 0), (10, .1)]\n",
    "\n",
    "codes += [Path.MOVETO] + [Path.LINETO]*2 + [Path.CLOSEPOLY]\n",
    "vertices += [(0, 0), (.1, .1), (.2, 0), (.1, .1)]\n",
    "\n",
    "vertices = np.array(vertices, float)\n",
    "path = Path(vertices, codes)\n",
    "\n",
    "pathpatch = PathPatch(path, facecolor='None', edgecolor='green')\n",
    "\n",
    "fig, ax = plt.subplots()\n",
    "ax.add_patch(pathpatch)\n",
    "ax.plot((.1,10),(.1,.1))\n",
    "ax.set_title('A compound path')\n",
    "# ax.set_size(3,3)\n",
    "# ax.autoscale_view()\n",
    "\n",
    "plt.show()\n",
    "\n",
    "x_tail = 5\n",
    "y_tail = 1\n",
    "x_head = 5\n",
    "y_head = .1\n",
    "dy = y_head + x_head/10\n",
    "arrow = mpatches.FancyArrowPatch((x_tail, y_tail), (x_head, y_head),\n",
    "                                 mutation_scale=10)\n",
    "ax.add_patch(arrow)\n",
    "ax.axis('equal');\n",
    "# ax.autoscale(tight=True)\n",
    "# ax.set_ylim(0,2)"
   ]
  },
  {
   "cell_type": "code",
   "execution_count": null,
   "metadata": {
    "pycharm": {
     "name": "#%%\n"
    }
   },
   "outputs": [],
   "source": []
  }
 ],
 "metadata": {
  "kernelspec": {
   "display_name": "Python 3",
   "language": "python",
   "name": "python3"
  },
  "language_info": {
   "codemirror_mode": {
    "name": "ipython",
    "version": 3
   },
   "file_extension": ".py",
   "mimetype": "text/x-python",
   "name": "python",
   "nbconvert_exporter": "python",
   "pygments_lexer": "ipython3",
   "version": "3.8.2"
  },
  "toc": {
   "base_numbering": 1,
   "nav_menu": {},
   "number_sections": true,
   "sideBar": true,
   "skip_h1_title": false,
   "title_cell": "Table of Contents",
   "title_sidebar": "Contents",
   "toc_cell": false,
   "toc_position": {},
   "toc_section_display": true,
   "toc_window_display": true
  }
 },
 "nbformat": 4,
 "nbformat_minor": 1
}
