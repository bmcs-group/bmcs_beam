{
 "cells": [
  {
   "cell_type": "code",
   "execution_count": 1,
   "metadata": {},
   "outputs": [],
   "source": [
    "%matplotlib widget"
   ]
  },
  {
   "cell_type": "code",
   "execution_count": 2,
   "metadata": {},
   "outputs": [],
   "source": [
    "from bmcs_cross_section.mkappa.mkappa import MKappa\n",
    "from bmcs_cross_section.api import TShape, ReinfLayer, EC2\n",
    "from bmcs_cross_section.matmod import PWLConcreteMatMod, EC2ConcreteMatMod\n",
    "\n",
    "from bmcs_beam.beam_config.boundary_conditions import BoundaryConfig\n",
    "from bmcs_beam.beam_config.boundary_conditions import BoundaryConditions\n",
    "from bmcs_beam.bending.deflection_profile import DeflectionProfile\n",
    "from bmcs_beam.beam_config.beam_design import BeamDesign\n",
    "import numpy as np\n",
    "import sympy as sp\n",
    "import matplotlib.pyplot as plt\n",
    "import bmcs_utils.api as bu"
   ]
  },
  {
   "cell_type": "code",
   "execution_count": 3,
   "metadata": {},
   "outputs": [],
   "source": [
    "def get_Fu_and_Fs(dp, mc, bl1, n_i, rho_range=(0.0025, 0.025), slenderness_range=(3, 35)):\n",
    "    rho_range = np.linspace(*rho_range, n_i)\n",
    "    slenderness_range = np.linspace(*slenderness_range, n_i)\n",
    "\n",
    "    d = mc.cross_section_shape_.B -  bl1.z\n",
    "    b = mc.cross_section_shape_.B\n",
    "    area_g = b * d\n",
    "\n",
    "    rho_grid, sl_grid = np.meshgrid(rho_range, slenderness_range) \n",
    "    F_u_grid = np.zeros_like(rho_grid)\n",
    "    F_s_grid = np.zeros_like(rho_grid)\n",
    "\n",
    "    _ , ax = plt.subplots()\n",
    "    ax.set_xlabel(r'$w$ [mm]')\n",
    "    ax.set_ylabel(r'$F$ [KN]')\n",
    "\n",
    "    for sl_idx in range(0,len(slenderness_range)):\n",
    "        for rho_idx in range(0,len(rho_range)):      \n",
    "            rho = rho_grid[rho_idx, sl_idx]\n",
    "            sl = sl_grid[rho_idx, sl_idx]\n",
    "\n",
    "            print('parameter combination', rho, sl)\n",
    "\n",
    "            # assigning the grid area (area_g) to the reinforcement area variable\n",
    "            A_j_g = rho * area_g\n",
    "            bl1.A = A_j_g\n",
    "\n",
    "            # assigning the grid length (L_g) to the beam length variable\n",
    "            L_g = sl * d\n",
    "            dp.beam_design.L = L_g\n",
    "\n",
    "            # running the deflection analysis \n",
    "            F_data, w_data = dp.get_Fw()\n",
    "\n",
    "            # plotting, post-processing & saving the data\n",
    "            ax.plot(w_data, F_data/1000, label = \"rho={}%-sl={} \".format(rho * 100, sl))\n",
    "\n",
    "            w_s = dp.beam_design.L / 250\n",
    "            F_u = max(F_data)\n",
    "            F_s = np.interp(w_s, w_data, F_data, right=F_u*2)\n",
    "\n",
    "            F_u_grid[rho_idx,sl_idx] = F_u\n",
    "            F_s_grid[rho_idx,sl_idx] = F_s\n",
    "            \n",
    "    return F_u_grid, F_s_grid, rho_grid, sl_grid"
   ]
  },
  {
   "cell_type": "code",
   "execution_count": 14,
   "metadata": {},
   "outputs": [
    {
     "name": "stderr",
     "output_type": "stream",
     "text": [
      "C:\\Users\\srate\\miniconda3\\envs\\bmcs_env\\lib\\site-packages\\traits\\trait_types.py:180: ComplexWarning: Casting complex values to real discards the imaginary part\n",
      "  return nb_float(value)\n"
     ]
    }
   ],
   "source": [
    "f_ck = 30\n",
    "mc = MKappa(name='moment-curvature',n_m=100, n_kappa = 100, low_kappa=0.0, high_kappa=0.00009)\n",
    "mc.matrix = 'piecewise linear'\n",
    "mc.matrix_.trait_set(\n",
    "    E_cc = EC2.get_E_cm(f_ck), \n",
    "    E_ct = EC2.get_E_cm(f_ck),\n",
    "    eps_cr = 0.000125 * ((f_ck**0.5)/(f_ck/10)**0.3)/((30**0.5)/(30/10)**0.3),\n",
    "    eps_cy = EC2.get_eps_c2(f_ck),\n",
    "    eps_cu = EC2.get_eps_cu2(f_ck),\n",
    "    mu = 0.00\n",
    ")\n",
    "mc.cross_section_shape = 'rectangle'\n",
    "mc.cross_section_shape_.trait_set(B = 1000, H = 300)\n",
    "csl = mc.cross_section_layout\n",
    "bl1 = ReinfLayer(name='steel 1', z=100, A=231.04, count=1 ,E=203000, f_sy=560)\n",
    "bl1.matmod = 'carbon'\n",
    "csl.add_layer(bl1)"
   ]
  },
  {
   "cell_type": "code",
   "execution_count": 15,
   "metadata": {},
   "outputs": [],
   "source": [
    "dp = DeflectionProfile(mc=mc)\n",
    "dp.beam_design.beam_conf_name = BoundaryConfig.FOUR_PB\n",
    "dp.beam_design.beam_conf_name.first_load_distance = 0"
   ]
  },
  {
   "cell_type": "code",
   "execution_count": 16,
   "metadata": {},
   "outputs": [
    {
     "name": "stdout",
     "output_type": "stream",
     "text": [
      "M - k recalculated\n",
      "No solution The iteration is not making good progress, as measured by the \n",
      "  improvement from the last ten iterations.\n"
     ]
    },
    {
     "data": {
      "application/vnd.jupyter.widget-view+json": {
       "model_id": "eb08bcc776f04b988336870e7780653e",
       "version_major": 2,
       "version_minor": 0
      },
      "text/plain": [
       "VBox(children=(HBox(children=(VBox(children=(Tree(layout=Layout(align_items='stretch', border='solid 1px black…"
      ]
     },
     "metadata": {},
     "output_type": "display_data"
    }
   ],
   "source": [
    "dp.app()"
   ]
  },
  {
   "cell_type": "code",
   "execution_count": 13,
   "metadata": {},
   "outputs": [
    {
     "data": {
      "application/vnd.jupyter.widget-view+json": {
       "model_id": "2b191acf1db64785bd4a470e9260e05b",
       "version_major": 2,
       "version_minor": 0
      },
      "text/plain": [
       "Canvas(toolbar=Toolbar(toolitems=[('Home', 'Reset original view', 'home', 'home'), ('Back', 'Back to previous …"
      ]
     },
     "metadata": {},
     "output_type": "display_data"
    },
    {
     "name": "stdout",
     "output_type": "stream",
     "text": [
      "parameter combination 0.01 3.0\n",
      "parameter combination 0.01 13.666666666666666\n",
      "parameter combination 0.01 24.333333333333332\n"
     ]
    },
    {
     "ename": "TypeError",
     "evalue": "Cannot cast array data from dtype('O') to dtype('float64') according to the rule 'safe'",
     "output_type": "error",
     "traceback": [
      "\u001b[1;31m---------------------------------------------------------------------------\u001b[0m",
      "\u001b[1;31mTypeError\u001b[0m                                 Traceback (most recent call last)",
      "\u001b[1;32m<ipython-input-13-6a3a8e66e153>\u001b[0m in \u001b[0;36m<module>\u001b[1;34m\u001b[0m\n\u001b[1;32m----> 1\u001b[1;33m \u001b[0mF_u_grid\u001b[0m\u001b[1;33m,\u001b[0m \u001b[0mF_s_grid\u001b[0m\u001b[1;33m,\u001b[0m \u001b[0mrho_grid\u001b[0m\u001b[1;33m,\u001b[0m \u001b[0msl_grid\u001b[0m \u001b[1;33m=\u001b[0m \u001b[0mget_Fu_and_Fs\u001b[0m\u001b[1;33m(\u001b[0m\u001b[0mdp\u001b[0m\u001b[1;33m,\u001b[0m \u001b[0mmc\u001b[0m\u001b[1;33m,\u001b[0m \u001b[0mbl1\u001b[0m\u001b[1;33m,\u001b[0m \u001b[1;36m4\u001b[0m\u001b[1;33m,\u001b[0m \u001b[0mrho_range\u001b[0m\u001b[1;33m=\u001b[0m\u001b[1;33m(\u001b[0m\u001b[1;36m0.01\u001b[0m\u001b[1;33m,\u001b[0m \u001b[1;36m0.025\u001b[0m\u001b[1;33m)\u001b[0m\u001b[1;33m,\u001b[0m \u001b[0mslenderness_range\u001b[0m\u001b[1;33m=\u001b[0m\u001b[1;33m(\u001b[0m\u001b[1;36m3\u001b[0m\u001b[1;33m,\u001b[0m \u001b[1;36m35\u001b[0m\u001b[1;33m)\u001b[0m\u001b[1;33m)\u001b[0m\u001b[1;33m\u001b[0m\u001b[1;33m\u001b[0m\u001b[0m\n\u001b[0m",
      "\u001b[1;32m<ipython-input-3-c0b8982230f4>\u001b[0m in \u001b[0;36mget_Fu_and_Fs\u001b[1;34m(dp, mc, bl1, n_i, rho_range, slenderness_range)\u001b[0m\n\u001b[0;32m     31\u001b[0m \u001b[1;33m\u001b[0m\u001b[0m\n\u001b[0;32m     32\u001b[0m             \u001b[1;31m# running the deflection analysis\u001b[0m\u001b[1;33m\u001b[0m\u001b[1;33m\u001b[0m\u001b[1;33m\u001b[0m\u001b[0m\n\u001b[1;32m---> 33\u001b[1;33m             \u001b[0mF_data\u001b[0m\u001b[1;33m,\u001b[0m \u001b[0mw_data\u001b[0m \u001b[1;33m=\u001b[0m \u001b[0mdp\u001b[0m\u001b[1;33m.\u001b[0m\u001b[0mget_Fw\u001b[0m\u001b[1;33m(\u001b[0m\u001b[1;33m)\u001b[0m\u001b[1;33m\u001b[0m\u001b[1;33m\u001b[0m\u001b[0m\n\u001b[0m\u001b[0;32m     34\u001b[0m \u001b[1;33m\u001b[0m\u001b[0m\n\u001b[0;32m     35\u001b[0m             \u001b[1;31m# plotting, post-processing & saving the data\u001b[0m\u001b[1;33m\u001b[0m\u001b[1;33m\u001b[0m\u001b[1;33m\u001b[0m\u001b[0m\n",
      "\u001b[1;32md:\\imb\\pycharm_workspace\\bmcs_beam\\bmcs_beam\\bending\\deflection_profile.py\u001b[0m in \u001b[0;36mget_Fw\u001b[1;34m(self)\u001b[0m\n\u001b[0;32m    211\u001b[0m                 \u001b[0mself\u001b[0m\u001b[1;33m.\u001b[0m\u001b[0mbeam_design\u001b[0m\u001b[1;33m.\u001b[0m\u001b[0mF\u001b[0m \u001b[1;33m=\u001b[0m \u001b[1;33m-\u001b[0m\u001b[0mF\u001b[0m\u001b[1;33m\u001b[0m\u001b[1;33m\u001b[0m\u001b[0m\n\u001b[0;32m    212\u001b[0m                 \u001b[1;31m# Append the maximum deflection value that corresponds to the new load (F)\u001b[0m\u001b[1;33m\u001b[0m\u001b[1;33m\u001b[0m\u001b[1;33m\u001b[0m\u001b[0m\n\u001b[1;32m--> 213\u001b[1;33m                 \u001b[0mw_list\u001b[0m\u001b[1;33m.\u001b[0m\u001b[0mappend\u001b[0m\u001b[1;33m(\u001b[0m\u001b[0mnp\u001b[0m\u001b[1;33m.\u001b[0m\u001b[0mmax\u001b[0m\u001b[1;33m(\u001b[0m\u001b[0mnp\u001b[0m\u001b[1;33m.\u001b[0m\u001b[0mfabs\u001b[0m\u001b[1;33m(\u001b[0m\u001b[0mself\u001b[0m\u001b[1;33m.\u001b[0m\u001b[0mget_w_x\u001b[0m\u001b[1;33m(\u001b[0m\u001b[1;33m)\u001b[0m\u001b[1;33m)\u001b[0m\u001b[1;33m)\u001b[0m\u001b[1;33m)\u001b[0m\u001b[1;33m\u001b[0m\u001b[1;33m\u001b[0m\u001b[0m\n\u001b[0m\u001b[0;32m    214\u001b[0m         \u001b[1;32mif\u001b[0m \u001b[0mself\u001b[0m\u001b[1;33m.\u001b[0m\u001b[0mF_max_old\u001b[0m \u001b[1;33m==\u001b[0m \u001b[0mF_max\u001b[0m\u001b[1;33m:\u001b[0m\u001b[1;33m\u001b[0m\u001b[1;33m\u001b[0m\u001b[0m\n\u001b[0;32m    215\u001b[0m             \u001b[0mself\u001b[0m\u001b[1;33m.\u001b[0m\u001b[0mbeam_design\u001b[0m\u001b[1;33m.\u001b[0m\u001b[0mF\u001b[0m \u001b[1;33m=\u001b[0m \u001b[0moriginal_F\u001b[0m\u001b[1;33m\u001b[0m\u001b[1;33m\u001b[0m\u001b[0m\n",
      "\u001b[1;32md:\\imb\\pycharm_workspace\\bmcs_beam\\bmcs_beam\\bending\\deflection_profile.py\u001b[0m in \u001b[0;36mget_w_x\u001b[1;34m(self)\u001b[0m\n\u001b[0;32m    123\u001b[0m         \u001b[0mProfile\u001b[0m \u001b[0mof\u001b[0m \u001b[0mdeflection\u001b[0m \u001b[0malong\u001b[0m \u001b[0mthe\u001b[0m \u001b[0mbeam\u001b[0m\u001b[1;33m\u001b[0m\u001b[1;33m\u001b[0m\u001b[0m\n\u001b[0;32m    124\u001b[0m         \"\"\"\n\u001b[1;32m--> 125\u001b[1;33m         \u001b[0mphi_x\u001b[0m \u001b[1;33m=\u001b[0m \u001b[0mself\u001b[0m\u001b[1;33m.\u001b[0m\u001b[0mget_phi_x\u001b[0m\u001b[1;33m(\u001b[0m\u001b[1;33m)\u001b[0m\u001b[1;33m\u001b[0m\u001b[1;33m\u001b[0m\u001b[0m\n\u001b[0m\u001b[0;32m    126\u001b[0m         \u001b[0mw_x\u001b[0m \u001b[1;33m=\u001b[0m \u001b[0mcumtrapz\u001b[0m\u001b[1;33m(\u001b[0m\u001b[0mphi_x\u001b[0m\u001b[1;33m,\u001b[0m \u001b[0mself\u001b[0m\u001b[1;33m.\u001b[0m\u001b[0mbeam_design\u001b[0m\u001b[1;33m.\u001b[0m\u001b[0mx\u001b[0m\u001b[1;33m,\u001b[0m \u001b[0minitial\u001b[0m\u001b[1;33m=\u001b[0m\u001b[1;36m0\u001b[0m\u001b[1;33m)\u001b[0m\u001b[1;33m\u001b[0m\u001b[1;33m\u001b[0m\u001b[0m\n\u001b[0;32m    127\u001b[0m         \u001b[1;31m# resolve the integration constant by requiring zero deflection\u001b[0m\u001b[1;33m\u001b[0m\u001b[1;33m\u001b[0m\u001b[1;33m\u001b[0m\u001b[0m\n",
      "\u001b[1;32md:\\imb\\pycharm_workspace\\bmcs_beam\\bmcs_beam\\bending\\deflection_profile.py\u001b[0m in \u001b[0;36mget_phi_x\u001b[1;34m(self)\u001b[0m\n\u001b[0;32m     92\u001b[0m         '''\n\u001b[0;32m     93\u001b[0m         \u001b[1;31m# TODO rename phi to theta\u001b[0m\u001b[1;33m\u001b[0m\u001b[1;33m\u001b[0m\u001b[1;33m\u001b[0m\u001b[0m\n\u001b[1;32m---> 94\u001b[1;33m         \u001b[0mkappa_x\u001b[0m \u001b[1;33m=\u001b[0m \u001b[0mself\u001b[0m\u001b[1;33m.\u001b[0m\u001b[0mget_kappa_x\u001b[0m\u001b[1;33m(\u001b[0m\u001b[1;33m)\u001b[0m \u001b[1;31m# + 2e-6 #+ self.get_kappa_shrinkage()\u001b[0m\u001b[1;33m\u001b[0m\u001b[1;33m\u001b[0m\u001b[0m\n\u001b[0m\u001b[0;32m     95\u001b[0m         \u001b[1;31m# Kappa = 1/R = d_phi/d_x\u001b[0m\u001b[1;33m\u001b[0m\u001b[1;33m\u001b[0m\u001b[1;33m\u001b[0m\u001b[0m\n\u001b[0;32m     96\u001b[0m         \u001b[0mphi_x\u001b[0m \u001b[1;33m=\u001b[0m \u001b[0mcumtrapz\u001b[0m\u001b[1;33m(\u001b[0m\u001b[0mkappa_x\u001b[0m\u001b[1;33m,\u001b[0m \u001b[0mself\u001b[0m\u001b[1;33m.\u001b[0m\u001b[0mbeam_design\u001b[0m\u001b[1;33m.\u001b[0m\u001b[0mx\u001b[0m\u001b[1;33m,\u001b[0m \u001b[0minitial\u001b[0m\u001b[1;33m=\u001b[0m\u001b[1;36m0\u001b[0m\u001b[1;33m)\u001b[0m\u001b[1;33m\u001b[0m\u001b[1;33m\u001b[0m\u001b[0m\n",
      "\u001b[1;32md:\\imb\\pycharm_workspace\\bmcs_beam\\bmcs_beam\\bending\\deflection_profile.py\u001b[0m in \u001b[0;36mget_kappa_x\u001b[1;34m(self)\u001b[0m\n\u001b[0;32m     36\u001b[0m         '''\n\u001b[0;32m     37\u001b[0m         \u001b[0mM\u001b[0m \u001b[1;33m=\u001b[0m \u001b[0mself\u001b[0m\u001b[1;33m.\u001b[0m\u001b[0mbeam_design\u001b[0m\u001b[1;33m.\u001b[0m\u001b[0mget_M_x\u001b[0m\u001b[1;33m(\u001b[0m\u001b[1;33m)\u001b[0m\u001b[1;33m\u001b[0m\u001b[1;33m\u001b[0m\u001b[0m\n\u001b[1;32m---> 38\u001b[1;33m         \u001b[1;32mreturn\u001b[0m \u001b[0mself\u001b[0m\u001b[1;33m.\u001b[0m\u001b[0mmc\u001b[0m\u001b[1;33m.\u001b[0m\u001b[0mget_kappa_M\u001b[0m\u001b[1;33m(\u001b[0m\u001b[0mM\u001b[0m\u001b[1;33m)\u001b[0m\u001b[1;33m\u001b[0m\u001b[1;33m\u001b[0m\u001b[0m\n\u001b[0m\u001b[0;32m     39\u001b[0m \u001b[1;33m\u001b[0m\u001b[0m\n\u001b[0;32m     40\u001b[0m     \u001b[1;32mdef\u001b[0m \u001b[0mget_kappa_shrinkage\u001b[0m\u001b[1;33m(\u001b[0m\u001b[0mself\u001b[0m\u001b[1;33m)\u001b[0m\u001b[1;33m:\u001b[0m\u001b[1;33m\u001b[0m\u001b[1;33m\u001b[0m\u001b[0m\n",
      "\u001b[1;32md:\\imb\\pycharm_workspace\\bmcs_cross_section\\bmcs_cross_section\\mkappa\\mkappa.py\u001b[0m in \u001b[0;36mget_kappa_M\u001b[1;34m(self, M)\u001b[0m\n\u001b[0;32m    350\u001b[0m     \u001b[1;32mdef\u001b[0m \u001b[0mget_kappa_M\u001b[0m\u001b[1;33m(\u001b[0m\u001b[0mself\u001b[0m\u001b[1;33m,\u001b[0m \u001b[0mM\u001b[0m\u001b[1;33m)\u001b[0m\u001b[1;33m:\u001b[0m\u001b[1;33m\u001b[0m\u001b[1;33m\u001b[0m\u001b[0m\n\u001b[0;32m    351\u001b[0m         \u001b[0mM_I\u001b[0m\u001b[1;33m,\u001b[0m \u001b[0mkappa_I\u001b[0m \u001b[1;33m=\u001b[0m \u001b[0mself\u001b[0m\u001b[1;33m.\u001b[0m\u001b[0minv_M_kappa\u001b[0m\u001b[1;33m\u001b[0m\u001b[1;33m\u001b[0m\u001b[0m\n\u001b[1;32m--> 352\u001b[1;33m         \u001b[1;32mreturn\u001b[0m \u001b[0mnp\u001b[0m\u001b[1;33m.\u001b[0m\u001b[0minterp\u001b[0m\u001b[1;33m(\u001b[0m\u001b[0mM\u001b[0m\u001b[1;33m,\u001b[0m \u001b[0mM_I\u001b[0m\u001b[1;33m,\u001b[0m \u001b[0mkappa_I\u001b[0m\u001b[1;33m)\u001b[0m\u001b[1;33m\u001b[0m\u001b[1;33m\u001b[0m\u001b[0m\n\u001b[0m\u001b[0;32m    353\u001b[0m \u001b[1;33m\u001b[0m\u001b[0m\n\u001b[0;32m    354\u001b[0m     \u001b[1;32mdef\u001b[0m \u001b[0mplot_norm\u001b[0m\u001b[1;33m(\u001b[0m\u001b[0mself\u001b[0m\u001b[1;33m,\u001b[0m \u001b[0max1\u001b[0m\u001b[1;33m,\u001b[0m \u001b[0max2\u001b[0m\u001b[1;33m)\u001b[0m\u001b[1;33m:\u001b[0m\u001b[1;33m\u001b[0m\u001b[1;33m\u001b[0m\u001b[0m\n",
      "\u001b[1;32m<__array_function__ internals>\u001b[0m in \u001b[0;36minterp\u001b[1;34m(*args, **kwargs)\u001b[0m\n",
      "\u001b[1;32m~\\miniconda3\\envs\\bmcs_env\\lib\\site-packages\\numpy\\lib\\function_base.py\u001b[0m in \u001b[0;36minterp\u001b[1;34m(x, xp, fp, left, right, period)\u001b[0m\n\u001b[0;32m   1426\u001b[0m         \u001b[0mfp\u001b[0m \u001b[1;33m=\u001b[0m \u001b[0mnp\u001b[0m\u001b[1;33m.\u001b[0m\u001b[0mconcatenate\u001b[0m\u001b[1;33m(\u001b[0m\u001b[1;33m(\u001b[0m\u001b[0mfp\u001b[0m\u001b[1;33m[\u001b[0m\u001b[1;33m-\u001b[0m\u001b[1;36m1\u001b[0m\u001b[1;33m:\u001b[0m\u001b[1;33m]\u001b[0m\u001b[1;33m,\u001b[0m \u001b[0mfp\u001b[0m\u001b[1;33m,\u001b[0m \u001b[0mfp\u001b[0m\u001b[1;33m[\u001b[0m\u001b[1;36m0\u001b[0m\u001b[1;33m:\u001b[0m\u001b[1;36m1\u001b[0m\u001b[1;33m]\u001b[0m\u001b[1;33m)\u001b[0m\u001b[1;33m)\u001b[0m\u001b[1;33m\u001b[0m\u001b[1;33m\u001b[0m\u001b[0m\n\u001b[0;32m   1427\u001b[0m \u001b[1;33m\u001b[0m\u001b[0m\n\u001b[1;32m-> 1428\u001b[1;33m     \u001b[1;32mreturn\u001b[0m \u001b[0minterp_func\u001b[0m\u001b[1;33m(\u001b[0m\u001b[0mx\u001b[0m\u001b[1;33m,\u001b[0m \u001b[0mxp\u001b[0m\u001b[1;33m,\u001b[0m \u001b[0mfp\u001b[0m\u001b[1;33m,\u001b[0m \u001b[0mleft\u001b[0m\u001b[1;33m,\u001b[0m \u001b[0mright\u001b[0m\u001b[1;33m)\u001b[0m\u001b[1;33m\u001b[0m\u001b[1;33m\u001b[0m\u001b[0m\n\u001b[0m\u001b[0;32m   1429\u001b[0m \u001b[1;33m\u001b[0m\u001b[0m\n\u001b[0;32m   1430\u001b[0m \u001b[1;33m\u001b[0m\u001b[0m\n",
      "\u001b[1;31mTypeError\u001b[0m: Cannot cast array data from dtype('O') to dtype('float64') according to the rule 'safe'"
     ]
    }
   ],
   "source": [
    "F_u_grid, F_s_grid, rho_grid, sl_grid = get_Fu_and_Fs(dp, mc, bl1, 4, rho_range=(0.01, 0.025), slenderness_range=(3, 35))"
   ]
  },
  {
   "cell_type": "code",
   "execution_count": 13,
   "metadata": {},
   "outputs": [
    {
     "data": {
      "application/vnd.jupyter.widget-view+json": {
       "model_id": "a0c310e61eee4bce9a0e5f29b7bbd3c4",
       "version_major": 2,
       "version_minor": 0
      },
      "text/plain": [
       "Canvas(toolbar=Toolbar(toolitems=[('Home', 'Reset original view', 'home', 'home'), ('Back', 'Back to previous …"
      ]
     },
     "metadata": {},
     "output_type": "display_data"
    },
    {
     "data": {
      "text/plain": [
       "(0.0, 0.025)"
      ]
     },
     "execution_count": 13,
     "metadata": {},
     "output_type": "execute_result"
    }
   ],
   "source": [
    "_, ax = plt.subplots(1,1)\n",
    "\n",
    "z = F_u_grid / F_s_grid - 1./0.59 # - 1./0.51\n",
    "\n",
    "CS = ax.contour(rho_grid, sl_grid, z)#, levels=[0])\n",
    "ax.clabel(CS, inline=1, fontsize=10)\n",
    "ax.set_ylabel('L/d')\n",
    "ax.set_xlabel(r'$\\rho$ %')\n",
    "ax.set_ylim(0, 35)\n",
    "ax.set_xlim(0.0, 0.025)\n",
    "\n",
    "# Draw C30 curve\n",
    "# rho_range = np.arange(0.0025, 0.025, 0.0001)\n",
    "# f_ck = 30\n",
    "# slenderness = get_slenderness(rho_range, 0,  1, f_ck)\n",
    "# ax.plot(rho_range, slenderness, c=np.random.rand(3,))"
   ]
  },
  {
   "cell_type": "code",
   "execution_count": 24,
   "metadata": {},
   "outputs": [
    {
     "data": {
      "text/plain": [
       "array([[207086.67179165, 207086.67179165],\n",
       "       [ 17750.28615357,  17750.28615357]])"
      ]
     },
     "execution_count": 24,
     "metadata": {},
     "output_type": "execute_result"
    }
   ],
   "source": [
    "np.save('F_u_grid_carbon_study' + str(f_ck) + '.npy', F_u_grid)\n",
    "np.save('F_s_grid_carbon_study' + str(f_ck) + '.npy', F_s_grid)\n",
    "np.save('rho_grid_carbon_study' + str(f_ck) + '.npy', rho_grid)\n",
    "np.save('sl_grid_carbon_study' + str(f_ck) + '.npy', sl_grid)"
   ]
  },
  {
   "cell_type": "code",
   "execution_count": null,
   "metadata": {},
   "outputs": [],
   "source": [
    "f_cks = [20, 30, 35, 40, 50, 70]\n",
    "F_u_grids = []\n",
    "F_s_grids = []\n",
    "rho_grids = []\n",
    "sl_grids = []\n",
    "reinforcement = 'carbon'\n",
    "for f_ck in f_cks:\n",
    "    f_ck = str(f_ck)\n",
    "    F_u_grids.append(np.load('F_u_grid_' + reinforcement + '_EC2_eq2_tension_c_Homam' + f_ck + '.npy'))\n",
    "    F_s_grids.append(np.load('F_s_grid_' + reinforcement + '_EC2_eq2_tension_c_Homam' + f_ck + '.npy'))\n",
    "    rho_grids.append(np.load('rho_grid_' + reinforcement + '_EC2_eq2_tension_c_Homam' + f_ck + '.npy'))\n",
    "    sl_grids.append(np.load('sl_grid_' + reinforcement + '_EC2_eq2_tension_c_Homam' + f_ck + '.npy'))"
   ]
  },
  {
   "cell_type": "code",
   "execution_count": null,
   "metadata": {},
   "outputs": [],
   "source": [
    "_, ax = plt.subplots(1,1)\n",
    "\n",
    "ax.set_ylabel('L/d')\n",
    "ax.set_xlabel(r'$\\rho$ %')\n",
    "ax.set_ylim(0, 35)\n",
    "ax.set_xlim(0.0, 0.025)\n",
    "\n",
    "for f_ck, F_u_grid, F_s_grid, rho_grid, sl_grid in zip(f_cks, F_u_grids, F_s_grids, rho_grids, sl_grids):\n",
    "    z = F_u_grid / F_s_grid - 1./0.59\n",
    "    CS = ax.contour(rho_grid, sl_grid, z, levels=[0], colors=[np.random.rand(3,)])\n",
    "    CS.collections[0].set_label('C' + str(f_ck))\n",
    "#     ax.clabel(CS, inline=1, fontsize=10)\n",
    "rho_range = np.arange(0.0025, 0.025, 0.0001)\n",
    "# f_ck = 30\n",
    "slenderness = get_slenderness(rho_range, 0,  1, f_ck)\n",
    "ax.plot(rho_range, slenderness, c=np.random.rand(3,), label = 'EC2 - Steel')\n",
    "\n",
    "ax.legend()\n",
    "\n"
   ]
  },
  {
   "cell_type": "code",
   "execution_count": null,
   "metadata": {},
   "outputs": [],
   "source": []
  },
  {
   "cell_type": "code",
   "execution_count": null,
   "metadata": {},
   "outputs": [],
   "source": []
  },
  {
   "cell_type": "code",
   "execution_count": null,
   "metadata": {},
   "outputs": [],
   "source": []
  },
  {
   "cell_type": "code",
   "execution_count": null,
   "metadata": {},
   "outputs": [],
   "source": []
  },
  {
   "cell_type": "code",
   "execution_count": 7,
   "metadata": {},
   "outputs": [
    {
     "data": {
      "text/plain": [
       "[(R1, 0, -1, None), (R2, 5000, -1, None), (1000, 2500.00000000000, -1, None)]"
      ]
     },
     "execution_count": 7,
     "metadata": {},
     "output_type": "execute_result"
    }
   ],
   "source": [
    "dp.beam_design.beam.applied_loads"
   ]
  },
  {
   "cell_type": "code",
   "execution_count": 4,
   "metadata": {},
   "outputs": [
    {
     "data": {
      "text/plain": [
       "<bmcs_cross_section.matmod.reinforcement.SteelReinfMatMod at 0x2bacb161360>"
      ]
     },
     "execution_count": 4,
     "metadata": {},
     "output_type": "execute_result"
    }
   ],
   "source": [
    "bl1.matmod_.trait_set(E=203000, f_sy=560)"
   ]
  },
  {
   "cell_type": "code",
   "execution_count": 5,
   "metadata": {
    "scrolled": false
   },
   "outputs": [],
   "source": [
    "# mc.app()"
   ]
  },
  {
   "cell_type": "code",
   "execution_count": 8,
   "metadata": {},
   "outputs": [
    {
     "data": {
      "text/plain": [
       "array([   0.,  500.,  500.,  500.,  500.,  500.,  500.,  500.,  500.,\n",
       "        500.,  500.,  500.,  500.,  500.,  500.,  500.,  500.,  500.,\n",
       "        500.,  500.,  500.,  500.,  500.,  500.,  500.,  500.,  500.,\n",
       "        500.,  500.,  500.,  500.,  500.,  500.,  500.,  500.,  500.,\n",
       "        500.,  500.,  500.,  500.,  500.,  500.,  500.,  500.,  500.,\n",
       "        500.,  500.,  500.,  500.,  500.,  500.,  500.,  500.,  500.,\n",
       "        500.,  500.,  500.,  500.,  500.,  500.,  500.,  500.,  500.,\n",
       "        500.,  500.,  500.,  500.,  500.,  500.,  500.,  500.,  500.,\n",
       "        500.,  500.,  500.,  500.,  500.,  500.,  500.,  500.,  500.,\n",
       "        500.,  500.,  500.,  500.,  500.,  500.,  500.,  500.,  500.,\n",
       "        500.,  500.,  500.,  500.,  500.,  500.,  500.,  500.,  500.,\n",
       "        500.,  500.,  500.,  500.,  500.,  500.,  500.,  500.,  500.,\n",
       "        500.,  500.,  500.,  500.,  500.,  500.,  500.,  500.,  500.,\n",
       "        500.,  500.,  500.,  500.,  500.,  500.,  500.,  500.,  500.,\n",
       "        500.,  500.,  500.,  500.,  500.,  500.,  500.,  500.,  500.,\n",
       "        500.,  500.,  500.,  500.,  500.,  500.,  500.,  500.,  500.,\n",
       "        500.,  500.,  500.,  500.,  500.,  500.,  500.,  500.,  500.,\n",
       "        500.,  500.,  500.,  500.,  500.,  500.,  500.,  500.,  500.,\n",
       "        500.,  500.,  500.,  500.,  500.,  500.,  500.,  500.,  500.,\n",
       "        500.,  500.,  500.,  500.,  500.,  500.,  500.,  500.,  500.,\n",
       "        500.,  500.,  500.,  500.,  500.,  500.,  500.,  500.,  500.,\n",
       "        500.,  500.,  500.,  500.,  500.,  500.,  500.,  500.,  500.,\n",
       "        500.,  500.,  500.,  500.,  500.,  500.,  500.,  500.,  500.,\n",
       "        500.,  500.,  500.,  500.,  500.,  500.,  500.,  500.,  500.,\n",
       "        500.,  500.,  500.,  500.,  500.,  500.,  500.,  500.,  500.,\n",
       "        500.,  500.,  500.,  500.,  500.,  500.,  500.,  500.,  500.,\n",
       "        500.,  500.,  500.,  500.,  500.,  500.,  500.,  500.,  500.,\n",
       "        500.,  500.,  500.,  500.,  500.,  500.,  500.,  500.,  500.,\n",
       "        500.,  500.,  500.,  500.,  500.,  500.,  500.,  500.,  500.,\n",
       "        500.,  500.,  500.,  500.,  500.,  500.,  500.,  500.,  500.,\n",
       "        500.,  500.,  500.,  500.,  500.,  500.,  500.,  500.,  500.,\n",
       "        500.,  500.,  500.,  500.,  500.,  500.,  500.,  500.,  500.,\n",
       "        500.,  500.,  500.,  500.,  500.,  500.,  500.,  500.,  500.,\n",
       "        500.,  500.,  500.,  500.,  500.,  500.,  500.,  500.,  500.,\n",
       "        500.,  500.,  500.,  500.,  500.,  500.,  500.,  500.,  500.,\n",
       "        500.,  500.,  500.,  500.,  500.,  500.,  500.,  500.,  500.,\n",
       "        500.,  500.,  500.,  500.,  500.,  500.,  500.,  500.,  500.,\n",
       "        500.,  500.,  500.,  500.,  500.,  500.,  500.,  500.,  500.,\n",
       "        500.,  500.,  500.,  500.,  500.,  500.,  500.,  500.,  500.,\n",
       "        500.,  500.,  500.,  500.,  500.,  500.,  500.,  500.,  500.,\n",
       "        500.,  500.,  500.,  500.,  500.,  500.,  500.,  500.,  500.,\n",
       "        500.,  500.,  500.,  500.,  500.,  500.,  500.,  500.,  500.,\n",
       "        500.,  500.,  500.,  500.,  500.,  500.,  500.,  500.,  500.,\n",
       "        500.,  500.,  500.,  500.,  500.,  500.,  500.,  500.,  500.,\n",
       "        500.,  500.,  500.,  500.,  500.,  500.,  500.,  500.,  500.,\n",
       "        500.,  500.,  500.,  500.,  500.,  500.,  500.,  500.,  500.,\n",
       "        500.,  500.,  500.,  500.,  500.,  500.,  500.,  500.,  500.,\n",
       "        500.,  500.,  500.,  500.,  500.,  500.,  500.,  500.,  500.,\n",
       "        500.,  500.,  500.,  500.,  500.,  500.,  500.,  500.,  500.,\n",
       "        500.,  500.,  500.,  500.,  500.,  500.,  500.,  500.,  500.,\n",
       "        500.,  500.,  500.,  500.,  500.,  500.,  500.,  500.,  500.,\n",
       "        500.,  500.,  500.,  500.,  500.,  500.,  500.,  500.,  500.,\n",
       "        500.,  500.,  500.,  500.,  500.,  500.,  500.,  500.,  500.,\n",
       "        500.,  500.,  500.,  500.,  500.,  500.,  500.,  500.,  500.,\n",
       "        500.,  500.,  500.,  500.,  500.,  500.,  500.,  500.,  500.,\n",
       "        500.,  500.,  500.,  500.,  500., -500., -500., -500., -500.,\n",
       "       -500., -500., -500., -500., -500., -500., -500., -500., -500.,\n",
       "       -500., -500., -500., -500., -500., -500., -500., -500., -500.,\n",
       "       -500., -500., -500., -500., -500., -500., -500., -500., -500.,\n",
       "       -500., -500., -500., -500., -500., -500., -500., -500., -500.,\n",
       "       -500., -500., -500., -500., -500., -500., -500., -500., -500.,\n",
       "       -500., -500., -500., -500., -500., -500., -500., -500., -500.,\n",
       "       -500., -500., -500., -500., -500., -500., -500., -500., -500.,\n",
       "       -500., -500., -500., -500., -500., -500., -500., -500., -500.,\n",
       "       -500., -500., -500., -500., -500., -500., -500., -500., -500.,\n",
       "       -500., -500., -500., -500., -500., -500., -500., -500., -500.,\n",
       "       -500., -500., -500., -500., -500., -500., -500., -500., -500.,\n",
       "       -500., -500., -500., -500., -500., -500., -500., -500., -500.,\n",
       "       -500., -500., -500., -500., -500., -500., -500., -500., -500.,\n",
       "       -500., -500., -500., -500., -500., -500., -500., -500., -500.,\n",
       "       -500., -500., -500., -500., -500., -500., -500., -500., -500.,\n",
       "       -500., -500., -500., -500., -500., -500., -500., -500., -500.,\n",
       "       -500., -500., -500., -500., -500., -500., -500., -500., -500.,\n",
       "       -500., -500., -500., -500., -500., -500., -500., -500., -500.,\n",
       "       -500., -500., -500., -500., -500., -500., -500., -500., -500.,\n",
       "       -500., -500., -500., -500., -500., -500., -500., -500., -500.,\n",
       "       -500., -500., -500., -500., -500., -500., -500., -500., -500.,\n",
       "       -500., -500., -500., -500., -500., -500., -500., -500., -500.,\n",
       "       -500., -500., -500., -500., -500., -500., -500., -500., -500.,\n",
       "       -500., -500., -500., -500., -500., -500., -500., -500., -500.,\n",
       "       -500., -500., -500., -500., -500., -500., -500., -500., -500.,\n",
       "       -500., -500., -500., -500., -500., -500., -500., -500., -500.,\n",
       "       -500., -500., -500., -500., -500., -500., -500., -500., -500.,\n",
       "       -500., -500., -500., -500., -500., -500., -500., -500., -500.,\n",
       "       -500., -500., -500., -500., -500., -500., -500., -500., -500.,\n",
       "       -500., -500., -500., -500., -500., -500., -500., -500., -500.,\n",
       "       -500., -500., -500., -500., -500., -500., -500., -500., -500.,\n",
       "       -500., -500., -500., -500., -500., -500., -500., -500., -500.,\n",
       "       -500., -500., -500., -500., -500., -500., -500., -500., -500.,\n",
       "       -500., -500., -500., -500., -500., -500., -500., -500., -500.,\n",
       "       -500., -500., -500., -500., -500., -500., -500., -500., -500.,\n",
       "       -500., -500., -500., -500., -500., -500., -500., -500., -500.,\n",
       "       -500., -500., -500., -500., -500., -500., -500., -500., -500.,\n",
       "       -500., -500., -500., -500., -500., -500., -500., -500., -500.,\n",
       "       -500., -500., -500., -500., -500., -500., -500., -500., -500.,\n",
       "       -500., -500., -500., -500., -500., -500., -500., -500., -500.,\n",
       "       -500., -500., -500., -500., -500., -500., -500., -500., -500.,\n",
       "       -500., -500., -500., -500., -500., -500., -500., -500., -500.,\n",
       "       -500., -500., -500., -500., -500., -500., -500., -500., -500.,\n",
       "       -500., -500., -500., -500., -500., -500., -500., -500., -500.,\n",
       "       -500., -500., -500., -500., -500., -500., -500., -500., -500.,\n",
       "       -500., -500., -500., -500., -500., -500., -500., -500., -500.,\n",
       "       -500., -500., -500., -500., -500., -500., -500., -500., -500.,\n",
       "       -500., -500., -500., -500., -500., -500., -500., -500., -500.,\n",
       "       -500., -500., -500., -500., -500., -500., -500., -500., -500.,\n",
       "       -500., -500., -500., -500., -500., -500., -500., -500., -500.,\n",
       "       -500., -500., -500., -500., -500., -500., -500., -500., -500.,\n",
       "       -500., -500., -500., -500., -500., -500., -500., -500., -500.,\n",
       "       -500., -500., -500., -500., -500., -500., -500., -500., -500.,\n",
       "       -500., -500., -500., -500., -500., -500., -500., -500., -500.,\n",
       "       -500., -500., -500., -500., -500., -500., -500., -500., -500.,\n",
       "       -500.])"
      ]
     },
     "execution_count": 8,
     "metadata": {},
     "output_type": "execute_result"
    }
   ],
   "source": [
    "dp.beam_design.get_Q_x()"
   ]
  },
  {
   "cell_type": "code",
   "execution_count": 9,
   "metadata": {},
   "outputs": [],
   "source": [
    "dp.beam_design.beam_conf_name = BoundaryConfig.FOUR_PB\n",
    "dp.beam_design.beam_conf_name.first_load_distance = 0\n"
   ]
  },
  {
   "cell_type": "code",
   "execution_count": 10,
   "metadata": {},
   "outputs": [
    {
     "data": {
      "text/plain": [
       "<BoundaryConfig.FOUR_PB: 1>"
      ]
     },
     "execution_count": 10,
     "metadata": {},
     "output_type": "execute_result"
    }
   ],
   "source": [
    "dp.beam_design.beam_conf_name "
   ]
  },
  {
   "cell_type": "code",
   "execution_count": 11,
   "metadata": {},
   "outputs": [
    {
     "name": "stdout",
     "output_type": "stream",
     "text": [
      "M - k recalculated\n"
     ]
    },
    {
     "data": {
      "text/plain": [
       "48173.499398734995"
      ]
     },
     "execution_count": 11,
     "metadata": {},
     "output_type": "execute_result"
    }
   ],
   "source": [
    "M_I, kappa_I = dp.mc.inv_M_kappa\n",
    "4 * M_I[-1] / dp.beam_design.L"
   ]
  },
  {
   "cell_type": "code",
   "execution_count": 12,
   "metadata": {},
   "outputs": [
    {
     "data": {
      "text/plain": [
       "36130.124549051245"
      ]
     },
     "execution_count": 12,
     "metadata": {},
     "output_type": "execute_result"
    }
   ],
   "source": [
    "dp.F_max"
   ]
  },
  {
   "cell_type": "code",
   "execution_count": null,
   "metadata": {},
   "outputs": [],
   "source": [
    "mc_params = dict(\n",
    "            reinforcement_type= ReinforcementType.STEEL,\n",
    "            n_m=100,\n",
    "            n_kappa = 100,\n",
    "            kappa_slider = 0.000001,\n",
    "            low_kappa = 0,\n",
    "            high_kappa =  0.00002,\n",
    "            eps_tu = 0.002508,\n",
    "            E_cc = 34000,\n",
    "            E_ct = 34000,\n",
    "            eps_cr = 0.000132,\n",
    "            eps_cy = 0.0015312,\n",
    "            mu = 0.63,\n",
    "            eps_cu = 0.003498)\n",
    "mc = MKappa(**mc_params)\n",
    "b = 285\n",
    "h = 29\n",
    "mc.cross_section_shape.B = b\n",
    "mc.cross_section_shape.H = h\n",
    "\n",
    "dp = DeflectionProfile(mc=mc)\n",
    "dp.beam_design.beam_conf_name = BoundaryConfig.FOUR_PB\n",
    "# beam.apply_load(F, 0, 0)\n",
    "# bc = BoundaryConditions()\n",
    "# bc.get_configured_beam()\n",
    "dp.beam_design.beam_conf_name.first_load_distance = 0\n",
    "dp.beam_design.L = 3000\n",
    "# dp.beam_design.beam.apply_load(879898787, 0, 0)\n",
    "%matplotlib widget\n",
    "bu.InteractiveWindow([dp,\n",
    "                      dp.beam_design,\n",
    "                      dp.mc,\n",
    "                      dp.mc.cs_design.cross_section_layout,\n",
    "                      dp.mc.cs_design.cross_section_shape,\n",
    "                      dp.mc.cross_section_layout.matrix,\n",
    "                      dp.mc.cross_section_layout],\n",
    "                      tight_layout=True).interact()\n",
    "\n",
    "# M = dp.beam_design.get_M_x()\n",
    "# plt.plot(mc.get_kappa_M(M+1))\n",
    "# plt.show()\n",
    "# mc.get_kappa_M(M) + 1\n",
    "\n",
    "# dp.beam_design.beam.solve_for_reaction_loads(R1, R2)\n",
    "# print(dp.beam_design.beam.reaction_loads)\n",
    "# # print(dp.beam_design.beam.plot_bending_moment())\n",
    "# dp.beam_design.beam.load\n",
    "# # dp.beam_design.beam.apply_load(879898787, 0, 0)\n",
    "# dp.beam_design.beam\n"
   ]
  },
  {
   "cell_type": "code",
   "execution_count": null,
   "metadata": {},
   "outputs": [],
   "source": [
    "mc.matrix = 'piecewise linear'\n",
    "css = mc.cross_section_shape = 'T-shape'\n",
    "csl = mc.cross_section_layout\n",
    "bl1 = BarLayer(name='steel 1', z=10, ds=10, count=2 )\n",
    "bl2 = BarLayer(name='steel 2', z=30, ds=10, count=2 )\n",
    "csl.add_layer(bl1)\n",
    "csl.add_layer(bl2)\n"
   ]
  },
  {
   "cell_type": "code",
   "execution_count": null,
   "metadata": {},
   "outputs": [],
   "source": [
    "mc.cross_section_layout.reinforcement = [Reinforcement(eps_sy=560/203000,\\\n",
    "E=203000, z=26.82, A=231.04)]"
   ]
  }
 ],
 "metadata": {
  "kernelspec": {
   "display_name": "bmcs_env",
   "language": "python",
   "name": "bmcs_env"
  },
  "language_info": {
   "codemirror_mode": {
    "name": "ipython",
    "version": 3
   },
   "file_extension": ".py",
   "mimetype": "text/x-python",
   "name": "python",
   "nbconvert_exporter": "python",
   "pygments_lexer": "ipython3",
   "version": "3.9.2"
  },
  "toc": {
   "base_numbering": 1,
   "nav_menu": {},
   "number_sections": true,
   "sideBar": true,
   "skip_h1_title": false,
   "title_cell": "Table of Contents",
   "title_sidebar": "Contents",
   "toc_cell": false,
   "toc_position": {},
   "toc_section_display": true,
   "toc_window_display": false
  }
 },
 "nbformat": 4,
 "nbformat_minor": 1
}
