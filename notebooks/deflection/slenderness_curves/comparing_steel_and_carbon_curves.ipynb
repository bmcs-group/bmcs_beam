{
 "cells": [
  {
   "cell_type": "code",
   "execution_count": 1,
   "id": "0acc0fd1",
   "metadata": {},
   "outputs": [],
   "source": [
    "%matplotlib widget\n",
    "# %matplotlib qt\n",
    "import matplotlib.pyplot as plt\n",
    "import json\n",
    "import numpy as np\n",
    "import pandas as pd\n",
    "import sympy as sp\n",
    "from sympy import symbols\n",
    "import bmcs_utils.api as bu\n",
    "from bmcs_cross_section.api import MKappa, TShape, EC2, BarLayer, ReinfLayer\n",
    "from bmcs_beam.api import BoundaryConditions, BoundaryConfig, DeflectionProfile, BeamDesign, BeamSLSCurve, LoadDeflectionParamsStudy\n",
    "from os.path import join\n",
    "from mpl_toolkits import mplot3d\n",
    "sp.init_printing()"
   ]
  },
  {
   "cell_type": "code",
   "execution_count": 2,
   "id": "96dc433b",
   "metadata": {},
   "outputs": [],
   "source": [
    "def get_Fu_and_Fs(dp, n_i, rho_range=(0.0025, 0.025), slenderness_range=(10, 35), upper_reinforcement = False):\n",
    "    rho_range = np.linspace(*rho_range, n_i)\n",
    "    slenderness_range = np.linspace(*slenderness_range, n_i)\n",
    "\n",
    "# def get_Fu_and_Fs(dp, rho_range=np.linspace(0.0025, 0.025), slenderness_range=np.linspace(10, 35), upper_reinforcement = False):\n",
    "    if upper_reinforcement:\n",
    "        d = dp.mc.cross_section_layout.items[0].z\n",
    "    else:\n",
    "        d = dp.mc.cross_section_shape_.H -  dp.mc.cross_section_layout.items[0].z\n",
    "    b = dp.mc.cross_section_shape_.B\n",
    "    area_g = b * d\n",
    "\n",
    "    rho_grid, sl_grid = np.meshgrid(rho_range, slenderness_range) \n",
    "    F_u_grid = np.zeros_like(rho_grid)\n",
    "    F_s_grid = np.zeros_like(rho_grid)\n",
    "\n",
    "    _ , ax = plt.subplots()\n",
    "    ax.set_xlabel(r'$w$ [mm]')\n",
    "    ax.set_ylabel(r'$F$ [KN]')\n",
    "\n",
    "    for sl_idx in range(0,len(slenderness_range)):\n",
    "        for rho_idx in range(0,len(rho_range)):      \n",
    "            rho = rho_grid[rho_idx, sl_idx]\n",
    "            sl = sl_grid[rho_idx, sl_idx]\n",
    "\n",
    "            print('parameter combination', rho, sl)\n",
    "\n",
    "            # assigning the grid area (area_g) to the reinforcement area variable\n",
    "            A_j_g = rho * area_g\n",
    "            dp.mc.cross_section_layout.items[0].A = A_j_g\n",
    "\n",
    "            # assigning the grid length (L_g) to the beam length variable\n",
    "            L_g = sl * d\n",
    "            dp.beam_design.L = L_g\n",
    "            \n",
    "            dp.mc.state_changed = True\n",
    "\n",
    "            # running the deflection analysis \n",
    "            F_data, w_data = dp.get_Fw()\n",
    "\n",
    "            # plotting, post-processing & saving the data\n",
    "            ax.plot(w_data, F_data/1000, label = \"rho={}%-sl={} \".format(rho * 100, sl))\n",
    "\n",
    "            w_s = dp.beam_design.L / 250\n",
    "            F_u = max(F_data)\n",
    "            F_s = np.interp(w_s, w_data, F_data, right=F_u*2)\n",
    "\n",
    "            F_u_grid[rho_idx,sl_idx] = F_u\n",
    "            F_s_grid[rho_idx,sl_idx] = F_s\n",
    "            \n",
    "    return F_u_grid, F_s_grid, rho_grid, sl_grid"
   ]
  },
  {
   "cell_type": "markdown",
   "id": "9e7e641f",
   "metadata": {},
   "source": [
    "### 1. EC2 - Steel"
   ]
  },
  {
   "cell_type": "code",
   "execution_count": 3,
   "id": "873cc6bb",
   "metadata": {},
   "outputs": [
    {
     "name": "stdout",
     "output_type": "stream",
     "text": [
      "2.896468153816889\n"
     ]
    }
   ],
   "source": [
    "# Concrete C30/37\n",
    "\n",
    "f_ck = 30\n",
    "\n",
    "b = 1000\n",
    "h = 300\n",
    "d = 0.9 * h\n",
    "\n",
    "fctk_0_05 = EC2.get_f_ctk_0_05(f_ck)\n",
    "f_ctd = fctk_0_05\n",
    "# f_ctd = 0.85 * fctk_0_05 / 1.5\n",
    "f_ctd_fl = max((1.6 - h /1000) * f_ctd, f_ctd)\n",
    "\n",
    "f_ctm = EC2.get_f_ctm(f_ck)\n",
    "print(f_ctm)\n",
    "# Info: eps_cr =  0.000170 with default concrete law gives good slenderness curve\n",
    "\n",
    "mc1 = MKappa(low_kappa = 0, high_kappa = 0.00003)\n",
    "\n",
    "mc1.cs_design.matrix='EC2 with plateau'\n",
    "mc1.cs_design.matrix_.trait_set(\n",
    "#         eps_cr=2.5* f_ctd_fl /E, #0.000125 * f_ck/30, # f_ctm /E,\n",
    "#         eps_tu=0.002,\n",
    "#         mu=0.0,\n",
    "    f_cm = EC2.get_f_cm(f_ck),\n",
    "    factor = 0.85/1.5,\n",
    "    )\n",
    "\n",
    "mc1.cross_section_shape_.B = b\n",
    "mc1.cross_section_shape_.H = h\n",
    "\n",
    "rho = 0.01\n",
    "A_s= rho * b * d\n",
    "\n",
    "# NOTE THAT FOR STEEL STRENGTH IS CALLED f_sy\n",
    "\n",
    "bl1 = ReinfLayer(name='layer1', z=h-d, A=A_s, matmod='steel')\n",
    "bl1.matmod_.trait_set(E_s=200000, f_sy=500, factor = 1/1.15 )\n",
    "mc1.cross_section_layout.add_layer(bl1)\n",
    "\n",
    "dp1 = DeflectionProfile(mc=mc1)\n",
    "dp1.beam_design.beam_conf_name = BoundaryConfig.SIMPLE_BEAM_DIST_LOAD\n",
    "# dp1.beam_design.beam_conf_name = BoundaryConfig.FIXED_AND_ROLLER_SUPPORT_DIST_LOAD\n",
    "# dp1.beam_design.beam_conf_name = BoundaryConfig.FIXED_SUPPORT_DIST_LOAD\n",
    "# dp1.beam_design.beam_conf_name = BoundaryConfig.CANTILEVER_DIST_LOAD\n",
    "\n",
    "dp1.F_scale = 1\n",
    "dp1.beam_design.L = 8 * d # l/d = 10"
   ]
  },
  {
   "cell_type": "code",
   "execution_count": 4,
   "id": "9769c03d",
   "metadata": {
    "scrolled": true
   },
   "outputs": [
    {
     "data": {
      "application/vnd.jupyter.widget-view+json": {
       "model_id": "717cdd4dc0d845d6a43b665bf6fb5b4f",
       "version_major": 2,
       "version_minor": 0
      },
      "text/plain": [
       "VBox(children=(HBox(children=(VBox(children=(Tree(layout=Layout(align_items='stretch', border='solid 1px black…"
      ]
     },
     "metadata": {},
     "output_type": "display_data"
    }
   ],
   "source": [
    "dp1.interact()"
   ]
  },
  {
   "cell_type": "code",
   "execution_count": 5,
   "id": "5675fb1e",
   "metadata": {
    "scrolled": true
   },
   "outputs": [
    {
     "data": {
      "application/vnd.jupyter.widget-view+json": {
       "model_id": "78f021eef1e84c2da1ab88db55a216ec",
       "version_major": 2,
       "version_minor": 0
      },
      "text/plain": [
       "Canvas(toolbar=Toolbar(toolitems=[('Home', 'Reset original view', 'home', 'home'), ('Back', 'Back to previous …"
      ]
     },
     "metadata": {},
     "output_type": "display_data"
    },
    {
     "name": "stdout",
     "output_type": "stream",
     "text": [
      "parameter combination 0.0025 10.0\n",
      "parameter combination 0.0025 15.0\n",
      "parameter combination 0.0025 20.0\n",
      "parameter combination 0.0025 25.0\n",
      "parameter combination 0.0025 30.0\n",
      "parameter combination 0.0025 35.0\n",
      "parameter combination 0.007000000000000001 10.0\n",
      "parameter combination 0.007000000000000001 15.0\n",
      "parameter combination 0.007000000000000001 20.0\n",
      "parameter combination 0.007000000000000001 25.0\n",
      "parameter combination 0.007000000000000001 30.0\n",
      "parameter combination 0.007000000000000001 35.0\n",
      "parameter combination 0.011500000000000002 10.0\n",
      "parameter combination 0.011500000000000002 15.0\n",
      "parameter combination 0.011500000000000002 20.0\n",
      "parameter combination 0.011500000000000002 25.0\n",
      "parameter combination 0.011500000000000002 30.0\n",
      "parameter combination 0.011500000000000002 35.0\n",
      "parameter combination 0.016 10.0\n",
      "parameter combination 0.016 15.0\n",
      "parameter combination 0.016 20.0\n",
      "parameter combination 0.016 25.0\n",
      "parameter combination 0.016 30.0\n",
      "parameter combination 0.016 35.0\n",
      "parameter combination 0.0205 10.0\n",
      "parameter combination 0.0205 15.0\n",
      "parameter combination 0.0205 20.0\n",
      "parameter combination 0.0205 25.0\n",
      "parameter combination 0.0205 30.0\n",
      "parameter combination 0.0205 35.0\n",
      "parameter combination 0.025 10.0\n",
      "parameter combination 0.025 15.0\n",
      "parameter combination 0.025 20.0\n",
      "parameter combination 0.025 25.0\n",
      "parameter combination 0.025 30.0\n",
      "parameter combination 0.025 35.0\n"
     ]
    }
   ],
   "source": [
    "F_u_grid_s, F_s_grid_s, rho_grid_s, sl_grid_s = get_Fu_and_Fs(dp1, 6)"
   ]
  },
  {
   "cell_type": "code",
   "execution_count": 10,
   "id": "db0908bf",
   "metadata": {},
   "outputs": [],
   "source": [
    "np.save('F_u_grid_steel.npy', F_u_grid_s)\n",
    "np.save('F_s_grid_steel.npy', F_s_grid_s)\n",
    "np.save('rho_grid_steel.npy', rho_grid_s)\n",
    "np.save('sl_grid_steel.npy', sl_grid_s)"
   ]
  },
  {
   "cell_type": "markdown",
   "id": "0eb0821d",
   "metadata": {},
   "source": [
    "### 2. EC2 - Carbon"
   ]
  },
  {
   "cell_type": "code",
   "execution_count": 3,
   "id": "8d3d589d",
   "metadata": {},
   "outputs": [],
   "source": [
    "f_ck = 30\n",
    "\n",
    "b = 1000\n",
    "h = 300\n",
    "d = 0.9 * h\n",
    "\n",
    "E = EC2.get_E_cm(f_ck)\n",
    "\n",
    "fctk_0_05 = EC2.get_f_ctk_0_05(f_ck)\n",
    "f_ctd = fctk_0_05\n",
    "# f_ctd = 0.85 * fctk_0_05 / 1.5\n",
    "f_ctd_fl = max((1.6 - h /1000) * f_ctd, f_ctd)\n",
    "\n",
    "mc2 = MKappa(low_kappa = 0, \n",
    "            high_kappa = 0.00007,\n",
    "             n_kappa= 200,\n",
    "           ) \n",
    "\n",
    "mc2.cs_design.matrix='EC2 with plateau'\n",
    "mc2.cs_design.matrix_.trait_set(\n",
    "        eps_cr=f_ctd_fl /E,\n",
    "    f_cm = EC2.get_f_cm(f_ck),\n",
    "    factor = 0.85/1.5\n",
    "    )  \n",
    "\n",
    "mc2.cross_section_shape_.B = b\n",
    "mc2.cross_section_shape_.H = h\n",
    "\n",
    "rho = 0.01\n",
    "# A_s=6 * np.pi * (32/2)**2\n",
    "A_s= rho * b * d\n",
    "\n",
    "bl2 = ReinfLayer(name='layer1', z=h-d, A=A_s, matmod='carbon')\n",
    "bl2.matmod_.trait_set(E=230000, f_t=3000, factor = 1./1.5)\n",
    "mc2.cross_section_layout.add_layer(bl2)\n",
    "\n",
    "dp2 = DeflectionProfile(mc=mc2)\n",
    "dp2.beam_design.beam_conf_name = BoundaryConfig.SIMPLE_BEAM_DIST_LOAD\n",
    "\n",
    "dp2.F_scale = 1\n",
    "dp2.beam_design.L = 8 * d\n",
    "\n",
    "# rho1 = np.linspace(0.0005, 0.007, 7)\n",
    "# rho2 = np.linspace(0.0075, 0.025, 5)\n",
    "# rho_range=np.concatenate((rho1, rho2))\n",
    "\n",
    "# sl1 = np.linspace(3, 10, 7)\n",
    "# sl2 = np.linspace(11, 50, 5)\n",
    "# slenderness_range=np.concatenate((sl1, sl2))"
   ]
  },
  {
   "cell_type": "code",
   "execution_count": 4,
   "id": "2ffebd7f",
   "metadata": {},
   "outputs": [
    {
     "data": {
      "application/vnd.jupyter.widget-view+json": {
       "model_id": "53cc1ce4bc2b48718c01e3b2c8fa2073",
       "version_major": 2,
       "version_minor": 0
      },
      "text/plain": [
       "VBox(children=(HBox(children=(VBox(children=(Tree(layout=Layout(align_items='stretch', border='solid 1px black…"
      ]
     },
     "metadata": {},
     "output_type": "display_data"
    }
   ],
   "source": [
    "dp2.interact()"
   ]
  },
  {
   "cell_type": "code",
   "execution_count": 5,
   "id": "b32978df",
   "metadata": {},
   "outputs": [
    {
     "ename": "TraitError",
     "evalue": "The 'eps_cy' trait of an EC2PlateauConcreteMatMod instance is 'read only'.",
     "output_type": "error",
     "traceback": [
      "\u001b[1;31m---------------------------------------------------------------------------\u001b[0m",
      "\u001b[1;31mTraitError\u001b[0m                                Traceback (most recent call last)",
      "\u001b[1;32m<ipython-input-5-d240d1080342>\u001b[0m in \u001b[0;36m<module>\u001b[1;34m\u001b[0m\n\u001b[0;32m     18\u001b[0m                ) \n\u001b[0;32m     19\u001b[0m     \u001b[0mmc2\u001b[0m\u001b[1;33m.\u001b[0m\u001b[0mcs_design\u001b[0m\u001b[1;33m.\u001b[0m\u001b[0mmatrix\u001b[0m\u001b[1;33m=\u001b[0m\u001b[1;34m'EC2 with plateau'\u001b[0m\u001b[1;33m\u001b[0m\u001b[1;33m\u001b[0m\u001b[0m\n\u001b[1;32m---> 20\u001b[1;33m     mc2.cs_design.matrix_.trait_set(\n\u001b[0m\u001b[0;32m     21\u001b[0m             \u001b[0mE_cc\u001b[0m\u001b[1;33m=\u001b[0m\u001b[0mE\u001b[0m\u001b[1;33m,\u001b[0m\u001b[1;33m\u001b[0m\u001b[1;33m\u001b[0m\u001b[0m\n\u001b[0;32m     22\u001b[0m             \u001b[0mE_ct\u001b[0m\u001b[1;33m=\u001b[0m\u001b[0mE\u001b[0m\u001b[1;33m,\u001b[0m\u001b[1;33m\u001b[0m\u001b[1;33m\u001b[0m\u001b[0m\n",
      "\u001b[1;32m~\\miniconda3\\envs\\bmcs_env\\lib\\site-packages\\traits\\has_traits.py\u001b[0m in \u001b[0;36mtrait_set\u001b[1;34m(self, trait_change_notify, **traits)\u001b[0m\n\u001b[0;32m   1432\u001b[0m         \u001b[1;32melse\u001b[0m\u001b[1;33m:\u001b[0m\u001b[1;33m\u001b[0m\u001b[1;33m\u001b[0m\u001b[0m\n\u001b[0;32m   1433\u001b[0m             \u001b[1;32mfor\u001b[0m \u001b[0mname\u001b[0m\u001b[1;33m,\u001b[0m \u001b[0mvalue\u001b[0m \u001b[1;32min\u001b[0m \u001b[0mtraits\u001b[0m\u001b[1;33m.\u001b[0m\u001b[0mitems\u001b[0m\u001b[1;33m(\u001b[0m\u001b[1;33m)\u001b[0m\u001b[1;33m:\u001b[0m\u001b[1;33m\u001b[0m\u001b[1;33m\u001b[0m\u001b[0m\n\u001b[1;32m-> 1434\u001b[1;33m                 \u001b[0msetattr\u001b[0m\u001b[1;33m(\u001b[0m\u001b[0mself\u001b[0m\u001b[1;33m,\u001b[0m \u001b[0mname\u001b[0m\u001b[1;33m,\u001b[0m \u001b[0mvalue\u001b[0m\u001b[1;33m)\u001b[0m\u001b[1;33m\u001b[0m\u001b[1;33m\u001b[0m\u001b[0m\n\u001b[0m\u001b[0;32m   1435\u001b[0m \u001b[1;33m\u001b[0m\u001b[0m\n\u001b[0;32m   1436\u001b[0m         \u001b[1;32mreturn\u001b[0m \u001b[0mself\u001b[0m\u001b[1;33m\u001b[0m\u001b[1;33m\u001b[0m\u001b[0m\n",
      "\u001b[1;32m~\\miniconda3\\envs\\bmcs_env\\lib\\site-packages\\traits\\trait_type.py\u001b[0m in \u001b[0;36m_read_only\u001b[1;34m(object, name, value)\u001b[0m\n\u001b[0;32m     63\u001b[0m \u001b[1;32mdef\u001b[0m \u001b[0m_read_only\u001b[0m\u001b[1;33m(\u001b[0m\u001b[0mobject\u001b[0m\u001b[1;33m,\u001b[0m \u001b[0mname\u001b[0m\u001b[1;33m,\u001b[0m \u001b[0mvalue\u001b[0m\u001b[1;33m)\u001b[0m\u001b[1;33m:\u001b[0m\u001b[1;33m\u001b[0m\u001b[1;33m\u001b[0m\u001b[0m\n\u001b[0;32m     64\u001b[0m     \u001b[1;34m\"\"\" Raise a trait error for a read-only trait. \"\"\"\u001b[0m\u001b[1;33m\u001b[0m\u001b[1;33m\u001b[0m\u001b[0m\n\u001b[1;32m---> 65\u001b[1;33m     raise TraitError(\n\u001b[0m\u001b[0;32m     66\u001b[0m         \u001b[1;34m\"The '%s' trait of %s instance is 'read only'.\"\u001b[0m\u001b[1;33m\u001b[0m\u001b[1;33m\u001b[0m\u001b[0m\n\u001b[0;32m     67\u001b[0m         \u001b[1;33m%\u001b[0m \u001b[1;33m(\u001b[0m\u001b[0mname\u001b[0m\u001b[1;33m,\u001b[0m \u001b[0mclass_of\u001b[0m\u001b[1;33m(\u001b[0m\u001b[0mobject\u001b[0m\u001b[1;33m)\u001b[0m\u001b[1;33m)\u001b[0m\u001b[1;33m\u001b[0m\u001b[1;33m\u001b[0m\u001b[0m\n",
      "\u001b[1;31mTraitError\u001b[0m: The 'eps_cy' trait of an EC2PlateauConcreteMatMod instance is 'read only'."
     ]
    }
   ],
   "source": [
    "for f_ck in [30, 50, 70, 90, 100]:\n",
    "\n",
    "    b = 1000\n",
    "    h = 300\n",
    "    d = 0.9 * h\n",
    "\n",
    "    E = EC2.get_E_cm(f_ck)\n",
    "\n",
    "    fctk_0_05 = EC2.get_f_ctk_0_05(f_ck)\n",
    "    f_ctd = fctk_0_05\n",
    "    # f_ctd = 0.85 * fctk_0_05 / 1.5\n",
    "    f_ctd_fl = max((1.6 - h /1000) * f_ctd, f_ctd)\n",
    "\n",
    "    eps_cr = f_ctd_fl/E\n",
    "\n",
    "    mc2 = MKappa(low_kappa = 0, \n",
    "                high_kappa = 0.00007, # 0.00005,\n",
    "               ) \n",
    "    mc2.cs_design.matrix='EC2 with plateau'\n",
    "    mc2.cs_design.matrix_.trait_set(\n",
    "            E_cc=E,\n",
    "            E_ct=E,\n",
    "            eps_cr=f_ctd_fl /E, #eps_cr, #0.000132 * f_ck/30,\n",
    "            eps_cy=EC2.get_eps_c2(f_ck),\n",
    "            eps_cu=EC2.get_eps_cu2(f_ck),\n",
    "            eps_tu=0.002,\n",
    "            mu=0.0,\n",
    "            f_cd = f_ck*0.85/1.5,\n",
    "    #     factor = 1\n",
    "    #     factor = 0.85/1.5\n",
    "        )  \n",
    "\n",
    "    mc2.cross_section_shape_.B = b\n",
    "    mc2.cross_section_shape_.H = h\n",
    "\n",
    "    rho = 0.01\n",
    "    # A_s=6 * np.pi * (32/2)**2\n",
    "    A_s= rho * b * d\n",
    "\n",
    "    bl2 = ReinfLayer(name='layer1', z=h-d, A=A_s, matmod='carbon')\n",
    "    bl2.matmod_.trait_set(E=230000, f_t=3000, factor = 1./1.5) #factor = 1.)\n",
    "    mc2.cross_section_layout.add_layer(bl2)\n",
    "\n",
    "    dp2 = DeflectionProfile(mc=mc2)\n",
    "    dp2.beam_design.beam_conf_name = BoundaryConfig.SIMPLE_BEAM_DIST_LOAD\n",
    "\n",
    "    dp2.F_scale = 1\n",
    "    dp2.beam_design.L = 10 * d\n",
    "\n",
    "    rho1 = np.linspace(0.0005, 0.007, 12)\n",
    "    rho2 = np.linspace(0.0075, 0.025, 8)\n",
    "    rho_range=np.concatenate((rho1, rho2))\n",
    "\n",
    "    sl1 = np.linspace(3, 10, 12)\n",
    "    sl2 = np.linspace(11, 50, 8)\n",
    "    slenderness_range=np.concatenate((sl1, sl2))\n",
    "    \n",
    "    F_u_grid_c, F_s_grid_c, rho_grid_c, sl_grid_c = get_Fu_and_Fs(dp2, rho_range=rho_range, slenderness_range=slenderness_range)\n",
    "    \n",
    "    np.save('F_u_grid_carbon_c' + str(f_ck) + '.npy', F_u_grid_c)\n",
    "    np.save('F_s_grid_carbon_c' + str(f_ck) + '.npy', F_s_grid_c)\n",
    "    np.save('rho_grid_carbon_c' + str(f_ck) + '.npy', rho_grid_c)\n",
    "    np.save('sl_grid_carbon_c' + str(f_ck) + '.npy', sl_grid_c)\n"
   ]
  },
  {
   "cell_type": "code",
   "execution_count": 7,
   "id": "1b23e503",
   "metadata": {},
   "outputs": [
    {
     "data": {
      "application/vnd.jupyter.widget-view+json": {
       "model_id": "8c9a35a09570433896b50b0bdb6961bd",
       "version_major": 2,
       "version_minor": 0
      },
      "text/plain": [
       "VBox(children=(HBox(children=(VBox(children=(Tree(layout=Layout(align_items='stretch', border='solid 1px black…"
      ]
     },
     "metadata": {},
     "output_type": "display_data"
    }
   ],
   "source": [
    "dp2.interact()"
   ]
  },
  {
   "cell_type": "code",
   "execution_count": 5,
   "id": "15e84711",
   "metadata": {
    "scrolled": true
   },
   "outputs": [
    {
     "data": {
      "application/vnd.jupyter.widget-view+json": {
       "model_id": "fceb5302b144487ca4fc8acd0427d37c",
       "version_major": 2,
       "version_minor": 0
      },
      "text/plain": [
       "Canvas(toolbar=Toolbar(toolitems=[('Home', 'Reset original view', 'home', 'home'), ('Back', 'Back to previous …"
      ]
     },
     "metadata": {},
     "output_type": "display_data"
    },
    {
     "name": "stdout",
     "output_type": "stream",
     "text": [
      "parameter combination 0.0002 3.0\n",
      "parameter combination 0.0002 10.833333333333332\n",
      "parameter combination 0.0002 18.666666666666664\n",
      "parameter combination 0.0002 26.5\n",
      "parameter combination 0.0002 34.33333333333333\n",
      "parameter combination 0.0002 42.166666666666664\n",
      "parameter combination 0.0002 50.0\n",
      "parameter combination 0.004333333333333333 3.0\n",
      "parameter combination 0.004333333333333333 10.833333333333332\n",
      "parameter combination 0.004333333333333333 18.666666666666664\n",
      "parameter combination 0.004333333333333333 26.5\n",
      "parameter combination 0.004333333333333333 34.33333333333333\n",
      "parameter combination 0.004333333333333333 42.166666666666664\n",
      "parameter combination 0.004333333333333333 50.0\n",
      "parameter combination 0.008466666666666667 3.0\n",
      "parameter combination 0.008466666666666667 10.833333333333332\n",
      "parameter combination 0.008466666666666667 18.666666666666664\n",
      "parameter combination 0.008466666666666667 26.5\n",
      "parameter combination 0.008466666666666667 34.33333333333333\n",
      "parameter combination 0.008466666666666667 42.166666666666664\n",
      "parameter combination 0.008466666666666667 50.0\n",
      "parameter combination 0.012600000000000002 3.0\n",
      "parameter combination 0.012600000000000002 10.833333333333332\n",
      "parameter combination 0.012600000000000002 18.666666666666664\n",
      "parameter combination 0.012600000000000002 26.5\n",
      "parameter combination 0.012600000000000002 34.33333333333333\n",
      "parameter combination 0.012600000000000002 42.166666666666664\n",
      "parameter combination 0.012600000000000002 50.0\n",
      "parameter combination 0.016733333333333333 3.0\n",
      "parameter combination 0.016733333333333333 10.833333333333332\n",
      "parameter combination 0.016733333333333333 18.666666666666664\n",
      "parameter combination 0.016733333333333333 26.5\n",
      "parameter combination 0.016733333333333333 34.33333333333333\n",
      "parameter combination 0.016733333333333333 42.166666666666664\n",
      "parameter combination 0.016733333333333333 50.0\n",
      "parameter combination 0.020866666666666665 3.0\n",
      "parameter combination 0.020866666666666665 10.833333333333332\n",
      "parameter combination 0.020866666666666665 18.666666666666664\n",
      "parameter combination 0.020866666666666665 26.5\n",
      "parameter combination 0.020866666666666665 34.33333333333333\n",
      "parameter combination 0.020866666666666665 42.166666666666664\n",
      "parameter combination 0.020866666666666665 50.0\n",
      "parameter combination 0.025 3.0\n",
      "parameter combination 0.025 10.833333333333332\n",
      "parameter combination 0.025 18.666666666666664\n",
      "parameter combination 0.025 26.5\n",
      "parameter combination 0.025 34.33333333333333\n",
      "parameter combination 0.025 42.166666666666664\n",
      "parameter combination 0.025 50.0\n"
     ]
    }
   ],
   "source": [
    "F_u_grid_c, F_s_grid_c, rho_grid_c, sl_grid_c = get_Fu_and_Fs(dp2, 7, rho_range=(0.0002, 0.025), slenderness_range=(3, 50))"
   ]
  },
  {
   "cell_type": "code",
   "execution_count": 9,
   "id": "1168fc99",
   "metadata": {},
   "outputs": [],
   "source": [
    "np.save('F_u_grid_carbon.npy', F_u_grid_c)\n",
    "np.save('F_s_grid_carbon.npy', F_s_grid_c)\n",
    "np.save('rho_grid_carbon.npy', rho_grid_c)\n",
    "np.save('sl_grid_carbon.npy', sl_grid_c)"
   ]
  },
  {
   "cell_type": "code",
   "execution_count": 6,
   "id": "aef8a209",
   "metadata": {
    "scrolled": false
   },
   "outputs": [
    {
     "data": {
      "application/vnd.jupyter.widget-view+json": {
       "model_id": "9c5eaba1c2484dfd9b40e3cf85509d64",
       "version_major": 2,
       "version_minor": 0
      },
      "text/plain": [
       "Canvas(toolbar=Toolbar(toolitems=[('Home', 'Reset original view', 'home', 'home'), ('Back', 'Back to previous …"
      ]
     },
     "metadata": {},
     "output_type": "display_data"
    }
   ],
   "source": [
    "fig, ax = plt.subplots()\n",
    "\n",
    "z = F_u_grid_s / F_s_grid_s - 1./0.59\n",
    "CS = ax.contour(rho_grid_s, sl_grid_s, z, levels=[0])\n",
    "ax.clabel(CS, inline=1, fontsize=10)\n",
    "\n",
    "# z2 = F_u_grid_c / F_s_grid_c - 1./0.59\n",
    "# CS2 = ax.contour(rho_grid_c, sl_grid_c, z2)\n",
    "# ax.clabel(CS2, inline=1, fontsize=10)\n",
    "\n",
    "\n",
    "ax.set_ylabel('L/d')\n",
    "ax.set_xlabel(r'$\\rho$ %')\n",
    "ax.set_ylim(0, 35)\n",
    "ax.set_xlim(0.0, 0.025)\n",
    "ax.plot([0.005, 0.005],[0, 35], c='black', lw=0.8)\n",
    "# Draw EC2 curve\n",
    "BeamSLSCurve().plot_steel_sls_curves(ax=ax, f_cks=[30], axes_start_from_zero=True)"
   ]
  },
  {
   "cell_type": "markdown",
   "id": "4566e9a6",
   "metadata": {},
   "source": [
    "# Checking steel and carbon graphs for reinforcement ratio rho = 0.5%"
   ]
  },
  {
   "cell_type": "markdown",
   "id": "e8dab425",
   "metadata": {},
   "source": [
    "## Steel"
   ]
  },
  {
   "cell_type": "code",
   "execution_count": 5,
   "id": "0bfa8e7f",
   "metadata": {
    "scrolled": false
   },
   "outputs": [
    {
     "data": {
      "application/vnd.jupyter.widget-view+json": {
       "model_id": "cca956441015469fb273e8fcc54a21d3",
       "version_major": 2,
       "version_minor": 0
      },
      "text/plain": [
       "Canvas(toolbar=Toolbar(toolitems=[('Home', 'Reset original view', 'home', 'home'), ('Back', 'Back to previous …"
      ]
     },
     "metadata": {},
     "output_type": "display_data"
    },
    {
     "name": "stdout",
     "output_type": "stream",
     "text": [
      "Parametric study is running...\n",
      "L: (1890.0), (5400.0), \n",
      "Parametric study finished.\n"
     ]
    }
   ],
   "source": [
    "# set rho = 0.5%\n",
    "d = 0.9 * mc1.cross_section_shape_.H \n",
    "mc1.cross_section_layout.items[0].A = 0.005 * mc1.cross_section_shape_.B * d\n",
    "mc1.state_changed = True\n",
    "\n",
    "params_config = [\n",
    "    ['L',   dp1.beam_design, [7*d, 20*d]],\n",
    "]\n",
    "\n",
    "LoadDeflectionParamsStudy(dp1, show_sls_deflection_limit = True).run(params_config)"
   ]
  },
  {
   "cell_type": "code",
   "execution_count": 3,
   "id": "10e66b63",
   "metadata": {
    "scrolled": false
   },
   "outputs": [
    {
     "name": "stdout",
     "output_type": "stream",
     "text": [
      "L = 1.89 m\n",
      "w_limit = 7.56 mm\n"
     ]
    },
    {
     "data": {
      "application/vnd.jupyter.widget-view+json": {
       "model_id": "d4c94c892f3c408091dea6be785848c2",
       "version_major": 2,
       "version_minor": 0
      },
      "text/plain": [
       "VBox(children=(HBox(children=(VBox(children=(Tree(layout=Layout(align_items='stretch', border='solid 1px black…"
      ]
     },
     "metadata": {},
     "output_type": "display_data"
    }
   ],
   "source": [
    "mc1.cross_section_layout.items[0].A = 0.005 * mc1.cross_section_shape_.B * (0.9 * mc1.cross_section_shape_.H)\n",
    "mc1.state_changed = True\n",
    "dp1.beam_design.L = 7 * d\n",
    "\n",
    "print('L = ' + str(dp1.beam_design.L/1000) + ' m')\n",
    "print('w_limit = ' + str(dp1.beam_design.L/250) + ' mm')\n",
    "dp1.interact()"
   ]
  },
  {
   "cell_type": "markdown",
   "id": "5f6d95d4",
   "metadata": {},
   "source": [
    "## Carbon"
   ]
  },
  {
   "cell_type": "code",
   "execution_count": 6,
   "id": "2230bc80",
   "metadata": {},
   "outputs": [
    {
     "data": {
      "application/vnd.jupyter.widget-view+json": {
       "model_id": "ce672a0910da4aeb8c33d110d9101fbf",
       "version_major": 2,
       "version_minor": 0
      },
      "text/plain": [
       "Canvas(toolbar=Toolbar(toolitems=[('Home', 'Reset original view', 'home', 'home'), ('Back', 'Back to previous …"
      ]
     },
     "metadata": {},
     "output_type": "display_data"
    },
    {
     "name": "stdout",
     "output_type": "stream",
     "text": [
      "Parametric study is running...\n",
      "L: (1890.0), (5400.0), \n",
      "Parametric study finished.\n"
     ]
    }
   ],
   "source": [
    "# set rho = 0.5%\n",
    "d = 0.9 * mc2.cross_section_shape_.H \n",
    "mc2.cross_section_layout.items[0].A = 0.005 * mc2.cross_section_shape_.B * d\n",
    "mc2.state_changed = True\n",
    "\n",
    "params_config = [\n",
    "    ['L',   dp2.beam_design, [7*d, 20*d]],\n",
    "#         ['L',   dp2.beam_design, [5*d, 7*d, 10*d, 15*d, 20*d, 25*d]],\n",
    "]\n",
    "\n",
    "LoadDeflectionParamsStudy(dp2, show_sls_deflection_limit = True).run(params_config)"
   ]
  },
  {
   "cell_type": "code",
   "execution_count": 16,
   "id": "374cc2fa",
   "metadata": {
    "scrolled": true
   },
   "outputs": [
    {
     "data": {
      "application/vnd.jupyter.widget-view+json": {
       "model_id": "e1b0ad84780f418d8e918356398cd0ba",
       "version_major": 2,
       "version_minor": 0
      },
      "text/plain": [
       "VBox(children=(HBox(children=(VBox(children=(Tree(layout=Layout(align_items='stretch', border='solid 1px black…"
      ]
     },
     "metadata": {},
     "output_type": "display_data"
    }
   ],
   "source": [
    "mc2.cross_section_layout.items[0].A = 0.005* mc2.cross_section_shape_.B * (0.9 * mc2.cross_section_shape_.H)\n",
    "mc2.state_changed = True\n",
    "dp2.beam_design.L = 30 * d\n",
    "dp2.interact()"
   ]
  },
  {
   "cell_type": "markdown",
   "id": "ead93f6e",
   "metadata": {},
   "source": [
    "## Plot all curves"
   ]
  },
  {
   "cell_type": "code",
   "execution_count": 16,
   "id": "c7f3a689",
   "metadata": {},
   "outputs": [],
   "source": [
    "f_cks = [50]\n",
    "F_u_grids = []\n",
    "F_s_grids = []\n",
    "rho_grids = []\n",
    "sl_grids = []\n",
    "reinforcement = 'carbon'\n",
    "for f_ck in f_cks:\n",
    "    f_ck = str(f_ck)\n",
    "\n",
    "    F_u_grids.append(np.load('exported_data/F_u_grid_carbon_EC2_eq2_tension_E230_ft_3000_c' + str(f_ck) + '.npy'))\n",
    "    F_s_grids.append(np.load('exported_data/F_s_grid_carbon_EC2_eq2_tension_E230_ft_3000_c' + str(f_ck) + '.npy'))\n",
    "    rho_grids.append(np.load('exported_data/rho_grid_carbon_EC2_eq2_tension_E230_ft_3000_c' + str(f_ck) + '.npy'))\n",
    "    sl_grids.append(np.load('exported_data/sl_grid_carbon_EC2_eq2_tension_E230_ft_3000_c' + str(f_ck) + '.npy'))"
   ]
  },
  {
   "cell_type": "code",
   "execution_count": 22,
   "id": "0086cc98",
   "metadata": {},
   "outputs": [
    {
     "data": {
      "text/plain": [
       "<matplotlib.legend.Legend at 0x1d8500ef220>"
      ]
     },
     "execution_count": 22,
     "metadata": {},
     "output_type": "execute_result"
    }
   ],
   "source": [
    "_, ax = plt.subplots(1,1)\n",
    "\n",
    "ax.set_ylabel('L/d')\n",
    "ax.set_xlabel(r'$\\rho$ %')\n",
    "ax.set_ylim(0, 35)\n",
    "ax.set_xlim(0.0, 0.025)\n",
    "\n",
    "for f_ck, F_u_grid, F_s_grid, rho_grid, sl_grid in zip(f_cks, F_u_grids, F_s_grids, rho_grids, sl_grids):\n",
    "    z = 0.5 * F_u_grid / F_s_grid - 1./0.59\n",
    "    CS = ax.contour(rho_grid, sl_grid, z, colors=[np.random.rand(3,)], levels=[0])\n",
    "    CS.collections[0].set_label('C' + str(f_ck))\n",
    "#     ax.clabel(CS, inline=1, fontsize=10)\n",
    "    \n",
    "    BeamSLSCurve().plot_steel_sls_curves(ax=ax, f_cks=[50], axes_start_from_zero=True)\n",
    "\n",
    "ax.legend()\n"
   ]
  }
 ],
 "metadata": {
  "kernelspec": {
   "display_name": "Python 3",
   "language": "python",
   "name": "python3"
  },
  "language_info": {
   "codemirror_mode": {
    "name": "ipython",
    "version": 3
   },
   "file_extension": ".py",
   "mimetype": "text/x-python",
   "name": "python",
   "nbconvert_exporter": "python",
   "pygments_lexer": "ipython3",
   "version": "3.9.4"
  }
 },
 "nbformat": 4,
 "nbformat_minor": 5
}
