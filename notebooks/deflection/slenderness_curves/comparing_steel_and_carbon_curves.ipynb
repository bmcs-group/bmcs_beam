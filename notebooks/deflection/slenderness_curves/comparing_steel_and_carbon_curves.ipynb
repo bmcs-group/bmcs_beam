{
 "cells": [
  {
   "cell_type": "code",
   "execution_count": null,
   "id": "0acc0fd1",
   "metadata": {},
   "outputs": [],
   "source": [
    "%matplotlib widget\n",
    "# %matplotlib qt\n",
    "import matplotlib.pyplot as plt\n",
    "import numpy as np\n",
    "import bmcs_utils.api as bu\n",
    "from bmcs_cross_section.api import MKappa, TShape, EC2, BarLayer, ReinfLayer\n",
    "from bmcs_beam.api import SLSParamStudy, BoundaryConditions, BoundaryConfig, DeflectionProfile, BeamDesign, BeamSLSCurve, LoadDeflectionParamsStudy\n",
    "from mpl_toolkits import mplot3d"
   ]
  },
  {
   "attachments": {
    "Load-deflection-2.svg": {
     "image/svg+xml": [
      "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"
     ]
    }
   },
   "cell_type": "markdown",
   "id": "d3aff0b9",
   "metadata": {},
   "source": [
    "![Load-deflection-2.svg](attachment:Load-deflection-2.svg)\n",
    "$q_{GZT}$ = F_u in the code\\\n",
    "$q_{GZG}$ = F_s in the code\\\n",
    "$\\gamma_{carbon}$ 1.3/(0.85*0.9)"
   ]
  },
  {
   "cell_type": "code",
   "execution_count": null,
   "id": "598ee42a",
   "metadata": {
    "scrolled": true
   },
   "outputs": [],
   "source": [
    "fig, ax = plt.subplots()\n",
    "b_sls.plot_with_ec2_curves(b_sls.F_u_grid, b_sls.F_s_grid, b_sls.rho_grid, b_sls.sl_grid, ax)\n",
    "fig\n",
    "fig.savefig('biegeversuche_properties_300_100_section_4pb.pdf')"
   ]
  },
  {
   "cell_type": "code",
   "execution_count": null,
   "id": "de5dae49",
   "metadata": {},
   "outputs": [],
   "source": [
    "b_sls = BeamSLSCurve(f_ck=40, use_f_ctm_fl=False, rein_type = 'carbon_grid', system_type = 'dist', n_i=10)\n",
    "ps = SLSParamStudy(b_sls)\n",
    "b_sls.interact()"
   ]
  },
  {
   "cell_type": "code",
   "execution_count": null,
   "id": "ffe3e57c",
   "metadata": {},
   "outputs": [],
   "source": [
    "# b_sls = BeamSLSCurve()\n",
    "# ps = SLSParamStudy(b_sls)"
   ]
  },
  {
   "cell_type": "code",
   "execution_count": null,
   "id": "be5a9f12",
   "metadata": {
    "scrolled": false
   },
   "outputs": [],
   "source": [
    "# b_sls.interact()"
   ]
  },
  {
   "cell_type": "code",
   "execution_count": null,
   "id": "f020e829",
   "metadata": {},
   "outputs": [],
   "source": [
    "b_sls.n_i = 30"
   ]
  },
  {
   "cell_type": "code",
   "execution_count": null,
   "id": "0f942a64",
   "metadata": {},
   "outputs": [],
   "source": [
    "b_sls.rein_type = 'carbon_grid'\n",
    "b_sls.dense_quarter = True"
   ]
  },
  {
   "cell_type": "code",
   "execution_count": null,
   "id": "1697a59c",
   "metadata": {},
   "outputs": [],
   "source": [
    "# fig, ax = plt.subplots()\n",
    "# ax.vlines(b_sls.rho_range, ymin=0, ymax=50)\n",
    "# ax.hlines(b_sls.slenderness_range, xmin=0, xmax=0.025)"
   ]
  },
  {
   "cell_type": "code",
   "execution_count": null,
   "id": "ff14e194",
   "metadata": {},
   "outputs": [],
   "source": [
    "b_sls.concrete_law = 'EC2 with plateau'"
   ]
  },
  {
   "cell_type": "code",
   "execution_count": null,
   "id": "c2aa8d88",
   "metadata": {},
   "outputs": [],
   "source": [
    "EC2.get_f_ctm_fl(b_sls.f_ck, 300)"
   ]
  },
  {
   "cell_type": "code",
   "execution_count": null,
   "id": "cd0401a6",
   "metadata": {},
   "outputs": [],
   "source": [
    "b_sls.apply_material_factors = True\n",
    "b_sls.use_f_ctm_fl = False\n",
    "b_sls.concrete_law = 'EC2'"
   ]
  },
  {
   "cell_type": "code",
   "execution_count": null,
   "id": "c06c1658",
   "metadata": {},
   "outputs": [],
   "source": [
    "b_sls.f_ck=40\n",
    "dp = b_sls.dp\n",
    "dp.mc.cross_section_shape = 'I-shape'\n",
    "dp.mc.cross_section_shape_.H = 300\n",
    "dp.mc.cross_section_shape_.B_w = 100\n",
    "dp.mc.cross_section_shape_.B_f_bot = 100\n",
    "dp.mc.cross_section_shape_.B_f_top = 400\n",
    "dp.mc.cross_section_shape_.H_f_bot = 100\n",
    "dp.mc.cross_section_shape_.H_f_top = 100"
   ]
  },
  {
   "cell_type": "code",
   "execution_count": null,
   "id": "eaac5e48",
   "metadata": {
    "scrolled": true
   },
   "outputs": [],
   "source": [
    "params_config = [\n",
    "#     ['f_ctm', b_sls, [1* EC2.get_f_ctm_fl(b_sls.f_ck, 300), 2* EC2.get_f_ctm_fl(b_sls.f_ck, 300)]],\n",
    "#     [['f_ck', b_sls, [30, 50, 70]], ['f_ctm', b_sls, [7.5, 10.58, 12]]],\n",
    "#         [['f_ck', b_sls, [10]], ['f_ctm', b_sls, [4]]],\n",
    "#     ['f_ck', b_sls, [50, 100]],\n",
    "#     ['sls_to_uls_ratio', b_sls, [0.59, 0.51]]\n",
    "#     ['concrete_law', b_sls, ['EC2 with plateau', 'EC2']],\n",
    "    ['n_i', b_sls, [30]],\n",
    "#     ['dense_quarter', b_sls, [True, False]],\n",
    "#     ['use_f_ctm_fl', b_sls, [True, False]],\n",
    "#     ['apply_material_factors', b_sls, [True, False]],\n",
    "#     ['rein_type', b_sls, ['carbon_grid', 'carbon_rebars']],\n",
    "#     ['H', b_sls.dp.mc.cross_section_shape_, [200, 400, 600]],\n",
    "#     ['B', b_sls.dp.mc.cross_section_shape_, [1000, 200]],\n",
    "#     [['B', b_sls.dp.mc.cross_section_shape_, [1000, 200, 300]], ['H', b_sls.dp.mc.cross_section_shape_, [300, 400, 700]]],\n",
    "    [['f_t', b_sls.dp.mc.cross_section_layout.items[0].matmod_, [1000]], ['E', b_sls.dp.mc.cross_section_layout.items[0].matmod_, [100000]]],\n",
    "    ]\n",
    "fig = ps.run(params_config, savefig=True)"
   ]
  },
  {
   "cell_type": "code",
   "execution_count": null,
   "id": "5ad8a46d",
   "metadata": {},
   "outputs": [],
   "source": [
    "fig, ax = plt.subplots()\n",
    "fig.set_size_inches(6, 4)\n",
    "b_sls.dp.plot_fw_with_fmax(ax)\n",
    "# fig.savefig('carbon_sl_10_rho_0.28.pdf')\n",
    "fig"
   ]
  },
  {
   "cell_type": "code",
   "execution_count": null,
   "id": "3e5868ab",
   "metadata": {},
   "outputs": [],
   "source": [
    "# sls.plot_F_u()\n",
    "sls.plot_F_u(bending_shear_diff = True)\n",
    "# sls.plot_F_u(load='shear')\n",
    "\n",
    "\n",
    "# Achse x: Bewehrungsgrad rho [%]\n",
    "# Achse y: Biegeschlankheit l/d [-]"
   ]
  },
  {
   "cell_type": "markdown",
   "id": "50fbab09",
   "metadata": {},
   "source": [
    "## Tensile vs compression failure zones"
   ]
  },
  {
   "cell_type": "code",
   "execution_count": null,
   "id": "e6a3e0e5",
   "metadata": {},
   "outputs": [],
   "source": [
    "dp = b_sls.dp\n",
    "mc = dp.mc\n",
    "# for rho in b_sls.rho_range:\n",
    "#     area_g = mc.cross_section_shape_.get_cs_area()\n",
    "#     A_j_g = rho * area_g\n",
    "#     mc.cross_section_layout.items[0].A = A_j_g\n",
    "#     mc.M_t / mc.M_scale"
   ]
  },
  {
   "cell_type": "code",
   "execution_count": null,
   "id": "ae8e84c8",
   "metadata": {},
   "outputs": [],
   "source": [
    "from matplotlib import cm\n",
    "fig, ax = plt.subplots(subplot_kw={\"projection\": \"3d\"})\n",
    "ax.plot_surface(b_sls.rho_grid, b_sls.sl_grid, b_sls.F_u_grid,\n",
    "                       linewidth=0, antialiased=False, cmap=cm.coolwarm)"
   ]
  },
  {
   "cell_type": "code",
   "execution_count": null,
   "id": "09b6aecd",
   "metadata": {},
   "outputs": [],
   "source": [
    "np.linspace(0, 5000, 30)\n",
    "fig, ax = plt.subplots()\n",
    "# z = b_sls.F_u_grid / b_sls.F_s_grid - 1. / b_sls.sls_to_uls_ratio\n",
    "z = b_sls.F_u_grid\n",
    "cs = ax.contour(b_sls.rho_grid, b_sls.sl_grid, z, levels=[0, 10, 20, 50, 80, 100, 150, 300, 1000, 2000, 3000, 4000, 5000, 6000, 7000, 8000])\n",
    "ax.clabel(cs, inline=True, fontsize=10)"
   ]
  },
  {
   "cell_type": "markdown",
   "id": "9e7e641f",
   "metadata": {},
   "source": [
    "### 1. EC2 - Steel"
   ]
  },
  {
   "cell_type": "code",
   "execution_count": null,
   "id": "5675fb1e",
   "metadata": {},
   "outputs": [],
   "source": [
    "b_sls.n_i = 10\n",
    "b_sls.rein_type = 'steel'\n",
    "b_sls.dense_quarter = False"
   ]
  },
  {
   "cell_type": "markdown",
   "id": "0eb0821d",
   "metadata": {},
   "source": [
    "### 2. EC2 - Carbon"
   ]
  },
  {
   "cell_type": "code",
   "execution_count": null,
   "id": "8d3d589d",
   "metadata": {},
   "outputs": [],
   "source": [
    "b_sls.n_i = 10\n",
    "b_sls.rein_type = 'carbon_grid'\n",
    "b_sls.dense_quarter = True"
   ]
  }
 ],
 "metadata": {
  "kernelspec": {
   "display_name": "Python 3 (ipykernel)",
   "language": "python",
   "name": "python3"
  },
  "language_info": {
   "codemirror_mode": {
    "name": "ipython",
    "version": 3
   },
   "file_extension": ".py",
   "mimetype": "text/x-python",
   "name": "python",
   "nbconvert_exporter": "python",
   "pygments_lexer": "ipython3",
   "version": "3.9.12"
  }
 },
 "nbformat": 4,
 "nbformat_minor": 5
}
