{
 "cells": [
  {
   "cell_type": "code",
   "execution_count": null,
   "id": "0acc0fd1",
   "metadata": {},
   "source": [
    "%matplotlib widget\n",
    "# %matplotlib qt\n",
    "import matplotlib.pyplot as plt\n",
    "import numpy as np\n",
    "import bmcs_utils.api as bu\n",
    "from bmcs_cross_section.api import *\n",
    "from bmcs_beam.api import *\n",
    "from mpl_toolkits import mplot3d"
   ],
   "outputs": []
  },
  {
   "cell_type": "code",
   "execution_count": null,
   "id": "bea56618",
   "metadata": {},
   "source": [
    "b_sls = BeamSLSCurve(f_ck = 90, b=300, h=100, high_kappa=0.0002, rein_type = 'carbon_grid', system_type = 'dist', n_i=9, dense_quarter=True)\n",
    "# b_sls = BeamSLSCurve(f_ck = 70, rein_type = 'steel', system_type = 'dist', n_i=16) \n",
    "b_sls.interact()"
   ],
   "outputs": []
  },
  {
   "cell_type": "code",
   "execution_count": null,
   "id": "261d47a0",
   "metadata": {},
   "source": [
    "b_sls.run()"
   ],
   "outputs": []
  },
  {
   "cell_type": "code",
   "execution_count": null,
   "id": "b4cb9d96",
   "metadata": {},
   "source": [
    "fig.savefig('x2.pdf')"
   ],
   "outputs": []
  },
  {
   "cell_type": "code",
   "execution_count": null,
   "id": "f579ebc8",
   "metadata": {},
   "source": [
    "fig, axes = plt.subplots(2, 1)\n",
    "b_sls.update_plot(axes)\n",
    "fig.show()"
   ],
   "outputs": []
  },
  {
   "cell_type": "code",
   "execution_count": null,
   "id": "c5fbfccf",
   "metadata": {},
   "source": [
    "b_sls.interact()"
   ],
   "outputs": []
  },
  {
   "cell_type": "code",
   "execution_count": null,
   "id": "fbb87904",
   "metadata": {},
   "source": [
    "# Get F_Ed and M_Ed according to EC2\n",
    "b = b_sls.dp.mc.cross_section_shape_.B\n",
    "h = b_sls.dp.mc.cross_section_shape_.H\n",
    "L = b_sls.dp.beam_design.system_.L\n",
    "reinf = list(b_sls.dp.mc.cross_section_layout.items.values())[0]\n",
    "d = h - reinf.z\n",
    "As = reinf.A\n",
    "M_Ed, need_comp_reinf = EC2.get_M_Ed(b, d, As, b_sls.f_ck, 500)\n",
    "F_Ed = (8 * M_Ed / L**2) * L # q*l\n",
    "F_Ed/1000, M_Ed/10**6, need_comp_reinf"
   ],
   "outputs": []
  },
  {
   "cell_type": "code",
   "execution_count": null,
   "id": "93fa5790",
   "metadata": {},
   "source": [
    "fig, ax = plt.subplots()\n",
    "ax.plot(np.arange(len(b_sls.F_u_design_to_mean_grid[0])), b_sls.F_u_design_to_mean_grid[0])\n",
    "fig"
   ],
   "outputs": []
  },
  {
   "cell_type": "markdown",
   "id": "03a9e2ac",
   "metadata": {},
   "source": [
    "$$\\frac{F_\\mathrm{limit}}{F_\\mathrm{SLS}} = 1$$\n",
    "\n",
    "$$\\frac{F_\\mathrm{limit}}{\\eta F_\\mathrm{ULS}} = 1$$\n",
    "\n",
    "$$\\frac{\\eta F_\\mathrm{ULS}}{F_\\mathrm{limit}}= 1$$\n",
    "\n",
    "$$\\frac{F_\\mathrm{ULS}}{F_\\mathrm{limit}}= \\frac{1}{\\eta}$$"
   ]
  },
  {
   "cell_type": "code",
   "execution_count": null,
   "id": "690776ae",
   "metadata": {},
   "source": [
    "d = 270\n",
    "l_limit_grid = b_sls.sl_grid * d / 250\n",
    "w_SLS_qp_grid = b_sls.w_SLS_qp_grid\n",
    "\n",
    "F_SLS_qp_design_grid = b_sls.F_SLS_qp_design_grid\n",
    "\n",
    "eta = b_sls.sls_to_uls_ratio\n",
    "F_ULS = b_sls.F_u_grid # F_Ed_u\n",
    "F_SLS = eta * F_ULS # F_Ek_qs\n",
    "F_limit = b_sls.F_s_grid # F_C\n",
    "F_limit_design = b_sls.F_s_design_grid\n",
    "rho = b_sls.rho_grid\n",
    "sl = b_sls.sl_grid\n",
    "\n",
    "xi = b_sls.F_u_design_to_mean_grid\n",
    "\n",
    "z1 = F_ULS / F_limit - 1. / eta\n",
    "z2 = F_ULS / F_limit - 1. / (eta * xi)\n",
    "# util_levels = np.array([1, 0.8, 0.6, 0.4])\n",
    "\n",
    "z3 = F_limit / F_SLS\n",
    "\n",
    "z4 = w_SLS_qp_grid - l_limit_grid\n",
    "\n",
    "z5 = F_SLS_qp_design_grid - F_limit\n",
    "z6 = F_SLS_qp_design_grid - F_limit_design\n",
    "\n",
    "F_limit[-1, -1], F_SLS[-1, -1]"
   ],
   "outputs": []
  },
  {
   "cell_type": "code",
   "execution_count": null,
   "id": "9d43caed",
   "metadata": {},
   "source": [
    "fig, ax = plt.subplots()\n",
    "\n",
    "color = np.random.rand(3, )\n",
    "\n",
    "# cs = ax.contour(rho, sl, z1, levels=[0], colors=[color])\n",
    "# cs = ax.contour(rho, sl, z2, levels=[0], colors=[color])\n",
    "# cs = ax.contour(rho, sl, z3, levels=[0.2, 0.4, 0.6, 0.8, 1], colors=[color])\n",
    "# cs = ax.contour(rho, sl, 1/z3, levels=[0.2, 0.4, 0.6, 0.8, 1])\n",
    "\n",
    "# cs = ax.contour(rho, sl, z4, levels=[0], colors=[color])\n",
    "\n",
    "# cs = ax.contour(rho, sl, z5, levels=[0], colors=[color])\n",
    "\n",
    "# cs = ax.contour(rho, sl, z6, levels=[0], colors=[color])\n",
    "\n",
    "                \n",
    "# cs = ax.contour(rho, sl, z3, levels=1 - util_levels, colors=[color])\n",
    "\n",
    "# cs = ax.contour(rho, sl, z)\n",
    "# cs.collections[0].set_label(label)\n",
    "\n",
    "# Put values on lines\n",
    "# ax.clabel(cs, inline=True, fontsize=10)\n",
    "\n",
    "# p = cs.collections[0].get_paths()[0]\n",
    "# v = p.vertices\n",
    "# b_sls.rho = v[:, 0]\n",
    "# b_sls.sl = v[:, 1]\n",
    "\n",
    "# Draw EC2 curve\n",
    "b_sls.plot_steel_sls_curves(ax, f_cks=[b_sls.f_ck],\n",
    "                           axes_start_from_zero=True,\n",
    "                           color=color)\n",
    "# print(np.min(z), np.max(z))\n",
    "fig"
   ],
   "outputs": []
  },
  {
   "cell_type": "markdown",
   "id": "140765c9",
   "metadata": {},
   "source": [
    "$$\n",
    "\\eta^\\mathrm{FRP} = \\frac{F^\\mathrm{FRP}_\\mathrm{C}}{F^\\mathrm{FRP}_\\mathrm{Ek,qp}}\n",
    "$$\n",
    "\n",
    "$$\n",
    "\\eta^\\mathrm{steel} = \\frac{F^\\mathrm{steel}_\\mathrm{C}}{F^\\mathrm{steel}_\\mathrm{Ek,qp}}\n",
    "$$\n",
    "\n",
    "$$\n",
    "\\eta = \\frac{F^\\mathrm{FRP}_\\mathrm{C}}{F^\\mathrm{steel}_\\mathrm{C}}\n",
    "$$"
   ]
  },
  {
   "cell_type": "code",
   "execution_count": null,
   "id": "c2aa8d88",
   "metadata": {},
   "source": [
    "EC2.get_f_ctm_fl(b_sls.f_ck, 300)"
   ],
   "outputs": []
  },
  {
   "cell_type": "code",
   "execution_count": null,
   "id": "eaac5e48",
   "metadata": {},
   "source": [
    "ps = SLSParamStudy(b_sls)\n",
    "params_config = [\n",
    "#     ['f_ctm', b_sls, [1* EC2.get_f_ctm_fl(b_sls.f_ck, 300), 2* EC2.get_f_ctm_fl(b_sls.f_ck, 300)]],\n",
    "#     ['f_ctm', b_sls, [0, 2, 5]],\n",
    "#     [['f_ck', b_sls, [30, 50, 70]], ['f_ctm', b_sls, [7.5, 10.58, 12]]],\n",
    "#         [['f_ck', b_sls, [10]], ['f_ctm', b_sls, [4]]],\n",
    "    ['f_ck', b_sls, [30, 50, 80]],\n",
    "#     ['sls_to_uls_ratio', b_sls, [0.59, 0.51]]\n",
    "#     ['concrete_law', b_sls, ['EC2 with plateau', 'EC2']],\n",
    "#     ['n_i', b_sls, [30]],\n",
    "#     ['dense_quarter', b_sls, [True, False]],\n",
    "#     ['use_f_ctm_fl', b_sls, [True, False]],\n",
    "#     ['apply_material_factors', b_sls, [True, False]],\n",
    "#     ['rein_type', b_sls, ['carbon_grid', 'carbon_rebars']],\n",
    "#     ['H', b_sls.dp.mc.cross_section_shape_, [200, 400, 600]],\n",
    "#     ['B', b_sls.dp.mc.cross_section_shape_, [1000, 200]],\n",
    "#     [['B', b_sls.dp.mc.cross_section_shape_, [1000, 200, 300]], ['H', b_sls.dp.mc.cross_section_shape_, [300, 400, 700]]],\n",
    "#     [['f_t', b_sls.dp.mc.cross_section_layout.items[0].matmod_, [1000]], ['E', b_sls.dp.mc.cross_section_layout.items[0].matmod_, [100000]]],\n",
    "    ]\n",
    "fig = ps.run(params_config, savefig=True)"
   ],
   "outputs": []
  },
  {
   "cell_type": "code",
   "execution_count": null,
   "id": "5ad8a46d",
   "metadata": {},
   "source": [
    "fig, ax = plt.subplots()\n",
    "fig.set_size_inches(6, 4)\n",
    "b_sls.dp.plot_fw_with_fmax(ax)\n",
    "# fig.savefig('carbon_sl_10_rho_0.28.pdf')\n",
    "fig"
   ],
   "outputs": []
  },
  {
   "cell_type": "code",
   "execution_count": null,
   "id": "3e5868ab",
   "metadata": {},
   "source": [
    "# sls.plot_F_u()\n",
    "sls.plot_F_u(bending_shear_diff = True)\n",
    "# sls.plot_F_u(load='shear')\n",
    "\n",
    "\n",
    "# Achse x: Bewehrungsgrad rho [%]\n",
    "# Achse y: Biegeschlankheit l/d [-]"
   ],
   "outputs": []
  },
  {
   "cell_type": "markdown",
   "id": "50fbab09",
   "metadata": {},
   "source": [
    "## Tensile vs compression failure zones"
   ]
  },
  {
   "cell_type": "code",
   "execution_count": null,
   "id": "e6a3e0e5",
   "metadata": {},
   "source": [
    "dp = b_sls.dp\n",
    "mc = dp.mc\n",
    "# for rho in b_sls.rho_range:\n",
    "#     area_g = mc.cross_section_shape_.get_cs_area()\n",
    "#     A_j_g = rho * area_g\n",
    "#     mc.cross_section_layout.items[0].A = A_j_g\n",
    "#     mc.M_t / mc.M_scale"
   ],
   "outputs": []
  },
  {
   "cell_type": "code",
   "execution_count": null,
   "id": "ae8e84c8",
   "metadata": {},
   "source": [
    "from matplotlib import cm\n",
    "fig, ax = plt.subplots(subplot_kw={\"projection\": \"3d\"})\n",
    "ax.plot_surface(b_sls.rho_grid, b_sls.sl_grid, b_sls.F_u_grid,\n",
    "                       linewidth=0, antialiased=False, cmap=cm.coolwarm)"
   ],
   "outputs": []
  },
  {
   "cell_type": "code",
   "execution_count": null,
   "id": "09b6aecd",
   "metadata": {},
   "source": [
    "np.linspace(0, 5000, 30)\n",
    "fig, ax = plt.subplots()\n",
    "# z = b_sls.F_u_grid / b_sls.F_s_grid - 1. / b_sls.sls_to_uls_ratio\n",
    "z = b_sls.F_u_grid\n",
    "cs = ax.contour(b_sls.rho_grid, b_sls.sl_grid, z, levels=[0, 10, 20, 50, 80, 100, 150, 300, 1000, 2000, 3000, 4000, 5000, 6000, 7000, 8000])\n",
    "ax.clabel(cs, inline=True, fontsize=10)"
   ],
   "outputs": []
  },
  {
   "cell_type": "markdown",
   "id": "9e7e641f",
   "metadata": {},
   "source": [
    "### 1. EC2 - Steel"
   ]
  },
  {
   "cell_type": "code",
   "execution_count": null,
   "id": "5675fb1e",
   "metadata": {},
   "source": [
    "b_sls.n_i = 10\n",
    "b_sls.rein_type = 'steel'\n",
    "b_sls.dense_quarter = False"
   ],
   "outputs": []
  },
  {
   "cell_type": "markdown",
   "id": "0eb0821d",
   "metadata": {},
   "source": [
    "### 2. EC2 - Carbon"
   ]
  },
  {
   "cell_type": "code",
   "execution_count": null,
   "id": "8d3d589d",
   "metadata": {},
   "source": [
    "b_sls.n_i = 10\n",
    "b_sls.rein_type = 'carbon_grid'\n",
    "b_sls.dense_quarter = True"
   ],
   "outputs": []
  }
 ],
 "metadata": {
  "kernelspec": {
   "display_name": "Python 3 (ipykernel)",
   "language": "python",
   "name": "python3"
  },
  "language_info": {
   "codemirror_mode": {
    "name": "ipython",
    "version": 3
   },
   "file_extension": ".py",
   "mimetype": "text/x-python",
   "name": "python",
   "nbconvert_exporter": "python",
   "pygments_lexer": "ipython3"
  }
 },
 "nbformat": 4,
 "nbformat_minor": 5
}
