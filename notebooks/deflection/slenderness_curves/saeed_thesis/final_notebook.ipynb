{
 "cells": [
  {
   "cell_type": "code",
   "execution_count": null,
   "metadata": {},
   "source": [
    "%matplotlib widget"
   ],
   "outputs": []
  },
  {
   "cell_type": "code",
   "execution_count": null,
   "metadata": {},
   "source": [
    "from bmcs_cross_section.mkappa.mkappa import MKappa\n",
    "from bmcs_cross_section.api import TShape, ReinfLayer, EC2\n",
    "from bmcs_cross_section.matmod import PWLConcreteMatMod, EC2ConcreteMatMod\n",
    "\n",
    "from bmcs_beam.beam_config.boundary_conditions import BoundaryConfig\n",
    "from bmcs_beam.beam_config.boundary_conditions import BoundaryConditions\n",
    "from bmcs_beam.bending.deflection_profile import DeflectionProfile\n",
    "from bmcs_beam.beam_config.beam_design import BeamDesign\n",
    "import numpy as np\n",
    "import sympy as sp\n",
    "import matplotlib.pyplot as plt\n",
    "import bmcs_utils.api as bu"
   ],
   "outputs": []
  },
  {
   "cell_type": "code",
   "execution_count": null,
   "metadata": {},
   "source": [
    "def get_Fu_and_Fs(dp, mc, bl1, n_i, rho_range=(0.0025, 0.025), slenderness_range=(3, 35)):\n",
    "    rho_range = np.linspace(*rho_range, n_i)\n",
    "    slenderness_range = np.linspace(*slenderness_range, n_i)\n",
    "\n",
    "    d = mc.cross_section_shape_.B -  bl1.z\n",
    "    b = mc.cross_section_shape_.B\n",
    "    area_g = b * d\n",
    "\n",
    "    rho_grid, sl_grid = np.meshgrid(rho_range, slenderness_range) \n",
    "    F_u_grid = np.zeros_like(rho_grid)\n",
    "    F_s_grid = np.zeros_like(rho_grid)\n",
    "\n",
    "    _ , ax = plt.subplots()\n",
    "    ax.set_xlabel(r'$w$ [mm]')\n",
    "    ax.set_ylabel(r'$F$ [KN]')\n",
    "\n",
    "    for sl_idx in range(0,len(slenderness_range)):\n",
    "        for rho_idx in range(0,len(rho_range)):      \n",
    "            rho = rho_grid[rho_idx, sl_idx]\n",
    "            sl = sl_grid[rho_idx, sl_idx]\n",
    "\n",
    "            print('parameter combination', rho, sl)\n",
    "\n",
    "            # assigning the grid area (area_g) to the reinforcement area variable\n",
    "            A_j_g = rho * area_g\n",
    "            bl1.A = A_j_g\n",
    "\n",
    "            # assigning the grid length (L_g) to the beam length variable\n",
    "            L_g = sl * d\n",
    "            dp.beam_design.L = L_g\n",
    "\n",
    "            # running the deflection analysis \n",
    "            F_data, w_data = dp.get_Fw()\n",
    "\n",
    "            # plotting, post-processing & saving the data\n",
    "            ax.plot(w_data, F_data/1000, label = \"rho={}%-sl={} \".format(rho * 100, sl))\n",
    "\n",
    "            w_s = dp.beam_design.L / 250\n",
    "            F_u = max(F_data)\n",
    "            F_s = np.interp(w_s, w_data, F_data, right=F_u*2)\n",
    "\n",
    "            F_u_grid[rho_idx,sl_idx] = F_u\n",
    "            F_s_grid[rho_idx,sl_idx] = F_s\n",
    "            \n",
    "    return F_u_grid, F_s_grid, rho_grid, sl_grid"
   ],
   "outputs": []
  },
  {
   "cell_type": "code",
   "execution_count": null,
   "metadata": {},
   "source": [
    "f_ck = 30\n",
    "mc = MKappa(name='moment-curvature',n_m=100, n_kappa = 100, low_kappa=0.0, high_kappa=0.00009)\n",
    "mc.matrix = 'piecewise linear'\n",
    "mc.matrix_.trait_set(\n",
    "    E_cc = EC2.get_E_cm(f_ck), \n",
    "    E_ct = EC2.get_E_cm(f_ck),\n",
    "    eps_cr = 0.000125 * ((f_ck**0.5)/(f_ck/10)**0.3)/((30**0.5)/(30/10)**0.3),\n",
    "    eps_cy = EC2.get_eps_c2(f_ck),\n",
    "    eps_cu = EC2.get_eps_cu2(f_ck),\n",
    "    mu = 0.00\n",
    ")\n",
    "mc.cross_section_shape = 'rectangle'\n",
    "mc.cross_section_shape_.trait_set(B = 1000, H = 300)\n",
    "csl = mc.cross_section_layout\n",
    "bl1 = ReinfLayer(name='steel 1', z=100, A=231.04, count=1 ,E=203000, f_sy=560)\n",
    "bl1.matmod = 'carbon'\n",
    "csl.add_layer(bl1)"
   ],
   "outputs": []
  },
  {
   "cell_type": "code",
   "execution_count": null,
   "metadata": {},
   "source": [
    "dp = DeflectionProfile(mc=mc)\n",
    "dp.beam_design.beam_conf_name = BoundaryConfig.FOUR_PB\n",
    "dp.beam_design.beam_conf_name.first_load_distance = 0"
   ],
   "outputs": []
  },
  {
   "cell_type": "code",
   "execution_count": null,
   "metadata": {},
   "source": [
    "dp.app()"
   ],
   "outputs": []
  },
  {
   "cell_type": "code",
   "execution_count": null,
   "metadata": {},
   "source": [
    "F_u_grid, F_s_grid, rho_grid, sl_grid = get_Fu_and_Fs(dp, mc, bl1, 4, rho_range=(0.01, 0.025), slenderness_range=(3, 35))"
   ],
   "outputs": []
  },
  {
   "cell_type": "code",
   "execution_count": null,
   "metadata": {},
   "source": [
    "_, ax = plt.subplots(1,1)\n",
    "\n",
    "z = F_u_grid / F_s_grid - 1./0.59 # - 1./0.51\n",
    "\n",
    "CS = ax.contour(rho_grid, sl_grid, z)#, levels=[0])\n",
    "ax.clabel(CS, inline=1, fontsize=10)\n",
    "ax.set_ylabel('L/d')\n",
    "ax.set_xlabel(r'$\\rho$ %')\n",
    "ax.set_ylim(0, 35)\n",
    "ax.set_xlim(0.0, 0.025)\n",
    "\n",
    "# Draw C30 curve\n",
    "# rho_range = np.arange(0.0025, 0.025, 0.0001)\n",
    "# f_ck = 30\n",
    "# slenderness = get_slenderness(rho_range, 0,  1, f_ck)\n",
    "# ax.plot(rho_range, slenderness, c=np.random.rand(3,))"
   ],
   "outputs": []
  },
  {
   "cell_type": "code",
   "execution_count": null,
   "metadata": {},
   "source": [
    "np.save('F_u_grid_carbon_study' + str(f_ck) + '.npy', F_u_grid)\n",
    "np.save('F_s_grid_carbon_study' + str(f_ck) + '.npy', F_s_grid)\n",
    "np.save('rho_grid_carbon_study' + str(f_ck) + '.npy', rho_grid)\n",
    "np.save('sl_grid_carbon_study' + str(f_ck) + '.npy', sl_grid)"
   ],
   "outputs": []
  },
  {
   "cell_type": "code",
   "execution_count": null,
   "metadata": {},
   "source": [
    "f_cks = [20, 30, 35, 40, 50, 70]\n",
    "F_u_grids = []\n",
    "F_s_grids = []\n",
    "rho_grids = []\n",
    "sl_grids = []\n",
    "reinforcement = 'carbon'\n",
    "for f_ck in f_cks:\n",
    "    f_ck = str(f_ck)\n",
    "    F_u_grids.append(np.load('F_u_grid_' + reinforcement + '_EC2_eq2_tension_c_Homam' + f_ck + '.npy'))\n",
    "    F_s_grids.append(np.load('F_s_grid_' + reinforcement + '_EC2_eq2_tension_c_Homam' + f_ck + '.npy'))\n",
    "    rho_grids.append(np.load('rho_grid_' + reinforcement + '_EC2_eq2_tension_c_Homam' + f_ck + '.npy'))\n",
    "    sl_grids.append(np.load('sl_grid_' + reinforcement + '_EC2_eq2_tension_c_Homam' + f_ck + '.npy'))"
   ],
   "outputs": []
  },
  {
   "cell_type": "code",
   "execution_count": null,
   "metadata": {},
   "source": [
    "_, ax = plt.subplots(1,1)\n",
    "\n",
    "ax.set_ylabel('L/d')\n",
    "ax.set_xlabel(r'$\\rho$ %')\n",
    "ax.set_ylim(0, 35)\n",
    "ax.set_xlim(0.0, 0.025)\n",
    "\n",
    "for f_ck, F_u_grid, F_s_grid, rho_grid, sl_grid in zip(f_cks, F_u_grids, F_s_grids, rho_grids, sl_grids):\n",
    "    z = F_u_grid / F_s_grid - 1./0.59\n",
    "    CS = ax.contour(rho_grid, sl_grid, z, levels=[0], colors=[np.random.rand(3,)])\n",
    "    CS.collections[0].set_label('C' + str(f_ck))\n",
    "#     ax.clabel(CS, inline=1, fontsize=10)\n",
    "rho_range = np.arange(0.0025, 0.025, 0.0001)\n",
    "# f_ck = 30\n",
    "slenderness = get_slenderness(rho_range, 0,  1, f_ck)\n",
    "ax.plot(rho_range, slenderness, c=np.random.rand(3,), label = 'EC2 - Steel')\n",
    "\n",
    "ax.legend()\n",
    "\n"
   ],
   "outputs": []
  },
  {
   "cell_type": "code",
   "execution_count": null,
   "metadata": {},
   "source": [],
   "outputs": []
  },
  {
   "cell_type": "code",
   "execution_count": null,
   "metadata": {},
   "source": [],
   "outputs": []
  },
  {
   "cell_type": "code",
   "execution_count": null,
   "metadata": {},
   "source": [],
   "outputs": []
  },
  {
   "cell_type": "code",
   "execution_count": null,
   "metadata": {},
   "source": [],
   "outputs": []
  },
  {
   "cell_type": "code",
   "execution_count": null,
   "metadata": {},
   "source": [
    "dp.beam_design.beam.applied_loads"
   ],
   "outputs": []
  },
  {
   "cell_type": "code",
   "execution_count": null,
   "metadata": {},
   "source": [
    "bl1.matmod_.trait_set(E=203000, f_sy=560)"
   ],
   "outputs": []
  },
  {
   "cell_type": "code",
   "execution_count": null,
   "metadata": {},
   "source": [
    "# mc.app()"
   ],
   "outputs": []
  },
  {
   "cell_type": "code",
   "execution_count": null,
   "metadata": {},
   "source": [
    "dp.beam_design.get_Q_x()"
   ],
   "outputs": []
  },
  {
   "cell_type": "code",
   "execution_count": null,
   "metadata": {},
   "source": [
    "dp.beam_design.beam_conf_name = BoundaryConfig.FOUR_PB\n",
    "dp.beam_design.beam_conf_name.first_load_distance = 0\n"
   ],
   "outputs": []
  },
  {
   "cell_type": "code",
   "execution_count": null,
   "metadata": {},
   "source": [
    "dp.beam_design.beam_conf_name "
   ],
   "outputs": []
  },
  {
   "cell_type": "code",
   "execution_count": null,
   "metadata": {},
   "source": [
    "M_I, kappa_I = dp.mc.inv_M_kappa\n",
    "4 * M_I[-1] / dp.beam_design.L"
   ],
   "outputs": []
  },
  {
   "cell_type": "code",
   "execution_count": null,
   "metadata": {},
   "source": [
    "dp.F_max"
   ],
   "outputs": []
  },
  {
   "cell_type": "code",
   "execution_count": null,
   "metadata": {},
   "source": [
    "mc_params = dict(\n",
    "            reinforcement_type= ReinforcementType.STEEL,\n",
    "            n_m=100,\n",
    "            n_kappa = 100,\n",
    "            kappa_slider = 0.000001,\n",
    "            low_kappa = 0,\n",
    "            high_kappa =  0.00002,\n",
    "            eps_tu = 0.002508,\n",
    "            E_cc = 34000,\n",
    "            E_ct = 34000,\n",
    "            eps_cr = 0.000132,\n",
    "            eps_cy = 0.0015312,\n",
    "            mu = 0.63,\n",
    "            eps_cu = 0.003498)\n",
    "mc = MKappa(**mc_params)\n",
    "b = 285\n",
    "h = 29\n",
    "mc.cross_section_shape.B = b\n",
    "mc.cross_section_shape.H = h\n",
    "\n",
    "dp = DeflectionProfile(mc=mc)\n",
    "dp.beam_design.beam_conf_name = BoundaryConfig.FOUR_PB\n",
    "# beam.apply_load(F, 0, 0)\n",
    "# bc = BoundaryConditions()\n",
    "# bc.get_configured_beam()\n",
    "dp.beam_design.beam_conf_name.first_load_distance = 0\n",
    "dp.beam_design.L = 3000\n",
    "# dp.beam_design.beam.apply_load(879898787, 0, 0)\n",
    "%matplotlib widget\n",
    "bu.InteractiveWindow([dp,\n",
    "                      dp.beam_design,\n",
    "                      dp.mc,\n",
    "                      dp.mc.cs_design.cross_section_layout,\n",
    "                      dp.mc.cs_design.cross_section_shape,\n",
    "                      dp.mc.cross_section_layout.matrix,\n",
    "                      dp.mc.cross_section_layout],\n",
    "                      tight_layout=True).interact()\n",
    "\n",
    "# M = dp.beam_design.get_M_x()\n",
    "# plt.plot(mc.get_kappa_M(M+1))\n",
    "# plt.show()\n",
    "# mc.get_kappa_M(M) + 1\n",
    "\n",
    "# dp.beam_design.beam.solve_for_reaction_loads(R1, R2)\n",
    "# print(dp.beam_design.beam.reaction_loads)\n",
    "# # print(dp.beam_design.beam.plot_bending_moment())\n",
    "# dp.beam_design.beam.load\n",
    "# # dp.beam_design.beam.apply_load(879898787, 0, 0)\n",
    "# dp.beam_design.beam\n"
   ],
   "outputs": []
  },
  {
   "cell_type": "code",
   "execution_count": null,
   "metadata": {},
   "source": [
    "mc.matrix = 'piecewise linear'\n",
    "css = mc.cross_section_shape = 'T-shape'\n",
    "csl = mc.cross_section_layout\n",
    "bl1 = BarLayer(name='steel 1', z=10, ds=10, count=2 )\n",
    "bl2 = BarLayer(name='steel 2', z=30, ds=10, count=2 )\n",
    "csl.add_layer(bl1)\n",
    "csl.add_layer(bl2)\n"
   ],
   "outputs": []
  },
  {
   "cell_type": "code",
   "execution_count": null,
   "metadata": {},
   "source": [
    "mc.cross_section_layout.reinforcement = [Reinforcement(eps_sy=560/203000,\\\n",
    "E=203000, z=26.82, A=231.04)]"
   ],
   "outputs": []
  }
 ],
 "metadata": {
  "kernelspec": {
   "display_name": "bmcs_env",
   "language": "python",
   "name": "bmcs_env"
  },
  "language_info": {
   "codemirror_mode": {
    "name": "ipython",
    "version": 3
   },
   "file_extension": ".py",
   "mimetype": "text/x-python",
   "name": "python",
   "nbconvert_exporter": "python",
   "pygments_lexer": "ipython3"
  },
  "toc": {
   "base_numbering": 1,
   "nav_menu": {},
   "number_sections": true,
   "sideBar": true,
   "skip_h1_title": false,
   "title_cell": "Table of Contents",
   "title_sidebar": "Contents",
   "toc_cell": false,
   "toc_position": {},
   "toc_section_display": true,
   "toc_window_display": false
  }
 },
 "nbformat": 4,
 "nbformat_minor": 1
}
