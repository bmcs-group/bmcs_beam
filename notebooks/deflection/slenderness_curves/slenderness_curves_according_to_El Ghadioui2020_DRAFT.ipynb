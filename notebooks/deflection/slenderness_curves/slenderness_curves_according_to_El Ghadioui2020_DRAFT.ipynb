{
 "cells": [
  {
   "cell_type": "code",
   "execution_count": null,
   "id": "3eb388a3",
   "metadata": {},
   "outputs": [],
   "source": [
    "%matplotlib widget\n",
    "import sympy as sp\n",
    "import numpy as np\n",
    "from bmcs_beam.api import SLSParamStudy, BoundaryConditions, BoundaryConfig, DeflectionProfile, BeamDesign, BeamSLSCurve, LoadDeflectionParamsStudy"
   ]
  },
  {
   "cell_type": "code",
   "execution_count": null,
   "id": "cutting-classic",
   "metadata": {},
   "outputs": [],
   "source": [
    "eps_fu_d, eta, f_ck, K, M_Ed, b, h, d, f_cd = sp.symbols('eps_fu_d, eta, f_ck, K, M_Ed, b,h,  d, f_cd')\n",
    "\n",
    "mu_Ed_ = M_Ed / (b*d**2*f_cd)\n",
    "mu_Ed_I_ = 0.0926*(h/d)**2/(eta*f_ck**(1/3))\n",
    "mu_Ed_bal_ = 0.8095 * (0.0035/(0.0035+eps_fu_d)) * (1-0.416 * (0.0035/(0.0035+eps_fu_d)))\n",
    "\n",
    "sl_bal_ = K * ((50-f_ck/5)*mu_Ed_bal_ + (f_ck/200 - 0.75)*(17.7 * eta - 5.6))\n",
    "\n",
    "\n",
    "ldr = sp.Piecewise(\n",
    "     (K*(35+(sl_bal_-35)*()/()) , mu_Ed_ <= mu_Ed_bal_ ),\n",
    "     (K , mu_Ed_ > mu_Ed_bal_)\n",
    ")\n",
    "\n"
   ]
  },
  {
   "cell_type": "code",
   "execution_count": null,
   "id": "comparative-distribution",
   "metadata": {},
   "outputs": [],
   "source": [
    "ldr = ldr.subs(rho_0, 0.001 * sp.sqrt(f_ck))\n",
    "get_slenderness = sp.lambdify((rho, rho_p, K , f_ck), ldr, 'numpy')\n",
    "\n",
    "rho_range = np.arange(0.0025, 0.025, 0.0001)\n",
    "f_ck_range = (20, 30, 35, 40, 50, 70)\n",
    "\n",
    "slenderness = []\n",
    "for f_ck in f_ck_range:\n",
    "    for rho in rho_range:\n",
    "        slenderness.append(get_slenderness(rho, 0,  1, f_ck))\n",
    "    plt.plot(rho_range*100, slenderness)\n",
    "    slenderness = []\n",
    "\n",
    "plt.ylim(10, 35)\n",
    "plt.xlim(0.25, 2.5)\n",
    "plt.ylabel('l/d')\n",
    "plt.xlabel(r'$\\rho$ %')\n",
    "plt.title('7.16a & 7.16b curve')\n",
    "plt.show()"
   ]
  },
  {
   "cell_type": "code",
   "execution_count": null,
   "id": "b8c399e3",
   "metadata": {},
   "outputs": [],
   "source": [
    "b_sls = BeamSLSCurve(f_ck = 30, use_f_ctm_fl=False, rein_type = 'steel', system_type = 'dist', n_i=12) #carbon_grid\n",
    "b_sls.interact()"
   ]
  },
  {
   "cell_type": "code",
   "execution_count": null,
   "id": "2ababadd",
   "metadata": {},
   "outputs": [],
   "source": [
    "b_sls.rho_grid\n",
    "w_limit = L/250\n",
    "\n",
    "phi_eq  = (phi_)\n",
    "omega_eff = mu_Ed * f_cd / (eps_f * z * E_c_eff / d)\n",
    "zeta = 1- (((h/d)**2 * (f_ctm/(6*E_c_eff)))/((eta * mu_Ed * f_cd / E_c_eff) + eps_cs * omega_eff * (1-k_xI * h/d)))**2\n",
    "\n",
    "w = L * ((5/4) * (eta * mu_Ed * f_cd / E_c_eff) * (L/d) * (zeta/k2 + (1-zeta)/(k1 * (h/d)**3)))"
   ]
  }
 ],
 "metadata": {
  "kernelspec": {
   "display_name": "Python 3 (ipykernel)",
   "language": "python",
   "name": "python3"
  },
  "language_info": {
   "codemirror_mode": {
    "name": "ipython",
    "version": 3
   },
   "file_extension": ".py",
   "mimetype": "text/x-python",
   "name": "python",
   "nbconvert_exporter": "python",
   "pygments_lexer": "ipython3"
  }
 },
 "nbformat": 4,
 "nbformat_minor": 5
}
