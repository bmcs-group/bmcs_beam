{
 "cells": [
  {
   "cell_type": "markdown",
   "metadata": {},
   "source": [
    "# Deflection Profile Parametric Study for El Ghadioui2020\n",
    "El Ghadioui2020_Structural behaviour of CFRP reinforced concrete members under bending and shear loads"
   ]
  },
  {
   "cell_type": "code",
   "execution_count": null,
   "metadata": {},
   "outputs": [],
   "source": [
    "%matplotlib widget\n",
    "# %matplotlib qt"
   ]
  },
  {
   "cell_type": "code",
   "execution_count": null,
   "metadata": {},
   "outputs": [],
   "source": [
    "from bmcs_cross_section.api import MKappa, TShape, EC2, BarLayer, ReinfLayer\n",
    "from bmcs_beam.api import BoundaryConditions, BoundaryConfig, DeflectionProfile, BeamDesign, LoadDeflectionParamsStudy\n",
    "from os.path import join\n",
    "import numpy as np\n",
    "import pandas as pd\n",
    "import sympy as sp\n",
    "import matplotlib.pyplot as plt\n",
    "import bmcs_utils.api as bu"
   ]
  },
  {
   "cell_type": "code",
   "execution_count": null,
   "metadata": {},
   "outputs": [],
   "source": [
    "# Beam B-M-C-K1 - CFRP Bars\n",
    "excel_file = join('../verification_data/el_ghadioui2020', 'fig_3.xlsx')\n",
    "data = pd.read_excel(excel_file, engine='openpyxl')\n",
    "ver_data = [data['B-M-C-K1_deflection'], data['B-M-C-K1_load']]"
   ]
  },
  {
   "cell_type": "code",
   "execution_count": null,
   "metadata": {},
   "outputs": [],
   "source": [
    "# Beam B-M-C-K1 - CFRP Bars\n",
    "\n",
    "# C 50/60\n",
    "def get_dp(f_ck = None, E=None, low_kappa = None, high_kappa = None, n_kappa=None, n_load_steps=None, eps_tu=None):\n",
    "    if eps_tu is None:\n",
    "        eps_tu = 0.00008\n",
    "    \n",
    "    if n_load_steps is None:\n",
    "        n_load_steps = 31\n",
    "        \n",
    "    if E is None:\n",
    "        E = 33525\n",
    "    \n",
    "    if high_kappa is None:\n",
    "        high_kappa = 0.00011\n",
    "        \n",
    "    if n_kappa is None:\n",
    "        n_kappa = 200\n",
    "        \n",
    "    if low_kappa is None:\n",
    "        low_kappa = 0\n",
    "        \n",
    "    mc = MKappa(low_kappa = low_kappa, high_kappa = high_kappa, n_kappa = n_kappa)\n",
    "\n",
    "    if f_ck:\n",
    "        f_ck = 90\n",
    "\n",
    "        E = EC2.get_E_cm(f_ck)\n",
    "\n",
    "        fctk_0_05 = EC2.get_f_ctk_0_05(f_ck)\n",
    "        f_ctd = fctk_0_05\n",
    "        # f_ctd = 0.85 * fctk_0_05 / 1.5\n",
    "        f_ctd_fl = max((1.6 - 200 /1000) * f_ctd, f_ctd)\n",
    "\n",
    "        mc.cs_design.matrix_.trait_set(\n",
    "        E_cc=E,\n",
    "        E_ct=E,\n",
    "        eps_cr = f_ctd_fl/E,\n",
    "        eps_tu = 2* f_ctd_fl/E,\n",
    "        eps_cy = EC2.get_eps_c3(f_ck),\n",
    "        eps_cu = EC2.get_eps_cu3(f_ck),\n",
    "        mu=0.0,\n",
    "        factor = 1\n",
    "        )\n",
    "    else:\n",
    "\n",
    "        # mc.cs_design.matrix='EC2 with plateau'\n",
    "        mc.cs_design.matrix_.trait_set(\n",
    "                E_cc=E,\n",
    "                E_ct=E,\n",
    "                eps_cr=0.00004, #0.000125 * f_ck/30, # f_ctm /E,\n",
    "                eps_cy=0.00175,\n",
    "                eps_cu=0.0035,\n",
    "                eps_tu=eps_tu,\n",
    "                mu=0.0,\n",
    "        #     f_cd = 30, # f_ck * 0.85/1.5,\n",
    "            factor = 1\n",
    "            )\n",
    "    mc.cross_section_shape_.B = 400\n",
    "    mc.cross_section_shape_.H = 200\n",
    "\n",
    "    bl1 = ReinfLayer(name='carbon', z=35, A=2 * 70.14, matmod='carbon')\n",
    "    bl1.matmod_.trait_set(E=135121, f_t=1891, factor = 1.)\n",
    "    mc.cross_section_layout.add_layer(bl1)\n",
    "\n",
    "    dp = DeflectionProfile(mc=mc, n_load_steps = n_load_steps)\n",
    "\n",
    "    dp.add_fw_exp(ver_data[1], ver_data[0])\n",
    "\n",
    "    dp.beam_design.beam_conf_name = BoundaryConfig.FOUR_PB\n",
    "    dp.beam_design.beam_conf_name.first_load_distance = 1925\n",
    "    dp.beam_design.L = 4700\n",
    "    # dp.beam_design.L = 5000 # This gives perfect results\n",
    "    dp.F_scale = 2/1000\n",
    "    return dp\n",
    "\n",
    "get_dp().interact()"
   ]
  },
  {
   "cell_type": "code",
   "execution_count": null,
   "metadata": {},
   "outputs": [],
   "source": [
    "dp = get_dp()\n",
    "empty = dp.mc.kappa_t[np.where(dp.mc.kappa_t < 0)]"
   ]
  },
  {
   "cell_type": "code",
   "execution_count": null,
   "metadata": {},
   "outputs": [],
   "source": [
    "dp.mc.kappa_t"
   ]
  },
  {
   "cell_type": "code",
   "execution_count": null,
   "metadata": {},
   "outputs": [],
   "source": [
    "dp = get_dp()\n",
    "kappa_pos = dp.mc.kappa_t[np.where(dp.mc.kappa_t >= 0)]\n",
    "kappa_pos"
   ]
  },
  {
   "cell_type": "code",
   "execution_count": null,
   "metadata": {},
   "outputs": [],
   "source": [
    "emp = []\n",
    "np.concatenate([emp, kappa_pos])"
   ]
  },
  {
   "cell_type": "code",
   "execution_count": null,
   "metadata": {},
   "outputs": [],
   "source": [
    "# # Test f_ck\n",
    "# \"\"\" [\n",
    "#     {'f_ck': 30, 'low_kappa':0 , 'high_kappa':0.00012 },\n",
    "#     {'f_ck': 50, 'low_kappa':0 , 'high_kappa':0.00012 },\n",
    "#     {'f_ck': 70, 'low_kappa':-0.00001 , 'high_kappa':0.00011},\n",
    "#     {'f_ck': 90, 'low_kappa':-0.00002 , 'high_kappa':0.00011},\n",
    "#     ] \"\"\"\n",
    "\n",
    "# f_cks = [30, 50, 70, 90]\n",
    "# dps = []\n",
    "# dp_container = DP()\n",
    "# for f_ck in f_cks:\n",
    "#     dps.append(get_dp(f_ck=f_ck).interact())\n",
    "\n",
    "# params_config = [['dp',   dp_container, dps],]\n",
    "    \n",
    "# LoadDeflectionParamsStudy(dp).run(params_config, ver_data)\n",
    "    \n",
    "\n",
    "# _, ax = plt.subplots()\n",
    "# f, w = dp.get_Fw()\n",
    "# ax.plot(w, f*2/1000)\n",
    "# ax.plot(ver_data[0], ver_data[1])"
   ]
  },
  {
   "cell_type": "code",
   "execution_count": null,
   "metadata": {},
   "outputs": [],
   "source": [
    "# Test E (concrete)\n",
    "E_list = np.array([30000, 35000, 40000, 45000])\n",
    "\n",
    "dp = get_dp()\n",
    "\n",
    "# following fix is just to keep the sig, and not eps the same when changing E in MULTI-LINEAR Model\n",
    "E = dp.mc.cs_design.matrix_.E_cc\n",
    "eps_cy = dp.mc.cs_design.matrix_.eps_cy\n",
    "eps_cr= dp.mc.cs_design.matrix_.eps_cr\n",
    "sig_cy = E * eps_cy\n",
    "sig_cr = E * eps_cr\n",
    "\n",
    "sig_cy_list = np.full_like(E_list, sig_cy)\n",
    "sig_cr_list = np.full_like(E_list, sig_cr)\n",
    "\n",
    "params_config = [\n",
    "    [['E_cc', dp.mc.cs_design.matrix_, E_list], \n",
    "     ['E_ct', dp.mc.cs_design.matrix_, E_list]],\n",
    "]\n",
    "# params_config = [\n",
    "#     [['E_cc', dp.mc.cs_design.matrix_, E_list], \n",
    "#      ['E_ct', dp.mc.cs_design.matrix_, E_list], \n",
    "#      ['eps_cy', dp.mc.cs_design.matrix_, sig_cy_list / E_list], \n",
    "#      ['eps_cr', dp.mc.cs_design.matrix_, sig_cr_list / E_list]],\n",
    "# ]\n",
    "LoadDeflectionParamsStudy(dp).run(params_config, ver_data)"
   ]
  },
  {
   "cell_type": "code",
   "execution_count": null,
   "metadata": {},
   "outputs": [],
   "source": [
    "# Test E_carbon\n",
    "E_carbon = [130000, 170000, 210000, 250000]\n",
    "\n",
    "dp = get_dp(n_kappa = 500)\n",
    "E_cc = dp.mc.cs_design.matrix_.E_cc\n",
    "E_list = [E_cc, E_cc + 0.01, E_cc, E_cc + 0.01] # Just to update state because changing E_carbon doesn't update the state automatically\n",
    "params_config = [\n",
    "    [['E', dp.mc.cross_section_layout.items[0].matmod_, E_carbon], \n",
    "     ['E_cc', dp.mc.cs_design.matrix_, E_list]]\n",
    "]\n",
    "LoadDeflectionParamsStudy(dp).run(params_config, ver_data)"
   ]
  },
  {
   "cell_type": "code",
   "execution_count": null,
   "metadata": {},
   "outputs": [],
   "source": [
    "# Test carbon strength\n",
    "f_t_list = [1800, 2200, 2600, 3000]\n",
    "dp = get_dp(high_kappa = 0.00018)\n",
    "E_cc = dp.mc.cs_design.matrix_.E_cc\n",
    "E_list = [E_cc, E_cc + 0.01, E_cc, E_cc + 0.01] # Just to update state because changing E_carbon doesn't update the state automatically\n",
    "params_config = [\n",
    "    [['f_t', dp.mc.cross_section_layout.items[0].matmod_, f_t_list], \n",
    "     ['E_cc', dp.mc.cs_design.matrix_, E_list]]\n",
    "]\n",
    "LoadDeflectionParamsStudy(dp).run(params_config, ver_data)"
   ]
  },
  {
   "cell_type": "code",
   "execution_count": null,
   "metadata": {},
   "outputs": [],
   "source": [
    "# Test concrete compressive strength\n",
    "f_cm_list = np.array([30, 50, 70, 90])\n",
    "\n",
    "dp = get_dp(n_kappa=500, high_kappa=0.00013)\n",
    "\n",
    "E = dp.mc.cs_design.matrix_.E_cc\n",
    "E_list = np.full_like(f_cm_list, E)\n",
    "\n",
    "params_config = [\n",
    "     ['eps_cy', dp.mc.cs_design.matrix_, f_cm_list / E_list],\n",
    "]\n",
    "LoadDeflectionParamsStudy(dp).run(params_config, ver_data)"
   ]
  },
  {
   "cell_type": "code",
   "execution_count": null,
   "metadata": {},
   "outputs": [],
   "source": [
    "# Test concrete tensile strength\n",
    "f_ctd_list = np.array([0, 2.8, 4, 4.5, 5])\n",
    "\n",
    "dp = get_dp(n_kappa=500, high_kappa=0.00013, eps_tu = 2*0.00008, n_load_steps=250)\n",
    "\n",
    "E = dp.mc.cs_design.matrix_.E_cc\n",
    "E_list = np.full_like(f_ctd_list, E)\n",
    "\n",
    "params_config = [\n",
    "     ['eps_cr', dp.mc.cs_design.matrix_, f_ctd_list / E_list],\n",
    "]\n",
    "LoadDeflectionParamsStudy(dp).run(params_config, ver_data)"
   ]
  }
 ],
 "metadata": {
  "kernelspec": {
   "display_name": "Python 3 (ipykernel)",
   "language": "python",
   "name": "python3"
  },
  "language_info": {
   "codemirror_mode": {
    "name": "ipython",
    "version": 3
   },
   "file_extension": ".py",
   "mimetype": "text/x-python",
   "name": "python",
   "nbconvert_exporter": "python",
   "pygments_lexer": "ipython3"
  }
 },
 "nbformat": 4,
 "nbformat_minor": 4
}
