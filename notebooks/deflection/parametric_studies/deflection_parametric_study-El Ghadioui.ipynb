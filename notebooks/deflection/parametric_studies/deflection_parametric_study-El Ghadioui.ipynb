{
 "cells": [
  {
   "cell_type": "markdown",
   "metadata": {},
   "source": [
    "# Deflection Profile Parametric Study for El Ghadioui2020\n",
    "El Ghadioui2020_Structural behaviour of CFRP reinforced concrete members under bending and shear loads"
   ]
  },
  {
   "cell_type": "code",
   "execution_count": 1,
   "metadata": {},
   "outputs": [],
   "source": [
    "%matplotlib widget\n",
    "# %matplotlib qt"
   ]
  },
  {
   "cell_type": "code",
   "execution_count": 2,
   "metadata": {},
   "outputs": [],
   "source": [
    "from bmcs_cross_section.api import MKappa, TShape, EC2, BarLayer, ReinfLayer\n",
    "from bmcs_beam.api import BoundaryConditions, BoundaryConfig, DeflectionProfile, BeamDesign, LoadDeflectionParamsStudy\n",
    "from os.path import join\n",
    "import numpy as np\n",
    "import pandas as pd\n",
    "import sympy as sp\n",
    "import matplotlib.pyplot as plt\n",
    "import bmcs_utils.api as bu"
   ]
  },
  {
   "cell_type": "code",
   "execution_count": 3,
   "metadata": {},
   "outputs": [],
   "source": [
    "# Beam B-M-C-K1 - CFRP Bars\n",
    "excel_file = join('../verification_data/el_ghadioui2020', 'fig_3.xlsx')\n",
    "data = pd.read_excel(excel_file, engine='openpyxl')\n",
    "ver_data = [data['B-M-C-K1_deflection'], data['B-M-C-K1_load']]"
   ]
  },
  {
   "cell_type": "code",
   "execution_count": 4,
   "metadata": {},
   "outputs": [
    {
     "data": {
      "application/vnd.jupyter.widget-view+json": {
       "model_id": "cc2690b44c8543a79f0fde83f95d8266",
       "version_major": 2,
       "version_minor": 0
      },
      "text/plain": [
       "VBox(children=(HBox(children=(VBox(children=(Tree(layout=Layout(align_items='stretch', border='solid 1px black…"
      ]
     },
     "metadata": {},
     "output_type": "display_data"
    }
   ],
   "source": [
    "# Beam B-M-C-K1 - CFRP Bars\n",
    "\n",
    "# C 50/60\n",
    "def get_dp(f_ck = None, E=None, low_kappa = None, high_kappa = None, n_kappa=None, n_load_steps=None, eps_tu=None):\n",
    "    if eps_tu is None:\n",
    "        eps_tu = 0.00008\n",
    "    \n",
    "    if n_load_steps is None:\n",
    "        n_load_steps = 31\n",
    "        \n",
    "    if E is None:\n",
    "        E = 33525\n",
    "    \n",
    "    if high_kappa is None:\n",
    "        high_kappa = 0.00011\n",
    "        \n",
    "    if n_kappa is None:\n",
    "        n_kappa = 200\n",
    "        \n",
    "    if low_kappa is None:\n",
    "        low_kappa = 0\n",
    "        \n",
    "    mc = MKappa(low_kappa = low_kappa, high_kappa = high_kappa, n_kappa = n_kappa)\n",
    "\n",
    "    if f_ck:\n",
    "        f_ck = 90\n",
    "\n",
    "        E = EC2.get_E_cm(f_ck)\n",
    "\n",
    "        fctk_0_05 = EC2.get_f_ctk_0_05(f_ck)\n",
    "        f_ctd = fctk_0_05\n",
    "        # f_ctd = 0.85 * fctk_0_05 / 1.5\n",
    "        f_ctd_fl = max((1.6 - 200 /1000) * f_ctd, f_ctd)\n",
    "\n",
    "        mc.cs_design.matrix_.trait_set(\n",
    "        E_cc=E,\n",
    "        E_ct=E,\n",
    "        eps_cr = f_ctd_fl/E,\n",
    "        eps_tu = 2* f_ctd_fl/E,\n",
    "        eps_cy = EC2.get_eps_c3(f_ck),\n",
    "        eps_cu = EC2.get_eps_cu3(f_ck),\n",
    "        mu=0.0,\n",
    "        factor = 1\n",
    "        )\n",
    "    else:\n",
    "\n",
    "        # mc.cs_design.matrix='EC2 with plateau'\n",
    "        mc.cs_design.matrix_.trait_set(\n",
    "                E_cc=E,\n",
    "                E_ct=E,\n",
    "                eps_cr=0.00004, #0.000125 * f_ck/30, # f_ctm /E,\n",
    "                eps_cy=0.00175,\n",
    "                eps_cu=0.0035,\n",
    "                eps_tu=eps_tu,\n",
    "                mu=0.0,\n",
    "        #     f_cd = 30, # f_ck * 0.85/1.5,\n",
    "            factor = 1\n",
    "            )\n",
    "    mc.cross_section_shape_.B = 400\n",
    "    mc.cross_section_shape_.H = 200\n",
    "\n",
    "    bl1 = ReinfLayer(name='carbon', z=35, A=2 * 70.14, matmod='carbon')\n",
    "    bl1.matmod_.trait_set(E=135121, f_t=1891, factor = 1.)\n",
    "    mc.cross_section_layout.add_layer(bl1)\n",
    "\n",
    "    dp = DeflectionProfile(mc=mc, n_load_steps = n_load_steps)\n",
    "\n",
    "    dp.add_fw_exp(ver_data[1], ver_data[0])\n",
    "\n",
    "    dp.beam_design.beam_conf_name = BoundaryConfig.FOUR_PB\n",
    "    dp.beam_design.beam_conf_name.first_load_distance = 1925\n",
    "    dp.beam_design.L = 4700\n",
    "    # dp.beam_design.L = 5000 # This gives perfect results\n",
    "    dp.F_scale = 2/1000\n",
    "    return dp\n",
    "\n",
    "get_dp().interact()"
   ]
  },
  {
   "cell_type": "code",
   "execution_count": 6,
   "metadata": {},
   "outputs": [],
   "source": [
    "dp = get_dp()\n",
    "empty = dp.mc.kappa_t[np.where(dp.mc.kappa_t < 0)]"
   ]
  },
  {
   "cell_type": "code",
   "execution_count": 8,
   "metadata": {},
   "outputs": [
    {
     "data": {
      "text/plain": [
       "array([0.00000000e+00, 5.52763819e-07, 1.10552764e-06, 1.65829146e-06,\n",
       "       2.21105528e-06, 2.76381910e-06, 3.31658291e-06, 3.86934673e-06,\n",
       "       4.42211055e-06, 4.97487437e-06, 5.52763819e-06, 6.08040201e-06,\n",
       "       6.63316583e-06, 7.18592965e-06, 7.73869347e-06, 8.29145729e-06,\n",
       "       8.84422111e-06, 9.39698492e-06, 9.94974874e-06, 1.05025126e-05,\n",
       "       1.10552764e-05, 1.16080402e-05, 1.21608040e-05, 1.27135678e-05,\n",
       "       1.32663317e-05, 1.38190955e-05, 1.43718593e-05, 1.49246231e-05,\n",
       "       1.54773869e-05, 1.60301508e-05, 1.65829146e-05, 1.71356784e-05,\n",
       "       1.76884422e-05, 1.82412060e-05, 1.87939698e-05, 1.93467337e-05,\n",
       "       1.98994975e-05, 2.04522613e-05, 2.10050251e-05, 2.15577889e-05,\n",
       "       2.21105528e-05, 2.26633166e-05, 2.32160804e-05, 2.37688442e-05,\n",
       "       2.43216080e-05, 2.48743719e-05, 2.54271357e-05, 2.59798995e-05,\n",
       "       2.65326633e-05, 2.70854271e-05, 2.76381910e-05, 2.81909548e-05,\n",
       "       2.87437186e-05, 2.92964824e-05, 2.98492462e-05, 3.04020101e-05,\n",
       "       3.09547739e-05, 3.15075377e-05, 3.20603015e-05, 3.26130653e-05,\n",
       "       3.31658291e-05, 3.37185930e-05, 3.42713568e-05, 3.48241206e-05,\n",
       "       3.53768844e-05, 3.59296482e-05, 3.64824121e-05, 3.70351759e-05,\n",
       "       3.75879397e-05, 3.81407035e-05, 3.86934673e-05, 3.92462312e-05,\n",
       "       3.97989950e-05, 4.03517588e-05, 4.09045226e-05, 4.14572864e-05,\n",
       "       4.20100503e-05, 4.25628141e-05, 4.31155779e-05, 4.36683417e-05,\n",
       "       4.42211055e-05, 4.47738693e-05, 4.53266332e-05, 4.58793970e-05,\n",
       "       4.64321608e-05, 4.69849246e-05, 4.75376884e-05, 4.80904523e-05,\n",
       "       4.86432161e-05, 4.91959799e-05, 4.97487437e-05, 5.03015075e-05,\n",
       "       5.08542714e-05, 5.14070352e-05, 5.19597990e-05, 5.25125628e-05,\n",
       "       5.30653266e-05, 5.36180905e-05, 5.41708543e-05, 5.47236181e-05,\n",
       "       5.52763819e-05, 5.58291457e-05, 5.63819095e-05, 5.69346734e-05,\n",
       "       5.74874372e-05, 5.80402010e-05, 5.85929648e-05, 5.91457286e-05,\n",
       "       5.96984925e-05, 6.02512563e-05, 6.08040201e-05, 6.13567839e-05,\n",
       "       6.19095477e-05, 6.24623116e-05, 6.30150754e-05, 6.35678392e-05,\n",
       "       6.41206030e-05, 6.46733668e-05, 6.52261307e-05, 6.57788945e-05,\n",
       "       6.63316583e-05, 6.68844221e-05, 6.74371859e-05, 6.79899497e-05,\n",
       "       6.85427136e-05, 6.90954774e-05, 6.96482412e-05, 7.02010050e-05,\n",
       "       7.07537688e-05, 7.13065327e-05, 7.18592965e-05, 7.24120603e-05,\n",
       "       7.29648241e-05, 7.35175879e-05, 7.40703518e-05, 7.46231156e-05,\n",
       "       7.51758794e-05, 7.57286432e-05, 7.62814070e-05, 7.68341709e-05,\n",
       "       7.73869347e-05, 7.79396985e-05, 7.84924623e-05, 7.90452261e-05,\n",
       "       7.95979899e-05, 8.01507538e-05, 8.07035176e-05, 8.12562814e-05,\n",
       "       8.18090452e-05, 8.23618090e-05, 8.29145729e-05, 8.34673367e-05,\n",
       "       8.40201005e-05, 8.45728643e-05, 8.51256281e-05, 8.56783920e-05,\n",
       "       8.62311558e-05, 8.67839196e-05, 8.73366834e-05, 8.78894472e-05,\n",
       "       8.84422111e-05, 8.89949749e-05, 8.95477387e-05, 9.01005025e-05,\n",
       "       9.06532663e-05, 9.12060302e-05, 9.17587940e-05, 9.23115578e-05,\n",
       "       9.28643216e-05, 9.34170854e-05, 9.39698492e-05, 9.45226131e-05,\n",
       "       9.50753769e-05, 9.56281407e-05, 9.61809045e-05, 9.67336683e-05,\n",
       "       9.72864322e-05, 9.78391960e-05, 9.83919598e-05, 9.89447236e-05,\n",
       "       9.94974874e-05, 1.00050251e-04, 1.00603015e-04, 1.01155779e-04,\n",
       "       1.01708543e-04, 1.02261307e-04, 1.02814070e-04, 1.03366834e-04,\n",
       "       1.03919598e-04, 1.04472362e-04, 1.05025126e-04, 1.05577889e-04,\n",
       "       1.06130653e-04, 1.06683417e-04, 1.07236181e-04, 1.07788945e-04,\n",
       "       1.08341709e-04, 1.08894472e-04, 1.09447236e-04, 1.10000000e-04])"
      ]
     },
     "execution_count": 8,
     "metadata": {},
     "output_type": "execute_result"
    }
   ],
   "source": [
    "dp.mc.kappa_t"
   ]
  },
  {
   "cell_type": "code",
   "execution_count": 11,
   "metadata": {},
   "outputs": [
    {
     "data": {
      "text/plain": [
       "array([0.00000000e+00, 5.52763819e-07, 1.10552764e-06, 1.65829146e-06,\n",
       "       2.21105528e-06, 2.76381910e-06, 3.31658291e-06, 3.86934673e-06,\n",
       "       4.42211055e-06, 4.97487437e-06, 5.52763819e-06, 6.08040201e-06,\n",
       "       6.63316583e-06, 7.18592965e-06, 7.73869347e-06, 8.29145729e-06,\n",
       "       8.84422111e-06, 9.39698492e-06, 9.94974874e-06, 1.05025126e-05,\n",
       "       1.10552764e-05, 1.16080402e-05, 1.21608040e-05, 1.27135678e-05,\n",
       "       1.32663317e-05, 1.38190955e-05, 1.43718593e-05, 1.49246231e-05,\n",
       "       1.54773869e-05, 1.60301508e-05, 1.65829146e-05, 1.71356784e-05,\n",
       "       1.76884422e-05, 1.82412060e-05, 1.87939698e-05, 1.93467337e-05,\n",
       "       1.98994975e-05, 2.04522613e-05, 2.10050251e-05, 2.15577889e-05,\n",
       "       2.21105528e-05, 2.26633166e-05, 2.32160804e-05, 2.37688442e-05,\n",
       "       2.43216080e-05, 2.48743719e-05, 2.54271357e-05, 2.59798995e-05,\n",
       "       2.65326633e-05, 2.70854271e-05, 2.76381910e-05, 2.81909548e-05,\n",
       "       2.87437186e-05, 2.92964824e-05, 2.98492462e-05, 3.04020101e-05,\n",
       "       3.09547739e-05, 3.15075377e-05, 3.20603015e-05, 3.26130653e-05,\n",
       "       3.31658291e-05, 3.37185930e-05, 3.42713568e-05, 3.48241206e-05,\n",
       "       3.53768844e-05, 3.59296482e-05, 3.64824121e-05, 3.70351759e-05,\n",
       "       3.75879397e-05, 3.81407035e-05, 3.86934673e-05, 3.92462312e-05,\n",
       "       3.97989950e-05, 4.03517588e-05, 4.09045226e-05, 4.14572864e-05,\n",
       "       4.20100503e-05, 4.25628141e-05, 4.31155779e-05, 4.36683417e-05,\n",
       "       4.42211055e-05, 4.47738693e-05, 4.53266332e-05, 4.58793970e-05,\n",
       "       4.64321608e-05, 4.69849246e-05, 4.75376884e-05, 4.80904523e-05,\n",
       "       4.86432161e-05, 4.91959799e-05, 4.97487437e-05, 5.03015075e-05,\n",
       "       5.08542714e-05, 5.14070352e-05, 5.19597990e-05, 5.25125628e-05,\n",
       "       5.30653266e-05, 5.36180905e-05, 5.41708543e-05, 5.47236181e-05,\n",
       "       5.52763819e-05, 5.58291457e-05, 5.63819095e-05, 5.69346734e-05,\n",
       "       5.74874372e-05, 5.80402010e-05, 5.85929648e-05, 5.91457286e-05,\n",
       "       5.96984925e-05, 6.02512563e-05, 6.08040201e-05, 6.13567839e-05,\n",
       "       6.19095477e-05, 6.24623116e-05, 6.30150754e-05, 6.35678392e-05,\n",
       "       6.41206030e-05, 6.46733668e-05, 6.52261307e-05, 6.57788945e-05,\n",
       "       6.63316583e-05, 6.68844221e-05, 6.74371859e-05, 6.79899497e-05,\n",
       "       6.85427136e-05, 6.90954774e-05, 6.96482412e-05, 7.02010050e-05,\n",
       "       7.07537688e-05, 7.13065327e-05, 7.18592965e-05, 7.24120603e-05,\n",
       "       7.29648241e-05, 7.35175879e-05, 7.40703518e-05, 7.46231156e-05,\n",
       "       7.51758794e-05, 7.57286432e-05, 7.62814070e-05, 7.68341709e-05,\n",
       "       7.73869347e-05, 7.79396985e-05, 7.84924623e-05, 7.90452261e-05,\n",
       "       7.95979899e-05, 8.01507538e-05, 8.07035176e-05, 8.12562814e-05,\n",
       "       8.18090452e-05, 8.23618090e-05, 8.29145729e-05, 8.34673367e-05,\n",
       "       8.40201005e-05, 8.45728643e-05, 8.51256281e-05, 8.56783920e-05,\n",
       "       8.62311558e-05, 8.67839196e-05, 8.73366834e-05, 8.78894472e-05,\n",
       "       8.84422111e-05, 8.89949749e-05, 8.95477387e-05, 9.01005025e-05,\n",
       "       9.06532663e-05, 9.12060302e-05, 9.17587940e-05, 9.23115578e-05,\n",
       "       9.28643216e-05, 9.34170854e-05, 9.39698492e-05, 9.45226131e-05,\n",
       "       9.50753769e-05, 9.56281407e-05, 9.61809045e-05, 9.67336683e-05,\n",
       "       9.72864322e-05, 9.78391960e-05, 9.83919598e-05, 9.89447236e-05,\n",
       "       9.94974874e-05, 1.00050251e-04, 1.00603015e-04, 1.01155779e-04,\n",
       "       1.01708543e-04, 1.02261307e-04, 1.02814070e-04, 1.03366834e-04,\n",
       "       1.03919598e-04, 1.04472362e-04, 1.05025126e-04, 1.05577889e-04,\n",
       "       1.06130653e-04, 1.06683417e-04, 1.07236181e-04, 1.07788945e-04,\n",
       "       1.08341709e-04, 1.08894472e-04, 1.09447236e-04, 1.10000000e-04])"
      ]
     },
     "execution_count": 11,
     "metadata": {},
     "output_type": "execute_result"
    }
   ],
   "source": [
    "dp = get_dp()\n",
    "kappa_pos = dp.mc.kappa_t[np.where(dp.mc.kappa_t >= 0)]\n",
    "kappa_pos"
   ]
  },
  {
   "cell_type": "code",
   "execution_count": 12,
   "metadata": {},
   "outputs": [
    {
     "data": {
      "text/plain": [
       "array([0.00000000e+00, 5.52763819e-07, 1.10552764e-06, 1.65829146e-06,\n",
       "       2.21105528e-06, 2.76381910e-06, 3.31658291e-06, 3.86934673e-06,\n",
       "       4.42211055e-06, 4.97487437e-06, 5.52763819e-06, 6.08040201e-06,\n",
       "       6.63316583e-06, 7.18592965e-06, 7.73869347e-06, 8.29145729e-06,\n",
       "       8.84422111e-06, 9.39698492e-06, 9.94974874e-06, 1.05025126e-05,\n",
       "       1.10552764e-05, 1.16080402e-05, 1.21608040e-05, 1.27135678e-05,\n",
       "       1.32663317e-05, 1.38190955e-05, 1.43718593e-05, 1.49246231e-05,\n",
       "       1.54773869e-05, 1.60301508e-05, 1.65829146e-05, 1.71356784e-05,\n",
       "       1.76884422e-05, 1.82412060e-05, 1.87939698e-05, 1.93467337e-05,\n",
       "       1.98994975e-05, 2.04522613e-05, 2.10050251e-05, 2.15577889e-05,\n",
       "       2.21105528e-05, 2.26633166e-05, 2.32160804e-05, 2.37688442e-05,\n",
       "       2.43216080e-05, 2.48743719e-05, 2.54271357e-05, 2.59798995e-05,\n",
       "       2.65326633e-05, 2.70854271e-05, 2.76381910e-05, 2.81909548e-05,\n",
       "       2.87437186e-05, 2.92964824e-05, 2.98492462e-05, 3.04020101e-05,\n",
       "       3.09547739e-05, 3.15075377e-05, 3.20603015e-05, 3.26130653e-05,\n",
       "       3.31658291e-05, 3.37185930e-05, 3.42713568e-05, 3.48241206e-05,\n",
       "       3.53768844e-05, 3.59296482e-05, 3.64824121e-05, 3.70351759e-05,\n",
       "       3.75879397e-05, 3.81407035e-05, 3.86934673e-05, 3.92462312e-05,\n",
       "       3.97989950e-05, 4.03517588e-05, 4.09045226e-05, 4.14572864e-05,\n",
       "       4.20100503e-05, 4.25628141e-05, 4.31155779e-05, 4.36683417e-05,\n",
       "       4.42211055e-05, 4.47738693e-05, 4.53266332e-05, 4.58793970e-05,\n",
       "       4.64321608e-05, 4.69849246e-05, 4.75376884e-05, 4.80904523e-05,\n",
       "       4.86432161e-05, 4.91959799e-05, 4.97487437e-05, 5.03015075e-05,\n",
       "       5.08542714e-05, 5.14070352e-05, 5.19597990e-05, 5.25125628e-05,\n",
       "       5.30653266e-05, 5.36180905e-05, 5.41708543e-05, 5.47236181e-05,\n",
       "       5.52763819e-05, 5.58291457e-05, 5.63819095e-05, 5.69346734e-05,\n",
       "       5.74874372e-05, 5.80402010e-05, 5.85929648e-05, 5.91457286e-05,\n",
       "       5.96984925e-05, 6.02512563e-05, 6.08040201e-05, 6.13567839e-05,\n",
       "       6.19095477e-05, 6.24623116e-05, 6.30150754e-05, 6.35678392e-05,\n",
       "       6.41206030e-05, 6.46733668e-05, 6.52261307e-05, 6.57788945e-05,\n",
       "       6.63316583e-05, 6.68844221e-05, 6.74371859e-05, 6.79899497e-05,\n",
       "       6.85427136e-05, 6.90954774e-05, 6.96482412e-05, 7.02010050e-05,\n",
       "       7.07537688e-05, 7.13065327e-05, 7.18592965e-05, 7.24120603e-05,\n",
       "       7.29648241e-05, 7.35175879e-05, 7.40703518e-05, 7.46231156e-05,\n",
       "       7.51758794e-05, 7.57286432e-05, 7.62814070e-05, 7.68341709e-05,\n",
       "       7.73869347e-05, 7.79396985e-05, 7.84924623e-05, 7.90452261e-05,\n",
       "       7.95979899e-05, 8.01507538e-05, 8.07035176e-05, 8.12562814e-05,\n",
       "       8.18090452e-05, 8.23618090e-05, 8.29145729e-05, 8.34673367e-05,\n",
       "       8.40201005e-05, 8.45728643e-05, 8.51256281e-05, 8.56783920e-05,\n",
       "       8.62311558e-05, 8.67839196e-05, 8.73366834e-05, 8.78894472e-05,\n",
       "       8.84422111e-05, 8.89949749e-05, 8.95477387e-05, 9.01005025e-05,\n",
       "       9.06532663e-05, 9.12060302e-05, 9.17587940e-05, 9.23115578e-05,\n",
       "       9.28643216e-05, 9.34170854e-05, 9.39698492e-05, 9.45226131e-05,\n",
       "       9.50753769e-05, 9.56281407e-05, 9.61809045e-05, 9.67336683e-05,\n",
       "       9.72864322e-05, 9.78391960e-05, 9.83919598e-05, 9.89447236e-05,\n",
       "       9.94974874e-05, 1.00050251e-04, 1.00603015e-04, 1.01155779e-04,\n",
       "       1.01708543e-04, 1.02261307e-04, 1.02814070e-04, 1.03366834e-04,\n",
       "       1.03919598e-04, 1.04472362e-04, 1.05025126e-04, 1.05577889e-04,\n",
       "       1.06130653e-04, 1.06683417e-04, 1.07236181e-04, 1.07788945e-04,\n",
       "       1.08341709e-04, 1.08894472e-04, 1.09447236e-04, 1.10000000e-04])"
      ]
     },
     "execution_count": 12,
     "metadata": {},
     "output_type": "execute_result"
    }
   ],
   "source": [
    "emp = []\n",
    "np.concatenate([emp, kappa_pos])"
   ]
  },
  {
   "cell_type": "code",
   "execution_count": 5,
   "metadata": {},
   "outputs": [],
   "source": [
    "# # Test f_ck\n",
    "# \"\"\" [\n",
    "#     {'f_ck': 30, 'low_kappa':0 , 'high_kappa':0.00012 },\n",
    "#     {'f_ck': 50, 'low_kappa':0 , 'high_kappa':0.00012 },\n",
    "#     {'f_ck': 70, 'low_kappa':-0.00001 , 'high_kappa':0.00011},\n",
    "#     {'f_ck': 90, 'low_kappa':-0.00002 , 'high_kappa':0.00011},\n",
    "#     ] \"\"\"\n",
    "\n",
    "# f_cks = [30, 50, 70, 90]\n",
    "# dps = []\n",
    "# dp_container = DP()\n",
    "# for f_ck in f_cks:\n",
    "#     dps.append(get_dp(f_ck=f_ck).interact())\n",
    "\n",
    "# params_config = [['dp',   dp_container, dps],]\n",
    "    \n",
    "# LoadDeflectionParamsStudy(dp).run(params_config, ver_data)\n",
    "    \n",
    "\n",
    "# _, ax = plt.subplots()\n",
    "# f, w = dp.get_Fw()\n",
    "# ax.plot(w, f*2/1000)\n",
    "# ax.plot(ver_data[0], ver_data[1])"
   ]
  },
  {
   "cell_type": "code",
   "execution_count": 5,
   "metadata": {},
   "outputs": [
    {
     "data": {
      "application/vnd.jupyter.widget-view+json": {
       "model_id": "a3faaa7505a04954a253de2dd511b6dc",
       "version_major": 2,
       "version_minor": 0
      },
      "text/plain": [
       "Canvas(toolbar=Toolbar(toolitems=[('Home', 'Reset original view', 'home', 'home'), ('Back', 'Back to previous …"
      ]
     },
     "metadata": {},
     "output_type": "display_data"
    },
    {
     "name": "stdout",
     "output_type": "stream",
     "text": [
      "Parametric study is running...\n",
      "E_cc, E_ct: (30000, 30000), (35000, 35000), (40000, 40000), (45000, 45000), \n",
      "Parametric study finished.\n"
     ]
    }
   ],
   "source": [
    "# Test E (concrete)\n",
    "E_list = np.array([30000, 35000, 40000, 45000])\n",
    "\n",
    "dp = get_dp()\n",
    "\n",
    "# following fix is just to keep the sig, and not eps the same when changing E in MULTI-LINEAR Model\n",
    "E = dp.mc.cs_design.matrix_.E_cc\n",
    "eps_cy = dp.mc.cs_design.matrix_.eps_cy\n",
    "eps_cr= dp.mc.cs_design.matrix_.eps_cr\n",
    "sig_cy = E * eps_cy\n",
    "sig_cr = E * eps_cr\n",
    "\n",
    "sig_cy_list = np.full_like(E_list, sig_cy)\n",
    "sig_cr_list = np.full_like(E_list, sig_cr)\n",
    "\n",
    "params_config = [\n",
    "    [['E_cc', dp.mc.cs_design.matrix_, E_list], \n",
    "     ['E_ct', dp.mc.cs_design.matrix_, E_list]],\n",
    "]\n",
    "# params_config = [\n",
    "#     [['E_cc', dp.mc.cs_design.matrix_, E_list], \n",
    "#      ['E_ct', dp.mc.cs_design.matrix_, E_list], \n",
    "#      ['eps_cy', dp.mc.cs_design.matrix_, sig_cy_list / E_list], \n",
    "#      ['eps_cr', dp.mc.cs_design.matrix_, sig_cr_list / E_list]],\n",
    "# ]\n",
    "LoadDeflectionParamsStudy(dp).run(params_config, ver_data)"
   ]
  },
  {
   "cell_type": "code",
   "execution_count": 7,
   "metadata": {
    "scrolled": false
   },
   "outputs": [
    {
     "data": {
      "application/vnd.jupyter.widget-view+json": {
       "model_id": "0d4489571ce84c6096e65781458a6c3e",
       "version_major": 2,
       "version_minor": 0
      },
      "text/plain": [
       "Canvas(toolbar=Toolbar(toolitems=[('Home', 'Reset original view', 'home', 'home'), ('Back', 'Back to previous …"
      ]
     },
     "metadata": {},
     "output_type": "display_data"
    },
    {
     "name": "stdout",
     "output_type": "stream",
     "text": [
      "Parametric study is running...\n",
      "E, E_cc: (130000, 33525.0), (170000, 33525.01), (210000, 33525.0), (250000, 33525.01), \n",
      "Parametric study finished.\n"
     ]
    }
   ],
   "source": [
    "# Test E_carbon\n",
    "E_carbon = [130000, 170000, 210000, 250000]\n",
    "\n",
    "dp = get_dp(n_kappa = 500)\n",
    "E_cc = dp.mc.cs_design.matrix_.E_cc\n",
    "E_list = [E_cc, E_cc + 0.01, E_cc, E_cc + 0.01] # Just to update state because changing E_carbon doesn't update the state automatically\n",
    "params_config = [\n",
    "    [['E', dp.mc.cross_section_layout.items[0].matmod_, E_carbon], \n",
    "     ['E_cc', dp.mc.cs_design.matrix_, E_list]]\n",
    "]\n",
    "LoadDeflectionParamsStudy(dp).run(params_config, ver_data)"
   ]
  },
  {
   "cell_type": "code",
   "execution_count": 8,
   "metadata": {},
   "outputs": [
    {
     "data": {
      "application/vnd.jupyter.widget-view+json": {
       "model_id": "3b6877347f7141da8d48ec80abd1e5b1",
       "version_major": 2,
       "version_minor": 0
      },
      "text/plain": [
       "Canvas(toolbar=Toolbar(toolitems=[('Home', 'Reset original view', 'home', 'home'), ('Back', 'Back to previous …"
      ]
     },
     "metadata": {},
     "output_type": "display_data"
    },
    {
     "name": "stdout",
     "output_type": "stream",
     "text": [
      "Parametric study is running...\n",
      "f_t, E_cc: (1800, 33525.0), (2200, 33525.01), (2600, 33525.0), (3000, 33525.01), \n",
      "Parametric study finished.\n"
     ]
    }
   ],
   "source": [
    "# Test carbon strength\n",
    "f_t_list = [1800, 2200, 2600, 3000]\n",
    "dp = get_dp(high_kappa = 0.00018)\n",
    "E_cc = dp.mc.cs_design.matrix_.E_cc\n",
    "E_list = [E_cc, E_cc + 0.01, E_cc, E_cc + 0.01] # Just to update state because changing E_carbon doesn't update the state automatically\n",
    "params_config = [\n",
    "    [['f_t', dp.mc.cross_section_layout.items[0].matmod_, f_t_list], \n",
    "     ['E_cc', dp.mc.cs_design.matrix_, E_list]]\n",
    "]\n",
    "LoadDeflectionParamsStudy(dp).run(params_config, ver_data)"
   ]
  },
  {
   "cell_type": "code",
   "execution_count": 9,
   "metadata": {},
   "outputs": [
    {
     "data": {
      "application/vnd.jupyter.widget-view+json": {
       "model_id": "36b2a82ec553486a8d6f06bb1e079d41",
       "version_major": 2,
       "version_minor": 0
      },
      "text/plain": [
       "Canvas(toolbar=Toolbar(toolitems=[('Home', 'Reset original view', 'home', 'home'), ('Back', 'Back to previous …"
      ]
     },
     "metadata": {},
     "output_type": "display_data"
    },
    {
     "name": "stdout",
     "output_type": "stream",
     "text": [
      "Parametric study is running...\n",
      "eps_cy: (0.0008948545861297539), (0.0014914243102162564), (0.002087994034302759), (0.0026845637583892616), \n",
      "Parametric study finished.\n"
     ]
    }
   ],
   "source": [
    "# Test concrete compressive strength\n",
    "f_cm_list = np.array([30, 50, 70, 90])\n",
    "\n",
    "dp = get_dp(n_kappa=500, high_kappa=0.00013)\n",
    "\n",
    "E = dp.mc.cs_design.matrix_.E_cc\n",
    "E_list = np.full_like(f_cm_list, E)\n",
    "\n",
    "params_config = [\n",
    "     ['eps_cy', dp.mc.cs_design.matrix_, f_cm_list / E_list],\n",
    "]\n",
    "LoadDeflectionParamsStudy(dp).run(params_config, ver_data)"
   ]
  },
  {
   "cell_type": "code",
   "execution_count": 10,
   "metadata": {},
   "outputs": [
    {
     "data": {
      "application/vnd.jupyter.widget-view+json": {
       "model_id": "2c99af99a7884c448e95c0d43f9946ab",
       "version_major": 2,
       "version_minor": 0
      },
      "text/plain": [
       "Canvas(toolbar=Toolbar(toolitems=[('Home', 'Reset original view', 'home', 'home'), ('Back', 'Back to previous …"
      ]
     },
     "metadata": {},
     "output_type": "display_data"
    },
    {
     "name": "stdout",
     "output_type": "stream",
     "text": [
      "Parametric study is running...\n",
      "eps_cr: (0.0), (8.351976137211036e-05), (0.00011931394481730052), (0.00013422818791946307), (0.00014914243102162565), \n",
      "Parametric study finished.\n"
     ]
    }
   ],
   "source": [
    "# Test concrete tensile strength\n",
    "f_ctd_list = np.array([0, 2.8, 4, 4.5, 5])\n",
    "\n",
    "dp = get_dp(n_kappa=500, high_kappa=0.00013, eps_tu = 2*0.00008, n_load_steps=250)\n",
    "\n",
    "E = dp.mc.cs_design.matrix_.E_cc\n",
    "E_list = np.full_like(f_ctd_list, E)\n",
    "\n",
    "params_config = [\n",
    "     ['eps_cr', dp.mc.cs_design.matrix_, f_ctd_list / E_list],\n",
    "]\n",
    "LoadDeflectionParamsStudy(dp).run(params_config, ver_data)"
   ]
  }
 ],
 "metadata": {
  "kernelspec": {
   "display_name": "Python 3",
   "language": "python",
   "name": "python3"
  },
  "language_info": {
   "codemirror_mode": {
    "name": "ipython",
    "version": 3
   },
   "file_extension": ".py",
   "mimetype": "text/x-python",
   "name": "python",
   "nbconvert_exporter": "python",
   "pygments_lexer": "ipython3",
   "version": "3.9.4"
  }
 },
 "nbformat": 4,
 "nbformat_minor": 1
}
