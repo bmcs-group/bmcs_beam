{
 "cells": [
  {
   "cell_type": "markdown",
   "metadata": {},
   "source": [
    "# Deflection Profile Parametric Study\n",
    "This file presents a parametric study based on the Deflection-Profile implementation provided in the file \"deflection_profile.py\" of the bmcs_beam package."
   ]
  },
  {
   "cell_type": "code",
   "execution_count": 1,
   "metadata": {},
   "outputs": [],
   "source": [
    "%matplotlib widget\n",
    "# %matplotlib qt"
   ]
  },
  {
   "cell_type": "code",
   "execution_count": 2,
   "metadata": {},
   "outputs": [],
   "source": [
    "from bmcs_cross_section.api import MKappa, TShape, EC2, ReinfLayer\n",
    "from bmcs_beam.api import BoundaryConditions, BoundaryConfig, DeflectionProfile, BeamDesign, LoadDeflectionParamsStudy\n",
    "from os.path import join\n",
    "import numpy as np\n",
    "import pandas as pd\n",
    "import sympy as sp\n",
    "import matplotlib.pyplot as plt\n",
    "import bmcs_utils.api as bu"
   ]
  },
  {
   "cell_type": "markdown",
   "metadata": {},
   "source": [
    "#### 1. Verification with Heid et al. (2020), [link](https://www.heringinternational.com/fileadmin/media/archive1/downloads/architekturbeton/Bauingenieur_06_2020_S.210-219.pdf), Carbon reinforcement"
   ]
  },
  {
   "cell_type": "code",
   "execution_count": 3,
   "metadata": {},
   "outputs": [
    {
     "data": {
      "application/vnd.jupyter.widget-view+json": {
       "model_id": "752503356c4249218c8d6e2069fbd1fa",
       "version_major": 2,
       "version_minor": 0
      },
      "text/plain": [
       "Canvas(toolbar=Toolbar(toolitems=[('Home', 'Reset original view', 'home', 'home'), ('Back', 'Back to previous …"
      ]
     },
     "metadata": {},
     "output_type": "display_data"
    },
    {
     "data": {
      "text/plain": [
       "<matplotlib.legend.Legend at 0x17a013ae760>"
      ]
     },
     "execution_count": 3,
     "metadata": {},
     "output_type": "execute_result"
    }
   ],
   "source": [
    "#HB-SU-0\n",
    "excel_file = join('..', 'verification_data', 'hei20','hei20.xlsx')\n",
    "data = pd.read_excel(excel_file, 'HB-SU-0', engine='openpyxl')\n",
    "\n",
    "for i in range(0,data.shape[1], 2):\n",
    "    plt.plot(data.iloc[:, i+1],data.iloc[:, i], label = data.columns.tolist()[i][0:-2])\n",
    "w_4= data['HB-SU-0-4_w']\n",
    "f_4= data['HB-SU-0-4_F']\n",
    "exp_data = [w_4, f_4/4]\n",
    "plt.xlabel(r'$w$ [mm]')\n",
    "plt.ylabel(r'$F$ [KN]')\n",
    "plt.legend()"
   ]
  },
  {
   "cell_type": "code",
   "execution_count": 4,
   "metadata": {},
   "outputs": [
    {
     "data": {
      "application/vnd.jupyter.widget-view+json": {
       "model_id": "3ca98be77aa94920a64c693f258a276c",
       "version_major": 2,
       "version_minor": 0
      },
      "text/plain": [
       "VBox(children=(HBox(children=(VBox(children=(Tree(layout=Layout(align_items='stretch', border='solid 1px black…"
      ]
     },
     "metadata": {},
     "output_type": "display_data"
    }
   ],
   "source": [
    "E = 39500\n",
    "\n",
    "# from bending test from σ_c,Riss\n",
    "eps_cr = ((6.365 + 6.306 + 5.635 + 5.627 + 5.452 + 5.627)/6)/E\n",
    "\n",
    "mc = MKappa(low_kappa = 0, high_kappa = 0.0007)\n",
    "mc.cs_design.matrix= 'piecewise linear' # 'EC2 with plateau'\n",
    "mc.cs_design.matrix_.trait_set(\n",
    "        E_cc=E,\n",
    "        E_ct=E,\n",
    "        eps_cr = eps_cr,\n",
    "        eps_tu = 9.02/E,\n",
    "        eps_cy = 72/E,\n",
    "        eps_cu = (72/E)*2,\n",
    "        mu = 0.0\n",
    "    )\n",
    "\n",
    "mc.cross_section_shape_.B = 45\n",
    "mc.cross_section_shape_.H = 30\n",
    "\n",
    "l1 = ReinfLayer(name='carbon_1', z=8, A=3.62, matmod='carbon')\n",
    "l1.matmod_.trait_set(E=240000, f_t=2712)\n",
    "mc.cross_section_layout.add_layer(l1)\n",
    "\n",
    "l2 = ReinfLayer(name='carbon_2', z=22, A=3.62, matmod='carbon')\n",
    "l2.matmod_.trait_set(E=240000, f_t=2712)\n",
    "mc.cross_section_layout.add_layer(l2)\n",
    "\n",
    "dp = DeflectionProfile(mc=mc)\n",
    "\n",
    "dp.beam_design.beam_conf_name = BoundaryConfig.FOUR_PB\n",
    "dp.beam_design.beam_conf_name.first_load_distance = 320\n",
    "dp.beam_design.L = 840\n",
    "dp.interact()"
   ]
  },
  {
   "cell_type": "code",
   "execution_count": 28,
   "metadata": {
    "scrolled": false
   },
   "outputs": [
    {
     "data": {
      "application/vnd.jupyter.widget-view+json": {
       "model_id": "3050c0b1c36e493280603fd28693fb60",
       "version_major": 2,
       "version_minor": 0
      },
      "text/plain": [
       "VBox(children=(HBox(children=(VBox(children=(Tree(layout=Layout(align_items='stretch', border='solid 1px black…"
      ]
     },
     "metadata": {},
     "output_type": "display_data"
    }
   ],
   "source": [
    "%matplotlib widget\n",
    "# Or use np.linspace(low, high, n) as the values list for each parameter and change n externally\n",
    "# gesucht ist Zug- und Druckfestigkeit, E-Modul\n",
    "params_config = [\n",
    "        ['L',      dp.beam_design, [840, 1260]],\n",
    "#         ['B',      mc.cross_section_shape_, [20, 70]],\n",
    "#         ['H',      mc.cross_section_shape_, [25, 35]],\n",
    "#         ['E_ct',   mc, [29500, 49500]],\n",
    "#         ['E_cc',   mc, [29500, 49500]],\n",
    "#         ['eps_cr', mc, [0.000063, 0.000263]],\n",
    "#         ['eps_cy', mc, [0.00103, 0.0025]],\n",
    "#         ['eps_cu', mc, [0.002, 0.003]],\n",
    "#         ['eps_tu', mc, [0.00026, 0.00626]],\n",
    "#         ['mu',     mc, [0, 1]],\n",
    "#         ['z',      mc.cross_section_layout.reinforcement[0], [1, 29]],\n",
    "#         ['A',      mc.cross_section_layout.reinforcement[0], [2.62, 4.62]],\n",
    "#         ['E',      mc.cross_section_layout.reinforcement[0], [220000, 260000]],\n",
    "#         ['eps_sy', mc.cross_section_layout.reinforcement[0], [0.0108, 0.0118]],\n",
    "#         ['n_x',    dp.beam_design, [10, 1000]],\n",
    "]\n",
    "\n",
    "# LoadDeflectionParamsStudy(dp).run(params_config, exp_data)\n",
    "LoadDeflectionParamsStudy(dp).interact()"
   ]
  },
  {
   "cell_type": "code",
   "execution_count": null,
   "metadata": {},
   "outputs": [],
   "source": []
  }
 ],
 "metadata": {
  "kernelspec": {
   "display_name": "Python 3",
   "language": "python",
   "name": "python3"
  },
  "language_info": {
   "codemirror_mode": {
    "name": "ipython",
    "version": 3
   },
   "file_extension": ".py",
   "mimetype": "text/x-python",
   "name": "python",
   "nbconvert_exporter": "python",
   "pygments_lexer": "ipython3",
   "version": "3.9.4"
  }
 },
 "nbformat": 4,
 "nbformat_minor": 1
}
