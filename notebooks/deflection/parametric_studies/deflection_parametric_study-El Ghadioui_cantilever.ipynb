{
 "cells": [
  {
   "cell_type": "markdown",
   "metadata": {},
   "source": [
    "# Deflection Profile Parametric Study for El Ghadioui2020 Cantilever\n",
    "El Ghadioui2020_Structural behaviour of CFRP reinforced concrete members under bending and shear loads"
   ]
  },
  {
   "cell_type": "code",
   "execution_count": 1,
   "metadata": {},
   "outputs": [],
   "source": [
    "# %matplotlib widget\n",
    "%matplotlib qt"
   ]
  },
  {
   "cell_type": "code",
   "execution_count": 2,
   "metadata": {},
   "outputs": [],
   "source": [
    "from bmcs_cross_section.api import MKappa, TShape, EC2, BarLayer, ReinfLayer\n",
    "from bmcs_beam.api import BoundaryConditions, BoundaryConfig, DeflectionProfile, BeamDesign, LoadDeflectionParamsStudy\n",
    "from os.path import join\n",
    "import numpy as np\n",
    "import pandas as pd\n",
    "import sympy as sp\n",
    "import matplotlib.pyplot as plt\n",
    "import bmcs_utils.api as bu"
   ]
  },
  {
   "cell_type": "code",
   "execution_count": 3,
   "metadata": {},
   "outputs": [
    {
     "data": {
      "application/vnd.jupyter.widget-view+json": {
       "model_id": "fbeeb34d32e94c8798574d62a912c536",
       "version_major": 2,
       "version_minor": 0
      },
      "text/plain": [
       "VBox(children=(HBox(children=(VBox(children=(Tree(layout=Layout(align_items='stretch', border='solid 1px black…"
      ]
     },
     "metadata": {},
     "output_type": "display_data"
    }
   ],
   "source": [
    "# Beam B-M-C-K1 - CFRP Bars\n",
    "\n",
    "# C 50/60\n",
    "def get_dp(f_ck = None, E=None, low_kappa = None, high_kappa = None, n_kappa=None, n_load_steps=None, eps_tu=None):\n",
    "    if eps_tu is None:\n",
    "        eps_tu = 0.00008\n",
    "    \n",
    "    if n_load_steps is None:\n",
    "        n_load_steps = 31\n",
    "        \n",
    "    if E is None:\n",
    "        E = 33525\n",
    "    \n",
    "    if high_kappa is None:\n",
    "        high_kappa = 0.00001\n",
    "        \n",
    "    if n_kappa is None:\n",
    "        n_kappa = 200\n",
    "        \n",
    "    if low_kappa is None:\n",
    "        low_kappa = -0.00012\n",
    "        \n",
    "    mc = MKappa(low_kappa = low_kappa, high_kappa = high_kappa, n_kappa = n_kappa)\n",
    "\n",
    "#     mc.cs_design.matrix='EC2 with plateau'\n",
    "    mc.cs_design.matrix_.trait_set(\n",
    "            E_cc=E,\n",
    "            E_ct=E,\n",
    "            eps_cr=0.00006, #0.000125 * f_ck/30, # f_ctm /E,\n",
    "            eps_cy=0.00175,\n",
    "            eps_cu=0.0035,\n",
    "            eps_tu=eps_tu,\n",
    "            mu=0.0,\n",
    "        f_cd = 60, # f_ck * 0.85/1.5,\n",
    "        factor = 1\n",
    "        )\n",
    "    \n",
    "    mc.cross_section_shape_.B = 400\n",
    "    mc.cross_section_shape_.H = 200\n",
    "\n",
    "    bl1 = ReinfLayer(name='carbon', z=200-35, A=4 * 70.14, matmod='carbon')\n",
    "    bl1.matmod_.trait_set(E=230000, f_t=3600, factor = 1.)\n",
    "    mc.cross_section_layout.add_layer(bl1)\n",
    "\n",
    "    dp = DeflectionProfile(mc=mc, n_load_steps = n_load_steps)\n",
    "\n",
    "    dp.beam_design.beam_conf_name = BoundaryConfig.CANTILEVER_DIST_LOAD\n",
    "    dp.beam_design.L = 1000\n",
    "    dp.F_scale = 1\n",
    "    return dp\n",
    "\n",
    "get_dp().interact()"
   ]
  },
  {
   "cell_type": "code",
   "execution_count": 4,
   "metadata": {},
   "outputs": [
    {
     "data": {
      "application/vnd.jupyter.widget-view+json": {
       "model_id": "d7503c546f804d418c779693df36a65c",
       "version_major": 2,
       "version_minor": 0
      },
      "text/plain": [
       "Canvas(toolbar=Toolbar(toolitems=[('Home', 'Reset original view', 'home', 'home'), ('Back', 'Back to previous …"
      ]
     },
     "metadata": {},
     "output_type": "display_data"
    },
    {
     "name": "stdout",
     "output_type": "stream",
     "text": [
      "Parametric study is running...\n",
      "E_cc, E_ct, eps_cy, eps_cr: (30000, 30000, -0.0019333333333333333, 6.666666666666667e-05), (35000, 35000, -0.0016571428571428572, 5.714285714285714e-05), (40000, 40000, -0.00145, 5e-05), (45000, 45000, -0.001288888888888889, 4.4444444444444447e-05), \n",
      "Parametric study finished.\n"
     ]
    }
   ],
   "source": [
    "# Test E (concrete)\n",
    "E_list = np.array([30000, 35000, 40000, 45000])\n",
    "\n",
    "dp = get_dp(n_load_steps = 100)\n",
    "\n",
    "# following fix is just to keep the sig, and not eps the same when changing E in MULTI-LINEAR Model\n",
    "E = dp.mc.cs_design.matrix_.E_cc\n",
    "eps_cy = dp.mc.cs_design.matrix_.eps_cy\n",
    "eps_cr= dp.mc.cs_design.matrix_.eps_cr\n",
    "sig_cy = E * eps_cy\n",
    "sig_cr = E * eps_cr\n",
    "\n",
    "sig_cy_list = np.full_like(E_list, sig_cy)\n",
    "sig_cr_list = np.full_like(E_list, sig_cr)\n",
    "\n",
    "# params_config = [\n",
    "#     [['E_cc', dp.mc.cs_design.matrix_, E_list], \n",
    "#      ['E_ct', dp.mc.cs_design.matrix_, E_list]],\n",
    "# ]\n",
    "params_config = [\n",
    "    [['E_cc', dp.mc.cs_design.matrix_, E_list], \n",
    "     ['E_ct', dp.mc.cs_design.matrix_, E_list], \n",
    "     ['eps_cy', dp.mc.cs_design.matrix_, sig_cy_list / E_list], \n",
    "     ['eps_cr', dp.mc.cs_design.matrix_, sig_cr_list / E_list]],\n",
    "]\n",
    "LoadDeflectionParamsStudy(dp).run(params_config)"
   ]
  },
  {
   "cell_type": "code",
   "execution_count": 5,
   "metadata": {},
   "outputs": [
    {
     "data": {
      "application/vnd.jupyter.widget-view+json": {
       "model_id": "2e5224c9cad448eaaab78ce740348430",
       "version_major": 2,
       "version_minor": 0
      },
      "text/plain": [
       "Canvas(toolbar=Toolbar(toolitems=[('Home', 'Reset original view', 'home', 'home'), ('Back', 'Back to previous …"
      ]
     },
     "metadata": {},
     "output_type": "display_data"
    },
    {
     "name": "stdout",
     "output_type": "stream",
     "text": [
      "Parametric study is running...\n",
      "E, E_cc: (130000, 33525.0), (170000, 33525.01), (210000, 33525.0), (250000, 33525.01), \n",
      "Parametric study finished.\n"
     ]
    }
   ],
   "source": [
    "# Test E_carbon\n",
    "E_carbon = [130000, 170000, 210000, 250000]\n",
    "\n",
    "dp = get_dp(n_kappa = 500)\n",
    "E_cc = dp.mc.cs_design.matrix_.E_cc\n",
    "E_list = [E_cc, E_cc + 0.01, E_cc, E_cc + 0.01] # Just to update state because changing E_carbon doesn't update the state automatically\n",
    "params_config = [\n",
    "    [['E', dp.mc.cross_section_layout.items[0].matmod_, E_carbon], \n",
    "     ['E_cc', dp.mc.cs_design.matrix_, E_list]]\n",
    "]\n",
    "LoadDeflectionParamsStudy(dp).run(params_config)"
   ]
  },
  {
   "cell_type": "code",
   "execution_count": 4,
   "metadata": {
    "scrolled": false
   },
   "outputs": [
    {
     "name": "stdout",
     "output_type": "stream",
     "text": [
      "Parametric study is running...\n",
      "f_t, E_cc: (3000, 33525.0), (2600, 33525.01), (2200, 33525.0), (1800, 33525.01), \n",
      "Parametric study finished.\n"
     ]
    }
   ],
   "source": [
    "# Test carbon strength\n",
    "f_t_list = [1800, 2200, 2600, 3000]\n",
    "dp = get_dp()\n",
    "E_cc = dp.mc.cs_design.matrix_.E_cc\n",
    "E_list = [E_cc, E_cc + 0.01, E_cc, E_cc + 0.01] # Just to update state because changing E_carbon doesn't update the state automatically\n",
    "params_config = [\n",
    "    [['f_t', dp.mc.cross_section_layout.items[0].matmod_, list(reversed(f_t_list))], \n",
    "     ['E_cc', dp.mc.cs_design.matrix_, E_list]]\n",
    "]\n",
    "LoadDeflectionParamsStudy(dp).run(params_config)"
   ]
  },
  {
   "cell_type": "code",
   "execution_count": 8,
   "metadata": {},
   "outputs": [
    {
     "data": {
      "application/vnd.jupyter.widget-view+json": {
       "model_id": "05acdc958d3d4e8f9d93560eb89ce674",
       "version_major": 2,
       "version_minor": 0
      },
      "text/plain": [
       "Canvas(toolbar=Toolbar(toolitems=[('Home', 'Reset original view', 'home', 'home'), ('Back', 'Back to previous …"
      ]
     },
     "metadata": {},
     "output_type": "display_data"
    },
    {
     "name": "stdout",
     "output_type": "stream",
     "text": [
      "Parametric study is running...\n",
      "eps_cy: (0.0008948545861297539), (0.0014914243102162564), (0.002087994034302759), (0.0026845637583892616), \n",
      "Parametric study finished.\n"
     ]
    }
   ],
   "source": [
    "# Test concrete compressive strength\n",
    "f_cm_list = np.array([30, 50, 70, 90])\n",
    "\n",
    "dp = get_dp(n_kappa=200, n_load_steps=100)\n",
    "\n",
    "E = dp.mc.cs_design.matrix_.E_cc\n",
    "E_list = np.full_like(f_cm_list, E)\n",
    "\n",
    "params_config = [\n",
    "     ['eps_cy', dp.mc.cs_design.matrix_, f_cm_list / E_list],\n",
    "]\n",
    "LoadDeflectionParamsStudy(dp).run(params_config)"
   ]
  },
  {
   "cell_type": "code",
   "execution_count": 9,
   "metadata": {},
   "outputs": [
    {
     "data": {
      "application/vnd.jupyter.widget-view+json": {
       "model_id": "9c200debe37f48098f9df1d445576686",
       "version_major": 2,
       "version_minor": 0
      },
      "text/plain": [
       "Canvas(toolbar=Toolbar(toolitems=[('Home', 'Reset original view', 'home', 'home'), ('Back', 'Back to previous …"
      ]
     },
     "metadata": {},
     "output_type": "display_data"
    },
    {
     "name": "stdout",
     "output_type": "stream",
     "text": [
      "Parametric study is running...\n",
      "eps_cr: (0.0), (8.351976137211036e-05), (0.00011931394481730052), (0.00013422818791946307), (0.00014914243102162565), \n",
      "Parametric study finished.\n"
     ]
    }
   ],
   "source": [
    "# Test concrete tensile strength\n",
    "f_ctd_list = np.array([0, 2.8, 4, 4.5, 5])\n",
    "\n",
    "dp = get_dp(eps_tu = 2*0.00008, n_load_steps=200)\n",
    "\n",
    "E = dp.mc.cs_design.matrix_.E_cc\n",
    "E_list = np.full_like(f_ctd_list, E)\n",
    "\n",
    "params_config = [\n",
    "     ['eps_cr', dp.mc.cs_design.matrix_, f_ctd_list / E_list],\n",
    "]\n",
    "LoadDeflectionParamsStudy(dp).run(params_config)"
   ]
  }
 ],
 "metadata": {
  "kernelspec": {
   "display_name": "Python 3",
   "language": "python",
   "name": "python3"
  },
  "language_info": {
   "codemirror_mode": {
    "name": "ipython",
    "version": 3
   },
   "file_extension": ".py",
   "mimetype": "text/x-python",
   "name": "python",
   "nbconvert_exporter": "python",
   "pygments_lexer": "ipython3",
   "version": "3.9.4"
  }
 },
 "nbformat": 4,
 "nbformat_minor": 1
}
