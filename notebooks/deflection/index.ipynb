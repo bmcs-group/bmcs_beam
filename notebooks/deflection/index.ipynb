{
 "cells": [
  {
   "cell_type": "markdown",
   "id": "de773aeb-8dd7-4a43-af5c-ddd81281a93a",
   "metadata": {},
   "source": [
    "# **Deflection**"
   ]
  },
  {
   "cell_type": "markdown",
   "id": "5ea114cf-17b1-4978-a39e-3238bec1deb9",
   "metadata": {},
   "source": [
    "## 1 Used packages\n",
    "Examples from some of the external libraries used here are provided in the following:\n",
    "\n",
    "* `Beam` module from `Sympy` library:\n",
    " - [General usage example](external_libraries/sympy_beam/sympy_beam_example.ipynb)\n",
    " - [Multiple beam configurations](external_libraries/sympy_beam/beam_configs_examples.ipynb)\n",
    "\n",
    "## 2 Verification studies\n",
    "- [Verification of deflection_profile module](deflection_verification/deflection_profile_verification.ipynb)\n",
    "\n",
    "## 3 Parametric studies\n",
    "- [Parametric study on deflection_profile in general](parametric_studies/deflection_parametric_study.ipynb)\n",
    "- [Parametric study using El Ghadioui beam setup](parametric_studies/deflection_parametric_study-El%20Ghadioui.ipynb)\n",
    "- [Parametric study using a cantilever modified from El Ghadioui beam setup](parametric_studies/deflection_parametric_study-El%20Ghadioui_cantilever.ipynb)\n",
    "\n",
    "## 4 Slenderness curves\n",
    "Notebooks about the concept of limiting deflections in SLS according to EC2 using slenderness $l/d$ vs reinforcement ratio $\\rho$ curves:\n",
    "- [Slenderness curves investigations](slenderness_curves/slenderness_curves.ipynb)\n",
    "- [Draft for regenerating slenderness curves according to El Ghadioui PhD dissertation](slenderness_curves/slenderness_curves_according_to_El%20Ghadioui2020_DRAFT.ipynb)"
   ]
  }
 ],
 "metadata": {
  "kernelspec": {
   "display_name": "Python 3",
   "language": "python",
   "name": "python3"
  },
  "language_info": {
   "codemirror_mode": {
    "name": "ipython",
    "version": 3
   },
   "file_extension": ".py",
   "mimetype": "text/x-python",
   "name": "python",
   "nbconvert_exporter": "python",
   "pygments_lexer": "ipython3",
   "version": "3.9.4"
  }
 },
 "nbformat": 4,
 "nbformat_minor": 5
}