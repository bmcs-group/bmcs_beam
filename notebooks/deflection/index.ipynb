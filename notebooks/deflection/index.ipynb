{
 "cells": [
  {
   "cell_type": "markdown",
   "id": "de773aeb-8dd7-4a43-af5c-ddd81281a93a",
   "metadata": {},
   "source": [
    "# **Deflection**"
   ]
  },
  {
   "cell_type": "markdown",
   "id": "5ea114cf-17b1-4978-a39e-3238bec1deb9",
   "metadata": {},
   "source": [
    "## 1 Used packages\n",
    "\n",
    "## 2 Verification studies\n",
    "\n",
    "## 3 Parametric studies\n",
    "\n",
    "## 4 Slenderness curves"
   ]
  },
  {
   "cell_type": "code",
   "execution_count": null,
   "id": "0db10a49-d6c9-4baf-9fd9-07c168b4abd0",
   "metadata": {},
   "outputs": [],
   "source": []
  }
 ],
 "metadata": {
  "kernelspec": {
   "display_name": "bmcs_env",
   "language": "python",
   "name": "bmcs_env"
  },
  "language_info": {
   "codemirror_mode": {
    "name": "ipython",
    "version": 3
   },
   "file_extension": ".py",
   "mimetype": "text/x-python",
   "name": "python",
   "nbconvert_exporter": "python",
   "pygments_lexer": "ipython3",
   "version": "3.8.8"
  }
 },
 "nbformat": 4,
 "nbformat_minor": 5
}
