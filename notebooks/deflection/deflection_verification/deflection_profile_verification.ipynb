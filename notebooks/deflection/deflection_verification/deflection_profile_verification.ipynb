{
 "cells": [
  {
   "cell_type": "markdown",
   "metadata": {},
   "source": [
    "# Deflection-Profile Verification\n",
    "This file verifies the Deflection-Profile implementation provided in the file \"deflection_profile.py\" of the bmcs_beam package."
   ]
  },
  {
   "cell_type": "code",
   "execution_count": 1,
   "metadata": {},
   "outputs": [],
   "source": [
    "%matplotlib widget\n",
    "# %matplotlib qt\n",
    "from bmcs_cross_section.api import MKappa, TShape, MKappaParamsStudy, EC2, ReinfLayer, IShape, CustomShape\n",
    "from bmcs_beam.api import BoundaryConditions, BoundaryConfig, DeflectionProfile, BeamDesign, LoadDeflectionParamsStudy\n",
    "from os.path import join\n",
    "import numpy as np\n",
    "import pandas as pd\n",
    "import sympy as sp\n",
    "import matplotlib.pyplot as plt\n",
    "import bmcs_utils.api as bu"
   ]
  },
  {
   "cell_type": "code",
   "execution_count": 2,
   "metadata": {},
   "outputs": [],
   "source": [
    "bu.set_latex_mpl_format()\n",
    "plot_colors = bu.plot_colors\n",
    "\n",
    "#def plot(mc):\n",
    "#     fig, ax = plt.subplots(1, 1)\n",
    "#     dp = DeflectionProfile(mc=mc)\n",
    "#     F, w = dp.get_Fw()\n",
    "#     ax.plot(w, F / 1000, c= 'blue', label= 'bmcs_deflection'); ax.legend()\n",
    "#     ax.set_xlabel(r'$w$ [mm]')\n",
    "#     ax.set_ylabel(r'$F$ [kN]')\n",
    "#     plt.show()\n",
    "\n",
    "def plot_fw_ver(mc, ver_data, data, L, mode, f_coef):\n",
    "    \n",
    "    # mode: 'multi' to plot multiple experiments and 'one' to plot one experiment\n",
    "    # f_coef: a coeficient for the 'F' values of the experiment based on the experiment configuration;\n",
    "    \n",
    "    fig, (ax1,ax2) = plt.subplots(1,2, figsize = (10,5))\n",
    "    ax1.ticklabel_format(axis=\"x\", style=\"sci\", scilimits=(0,0))\n",
    "    dp.mc.plot_mk(ax1)\n",
    "    dp.plot_fw(ax2)\n",
    "    if mode == 'multi':\n",
    "        for i in range(0,data.shape[1],2):\n",
    "            ax2.plot(data.iloc[:, i+1],data.iloc[:, i] * f_coef, label = data.columns.tolist()[i][0:-2] , alpha=0.5)\n",
    "        ax2.plot([L/250 , L/250], [0, max(data.iloc[:, 2]) * f_coef],  c='black', ls= '--' ); plt.annotate('L/500', xy=(L/500, max(data.iloc[:, 2]) * f_coef))\n",
    "        ax2.plot([L/500 , L/500], [0, max(data.iloc[:, 2]) * f_coef],  c='black', ls= ':' ); plt.annotate('L/250', xy=(L/250, max(data.iloc[:, 2]) * f_coef))\n",
    "    \n",
    "    else:\n",
    "        w = ver_data[0]\n",
    "        f = ver_data[1]\n",
    "        ax2.plot(w, f * f_coef, c= 'red', label= 'Experiment')\n",
    "        ax2.plot([L/250 , L/250], [0, max(f) * f_coef],  c='black', ls= '--' ); plt.annotate('L/500', xy=(L/500, max(f) * f_coef))\n",
    "        ax2.plot([L/500 , L/500], [0, max(f) * f_coef],  c='black', ls= ':' ); plt.annotate('L/250', xy=(L/250, max(f) * f_coef))\n",
    "    ax2.legend()\n",
    "    \n",
    "    return fig\n",
    "\n",
    "def plot_fw_ver(dp, ver_data, test_name='', title=None, ax=None, color_i=0): # ax, dp, ver_data\n",
    "    if ax is None:\n",
    "        fig, ax = plt.subplots(figsize=(5, 5))\n",
    "    dp.plot_fw(ax, dashed=True, color=plot_colors[color_i])\n",
    "    ax.plot(ver_data[1], ver_data[0], c=plot_colors[color_i], label= 'Exp. (' + test_name + ')')\n",
    "    if title is not None:\n",
    "        ax.set_title(title)\n",
    "    ax.set_xlabel('Deflection [mm]')\n",
    "    ax.set_ylabel('Load [kN]')\n",
    "    ax.legend()\n",
    "    if 'fig' in locals():\n",
    "        return fig, ax\n",
    "    \n",
    "def interact(dp):\n",
    "    dp.interact()\n",
    "\n",
    "def make_mc(form='rectangular', B=200, H=200, \n",
    "            material_r1='steel', E_r1=200000, high_kappa = 0.00005,\n",
    "            f_cm=40, matrix = 'EC2', eps_cr = None, eps_cy=None, eps_cu=None, eps_tu=None, mu=None, E_cc=None, E_ct=None,\n",
    "            f_ctm=None,\n",
    "            z_r1=10,\n",
    "            A_r1=100,\n",
    "            f_t_r1=None,\n",
    "            f_sy_r1=500,\n",
    "            f_st_r1=None,\n",
    "            eps_ud_r1=0.025,\n",
    "            material_r2=None, \n",
    "            z_r2=None, \n",
    "            A_r2=None,\n",
    "            E_r2=None,\n",
    "            f_t_r2=None,\n",
    "            f_sy_r2=None,\n",
    "            f_st_r2=None,\n",
    "            eps_ud_r2=0.025,\n",
    "            n_kappa=200, n_m = 200, slider=None):\n",
    "    \n",
    "    mc = MKappa(low_kappa=0, \n",
    "                high_kappa=high_kappa,\n",
    "                n_m=n_m,\n",
    "                n_kappa=n_kappa)\n",
    "    \n",
    "    mc.cs_design.matrix = matrix\n",
    "    if slider is not None:\n",
    "        mc.kappa_slider = slider\n",
    "    \n",
    "    if form=='rectangular':\n",
    "        mc.cross_section_shape_.B = B\n",
    "        mc.cross_section_shape_.H = H\n",
    "    \n",
    "    if matrix == 'piecewise linear':\n",
    "        mc.cs_design.matrix_.trait_set(\n",
    "        eps_cy = eps_cy,\n",
    "        eps_cu = eps_cu,\n",
    "    )\n",
    "    else:\n",
    "        mc.cs_design.matrix_.f_cm=f_cm\n",
    "        \n",
    "    if eps_tu is not None:\n",
    "        mc.cs_design.matrix_.eps_tu = eps_tu\n",
    "    if eps_cr is not None:\n",
    "        mc.cs_design.matrix_.eps_cr = eps_cr\n",
    "    if mu is not None:\n",
    "        mc.cs_design.matrix_.mu = mu\n",
    "    if E_cc is not None:\n",
    "        mc.cs_design.matrix_.E_cc = E_cc\n",
    "    if E_ct is not None:\n",
    "        mc.cs_design.matrix_.E_ct = E_ct\n",
    "    \n",
    "    bl1 = ReinfLayer(name='layer1', z=z_r1, A=A_r1, matmod=material_r1)\n",
    "    if material_r1 == 'carbon':\n",
    "        bl1.matmod_.trait_set(E=E_r1,f_t=f_t_r1)\n",
    "    if material_r1 == 'steel':\n",
    "        bl1.matmod_.trait_set(E_s=E_r1, f_sy=f_sy_r1, eps_ud = eps_ud_r1, f_st=1.05*f_sy_r1 if f_st_r1 is None else f_st_r1)\n",
    "    mc.cross_section_layout.add_layer(bl1)\n",
    "    \n",
    "    if material_r2 is not None:\n",
    "        bl2 = ReinfLayer(name='layer2', z=z_r2, A=A_r2, matmod=material_r2)\n",
    "        if material_r2 == 'carbon':\n",
    "            bl2.matmod_.trait_set(E=E_r2,f_t=f_t_r2)\n",
    "        if material_r2 == 'steel':\n",
    "            bl2.matmod_.trait_set(E_s=E_r2, f_sy=f_sy_r2, eps_ud = eps_ud_r2, f_st=1.05*f_sy_r2 if f_st_r2 is None else f_st_r2)\n",
    "        mc.cross_section_layout.add_layer(bl2)\n",
    "    \n",
    "    return mc\n",
    "\n",
    "def get_dp(mc, system, L, L_F):\n",
    "    dp = DeflectionProfile(mc=mc)\n",
    "    dp.beam_design.system = system\n",
    "    dp.beam_design.system_.L = L\n",
    "    dp.beam_design.system_.L_F = L_F\n",
    "    return dp\n",
    "    \n",
    "    \n",
    "def make_simulation(high_kappa,E,f_cm,mu,B,H,material,E_reinforcement,system,L,L_F,\n",
    "                    z=False,alpha=False,A=False,rho=False,f_t=False,f_sy=False,f_ctm=False,eps_cr=False,beta_tu=False):\n",
    "\n",
    "    if z==False:\n",
    "        z=H * (1 - alpha)\n",
    "        print('z= '+str(z))\n",
    "    if A==False:\n",
    "        A=A=rho * B * alpha * H\n",
    "        print('A= '+str(A))\n",
    "    if eps_cr==False:\n",
    "        eps_cr=f_ctm/E\n",
    "        print('eps_cr= '+str(eps_cr))\n",
    "    if beta_tu==False:\n",
    "        eps_tu = f_ctm/E\n",
    "        print('eps_tu= '+str(eps_tu))\n",
    "    else:\n",
    "        eps_tu = beta_tu * eps_cr\n",
    "        print('eps_tu= '+str(eps_tu))\n",
    "\n",
    "    \n",
    "    mc = MKappa(low_kappa = 0, high_kappa = high_kappa)\n",
    "    mc.cs_design.matrix='EC2'\n",
    "    mc.cs_design.matrix_.trait_set(\n",
    "        E_cc=E,\n",
    "        E_ct=E,\n",
    "        eps_cr=f_ctm/E,\n",
    "        eps_tu=f_ctm/E,\n",
    "        mu=0.0,\n",
    "        f_cm = f_cm\n",
    "    )\n",
    "    mc.cross_section_shape_.B = B\n",
    "    mc.cross_section_shape_.H = H\n",
    "        \n",
    "    bl1 = ReinfLayer(name=material, z=z, A=A, matmod=material)\n",
    "    if material == 'carbon':\n",
    "        bl1.matmod_.trait_set(E=E_reinforcement,f_t=f_t,factor = 1.)\n",
    "    if material == 'steel':\n",
    "        bl1.matmod_.trait_set(E_s=E_reinforcement, f_sy=f_sy)\n",
    "    mc.cross_section_layout.add_layer(bl1)\n",
    "    \n",
    "    dp = DeflectionProfile(mc=mc)\n",
    "    dp.beam_design.system = system\n",
    "    dp.beam_design.system_.L = L\n",
    "    dp.beam_design.system_.L_F = L_F\n",
    "    \n",
    "    return dp\n",
    "    \n",
    "def get_data_ghadioui():\n",
    "    excel_file = join('../verification_data/el_ghadioui2020', 'fig_3.xlsx')\n",
    "    data = pd.read_excel(excel_file, engine='openpyxl')\n",
    "    \n",
    "    return data\n",
    "\n",
    "def get_data(element1, xlsx_file, u, f, element2=False, u_faktor=False):\n",
    "    if element2 == False:\n",
    "        excel_file = join(element1, xlsx_file)\n",
    "    else: excel_file = join(element1, element2, xlsx_file)\n",
    "    data = pd.read_excel(excel_file, engine='openpyxl')\n",
    "    if(u_faktor==False):\n",
    "        u_faktor = 1\n",
    "    u = data[u]*u_faktor\n",
    "    f = data[f]\n",
    "    ver_data = [f, u]\n",
    "    \n",
    "    return ver_data"
   ]
  },
  {
   "cell_type": "markdown",
   "metadata": {},
   "source": [
    "## 1. Checking the model with its default parameters"
   ]
  },
  {
   "cell_type": "code",
   "execution_count": 3,
   "metadata": {},
   "outputs": [
    {
     "data": {
      "application/vnd.jupyter.widget-view+json": {
       "model_id": "0dfdd1dd5bf94f959e601704145e08db",
       "version_major": 2,
       "version_minor": 0
      },
      "text/plain": [
       "VBox(children=(HBox(children=(VBox(children=(Tree(layout=Layout(align_items='stretch', border='solid 1px black…"
      ]
     },
     "metadata": {},
     "output_type": "display_data"
    }
   ],
   "source": [
    "dp = DeflectionProfile()\n",
    "bl1 = ReinfLayer()\n",
    "dp.mc.cross_section_layout.add_layer(bl1)\n",
    "\n",
    "interact(dp)"
   ]
  },
  {
   "cell_type": "markdown",
   "metadata": {},
   "source": [
    "## 2. Validation with experimental results"
   ]
  },
  {
   "cell_type": "markdown",
   "metadata": {},
   "source": [
    "## Rectangluar cross sections"
   ]
  },
  {
   "cell_type": "markdown",
   "metadata": {},
   "source": [
    "### El Ghadioui2020 (Steel, CFRP)\n",
    "https://link.springer.com/article/10.1617/s11527-020-01496-7"
   ]
  },
  {
   "cell_type": "code",
   "execution_count": 4,
   "metadata": {},
   "outputs": [
    {
     "name": "stdout",
     "output_type": "stream",
     "text": [
      "eps_cr= 0.00013721103653989558\n",
      "eps_tu= 0.00013721103653989558\n"
     ]
    },
    {
     "data": {
      "image/png": "[encoded data removed]",
      "text/plain": [
       "<Figure size 500x500 with 1 Axes>"
      ]
     },
     "execution_count": 4,
     "metadata": {},
     "output_type": "execute_result"
    }
   ],
   "source": [
    "# Beam B-M-C-K1 - CFRP Bars (C 50/60)\n",
    "data = get_data_ghadioui()\n",
    "ver_data = [data['B-M-C-K1_load'], data['B-M-C-K1_deflection']]\n",
    "\n",
    "dp = make_simulation(high_kappa=0.00011,\n",
    "                     E=33525,\n",
    "                     f_cm=64.4,\n",
    "                     f_ctm=4.6,\n",
    "                     mu=0.0,\n",
    "                     B=400,\n",
    "                     H=200,\n",
    "                     material='carbon',\n",
    "                     z=35,\n",
    "                     A=2*70.12,\n",
    "                     E_reinforcement=135121,\n",
    "                     f_t=1891,\n",
    "                     system='4pb',\n",
    "                     L=4700,\n",
    "                     L_F=1925)\n",
    "dp.n_load_steps = 100\n",
    "dp.mc.n_kappa = 1000\n",
    "\n",
    "fig, ax = plot_fw_ver(dp, ver_data)\n",
    "# dp.interact()\n",
    "fig"
   ]
  },
  {
   "cell_type": "code",
   "execution_count": 5,
   "metadata": {},
   "outputs": [
    {
     "name": "stdout",
     "output_type": "stream",
     "text": [
      "eps_cr= 0.00013721103653989558\n",
      "eps_tu= 0.00013721103653989558\n"
     ]
    },
    {
     "data": {
      "image/png": "[encoded data removed]",
      "text/plain": [
       "<Figure size 500x500 with 1 Axes>"
      ]
     },
     "execution_count": 5,
     "metadata": {},
     "output_type": "execute_result"
    }
   ],
   "source": [
    "# Beam B-M-C-K3 - CFRP Bars (C 50/60)\n",
    "\n",
    "data = get_data_ghadioui()\n",
    "ver_data = [data['B-M-C-K3_load'], data['B-M-C-K3_deflection']]\n",
    "\n",
    "dp = make_simulation(high_kappa=0.00015,\n",
    "                     E=33525,\n",
    "                     f_cm=64.4,\n",
    "                     f_ctm=4.6,\n",
    "                     mu=0.0,\n",
    "                     B=400,\n",
    "                     H=200,\n",
    "                     material='carbon',\n",
    "                     z=33,\n",
    "                     A=2*70.12,\n",
    "                     E_reinforcement=135121,\n",
    "                     f_t=1891,\n",
    "                     system='4pb',\n",
    "                     L=4700,\n",
    "                     L_F=1925)\n",
    "dp.n_load_steps = 100\n",
    "dp.mc.n_kappa = 1000\n",
    "fig, ax = plot_fw_ver(dp, ver_data)\n",
    "fig"
   ]
  },
  {
   "cell_type": "code",
   "execution_count": 6,
   "metadata": {},
   "outputs": [
    {
     "name": "stdout",
     "output_type": "stream",
     "text": [
      "eps_cr= 0.00013721103653989558\n",
      "eps_tu= 0.00013721103653989558\n"
     ]
    },
    {
     "data": {
      "image/png": "[encoded data removed]",
      "text/plain": [
       "<Figure size 500x500 with 1 Axes>"
      ]
     },
     "execution_count": 6,
     "metadata": {},
     "output_type": "execute_result"
    }
   ],
   "source": [
    "# Beam B-M-S-K1 - Steel Bars (C 50/60)\n",
    "# Adapted params in comparison to the paper: f_sy \n",
    "\n",
    "data = get_data_ghadioui()\n",
    "ver_data = [data['B-M-S-K1_load'], data['B-M-S-K1_deflection']]\n",
    "\n",
    "dp = make_simulation(high_kappa=0.00017,\n",
    "                     E=33525,\n",
    "                     f_cm=64.4,\n",
    "                     f_ctm=4.6,\n",
    "                     mu=0.0,\n",
    "                     B=400,\n",
    "                     H=200,\n",
    "                     material='steel',\n",
    "                     z=19,\n",
    "                     A=4 * np.pi * (12/2)**2,\n",
    "                     E_reinforcement=200000,\n",
    "                     f_sy=450,\n",
    "                     system='4pb',\n",
    "                     L=4700,\n",
    "                     L_F=1925)\n",
    "# dp.n_load_steps = 100\n",
    "# dp.mc.n_kappa = 100\n",
    "\n",
    "fig, ax = plot_fw_ver(dp, ver_data)\n",
    "\n",
    "fig\n",
    "# dp.interact()"
   ]
  },
  {
   "cell_type": "code",
   "execution_count": null,
   "metadata": {},
   "outputs": [],
   "source": [
    "# Beam A-M-C-K1 - Grid (C 40/50)\n",
    "# Adapted params in comparison to the paper: None\n",
    "\n",
    "data = get_data_ghadioui()\n",
    "ver_data = [data['A-M-C-K1_load'], data['A-M-C-K1_deflection']]\n",
    "\n",
    "dp = make_simulation(high_kappa=0.00021,\n",
    "                     E=34918,\n",
    "                     f_cm=52.9,\n",
    "                     f_ctm=4,\n",
    "                     mu=0.0,\n",
    "                     B=500,\n",
    "                     H=105,\n",
    "                     material='carbon',\n",
    "                     z=21,\n",
    "                     A=13*8.16,\n",
    "                     E_reinforcement=108606,\n",
    "                     f_t=1429,\n",
    "                     system='4pb',\n",
    "                     L=2200,\n",
    "                     L_F=870)\n",
    "fig, ax = plot_fw_ver(dp, ver_data, r'A-M-C-K1 [CFRP grid]', title='El Ghadioui et al. 2020', color_i=0)\n",
    "fig"
   ]
  },
  {
   "cell_type": "code",
   "execution_count": null,
   "metadata": {},
   "outputs": [],
   "source": [
    "# Beam A-M-C-K2 - Grid (C 40/50)\n",
    "# Adapted params in comparison to the paper: None\n",
    "\n",
    "data = get_data_ghadioui()\n",
    "ver_data = [data['A-M-C-K2_load'], data['A-M-C-K2_deflection']]\n",
    "\n",
    "dp = make_simulation(high_kappa=0.00021,\n",
    "                     E=34918,\n",
    "                     f_cm=52.9,\n",
    "                     f_ctm=4,\n",
    "                     mu=0.0,\n",
    "                     B=500,\n",
    "                     H=105,\n",
    "                     material='carbon',\n",
    "                     z=17,\n",
    "                     A=13*8.16,\n",
    "                     E_reinforcement=108606,\n",
    "                     f_t=1429,\n",
    "                     system='4pb',\n",
    "                     L=2200,\n",
    "                     L_F=870)\n",
    "\n",
    "plot_fw_ver(dp, ver_data, r'A-M-C-K2 [CFRP grid]', ax=ax, color_i=1)\n",
    "fig"
   ]
  },
  {
   "cell_type": "code",
   "execution_count": null,
   "metadata": {},
   "outputs": [],
   "source": [
    "# fig.savefig('LD_El Ghadioui_A-M-C-K1_A-M-C-K2.pdf')"
   ]
  },
  {
   "cell_type": "markdown",
   "metadata": {},
   "source": [
    "### Yang et al. (2010) (FRC with steel reinforcement)\n",
    "http://dx.doi.org/10.1016/j.engstruct.2010.07.017"
   ]
  },
  {
   "cell_type": "code",
   "execution_count": null,
   "metadata": {},
   "outputs": [],
   "source": [
    "# R14-2 (rho = 1.2%)\n",
    "# Adapted params in comparison to the paper: eps_cr, eps_tu, mu, f_sy (f_sy not mentioned, the others were calibrated)\n",
    "\n",
    "ver_data = get_data(element1='../verification_data/yang2010', xlsx_file='yang2010.xlsx', u='R14-2_deflection', f='R14-2_load')\n",
    "\n",
    "mc = make_mc(\n",
    "            form='rectangular', high_kappa=0.00005, B=180, H=270,\n",
    "            matrix='piecewise linear',\n",
    "            E_cc=45530, E_ct=45530,\n",
    "            mu=0.55,\n",
    "            eps_cr=0.000384,\n",
    "            eps_tu = 24 * 0.000384,\n",
    "            eps_cy = 196.1/45530,\n",
    "            eps_cu = EC2.get_eps_cu3(196.2-8),\n",
    "            material_r1='steel', z_r1=35, A_r1=506.8, E_r1=200000, f_sy_r1=600,\n",
    "            )\n",
    "dp = get_dp(mc=mc, system='4pb', L=2700, L_F=1130)\n",
    "\n",
    "fig, ax = plot_fw_ver(dp, ver_data, r'R14-2, $V_\\mathrm{f}$ = 2%, $\\rho$ = 1.2%', title='Yang et al. 2010', color_i=0)\n",
    "fig\n",
    "# dp.interact()"
   ]
  },
  {
   "cell_type": "code",
   "execution_count": null,
   "metadata": {},
   "outputs": [],
   "source": [
    "# R13-2 (rho = 0.9%)\n",
    "ver_data = get_data(element1='../verification_data/yang2010', xlsx_file='yang2010.xlsx', u='R13-2_deflection', f='R13-2_load')\n",
    "mc = make_mc(form='rectangular', high_kappa=0.00005, B=180, H=270,\n",
    "            matrix='piecewise linear',\n",
    "            E_cc=46680, E_ct=46680,\n",
    "            mu=0.55,\n",
    "            eps_cr=0.000384,\n",
    "            eps_tu = 24 * 0.000384,\n",
    "            eps_cy = 192.2/46680,\n",
    "            eps_cu = EC2.get_eps_cu3(192.2-8),\n",
    "            material_r1='steel', z_r1=35, A_r1=380.1, E_r1=200000, f_sy_r1=600,\n",
    "            )\n",
    "dp = get_dp(mc=mc, system='4pb', L=2700, L_F=1130)\n",
    "\n",
    "plot_fw_ver(dp, ver_data, r'R13-2, $V_\\mathrm{f}$ = 2%, $\\rho$ = 0.9%', ax=ax, color_i=1)\n",
    "fig\n",
    "# dp.interact()"
   ]
  },
  {
   "cell_type": "code",
   "execution_count": null,
   "metadata": {},
   "outputs": [],
   "source": [
    "# fig.savefig('LD_Yang_R13-2_R14-2.pdf')"
   ]
  },
  {
   "cell_type": "markdown",
   "metadata": {},
   "source": [
    "###  Almusallam1997 (Steel, GFRP) https://journals.sagepub.com/doi/pdf/10.1177/002199839703100701"
   ]
  },
  {
   "cell_type": "code",
   "execution_count": null,
   "metadata": {},
   "outputs": [],
   "source": [
    "# Group 1 (Steel):\n",
    "ver_data = get_data(element1='../verification_data/', xlsx_file='Almusallam1997.xlsx', \n",
    "                    u='group_1_deflection', f='group_1_load')\n",
    "mc = make_mc(form='rectangular', high_kappa=0.000065, B=200, H=210,\n",
    "             eps_cy=None, eps_cu=None, eps_tu=None,\n",
    "             f_cm=31.3,\n",
    "            material_r1='steel',\n",
    "             material_r2 = 'steel',\n",
    "             A_r1 = 3*np.pi*7**2, E_r1 = 200000, z_r1=50, f_sy_r1=553,\n",
    "             A_r2 = 1*np.pi*(6.25/2)**2,  E_r2 = 200000, z_r2=210-50, f_sy_r2=553\n",
    "            )\n",
    "dp = get_dp(mc=mc, system='4pb', L=2700, L_F=1250)\n",
    "dp. n_load_steps = 101\n",
    "\n",
    "fig, ax = plot_fw_ver(dp, ver_data, r'Group 1 - Steel', title='Almusallam 1997', color_i=0)\n",
    "fig\n",
    "# dp.interact()"
   ]
  },
  {
   "cell_type": "code",
   "execution_count": null,
   "metadata": {},
   "outputs": [],
   "source": [
    "# Group 2 (GFRP):\n",
    "ver_data = get_data(element1='../verification_data/', xlsx_file='Almusallam1997.xlsx', \n",
    "                    u='group_2_deflection', f='group_2_load')\n",
    "mc = make_mc(form='rectangular', high_kappa=0.000066, B=200, H=210,\n",
    "             eps_cy=None, eps_cu=None, eps_tu=None,\n",
    "             f_cm=31.3,\n",
    "            material_r1='carbon',\n",
    "             material_r2 = 'steel',\n",
    "             A_r1 = 4*np.pi*(19/2)**2, E_r1 = 35630, z_r1=210-158, f_t_r1=700,\n",
    "             A_r2 = 1*np.pi*(6.25/2)**2,  E_r2 = 200000, z_r2=210-50, f_sy_r2=553\n",
    "            )\n",
    "dp = get_dp(mc=mc, system='4pb', L=2700, L_F=1250)\n",
    "dp. n_load_steps = 101\n",
    "\n",
    "plot_fw_ver(dp, ver_data, r'Group 2 - GFRP', ax=ax, color_i=1)\n",
    "fig\n",
    "# dp.interact()"
   ]
  },
  {
   "cell_type": "code",
   "execution_count": null,
   "metadata": {},
   "outputs": [],
   "source": [
    "# Group 3 (GFRP):\n",
    "ver_data = get_data(element1='../verification_data/', xlsx_file='Almusallam1997.xlsx', \n",
    "                    u='group_3_deflection', f='group_3_load')\n",
    "mc = make_mc(form='rectangular', high_kappa=0.00007, B=200, H=260,\n",
    "             eps_cy=None, eps_cu=None, eps_tu=None,\n",
    "             f_cm=31.3,\n",
    "            material_r1='carbon',\n",
    "             material_r2 = 'steel',\n",
    "             A_r1 = 4*np.pi*(12.7/2)**2, E_r1 = 43370, z_r1=260-211, f_t_r1=886,\n",
    "             A_r2 = 1*np.pi*(6.25/2)**2,  E_r2 = 200000, z_r2=210-50, f_sy_r2=553\n",
    "            )\n",
    "dp = get_dp(mc=mc, system='4pb', L=2700, L_F=1250)\n",
    "dp. n_load_steps = 101\n",
    "\n",
    "plot_fw_ver(dp, ver_data, r'Group 3 - GFRP', ax=ax, color_i=2)\n",
    "fig\n",
    "# dp.interact()"
   ]
  },
  {
   "cell_type": "code",
   "execution_count": null,
   "metadata": {},
   "outputs": [],
   "source": [
    "# fig.savefig('LD_Almusallam1997.pdf')"
   ]
  },
  {
   "cell_type": "markdown",
   "metadata": {},
   "source": [
    "### Qu 2009 (Steel, GFRP, Hybrid Steel + GFRP)\n",
    "https://ascelibrary.org/doi/abs/10.1061/%28ASCE%29CC.1943-5614.0000035"
   ]
  },
  {
   "cell_type": "code",
   "execution_count": null,
   "metadata": {},
   "outputs": [],
   "source": [
    "# B1 (Steel):\n",
    "ver_data = get_data(element1='../verification_data/', xlsx_file='Qu2009.xlsx', \n",
    "                    u='B1_deflection', f='B1_load')\n",
    "mc = make_mc(form='rectangular', high_kappa=0.0002, B=180, H=250,\n",
    "             eps_cy=None, eps_cu=None, eps_tu=None,\n",
    "             f_cm=30.95,\n",
    "            material_r1='steel',\n",
    "             material_r2 = 'steel',\n",
    "             A_r1 = 4*np.pi*(12/2)**2, E_r1 = 200000, z_r1=30, f_sy_r1=363,\n",
    "             A_r2 = 2*np.pi*(10/2)**2,  E_r2 = 200000, z_r2=220, f_sy_r2=363,\n",
    "            )\n",
    "\n",
    "dp = get_dp(mc=mc, system='4pb', L=1800, L_F=600)\n",
    "\n",
    "fig, ax = plot_fw_ver(dp, ver_data, r'B1 - Steel', title='Qu et al. 2009', color_i=0)\n",
    "fig\n",
    "# dp.interact()"
   ]
  },
  {
   "cell_type": "code",
   "execution_count": null,
   "metadata": {},
   "outputs": [],
   "source": [
    "# B3 (Steel + GFRP):\n",
    "ver_data = get_data(element1='../verification_data/', xlsx_file='Qu2009.xlsx', \n",
    "                    u='B3_deflection', f='B3_load')\n",
    "mc = make_mc(form='rectangular', high_kappa=0.00009, B=180, H=250,\n",
    "             eps_cy=None, eps_cu=None, eps_tu=None,\n",
    "             f_cm=33.1,\n",
    "            material_r1='carbon',\n",
    "             material_r2 = 'steel',\n",
    "             A_r1 = 2*np.pi*(12.7/2)**2, E_r1 = 45000, z_r1=30, f_t_r1=782,\n",
    "             A_r2 = 2*np.pi*(12/2)**2,  E_r2 = 200000, z_r2=30, f_sy_r2=363,\n",
    "            )\n",
    "rl = ReinfLayer(z = 250-30, A = 2*np.pi*(10/2)**2, matmod='steel')\n",
    "rl.matmod_.trait_set(E_s = 200000, f_sy = 363, f_st = 1.05*363)\n",
    "mc.cross_section_layout.add_layer(rl)\n",
    "\n",
    "dp = get_dp(mc=mc, system='4pb', L=1800, L_F=600)\n",
    "\n",
    "fig, ax = plot_fw_ver(dp, ver_data, r'B3 - Steel', title='Qu et al. 2009', color_i=0)\n",
    "fig\n",
    "# dp.interact()"
   ]
  },
  {
   "cell_type": "code",
   "execution_count": null,
   "metadata": {},
   "outputs": [],
   "source": [
    "# B4 (Steel + GFRP):\n",
    "ver_data = get_data(element1='../verification_data/', xlsx_file='Qu2009.xlsx', \n",
    "                    u='B3_deflection', f='B3_load')\n",
    "mc = make_mc(form='rectangular', high_kappa=0.00009, B=180, H=250,\n",
    "             eps_cy=None, eps_cu=None, eps_tu=None,\n",
    "             f_cm=33.1,\n",
    "            material_r1='carbon',\n",
    "             material_r2 = 'steel',\n",
    "             A_r1 = 2*np.pi*(15.9/2)**2, E_r1 = 41000, z_r1=30, f_t_r1=755,\n",
    "             A_r2 = 1*np.pi*(16/2)**2,  E_r2 = 200000, z_r2=30, f_sy_r2=336,\n",
    "            )\n",
    "rl = ReinfLayer(z = 250-30, A = 2*np.pi*(10/2)**2, matmod='steel')\n",
    "rl.matmod_.trait_set(E_s = 200000, f_sy = 363, f_st = 1.05*363)\n",
    "mc.cross_section_layout.add_layer(rl)\n",
    "\n",
    "dp = get_dp(mc=mc, system='4pb', L=1800, L_F=600)\n",
    "\n",
    "fig, ax = plot_fw_ver(dp, ver_data, r'B4 - Steel', title='Qu et al. 2009', color_i=0)\n",
    "fig\n",
    "# dp.interact()"
   ]
  },
  {
   "cell_type": "markdown",
   "metadata": {},
   "source": [
    "### Hong et al. 2011 (Rect. CS, Hybrid steel + CFRP)\n",
    "https://academicjournals.org/journal/IJPS/article-full-text-pdf/CADD4B225208"
   ]
  },
  {
   "cell_type": "code",
   "execution_count": null,
   "metadata": {},
   "outputs": [],
   "source": [
    "f_sy = (533 + 525 + 528 + 512)/4\n",
    "f_st = (615 + 628 + 631 + 629)/4\n",
    "eps_ud = 0.01 * (17.1 + 18.5 + 16.6 + 16.3)/4\n",
    "\n",
    "def get_hong_dp(rho_s, cfrp_num=2, f_cm=27, b=250, h=400):\n",
    "    d_s = 15.9\n",
    "    d = h - 30 - 9.53 - d_s/2\n",
    "    mc = make_mc(form='rectangular', high_kappa=0.00007, B=b, H=h,\n",
    "                 eps_cy=None, eps_cu=None, eps_tu=None,\n",
    "                 f_cm=f_cm,\n",
    "                 material_r1='steel',\n",
    "                 material_r2='steel',\n",
    "                 A_r1 = rho_s * b * d,  E_r1 = 200000, z_r1 = h - d , f_sy_r1=f_sy, f_st_r1=f_st, eps_ud_r1=eps_ud,\n",
    "                 A_r2 = 2*np.pi*(9.53/2)**2,  E_r2 = 200000, z_r2 = d , f_sy_r2=f_sy, f_st_r2=f_st, eps_ud_r2=eps_ud,\n",
    "                )\n",
    "    if cfrp_num > 0:\n",
    "        rl = ReinfLayer(z = 7.5, A = cfrp_num * 2.8 * 10, matmod='carbon')\n",
    "        rl.matmod_.trait_set(E = 165000, f_t = 2850)\n",
    "        mc.cross_section_layout.add_layer(rl)\n",
    "\n",
    "    dp = get_dp(mc=mc, system='4pb', L=3600, L_F=1500)\n",
    "    dp.n_load_steps = 100\n",
    "    return dp"
   ]
  },
  {
   "cell_type": "code",
   "execution_count": null,
   "metadata": {},
   "outputs": [],
   "source": [
    "# Beam ALII-2:\n",
    "ver_data = get_data(element1='../verification_data', xlsx_file='Hong2011.xlsx', \n",
    "                    u='ALII-2_deflection', f='ALII-2_load')\n",
    "dp = get_hong_dp(0.0068, 2, f_cm=27)\n",
    "\n",
    "fig, ax = plot_fw_ver(dp, ver_data, r'ALII-2 - Carbon + Steel', title='Hong et al. 2011', color_i=0)\n",
    "fig\n",
    "# dp.interact()"
   ]
  },
  {
   "cell_type": "code",
   "execution_count": null,
   "metadata": {},
   "outputs": [],
   "source": [
    "# Beam ALII:\n",
    "ver_data = get_data(element1='../verification_data', xlsx_file='Hong2011.xlsx', \n",
    "                    u='ALII_deflection', f='ALII_load')\n",
    "dp = get_hong_dp(0.0068, 0, f_cm=27)\n",
    "\n",
    "plot_fw_ver(dp, ver_data, r'ALII - Steel', ax=ax, color_i=1)\n",
    "fig\n",
    "# dp.interact()"
   ]
  },
  {
   "cell_type": "code",
   "execution_count": null,
   "metadata": {},
   "outputs": [],
   "source": [
    "# Beam AMII-2:\n",
    "ver_data = get_data(element1='../verification_data', xlsx_file='Hong2011.xlsx', \n",
    "                    u='AMII-2_deflection', f='AMII-2_load')\n",
    "dp = get_hong_dp(0.0068, 2, f_cm=34)\n",
    "\n",
    "plot_fw_ver(dp, ver_data, r'AMII-2 - Carbon + Steel', ax=ax, color_i=2)\n",
    "fig\n",
    "# dp.interact()"
   ]
  },
  {
   "cell_type": "code",
   "execution_count": null,
   "metadata": {},
   "outputs": [],
   "source": [
    "# Beam ALII:\n",
    "ver_data = get_data(element1='../verification_data', xlsx_file='Hong2011.xlsx', \n",
    "                    u='AMII_deflection', f='AMII_load')\n",
    "\n",
    "dp = get_hong_dp(0.0068, 0, f_cm=34)\n",
    "\n",
    "plot_fw_ver(dp, ver_data, r'AMII - Steel', ax=ax, color_i=3)\n",
    "fig\n",
    "# dp.interact()"
   ]
  },
  {
   "cell_type": "code",
   "execution_count": null,
   "metadata": {},
   "outputs": [],
   "source": [
    "# Beam AMI-2:\n",
    "ver_data = get_data(element1='../verification_data', xlsx_file='Hong2011.xlsx', \n",
    "                    u='AMI-2_deflection', f='AMI-2_load')\n",
    "\n",
    "dp = get_hong_dp(0.0043, 2, f_cm=34)\n",
    "\n",
    "fig, ax = plot_fw_ver(dp, ver_data, r'AMI-2 - Carbon + Steel', title='Hong et al. 2011', color_i=2)\n",
    "fig\n",
    "# dp.interact()"
   ]
  },
  {
   "cell_type": "code",
   "execution_count": null,
   "metadata": {},
   "outputs": [],
   "source": [
    "# Beam AMIII:\n",
    "ver_data = get_data(element1='../verification_data', xlsx_file='Hong2011.xlsx', \n",
    "                    u='AMIII_deflection', f='AMIII_load')\n",
    "dp = get_hong_dp(0.0098, 0, f_cm=34)\n",
    "\n",
    "fig, ax = plot_fw_ver(dp, ver_data, r'AMIII - Steel', title='Hong et al. 2011', color_i=4)\n",
    "fig\n",
    "# dp.interact()"
   ]
  },
  {
   "cell_type": "code",
   "execution_count": null,
   "metadata": {},
   "outputs": [],
   "source": [
    "# Beam AMIII-1:\n",
    "ver_data = get_data(element1='../verification_data', xlsx_file='Hong2011.xlsx', \n",
    "                    u='AMIII-1_deflection', f='AMIII-1_load')\n",
    "dp = get_hong_dp(0.0098, 1, f_cm=34)\n",
    "\n",
    "fig, ax = plot_fw_ver(dp, ver_data, r'AMIII-1 - Carbon + Steel', title='Hong et al. 2011', color_i=2)\n",
    "fig\n",
    "# dp.interact()"
   ]
  },
  {
   "cell_type": "code",
   "execution_count": null,
   "metadata": {},
   "outputs": [],
   "source": [
    "# Beam AMIII-2:\n",
    "ver_data = get_data(element1='../verification_data', xlsx_file='Hong2011.xlsx', \n",
    "                    u='AMIII-2_deflection', f='AMIII-2_load')\n",
    "dp = get_hong_dp(0.0098, 2, f_cm=34)\n",
    "\n",
    "fig, ax = plot_fw_ver(dp, ver_data, r'AMIII-2 - Carbon + Steel', title='Hong et al. 2011', color_i=2)\n",
    "# plot_fw_ver(dp, ver_data, r'AMIII-2 - Carbon + Steel', ax=ax, color_i=5)\n",
    "\n",
    "fig\n",
    "# dp.interact()"
   ]
  },
  {
   "cell_type": "code",
   "execution_count": null,
   "metadata": {},
   "outputs": [],
   "source": [
    "# Beam AMIII-3:\n",
    "ver_data = get_data(element1='../verification_data', xlsx_file='Hong2011.xlsx', \n",
    "                    u='AMIII-3_deflection', f='AMIII-3_load')\n",
    "dp = get_hong_dp(0.0098, 3, f_cm=34)\n",
    "\n",
    "fig, ax = plot_fw_ver(dp, ver_data, r'AMIII-3 - Carbon + Steel', title='Hong et al. 2011', color_i=2)\n",
    "fig\n",
    "# dp.interact()"
   ]
  },
  {
   "cell_type": "code",
   "execution_count": null,
   "metadata": {},
   "outputs": [],
   "source": [
    "# Beam BMIV:\n",
    "ver_data = get_data(element1='../verification_data', xlsx_file='Hong2011.xlsx', \n",
    "                    u='BMIV_deflection', f='BMIV_load')\n",
    "dp = get_hong_dp(0.0142, 0, f_cm=34, b=400, h=200)\n",
    "\n",
    "fig, ax = plot_fw_ver(dp, ver_data, r'BMIV - Steel', title='Hong et al. 2011', color_i=0)\n",
    "# plot_fw_ver(dp, ver_data, r'BMIV - Steel', ax=ax, color_i=0)\n",
    "\n",
    "fig\n",
    "# dp.interact()"
   ]
  },
  {
   "cell_type": "code",
   "execution_count": null,
   "metadata": {},
   "outputs": [],
   "source": [
    "# Beam BMIV-1:\n",
    "ver_data = get_data(element1='../verification_data', xlsx_file='Hong2011.xlsx', \n",
    "                    u='BMIV-1_deflection', f='BMIV-1_load')\n",
    "dp = get_hong_dp(0.0142, 1, f_cm=34, b=400, h=200)\n",
    "\n",
    "plot_fw_ver(dp, ver_data, r'BMIV-1 - Carbon + Steel', ax=ax, color_i=1)\n",
    "fig\n",
    "# dp.interact()"
   ]
  },
  {
   "cell_type": "code",
   "execution_count": null,
   "metadata": {},
   "outputs": [],
   "source": [
    "# Beam BMIV-3:\n",
    "ver_data = get_data(element1='../verification_data', xlsx_file='Hong2011.xlsx', \n",
    "                    u='BMIV-3_deflection', f='BMIV-3_load')\n",
    "dp = get_hong_dp(0.0142, 3, f_cm=34, b=400, h=200)\n",
    "\n",
    "plot_fw_ver(dp, ver_data, r'BMIV-3 - Carbon + Steel', ax=ax, color_i=2)\n",
    "fig\n",
    "# dp.interact()"
   ]
  },
  {
   "cell_type": "code",
   "execution_count": null,
   "metadata": {},
   "outputs": [],
   "source": [
    "# fig.savefig('LD_Hong2011_BMIV_BMIV-1_BMIV-3.pdf')"
   ]
  },
  {
   "cell_type": "markdown",
   "metadata": {},
   "source": [
    "### Ahmed et al. 2019 (GPC concrete and normal concrete with CFRP bars)\n",
    "https://www.sciencedirect.com/science/article/abs/pii/S0950061819326376"
   ]
  },
  {
   "cell_type": "code",
   "execution_count": null,
   "metadata": {},
   "outputs": [],
   "source": [
    "# Beam C05-GPC35:\n",
    "ver_data = get_data(element1='../verification_data', xlsx_file='Ahmed2019.xlsx', \n",
    "                    u='C05-GPC35_deflection', f='C05-GPC35_load')\n",
    "mc = make_mc(form='rectangular', high_kappa=0.00007, B=110, H=300,\n",
    "             eps_cy=None, eps_cu=None, eps_tu=None,\n",
    "             E_ct=29894, E_cc=29894,\n",
    "             f_cm=33.87,\n",
    "             material_r1='carbon',\n",
    "             material_r2='steel',\n",
    "             A_r1 = 3*np.pi*(6/2)**2, E_r1 = 148000, z_r1=20+6+3, f_t_r1=2000,\n",
    "             A_r2 = 2*np.pi*(6/2)**2,  E_r2 = 200000, z_r2=300-29, f_sy_r2=500,\n",
    "            )\n",
    "\n",
    "dp = get_dp(mc=mc, system='4pb', L=2000, L_F=800)\n",
    "dp.n_load_steps = 100\n",
    "\n",
    "fig, ax = plot_fw_ver(dp, ver_data, r'C05-GPC35 - Carbon', title='Ahmed et al. 2019', color_i=0)\n",
    "fig\n",
    "# dp.interact()"
   ]
  },
  {
   "cell_type": "code",
   "execution_count": null,
   "metadata": {},
   "outputs": [],
   "source": [
    "# Beam C06-GPC35: # NO EXP DATA in EXCEL!!:\n",
    "# ver_data = get_data(element1='../verification_data', xlsx_file='Ahmed2019.xlsx', \n",
    "#                     u='C05-GPC35_deflection', f='C05-GPC35_load')\n",
    "mc = make_mc(form='rectangular', high_kappa=0.00007, B=110, H=300,\n",
    "             eps_cy=None, eps_cu=None, eps_tu=None,\n",
    "             E_ct=27798, E_cc= 27798,\n",
    "             f_cm=30.74,\n",
    "             material_r1='carbon',\n",
    "             material_r2='steel',\n",
    "             A_r1 = 3*np.pi*(6/2)**2, E_r1 = 148000, z_r1=29, f_t_r1=2000,\n",
    "             A_r2 = 2*np.pi*(6/2)**2,  E_r2 = 200000, z_r2=300-29, f_sy_r2=500,\n",
    "            )\n",
    "\n",
    "rl = ReinfLayer(z = 29+30, A = 2*np.pi*(6/2)**2, matmod='carbon')\n",
    "rl.matmod_.trait_set(E = 148000, f_t = 2000)\n",
    "mc.cross_section_layout.add_layer(rl)\n",
    "\n",
    "dp = get_dp(mc=mc, system='4pb', L=2000, L_F=800)\n",
    "dp.n_load_steps = 100\n",
    "\n",
    "# fig, ax = plot_fw_ver(dp, ver_data, r'C06-GPC35 - Carbon', title='Ahmed et al. 2019', color_i=0)\n",
    "# fig\n",
    "dp.interact()"
   ]
  },
  {
   "cell_type": "code",
   "execution_count": null,
   "metadata": {},
   "outputs": [],
   "source": [
    "# Beam C10-OPC35 # NO EXP DATA in EXCEL!!:\n",
    "# ver_data = get_data(element1='../verification_data', xlsx_file='Ahmed2019.xlsx', \n",
    "#                     u='C05-GPC35_deflection', f='C05-GPC35_load')\n",
    "mc = make_mc(form='rectangular', high_kappa=0.00007, B=110, H=300,\n",
    "             eps_cy=None, eps_cu=None, eps_tu=None,\n",
    "             E_ct=28534, E_cc= 28534,\n",
    "             f_cm=34.62,\n",
    "             material_r1='carbon',\n",
    "#              material_r2='steel',\n",
    "             A_r1 = 1*np.pi*(6/2)**2, E_r1 = 148000, z_r1=29, f_t_r1=2000,\n",
    "#              A_r2 = 2*np.pi*(6/2)**2,  E_r2 = 200000, z_r2=300-29, f_sy_r2=500,\n",
    "            )\n",
    "\n",
    "dp = get_dp(mc=mc, system='4pb', L=2000, L_F=800)\n",
    "\n",
    "# fig, ax = plot_fw_ver(dp, ver_data, r'C06-GPC35 - Carbon', title='Ahmed et al. 2019', color_i=0)\n",
    "# fig\n",
    "dp.interact()"
   ]
  },
  {
   "cell_type": "code",
   "execution_count": null,
   "metadata": {},
   "outputs": [],
   "source": [
    "# Beam C11-OPC35 # NO EXP DATA in EXCEL!!:\n",
    "ver_data = get_data(element1='../verification_data', xlsx_file='Ahmed2019.xlsx', \n",
    "                    u='C05-GPC35_deflection', f='C05-GPC35_load')\n",
    "mc = make_mc(form='rectangular', high_kappa=0.00007, B=110, H=300,\n",
    "             eps_cy=None, eps_cu=None, eps_tu=None,\n",
    "             E_ct=28534, E_cc= 28534,\n",
    "             f_cm=34.62,\n",
    "             material_r1='carbon',\n",
    "#              material_r2='steel',\n",
    "             A_r1 = 5*np.pi*(6/2)**2, E_r1 = 148000, z_r1=35, f_t_r1=2000,\n",
    "#              A_r2 = 2*np.pi*(6/2)**2,  E_r2 = 200000, z_r2=300-29, f_sy_r2=500,\n",
    "            )\n",
    "\n",
    "dp = get_dp(mc=mc, system='4pb', L=2000, L_F=800)\n",
    "dp.n_load_steps = 100\n",
    "\n",
    "fig, ax = plot_fw_ver(dp, ver_data, r'C06-GPC35 - Carbon', title='Ahmed et al. 2019', color_i=0)\n",
    "# fig\n",
    "dp.interact()"
   ]
  },
  {
   "cell_type": "markdown",
   "metadata": {},
   "source": [
    "## Verification with T-sections"
   ]
  },
  {
   "cell_type": "markdown",
   "metadata": {},
   "source": [
    "### Qiu (2020) (Carbon textiles + bars)\n",
    "http://dx.doi.org/10.3390/app10134625"
   ]
  },
  {
   "cell_type": "markdown",
   "metadata": {},
   "source": [
    "### Hussain et al. 2013 (Steel, T-section) https://doi.org/10.1016/j.conbuildmat.2012.09.088"
   ]
  },
  {
   "cell_type": "code",
   "execution_count": null,
   "metadata": {},
   "outputs": [],
   "source": [
    "# Beam 1 (Steel):\n",
    "ver_data = get_data(element1='../verification_data/', xlsx_file='Hussain2013.xlsx', \n",
    "                    u='RC1_deflection', f='RC1_load')\n",
    "mc = make_mc(high_kappa=0.00002,\n",
    "             eps_cy=None, eps_cu=None, eps_tu=None,\n",
    "             f_cm=30.7,\n",
    "             E_ct=25742, E_cc=25742, # f_ctm=2.52,\n",
    "            material_r1='steel',\n",
    "             material_r2 = 'steel',\n",
    "             A_r1 = 2*np.pi*(16/2)**2, E_r1 = 206000, z_r1=39, f_sy_r1=420, f_st_r1=595, eps_ud_r1=0.173,\n",
    "             A_r2 = 4*np.pi*(8/2)**2,  E_r2 = 204000, z_r2=340, f_sy_r2=265, f_st_r2=350, eps_ud_r2=0.155,\n",
    "            )\n",
    "rl = ReinfLayer(z = 275, A = 2*np.pi*(8/2)**2, matmod='steel')\n",
    "rl.matmod_.trait_set(E_s = 204000, f_sy = 265, f_st = 350, eps_ud = 0.155)\n",
    "mc.cross_section_layout.add_layer(rl)\n",
    "\n",
    "mc.cross_section_shape = 'T-shape'\n",
    "mc.cross_section_shape_.trait_set(B_f = 400, B_w = 125, H = 375, H_w = 250)\n",
    "\n",
    "dp = get_dp(mc=mc, system='4pb', L=3750, L_F=1325)\n",
    "\n",
    "fig, ax = plot_fw_ver(dp, ver_data, r'Group 1 - Steel', title='Hussain et al. 2013', color_i=0)\n",
    "fig\n",
    "# dp.interact()"
   ]
  },
  {
   "cell_type": "markdown",
   "metadata": {},
   "source": [
    "## Verification with I-sections"
   ]
  },
  {
   "cell_type": "markdown",
   "metadata": {},
   "source": [
    "### Bielak (2020) (Carbon textiles + bars)\n",
    "http://dx.doi.org/10.3390/app10134625"
   ]
  },
  {
   "cell_type": "code",
   "execution_count": null,
   "metadata": {},
   "outputs": [],
   "source": [
    "# Beam FT01 - CFRP Bars + textile\n",
    "\n",
    "ver_data = get_data(element1='../verification_data', xlsx_file='Bielak2020.xlsx', \n",
    "                    u='FT01_deflection', f='FT01_load')\n",
    "\n",
    "E = 38750\n",
    "mc = make_mc(high_kappa=0.000016,\n",
    "             eps_cy=None, eps_cu=None, eps_tu=None,\n",
    "             E_ct=E, E_cc= E,\n",
    "             f_cm=98.8,\n",
    "             eps_cr= 5.58/E,\n",
    "             material_r1='carbon',\n",
    "             A_r1 = 5 * 61.5, E_r1 = 165515, z_r1=34, f_t_r1=1828,\n",
    "            )\n",
    "mc.n_m = 200\n",
    "mc.cross_section_shape = 'I-shape'\n",
    "mc.cross_section_shape_.trait_set(H= 900.0, \n",
    "                                  B_f_bot= 200, \n",
    "                                  H_f_bot= 145, \n",
    "                                  B_w= 50, \n",
    "                                  H_f_top= 145, \n",
    "                                  B_f_top= 200)\n",
    "# Carbon grid\n",
    "z = (900 - 21 * 38) / 2\n",
    "for i in range(22):\n",
    "    rl = ReinfLayer(name='C_grid_' + str(i + 1), z=z, A=2 * 3.62, matmod='carbon')\n",
    "    rl.matmod_.trait_set(E=244835, f_t=3221)\n",
    "    mc.cross_section_layout.add_layer(rl)\n",
    "    z += 38\n",
    "    \n",
    "# Glass grid\n",
    "for z, n_rovings in zip([27, 56, 85, 114], [4, 2, 2, 2]):\n",
    "    gl = ReinfLayer(name='Glass grid', z=z, A=n_rovings * 4.62, matmod='carbon')\n",
    "    gl.matmod_.trait_set(E=70843, f_t=1590)\n",
    "    mc.cross_section_layout.add_layer(gl)\n",
    "\n",
    "dp = DeflectionProfile(mc=mc)\n",
    "dp.beam_design.system = 'simple_beam_dist_load'\n",
    "dp.beam_design.system_.L = 7000\n",
    "dp.n_load_steps = 100\n",
    "\n",
    "fig, ax = plot_fw_ver(dp, ver_data, 'FT01', title='Bielak et al. 2020', color_i=0)\n",
    "# fig\n",
    "# dp.interact()"
   ]
  },
  {
   "cell_type": "code",
   "execution_count": null,
   "metadata": {},
   "outputs": [],
   "source": [
    "# Beam FT02 - CFRP Bars + textile\n",
    "ver_data = get_data(element1='../verification_data', xlsx_file='Bielak2020.xlsx', \n",
    "                    u='FT02_deflection', f='FT02_load')\n",
    "\n",
    "E = 39890\n",
    "mc = make_mc(high_kappa=0.000016,\n",
    "             eps_cy=None, eps_cu=None, eps_tu=None,\n",
    "             E_ct=E, E_cc= E,\n",
    "             f_cm=100,\n",
    "             eps_cr= 5.25/E,\n",
    "            )\n",
    "mc.n_m = 200\n",
    "mc.cross_section_shape = 'I-shape'\n",
    "mc.cross_section_shape_.trait_set(H= 900, \n",
    "                                  B_f_bot= 200, \n",
    "                                  H_f_bot= 145, \n",
    "                                  B_w= 50, \n",
    "                                  H_f_top= 95, \n",
    "                                  B_f_top= 200)\n",
    "mc.cross_section_layout.items = []\n",
    "\n",
    "# Carbon 4 bars' layers\n",
    "z = 34\n",
    "for i in range(4):\n",
    "    rl = ReinfLayer(name='C_bars_' + str(i + 1), z=z, A=5 * 61.5, matmod='carbon')\n",
    "    rl.matmod_.trait_set(E=165515, f_t=1828)\n",
    "    mc.cross_section_layout.add_layer(rl)\n",
    "    z += 25\n",
    "\n",
    "# Carbon grid\n",
    "z = (900 - 21 * 38) / 2\n",
    "for i in range(22):\n",
    "    rl = ReinfLayer(name='C_grid_' + str(i + 1), z=z, A=4 * 3.62, matmod='carbon')\n",
    "    rl.matmod_.trait_set(E=244835, f_t=3221)\n",
    "    mc.cross_section_layout.add_layer(rl)\n",
    "    z += 38\n",
    "\n",
    "# Glass grid\n",
    "for z, n_rovings in zip([27, 56, 85, 114], [4, 2, 2, 2]):\n",
    "    gl = ReinfLayer(name='Glass grid', z=z, A=n_rovings * 4.62, matmod='carbon')\n",
    "    gl.matmod_.trait_set(E=70843, f_t=1590)\n",
    "    mc.cross_section_layout.add_layer(gl)\n",
    "\n",
    "dp = DeflectionProfile(mc=mc)\n",
    "dp.beam_design.system = 'simple_beam_dist_load'\n",
    "dp.beam_design.system_.L = 7000\n",
    "dp.n_load_steps = 100\n",
    "\n",
    "# fig, ax = plot_fw_ver(dp, ver_data, 'FT02', title='Bielak et al. 2020', color_i=0)\n",
    "plot_fw_ver(dp, ver_data, 'FT02', ax=ax, color_i=1)\n",
    "\n",
    "fig\n",
    "# dp.interact()"
   ]
  },
  {
   "cell_type": "code",
   "execution_count": null,
   "metadata": {},
   "outputs": [],
   "source": [
    "# fig.savefig('LD_Bielak2020_FT01_FT02.pdf')"
   ]
  }
 ],
 "metadata": {
  "kernelspec": {
   "display_name": "Python 3 (ipykernel)",
   "language": "python",
   "name": "python3"
  },
  "language_info": {
   "codemirror_mode": {
    "name": "ipython",
    "version": 3
   },
   "file_extension": ".py",
   "mimetype": "text/x-python",
   "name": "python",
   "nbconvert_exporter": "python",
   "pygments_lexer": "ipython3",
   "version": "3.9.12"
  },
  "toc": {
   "base_numbering": 1,
   "nav_menu": {},
   "number_sections": true,
   "sideBar": true,
   "skip_h1_title": false,
   "title_cell": "Table of Contents",
   "title_sidebar": "Contents",
   "toc_cell": false,
   "toc_position": {},
   "toc_section_display": true,
   "toc_window_display": false
  }
 },
 "nbformat": 4,
 "nbformat_minor": 1
}
