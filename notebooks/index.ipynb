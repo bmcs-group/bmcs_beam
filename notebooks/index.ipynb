{
 "cells": [
  {
   "cell_type": "markdown",
   "id": "b281874a-c385-4d25-90dc-f76726e23a69",
   "metadata": {},
   "source": [
    "# **Functionality of the beam package**"
   ]
  },
  {
   "cell_type": "markdown",
   "id": "64549429",
   "metadata": {},
   "source": [
    "## Deflection\n",
    "[Deflection of reinforced beam](deflection/index.ipynb)"
   ]
  },
  {
   "cell_type": "markdown",
   "id": "c000d04f-6095-4af0-8183-92b6a4ede0c7",
   "metadata": {},
   "source": [
    "## Tension \n",
    "\n",
    "[Tensile behavior of brittle matrix composite](tension/index.ipnyb)"
   ]
  },
  {
   "cell_type": "markdown",
   "id": "564a8ad9-2da1-4b3d-b0a1-e161bcfeb9df",
   "metadata": {},
   "source": [
    "## Beam stability "
   ]
  }
 ],
 "metadata": {
  "kernelspec": {
   "display_name": "Python 3",
   "language": "python",
   "name": "python3"
  },
  "language_info": {
   "codemirror_mode": {
    "name": "ipython",
    "version": 3
   },
   "file_extension": ".py",
   "mimetype": "text/x-python",
   "name": "python",
   "nbconvert_exporter": "python",
   "pygments_lexer": "ipython3",
   "version": "3.8.8"
  }
 },
 "nbformat": 4,
 "nbformat_minor": 5
}
