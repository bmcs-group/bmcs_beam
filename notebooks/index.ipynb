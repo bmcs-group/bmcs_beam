{
 "cells": [
  {
   "cell_type": "markdown",
   "id": "b281874a-c385-4d25-90dc-f76726e23a69",
   "metadata": {},
   "source": [
    "# **Functionality of the beam package**"
   ]
  },
  {
   "cell_type": "markdown",
   "id": "c000d04f-6095-4af0-8183-92b6a4ede0c7",
   "metadata": {},
   "source": [
    "## Tension \n",
    "\n",
    "[Tensile behavior of brittle matrix composite](tension/index.ipnyb)"
   ]
  },
  {
   "cell_type": "markdown",
   "id": "7996d1f4-343f-4131-8558-711005a35a6e",
   "metadata": {},
   "source": [
    "## Deflection "
   ]
  },
  {
   "cell_type": "markdown",
   "id": "467a9930-1de4-4333-951a-4f74410786cc",
   "metadata": {},
   "source": [
    "[Deflection of reinforced beam](deflection/index.ipynb)"
   ]
  },
  {
   "cell_type": "markdown",
   "id": "564a8ad9-2da1-4b3d-b0a1-e161bcfeb9df",
   "metadata": {},
   "source": [
    "## Beam stability "
   ]
  }
 ],
 "metadata": {
  "kernelspec": {
   "display_name": "bmcs_env",
   "language": "python",
   "name": "bmcs_env"
  },
  "language_info": {
   "codemirror_mode": {
    "name": "ipython",
    "version": 3
   },
   "file_extension": ".py",
   "mimetype": "text/x-python",
   "name": "python",
   "nbconvert_exporter": "python",
   "pygments_lexer": "ipython3",
   "version": "3.8.8"
  }
 },
 "nbformat": 4,
 "nbformat_minor": 5
}
