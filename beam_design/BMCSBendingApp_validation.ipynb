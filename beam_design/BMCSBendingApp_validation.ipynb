{
 "cells": [
  {
   "cell_type": "markdown",
   "metadata": {},
   "source": [
    "Validation\n",
    "Reference: \n",
    "\n",
    "@article{Yao.2020,\n",
    " abstract = {Structural Concrete 0.0:null-null},\n",
    " author = {Yao, Yiming and Mobasher, Barzin and Wang, Jingquan and Xu, Qizhi},\n",
    " year = {2020},\n",
    " title = {Analytical approach for the design of flexural elements made of reinforced ultra--high performance concrete},\n",
    " issn = {1464-4177},\n",
    " journal = {Structural Concrete},\n",
    " doi = {10.1002/suco.201900404},\n",
    "}\n"
   ]
  },
  {
   "cell_type": "code",
   "execution_count": null,
   "metadata": {},
   "outputs": [],
   "source": [
    "%matplotlib widget\n",
    "# Documentation needed for ipyml - notifications on push from github\n",
    "\n",
    "import sympy as sp\n",
    "from bmcs_beam.beam_design.boundary_conditions import BeamBending, MomentCurvatureProfile\n",
    "# from bmcs_beam.beam_design.cross_section_shape import Rectangle, CrossSectionShape, TShape\n",
    "from bmcs_beam.beam_design.boundary_conditions import BoundaryConditions\n",
    "from bmcs_beam.beam_design.deflection_profile import DeflectionProfile\n",
    "from bmcs_beam.moment_curvature.moment_curvature import MomentCurvature\n",
    "from bmcs_utils.api import InteractiveWindow\n",
    "from sympy.physics.continuum_mechanics.beam import Beam\n",
    "\n",
    "\n",
    "sp.init_printing()"
   ]
  },
  {
   "cell_type": "markdown",
   "metadata": {},
   "source": [
    "### beam configuration"
   ]
  },
  {
   "cell_type": "code",
   "execution_count": null,
   "metadata": {},
   "outputs": [],
   "source": [
    "# 4 point bending example\n",
    "\n",
    "x, E, I, F = sp.symbols('x E I F')\n",
    "l = sp.symbols('l', positive=True)\n",
    "beam_conf = Beam(l, E, I)\n",
    "R1,R2 = sp.symbols('R1  R2')\n",
    "beam_conf.apply_load(R1, 0, -1)\n",
    "beam_conf.apply_load(R2, l, -1)\n",
    "beam_conf.apply_load(-F, l/3, -1)\n",
    "beam_conf.apply_load(-F, 2*l/3, -1)\n",
    "beam_conf.bc_deflection = [(0, 0),(l, 0)]\n",
    "beam_conf.solve_for_reaction_loads(R1, R2)"
   ]
  },
  {
   "cell_type": "code",
   "execution_count": null,
   "metadata": {},
   "outputs": [],
   "source": [
    "mc = MomentCurvature()\n",
    "\n",
    "mc_profile = MomentCurvatureProfile(mc = mc)\n",
    "\n",
    "deflection_profile = DeflectionProfile(mc = mc)\n",
    "\n",
    "windows = InteractiveWindow([deflection_profile,\n",
    "                             BeamBending(),         # deflection_profile.beam_bending\n",
    "                             BoundaryConditions(),  # deflection_profile.boundary_conditions\n",
    "                             mc_profile,            # TODO: replace this with mc later\n",
    "                             mc.cross_section_layout,\n",
    "                             mc.beam_design,\n",
    "                             mc.cross_section_shape])\n",
    "windows.interact()"
   ]
  },
  {
   "cell_type": "code",
   "execution_count": null,
   "metadata": {},
   "outputs": [],
   "source": []
  },
  {
   "cell_type": "code",
   "execution_count": null,
   "metadata": {
    "pycharm": {
     "name": "#%%\n"
    }
   },
   "outputs": [],
   "source": [
    "%matplotlib widget\n",
    "# Documentation needed for ipyml - notifications on push from github\n",
    "\n",
    "import sympy as sp\n",
    "from bmcs_beam.beam_design.boundary_conditions import BeamBending, MomentCurvatureProfile\n",
    "# from bmcs_beam.beam_design.cross_section_shape import Rectangle, CrossSectionShape, TShape\n",
    "from bmcs_beam.beam_design.boundary_conditions import BoundaryConditions\n",
    "from bmcs_beam.beam_design.deflection_profile import DeflectionProfile\n",
    "from bmcs_beam.moment_curvature.moment_curvature import MomentCurvature\n",
    "from bmcs_utils.api import InteractiveWindow\n",
    "\n",
    "sp.init_printing()\n",
    "\n",
    "# https://docs.sympy.org/latest/modules/physics/continuum_mechanics/beam_problems.html"
   ]
  },
  {
   "cell_type": "markdown",
   "metadata": {},
   "source": [
    "### beam configuration examples\n"
   ]
  },
  {
   "cell_type": "markdown",
   "metadata": {},
   "source": [
    "![Figure%2033-2.png](attachment:Figure%2033-2.png)"
   ]
  },
  {
   "cell_type": "code",
   "execution_count": null,
   "metadata": {
    "pycharm": {
     "name": "#%%\n"
    }
   },
   "outputs": [],
   "source": [
    "mc = MomentCurvature()\n",
    "\n",
    "mc_profile = MomentCurvatureProfile(mc = mc)\n",
    "\n",
    "deflection_profile = DeflectionProfile(mc = mc)\n",
    "\n",
    "windows = InteractiveWindow([deflection_profile,\n",
    "                             BeamBending(),         # deflection_profile.beam_bending\n",
    "                             BoundaryConditions(),  # deflection_profile.boundary_conditions\n",
    "                             mc_profile,            # TODO: replace this with mc later\n",
    "                             mc.cross_section_layout,\n",
    "                             mc.beam_design,\n",
    "                             mc.cross_section_shape])\n",
    "windows.interact()\n",
    "\n",
    "\n"
   ]
  }
 ],
 "metadata": {
  "kernelspec": {
   "display_name": "Python 3",
   "language": "python",
   "name": "python3"
  },
  "language_info": {
   "codemirror_mode": {
    "name": "ipython",
    "version": 3
   },
   "file_extension": ".py",
   "mimetype": "text/x-python",
   "name": "python",
   "nbconvert_exporter": "python",
   "pygments_lexer": "ipython3",
   "version": "3.8.3"
  }
 },
 "nbformat": 4,
 "nbformat_minor": 1
}
