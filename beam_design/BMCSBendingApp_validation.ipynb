{
 "cells": [
  {
   "cell_type": "markdown",
   "metadata": {},
   "source": [
    "Validation\n",
    "Reference: \n",
    "\n",
    "@article{Yao.2020,\n",
    " abstract = {Structural Concrete 0.0:null-null},\n",
    " author = {Yao, Yiming and Mobasher, Barzin and Wang, Jingquan and Xu, Qizhi},\n",
    " year = {2020},\n",
    " title = {Analytical approach for the design of flexural elements made of reinforced ultra--high performance concrete},\n",
    " issn = {1464-4177},\n",
    " journal = {Structural Concrete},\n",
    " doi = {10.1002/suco.201900404},\n",
    "}\n"
   ]
  },
  {
   "cell_type": "code",
   "execution_count": null,
   "metadata": {},
   "outputs": [],
   "source": [
    "%matplotlib widget\n",
    "\n",
    "from bmcs_beam.moment_curvature.moment_curvature import MomentCurvature\n",
    "from bmcs_beam.beam_design.boundary_conditions import BoundaryConditions\n",
    "from bmcs_beam.beam_design.mq_profile import MQPProfile\n",
    "from bmcs_beam.beam_design.mk_profile import MomentCurvatureProfile\n",
    "from bmcs_beam.beam_design.deflection_profile import DeflectionProfile\n",
    "from bmcs_utils.api import InteractiveWindow\n",
    "from sympy.physics.continuum_mechanics.beam import Beam"
   ]
  },
  {
   "cell_type": "code",
   "execution_count": null,
   "metadata": {},
   "outputs": [],
   "source": [
    "mc = MomentCurvature()\n",
    "\n",
    "mc_profile = MomentCurvatureProfile(mc = mc)\n",
    "\n",
    "deflection_profile = DeflectionProfile(mc = mc)\n",
    "\n",
    "windows = InteractiveWindow([mc.cross_section_shape,\n",
    "                             mc.cross_section_layout,\n",
    "                             mc.beam_design,\n",
    "                             BoundaryConditions(),  # deflection_profile.boundary_conditions\n",
    "                             MQPProfile(),         # deflection_profile.beam_bending\n",
    "                             mc_profile,            # TODO: replace this with mc later\n",
    "                             #deflection_profile,        # debugging is needed in the momentcurvature package                     \n",
    "                             ])\n",
    "windows.interact()"
   ]
  }
 ],
 "metadata": {
  "kernelspec": {
   "display_name": "Python 3",
   "language": "python",
   "name": "python3"
  },
  "language_info": {
   "codemirror_mode": {
    "name": "ipython",
    "version": 3
   },
   "file_extension": ".py",
   "mimetype": "text/x-python",
   "name": "python",
   "nbconvert_exporter": "python",
   "pygments_lexer": "ipython3",
   "version": "3.8.3"
  }
 },
 "nbformat": 4,
 "nbformat_minor": 1
}
