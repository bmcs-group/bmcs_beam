{
 "cells": [
  {
   "cell_type": "markdown",
   "metadata": {
    "pycharm": {
     "name": "#%% md\n"
    }
   },
   "source": [
    "## Beam deflection with double integration"
   ]
  },
  {
   "cell_type": "code",
   "execution_count": null,
   "metadata": {
    "pycharm": {
     "name": "#%%\n"
    }
   },
   "outputs": [],
   "source": [
    "%matplotlib widget\n",
    "# Documentation needed for ipyml - notifications on push from github\n",
    "\n",
    "import sympy as sp\n",
    "from bmcs_beam.beam_design.boundary_conditions import BeamBending, MomentCurvatureProfile\n",
    "# from bmcs_beam.beam_design.cross_section_shape import Rectangle, CrossSectionShape, TShape\n",
    "from bmcs_beam.beam_design.boundary_conditions import BoundaryConditions\n",
    "from bmcs_beam.beam_design.deflection_profile import DeflectionProfile\n",
    "from bmcs_beam.moment_curvature.moment_curvature import MomentCurvature\n",
    "from bmcs_utils.api import InteractiveWindow\n",
    "\n",
    "sp.init_printing()\n",
    "\n",
    "# https://docs.sympy.org/latest/modules/physics/continuum_mechanics/beam_problems.html"
   ]
  },
  {
   "cell_type": "markdown",
   "metadata": {},
   "source": [
    "### beam configuration examples\n"
   ]
  },
  {
   "attachments": {
    "Figure%2033-2.png": {
     "image/png": "[encoded data removed]"
    }
   },
   "cell_type": "markdown",
   "metadata": {},
   "source": [
    "![Figure%2033-2.png](attachment:Figure%2033-2.png)"
   ]
  },
  {
   "cell_type": "code",
   "execution_count": null,
   "metadata": {
    "pycharm": {
     "name": "#%%\n"
    }
   },
   "outputs": [],
   "source": [
    "mc = MomentCurvature()\n",
    "\n",
    "mc_profile = MomentCurvatureProfile(mc = mc)\n",
    "\n",
    "deflection_profile = DeflectionProfile(mc = mc)\n",
    "\n",
    "windows = InteractiveWindow([deflection_profile,\n",
    "                             BeamBending(),         # deflection_profile.beam_bending\n",
    "                             BoundaryConditions(),  # deflection_profile.boundary_conditions\n",
    "                             mc_profile,            # TODO: replace this with mc later\n",
    "                             mc.cross_section_layout,\n",
    "                             mc.beam_design,\n",
    "                             mc.cross_section_shape])\n",
    "windows.interact()"
   ]
  },
  {
   "cell_type": "code",
   "execution_count": null,
   "metadata": {
    "pycharm": {
     "name": "#%%\n"
    }
   },
   "outputs": [],
   "source": [
    "\n"
   ]
  }
 ],
 "metadata": {
  "kernelspec": {
   "display_name": "Python 3",
   "language": "python",
   "name": "python3"
  },
  "language_info": {
   "codemirror_mode": {
    "name": "ipython",
    "version": 3
   },
   "file_extension": ".py",
   "mimetype": "text/x-python",
   "name": "python",
   "nbconvert_exporter": "python",
   "pygments_lexer": "ipython3",
   "version": "3.8.3"
  },
  "toc": {
   "base_numbering": 1,
   "nav_menu": {},
   "number_sections": true,
   "sideBar": true,
   "skip_h1_title": false,
   "title_cell": "Table of Contents",
   "title_sidebar": "Contents",
   "toc_cell": false,
   "toc_position": {
    "height": "calc(100% - 180px)",
    "left": "10px",
    "top": "150px",
    "width": "165px"
   },
   "toc_section_display": true,
   "toc_window_display": true
  }
 },
 "nbformat": 4,
 "nbformat_minor": 1
}
