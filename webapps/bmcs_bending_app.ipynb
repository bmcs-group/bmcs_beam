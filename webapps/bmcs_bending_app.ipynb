{
 "cells": [
  {
   "cell_type": "code",
   "execution_count": null,
   "metadata": {},
   "outputs": [],
   "source": [
    "%matplotlib widget\n",
    "from bmcs_cross_section.api import MKappa, ReinfLayer\n",
    "from bmcs_beam.api import DeflectionProfile"
   ]
  },
  {
   "cell_type": "code",
   "execution_count": null,
   "metadata": {},
   "outputs": [],
   "source": [
    "mc = MKappa(high_kappa = 0.000032)\n",
    "\n",
    "bl1 = ReinfLayer(name = 'steel', z=25, A=2 * 3.1416 * 8**2, matmod='steel')\n",
    "bl1.matmod_.trait_set(E_s=200000, f_sy=550)\n",
    "mc.cross_section_layout.add_layer(bl1)\n",
    "\n",
    "bl2 = ReinfLayer(name = 'carbon', z=10, A=2 * 3.1416 * 6**2, matmod='carbon')\n",
    "bl2.matmod_.trait_set(E=160000, f_t=2500)\n",
    "mc.cross_section_layout.add_layer(bl2)\n",
    "\n",
    "dp = DeflectionProfile(mc=mc)\n",
    "dp.interact()"
   ]
  }
 ],
 "metadata": {
  "kernelspec": {
   "display_name": "Python 3 (ipykernel)",
   "language": "python",
   "name": "python3"
  },
  "language_info": {
   "codemirror_mode": {
    "name": "ipython",
    "version": 3
   },
   "file_extension": ".py",
   "mimetype": "text/x-python",
   "name": "python",
   "nbconvert_exporter": "python",
   "pygments_lexer": "ipython3",
   "version": "3.9.12"
  },
  "toc": {
   "base_numbering": 1,
   "nav_menu": {},
   "number_sections": true,
   "sideBar": true,
   "skip_h1_title": false,
   "title_cell": "Table of Contents",
   "title_sidebar": "Contents",
   "toc_cell": false,
   "toc_position": {},
   "toc_section_display": true,
   "toc_window_display": true
  }
 },
 "nbformat": 4,
 "nbformat_minor": 4
}
