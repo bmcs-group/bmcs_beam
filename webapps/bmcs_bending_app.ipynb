{
 "cells": [
  {
   "cell_type": "code",
   "execution_count": null,
   "metadata": {},
   "outputs": [],
   "source": [
    "%matplotlib widget\n",
    "from bmcs_beam.beam_bc.boundary_conditions import BoundaryConditions\n",
    "from bmcs_beam.beam_bc.mq_profile import MQPProfile\n",
    "from bmcs_beam.beam_bc.beam_design import BeamDesign\n",
    "\n",
    "from bmcs_beam.bending.deflection_profile import DeflectionProfile\n",
    "from bmcs_cross_section.mkappa.mkappa import MKappa\n",
    "\n",
    "from bmcs_utils.api import InteractiveWindow\n",
    "from sympy.physics.continuum_mechanics.beam import Beam\n",
    "import bmcs_utils.api as bu\n",
    "\n"
   ]
  },
  {
   "cell_type": "code",
   "execution_count": null,
   "metadata": {},
   "outputs": [],
   "source": [
    "mc = MKappa(low_kappa=-0.000014, high_kappa=0.00003)\n",
    "bd = BeamDesign()\n",
    "css = bd.cross_section_shape\n",
    "csl = bd.cross_section_layout\n",
    "csl.reinforcement.z_j = [10]\n",
    "dp = DeflectionProfile(mc=mc)\n",
    "dp.bd\n",
    "bu.InteractiveWindow([css, csl, bd, mc.matrix, dp.bc, dp, dp.mc, mc], tight_layout=True).interact()"
   ]
  }
 ],
 "metadata": {
  "kernelspec": {
   "display_name": "bmcs_env",
   "language": "python",
   "name": "bmcs_env"
  },
  "language_info": {
   "codemirror_mode": {
    "name": "ipython",
    "version": 3
   },
   "file_extension": ".py",
   "mimetype": "text/x-python",
   "name": "python",
   "nbconvert_exporter": "python",
   "pygments_lexer": "ipython3"
  },
  "toc": {
   "base_numbering": 1,
   "nav_menu": {},
   "number_sections": true,
   "sideBar": true,
   "skip_h1_title": false,
   "title_cell": "Table of Contents",
   "title_sidebar": "Contents",
   "toc_cell": false,
   "toc_position": {},
   "toc_section_display": true,
   "toc_window_display": true
  }
 },
 "nbformat": 4,
 "nbformat_minor": 1
}
