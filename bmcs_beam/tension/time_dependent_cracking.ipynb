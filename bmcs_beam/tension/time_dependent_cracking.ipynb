{
 "cells": [
  {
   "cell_type": "markdown",
   "metadata": {},
   "source": [
    "# Time dependent tensile response "
   ]
  },
  {
   "cell_type": "code",
   "execution_count": null,
   "metadata": {},
   "outputs": [],
   "source": [
    "%matplotlib widget\n",
    "import matplotlib.pylab as plt\n",
    "from bmcs_beam.tension.time_dependent_cracking import TimeDependentCracking"
   ]
  },
  {
   "cell_type": "code",
   "execution_count": null,
   "metadata": {},
   "outputs": [],
   "source": [
    "import sympy as sp\n",
    "sp.init_printing()\n",
    "import numpy as np"
   ]
  },
  {
   "cell_type": "markdown",
   "metadata": {},
   "source": [
    "# Single material point"
   ]
  },
  {
   "cell_type": "markdown",
   "metadata": {},
   "source": [
    "## Time dependent function"
   ]
  },
  {
   "cell_type": "code",
   "execution_count": null,
   "metadata": {},
   "outputs": [],
   "source": [
    "TimeDependentCracking(T_prime_0 = 100).interact()"
   ]
  },
  {
   "cell_type": "markdown",
   "metadata": {},
   "source": [
    "### Time-dependent temperature evolution function\n",
    "\n",
    "Find a suitable continuous function that can represent the temperature evolution during the hydration. Currently the a function of a Weibull type has been chosen and transformed such that the peak value and the corresponding time can be specified as a parameter."
   ]
  },
  {
   "cell_type": "code",
   "execution_count": null,
   "metadata": {},
   "outputs": [],
   "source": [
    "t = sp.symbols('t', nonnegative=True)"
   ]
  },
  {
   "cell_type": "code",
   "execution_count": null,
   "metadata": {},
   "outputs": [],
   "source": [
    "T_m = sp.Symbol(\"T_m\", positive = True) \n",
    "T_s = sp.Symbol(\"T_s\", positive = True) "
   ]
  },
  {
   "cell_type": "code",
   "execution_count": null,
   "metadata": {},
   "outputs": [],
   "source": [
    "omega_fn = 1 - sp.exp(-(t/T_s)**T_m)"
   ]
  },
  {
   "cell_type": "code",
   "execution_count": null,
   "metadata": {},
   "outputs": [],
   "source": [
    "T_prime_0 = sp.Symbol(\"T_prime_0\", positive = True)"
   ]
  },
  {
   "cell_type": "code",
   "execution_count": null,
   "metadata": {},
   "outputs": [],
   "source": [
    "T_t = (1 - omega_fn) * T_prime_0 * t"
   ]
  },
  {
   "cell_type": "markdown",
   "metadata": {},
   "source": [
    "**Shape functions for temperature evolution**"
   ]
  },
  {
   "cell_type": "code",
   "execution_count": null,
   "metadata": {},
   "outputs": [],
   "source": [
    "T_t"
   ]
  },
  {
   "cell_type": "code",
   "execution_count": null,
   "metadata": {},
   "outputs": [],
   "source": [
    "T_prime_t = sp.simplify(T_t.diff(t))\n",
    "T_prime_t"
   ]
  },
  {
   "cell_type": "markdown",
   "metadata": {},
   "source": [
    "**Transform the shape function**\n",
    "to be able to explicitly specify the maximum temperature and corresponding time "
   ]
  },
  {
   "cell_type": "code",
   "execution_count": null,
   "metadata": {},
   "outputs": [],
   "source": [
    "t_argmax_T = sp.Symbol(\"t_argmax_T\")\n",
    "T_s_sol = sp.solve( sp.Eq( sp.solve(T_prime_t,t)[0], t_argmax_T ), T_s)[0]"
   ]
  },
  {
   "cell_type": "code",
   "execution_count": null,
   "metadata": {},
   "outputs": [],
   "source": [
    "T_max = sp.Symbol(\"T_max\", positive=True)\n",
    "T_prime_0_sol = sp.solve(sp.Eq(T_t.subs(T_s, T_s_sol).subs(t, t_argmax_T), T_max), \n",
    "                         T_prime_0)[0]"
   ]
  },
  {
   "cell_type": "code",
   "execution_count": null,
   "metadata": {},
   "outputs": [],
   "source": [
    "T_max_t = sp.simplify( T_t.subs({T_s: T_s_sol, T_prime_0: T_prime_0_sol}) )\n",
    "T_max_t"
   ]
  },
  {
   "cell_type": "code",
   "execution_count": null,
   "metadata": {},
   "outputs": [],
   "source": [
    "get_T_t = sp.lambdify((t, T_prime_0, T_m, T_s), T_t)\n",
    "get_T_max_t = sp.lambdify((t, T_max, t_argmax_T, T_m), T_max_t)\n",
    "data = dict(T_prime_0=100, T_m=1, T_s=1)"
   ]
  },
  {
   "cell_type": "code",
   "execution_count": null,
   "metadata": {},
   "outputs": [],
   "source": [
    "_, ax = plt.subplots(1,1)\n",
    "t_range = np.linspace(0,10,100)\n",
    "plt.plot(t_range, get_T_t(t_range, **data));\n",
    "plt.plot(t_range, get_T_max_t(t_range, 37, 1., 2));"
   ]
  },
  {
   "cell_type": "markdown",
   "metadata": {},
   "source": [
    "### Time dependent compressive strength"
   ]
  },
  {
   "cell_type": "markdown",
   "metadata": {},
   "source": [
    "**From Eurocode 2:** \n",
    "$s$ captures the effect of cement type on the time evolution of the compressive strength\n",
    "it ranges from $s = 0.2$ for class R (rapid), $s = 0.25$ for class N (normal), and $s = 0.38$ for class S (slow)."
   ]
  },
  {
   "cell_type": "code",
   "execution_count": null,
   "metadata": {},
   "outputs": [],
   "source": [
    "s = sp.Symbol(\"s\", positive=True) "
   ]
  },
  {
   "cell_type": "code",
   "execution_count": null,
   "metadata": {},
   "outputs": [],
   "source": [
    "beta_cc = sp.exp( s * (1 - sp.sqrt(28/t)))\n",
    "beta_cc"
   ]
  },
  {
   "cell_type": "code",
   "execution_count": null,
   "metadata": {},
   "outputs": [],
   "source": [
    "get_beta_cc = sp.lambdify((t, s), beta_cc )"
   ]
  },
  {
   "cell_type": "code",
   "execution_count": null,
   "metadata": {},
   "outputs": [],
   "source": [
    "_, ax = plt.subplots(1,1)\n",
    "plt.plot(t_range, get_beta_cc(t_range, 0.2))"
   ]
  },
  {
   "cell_type": "markdown",
   "metadata": {},
   "source": [
    "### Compressive strength"
   ]
  },
  {
   "cell_type": "code",
   "execution_count": null,
   "metadata": {},
   "outputs": [],
   "source": [
    "f_cm_28 = sp.Symbol(\"f_cm28\", positive=True)\n",
    "f_cm_28"
   ]
  },
  {
   "cell_type": "code",
   "execution_count": null,
   "metadata": {},
   "outputs": [],
   "source": [
    "f_cm_t = beta_cc * f_cm_28\n",
    "f_cm_t"
   ]
  },
  {
   "cell_type": "code",
   "execution_count": null,
   "metadata": {},
   "outputs": [],
   "source": [
    "get_f_cm_t = sp.lambdify((t, f_cm_28, s), f_cm_t)"
   ]
  },
  {
   "cell_type": "markdown",
   "metadata": {},
   "source": [
    "### Tensile strength"
   ]
  },
  {
   "cell_type": "code",
   "execution_count": null,
   "metadata": {},
   "outputs": [],
   "source": [
    "f_ctm = sp.Symbol(\"f_ctm\", positive=True)\n",
    "alpha_f = sp.Symbol(\"alpha_f\", positive=True)"
   ]
  },
  {
   "cell_type": "code",
   "execution_count": null,
   "metadata": {},
   "outputs": [],
   "source": [
    "f_ctm_t = beta_cc * f_ctm\n",
    "f_ctm_t"
   ]
  },
  {
   "cell_type": "code",
   "execution_count": null,
   "metadata": {},
   "outputs": [],
   "source": [
    "get_f_ctm_t = sp.lambdify((t, f_ctm, s), f_ctm_t)"
   ]
  },
  {
   "cell_type": "markdown",
   "metadata": {},
   "source": [
    "### Elastic modulus"
   ]
  },
  {
   "cell_type": "code",
   "execution_count": null,
   "metadata": {},
   "outputs": [],
   "source": [
    "E_cm_28 = sp.Symbol(\"E_cm28\", positive=True)"
   ]
  },
  {
   "cell_type": "code",
   "execution_count": null,
   "metadata": {},
   "outputs": [],
   "source": [
    "E_cm_t = (f_cm_t / f_cm_28)**0.3 * E_cm_28\n",
    "E_cm_t"
   ]
  },
  {
   "cell_type": "code",
   "execution_count": null,
   "metadata": {},
   "outputs": [],
   "source": [
    "get_E_cm_t = sp.lambdify((t, E_cm_28, s), E_cm_t)"
   ]
  },
  {
   "cell_type": "markdown",
   "metadata": {},
   "source": [
    "## Uncracked state"
   ]
  },
  {
   "cell_type": "markdown",
   "metadata": {},
   "source": [
    "- Specimen is clamped at both sides. Then $\\varepsilon_\\mathrm{app} = 0, \\forall x \\in \\Omega$"
   ]
  },
  {
   "cell_type": "markdown",
   "metadata": {},
   "source": [
    "- Then the matrix stress is given as\n",
    "\\begin{align}\n",
    " \\sigma^\\mathrm{m}(x,t) = - E^\\mathrm{m}(t) \n",
    " \\cdot \\alpha \\int_0^t T^\\prime(x,\\theta)\\, \\mathrm{d}\\theta\n",
    "\\end{align}"
   ]
  },
  {
   "cell_type": "code",
   "execution_count": null,
   "metadata": {},
   "outputs": [],
   "source": [
    "alpha = sp.Symbol(\"alpha\", positive=True )"
   ]
  },
  {
   "cell_type": "code",
   "execution_count": null,
   "metadata": {},
   "outputs": [],
   "source": [
    "eps_eff = alpha * T_max_t"
   ]
  },
  {
   "cell_type": "code",
   "execution_count": null,
   "metadata": {},
   "outputs": [],
   "source": [
    "dot_T_max_t = sp.simplify(T_max_t.diff(t))"
   ]
  },
  {
   "cell_type": "code",
   "execution_count": null,
   "metadata": {},
   "outputs": [],
   "source": [
    "dot_eps_eff = alpha * dot_T_max_t\n",
    "dot_E_cm_t = E_cm_t.diff(t)"
   ]
  },
  {
   "cell_type": "code",
   "execution_count": null,
   "metadata": {},
   "outputs": [],
   "source": [
    "sig_t = E_cm_t * eps_eff"
   ]
  },
  {
   "cell_type": "code",
   "execution_count": null,
   "metadata": {},
   "outputs": [],
   "source": [
    "dot_sig_t = E_cm_t * dot_eps_eff + dot_E_cm_t * eps_eff"
   ]
  },
  {
   "cell_type": "code",
   "execution_count": null,
   "metadata": {},
   "outputs": [],
   "source": [
    "sp.simplify(dot_sig_t)"
   ]
  },
  {
   "cell_type": "markdown",
   "metadata": {},
   "source": [
    "Integral cannot be resolved algebraically - numerical integration is used"
   ]
  },
  {
   "cell_type": "code",
   "execution_count": null,
   "metadata": {},
   "outputs": [],
   "source": [
    "#sig2_t = sp.integrate(dot_sig_t, (t,0,t))"
   ]
  },
  {
   "cell_type": "markdown",
   "metadata": {},
   "source": [
    "# Single crack state"
   ]
  },
  {
   "cell_type": "markdown",
   "metadata": {},
   "source": [
    "## Time-dependent debonding process"
   ]
  },
  {
   "cell_type": "markdown",
   "metadata": {},
   "source": [
    "### Fibers"
   ]
  },
  {
   "cell_type": "markdown",
   "metadata": {},
   "source": [
    "- If there is a crack at $x_I$, then there can be non-zero apparent strains within the debonded zone - measurable using local strain sensors, i.e. \n",
    "\\begin{align}\n",
    "\\exists x \\in (L_I^{(-)},L_I^{(+)}), \\; \\varepsilon_\\mathrm{app}^\\mathrm{f}(x,t) \\neq 0.\n",
    "\\end{align}\n",
    "- However, the integral of apparent strain in the fibers must disappear within the debonded zone, i.e. \n",
    "\\begin{align}\n",
    "\\int_{L^{(-)}}^{L^{(+)}}\\varepsilon^\\mathrm{f}_\\mathrm{app}(x,t)\\, \\mathrm{d}x = 0\n",
    "\\end{align}"
   ]
  },
  {
   "cell_type": "markdown",
   "metadata": {},
   "source": [
    "- Crack bridging fiber stress is given as\n",
    "\\begin{align}\n",
    "  \\sigma^{\\mathrm{f}}(x=0, t) = E^{\\mathrm{f}} \\varepsilon^{\\mathrm{f}}_\\mathrm{eff}(x=0, t) \n",
    "\\end{align}"
   ]
  },
  {
   "cell_type": "markdown",
   "metadata": {},
   "source": [
    "### Matrix"
   ]
  },
  {
   "cell_type": "markdown",
   "metadata": {},
   "source": [
    " - The integrated apparent strain in the matrix must be equal to crack opening $w_I$, i.e.\n",
    "\\begin{align}\n",
    "\\int_{L_I^{(-)}}^{L_I^{(+)}}\\varepsilon^\\mathrm{m}_\\mathrm{app}(x,t)\\, \\mathrm{d}x + w_I = 0\n",
    "\\end{align}"
   ]
  },
  {
   "cell_type": "markdown",
   "metadata": {},
   "source": [
    "- Considering symmetry, we can write\n",
    "\\begin{align}\n",
    "\\int_{0}^{L_I^{(+)}}\\varepsilon^\\mathrm{m}_\\mathrm{app}(x,t)\\, \\mathrm{d}x \n",
    "+ \\frac{1}{2} w_I(t) = 0\n",
    "\\end{align}"
   ]
  },
  {
   "cell_type": "markdown",
   "metadata": {},
   "source": [
    "This relation holds for a homogeneous strain distribution along the bar specimen. \n",
    "Considering a non reinforced concrete bar, it is possible to detect the time of \n",
    "a crack occurrence by requiring setting:"
   ]
  },
  {
   "cell_type": "markdown",
   "metadata": {},
   "source": [
    "\\begin{align}\n",
    " f_\\mathrm{ct}(t) = \\sigma_\\mathrm{c}(t)\n",
    "\\end{align}"
   ]
  },
  {
   "cell_type": "markdown",
   "metadata": {},
   "source": [
    "# Multiple cracks"
   ]
  },
  {
   "cell_type": "markdown",
   "metadata": {},
   "source": [
    "The temperature development during the hydration process follows the relation\n",
    "\\begin{align}\n",
    " T(t,x)\n",
    "\\end{align}"
   ]
  },
  {
   "cell_type": "markdown",
   "metadata": {},
   "source": [
    "At the same time, the material parameters of the concrete matrix and of bond are \n",
    "defined as time functions\n",
    "\\begin{align}\n",
    " E(t), f_\\mathrm{ct}(t), \\tau(t)\n",
    "\\end{align}"
   ]
  },
  {
   "cell_type": "markdown",
   "metadata": {},
   "source": [
    "Temperature-induced concrete strain in a point $x$ at time $t$ is expressed as\n",
    "\\begin{align}\n",
    "\\bar{\\varepsilon}_{T}(t,x) = \\alpha \\int_0^t \\frac{\\mathrm{d} T(t,x)}{\\mathrm{d} t} {\\mathrm{d} t}\n",
    "\\end{align}"
   ]
  },
  {
   "cell_type": "markdown",
   "metadata": {},
   "source": [
    "\\begin{align}\n",
    "\\bar{\\varepsilon}_\\mathrm{app} = \\bar{\\varepsilon}_\\mathrm{eff} + \\bar{\\varepsilon}_\\mathrm{\\Delta T}\n",
    "\\end{align}"
   ]
  },
  {
   "cell_type": "markdown",
   "metadata": {},
   "source": [
    "If the apparent strain is suppressed, i.e. $\\bar{\\varepsilon}_\\mathrm{app} = 0$, the effective stress is given as\n",
    "\\begin{align}\n",
    " 0 = \\bar{\\varepsilon}_\\mathrm{eff} + \n",
    " \\bar{\\varepsilon}_{\\Delta T} \\implies \n",
    " \\bar{\\varepsilon}_\\mathrm{eff} = - \\alpha \\Delta T\n",
    "\\end{align}"
   ]
  },
  {
   "cell_type": "markdown",
   "metadata": {},
   "source": [
    "More precisely, this equation reads\n",
    "\\begin{align}\n",
    "\\bar{\\varepsilon}_\\mathrm{eff}(t) = - \\alpha \\, \\int_0^t \\frac{\\mathrm{d}T}{ \\mathrm{d}t}  \\, \\mathrm{d} t\n",
    "\\end{align}"
   ]
  },
  {
   "cell_type": "markdown",
   "metadata": {},
   "source": [
    "Current force at the boundary of the specimen is then given as\n",
    "\\begin{align}\n",
    "\\sigma = E(t) \\, \\varepsilon_{\\mathrm{eff}}(t)\n",
    "\\end{align}"
   ]
  },
  {
   "cell_type": "markdown",
   "metadata": {},
   "source": [
    "\\begin{align}\n",
    "\\sigma = E(t) \\left(\\varepsilon_{\\mathrm{app}}(x,t) - \\alpha \\int_0^t T^\\prime(x,\\theta) \\, \\mathrm{d}\\theta \\right) \n",
    "\\end{align}"
   ]
  },
  {
   "cell_type": "markdown",
   "metadata": {},
   "source": [
    "**Salient features of the algorithm**\n",
    "\n",
    "Non-linearity included by cracking stress \n",
    "\n",
    "- find the time and location of the next crack occurrence\n",
    "- provide a local, crack-centered solution of the cracking problem "
   ]
  }
 ],
 "metadata": {
  "kernelspec": {
   "display_name": "bmcs_env",
   "language": "python",
   "name": "bmcs_env"
  },
  "language_info": {
   "codemirror_mode": {
    "name": "ipython",
    "version": 3
   },
   "file_extension": ".py",
   "mimetype": "text/x-python",
   "name": "python",
   "nbconvert_exporter": "python",
   "pygments_lexer": "ipython3"
  },
  "toc": {
   "base_numbering": 1,
   "nav_menu": {},
   "number_sections": true,
   "sideBar": true,
   "skip_h1_title": false,
   "title_cell": "Table of Contents",
   "title_sidebar": "Contents",
   "toc_cell": false,
   "toc_position": {},
   "toc_section_display": true,
   "toc_window_display": false
  }
 },
 "nbformat": 4,
 "nbformat_minor": 4
}
