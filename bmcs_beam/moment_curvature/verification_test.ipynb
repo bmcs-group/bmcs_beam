{
 "cells": [
  {
   "cell_type": "markdown",
   "metadata": {
    "collapsed": true,
    "pycharm": {
     "name": "#%% md\n"
    }
   },
   "source": [
    "\"\"\"\n",
    "Verification with:\n",
    "Yao, Y, Mobasher, B, Wang, J, Xu, Q.\n",
    "Analytical approach for the design of flexural elements made of\n",
    "reinforced ultra‐high performance concrete. Structural Concrete. 2020; 1– 20.\n",
    "https://doi.org/10.1002/suco.201900404\n",
    "\"\"\""
   ]
  },
  {
   "cell_type": "code",
   "execution_count": 1,
   "metadata": {
    "pycharm": {
     "name": "#%%\n"
    }
   },
   "outputs": [],
   "source": [
    "import sympy as sp\n",
    "import numpy as np\n",
    "import matplotlib.pyplot as plt\n",
    "from bmcs_beam.moment_curvature.moment_curvature_ import MomentCurvature, ModelData"
   ]
  },
  {
   "cell_type": "code",
   "execution_count": 2,
   "metadata": {
    "pycharm": {
     "name": "#%%\n"
    }
   },
   "outputs": [],
   "source": [
    "# For info (left is the notation in Mobasher paper, right is notation in this file):\n",
    "# ------------------------------------------------------------------\n",
    "# E = E_ct\n",
    "# E_c = E_cc\n",
    "# E_s = E_j\n",
    "# eps_cr = eps_cr\n",
    "# eps_cu = eps_cu\n",
    "# eps_tu = eps_tu\n",
    "# eps_cy = eps_cy\n",
    "# mu = mu\n",
    "\n",
    "# gamma = E_cc/E_ct\n",
    "# omega = eps_cy/eps_cr\n",
    "# lambda_cu = eps_cu/eps_cr\n",
    "# beta_tu = eps_tu/eps_cr\n",
    "# psi = eps_sy_j/eps_cr\n",
    "# n = E_j/E_ct\n",
    "# alpha = z_j/h\n",
    "\n",
    "# r = A_s_c/A_s_t\n",
    "\n",
    "# rho_g = A_j[0]/A_c # where A_j[0] must be tension steel area\n",
    "# ------------------------------------------------------------------"
   ]
  },
  {
   "cell_type": "code",
   "execution_count": 3,
   "metadata": {
    "pycharm": {
     "name": "#%%\n"
    }
   },
   "outputs": [],
   "source": [
    "def new_concise_way():\n",
    "    mc = MomentCurvature(idx=25, n_m=100)\n",
    "\n",
    "    model_data = ModelData()\n",
    "\n",
    "    # Material parameters [mm], [N/mm2]\n",
    "    model_data.h = 666\n",
    "    model_data.E_ct = 24000\n",
    "    model_data.E_cc = 24000\n",
    "    model_data.eps_cr = 0.000125\n",
    "    model_data.eps_cy = 0.0010625  # 8.5 * eps_cr_\n",
    "    model_data.eps_cu = 0.0035\n",
    "    model_data.eps_tu = 0.02\n",
    "    model_data.mu = 0.33\n",
    "    # Defining a variable width b_z_ (T-section as an example)\n",
    "    b_w = 50\n",
    "    b_f = 500\n",
    "    h_w = 0.85 * model_data.h\n",
    "    b_z_ = sp.Piecewise((b_w, mc.mcs.z < h_w), (b_f, mc.mcs.z >= h_w))\n",
    "    model_data.b = b_z_\n",
    "    # 2 layers reinforcement details\n",
    "    model_data.A_j = np.array([250, 0])  # A_j[0] for tension steel / A_j[1] for compression steel\n",
    "    model_data.z_j = np.array([0.1 * model_data.h, 0.9 * model_data.h])\n",
    "    model_data.E_j = np.array([210000, 210000])\n",
    "    model_data.eps_sy_j = np.array([0.002, 0.002])\n",
    "\n",
    "    mc.model_data = model_data\n",
    "    # If plot_norm is used, use the following:\n",
    "    # mc.kappa_range = (0, mc.kappa_cr * 100, 100\n",
    "    mc.kappa_range = (-0.00002, 0.00002, 100)\n",
    "    \n",
    "    \n",
    "    # Plotting\n",
    "    fig, ((ax1, ax2)) = plt.subplots(1, 2, figsize=(10, 5))\n",
    "    mc.plot(ax1, ax2)\n",
    "    plt.show()"
   ]
  },
  {
   "cell_type": "code",
   "execution_count": 4,
   "metadata": {
    "pycharm": {
     "name": "#%%\n"
    }
   },
   "outputs": [
    {
     "data": {
      "image/png": "[encoded data removed]",
      "text/plain": [
       "<Figure size 720x360 with 3 Axes>"
      ]
     },
     "metadata": {
      "needs_background": "light"
     },
     "output_type": "display_data"
    }
   ],
   "source": [
    "def old_way_with_mobasher_paper_symbols():\n",
    "    # Parameters entry\n",
    "    # (Values from parametric study in paper p.11 to draw Fig. 7)\n",
    "    z = sp.Symbol('z')\n",
    "\n",
    "    E_ct_ = 24000\n",
    "    eps_cr_ = 0.000125\n",
    "    gamma_ = 1\n",
    "    omega_ = 8.5\n",
    "    lambda_cu_ = 28\n",
    "    beta_tu_ = 160\n",
    "    psi_ = 16\n",
    "    n_ = 8.75\n",
    "    alpha_ = 0.9\n",
    "\n",
    "    mu_ = 0.33\n",
    "    rho_g_ = 0.003\n",
    "    \n",
    "    # not given in paper\n",
    "    r_ = 0.0\n",
    "\n",
    "    h_ = 666\n",
    "    zeta = 0.15  # WHY USING 0.15, 0.2 ... gives wrong results!!!\n",
    "    b_w = 50  # o = 0.1\n",
    "    b_f = 500\n",
    "    h_w = (1 - zeta) * h_\n",
    "    # Substituting formulas:\n",
    "    E_cc_ = gamma_ * E_ct_\n",
    "    eps_cy_ = omega_ * eps_cr_\n",
    "    eps_cu_ = lambda_cu_ * eps_cr_\n",
    "    eps_tu_ = beta_tu_ * eps_cr_\n",
    "    eps_sy_j_ = np.array([psi_ * eps_cr_, psi_ * eps_cr_])\n",
    "    E_j_ = np.array([n_ * E_ct_, n_ * E_ct_])\n",
    "    z_j_ = np.array([h_ * (1 - alpha_), alpha_ * h_])\n",
    "    # Defining a variable b\n",
    "    b_z_ = sp.Piecewise(\n",
    "        (b_w, z < h_w),\n",
    "        (b_f, z >= h_w)\n",
    "    )\n",
    "    A_c_ = sp.integrate(b_z_, (z, 0, h_))\n",
    "    A_s_t_ = rho_g_ * A_c_\n",
    "    A_s_c_ = r_ * A_s_t_\n",
    "    A_j_ = np.array([A_s_t_, A_s_c_])  # A_j[0] must be tension steel area\n",
    "    \n",
    "    ''' Creating MomentCurvature object '''\n",
    "\n",
    "    mc = MomentCurvature(idx=25, n_m=100)\n",
    "\n",
    "    model_data = ModelData()\n",
    "    model_data.h = h_\n",
    "    model_data.E_ct = E_ct_\n",
    "    model_data.E_cc = E_cc_\n",
    "    model_data.eps_cr = eps_cr_\n",
    "    model_data.eps_cy = eps_cy_\n",
    "    model_data.eps_cu = eps_cu_\n",
    "    model_data.mu = mu_\n",
    "    model_data.eps_tu = eps_tu_\n",
    "\n",
    "    model_data.eps_sy_j = eps_sy_j_\n",
    "    model_data.z_j = z_j_\n",
    "    model_data.A_j = A_j_\n",
    "    model_data.E_j = E_j_\n",
    "\n",
    "    model_data.b = b_z_\n",
    "    \n",
    "    mc.model_data = model_data\n",
    "\n",
    "    mc.kappa_range = (-0.00002, 0.00002, 100)\n",
    "    \n",
    "    # Plotting\n",
    "    fig, ((ax1, ax2)) = plt.subplots(1, 2, figsize=(10, 5))\n",
    "    mc.plot(ax1, ax2)\n",
    "    plt.show()\n",
    "\n",
    "\n",
    "if __name__ == '__main__':\n",
    "    new_concise_way()\n",
    "    # old_way_with_mobasher_paper_symbols()"
   ]
  }
 ],
 "metadata": {
  "kernelspec": {
   "display_name": "Python 3",
   "language": "python",
   "name": "python3"
  },
  "language_info": {
   "codemirror_mode": {
    "name": "ipython",
    "version": 3
   },
   "file_extension": ".py",
   "mimetype": "text/x-python",
   "name": "python",
   "nbconvert_exporter": "python",
   "pygments_lexer": "ipython3",
   "version": "3.8.3"
  }
 },
 "nbformat": 4,
 "nbformat_minor": 1
}