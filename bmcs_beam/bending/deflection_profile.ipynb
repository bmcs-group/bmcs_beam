{
 "cells": [
  {
   "cell_type": "markdown",
   "metadata": {},
   "source": [
    "# Deflection profile interactive model"
   ]
  },
  {
   "cell_type": "code",
   "execution_count": 20,
   "metadata": {
    "scrolled": false
   },
   "outputs": [
    {
     "data": {
      "application/vnd.jupyter.widget-view+json": {
       "model_id": "784f243dfb8d465ab8c5524dd769582a",
       "version_major": 2,
       "version_minor": 0
      },
      "text/plain": [
       "VBox(children=(Output(), Tab(children=(VBox(children=(GridBox(children=(IntText(value=100, description='\\\\(n_x…"
      ]
     },
     "metadata": {},
     "output_type": "display_data"
    },
    {
     "data": {
      "text/plain": [
       "19.202263342363743"
      ]
     },
     "execution_count": 20,
     "metadata": {},
     "output_type": "execute_result"
    }
   ],
   "source": [
    "%matplotlib widget\n",
    "\n",
    "from bmcs_cross_section.mkappa import MKappa\n",
    "import numpy as np\n",
    "from bmcs_beam.bending.deflection_profile import DeflectionProfile\n",
    "import bmcs_utils.api as bu\n",
    "\n",
    "mc = MKappa(low_kappa=-0.000014, high_kappa=0.00003)\n",
    "bd = mc.beam_design\n",
    "css = bd.cross_section_shape\n",
    "csl = bd.cross_section_layout\n",
    "csl.reinforcement.z_j = [50]\n",
    "csl.reinforcement.A_j = [3 * 3.14 * (14 / 2.) ** 2]\n",
    "csl.matrix.E_cc = 39000\n",
    "csl.matrix.E_ct = 39000\n",
    "css.H = 135\n",
    "css.b = 600\n",
    "dp = DeflectionProfile(mc=mc)\n",
    "bu.InteractiveWindow([dp, dp.bc, dp.mc], tight_layout=True).interact()\n",
    "\n",
    "F, w = dp.get_Fw()\n",
    "np.interp(12000, F, w)"
   ]
  },
  {
   "cell_type": "code",
   "execution_count": 21,
   "metadata": {
    "pycharm": {
     "name": "#%%\n"
    }
   },
   "outputs": [
    {
     "data": {
      "application/vnd.jupyter.widget-view+json": {
       "model_id": "1f21925dc9874d9a92eb6fb441442c3e",
       "version_major": 2,
       "version_minor": 0
      },
      "text/plain": [
       "Canvas(toolbar=Toolbar(toolitems=[('Home', 'Reset original view', 'home', 'home'), ('Back', 'Back to previous …"
      ]
     },
     "metadata": {},
     "output_type": "display_data"
    },
    {
     "data": {
      "text/plain": [
       "19.202263342363743"
      ]
     },
     "execution_count": 21,
     "metadata": {},
     "output_type": "execute_result"
    }
   ],
   "source": [
    "import matplotlib.pylab as plt\n",
    "import numpy as np\n",
    "fig, ax = plt.subplots(1,1)\n",
    "F, w = dp.get_Fw()\n",
    "ax.plot(w, F);\n",
    "ax.scatter(np.interp(12000,F,w), 12000 , c = 'red')\n",
    "np.interp(12000,F,w)"
   ]
  }
 ],
 "metadata": {
  "kernelspec": {
   "display_name": "Python 3",
   "language": "python",
   "name": "python3"
  },
  "language_info": {
   "codemirror_mode": {
    "name": "ipython",
    "version": 3
   },
   "file_extension": ".py",
   "mimetype": "text/x-python",
   "name": "python",
   "nbconvert_exporter": "python",
   "pygments_lexer": "ipython3",
   "version": "3.7.9"
  },
  "toc": {
   "base_numbering": 1,
   "nav_menu": {},
   "number_sections": true,
   "sideBar": true,
   "skip_h1_title": false,
   "title_cell": "Table of Contents",
   "title_sidebar": "Contents",
   "toc_cell": false,
   "toc_position": {},
   "toc_section_display": true,
   "toc_window_display": false
  }
 },
 "nbformat": 4,
 "nbformat_minor": 1
}