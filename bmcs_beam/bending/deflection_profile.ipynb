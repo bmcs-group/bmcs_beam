{
 "cells": [
  {
   "cell_type": "markdown",
   "metadata": {},
   "source": [
    "# Deflection profile interactive model"
   ]
  },
  {
   "cell_type": "code",
   "execution_count": null,
   "metadata": {},
   "outputs": [],
   "source": [
    "%matplotlib widget\n",
    "\n",
    "from numbers import Number\n",
    "import sympy as sp\n",
    "import numpy as np\n",
    "\n",
    "from bmcs_cross_section.mkappa import MKappa\n",
    "from bmcs_beam.bending.deflection_profile_new import DeflectionProfile\n",
    "from bmcs_beam.beam_config.beam_design_new import BeamDesign\n",
    "import bmcs_utils.api as bu\n",
    "\n",
    "mc = MKappa(low_kappa=-0.000014, high_kappa=0.00003)\n",
    "mc.cs_design.cross_section_layout.reinforcement.z_j = [10]\n",
    "dp = DeflectionProfile(mc=mc)\n",
    "\n",
    "bu.InteractiveWindow([dp, \n",
    "                      dp.beam_design, \n",
    "                      dp.mc, \n",
    "                      dp.mc.cs_design.cross_section_shape, \n",
    "                      dp.mc.cs_design.cross_section_layout], tight_layout=True).interact()"
   ]
  },
  {
   "cell_type": "code",
   "execution_count": null,
   "metadata": {},
   "outputs": [],
   "source": [
    "import matplotlib.pylab as plt\n",
    "fig, ax = plt.subplots(1,1)\n",
    "F, w = dp.get_Fw()\n",
    "ax.plot(w, F)"
   ]
  },
  {
   "cell_type": "code",
   "execution_count": null,
   "metadata": {},
   "outputs": [],
   "source": []
  }
 ],
 "metadata": {
  "kernelspec": {
   "display_name": "bmcs_env",
   "language": "python",
   "name": "bmcs_env"
  },
  "language_info": {
   "codemirror_mode": {
    "name": "ipython",
    "version": 3
   },
   "file_extension": ".py",
   "mimetype": "text/x-python",
   "name": "python",
   "nbconvert_exporter": "python",
   "pygments_lexer": "ipython3",
   "version": "3.9.0"
  },
  "toc": {
   "base_numbering": 1,
   "nav_menu": {},
   "number_sections": true,
   "sideBar": true,
   "skip_h1_title": false,
   "title_cell": "Table of Contents",
   "title_sidebar": "Contents",
   "toc_cell": false,
   "toc_position": {},
   "toc_section_display": true,
   "toc_window_display": false
  }
 },
 "nbformat": 4,
 "nbformat_minor": 1
}
