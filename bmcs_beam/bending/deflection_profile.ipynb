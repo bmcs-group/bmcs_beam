{
 "cells": [
  {
   "cell_type": "markdown",
   "metadata": {},
   "source": [
    "# Deflection profile interactive model"
   ]
  },
  {
   "cell_type": "code",
   "execution_count": 1,
   "metadata": {},
   "outputs": [
    {
     "name": "stdout",
     "output_type": "stream",
     "text": [
      "M - k recalculated\n"
     ]
    },
    {
     "data": {
      "application/vnd.jupyter.widget-view+json": {
       "model_id": "28aa29c1e9e6469cb9591e5dfff3d80e",
       "version_major": 2,
       "version_minor": 0
      },
      "text/plain": [
       "HBox(children=(VBox(children=(Tree(layout=Layout(align_items='stretch', border='solid 1px black', display='fle…"
      ]
     },
     "metadata": {},
     "output_type": "display_data"
    }
   ],
   "source": [
    "%matplotlib widget\n",
    "from bmcs_cross_section.mkappa import MKappa\n",
    "from bmcs_cross_section.cs_design import TShape, BarLayer\n",
    "from bmcs_cross_section.matmod import PWLConcreteMatMod, EC2ConcreteMatMod\n",
    "from bmcs_beam.bending.deflection_profile import DeflectionProfile\n",
    "from bmcs_beam.beam_config.beam_design import BeamDesign\n",
    "import bmcs_utils.api as bu\n",
    "\n",
    "mc = MKappa(low_kappa=-0.000003, high_kappa=0.00003, n_kappa=100)\n",
    "mc.matrix = 'piecewise linear'\n",
    "#mc.matrix = EC2ConcreteMatMod()\n",
    "css = mc.cross_section_shape = 'T-shape'\n",
    "csl = mc.cross_section_layout\n",
    "bl = BarLayer(z=10, ds=10, count=2 )\n",
    "csl.add_layer(bl)\n",
    "dp = DeflectionProfile(mc=mc)\n",
    "\n",
    "dp.interact(tight_layout=True, figsize=(7,4))"
   ]
  },
  {
   "cell_type": "code",
   "execution_count": 5,
   "metadata": {},
   "outputs": [
    {
     "data": {
      "application/vnd.jupyter.widget-view+json": {
       "model_id": "9973fa909d9543dd9fcc7feb6b3fa8bf",
       "version_major": 2,
       "version_minor": 0
      },
      "text/plain": [
       "Canvas(toolbar=Toolbar(toolitems=[('Home', 'Reset original view', 'home', 'home'), ('Back', 'Back to previous …"
      ]
     },
     "metadata": {},
     "output_type": "display_data"
    },
    {
     "data": {
      "text/plain": [
       "[<matplotlib.lines.Line2D at 0x7ff6c41768e0>]"
      ]
     },
     "execution_count": 5,
     "metadata": {},
     "output_type": "execute_result"
    }
   ],
   "source": [
    "import matplotlib.pylab as plt\n",
    "fig, ax = plt.subplots(1,1)\n",
    "F, w = dp.get_Fw()\n",
    "ax.plot(w, F)"
   ]
  },
  {
   "cell_type": "code",
   "execution_count": null,
   "metadata": {},
   "outputs": [],
   "source": []
  },
  {
   "cell_type": "code",
   "execution_count": null,
   "metadata": {},
   "outputs": [],
   "source": []
  }
 ],
 "metadata": {
  "kernelspec": {
   "display_name": "bmcs_env",
   "language": "python",
   "name": "bmcs_env"
  },
  "language_info": {
   "codemirror_mode": {
    "name": "ipython",
    "version": 3
   },
   "file_extension": ".py",
   "mimetype": "text/x-python",
   "name": "python",
   "nbconvert_exporter": "python",
   "pygments_lexer": "ipython3",
   "version": "3.9.2"
  },
  "toc": {
   "base_numbering": 1,
   "nav_menu": {},
   "number_sections": true,
   "sideBar": true,
   "skip_h1_title": false,
   "title_cell": "Table of Contents",
   "title_sidebar": "Contents",
   "toc_cell": false,
   "toc_position": {},
   "toc_section_display": true,
   "toc_window_display": false
  }
 },
 "nbformat": 4,
 "nbformat_minor": 4
}
