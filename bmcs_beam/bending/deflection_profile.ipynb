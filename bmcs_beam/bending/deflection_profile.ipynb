{
 "cells": [
  {
   "cell_type": "markdown",
   "metadata": {},
   "source": [
    "# Deflection profile interactive model"
   ]
  },
  {
   "cell_type": "code",
   "execution_count": 3,
   "metadata": {
    "scrolled": false
   },
   "outputs": [
    {
     "name": "stdout",
     "output_type": "stream",
     "text": [
      "Solve for eps_bot_t\n"
     ]
    },
    {
     "data": {
      "text/plain": "VBox(children=(Output(), Tab(children=(VBox(children=(GridBox(children=(IntText(value=100, description='\\\\(n_x…",
      "application/vnd.jupyter.widget-view+json": {
       "version_major": 2,
       "version_minor": 0,
       "model_id": "3e558264319e4c70adab387cb7af8e33"
      }
     },
     "metadata": {},
     "output_type": "display_data"
    }
   ],
   "source": [
    "%matplotlib widget\n",
    "\n",
    "from bmcs_cross_section.mkappa import MKappa\n",
    "\n",
    "from bmcs_beam.bending.deflection_profile import DeflectionProfile\n",
    "import bmcs_utils.api as bu\n",
    "\n",
    "mc = MKappa(low_kappa=-0.000014, high_kappa=0.00003)\n",
    "bd = mc.beam_design\n",
    "css = bd.cross_section_shape\n",
    "csl = bd.cross_section_layout\n",
    "csl.reinforcement.z_j = [10]\n",
    "dp = DeflectionProfile(mc=mc)\n",
    "bu.InteractiveWindow([dp, dp.bc, dp.mc], tight_layout=True).interact()"
   ]
  },
  {
   "cell_type": "code",
   "execution_count": 4,
   "metadata": {
    "pycharm": {
     "name": "#%%\n"
    }
   },
   "outputs": [
    {
     "data": {
      "text/plain": "Canvas(toolbar=Toolbar(toolitems=[('Home', 'Reset original view', 'home', 'home'), ('Back', 'Back to previous …",
      "application/vnd.jupyter.widget-view+json": {
       "version_major": 2,
       "version_minor": 0,
       "model_id": "97874a0f82144b6cb07bd9e95688fadf"
      }
     },
     "metadata": {},
     "output_type": "display_data"
    }
   ],
   "source": [
    "import matplotlib.pylab as plt\n",
    "fig, ax = plt.subplots(1,1)\n",
    "F, w = dp.get_Fw()\n",
    "ax.plot(w, F);\n",
    "\n"
   ]
  }
 ],
 "metadata": {
  "kernelspec": {
   "display_name": "bmcs_env",
   "language": "python",
   "name": "bmcs_env"
  },
  "language_info": {
   "codemirror_mode": {
    "name": "ipython",
    "version": 3
   },
   "file_extension": ".py",
   "mimetype": "text/x-python",
   "name": "python",
   "nbconvert_exporter": "python",
   "pygments_lexer": "ipython3",
   "version": "3.9.0"
  },
  "toc": {
   "base_numbering": 1,
   "nav_menu": {},
   "number_sections": true,
   "sideBar": true,
   "skip_h1_title": false,
   "title_cell": "Table of Contents",
   "title_sidebar": "Contents",
   "toc_cell": false,
   "toc_position": {},
   "toc_section_display": true,
   "toc_window_display": false
  }
 },
 "nbformat": 4,
 "nbformat_minor": 1
}