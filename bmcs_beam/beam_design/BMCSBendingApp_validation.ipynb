{
 "cells": [
  {
   "cell_type": "markdown",
   "metadata": {},
   "source": [
    "Validation\n",
    "Reference: \n",
    "\n",
    "@article{Yao.2020,\n",
    " abstract = {Structural Concrete 0.0:null-null},\n",
    " author = {Yao, Yiming and Mobasher, Barzin and Wang, Jingquan and Xu, Qizhi},\n",
    " year = {2020},\n",
    " title = {Analytical approach for the design of flexural elements made of reinforced ultra--high performance concrete},\n",
    " issn = {1464-4177},\n",
    " journal = {Structural Concrete},\n",
    " doi = {10.1002/suco.201900404},\n",
    "}\n"
   ]
  },
  {
   "cell_type": "code",
   "execution_count": 1,
   "metadata": {},
   "outputs": [
    {
     "name": "stderr",
     "output_type": "stream",
     "text": [
      "UsageError: Cell magic `%%ja` not found.\n"
     ]
    }
   ],
   "source": [
    "%%ja"
   ]
  },
  {
   "cell_type": "code",
   "execution_count": 2,
   "metadata": {},
   "outputs": [],
   "source": [
    "%matplotlib widget\n",
    "\n",
    "from bmcs_beam.moment_curvature.moment_curvature import MomentCurvature\n",
    "from bmcs_beam.beam_design.boundary_conditions import BoundaryConditions\n",
    "from bmcs_beam.beam_design.mq_profile import MQPProfile\n",
    "from bmcs_beam.beam_design.mk_profile import MomentCurvatureProfile\n",
    "from bmcs_beam.beam_design.deflection_profile import DeflectionProfile\n",
    "from bmcs_utils.api import InteractiveWindow\n",
    "from sympy.physics.continuum_mechanics.beam import Beam"
   ]
  },
  {
   "cell_type": "code",
   "execution_count": 3,
   "metadata": {},
   "outputs": [
    {
     "data": {
      "application/vnd.jupyter.widget-view+json": {
       "model_id": "3152104564ed4f589db740c1d234f887",
       "version_major": 2,
       "version_minor": 0
      },
      "text/plain": [
       "VBox(children=(Output(), Tab(children=(GridBox(children=(FloatText(value=200.0, description='H [mm]'), FloatTe…"
      ]
     },
     "metadata": {},
     "output_type": "display_data"
    }
   ],
   "source": [
    "mc = MomentCurvature()\n",
    "\n",
    "mc_profile = MomentCurvatureProfile(mc = mc)\n",
    "\n",
    "deflection_profile = DeflectionProfile(mc = mc)\n",
    "\n",
    "windows = InteractiveWindow([mc.cross_section_shape,\n",
    "                             mc.cross_section_layout,\n",
    "                             mc.beam_design,\n",
    "                             BoundaryConditions(),  # deflection_profile.boundary_conditions\n",
    "                             MQPProfile(),         # deflection_profile.beam_bending\n",
    "                             mc_profile,            # TODO: replace this with mc later\n",
    "                             #deflection_profile,        # debugging is needed in the momentcurvature package                     \n",
    "                             ])\n",
    "windows.interact()"
   ]
  },
  {
   "cell_type": "code",
   "execution_count": null,
   "metadata": {},
   "outputs": [],
   "source": []
  }
 ],
 "metadata": {
  "kernelspec": {
   "display_name": "Python 3",
   "language": "python",
   "name": "python3"
  },
  "language_info": {
   "codemirror_mode": {
    "name": "ipython",
    "version": 3
   },
   "file_extension": ".py",
   "mimetype": "text/x-python",
   "name": "python",
   "nbconvert_exporter": "python",
   "pygments_lexer": "ipython3",
   "version": "3.7.6"
  },
  "toc": {
   "base_numbering": 1,
   "nav_menu": {},
   "number_sections": true,
   "sideBar": true,
   "skip_h1_title": false,
   "title_cell": "Table of Contents",
   "title_sidebar": "Contents",
   "toc_cell": false,
   "toc_position": {},
   "toc_section_display": true,
   "toc_window_display": false
  }
 },
 "nbformat": 4,
 "nbformat_minor": 1
}
