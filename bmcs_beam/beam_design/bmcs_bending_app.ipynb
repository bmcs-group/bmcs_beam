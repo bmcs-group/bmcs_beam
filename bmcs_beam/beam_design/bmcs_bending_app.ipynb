{
 "cells": [
  {
   "cell_type": "code",
   "execution_count": 4,
   "metadata": {},
   "outputs": [],
   "source": [
    "%matplotlib widget\n",
    "\n",
    "from bmcs_beam.moment_curvature.moment_curvature import MomentCurvature\n",
    "from bmcs_beam.beam_design.boundary_conditions import BoundaryConditions\n",
    "from bmcs_beam.beam_design.mq_profile import MQPProfile\n",
    "from bmcs_beam.beam_design.mk_profile import MomentCurvatureProfile\n",
    "from bmcs_beam.beam_design.deflection_profile import DeflectionProfile\n",
    "from bmcs_utils.api import InteractiveWindow\n",
    "from sympy.physics.continuum_mechanics.beam import Beam"
   ]
  },
  {
   "cell_type": "code",
   "execution_count": 5,
   "metadata": {
    "scrolled": false
   },
   "outputs": [
    {
     "data": {
      "application/vnd.jupyter.widget-view+json": {
       "model_id": "8ab82aee6a2e47d68145d49a0d219dd8",
       "version_major": 2,
       "version_minor": 0
      },
      "text/plain": [
       "VBox(children=(Output(), Tab(children=(VBox(children=(GridBox(children=(FloatText(value=200.0, description='\\\\…"
      ]
     },
     "metadata": {},
     "output_type": "display_data"
    }
   ],
   "source": [
    "mc = MomentCurvature()\n",
    "css = mc.cross_section_shape\n",
    "csl = mc.cross_section_layout\n",
    "bd = mc.beam_design\n",
    "bc = BoundaryConditions(beam_design = bd)\n",
    "dp = DeflectionProfile(mc = mc)\n",
    "mqp = MQPProfile(mc = mc)\n",
    "bd = mc.beam_design\n",
    "css = bd.cross_section_shape\n",
    "csl = bd.cross_section_layout\n",
    "\n",
    "InteractiveWindow([css, csl, bd, bc, mqp, mc]).interact()"
   ]
  }
 ],
 "metadata": {
  "kernelspec": {
   "display_name": "Python 3",
   "language": "python",
   "name": "python3"
  },
  "language_info": {
   "codemirror_mode": {
    "name": "ipython",
    "version": 3
   },
   "file_extension": ".py",
   "mimetype": "text/x-python",
   "name": "python",
   "nbconvert_exporter": "python",
   "pygments_lexer": "ipython3",
   "version": "3.8.3"
  }
 },
 "nbformat": 4,
 "nbformat_minor": 1
}
